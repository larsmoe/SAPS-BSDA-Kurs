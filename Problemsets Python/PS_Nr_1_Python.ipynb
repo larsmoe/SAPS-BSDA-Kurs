{
 "cells": [
  {
   "cell_type": "markdown",
   "metadata": {},
   "source": [
    "# Exercise 1"
   ]
  },
  {
   "cell_type": "markdown",
   "metadata": {},
   "source": [
    "Willkommen zum ersten RTutor-Problem Set in diesem Modul! Sie finden hier vier Aufgaben (*Exercises*) zu Inhalten aus Kapitel 3 *Social Network Analysis* - konkret zu 3.1. Die Reihenfolge der Aufgaben entspricht dabei im Wesentlichen der Reihenfolge der Inhalte im Skript. Aus diesem Grund, aber auch da die die Inhalte zu R im Laufe des Problem Sets aufeinander aufbauen, empfiehlt es sich, die Reihenfolge der Aufgaben einzuhalten."
   ]
  },
  {
   "cell_type": "markdown",
   "metadata": {},
   "source": []
  },
  {
   "cell_type": "markdown",
   "metadata": {},
   "source": [
    "###PLACEHOLDER###"
   ]
  },
  {
   "cell_type": "markdown",
   "metadata": {},
   "source": [
    "## Ein erster Einblick"
   ]
  },
  {
   "cell_type": "markdown",
   "metadata": {},
   "source": [
    "###PLACEHOLDER###"
   ]
  },
  {
   "cell_type": "code",
   "execution_count": 1,
   "metadata": {},
   "outputs": [],
   "source": [
    "# Lade die library igraph\n",
    "from igraph import *\n",
    "import cairo"
   ]
  },
  {
   "cell_type": "code",
   "execution_count": 2,
   "metadata": {},
   "outputs": [],
   "source": [
    "# Vollständiger Graph mit 40 Knoten\n",
    "fg = Graph.Full(n=40, directed=False, loops=False)\n",
    "plot(fg).show()\n",
    "\n",
    "# Baum mit 40 Knoten\n",
    "tr = Graph.Tree(n=40, children=3, mode='undirected')\n",
    "plot(tr).show()\n",
    "\n",
    "# Erdos-Renyi Zufallsgraph\n",
    "er = Graph.Erdos_Renyi(n=100, m=40, directed=False, loops=False)\n",
    "plot(er).show()\n",
    "\n",
    "# Watts-Strogatz Small-World-Graph\n",
    "sw = Graph.Watts_Strogatz(dim=2, size=10, nei=1, p=0.1, loops=False, multiple=False)\n",
    "plot(sw, layout='circle').show()\n",
    "\n",
    "# Barabasi-Alberts Modell für skalenfreie Graphen\n",
    "ba = Graph.Barabasi(n=100, m=1, power=1, directed=False)\n",
    "plot(ba).show()"
   ]
  },
  {
   "cell_type": "markdown",
   "metadata": {},
   "source": [
    "## Aufbau dieses Problem Sets"
   ]
  },
  {
   "cell_type": "markdown",
   "metadata": {},
   "source": [
    "Im Verlauf dieses Moduls werden Sie mehrere Problem Sets erhalten. Dieses erste Problem Set widmet sich den Möglichkeiten, R auf den Inhalt des Kapitels 3.1 des Skripts anzuwenden. Es orientiert sich am Skript und ist konkret wie folgt gegliedert:\n",
    "\n",
    "* *Aufgabe 2* -- Modellierung und graphische Darstellung von Netzwerken \n",
    "* *Aufgabe 3* -- Weitere Arten von Netzwerken \n",
    "* *Aufgabe 4* -- Pfade und Entfernungen in Netzwerken \n",
    "\n",
    "Zu den restlichen Inhalten aus Kapitel 3 werden Sie in späteren Problem Sets weitere Aufgaben erhalten:\n",
    "\n",
    "* *Aufgabe 5* -- Kennzahlen zur Beschreibung von Netzwerken \n",
    "* *Aufgabe 6* -- Zentralität in Netzwerken \n",
    "* *Aufgabe 7* -- Communities in Netzwerken\n",
    "* *Aufgabe 8* -- Information Diffusion in Netzwerken\n",
    "\n",
    "Bezüglich des Codes ist jede der Aufgaben (*Exercises*) unabhängig von den anderen Aufgaben. Das heißt, Sie müssen das Problem Set nicht an einem Stück bearbeiten, sondern können die Aufgaben zeitlich versetzt lösen. Wie bereits erläutert empfiehlt es sich dennoch, die Reihenfolge bei der Bearbeitung einzuhalten. Beachten Sie bitte, dass Sie innerhalb einer Aufgabe die enthaltenen *Code-Chunks* in der vorgegebenen Reihenfolge bearbeiten müssen."
   ]
  },
  {
   "cell_type": "markdown",
   "metadata": {},
   "source": [
    "# Exercise 2"
   ]
  },
  {
   "cell_type": "markdown",
   "metadata": {},
   "source": [
    "Im letzten Kapitel haben Sie einige verschiedene Graphen mit dem Package *'igraph'* erzeugt und visualisiert - und damit einen ersten Eindruck erhalten, wozu das Package *'igraph'* in der Lage ist. In diesem Kapitel erlernen Sie nun die grundlegenden Befehle, um selbst Graphen zu erzeugen und zu zeichnen. Diese Aufgabe ist angelehnt an den Workshop von Ognyanova (2016a) (<http://www.kateto.net/netscix2016>).\n",
    "\n",
    "*Anmerkung: Im Package 'igraph' werden Objekte, die Netzwerke repräsentieren, als \"Graphen\" bezeichnet.*"
   ]
  },
  {
   "cell_type": "markdown",
   "metadata": {},
   "source": [
    "## Graphen manuell erzeugen"
   ]
  },
  {
   "cell_type": "markdown",
   "metadata": {},
   "source": [
    "Eine Darstellungsmöglichkeit von Netzwerken sind **Graphen**. In der Theorie wird ein Graph $G$ durch die Menge der Knoten $N$ und die Menge der Kanten $L$ definiert:  \n",
    "$$G:= (N,L)$$"
   ]
  },
  {
   "cell_type": "markdown",
   "metadata": {},
   "source": [
    "$$N:=\\{n_1, ..., n_{|N|}\\}$$"
   ]
  },
  {
   "cell_type": "markdown",
   "metadata": {},
   "source": [
    "$$L:=\\{ l_1, l_2, ..., l_{|L|} \\}$$"
   ]
  },
  {
   "cell_type": "markdown",
   "metadata": {},
   "source": [
    "Gerichtete Kanten werden dabei als Tupel $l_k=(n_i,n_j)$, ungerichtete Kanten als Mengen $l_k=\\{n_i,n_j\\}$ notiert.\n",
    "\n",
    "Wenn das Netzwerk eine überschaubare Größe besitzt, so kann man einen Graphen in R von Hand definieren. Dazu verwendet man den Befehl *make_graph(edges, n)*. Analog zur Theorie müssen dabei als Argumente die Menge der Kanten, genannt *edges*, sowie die Anzahl der Knoten *n* angegeben werden. Per default wird so ein gerichteter Graph erzeugt.  \n",
    "Bitte beachten Sie, dass das Argument *n* nicht notwendig ist, falls jeder Knoten an mindestens einer Kante beteiligt ist. \n",
    "*Um Komplikationen zu vermeiden, wird im Rahmen dieses Problem Sets der Befehl make_graph immer mit dem Argument n verwendet. Die einzige Ausnahme (benannte Knoten) werden Sie weiter unten in dieser Teilaufgabe kennenlernen.*\n",
    "\n",
    "Der folgende Code-Chunk zeigt beispielhaft die Erstellung eines **gerichteten Graphen** mit vier Knoten, bei dem eine Verbindung von Knoten 1 zu Knoten 2, von Knoten 2 zu Knoten 3 und von Knoten 3 zu Knoten 1 besteht. Der Befehl *plot(x)* (oder auch *plot.igraph(x)*) zeichnet den Graphen *x*. Betrachten Sie den Code und führen Sie ihn aus."
   ]
  },
  {
   "cell_type": "code",
   "execution_count": 3,
   "metadata": {},
   "outputs": [],
   "source": [
    "#Erstellung eines Graphen mit 4 Knoten, von denen die Knoten 1, 2 und 3\n",
    "#miteinander verbunden sind\n",
    "graph_example = Graph(n=4, edges=[(0,1),(1,2),(2,0)], directed=True)\n",
    "#Plotten des Graphen graph_example\n",
    "plot(graph_example, vertex_label = range(1, graph_example.vcount()+1)).show()"
   ]
  },
  {
   "cell_type": "markdown",
   "metadata": {},
   "source": [
    "Wie Sie sehen, wird die Menge der Kanten im Befehl *make_graph* durch einen Vektor dargestellt, bei dem die Anfangs- und Endknoten der einzelnen Kanten durch Kommata getrennt nacheinander aufgelistet werden.  \n",
    "- - -\n",
    "*Aufgabe:* Im Folgenden ist es nun Ihre Aufgabe, einen solchen gerichteten Graphen zu erstellen. Der Graph soll fünf Knoten enthalten, wobei jeweils eine Verbindung vom Knoten 1 zu den Knoten 2, 3 und 4, sowie eine Verbindung von Knoten 3 zu Knoten 5 besteht. Zeichnen Sie im Anschluss daran den Graphen und führen Sie den Code aus. Bitte beachten Sie, dass Sie die Kanten genau in der Reihenfolge wie beschrieben angeben müssen, damit RTutor Ihre Lösung als korrekt erkennt. Falls Sie Hilfe benötigen, können Sie den *Hint-Button* verwenden."
   ]
  },
  {
   "cell_type": "code",
   "execution_count": 4,
   "metadata": {},
   "outputs": [],
   "source": [
    "#Erstellen Sie einen Graph wie oben beschrieben und speichern Sie ihn in der Variable graph_d1\n",
    "graph_d1 = Graph(n=5, edges=[(0,1), (0,2), (0,3), (2,4)], directed=True)\n",
    "#Plotten Sie nun den Graphen graph_d1\n",
    "plot(graph_d1, vertex_label = range(1, graph_d1.vcount()+1)).show()"
   ]
  },
  {
   "cell_type": "markdown",
   "metadata": {},
   "source": [
    "Um einen **ungerichteten Graphen** zu erzeugen, muss das zusätzliche Argument *directed* auf *FALSE* gesetzt werden.  \n",
    "- - -\n",
    "*Aufgabe:* Erstellen Sie im folgenden Code-Chunk denjenigen Graphen, welcher entsteht, wenn Sie jede gerichtete Kante des obigen Graphen durch eine ungerichtete Kante ersetzen. Speichern Sie den Graphen in der Variable *graph_ud1* und zeichnen Sie diesen ungerichteten Graphen anschließend.\n",
    "- - -"
   ]
  },
  {
   "cell_type": "code",
   "execution_count": 5,
   "metadata": {},
   "outputs": [],
   "source": [
    "#Erstellen Sie den in der Aufgabenstellung beschriebenen ungerichteten Graphen\n",
    "#und speichern Sie ihn anschließend in der Variable graph_ud1\n",
    "graph_ud1 = Graph(n = 5, edges=[(0,1), (0,2), (0,3), (2,4)], directed=False)\n",
    "#Plotten Sie den Graphen graph_ud1\n",
    "plot(graph_ud1, vertex_label = range(1, graph_ud1.vcount()+1)).show()"
   ]
  },
  {
   "cell_type": "markdown",
   "metadata": {},
   "source": [
    "Die Darstellung der Kanten im Character-Vektor ist teilweise nicht sehr übersichtlich. Falls nur wenige Kanten existieren, mag es daher sinnvoll sein, den Befehl *graph_from_literal* zu verwenden. Hier werden die Kanten folgendermaßen dargestellt: Ein Bindestrich (-) steht für eine ungerichtete Kante, ein Bindestrich zusammen mit einem Plus (-+) steht für eine gerichtete Kante, wobei der Pfeil in die Richtung zeigt, auf der das Plus steht. Der folgende Code-Chunk zeigt ein Beispiel für diese Art, einen Graph zu erstellen. Betrachten Sie den Code und führen Sie ihn anschließend aus."
   ]
  },
  {
   "cell_type": "code",
   "execution_count": 6,
   "metadata": {},
   "outputs": [
    {
     "ename": "NameError",
     "evalue": "name 'graph_from_literal' is not defined",
     "output_type": "error",
     "traceback": [
      "\u001B[1;31m---------------------------------------------------------------------------\u001B[0m",
      "\u001B[1;31mNameError\u001B[0m                                 Traceback (most recent call last)",
      "\u001B[1;32m<ipython-input-6-b0679f71cdaf>\u001B[0m in \u001B[0;36m<module>\u001B[1;34m\u001B[0m\n\u001B[0;32m      1\u001B[0m \u001B[1;31m#Erstelle einen Graphen mit symbolischer Notation\u001B[0m\u001B[1;33m\u001B[0m\u001B[1;33m\u001B[0m\u001B[1;33m\u001B[0m\u001B[0m\n\u001B[1;32m----> 2\u001B[1;33m \u001B[0mgraph_s1\u001B[0m \u001B[1;33m=\u001B[0m \u001B[0mgraph_from_literal\u001B[0m\u001B[1;33m(\u001B[0m\u001B[1;36m1\u001B[0m\u001B[1;33m-\u001B[0m\u001B[1;33m+\u001B[0m\u001B[1;36m2\u001B[0m\u001B[1;33m,\u001B[0m \u001B[1;36m2\u001B[0m\u001B[1;33m-\u001B[0m\u001B[1;33m+\u001B[0m\u001B[1;36m3\u001B[0m\u001B[1;33m,\u001B[0m \u001B[1;36m3\u001B[0m\u001B[1;33m-\u001B[0m\u001B[1;33m+\u001B[0m\u001B[1;36m1\u001B[0m\u001B[1;33m)\u001B[0m\u001B[1;33m\u001B[0m\u001B[1;33m\u001B[0m\u001B[0m\n\u001B[0m\u001B[0;32m      3\u001B[0m \u001B[1;31m#Plotte den Graphen graph_s1\u001B[0m\u001B[1;33m\u001B[0m\u001B[1;33m\u001B[0m\u001B[1;33m\u001B[0m\u001B[0m\n\u001B[0;32m      4\u001B[0m \u001B[0mplot\u001B[0m\u001B[1;33m(\u001B[0m\u001B[0mx\u001B[0m \u001B[1;33m=\u001B[0m \u001B[0mgraph_s1\u001B[0m\u001B[1;33m)\u001B[0m\u001B[1;33m\u001B[0m\u001B[1;33m\u001B[0m\u001B[0m\n\u001B[0;32m      5\u001B[0m \u001B[1;33m\u001B[0m\u001B[0m\n",
      "\u001B[1;31mNameError\u001B[0m: name 'graph_from_literal' is not defined"
     ]
    }
   ],
   "source": [
    "#Erstelle einen Graphen mit symbolischer Notation\n",
    "graph_s1 = graph_from_literal(1-+2, 2-+3, 3-+1)\n",
    "#Plotte den Graphen graph_s1\n",
    "plot(x = graph_s1)"
   ]
  },
  {
   "cell_type": "markdown",
   "metadata": {},
   "source": [
    "Wenn Sie möchten, dass die Knoten des Graphen nicht nur Nummern, sondern **Namen** erhalten, so können Sie dies folgendermaßen erreichen: Bei der Anwendung des Befehls *make_graph* verwenden Sie im Argument *edges*, welches die Kanten des Graphen beschreibt, nicht Zahlen, sondern stattdessen die Namen der Knoten in Anführungszeichen.  \n",
    "Betrachten wir nun die drei Jungs *Mike*, *Michael* und *Max*: Mike ist mit Max und mit Michael befreundet. Zwischen Michael und Max besteht keine direkte Beziehung.  \n",
    "- - -\n",
    "*Aufgabe:* Zeichnen Sie einen ungerichteten Graphen, der die Freundschaftsbeziehungen zwischen Mike, Michael und Max beschreibt. Beachten Sie dabei, dass das Argument *n*, welches die Anzahl der Knoten angibt, bei Graphen mit benannten Knoten nicht benötigt wird und vergessen Sie nicht die Anführungszeichen für die Namen. Speichern Sie den Graphen in der Variable *graph_n1* und zeichnen Sie ihn.  \n",
    "- - -\n",
    "*Anmerkung: Sie werden sehen, dass der entstandene Plot nicht sehr schön gestaltet ist. Welche Möglichkeiten der plot-Befehl bietet, um Plots schöner zu gestalten, lernen Sie in Abschnitt d) dieser Aufgabe.*"
   ]
  },
  {
   "cell_type": "code",
   "execution_count": 7,
   "metadata": {},
   "outputs": [],
   "source": [
    "#Erstellen Sie den oben beschriebenen Graphen und speichern Sie ihn\n",
    "#in der Variable graph_n1\n",
    "graph_n1 = Graph(n=3, edges=[(0,1), (1,2)], directed=False)\n",
    "#Zeichnen Sie den Graphen\n",
    "plot(graph_n1, vertex_label=[ \"Max\", \"Mike\", \"Michael\"]).show()"
   ]
  },
  {
   "cell_type": "markdown",
   "metadata": {},
   "source": [
    "Im obigen Beispiel sind alle drei Knoten mit mindestens einem anderen Knoten verbunden - das heißt, alle Knoten tauchen in dem Argument *edges* auf. Ist dies nicht der Fall, müssen die sogenannten **\"isolierten\" Knoten**, welche keine Verbindung zu anderen Knoten besitzen, separat angegeben werden. Das entsprechende Argument heißt daher *isolates* und wird als Character-Vektor angegeben.  \n",
    "Betrachten wir nun einen erweiterten \"Freundeskreis\": Zusätzlich zu *Mike*, *Michael* und *Max* sind in diesem noch *Manuel* und *Lisa* vertreten. Die beiden sind weder miteinander, noch mit *Mike*, *Michael* und *Max* befreundet. Im folgenden Code-Chunk wird ein ungerichteter Graph erstellt, der die Freundschaftsbeziehungen zwischen den fünf Leuten darstellt. Betrachten Sie den Code und führen Sie ihn aus."
   ]
  },
  {
   "cell_type": "code",
   "execution_count": 8,
   "metadata": {},
   "outputs": [],
   "source": [
    "#Erstellen des oben beschriebenen Graphen und Speichern in \n",
    "#der Variable graph_n2\n",
    "\n",
    "#Plotten des Graphen graph_n2\n"
   ]
  },
  {
   "cell_type": "markdown",
   "metadata": {},
   "source": [
    "Bisher haben wir lediglich Graphen erzeugt. Wir können jedoch auch die eben definierten **Eigenschaften der Graphen** wieder auslesen. Der Befehl *V(graph)* gibt die Knoten des Graphen *graph* aus - *V* steht dabei als Abkürzung für \"vertices\". *E(graph)* gibt an, welche Knoten des Graphen wie miteinander verbunden sind - *E* steht dabei als Abkürzung für \"edges\".  \n",
    "- - -\n",
    "*Aufgabe:* Lassen Sie sich im Folgenden die Knoten und Kanten des gerichteten Graphen *graph_d1* ausgeben."
   ]
  },
  {
   "cell_type": "code",
   "execution_count": 19,
   "metadata": {},
   "outputs": [
    {
     "name": "stdout",
     "output_type": "stream",
     "text": [
      "<igraph.VertexSeq object at 0x0000029AF2766BD8>\n",
      "[(0, 1), (0, 2), (0, 3), (2, 4)]\n"
     ]
    }
   ],
   "source": [
    "#Lassen Sie sich die Knoten von graph_d1 ausgeben\n",
    "print(graph_d1.vs)\n",
    "#Lassen Sie sich die Kanten von graph_d1 ausgeben\n",
    "print(graph_d1.get_edgelist())"
   ]
  },
  {
   "cell_type": "markdown",
   "metadata": {},
   "source": [
    "Beim eben betrachteten Graphen *graph_d1* handelt es sich um einen gerichteten Graphen. Entsprechend sind die Kanten mit Pfeilen symbolisiert. \n",
    "- - -\n",
    "*Aufgabe:* Lassen Sie sich im Folgenden die Knoten und Kanten des ungerichteten Graphen *graph_n2* mit benannten Knoten ausgeben und beobachten Sie, welches Symbol hier für die Kanten verwendet wird."
   ]
  },
  {
   "cell_type": "code",
   "execution_count": null,
   "metadata": {},
   "outputs": [],
   "source": [
    "#Lassen Sie sich die Knoten von graph_n2 ausgeben\n",
    "\n",
    "#Lassen Sie sich die Kanten von graph_n2 ausgeben\n"
   ]
  }
 ],
 "metadata": {
  "interpreter": {
   "hash": "bed862baa169bd35b57b2a485b7961cf7d1bd32d9b549d4e10480d14566cc8ca"
  },
  "kernelspec": {
   "name": "python3",
   "language": "python",
   "display_name": "Python 3"
  },
  "language_info": {
   "codemirror_mode": {
    "name": "ipython",
    "version": 3
   },
   "file_extension": ".py",
   "mimetype": "text/x-python",
   "name": "python",
   "nbconvert_exporter": "python",
   "pygments_lexer": "ipython3",
   "version": "3.7.8"
  },
  "orig_nbformat": 4
 },
 "nbformat": 4,
 "nbformat_minor": 2
}