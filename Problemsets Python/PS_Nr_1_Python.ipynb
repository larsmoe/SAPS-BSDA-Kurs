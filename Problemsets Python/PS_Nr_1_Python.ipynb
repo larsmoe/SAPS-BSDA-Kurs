{
 "cells": [
  {
   "cell_type": "markdown",
   "metadata": {},
   "source": [
    "# Exercise 1"
   ]
  },
  {
   "cell_type": "markdown",
   "metadata": {},
   "source": [
    "Willkommen zum ersten RTutor-Problem Set in diesem Modul! Sie finden hier vier Aufgaben (*Exercises*) zu Inhalten aus Kapitel 3 *Social Network Analysis* - konkret zu 3.1. Die Reihenfolge der Aufgaben entspricht dabei im Wesentlichen der Reihenfolge der Inhalte im Skript. Aus diesem Grund, aber auch da die die Inhalte zu R im Laufe des Problem Sets aufeinander aufbauen, empfiehlt es sich, die Reihenfolge der Aufgaben einzuhalten."
   ]
  },
  {
   "cell_type": "markdown",
   "metadata": {},
   "source": [
    "## Vorraussetzungen bezüglich Python"
   ]
  },
  {
   "cell_type": "markdown",
   "metadata": {},
   "source": [
    "###PLACEHOLDER###"
   ]
  },
  {
   "cell_type": "markdown",
   "metadata": {},
   "source": [
    "## Ein erster Einblick"
   ]
  },
  {
   "cell_type": "markdown",
   "metadata": {},
   "source": [
    "###PLACEHOLDER###"
   ]
  },
  {
   "cell_type": "code",
   "execution_count": 1,
   "metadata": {},
   "outputs": [],
   "source": [
    "# Lade die library igraph\n",
    "from igraph import *"
   ]
  },
  {
   "cell_type": "code",
   "execution_count": 20,
   "metadata": {},
   "outputs": [],
   "source": [
    "# Vollständiger Graph mit 40 Knoten\n",
    "fg = Graph.Full(n=40, directed=False, loops=False)\n",
    "plot(fg).show()\n",
    "\n",
    "# Baum mit 40 Knoten\n",
    "tr = Graph.Tree(n=40, children=3, mode='undirected')\n",
    "plot(tr).show()\n",
    "\n",
    "# Erdos-Renyi Zufallsgraph\n",
    "er = Graph.Erdos_Renyi(n=100, m=40, directed=False, loops=False)\n",
    "plot(er).show()\n",
    "\n",
    "# Watts-Strogatz Small-World-Graph\n",
    "sw = Graph.Watts_Strogatz(dim=2, size=10, nei=1, p=0.1, loops=False, multiple=False)\n",
    "plot(sw, layout='circle').show()\n",
    "\n",
    "# Barabasi-Alberts Modell für skalenfreie Graphen\n",
    "ba = Graph.Barabasi(n=100, m=1, power=1, directed=False)\n",
    "plot(ba).show()"
   ]
  }
 ],
 "metadata": {
  "interpreter": {
   "hash": "bed862baa169bd35b57b2a485b7961cf7d1bd32d9b549d4e10480d14566cc8ca"
  },
  "kernelspec": {
   "display_name": "Python 3.7.8 64-bit ('venv': venv)",
   "name": "python3"
  },
  "language_info": {
   "codemirror_mode": {
    "name": "ipython",
    "version": 3
   },
   "file_extension": ".py",
   "mimetype": "text/x-python",
   "name": "python",
   "nbconvert_exporter": "python",
   "pygments_lexer": "ipython3",
   "version": "3.7.8"
  },
  "orig_nbformat": 4
 },
 "nbformat": 4,
 "nbformat_minor": 2
}
