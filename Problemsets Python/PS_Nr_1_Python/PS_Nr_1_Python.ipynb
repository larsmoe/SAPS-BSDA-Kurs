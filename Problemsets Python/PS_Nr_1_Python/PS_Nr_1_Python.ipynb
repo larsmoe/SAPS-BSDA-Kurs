{
 "cells": [
  {
   "cell_type": "markdown",
   "metadata": {},
   "source": [
    "# Exercise 1"
   ]
  },
  {
   "cell_type": "markdown",
   "metadata": {},
   "source": [
    "Willkommen zum ersten RTutor-Problem Set in diesem Modul! Sie finden hier vier Aufgaben (*Exercises*) zu Inhalten aus Kapitel 3 *Social Network Analysis* - konkret zu 3.1. Die Reihenfolge der Aufgaben entspricht dabei im Wesentlichen der Reihenfolge der Inhalte im Skript. Aus diesem Grund, aber auch da die die Inhalte zu R im Laufe des Problem Sets aufeinander aufbauen, empfiehlt es sich, die Reihenfolge der Aufgaben einzuhalten."
   ]
  },
  {
   "cell_type": "markdown",
   "metadata": {},
   "source": [
    "## Vorraussetzungen bezüglich Python"
   ]
  },
  {
   "cell_type": "markdown",
   "metadata": {},
   "source": [
    "###PLACEHOLDER###"
   ]
  },
  {
   "cell_type": "markdown",
   "metadata": {},
   "source": [
    "## Ein erster Einblick"
   ]
  },
  {
   "cell_type": "markdown",
   "metadata": {},
   "source": [
    "###PLACEHOLDER###"
   ]
  },
  {
   "cell_type": "code",
   "execution_count": 1,
   "metadata": {},
   "outputs": [],
   "source": [
    "# Lade die library igraph\n",
    "from igraph import *\n",
    "import numpy as np\n",
    "import pandas as pd"
   ]
  },
  {
   "cell_type": "code",
   "execution_count": 3,
   "metadata": {},
   "outputs": [],
   "source": [
    "# Vollständiger Graph mit 40 Knoten\n",
    "fg = Graph.Full(n=40, directed=False, loops=False)\n",
    "plot(fg).show()\n",
    "\n",
    "# Baum mit 40 Knoten\n",
    "tr = Graph.Tree(n=40, children=3, mode='undirected')\n",
    "plot(tr).show()\n",
    "\n",
    "# Erdos-Renyi Zufallsgraph\n",
    "er = Graph.Erdos_Renyi(n=100, m=40, directed=False, loops=False)\n",
    "plot(er).show()\n",
    "\n",
    "# Watts-Strogatz Small-World-Graph\n",
    "sw = Graph.Watts_Strogatz(dim=2, size=10, nei=1, p=0.1, loops=False, multiple=False)\n",
    "plot(sw, layout='circle').show()\n",
    "\n",
    "# Barabasi-Alberts Modell für skalenfreie Graphen\n",
    "ba = Graph.Barabasi(n=100, m=1, power=1, directed=False)\n",
    "plot(ba).show()"
   ]
  },
  {
   "cell_type": "markdown",
   "metadata": {},
   "source": [
    "## Aufbau dieses Problem Sets"
   ]
  },
  {
   "cell_type": "markdown",
   "metadata": {},
   "source": [
    "Im Verlauf dieses Moduls werden Sie mehrere Problem Sets erhalten. Dieses erste Problem Set widmet sich den Möglichkeiten, R auf den Inhalt des Kapitels 3.1 des Skripts anzuwenden. Es orientiert sich am Skript und ist konkret wie folgt gegliedert:\n",
    "\n",
    "* *Aufgabe 2* -- Modellierung und graphische Darstellung von Netzwerken \n",
    "* *Aufgabe 3* -- Weitere Arten von Netzwerken \n",
    "* *Aufgabe 4* -- Pfade und Entfernungen in Netzwerken \n",
    "\n",
    "Zu den restlichen Inhalten aus Kapitel 3 werden Sie in späteren Problem Sets weitere Aufgaben erhalten:\n",
    "\n",
    "* *Aufgabe 5* -- Kennzahlen zur Beschreibung von Netzwerken \n",
    "* *Aufgabe 6* -- Zentralität in Netzwerken \n",
    "* *Aufgabe 7* -- Communities in Netzwerken\n",
    "* *Aufgabe 8* -- Information Diffusion in Netzwerken\n",
    "\n",
    "Bezüglich des Codes ist jede der Aufgaben (*Exercises*) unabhängig von den anderen Aufgaben. Das heißt, Sie müssen das Problem Set nicht an einem Stück bearbeiten, sondern können die Aufgaben zeitlich versetzt lösen. Wie bereits erläutert empfiehlt es sich dennoch, die Reihenfolge bei der Bearbeitung einzuhalten. Beachten Sie bitte, dass Sie innerhalb einer Aufgabe die enthaltenen *Code-Chunks* in der vorgegebenen Reihenfolge bearbeiten müssen."
   ]
  },
  {
   "cell_type": "markdown",
   "metadata": {},
   "source": [
    "# Exercise 2"
   ]
  },
  {
   "cell_type": "markdown",
   "metadata": {},
   "source": [
    "Im letzten Kapitel haben Sie einige verschiedene Graphen mit dem Package *'igraph'* erzeugt und visualisiert - und damit einen ersten Eindruck erhalten, wozu das Package *'igraph'* in der Lage ist. In diesem Kapitel erlernen Sie nun die grundlegenden Befehle, um selbst Graphen zu erzeugen und zu zeichnen. Diese Aufgabe ist angelehnt an den Workshop von Ognyanova (2016a) (<http://www.kateto.net/netscix2016>).\n",
    "\n",
    "*Anmerkung: Im Package 'igraph' werden Objekte, die Netzwerke repräsentieren, als \"Graphen\" bezeichnet.*"
   ]
  },
  {
   "cell_type": "markdown",
   "metadata": {},
   "source": [
    "## a) Graphen manuell erzeugen"
   ]
  },
  {
   "cell_type": "markdown",
   "metadata": {},
   "source": [
    "Eine Darstellungsmöglichkeit von Netzwerken sind **Graphen**. In der Theorie wird ein Graph $G$ durch die Menge der Knoten $N$ und die Menge der Kanten $L$ definiert:  \n",
    "$$G:= (N,L)$$"
   ]
  },
  {
   "cell_type": "markdown",
   "metadata": {},
   "source": [
    "$$N:=\\{n_1, ..., n_{|N|}\\}$$"
   ]
  },
  {
   "cell_type": "markdown",
   "metadata": {},
   "source": [
    "$$L:=\\{ l_1, l_2, ..., l_{|L|} \\}$$"
   ]
  },
  {
   "cell_type": "markdown",
   "metadata": {},
   "source": [
    "Gerichtete Kanten werden dabei als Tupel $l_k=(n_i,n_j)$, ungerichtete Kanten als Mengen $l_k=\\{n_i,n_j\\}$ notiert.\n",
    "\n",
    "Wenn das Netzwerk eine überschaubare Größe besitzt, so kann man einen Graphen in R von Hand definieren. Dazu verwendet man den Befehl *make_graph(edges, n)*. Analog zur Theorie müssen dabei als Argumente die Menge der Kanten, genannt *edges*, sowie die Anzahl der Knoten *n* angegeben werden. Per default wird so ein gerichteter Graph erzeugt.  \n",
    "Bitte beachten Sie, dass das Argument *n* nicht notwendig ist, falls jeder Knoten an mindestens einer Kante beteiligt ist. \n",
    "*Um Komplikationen zu vermeiden, wird im Rahmen dieses Problem Sets der Befehl make_graph immer mit dem Argument n verwendet. Die einzige Ausnahme (benannte Knoten) werden Sie weiter unten in dieser Teilaufgabe kennenlernen.*\n",
    "\n",
    "Der folgende Code-Chunk zeigt beispielhaft die Erstellung eines **gerichteten Graphen** mit vier Knoten, bei dem eine Verbindung von Knoten 1 zu Knoten 2, von Knoten 2 zu Knoten 3 und von Knoten 3 zu Knoten 1 besteht. Der Befehl *plot(x)* (oder auch *plot.igraph(x)*) zeichnet den Graphen *x*. Betrachten Sie den Code und führen Sie ihn aus."
   ]
  },
  {
   "cell_type": "code",
   "execution_count": 2,
   "metadata": {},
   "outputs": [],
   "source": [
    "#Erstellung eines Graphen mit 4 Knoten, von denen die Knoten 1, 2 und 3\n",
    "#miteinander verbunden sind\n",
    "graph_example = Graph(n=4, edges=[(0,1),(1,2),(2,0)], directed=True)\n",
    "#Plotten des Graphen graph_example\n",
    "plot(graph_example, vertex_label = range(1, graph_example.vcount()+1)).show()"
   ]
  },
  {
   "cell_type": "markdown",
   "metadata": {},
   "source": [
    "Wie Sie sehen, wird die Menge der Kanten im Befehl *make_graph* durch einen Vektor dargestellt, bei dem die Anfangs- und Endknoten der einzelnen Kanten durch Kommata getrennt nacheinander aufgelistet werden.  \n",
    "- - -\n",
    "*Aufgabe:* Im Folgenden ist es nun Ihre Aufgabe, einen solchen gerichteten Graphen zu erstellen. Der Graph soll fünf Knoten enthalten, wobei jeweils eine Verbindung vom Knoten 1 zu den Knoten 2, 3 und 4, sowie eine Verbindung von Knoten 3 zu Knoten 5 besteht. Zeichnen Sie im Anschluss daran den Graphen und führen Sie den Code aus. Bitte beachten Sie, dass Sie die Kanten genau in der Reihenfolge wie beschrieben angeben müssen, damit RTutor Ihre Lösung als korrekt erkennt. Falls Sie Hilfe benötigen, können Sie den *Hint-Button* verwenden."
   ]
  },
  {
   "cell_type": "code",
   "execution_count": 5,
   "metadata": {},
   "outputs": [],
   "source": [
    "#Erstellen Sie einen Graph wie oben beschrieben und speichern Sie ihn in der Variable graph_d1\n",
    "graph_d1 = Graph(n=5, edges=[(0,1), (0,2), (0,3), (2,4)], directed=True)\n",
    "#Plotten Sie nun den Graphen graph_d1\n",
    "plot(graph_d1, vertex_label = range(1, graph_d1.vcount()+1)).show()"
   ]
  },
  {
   "cell_type": "markdown",
   "metadata": {},
   "source": [
    "Um einen **ungerichteten Graphen** zu erzeugen, muss das zusätzliche Argument *directed* auf *FALSE* gesetzt werden.  \n",
    "- - -\n",
    "*Aufgabe:* Erstellen Sie im folgenden Code-Chunk denjenigen Graphen, welcher entsteht, wenn Sie jede gerichtete Kante des obigen Graphen durch eine ungerichtete Kante ersetzen. Speichern Sie den Graphen in der Variable *graph_ud1* und zeichnen Sie diesen ungerichteten Graphen anschließend.\n",
    "- - -"
   ]
  },
  {
   "cell_type": "code",
   "execution_count": 63,
   "metadata": {},
   "outputs": [],
   "source": [
    "#Erstellen Sie den in der Aufgabenstellung beschriebenen ungerichteten Graphen\n",
    "#und speichern Sie ihn anschließend in der Variable graph_ud1\n",
    "graph_ud1 = Graph(n = 5, edges=[(0,1), (0,2), (0,3), (2,4)], directed=False)\n",
    "#Plotten Sie den Graphen graph_ud1\n",
    "plot(graph_ud1, vertex_label = range(1, graph_ud1.vcount()+1)).show()"
   ]
  },
  {
   "cell_type": "markdown",
   "metadata": {},
   "source": [
    "Die Darstellung der Kanten im Character-Vektor ist teilweise nicht sehr übersichtlich. Falls nur wenige Kanten existieren, mag es daher sinnvoll sein, den Befehl *graph_from_literal* zu verwenden. Hier werden die Kanten folgendermaßen dargestellt: Ein Bindestrich (-) steht für eine ungerichtete Kante, ein Bindestrich zusammen mit einem Plus (-+) steht für eine gerichtete Kante, wobei der Pfeil in die Richtung zeigt, auf der das Plus steht. Der folgende Code-Chunk zeigt ein Beispiel für diese Art, einen Graph zu erstellen. Betrachten Sie den Code und führen Sie ihn anschließend aus."
   ]
  },
  {
   "cell_type": "code",
   "execution_count": 7,
   "metadata": {},
   "outputs": [
    {
     "ename": "NameError",
     "evalue": "name 'graph_from_literal' is not defined",
     "output_type": "error",
     "traceback": [
      "\u001b[1;31m---------------------------------------------------------------------------\u001b[0m",
      "\u001b[1;31mNameError\u001b[0m                                 Traceback (most recent call last)",
      "\u001b[1;32m~\\AppData\\Local\\Temp/ipykernel_14304/49407989.py\u001b[0m in \u001b[0;36m<module>\u001b[1;34m\u001b[0m\n\u001b[0;32m      1\u001b[0m \u001b[1;31m#Erstelle einen Graphen mit symbolischer Notation\u001b[0m\u001b[1;33m\u001b[0m\u001b[1;33m\u001b[0m\u001b[1;33m\u001b[0m\u001b[0m\n\u001b[1;32m----> 2\u001b[1;33m \u001b[0mgraph_s1\u001b[0m \u001b[1;33m=\u001b[0m \u001b[0mgraph_from_literal\u001b[0m\u001b[1;33m(\u001b[0m\u001b[1;36m1\u001b[0m\u001b[1;33m-\u001b[0m\u001b[1;33m+\u001b[0m\u001b[1;36m2\u001b[0m\u001b[1;33m,\u001b[0m \u001b[1;36m2\u001b[0m\u001b[1;33m-\u001b[0m\u001b[1;33m+\u001b[0m\u001b[1;36m3\u001b[0m\u001b[1;33m,\u001b[0m \u001b[1;36m3\u001b[0m\u001b[1;33m-\u001b[0m\u001b[1;33m+\u001b[0m\u001b[1;36m1\u001b[0m\u001b[1;33m)\u001b[0m\u001b[1;33m\u001b[0m\u001b[1;33m\u001b[0m\u001b[0m\n\u001b[0m\u001b[0;32m      3\u001b[0m \u001b[1;31m#Plotte den Graphen graph_s1\u001b[0m\u001b[1;33m\u001b[0m\u001b[1;33m\u001b[0m\u001b[1;33m\u001b[0m\u001b[0m\n\u001b[0;32m      4\u001b[0m \u001b[0mplot\u001b[0m\u001b[1;33m(\u001b[0m\u001b[0mx\u001b[0m \u001b[1;33m=\u001b[0m \u001b[0mgraph_s1\u001b[0m\u001b[1;33m)\u001b[0m\u001b[1;33m\u001b[0m\u001b[1;33m\u001b[0m\u001b[0m\n",
      "\u001b[1;31mNameError\u001b[0m: name 'graph_from_literal' is not defined"
     ]
    }
   ],
   "source": [
    "#{\"2__4\"}\n",
    "#Erstelle einen Graphen mit symbolischer Notation\n",
    "\n",
    "#Plotte den Graphen graph_s1\n"
   ]
  },
  {
   "cell_type": "markdown",
   "metadata": {},
   "source": [
    "Wenn Sie möchten, dass die Knoten des Graphen nicht nur Nummern, sondern **Namen** erhalten, so können Sie dies folgendermaßen erreichen: Bei der Anwendung des Befehls *make_graph* verwenden Sie im Argument *edges*, welches die Kanten des Graphen beschreibt, nicht Zahlen, sondern stattdessen die Namen der Knoten in Anführungszeichen.  \n",
    "Betrachten wir nun die drei Jungs *Mike*, *Michael* und *Max*: Mike ist mit Max und mit Michael befreundet. Zwischen Michael und Max besteht keine direkte Beziehung.  \n",
    "- - -\n",
    "*Aufgabe:* Zeichnen Sie einen ungerichteten Graphen, der die Freundschaftsbeziehungen zwischen Mike, Michael und Max beschreibt. Beachten Sie dabei, dass das Argument *n*, welches die Anzahl der Knoten angibt, bei Graphen mit benannten Knoten nicht benötigt wird und vergessen Sie nicht die Anführungszeichen für die Namen. Speichern Sie den Graphen in der Variable *graph_n1* und zeichnen Sie ihn.  \n",
    "- - -\n",
    "*Anmerkung: Sie werden sehen, dass der entstandene Plot nicht sehr schön gestaltet ist. Welche Möglichkeiten der plot-Befehl bietet, um Plots schöner zu gestalten, lernen Sie in Abschnitt d) dieser Aufgabe.*"
   ]
  },
  {
   "cell_type": "code",
   "execution_count": 3,
   "metadata": {},
   "outputs": [],
   "source": [
    "#{\"2__5\"}\n",
    "#Erstellen Sie den oben beschriebenen Graphen und speichern Sie ihn\n",
    "#in der Variable graph_n1\n",
    "graph_n1 = Graph(n=3, edges=[(0,1), (1,2)], directed=False)\n",
    "#Zeichnen Sie den Graphen\n",
    "plot(graph_n1, vertex_label=[ \"Max\", \"Mike\", \"Michael\"]).show()"
   ]
  },
  {
   "cell_type": "markdown",
   "metadata": {},
   "source": [
    "Im obigen Beispiel sind alle drei Knoten mit mindestens einem anderen Knoten verbunden - das heißt, alle Knoten tauchen in dem Argument *edges* auf. Ist dies nicht der Fall, müssen die sogenannten **\"isolierten\" Knoten**, welche keine Verbindung zu anderen Knoten besitzen, separat angegeben werden. Das entsprechende Argument heißt daher *isolates* und wird als Character-Vektor angegeben.  \n",
    "Betrachten wir nun einen erweiterten \"Freundeskreis\": Zusätzlich zu *Mike*, *Michael* und *Max* sind in diesem noch *Manuel* und *Lisa* vertreten. Die beiden sind weder miteinander, noch mit *Mike*, *Michael* und *Max* befreundet. Im folgenden Code-Chunk wird ein ungerichteter Graph erstellt, der die Freundschaftsbeziehungen zwischen den fünf Leuten darstellt. Betrachten Sie den Code und führen Sie ihn aus."
   ]
  },
  {
   "cell_type": "code",
   "execution_count": 73,
   "metadata": {},
   "outputs": [],
   "source": [
    "#{\"2__6\"}\n",
    "#Erstellen des oben beschriebenen Graphen und Speichern in \n",
    "#der Variable graph_n2\n",
    "graph_n2 = Graph(n = 5, edges=[(0,1), (0,2), directed=False])\n",
    "#Namen hinzufügen\n",
    "graph_n2.vs['name'] = ['Mike', 'Max', 'Michael', 'Manuel', 'Lisa']\n",
    "#Plotten des Graphen graph_n2\n",
    "plot(graph_n2, vertex_label=graph_n2.vs['name']).show()"
   ]
  },
  {
   "cell_type": "markdown",
   "metadata": {},
   "source": [
    "Bisher haben wir lediglich Graphen erzeugt. Wir können jedoch auch die eben definierten **Eigenschaften der Graphen** wieder auslesen. Der Befehl *V(graph)* gibt die Knoten des Graphen *graph* aus - *V* steht dabei als Abkürzung für \"vertices\". *E(graph)* gibt an, welche Knoten des Graphen wie miteinander verbunden sind - *E* steht dabei als Abkürzung für \"edges\".  \n",
    "- - -\n",
    "*Aufgabe:* Lassen Sie sich im Folgenden die Knoten und Kanten des gerichteten Graphen *graph_d1* ausgeben."
   ]
  },
  {
   "cell_type": "code",
   "execution_count": null,
   "metadata": {},
   "outputs": [
    {
     "name": "stdout",
     "output_type": "stream",
     "text": [
      "<igraph.VertexSeq object at 0x0000029AF2766BD8>\n",
      "[(0, 1), (0, 2), (0, 3), (2, 4)]\n"
     ]
    }
   ],
   "source": [
    "#{r \"2__7\"}\n",
    "#Lassen Sie sich die Knoten von graph_d1 ausgeben\n",
    "print(graph_d1.vs)\n",
    "#Lassen Sie sich die Kanten von graph_d1 ausgeben\n",
    "print(graph_d1.get_edgelist())"
   ]
  },
  {
   "cell_type": "markdown",
   "metadata": {},
   "source": [
    "Beim eben betrachteten Graphen *graph_d1* handelt es sich um einen gerichteten Graphen. Entsprechend sind die Kanten mit Pfeilen symbolisiert. \n",
    "- - -\n",
    "*Aufgabe:* Lassen Sie sich im Folgenden die Knoten und Kanten des ungerichteten Graphen *graph_n2* mit benannten Knoten ausgeben und beobachten Sie, welches Symbol hier für die Kanten verwendet wird."
   ]
  },
  {
   "cell_type": "code",
   "execution_count": 74,
   "metadata": {},
   "outputs": [
    {
     "name": "stdout",
     "output_type": "stream",
     "text": [
      "['Mike', 'Max', 'Michael', 'Manuel', 'Lisa']\n",
      "[(0, 1), (0, 2)]\n"
     ]
    }
   ],
   "source": [
    "#{r \"2__8\"}\n",
    "#Lassen Sie sich die Knoten von graph_n2 ausgeben\n",
    "print(graph_n2.vs['name'])\n",
    "#Lassen Sie sich die Kanten von graph_n2 ausgeben\n",
    "print(graph_n2.get_edgelist())"
   ]
  },
  {
   "cell_type": "markdown",
   "metadata": {},
   "source": [
    "## b) Graphen und ihre Adjazenzmatrix"
   ]
  },
  {
   "cell_type": "markdown",
   "metadata": {},
   "source": [
    "Ein Netzwerk lässt sich nicht nur als Graph beschreiben, sondern auch mit Hilfe einer **Adjazenzmatrix**. \n",
    "Im Package *'igraph'* lassen sich diese beiden Notationsarten von Netzwerken miteinander verbinden: Zu jedem Graph lässt sich die zugehörige Adjazenzmatrix ausgeben und aus einer Adjazenzmatrix lässt sich ein Graph erstellen. Dabei muss lediglich der Name des Graphen, gefolgt von eckigen Klammern, angegeben werden. Der folgende Code-Chunk gibt die Adjazenzmatrix des gerichteten Graphen *graph_d1* aus Teilaufgabe *a)* aus. Führen Sie den Code aus."
   ]
  },
  {
   "cell_type": "code",
   "execution_count": 8,
   "metadata": {},
   "outputs": [
    {
     "name": "stdout",
     "output_type": "stream",
     "text": [
      "[[0, 1, 1, 1, 0]\n",
      " [0, 0, 0, 0, 0]\n",
      " [0, 0, 0, 0, 1]\n",
      " [0, 0, 0, 0, 0]\n",
      " [0, 0, 0, 0, 0]]\n"
     ]
    }
   ],
   "source": [
    "#{r \"2__10\"}\n",
    "#Adjazenzmatrix von graph_d1 ausgeben lassen\n",
    "print(graph_d1.get_adjacency())"
   ]
  },
  {
   "cell_type": "markdown",
   "metadata": {},
   "source": [
    "Wie Sie sehen, werden bestehende Kanten - seien sie gerichtet oder ungerichtet - mit einer *1* markiert. An allen Stellen, an denen keine Verbindung existiert, wird in der Adjazenzmatrix ein *Punkt* notiert. Der Wert für diese Elemente beträgt *0*.  \n",
    "Der Graph *graph_ud1* ergibt sich aus dem Graphen *graph_d1*, wenn jede *gerichtete* Kante von *graph_d1* durch eine *ungerichtete* Kante ersetzt wird. Entsprechend wird erwartet, dass der ungerichtete Graph *graph_ud1* eine symmetrische Adjazenzmatrix besitzt, die in der oberen Hälfte mit der Adjazenzmatrix des Graphen *graph_d1* übereinstimmt.\n",
    "- - -\n",
    "*Aufgabe:*  Überprüfen Sie die obige Erwartung, indem Sie sich die Adjazenzmatrix von *graph_ud1* anzeigen lassen."
   ]
  },
  {
   "cell_type": "markdown",
   "metadata": {},
   "source": [
    "Im Package *'igraph'* ist es zudem auch möglich, auf Basis einer Adjazenzmatrix einen Graphen zu erstellen. Das wichtigste Element dabei ist die Adjazenzmatrix selbst.  \n",
    "Der folgende Code-Chunk erstellt eine solche **Matrix** mit dem Befehl *matrix(data, nrow, ncol, dimnames)*. Hierbei werden im Argument *data* alle Zellen der Matrix in einem Vektor angegeben. Die Argumente *nrow* und *ncol* geben die Anzahl der Zeilen bzw. Spalten der Matrix an. Schließlich können über das Argument *dimnames* in einer Liste zuerst die Zeilen- und dann die Spaltennamen (jeweils als Character-Vektor) übergeben werden. Beachten Sie, dass per default die Matrix spaltenweise mit den angegebenen Daten befüllt wird. Betrachten Sie den folgenden Code und führen Sie ihn aus."
   ]
  },
  {
   "cell_type": "code",
   "execution_count": null,
   "metadata": {},
   "outputs": [],
   "source": [
    "#{\"2__11\"}\n",
    "#Lassen Sie sich die Adjazenzmatrix von graph_ud1 anzeigen\n",
    "print(graph_ud1.get_adjacency())"
   ]
  },
  {
   "cell_type": "code",
   "execution_count": 36,
   "metadata": {},
   "outputs": [
    {
     "name": "stdout",
     "output_type": "stream",
     "text": [
      "[[0, 1, 1, 1]\n",
      " [1, 0, 0, 0]\n",
      " [1, 0, 0, 1]\n",
      " [1, 0, 1, 0]]\n"
     ]
    }
   ],
   "source": [
    "#{r \"2__11\"}\n",
    "#Matrix erstellen\n",
    "mat1 = Matrix(data=np.array([0,1,1,1,1,0,0,0,1,0,0,1,1,0,1,0]).reshape(4,4))\n",
    "#Matrix ausgeben lassen\n",
    "print(mat1)"
   ]
  },
  {
   "cell_type": "markdown",
   "metadata": {},
   "source": [
    "Im Package *'igraph'* ist es nun möglich, einen **Graphen auf Basis einer Adjazenzmatrix** zu erstellen. Dazu wird der Befehl *graph_from_adjacency_matrix(adjmatrix, mode)* verwendet. Im Argument *adjmatrix* wird ebendiese Matrix übergeben, wobei im Argument *mode* festgelegt wird, ob der Graph gerichtet (*\"directed\"*) oder ungerichtet (*\"undirected\"*) sein soll. \n",
    "- - -\n",
    "*Aufgabe:* Verwenden Sie den eben beschriebenen Befehl, um einen ungerichteten Graphen aus der obigen Adjazenzmatrix *mat1* zu erstellen. Speichern Sie den Graphen in der Variable *graph_mat1* und plotten Sie ihn anschließend."
   ]
  },
  {
   "cell_type": "code",
   "execution_count": 41,
   "metadata": {},
   "outputs": [],
   "source": [
    "#{r \"2__12\"}\n",
    "#Erzeugen Sie einen ungerichteten Graph aus der Adjazenzmatrix mat1 und\n",
    "#speichern Sie ihn in der Variable graph_mat1\n",
    "graph_mat1 = Graph.Adjacency(matrix=np.array([0,1,1,1,1,0,0,0,1,0,0,1,1,0,1,0]).reshape(4,4), mode='undirected')\n",
    "#Plotten Sie den Graph graph_mat1\n",
    "plot(graph_mat1, vertex_label=[\"Anna\", \"Julia\", \"Mia\", \"Jenny\"]).show()"
   ]
  },
  {
   "cell_type": "markdown",
   "metadata": {},
   "source": [
    "## c) Graphen aus Daten erzeugen"
   ]
  },
  {
   "cell_type": "markdown",
   "metadata": {},
   "source": [
    "Selbstverständlich treten im realen Leben nicht nur Netzwerke auf, die sich manuell als Graphen definieren lassen. Gerade im Bereich Social Media Analytics hat man es häufig mit sehr großen Netzwerken zu tun. In solchen Fällen beschreiben meist riesige Datensätze die betrachteten Netzwerke. Auch mit dem Package *'igraph'* kann man **aus Data Frames Graphen erstellen**.\n",
    "\n",
    "Die Datensätze *\"dataset1_nodes.csv\"* und *\"dataset1_edges.csv\"* beschreiben die Knoten und Kanten eines Netzwerks verschiedener Medien, die durch Hyperlinks oder Erwähnungen teilweise miteinander in Verbindung stehen. *Sowohl die (ursprünglichen) Datensätze als auch der Code für deren Aufbereitung zu denjenigen Datensätzen, die Sie hier zur Bearbeitung vorfinden, sind dem Workshop von Ognyanova (2016a) entnommen.*  \n",
    "Der folgende Code-Chunk liest beide csv-Dateien mit dem Befehl *read.csv(file)* ein und speichert sie in den entsprechenden Variablen ab. Führen Sie den Code aus.\n",
    "\n",
    "*Anmerkung: Zum Einlesen von csv-Dateien gibt es in R zwei Befehle: read.csv(...) und read.csv2(...). Ersterer ist für das Einlesen von csv-Dateien aus dem englischsprachigen Excel, zweiterer für das Einlesen von csv-Dateien aus dem deutschsprachigen Excel geeignet. Sie unterscheiden sich darin, welches Symbol (Komma oder Semikolon) in der jeweiligen csv-Datei/im jeweiligen Excel als Trennzeichen zwischen Spalten bzw. als Dezimaltrennzeichen verwendet wird.*"
   ]
  },
  {
   "cell_type": "code",
   "execution_count": 28,
   "metadata": {},
   "outputs": [],
   "source": [
    "#{\"2__13\"}\n",
    "#Einlesen der beiden Datensätze und Speichern in den Variablen vertices und edges\n",
    "vertices = pd.read_csv(\"dataset1_nodes.csv\", sep=\",\")\n",
    "edges = pd.read_csv(\"dataset1_edges.csv\", sep=\",\")"
   ]
  },
  {
   "cell_type": "markdown",
   "metadata": {},
   "source": [
    "Der Befehl *head(x, n)* gibt die ersten *n* Zeilen von *x* aus. Per default zeigt der Befehl *head(x)* sechs Zeilen an.\n",
    "- - -\n",
    "*Aufgabe:* Betrachten Sie jeweils die ersten sechs Zeilen der Data Frames *vertices* und *edges* mit Hilfe des eben beschriebenen Befehls. Verwenden Sie dabei den möglichst einfachsten Befehl."
   ]
  },
  {
   "cell_type": "code",
   "execution_count": 3,
   "metadata": {},
   "outputs": [
    {
     "name": "stdout",
     "output_type": "stream",
     "text": [
      "    id                media  media.type type.label  audience.size\n",
      "0  s01             NY Times           1  Newspaper             20\n",
      "1  s02      Washington Post           1  Newspaper             25\n",
      "2  s03  Wall Street Journal           1  Newspaper             30\n",
      "3  s04            USA Today           1  Newspaper             32\n",
      "4  s05             LA Times           1  Newspaper             20\n",
      "  from   to       type  weight\n",
      "0  s01  s02  hyperlink      22\n",
      "1  s01  s03  hyperlink      22\n",
      "2  s01  s04  hyperlink      21\n",
      "3  s01  s15    mention      20\n",
      "4  s02  s01  hyperlink      23\n"
     ]
    }
   ],
   "source": [
    "#{\"2__14\"}\n",
    "#Lassen Sie die ersten sechs Zeilen von vertices ausgeben\n",
    "print(vertices.head(n=5))\n",
    "#Lassen Sie die ersten sechs Zeilen von edges ausgeben\n",
    "print(edges.head(n=5))"
   ]
  },
  {
   "cell_type": "markdown",
   "metadata": {},
   "source": [
    "Aus den Datenausschnitten wird deutlich, dass in den Datensätzen weitere Informationen - sowohl zu den Knoten als auch zu den Kanten - enthalten sind. In *'igraph'* werden diese Eigenschaften als sogenannte **Attribute** aufgenommen. Jedes Attribut ist addressierbar, indem man den Befehl *V(graph)$attributname* im Falle einer Knoteneigenschaft, *E(graph)$attributname* im Falle einer Kanteneigenschaft und *G(graph)$attributname* im Falle einer Grapheneigenschaft eingibt. Dabei ist der Attributname (*attributname*) hier durch die Spaltenüberschrift des jeweiligen Data Frames gegeben. Näheres dazu erfahren Sie in *Aufgabe 3*.\n",
    "Zunächst wollen wir jedoch das beschriebene Netzwerk grafisch darstellen. Dazu verwenden wir den Befehl *graph_from_data_frame(d, directed, vertices)*. Als Argumente braucht man hier:  \n",
    "* den Data Frame *d*: Er muss in den ersten beiden Spalten die Kanten und in den restlichen Spalten weitere Attribute enthalten  \n",
    "* *directed* (=TRUE oder =FALSE): die Angabe, ob der Graph gerichtet oder ungerichtet sein soll  \n",
    "* den Data Frame *vertices*: Er muss in der ersten Spalte die Knoten und in den restlichen Spalten weitere Attribute enthalten  \n",
    "\n",
    "Die Data Frames *edges* und *vertices* erfüllen die beschriebenen Bedingungen für die ersten beiden Argumente der Funktion *graph_from_data_frame*. \n",
    "- - -\n",
    "*Aufgabe:* Nutzen Sie die obigen Angaben, um aus den Datensätzen *edges* und *vertices* einen gerichteten Graphen zu erstellen. Speichern Sie diesen in der Variable *graph_data1* und plotten Sie ihn anschließend."
   ]
  },
  {
   "cell_type": "code",
   "execution_count": 29,
   "metadata": {},
   "outputs": [],
   "source": [
    "#{\"2__15\"}\n",
    "#Erzeugen Sie einen gerichteten Graph aus den Datensätzen edges und vertices\n",
    "#und speichern Sie ihn in der Variable graph_data1\n",
    "graph_data1 = Graph.DataFrame(edges=edges, directed=True, vertices=vertices)\n",
    "graph_data1.vs['label'] = graph_data1.vs['name']\n",
    "#Plotten Sie den Graphen graph_data1\n",
    "plot(graph_data1).show()"
   ]
  },
  {
   "cell_type": "markdown",
   "metadata": {},
   "source": [
    "## d) Visualisierung von Graphen"
   ]
  },
  {
   "cell_type": "markdown",
   "metadata": {},
   "source": [
    "Wie Sie im Laufe dieser Aufgabe bereits erfahren und getestet haben, können Netzwerke in *'igraph'* mit dem Befehl *plot*, welcher eine Kurzform von *plot.igraph* darstellt, visualisiert werden. Auch andere Packages wie bspw. das Package *'ggraph'* können zu diesem Zweck verwendet werden. Im Rahmen dieses Problem Sets wird lediglich das Package *'igraph'* zur Visualisierung verwendet.\n",
    "\n",
    "In *'igraph'* gibt es die Möglichkeit, mit Hilfe des Befehls *tkplot* den Plot *interaktiv* zu gestalten oder alternativ den Befehl *rglplot* zu verwenden. Näheres dazu erfahren Sie auf den entsprechenden R-Hilfeseiten.  \n",
    "Wir beschränken uns in diesem Problem Set auf den Befehl *plot.igraph*, der sehr viele Gestaltungsmöglichkeiten bietet. Der folgende Code-Chunk gibt Ihnen ein Beispiel dafür. Führen Sie den Code aus, welcher den eben betrachteten Graphen *graph_data1* in etwas anderer Form darstellt."
   ]
  },
  {
   "cell_type": "code",
   "execution_count": 51,
   "metadata": {},
   "outputs": [],
   "source": [
    "#{\"2__16\"}\n",
    "#Hilfsvariablen zur Definition der Farben\n",
    "cols_edges = ['red', 'blue']\n",
    "cols_vertices = ['white', 'yellow', 'orange']\n",
    "#Fortgeschrittenes Plotten des Graphen graph_data1\n",
    "plot(graph_data1, edge_label=EdgeSeq(graph_data1)['type'],\n",
    "    edge_color=np.array(cols_edges)[[1 if typ == 'mention' else 0 for typ in graph_data1.es['type']]],\n",
    "    vertex_color=np.array(cols_vertices)[np.array(VertexSeq(graph_data1)['media.type']) -1],\n",
    "    edge_arrow_size=1\n",
    "    ).show()\n"
   ]
  },
  {
   "cell_type": "markdown",
   "metadata": {},
   "source": [
    "Falls Sie daran interessiert sind, wie man einen solchen Plot erstellen kann, empfehlen wir Ihnen die ersten vier Kapitel des Tutorials von Ognyanova (2016b), welches Sie unter folgendem Link finden: <http://kateto.net/network-visualization>. Sie werden sehen, dass der obige Plot in Anlehnung an eines ihrer Beispiele erstellt wurde. Abgesehen von diesem Tutorial empfiehlt es sich für ein fortgeschrittenes Plotten die R-Hilfeseiten *plot.igraph*, *igraph.plotting* und *legend* zu lesen.\n",
    "\n",
    "Von den vielen Zusatzargumenten, die dem *plot*-Befehl übergeben werden können, wird Ihnen in diesem Problem Set die folgende Auswahl begegnen:  \n",
    "* *vertex.size* gibt die Größe der Knoten an - als Zahl (um alle Knoten gleich groß darzustellen) oder alternativ als Vektor  \n",
    "* *vertex.label* gibt die Beschriftung der Knoten an - per default werden hier die Indizes der Knoten verwendet  \n",
    "* *vertex.label.dist* gibt den Abstand der Knotenbeschriftung von den Knoten an  \n",
    "* *vertex.label.cex* gibt die Schriftgröße der Knotenbeschriftung an  \n",
    "* *edge.label* gibt die Beschriftung der Kanten an  \n",
    "* *edge.arrow.size* gibt die Größe der Pfeile gerichteter Kanten an\n"
   ]
  },
  {
   "cell_type": "markdown",
   "metadata": {},
   "source": [
    "# Exercise 3 -- Weitere Arten von Netzwerken"
   ]
  },
  {
   "cell_type": "markdown",
   "metadata": {},
   "source": [
    "## a) Knoten- und Kantenattribute - Gewichtete Netzwerke in Python"
   ]
  },
  {
   "cell_type": "markdown",
   "metadata": {},
   "source": [
    "In *Aufgabe 2* wurde bereits angesprochen, dass Graphen in R auch **Knoten- und Kantenattribute** (und Graphenattribute - hier nicht weiter betrachtet) besitzen können. In dieser Teilaufgabe sollen Sie nun erfahren, worum es sich dabei handelt und wozu man diese benutzen kann. Sie werden bemerken, dass sich dadurch auch eine weitere Art von Netzwerken darstellen lässt: Gewichtete Netzwerke.  \n",
    "*Diese Teilaufgabe ist ebenfalls angelehnt an Ognyanova (2016a).*\n",
    "\n",
    "Im folgenden Code-Chunk werden erneut die Daten der *Aufgabe 2* (von Ognyanova (2016a)) mit dem Befehl *read.csv(file)* eingelesen und in den Variablen *edges* und *vertices* abgespeichert. Führen Sie den Code aus."
   ]
  },
  {
   "cell_type": "code",
   "execution_count": 32,
   "metadata": {},
   "outputs": [],
   "source": [
    "#{\"3\"}\n",
    "#Einlesen der beiden Datensätze und Speichern in den Variablen vertices und edges\n",
    "vertices = pd.read_csv(\"dataset1_nodes.csv\")\n",
    "edges = pd.read_csv(\"dataset1_edges.csv\")"
   ]
  },
  {
   "cell_type": "markdown",
   "metadata": {},
   "source": [
    "Erzeugen Sie erneut aus diesen Datensätzen den gerichteten Graphen *graph_data1*, indem Sie den folgenden Code ausführen."
   ]
  },
  {
   "cell_type": "code",
   "execution_count": 33,
   "metadata": {},
   "outputs": [],
   "source": [
    "#{\"3__2\"}\n",
    "#Erzeugen eines gerichteten Graphen aus den Datensätzen \n",
    "#edges und vertices und Speichern in graph_data1\n",
    "graph_data1 = Graph.DataFrame(vertices=vertices, edges=edges, directed=True)"
   ]
  },
  {
   "cell_type": "markdown",
   "metadata": {},
   "source": [
    "Mit dem Befehl *edge_attr_names(graph)* können Sie sich anzeigen lassen, welche Kantenattribute der Graph *graph* besitzt. Der Befehl *vertex_attr_names(graph)* funktioniert analog für Knoten. \n",
    "- - -\n",
    "*Aufgabe:* Wenden Sie die beiden eben beschriebenen Befehle im folgenden Code-Chunk auf den Graphen *graph_data1* an."
   ]
  },
  {
   "cell_type": "code",
   "execution_count": 39,
   "metadata": {},
   "outputs": [
    {
     "name": "stdout",
     "output_type": "stream",
     "text": [
      "['type', 'weight']\n",
      "['name', 'media', 'media.type', 'type.label', 'audience.size']\n"
     ]
    }
   ],
   "source": [
    "#{\"3__3\"}\n",
    "#Lassen Sie sich die Namen der Kantenattribute von graph_data1 anzeigen\n",
    "print(graph_data1.edge_attributes())\n",
    "\n",
    "#Lassen Sie sich die Namen der Knotenattribute von graph_data1 anzeigen\n",
    "print(graph_data1.vertex_attributes())"
   ]
  },
  {
   "cell_type": "markdown",
   "metadata": {},
   "source": [
    "In *Aufgabe 2 c)* haben Sie gelernt, dass sich die Knotenattribute mit dem Befehl *V(graph)$attributname* addressieren lassen. \n",
    "- - -\n",
    "*Aufgabe:* Nutzen Sie diesen Befehl nun, um sich die Werte des zweiten Knotenattributs von *graph_data1* ausgeben zu lassen."
   ]
  },
  {
   "cell_type": "code",
   "execution_count": 55,
   "metadata": {},
   "outputs": [
    {
     "data": {
      "text/plain": [
       "['NY Times',\n",
       " 'Washington Post',\n",
       " 'Wall Street Journal',\n",
       " 'USA Today',\n",
       " 'LA Times',\n",
       " 'New York Post',\n",
       " 'CNN',\n",
       " 'MSNBC',\n",
       " 'FOX News',\n",
       " 'ABC',\n",
       " 'BBC',\n",
       " 'Yahoo News',\n",
       " 'Google News',\n",
       " 'Reuters.com',\n",
       " 'NYTimes.com',\n",
       " 'WashingtonPost.com',\n",
       " 'AOL.com']"
      ]
     },
     "execution_count": 55,
     "metadata": {},
     "output_type": "execute_result"
    }
   ],
   "source": [
    "#{\"3__4\"}\n",
    "#Lassen Sie sich die Werte des zweiten Knotenattributs von graph_data1 ausgeben\n",
    "graph_data1.vs.get_attribute_values('media')"
   ]
  },
  {
   "cell_type": "markdown",
   "metadata": {},
   "source": [
    "Ein Vergleich mit den Data Frames *vertices* und *edges* zeigt, dass die Knoten- und Kantenattribute bereits in diesen Data Frames definiert wurden und automatisch vom Befehl *graph_from_data_frame* als solche interpretiert und abgespeichert wurden. Führen Sie den folgenden Code aus, um sich die jeweils ersten fünf Zeilen der beiden Data Frames erneut anzeigen zu lassen."
   ]
  },
  {
   "cell_type": "code",
   "execution_count": 56,
   "metadata": {},
   "outputs": [
    {
     "name": "stdout",
     "output_type": "stream",
     "text": [
      "    id                media  media.type type.label  audience.size\n",
      "0  s01             NY Times           1  Newspaper             20\n",
      "1  s02      Washington Post           1  Newspaper             25\n",
      "2  s03  Wall Street Journal           1  Newspaper             30\n",
      "3  s04            USA Today           1  Newspaper             32\n",
      "4  s05             LA Times           1  Newspaper             20\n",
      "  from   to       type  weight\n",
      "0  s01  s02  hyperlink      22\n",
      "1  s01  s03  hyperlink      22\n",
      "2  s01  s04  hyperlink      21\n",
      "3  s01  s15    mention      20\n",
      "4  s02  s01  hyperlink      23\n"
     ]
    }
   ],
   "source": [
    "#{\"3__5\"}\n",
    "#Ausgabe der ersten sechs Zeilen beider Data Frames\n",
    "print(vertices.head())\n",
    "print(edges.head())"
   ]
  },
  {
   "cell_type": "markdown",
   "metadata": {},
   "source": [
    "Wie Sie sehen, ist eines der Kantenattribute ein Kantengewicht (*weight*). Die Attribute eines Graphen können daher dazu genutzt werden, sogenannte **gewichtete Graphen** zu erzeugen. Wird dieses Attribut mit *weight* bezeichnet, so erkennen gewisse Funktionen aus dem *'igraph'*-Package automatisch, dass der Graph gewichtete Kanten besitzt, und beziehen die Attributwerte entsprechend in die \"Berechnungen\" ein.  \n",
    "- - -\n",
    "*Aufgabe:* Im folgenden Code-Chunk sollen in der Visualisierung des Graphen die Kanten mit ihrem jeweiligen Gewicht beschriftet werden. Dazu wird im *plot*-Befehl das zusätzliche Argument *edge.label* zur Kantenbeschriftung verwendet. Hier ist *graph* der aktuell betrachtete Graph *graph_data1* und *label* das Kantenattribut *weight*, welches - wie in *Aufgabe 2 c)* beschrieben - mit dem Befehl *E(graph)$attributname* adressiert wird."
   ]
  },
  {
   "cell_type": "code",
   "execution_count": 88,
   "metadata": {},
   "outputs": [],
   "source": [
    "#{\"3__6\"}\n",
    "#Plotten Sie mit dem Befehl plot und den oben beschriebenen Argumenten\n",
    "#den Graphen graph_data1 mit Kantengewichten\n",
    "plot(graph_data1, edge_label=graph_data1.es.get_attribute_values('weight')).show()"
   ]
  },
  {
   "cell_type": "markdown",
   "metadata": {},
   "source": [
    "Im gerade betrachteten Fall wurden die Kanten- und Knotenattribute bereits bei der Erzeugung des Graphen mitdefiniert, da sie in den Datensätzen enthalten waren, welche als Argumente *d* und *vertices* der Funktion *graph_from_data_frame* übergeben wurden. Es ist jedoch auch möglich, einzelne Attribute erst *nach* der Erstellung des Graphen hinzuzufügen. Dabei wird das neue Attribut so addressiert, als würde es bereits existieren (z.B. *E(graph)$attributneu*), um ihm Werte in Form eines Vektors zuzuweisen. Im folgenden Code-Chunk wird ein einfacher Graph manuell erzeugt, anschließend werden seinen Kanten Gewichte zugeordnet und der Graph wird - beschriftet mit den Kantengewichten - geplottet. Das Argument *edge.label* gibt die Beschriftung der Kanten an. Vollziehen Sie den Code nach und führen Sie Ihn anschließend aus."
   ]
  },
  {
   "cell_type": "code",
   "execution_count": 17,
   "metadata": {},
   "outputs": [],
   "source": [
    "#{\"3__7\"}\n",
    "#Erzeuge einen ungerichteten Graphen\n",
    "graph_weighted = Graph(n=8, edges=[(0,1),(0,2),(3,4),(3,5),(4,5)], directed=False)\n",
    "#Füge den Kanten das Attribut weight hinzu\n",
    "graph_weighted.es['weight'] = [3,6,8,2,7]\n",
    "#Plotte den Graphen mit Kantengewichten\n",
    "plot(graph_weighted, edge_label=graph_weighted.es['weight'],\n",
    "    vertex_label=graph_weighted.vs.indices).show()"
   ]
  },
  {
   "cell_type": "markdown",
   "metadata": {},
   "source": [
    "*Aufgabe:* Nun ist es Ihre Aufgabe, ein weiteres Attribut hinzuzufügen. Diesmal bezieht sich das Attribut auf die *Knoten* des Graphen *graph_weighted*. Es soll den Knoten **Namen** zuweisen. Ähnlich wie bei den Gewichten ist auch hier auf die genaue Bezeichnung zu achten - *name* - damit diverse Funktionen von *'igraph'* das Attribut als Knotennamen automatisch erkennen. Die Knoten sollen die folgenden Namen erhalten (in dieser Reihenfolge): \"Anna\", \"Sofie\", \"Peter\", \"Franzi\", \"Manuela\", \"Ben\", \"Kai\", \"Sandra\".\n",
    "\n",
    "*Anmerkung: Bitte beachten Sie, dass Attribute abgesehen von den Attributen Gewicht und Name in der Regel beliebige Namen tragen können.*"
   ]
  },
  {
   "cell_type": "code",
   "execution_count": 12,
   "metadata": {},
   "outputs": [],
   "source": [
    "#{\"3__8\"}\n",
    "#Fügen Sie den Knoten des Graphen graph_weighted das Attribut name hinzu,\n",
    "#indem Sie die oben angegebenen Namen in einem Character-Vektor übergeben\n",
    "#Vorsicht: Behalten Sie die Reihenfolge der Namen bitte genau so bei!\n",
    "graph_weighted.vs['name'] = [\"Anna\", \"Sofie\", \"Peter\", \"Franzi\", \"Manuela\", \"Ben\", \"Kai\", \"Sandra\"]"
   ]
  },
  {
   "cell_type": "markdown",
   "metadata": {},
   "source": [
    "*Aufgabe:* Plotten Sie nun den Graphen erneut beschriftet mit den *Kantengewichten*, ohne jedoch anzugeben, dass die Namen der Knoten angegeben werden sollen."
   ]
  },
  {
   "cell_type": "code",
   "execution_count": 14,
   "metadata": {},
   "outputs": [],
   "source": [
    "#{\"3__9\"}\n",
    "#Plotten Sie den Graph graph_weighted mit Kantengewichten\n",
    "plot(graph_weighted, edge_label=graph_weighted.es['weight']).show()"
   ]
  },
  {
   "cell_type": "markdown",
   "metadata": {},
   "source": [
    "Wie Sie sehen, hat der *plot*-Befehl von *'igraph'* automatisch die Benennung der Knoten als solche erkannt und die Nummerierung bei der Visualisierung durch die Namen ersetzt.\n"
   ]
  },
  {
   "cell_type": "markdown",
   "metadata": {},
   "source": [
    "## b) Zusammenhängende und nicht zusammenhängende Netzwerke"
   ]
  },
  {
   "cell_type": "markdown",
   "metadata": {},
   "source": [
    "Der Graph *graph_weighted* unterscheidet sich vom Graphen *graph_data1* unter anderem darin, dass nicht alle Knoten (zumindest indirekt) miteinander verbunden sind. Konkret besteht er aus vier Subgraphen - es handelt sich um einen **nicht zusammenhängenden** Graphen."
   ]
  },
  {
   "cell_type": "markdown",
   "metadata": {},
   "source": [
    "Im Skript haben Sie eine Methode kennengelernt, mit der die **Subgraphen (Komponenten)** eines Graphen bestimmt werden können: den BFS-Algorithmus. In R erhält man die Information, ob ein ungerichteter Graph zusammenhängend bzw. ein gerichteter Graph (schwach/stark) zusammenhängend ist, über den Befehl *is_connected(graph, mode)*. Die Komponenten selbst erhält man über den Befehl *components(graph, mode)*. Beide Funktionen verwenden zur Betrachtung des Zusammenhängens eines ungerichteten Graphen und zur Betrachtung des schwachen Zusammenhängens eines gerichteten Graphen den BFS-Algorithmus. Bei der Betrachtung des starken Zusammenhängens des gerichteten Graphen wird auf eine andere Methode zurückgegriffen.  \n",
    "Im folgenden Code-Chunk werden fünf Graphen erzeugt und geplottet, mit denen wir im Anschluss arbeiten werden. Führen Sie den Code aus."
   ]
  },
  {
   "cell_type": "code",
   "execution_count": 23,
   "metadata": {},
   "outputs": [],
   "source": [
    "#{\"3__10\"}\n",
    "#Erzeugung und Plotten von fünf Graphen (zwei ungerichtete, drei gerichtete)\n",
    "graph_1 = Graph(n=5, edges = [(0,1), (1,4), (2,3), (2,4), (2,5), (3,5), (4,0)], directed=False) \n",
    "plot(graph_1).show()\n",
    "graph_2 = Graph(n=5, edges = [(0,1), (1,4), (2,3), (2,5), (3,5), (4,0)], directed=False) \n",
    "plot(graph_2).show()\n",
    "graph_3 = Graph(n=4, edges = [(0,1), (1,2), (2,0), (1,3)]) \n",
    "plot(graph_3).show()\n",
    "graph_4 = Graph(n=4, edges = [(2,0), (1,3)])\n",
    "plot(graph_4).show()\n",
    "graph_5 = Graph(n=4, edges = [(0,1), (1,2), (2,0), (1,3), (3,1)])\n",
    "plot(graph_5).show()"
   ]
  },
  {
   "cell_type": "markdown",
   "metadata": {},
   "source": [
    "Bevor Sie mit Hilfe der R-Funktion *is_connected* überprüfen, welche Graphen (stark/schwach) zusammenhängend sind, versuchen Sie zunächst selbst, die folgenden Fragen zu beantworten:\n",
    "- - -\n",
    "\n",
    "Quiz: Welche(r) der beiden ungerichteten Graphen ist (sind) zusammenhängend?\n",
    "\n",
    "- graph_1 [x]\n",
    "\n",
    "- graph_2 [ ]\n",
    "\n",
    "\n",
    "Quiz: Welche(r) der drei gerichteten Graphen ist (sind) (mindestens) schwach zusammenhängend?\n",
    "\n",
    "- graph_3 [x]\n",
    "\n",
    "- graph_4 [ ]\n",
    "\n",
    "- graph_5 [x]\n",
    "\n",
    "\n",
    "Quiz: Welche(r) der drei gerichteten Graphen ist (sind) stark zusammenhängend?\n",
    "\n",
    "- graph_3 [ ]\n",
    "\n",
    "- graph_4 [ ]\n",
    "\n",
    "- graph_5 [x]"
   ]
  },
  {
   "cell_type": "markdown",
   "metadata": {},
   "source": [
    "*Aufgabe:* Überprüfen Sie nun im folgenden Code-Chunk mit Hilfe der Funktion *is_connected(graph, mode)* stichprobenartig die angegebenen Graphen. Das Argument *mode* wird lediglich bei *gerichteten Graphen* verwendet. Dort kann es entweder mit *\"strong\"* (für starken Zusammenhang) oder mit *\"weak\"* (für schwachen Zusammenhang) übergeben werden."
   ]
  },
  {
   "cell_type": "code",
   "execution_count": 6,
   "metadata": {},
   "outputs": [
    {
     "name": "stdout",
     "output_type": "stream",
     "text": [
      "True\n",
      "True\n",
      "True\n"
     ]
    }
   ],
   "source": [
    "#{r \"3__11\"}\n",
    "#Prüfen Sie, ob graph_1 tatsächlich ein zusammenhängender Graph ist\n",
    "print(graph_1.is_connected())\n",
    "#Prüfen Sie, ob graph_3 tatsächlich schwach zusammenhängend ist\n",
    "print(graph_3.is_connected(mode='weak'))\n",
    "#Prüfen Sie, ob graph_3 tatsächlich nicht stark zusammenhängend ist\n",
    "print(graph_3.is_connected(mode='strong'))"
   ]
  },
  {
   "cell_type": "markdown",
   "metadata": {},
   "source": [
    "*Aufgabe:* Lassen Sie sich nun mit dem Befehl *components(graph)* Informationen zu den **Komponenten** von *graph_2* ausgeben."
   ]
  },
  {
   "cell_type": "code",
   "execution_count": 10,
   "metadata": {},
   "outputs": [
    {
     "name": "stdout",
     "output_type": "stream",
     "text": [
      "Clustering with 6 elements and 2 clusters\n",
      "[0] 0, 1, 4\n",
      "[1] 2, 3, 5\n"
     ]
    }
   ],
   "source": [
    "#{\"3__12\"}\n",
    "#Lassen Sie sich die Komponenten von graph_2 ausgeben\n",
    "print(graph_2.components())"
   ]
  },
  {
   "cell_type": "markdown",
   "metadata": {},
   "source": [
    "Wie Sie sehen, wird zu jedem Knoten angegeben, welcher Komponente er angehört (*membership*). Außerdem erhält man Informationen zur Größe der Komponenten (*csize*) und zur Anzahl der Komponenten (*no*).\n"
   ]
  },
  {
   "cell_type": "markdown",
   "metadata": {},
   "source": [
    "# Exercise 4 -- Pfade und Entfernungen in Netzwerken"
   ]
  },
  {
   "cell_type": "markdown",
   "metadata": {},
   "source": [
    "## a) Entfernungen in Netzwerken"
   ]
  },
  {
   "cell_type": "markdown",
   "metadata": {},
   "source": [
    "Oftmals ist man daran interessiert, die **Entfernung** zwischen bestimmten Knoten in einem Netzwerk zu bestimmen. Die Entfernung \n",
    "$$d(n_i, n_j)$$\n",
    "ist dabei definiert als die Länge (in Bezug auf die Anzahl Kanten) des kürzesten Pfades vom Knoten $n_i$ zum Knoten $n_j$. Der Befehl *distances(graph, mode, weights)* im Package *'igraph'* berechnet eben diese Entfernung per default für alle Knoten des Netzwerks und gibt die Werte in einer Matrix zurück. Dabei können bei gerichteten Graphen entweder die Entfernungen vom Knoten in der Zeile zum Knoten in der Spalte angezeigt werden (Argument *mode=\"out\"*) oder umgekehrt (Argument *mode=\"in\"*). Für das Argument *mode=\"all\"* wird der Graph so behandelt, als seien die Kanten ungerichtet. Beim ungerichteten Graphen macht der Modus keinen Unterschied, sodass dieses Argument in dem Fall nicht benötigt wird.  \n",
    "Im folgenden Code-Chunk werden zwei Graphen erzeugt - ein ungerichteter und ein gerichteter Graph. Führen Sie den Code aus."
   ]
  },
  {
   "cell_type": "code",
   "execution_count": 2,
   "metadata": {},
   "outputs": [],
   "source": [
    "#{\"4\"}\n",
    "#Erzeuge zwei Graphen\n",
    "#ungerichteter Graph\n",
    "graph_1 = Graph(n=5, edges = [(0,1), (1,4), (2,3), (2,4), (2,5), (3,5), (4,0)], directed=False)\n",
    "#gerichteter Graph\n",
    "graph_3 = Graph(n=4, edges = [(0,1), (1,2), (2,0), (1,3)], directed=True)"
   ]
  },
  {
   "cell_type": "markdown",
   "metadata": {},
   "source": [
    "Betrachten wir zunächst einmal den **ungerichteten Graphen** *graph_1*. Der folgende Code-Chunk plottet den Graphen zunächst. \n",
    "- - -\n",
    "*Aufgabe:* Ihre Aufgabe ist es dann, in einem zweiten Schritt für diesen Graphen die Matrix der Entfernungen gemäß der obigen Erläuterung zu berechnen und anschließend anzeigen zu lassen."
   ]
  },
  {
   "cell_type": "code",
   "execution_count": 3,
   "metadata": {},
   "outputs": [
    {
     "data": {
      "text/plain": [
       "[[0, 1, 2, 3, 1, 3],\n",
       " [1, 0, 2, 3, 1, 3],\n",
       " [2, 2, 0, 1, 1, 1],\n",
       " [3, 3, 1, 0, 2, 1],\n",
       " [1, 1, 1, 2, 0, 2],\n",
       " [3, 3, 1, 1, 2, 0]]"
      ]
     },
     "execution_count": 3,
     "metadata": {},
     "output_type": "execute_result"
    }
   ],
   "source": [
    "#{\"4__2\"}\n",
    "#Plotten des Graphen graph_1\n",
    "plot(graph_1).show()\n",
    "#Berechnen Sie die Matrix der Entfernungen in graph_1 und \n",
    "#speichern Sie diese in der Variable d_1\n",
    "d_1 = graph_1.shortest_paths()\n",
    "#Lassen Sie sich die Variable d_1 anzeigen\n",
    "d_1"
   ]
  },
  {
   "cell_type": "markdown",
   "metadata": {},
   "source": [
    "*Aufgabe:* Lassen Sie sich nun konkret die Entfernung zwischen den Knoten 1 und 6 ausgeben.\n",
    "- - -\n",
    "*Anmerkung: Ein Element in Zeile $i$ und Spalte $j$ einer Matrix x wird in R mit dem Befehl x[i,j] addressiert.*"
   ]
  },
  {
   "cell_type": "code",
   "execution_count": 6,
   "metadata": {},
   "outputs": [
    {
     "data": {
      "text/plain": [
       "3"
      ]
     },
     "execution_count": 6,
     "metadata": {},
     "output_type": "execute_result"
    }
   ],
   "source": [
    "#{\"4__3\"}\n",
    "#Wie groß ist die Entfernung d(1,6)?\n",
    "d_1[0][5]"
   ]
  },
  {
   "cell_type": "markdown",
   "metadata": {},
   "source": [
    "Als Nächstes betrachten wir nun den **gerichteten Graphen** *graph_3*. Um das Element der Entfernungsmatrix mit einem analogen Befehl zu unserer Definition aufrufen zu können (vgl. *distances(...)[i,j]* und $d(n_i, n_j)$), werden wir dazu zunächst den Modus *mode=\"out\"* verwenden. Der folgende Code-Chunk plottet zunächst den (gerichteten) Graphen *graph_3*. \n",
    "- - -\n",
    "*Aufgabe:* Es ist Ihre Aufgabe, anschließend die Entfernungen *d(1,4)* sowie *d(4,1)* zu bestimmen. Folgen Sie dazu den Anweisungen in den Kommentaren."
   ]
  },
  {
   "cell_type": "code",
   "execution_count": 9,
   "metadata": {},
   "outputs": [
    {
     "name": "stdout",
     "output_type": "stream",
     "text": [
      "2\n",
      "inf\n",
      "[[0, 1, 2, 2], [2, 0, 1, 1], [1, 2, 0, 3], [inf, inf, inf, 0]]\n"
     ]
    }
   ],
   "source": [
    "#{\"4__4\"}\n",
    "#Plotten von graph_3\n",
    "plot(graph_3).show()\n",
    "#Bestimmen Sie die Matrix der Entfernungen, Modus \"out\" von graph_3 und\n",
    "#speichern Sie diese in der Variable d_3\n",
    "d_3 = graph_3.shortest_paths(mode='out')\n",
    "#Wie groß ist die Entfernung von Knoten 1 zu Knoten 4?\n",
    "print(d_3[0][3])\n",
    "#Wie groß ist die Entfernung von Knoten 4 zu Knoten 1?\n",
    "print(d_3[3][0])"
   ]
  },
  {
   "cell_type": "markdown",
   "metadata": {},
   "source": [
    "Sie sehen, dass auch in R (wie in der Theorie) die Entfernung $d(n_i, n_j)$ als unendlich groß (*Inf*) angegeben wird, wenn es keinen Pfad gibt, der von Knoten $n_i$ zu Knoten $n_j$ verläuft.\n",
    "\n",
    "Wie Sie vielleicht zu Beginn dieser Aufgabe bemerkt haben, kann die Funktion *distances* auch **Gewichte** (*weights*) **berücksichtigen**. Falls der betrachtete Graph ein Kantenattribut namens *weight* besitzt, verwendet die Funktion diese Werte automatisch als Gewichte. Ist dies nicht gewünscht, muss explizit das Argument *weights=NA* gesetzt werden.\n",
    "\n",
    "Stellen Sie sich vor, beim folgenden Graph handele es sich um ein Straßennetz. Die einzelnen Knoten stellen kleine Städte dar, die Kanten sind Schnellstraßen. Die Gewichte geben nun wieder, wie dicht der Verkehr auf einer Straße ist: Je größer die Gefahr eines Staus ist, desto höher ist das Gewicht. Der folgende Code-Chunk erstellt das Straßennetz, ordnet den Kanten das Attribut *weight* zu und plottet den Graphen. Im Plot sind die Kanten mit ihren Gewichten beschriftet. Betrachten Sie den Code und führen Sie ihn aus."
   ]
  },
  {
   "cell_type": "code",
   "execution_count": 3,
   "metadata": {},
   "outputs": [],
   "source": [
    "#{\"4__5\"}\n",
    "#Straßennetz als Graph definieren\n",
    "graph_roadnet = Graph(edges=[(0,1), (2,1), (1,3), (1,5), (3,4), (3,7), (4,5), (5,6)], directed=False)\n",
    "#Namen der Knoten hinzufügen\n",
    "graph_roadnet.vs['name'] = ['A', 'B', 'C', 'D', 'E', 'F', 'G', 'H']\n",
    "#Gewichtattribut hinzufügen\n",
    "graph_roadnet.es['weight'] = [1,1,4,10,3,9,2,3]\n",
    "#Graph mit Gewichten plotten\n",
    "plot(graph_roadnet, vertex_label=graph_roadnet.vs['name'], edge_label=graph_roadnet.es['weight']).show()\n"
   ]
  },
  {
   "cell_type": "markdown",
   "metadata": {},
   "source": [
    "*Aufgabe:* Stellen Sie sich vor, Sie wollen von Stadt *A* zu Stadt *F*. Ermitteln Sie mit Hilfe der Funktion *distances* die Entfernung zwischen den beiden Städten, wenn Sie keinen Verkehrsfunk berücksichtigen und die kürzestmögliche Distanz zurücklegen möchten; ermitteln Sie im Vergleich dazu, was die kürzeste Distanz unter Berücksichtigung der Verkehrssituation wäre."
   ]
  },
  {
   "cell_type": "code",
   "execution_count": 34,
   "metadata": {},
   "outputs": [
    {
     "name": "stdout",
     "output_type": "stream",
     "text": [
      "2\n",
      "10.0\n"
     ]
    }
   ],
   "source": [
    "#{\"4__6\"}\n",
    "#Wie groß ist die Entfernung zwischen A und F \n",
    "#ohne Berücksichtigung des Verkehrs?\n",
    "print(graph_roadnet.shortest_paths()[0][5])\n",
    "#Wie groß ist die Entfernung mit Berücksichtigung des Verkehrs?\n",
    "print(graph_roadnet.shortest_paths(weights='weight')[0][5])"
   ]
  },
  {
   "cell_type": "markdown",
   "metadata": {},
   "source": [
    "Beachten Sie, dass die Ergebnisse hier unterschiedlich zu interpretieren sind. Ohne Berücksichtigung der Gewichte wird die Anzahl der zu passierenden Straßen angegeben, mit Berücksichtigung der Gewichte die Anzahl der Staugefahreinheiten."
   ]
  },
  {
   "cell_type": "markdown",
   "metadata": {},
   "source": [
    "## b) Kürzester Pfad zwischen Knoten"
   ]
  },
  {
   "cell_type": "markdown",
   "metadata": {},
   "source": [
    "Während manchmal lediglich die Anzahl der Kanten zwischen zwei Knoten - die Entfernung - eine Rolle spielt, ist es in anderen Kontexten interessant zu wissen, wie genau der **kürzeste Pfad** zwischen zwei Knoten verläuft - beispielsweise in obigem Straßennetz.\n",
    "\n",
    "Der folgende Code-Chunk betrachtet erneut das Straßennetz *graph_roadnet*. Er zeigt zunächst, wie der kürzeste Pfad von *A* nach *F* verläuft, falls die Verkehrssituation nicht berücksichtigt wird. Der Code hierfür ist bereits gegeben. Betrachten Sie den hierzu verwendeten Befehl *shortest_paths(graph, from, to, weights, output=\"both\")*.\n",
    "- - -\n",
    "*Aufgabe:* Nutzen Sie denselben Befehl anschließend selbst, um den kürzesten Pfad von *A* nach *F* - diesmal jedoch unter Berücksichtigung der Verkehrssituation - auszugeben. Beachten Sie, dass der Umgang mit Gewichten hier genau analog funktioniert wie bei der Funktion *distances*.  \n",
    "- - -\n",
    "*Anmerkung: Nähere Informationen zum Output finden Sie unterhalb des Code-Chunks.*"
   ]
  },
  {
   "cell_type": "code",
   "execution_count": 58,
   "metadata": {},
   "outputs": [
    {
     "name": "stdout",
     "output_type": "stream",
     "text": [
      "[[0, 1, 5]]\n",
      "[[0, 1, 3, 4, 5]]\n"
     ]
    }
   ],
   "source": [
    "#{\"4__7\"}\n",
    "#Ausgabe des kürzesten Pfades von A nach F ohne Berücksichtigung\n",
    "#des Verkehrs\n",
    "print(graph_roadnet.get_shortest_paths(v='A', to='F'))\n",
    "#Ausgabe des kürzesten Pfades von A nach F mit Berücksichtigung\n",
    "#des Verkehrs\n",
    "print(graph_roadnet.get_shortest_paths(v='A', to='F', weights = 'weight'))"
   ]
  },
  {
   "cell_type": "markdown",
   "metadata": {},
   "source": [
    "Wie Sie dem Output entnehmen können, gibt die Funktion *shortest_paths* eine Liste zurück. Das erste Element der Liste (*vpath*) gibt für jeden Zielknoten (*to*) den Pfad als Vektor der Knoten (inklusive Anfangs- und Endknoten) an. Das zweite Element der Liste (*epath*) gibt für jeden Zielknoten die Kanten an, die auf dem Pfad passiert werden. Die beiden weiteren Elemente der Liste sollen für uns keine Rolle spielen.\n",
    "\n",
    "- - -\n",
    "*Aufgabe:* Zum Abschluss ist es nun Ihre Aufgabe, die Funktion auf einen **gerichteten Graphen** anzuwenden. Hier ist zu beachten, dass erneut wie bei der Funktion *distances* der Modus angegeben werden kann. Wir verwenden auch hier das Argument *mode=\"out\"*. Lassen Sie sich für den gerichteten Graphen *graph_3*, der keine Gewichte besitzt, den kürzesten Pfad von Knoten 3 zu Knoten 4 ausgeben. Wählen Sie auch hier das Argument *output=\"both\"*.\n",
    "- - -\n",
    "Zur besseren Vorstellung wird der Graph anschließend erneut geplottet."
   ]
  },
  {
   "cell_type": "code",
   "execution_count": 70,
   "metadata": {},
   "outputs": [
    {
     "name": "stdout",
     "output_type": "stream",
     "text": [
      "[[2, 0, 1, 3]]\n"
     ]
    }
   ],
   "source": [
    "#{\"4__8\"}\n",
    "#Ausgabe des kürzesten Pfades von Knoten 3 zu Knoten 4 in graph_3\n",
    "#Wählen Sie die Reihenfolge der Argumente bitte wie folgt:\n",
    "#graph, from, to, mode, output\n",
    "print(graph_3.get_shortest_paths(v=2, to=3, mode = \"out\"))\n",
    "#Plotten von graph_3\n",
    "plot(graph_3, vertex_label=range(1, graph_3.vcount()+1)).show()"
   ]
  },
  {
   "cell_type": "markdown",
   "metadata": {},
   "source": [
    "## c) Anzahl der Pfade der Länge n"
   ]
  },
  {
   "cell_type": "markdown",
   "metadata": {},
   "source": [
    "Um die Anzahl der Pfade mit einer bestimmten Länge *n* zwischen zwei Knoten $n_i$ und $n_j$ in einem Netzwerk zu ermitteln, haben Sie im Skript eine allgemeine Formel kennengelernt. Daraus ergibt sich die **Gesamtanzahl der Pfade mit Länge** ***n*** **im Netzwerk**:\n",
    "$$\\sum_{i=1}^{|N|}{\\sum_{j=1}^{|N|}[A^n]_{ij}}$$\n",
    "Für Pfade der Länge *n* wird also die Adjazenzmatrix *A* *n*-Mal mit sich selbst multipliziert und anschließend werden die Elemente der resultierenden Matrix aufsummiert.  \n",
    "- - -\n",
    "*Aufgabe:* Im folgenden Code-Chunk ist es Ihre Aufgabe, eine Funktion zu schreiben, die für eine gegebene Pfadlänge *n* und einen gegebenen Graphen *graph*, welche der Funktion als Argumente übergeben werden, die Anzahl der Pfade mit dieser Länge zurückgibt. Eine Vorlage für den Rahmen der Funktion ist bereits gegeben. Verwenden Sie diese Vorlage, indem Sie die Kommentarzeichen (*#*) entfernen und an den entsprechenden Stellen mit Fragezeichen den fehlenden Code hinzufügen.\n",
    "- - -\n",
    "*Anmerkung: Falls Sie mit Matrizenrechnung in R nicht vertraut sind, finden Sie in der untenstehenden Infobox eine Hilfestellung.*\n",
    "info(\"Rechnen mit Matrizen und Vektoren in R\") # Run this line (Strg-Enter) to show info\n"
   ]
  },
  {
   "cell_type": "code",
   "execution_count": 18,
   "metadata": {},
   "outputs": [],
   "source": [
    "#{\"4__9\"}\n",
    "#Ergänzen Sie die folgende Funktion und entfernen Sie die Kommentarzeichen\n",
    "\n",
    "def path_counter(graph, n):\n",
    "    distance_matrix = graph.shortest_paths()\n",
    "    distances = [distance for distance_list in distance_matrix for distance in distance_list]\n",
    "\n",
    "    counter = distances.count(n)\n",
    "    \n",
    "    return counter"
   ]
  },
  {
   "cell_type": "markdown",
   "metadata": {},
   "source": [
    "*Aufgabe:* Testen Sie nun Ihre Funktion, indem Sie die Anzahl der Pfade mit Länge 1 und die Anzahl der Pfade mit Länge 3 im ungerichteten Graphen *graph_1* ermitteln."
   ]
  },
  {
   "cell_type": "code",
   "execution_count": 25,
   "metadata": {},
   "outputs": [
    {
     "name": "stdout",
     "output_type": "stream",
     "text": [
      "14\n",
      "8\n"
     ]
    }
   ],
   "source": [
    "#{\"4__10\"}\n",
    "#Ermitteln Sie die Anzahl der Pfade mit Länge 1 in graph_1\n",
    "print(path_counter(graph_1, 1))\n",
    "#Ermitteln Sie die Anzahl der Pfade mit Länge 3 in graph_1\n",
    "print(path_counter(graph_1, 3))"
   ]
  },
  {
   "cell_type": "markdown",
   "metadata": {},
   "source": [
    "# Literaturverzeichnis"
   ]
  },
  {
   "cell_type": "markdown",
   "metadata": {},
   "source": [
    "## Packages"
   ]
  },
  {
   "cell_type": "markdown",
   "metadata": {},
   "source": [
    "## Packagebeschreibung"
   ]
  },
  {
   "cell_type": "markdown",
   "metadata": {},
   "source": [
    "## Buch-, Paper-, Onlinequellen:"
   ]
  },
  {
   "cell_type": "markdown",
   "metadata": {},
   "source": [
    "* Kolaczyk, Eric; Csárdi, Gábor (2014): Statistical Analysis of Network Data with R. New York: Springer Science+Business Media. \n",
    "* Luke, Douglas A. (2015): A User's Guide to Network Analysis in R. Springer International Publishing Switzerland.\n",
    "* Ognyanova, Katya (2016a):, NetSciX School of Code Workshop: Network analysis (and visualization) with R and igraph. NetSciX 2016 School of Code Workshop, Wroclaw, URL: www.kateto.net/netscix2016. (inklusive dort bereitgestelltes Code-Material)  \n",
    "* Ognyanova, Katya (2016b): Network visualization with R. POLNET 2016 Workshop, St. Louis, MO, URL: http://kateto.net/network-visualization.  "
   ]
  }
 ],
 "metadata": {
  "interpreter": {
   "hash": "bed862baa169bd35b57b2a485b7961cf7d1bd32d9b549d4e10480d14566cc8ca"
  },
  "kernelspec": {
   "display_name": "Python 3.7.8 64-bit ('venv': venv)",
   "name": "python3"
  },
  "language_info": {
   "codemirror_mode": {
    "name": "ipython",
    "version": 3
   },
   "file_extension": ".py",
   "mimetype": "text/x-python",
   "name": "python",
   "nbconvert_exporter": "python",
   "pygments_lexer": "ipython3",
   "version": "3.7.8"
  },
  "orig_nbformat": 4
 },
 "nbformat": 4,
 "nbformat_minor": 2
}
