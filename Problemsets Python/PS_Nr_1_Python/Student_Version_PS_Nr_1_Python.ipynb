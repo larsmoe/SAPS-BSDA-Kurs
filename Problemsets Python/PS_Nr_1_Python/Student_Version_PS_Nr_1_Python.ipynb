{
  "cells": [
    {
      "cell_type": "markdown",
      "metadata": {
        "id": "uLv0J6CRlKM4"
      },
      "source": [
        "# Exercise 1"
      ]
    },
    {
      "cell_type": "markdown",
      "metadata": {
        "id": "l6OnLB53lKM7"
      },
      "source": [
        "Willkommen zum ersten Problem Set in diesem Modul! Sie finden hier vier Aufgaben (*Exercises*) zu Inhalten aus Kapitel 3 *Social Network Analysis* - konkret zu 3.1. Die Reihenfolge der Aufgaben entspricht dabei im Wesentlichen der Reihenfolge der Inhalte im Skript. Aus diesem Grund, aber auch da die Inhalte zu Python im Laufe des Problem Sets aufeinander aufbauen, empfiehlt es sich, die Reihenfolge der Aufgaben einzuhalten."
      ]
    },
    {
      "cell_type": "markdown",
      "metadata": {
        "id": "nsqj4iVdlKM7"
      },
      "source": [
        "## Vorraussetzungen bezüglich Python"
      ]
    },
    {
      "cell_type": "markdown",
      "metadata": {
        "id": "0dyQK1_mlKM7"
      },
      "source": [
        "###PLACEHOLDER###"
      ]
    },
    {
      "cell_type": "markdown",
      "metadata": {
        "id": "fAK5DVFpSRaz"
      },
      "source": [
        "In der folgenden Zelle werden die, für dieses Problem Set notwendigen, Packages installiert. Generell können Packages über \"pip install\" + Name des Packages installiert werden. In Google Colab muss zusätzlich noch ein Ausrufezeichen vorangestellt werden. "
      ]
    },
    {
      "cell_type": "code",
      "execution_count": null,
      "metadata": {
        "colab": {
          "base_uri": "https://localhost:8080/"
        },
        "id": "6S7PGoB7lTkf",
        "outputId": "2fb6446b-35d2-4fce-d2a8-95fb62a2afe5"
      },
      "outputs": [],
      "source": [
        "#!pip install igraph==0.9.8\n",
        "#!apt install libcairo2-dev\n",
        "#!pip install pycairo"
      ]
    },
    {
      "cell_type": "markdown",
      "metadata": {
        "id": "g5DaubLalKM8"
      },
      "source": [
        "## Ein erster Einblick"
      ]
    },
    {
      "cell_type": "markdown",
      "metadata": {
        "id": "LYgtCV36lKM8"
      },
      "source": [
        "Im Rahmen dieser Veranstaltung werden wir das Package \"igraph\" verwenden, um Graphen in Python zu generieren. Die Erklärungen zu den Funktionen des Packages finden Sie in den Aufgabenbeschreibungen. Sollten Sie Ihr Wissen vertiefen wollen, dann können Sie gerne einen Blick in die Dokumentation von igraph werfen. Diese finden Sie unter dem folgenden Link  (<https://igraph.org/python/#docs>)"
      ]
    },
    {
      "cell_type": "markdown",
      "metadata": {
        "id": "DsDrPtoElKM8"
      },
      "source": [
        "In der nächsten Zelle werden zunächst die, für dieses Problem Set notwendigen, Packages geladen. \n",
        "Sie können sich Packages wie Zusatzwerkzeuge vorstellen. Python ist wie ein Werkzeugkasten, den Sie bei Bedarf erweitern können.\n",
        "\n",
        "Das Package Igraph verwenden wir für die Erzeugung und Darstellung der Netzwerkgraphen.\n",
        "Das Package NumPy hilft Mathematischen Berechnungen (insb. mit Vektoren und Matrizen).\n",
        "Das Package Pandas liefert für uns nützliche Werkzeuge zum Import und Erstellen von Tabellen."
      ]
    },
    {
      "cell_type": "code",
      "execution_count": null,
      "metadata": {
        "id": "0PrwGB2FlKM9"
      },
      "outputs": [],
      "source": [
        "# Lade die library igraph\n",
        "from igraph import *\n",
        "import numpy as np\n",
        "import pandas as pd"
      ]
    },
    {
      "cell_type": "markdown",
      "metadata": {
        "id": "ySPGzHyBlKM-"
      },
      "source": [
        "Im folgenden sehen Sie ein paar Beispiele für Netzwerkgraphen, die mit dem igraph Package erstellt wurden. Führen Sie den Code gerne aus und schauen Sie sich die einzelnen Graphen an.\n",
        "*Anmerkung: Die Details des Codes sind an dieser Stelle vernachlässigbar.*"
      ]
    },
    {
      "cell_type": "code",
      "execution_count": null,
      "metadata": {
        "colab": {
          "base_uri": "https://localhost:8080/",
          "height": 821
        },
        "id": "tq4zHcKNlKM-",
        "outputId": "5de2e4d0-4fdb-42e4-ff62-fe21a0ac45d5"
      },
      "outputs": [],
      "source": [
        "# Vollständiger Graph mit 40 Knoten\n",
        "fg = Graph.Full(n=40, directed=False, loops=False)\n",
        "plot(fg)"
      ]
    },
    {
      "cell_type": "code",
      "execution_count": null,
      "metadata": {
        "colab": {
          "base_uri": "https://localhost:8080/",
          "height": 821
        },
        "id": "1qxN2xkUlKM_",
        "outputId": "bf50ffc9-ec4a-4b65-8f92-a52a5e470e4a"
      },
      "outputs": [],
      "source": [
        "# Baum mit 40 Knoten\n",
        "tr = Graph.Tree(n=40, children=3, mode='undirected')\n",
        "plot(tr)"
      ]
    },
    {
      "cell_type": "code",
      "execution_count": null,
      "metadata": {
        "colab": {
          "base_uri": "https://localhost:8080/",
          "height": 821
        },
        "id": "9XFgJrOKlKM_",
        "outputId": "b037563b-0451-467a-e86f-79c3bbd00e68"
      },
      "outputs": [],
      "source": [
        "# Erdos-Renyi Zufallsgraph\n",
        "er = Graph.Erdos_Renyi(n=100, m=40, directed=False, loops=False)\n",
        "plot(er)"
      ]
    },
    {
      "cell_type": "code",
      "execution_count": null,
      "metadata": {
        "colab": {
          "base_uri": "https://localhost:8080/",
          "height": 821
        },
        "id": "qpc8fmwqlKM_",
        "outputId": "74504379-2ca0-4a50-ba21-f9cafd430beb"
      },
      "outputs": [],
      "source": [
        "# Watts-Strogatz Small-World-Graph\n",
        "sw = Graph.Watts_Strogatz(dim=2, size=10, nei=1, p=0.1, loops=False, multiple=False)\n",
        "plot(sw, layout='circle')"
      ]
    },
    {
      "cell_type": "code",
      "execution_count": null,
      "metadata": {
        "colab": {
          "base_uri": "https://localhost:8080/",
          "height": 821
        },
        "id": "N7uYdNYVlKNA",
        "outputId": "165b9a38-ff11-41a8-d3cf-cc0310ffc78e"
      },
      "outputs": [],
      "source": [
        "# Barabasi-Alberts Modell für skalenfreie Graphen\n",
        "ba = Graph.Barabasi(n=100, m=1, power=1, directed=False)\n",
        "plot(ba)"
      ]
    },
    {
      "cell_type": "markdown",
      "metadata": {
        "id": "9q55Dv9BlKNA"
      },
      "source": [
        "## Aufbau dieses Problem Sets"
      ]
    },
    {
      "cell_type": "markdown",
      "metadata": {
        "id": "W5uesHxklKNA"
      },
      "source": [
        "Im Verlauf dieses Moduls werden Sie mehrere Problem Sets erhalten. Dieses erste Problem Set widmet sich den Möglichkeiten, Python auf den Inhalt des Kapitels 3.1 des Skripts anzuwenden. Es orientiert sich am Skript und ist konkret wie folgt gegliedert:\n",
        "\n",
        "* *Aufgabe 2* -- Modellierung und graphische Darstellung von Netzwerken \n",
        "* *Aufgabe 3* -- Weitere Arten von Netzwerken \n",
        "* *Aufgabe 4* -- Pfade und Entfernungen in Netzwerken \n",
        "\n",
        "Zu den restlichen Inhalten aus Kapitel 3 werden Sie in späteren Problem Sets weitere Aufgaben erhalten:\n",
        "\n",
        "* *Aufgabe 5* -- Kennzahlen zur Beschreibung von Netzwerken \n",
        "* *Aufgabe 6* -- Zentralität in Netzwerken \n",
        "* *Aufgabe 7* -- Communities in Netzwerken\n",
        "* *Aufgabe 8* -- Information Diffusion in Netzwerken\n",
        "\n",
        "Bezüglich des Codes ist jede der Aufgaben (*Exercises*) unabhängig von den anderen Aufgaben. Das heißt, Sie müssen das Problem Set nicht an einem Stück bearbeiten, sondern können die Aufgaben zeitlich versetzt lösen. Wie bereits erläutert empfiehlt es sich dennoch, die Reihenfolge bei der Bearbeitung einzuhalten. **Beachten Sie bitte, dass Sie innerhalb einer Aufgabe die enthaltenen *Zellen* in der vorgegebenen Reihenfolge bearbeiten müssen.** Das liegt daran, dass die einzelnen Teile des Codes aufeinander aufbauen."
      ]
    },
    {
      "cell_type": "markdown",
      "metadata": {
        "id": "IqjIainolKNA"
      },
      "source": [
        "# Exercise 2"
      ]
    },
    {
      "cell_type": "markdown",
      "metadata": {
        "id": "LpKNbvS0lKNB"
      },
      "source": [
        "Im letzten Kapitel haben Sie einige verschiedene Graphen mit dem Package *'igraph'* erzeugt und visualisiert - und damit einen ersten Eindruck erhalten, wozu das Package *'igraph'* in der Lage ist. In diesem Kapitel erlernen Sie nun die grundlegenden Befehle, um selbst Graphen zu erzeugen und zu zeichnen. Diese Aufgabe ist angelehnt an den Workshop von Ognyanova (2016a) (<http://www.kateto.net/netscix2016>), welcher jedoch für die Sprache R konzipiert wurde.\n",
        "\n",
        "*Anmerkung: Im Package 'igraph' werden Objekte, die Netzwerke repräsentieren, als \"Graphen\" bezeichnet.*"
      ]
    },
    {
      "cell_type": "markdown",
      "metadata": {
        "id": "XnI8Npt8lKNB"
      },
      "source": [
        "## a) Graphen manuell erzeugen"
      ]
    },
    {
      "cell_type": "markdown",
      "metadata": {
        "id": "FPMXcezNlKNB"
      },
      "source": [
        "Eine Darstellungsmöglichkeit von Netzwerken sind **Graphen**. In der Theorie wird ein Graph $G$ durch die Menge der Knoten $N$ und die Menge der Kanten $L$ definiert:  \n",
        "$$G:= (N,L)$$"
      ]
    },
    {
      "cell_type": "markdown",
      "metadata": {
        "id": "Tvgc0vywlKNB"
      },
      "source": [
        "$$N:=\\{n_1, ..., n_{|N|}\\}$$"
      ]
    },
    {
      "cell_type": "markdown",
      "metadata": {
        "id": "4sP0FctglKNB"
      },
      "source": [
        "$$L:=\\{ l_1, l_2, ..., l_{|L|} \\}$$"
      ]
    },
    {
      "cell_type": "markdown",
      "metadata": {
        "id": "dSQyOLiElKNB"
      },
      "source": [
        "Wenn das Netzwerk eine überschaubare Größe besitzt, so kann man einen Graphen in Python von Hand definieren. Dazu verwendet man den Befehl *Graph(n, edges)*, um ein Graph-Objekt zu erzeugen. Analog zur Theorie müssen dabei als Argumente die Menge der Kanten, genannt *edges*, sowie die Anzahl der Knoten *n* angegeben werden. Per default wird so ein ungerichteter Graph erzeugt.  \n",
        "\n",
        "Der folgende Code-Chunk zeigt beispielhaft die Erstellung eines **gerichteten Graphen** mit vier Knoten, bei dem eine Verbindung von Knoten 1 zu Knoten 2, von Knoten 2 zu Knoten 3 und von Knoten 3 zu Knoten 1 besteht. Der Befehl *plot(x)* zeichnet den Graphen *x*. Betrachten Sie den Code und führen Sie ihn aus.\n",
        "\n",
        "**Wichtig: ** In Python beginnen Indices stets bei 0. Eine Kante (0,1) verläuft demnach von Knoten 1 zu Knoten 2. Deshalb müssen Sie bei der Übersetzung in Python Code immer 1 subtrahieren."
      ]
    },
    {
      "cell_type": "markdown",
      "metadata": {},
      "source": [
        "### Aufgabe 2.1"
      ]
    },
    {
      "cell_type": "code",
      "execution_count": null,
      "metadata": {
        "colab": {
          "base_uri": "https://localhost:8080/",
          "height": 821
        },
        "id": "HU3R982ilKNC",
        "outputId": "0e29cdf9-51d6-452a-8886-35c33be76e38"
      },
      "outputs": [],
      "source": [
        "# {\"2__1\"}\n",
        "#Erstellen Sie einen Graphen mit 4 Knoten, von denen die Knoten 1, 2 und 3 miteinander verbunden sind\n",
        "\n",
        "#Plotten Sie nun den Graphen graph_example durch Ergänzen des folgenden Codes\n",
        "plot(____, vertex_label=graph_example.vs.indices)"
      ]
    },
    {
      "cell_type": "markdown",
      "metadata": {
        "id": "nnEgxAi5lKNC"
      },
      "source": [
        "#### Tipps"
      ]
    },
    {
      "cell_type": "markdown",
      "metadata": {},
      "source": [
        "##### Tipp 1"
      ]
    },
    {
      "cell_type": "markdown",
      "metadata": {
        "id": "755KLrJRlKNC"
      },
      "source": [
        "Die Kanten des Graphen werden in der Form *[(Knoten1, Knoten2),...]* deklariert \n",
        "<br>\n",
        "<br>\n",
        "Im Plot Befehl müssen Sie den Namen des zu plottenden Graphen angeben"
      ]
    },
    {
      "cell_type": "markdown",
      "metadata": {},
      "source": [
        "##### Tipp 2"
      ]
    },
    {
      "cell_type": "markdown",
      "metadata": {},
      "source": [
        "Der Befehl zur Deklaration des Graphen sieht in etwa so aus *Graph(n=XYZ, edges=[(0,1),XYZ,XYZ], directed=XYZ)*"
      ]
    },
    {
      "cell_type": "markdown",
      "metadata": {},
      "source": [
        "##### Lösung"
      ]
    },
    {
      "cell_type": "markdown",
      "metadata": {},
      "source": [
        "graph_example = Graph(n=4, edges=[(0,1),(1,2),(2,0)], directed=True)\n",
        "<br>\n",
        "plot(graph_example, vertex_label=graph_example.vs.indices)"
      ]
    },
    {
      "cell_type": "markdown",
      "metadata": {
        "id": "vWY2oFVrlKNC"
      },
      "source": [
        "### Aufgabe 2.2"
      ]
    },
    {
      "cell_type": "markdown",
      "metadata": {
        "id": "2xF53Ze9lKNC"
      },
      "source": [
        "Wie Sie sehen, wird die Menge der Kanten im Befehl *Graph* durch einen Vektor dargestellt, bei dem die Anfangs- und Endknoten der einzelnen Kanten durch Kommata getrennt nacheinander aufgelistet werden.  \n",
        "- - -\n",
        "*Aufgabe:* Im Folgenden ist es nun Ihre Aufgabe, einen solchen ungerichteten Graphen zu erstellen. Der Graph soll fünf Knoten enthalten, wobei jeweils eine Verbindung vom Knoten 1 zu den Knoten 2, 3 und 4, sowie eine Verbindung von Knoten 3 zu Knoten 5 besteht. Zeichnen Sie im Anschluss daran den Graphen und führen Sie den Code aus.\n",
        "\n",
        "*Anmerkung:* Verwenden Sie zum Hinzufügen der Knotenbeschriftungen, innerhalb des *plot* Befehls, den Parameter *vertex_label = range(1, graph_ud1.vcount()+1)* aus der vorherigen Aufgabe. Der Befehl beschriftet die Knoten im Graph mit ihren Indices. Da Python bei 0 beginnt zu zählen, muss jeweils noch eine 1 addiert werden. Letztendlich erhält dann der erste Knoten die Beschriftung 1, der Zweite die 2 usw."
      ]
    },
    {
      "cell_type": "code",
      "execution_count": null,
      "metadata": {
        "colab": {
          "base_uri": "https://localhost:8080/",
          "height": 821
        },
        "id": "x8W1biyYlKND",
        "outputId": "479a7e93-f19f-4371-b984-b9ff212717a9"
      },
      "outputs": [],
      "source": [
        "# {\"2__2\"}\n",
        "#Erstellen Sie einen Graphen wie oben beschrieben und speichern Sie ihn in der Variable graph_ud1\n",
        "\n",
        "#Plotten Sie nun den Graphen graph_ud1 durch Ergänzen des folgenden Codes\n",
        "plot(____, vertex_label=range(1, graph_ud1.vcount() + 1))"
      ]
    },
    {
      "cell_type": "markdown",
      "metadata": {},
      "source": [
        "#### Tipps"
      ]
    },
    {
      "cell_type": "markdown",
      "metadata": {},
      "source": [
        "##### Tipp 1"
      ]
    },
    {
      "cell_type": "markdown",
      "metadata": {},
      "source": [
        "Erinnern Sie sich an den Parameter *directed* aus der vorherigen Aufgabe"
      ]
    },
    {
      "cell_type": "markdown",
      "metadata": {},
      "source": [
        "##### Lösung"
      ]
    },
    {
      "cell_type": "markdown",
      "metadata": {},
      "source": [
        "graph_example = Graph(n=4, edges=[(0,1),(1,2),(2,0)], directed=False)\n",
        "<br>\n",
        "plot(graph_example, vertex_label=range(1, graph_ud1.vcount() + 1))"
      ]
    },
    {
      "cell_type": "markdown",
      "metadata": {},
      "source": [
        "### Aufgabe 2.3"
      ]
    },
    {
      "cell_type": "markdown",
      "metadata": {
        "id": "IezT_wCHlKND"
      },
      "source": [
        "Um einen **gerichteten Graphen** zu erzeugen, muss das zusätzliche Argument *directed* auf *True* gesetzt werden.  \n",
        "- - -\n",
        "*Aufgabe:* Erstellen Sie im folgenden Code-Chunk denjenigen Graphen, welcher entsteht, wenn Sie jede gerichtete Kante des obigen Graphen durch eine gerichtete Kante ersetzen. Speichern Sie den Graphen in der Variable *graph_d1* und zeichnen Sie diesen gerichteten Graphen anschließend.\n",
        "- - -"
      ]
    },
    {
      "cell_type": "code",
      "execution_count": null,
      "metadata": {
        "colab": {
          "base_uri": "https://localhost:8080/",
          "height": 821
        },
        "id": "s_38uKnJlKND",
        "outputId": "5380798f-fd7c-423c-e1a9-4997c3df1fbd"
      },
      "outputs": [],
      "source": [
        "# {\"2__3\"}\n",
        "#Erstellen Sie den in der Aufgabenstellung beschriebenen gerichteten Graphen\n",
        "#und speichern Sie ihn anschließend in der Variable graph_d1\n",
        "\n",
        "#Plotten Sie den Graphen graph_d1\n"
      ]
    },
    {
      "cell_type": "markdown",
      "metadata": {},
      "source": [
        "#### Tipps"
      ]
    },
    {
      "cell_type": "markdown",
      "metadata": {},
      "source": [
        "##### Tipp 1"
      ]
    },
    {
      "cell_type": "markdown",
      "metadata": {},
      "source": [
        "Diese Aufgabe funktioniert im Wesentlichen analog zu den bisherigen. Erinnern Sie sich, welcher Parameter bestimmt, ob der Graph gerichten oder ungerichtet ist."
      ]
    },
    {
      "cell_type": "markdown",
      "metadata": {},
      "source": [
        "##### Lösung"
      ]
    },
    {
      "cell_type": "markdown",
      "metadata": {},
      "source": [
        "graph_d1 = Graph(n = 5, edges=[(0,1), (0,2), (0,3), (2,4)], directed=True)\n",
        "<br>\n",
        "plot(graph_d1, vertex_label=range(1, graph_d1.vcount() + 1))"
      ]
    },
    {
      "cell_type": "markdown",
      "metadata": {},
      "source": [
        "### Aufgabe 2.4"
      ]
    },
    {
      "cell_type": "markdown",
      "metadata": {
        "id": "pfRNOmYDlKND"
      },
      "source": [
        "Wenn Sie möchten, dass die Knoten des Graphen nicht nur Nummern, sondern **Namen** erhalten, so können Sie dies folgendermaßen erreichen: Nachdem Sie den Graphen mithilfe von *Graph* erzeugt haben, können Sie über den Befehl *graph.vs* die Knoten und deren Eigenschaften des Graphen ansteuern. Verwenden Sie zum Hinzufügen der Namen nun den folgenden Ausdruck: *graph_n1.vs['label'] = [Liste an Namen in **Anführungszeichen**, getrennt durch Kommas]*\n",
        "Becahten Sie, dass die **Kommas hier nicht innerhalb, sondern zwischen den Anführungszeichen** stehen müssen.\n",
        "Beispiel: ['Lisa', 'Sarah']\n",
        "  \n",
        "Betrachten wir nun die drei Jungs *Mike*, *Michael* und *Max*: Mike ist mit Max und mit Michael befreundet. Zwischen Michael und Max besteht keine direkte Beziehung.  \n",
        "- - -\n",
        "*Aufgabe:* Zeichnen Sie einen ungerichteten Graphen, der die Freundschaftsbeziehungen zwischen Mike, Michael und Max beschreibt. Speichern Sie den Graphen in der Variable *graph_n1* und zeichnen Sie ihn.  \n",
        "- - -\n",
        "*Anmerkung: Sie werden sehen, dass der entstandene Plot nicht sehr schön gestaltet ist. Welche Möglichkeiten der plot-Befehl bietet, um Plots schöner zu gestalten, lernen Sie in Abschnitt d) dieser Aufgabe.*"
      ]
    },
    {
      "cell_type": "code",
      "execution_count": null,
      "metadata": {
        "colab": {
          "base_uri": "https://localhost:8080/",
          "height": 821
        },
        "id": "1i0H5w6XlKND",
        "outputId": "1a01db8e-d489-4be5-af6b-0b46202a810c"
      },
      "outputs": [],
      "source": [
        "#{\"2__4\"}\n",
        "#Erstellen Sie den oben beschriebenen Graphen und speichern Sie ihn\n",
        "#in der Variable graph_n1\n",
        "graph_n1 = Graph(n=3, edges=[(0,1), (1,2)], directed=False)\n",
        "graph_n1.vs['label'] = [ \"Max\", \"Mike\", \"Michael\"]\n",
        "#Zeichnen Sie den Graphen\n",
        "plot(graph_n1)"
      ]
    },
    {
      "cell_type": "markdown",
      "metadata": {
        "id": "s-sAptoqlKND"
      },
      "source": [
        "Im obigen Beispiel sind alle Knoten jeweils mit einem anderen Knoten verbunden. Es kann jedoch auch isolierte Knoten geben, die mit keinem weiteren Knoten verbunden sind. Um solche Knoten im Graphen darzustellen, geben Sie zunächst über den Parameter *n* die Gesamtzahl der Knoten an. Anschließend geben Sie wie zuvor über den Befehl *graph_name.vs['label']* die Namen der Knoten an. Beachten Sie dabei, die Namen in der richtigen Reihenfolge zu benennen. Wenn Sie eine Kante von (0,1) deklarieren, dann verläuft diese Kante zwischen dem ersten und zweiten Namen in der Liste. Foglich müssen Sie die isolierten Knoten so in der Liste platzieren, dass zwischen Ihnen keine Kante verläuft. \n",
        " \n",
        "Betrachten wir nun einen erweiterten \"Freundeskreis\": Zusätzlich zu *Mike*, *Michael* und *Max* sind in diesem noch *Manuel* und *Lisa* vertreten. Die beiden sind weder miteinander, noch mit *Mike*, *Michael* und *Max* befreundet. Im folgenden Code-Chunk wird ein ungerichteter Graph erstellt, der die Freundschaftsbeziehungen zwischen den fünf Leuten darstellt. Betrachten Sie den Code und führen Sie ihn aus."
      ]
    },
    {
      "cell_type": "markdown",
      "metadata": {},
      "source": [
        "### Aufgabe 2.5"
      ]
    },
    {
      "cell_type": "code",
      "execution_count": null,
      "metadata": {
        "colab": {
          "base_uri": "https://localhost:8080/",
          "height": 821
        },
        "id": "vuCJCI3LlKND",
        "outputId": "5a99d92f-bce3-4a05-c5df-5798425c68e2"
      },
      "outputs": [],
      "source": [
        "#{\"2__5\"}\n",
        "#Erstellen des oben beschriebenen Graphen und Speichern in \n",
        "#der Variable graph_n2\n",
        "graph_n2 = Graph(n = 5, edges=[(0,1), (0,2)], directed=False)\n",
        "#Namen hinzufügen\n",
        "graph_n2.vs['label'] = ['Mike', 'Max', 'Michael', 'Manuel', 'Lisa']\n",
        "#Plotten des Graphen graph_n2\n",
        "plot(graph_n2)"
      ]
    },
    {
      "cell_type": "markdown",
      "metadata": {},
      "source": [
        "#### Tipps"
      ]
    },
    {
      "cell_type": "markdown",
      "metadata": {},
      "source": [
        "##### Tipp 1"
      ]
    },
    {
      "cell_type": "markdown",
      "metadata": {},
      "source": [
        "Die Liste der Labels sollte die folgende Form haben ['Name', 'Name']"
      ]
    },
    {
      "cell_type": "markdown",
      "metadata": {},
      "source": [
        "##### Tipp 2"
      ]
    },
    {
      "cell_type": "markdown",
      "metadata": {},
      "source": [
        "So könnte ein Beispiel aussehen: graph_beispiel.vs['label'] = ['Sabine', 'Manuela', 'Thomas']"
      ]
    },
    {
      "cell_type": "markdown",
      "metadata": {},
      "source": [
        "##### Lösung"
      ]
    },
    {
      "cell_type": "markdown",
      "metadata": {},
      "source": [
        "**Erstellen des oben beschriebenen Graphen und Speichern in der Variable graph_n2**\n",
        "<br>\n",
        "<br>\n",
        "graph_n2 = Graph(n = 5, edges=[(0,1), (0,2)], directed=False)\n",
        "<br>\n",
        "<br>\n",
        "**Namen hinzufügen**\n",
        "<br>\n",
        "<br>\n",
        "graph_n2.vs['label'] = ['Mike', 'Max', 'Michael', 'Manuel', 'Lisa']\n",
        "<br>\n",
        "<br>\n",
        "**Plotten des Graphen graph_n2**\n",
        "<br>\n",
        "<br>\n",
        "plot(graph_n2)"
      ]
    },
    {
      "cell_type": "markdown",
      "metadata": {},
      "source": [
        "### Aufgabe 2.6"
      ]
    },
    {
      "cell_type": "markdown",
      "metadata": {
        "id": "LvbKKS9DlKNE"
      },
      "source": [
        "Bisher haben wir lediglich Graphen erzeugt. Wir können jedoch auch die eben definierten **Eigenschaften der Graphen** wieder auslesen. Der Befehl *graph.vs['label']* liefert die zuvor definierten Knotenlabels. Der Befehl *graph.get_edgelist()* hingegen liefert die Liste der Kanten, die bereits bei der Erstellung des Graphen verwendet wurde.\n",
        "- - -\n",
        "*Aufgabe:* Lassen Sie sich im Folgenden die Knoten und Kanten des ungerichteten Graphen *graph_n2* mit benannten Knoten ausgeben.\n",
        "\n",
        "*Anmerkung:* Mithilfe des Befehls *print(Variablenname)* können Sie sich Variableninhalte ausgeben lassen. "
      ]
    },
    {
      "cell_type": "code",
      "execution_count": null,
      "metadata": {
        "colab": {
          "base_uri": "https://localhost:8080/"
        },
        "id": "biB8KW9alKNE",
        "outputId": "a9ae9cdf-104e-44cb-e231-de6d9507a63b"
      },
      "outputs": [],
      "source": [
        "#{\"2__6\"}\n",
        "#Lassen Sie sich die Knoten von graph_n2 ausgeben\n",
        "print(graph_n2.vs['label'])\n",
        "#Lassen Sie sich die Kanten von graph_n2 ausgeben\n",
        "print(graph_n2.get_edgelist())"
      ]
    },
    {
      "cell_type": "markdown",
      "metadata": {},
      "source": [
        "#### Tipps"
      ]
    },
    {
      "cell_type": "markdown",
      "metadata": {},
      "source": [
        "##### Lösung"
      ]
    },
    {
      "cell_type": "markdown",
      "metadata": {},
      "source": [
        "**Lassen Sie sich die Knoten von graph_n2 ausgeben**\n",
        "<br>\n",
        "<br>\n",
        "print(graph_n2.vs['label'])\n",
        "<br>\n",
        "<br>\n",
        "**Lassen Sie sich die Kanten von graph_n2 ausgeben**\n",
        "<br>\n",
        "<br>\n",
        "print(graph_n2.get_edgelist())"
      ]
    },
    {
      "cell_type": "markdown",
      "metadata": {
        "id": "eDys5dwjlKNE"
      },
      "source": [
        "## b) Graphen und ihre Adjazenzmatrix"
      ]
    },
    {
      "cell_type": "markdown",
      "metadata": {},
      "source": [
        "### Aufgabe 2.7"
      ]
    },
    {
      "cell_type": "markdown",
      "metadata": {
        "id": "AqUlpcb1lKNE"
      },
      "source": [
        "Ein Netzwerk lässt sich nicht nur als Graph beschreiben, sondern auch mit Hilfe einer **Adjazenzmatrix**. \n",
        "Im Package *'igraph'* lassen sich diese beiden Notationsarten von Netzwerken miteinander verbinden: Zu jedem Graph lässt sich die zugehörige Adjazenzmatrix ausgeben und aus einer Adjazenzmatrix lässt sich ein Graph erstellen. Dafür muss die Funktion *graph.get_adjacency()* verwendet werden. Der folgende Code-Chunk gibt die Adjazenzmatrix des gerichteten Graphen *graph_d1* aus Teilaufgabe *a)* aus. Führen Sie den Code aus."
      ]
    },
    {
      "cell_type": "code",
      "execution_count": null,
      "metadata": {
        "colab": {
          "base_uri": "https://localhost:8080/"
        },
        "id": "yF9MUZxxlKNF",
        "outputId": "bb959585-a298-423f-c5cb-035d41f41614"
      },
      "outputs": [],
      "source": [
        "#{\"2__7\"}\n",
        "#Adjazenzmatrix von graph_d1 ausgeben lassen\n",
        "print(graph_d1.get_adjacency())"
      ]
    },
    {
      "cell_type": "markdown",
      "metadata": {
        "id": "vHl6nBqtlKNF"
      },
      "source": [
        "Wie Sie sehen, werden bestehende Kanten - seien sie gerichtet oder ungerichtet - mit einer *1* markiert. An allen Stellen, an denen keine Verbindung existiert, wird in der Adjazenzmatrix eine *0* notiert.  \n",
        "Der Graph *graph_ud1* ergibt sich aus dem Graphen *graph_d1*, wenn jede *gerichtete* Kante von *graph_d1* durch eine *ungerichtete* Kante ersetzt wird. Entsprechend wird erwartet, dass der ungerichtete Graph *graph_ud1* eine symmetrische Adjazenzmatrix besitzt, die in der oberen Hälfte mit der Adjazenzmatrix des Graphen *graph_d1* übereinstimmt.\n",
        "- - -\n",
        "*Aufgabe:*  Überprüfen Sie die obige Erwartung, indem Sie sich die Adjazenzmatrix von *graph_ud1* anzeigen lassen."
      ]
    },
    {
      "cell_type": "code",
      "execution_count": null,
      "metadata": {
        "colab": {
          "base_uri": "https://localhost:8080/"
        },
        "id": "sGMCqBNKlKNF",
        "outputId": "022c4640-3917-4a19-c728-db0419439cd0"
      },
      "outputs": [],
      "source": [
        "#{\"2__7\"}\n",
        "#Lassen Sie sich die Adjazenzmatrix von graph_ud1 anzeigen\n"
      ]
    },
    {
      "cell_type": "markdown",
      "metadata": {},
      "source": [
        "#### Tipps"
      ]
    },
    {
      "cell_type": "markdown",
      "metadata": {},
      "source": [
        "##### Tipp 1"
      ]
    },
    {
      "cell_type": "markdown",
      "metadata": {},
      "source": [
        "Sie können den vorherigen Code verwenden und müssen nur den Namen des Graphen ändern."
      ]
    },
    {
      "cell_type": "markdown",
      "metadata": {},
      "source": [
        "##### Lösung"
      ]
    },
    {
      "cell_type": "markdown",
      "metadata": {},
      "source": [
        "print(graph_ud1.get_adjacency())"
      ]
    },
    {
      "cell_type": "markdown",
      "metadata": {},
      "source": [
        "### Aufgabe 2.8"
      ]
    },
    {
      "cell_type": "markdown",
      "metadata": {
        "id": "fJrj1BB4lKNF"
      },
      "source": [
        "Im Package *'igraph'* ist es zudem auch möglich, auf Basis einer Adjazenzmatrix einen Graphen zu erstellen. Das wichtigste Element dabei ist die Adjazenzmatrix selbst.  \n",
        "Der folgende Code-Chunk erstellt eine solche **Matrix** mithilfe des Packages NumPy. Hierbei wird die Matrix zunächst in Form eines Vektors angegeben und anschließend in eine Matrix konvertiert. Über den Befehl *reshape()* können Sie einen Vektor in eine Matrix konvertieren, indem sie die Dimensionen als Parameter spezifizieren. Beispiel: Sie haben einen Vektor, der 9 Elemente enhält. Mit *reshape(3,3)* wird dieser in eine 3x3 Matrix konvertiert. Betrachten Sie den folgenden Code und führen Sie ihn aus."
      ]
    },
    {
      "cell_type": "code",
      "execution_count": null,
      "metadata": {
        "colab": {
          "base_uri": "https://localhost:8080/"
        },
        "id": "dWM4F9USlKNF",
        "outputId": "47992e33-f652-4e0d-90be-a19bfe895349"
      },
      "outputs": [],
      "source": [
        "#{\"2__8\"}\n",
        "#Matrix erstellen\n",
        "mat1 = np.array([0,1,1,1,1,0,0,0,1,0,0,1,1,0,1,0]).reshape(4,4)\n",
        "#Matrix ausgeben lassen\n",
        "print(mat1)"
      ]
    },
    {
      "cell_type": "markdown",
      "metadata": {},
      "source": [
        "### Aufgabe 2.9"
      ]
    },
    {
      "cell_type": "markdown",
      "metadata": {
        "id": "miOJMy2DlKNF"
      },
      "source": [
        "Im Package *'igraph'* ist es nun möglich, einen **Graphen auf Basis einer Adjazenzmatrix** zu erstellen. Dazu wird der Befehl *Graph.Adjacency(matrix, mode)* verwendet. Im Argument *matrix* wird ebendiese Matrix übergeben, wobei im Argument *mode* festgelegt wird, ob der Graph gerichtet (*\"directed\"*) oder ungerichtet (*\"undirected\"*) sein soll. \n",
        "\n",
        "- - -\n",
        "*Aufgabe:* Verwenden Sie den eben beschriebenen Befehl, um einen ungerichteten Graphen aus der obigen Adjazenzmatrix *mat1* zu erstellen. Speichern Sie den Graphen in der Variable *graph_mat1* und plotten Sie ihn anschließend."
      ]
    },
    {
      "cell_type": "code",
      "execution_count": null,
      "metadata": {
        "colab": {
          "base_uri": "https://localhost:8080/",
          "height": 821
        },
        "id": "C37cA2BAlKNG",
        "outputId": "1b487e7f-5f64-4cd9-ce29-70abda0a3144"
      },
      "outputs": [],
      "source": [
        "#{r \"2__9\"}\n",
        "#Erzeugen Sie einen ungerichteten Graph aus der Adjazenzmatrix mat1 und speichern Sie ihn in der Variable graph_mat1\n",
        "\n",
        "#Plotten Sie den Graph graph_mat1\n"
      ]
    },
    {
      "cell_type": "markdown",
      "metadata": {},
      "source": [
        "#### Tipps"
      ]
    },
    {
      "cell_type": "markdown",
      "metadata": {},
      "source": [
        "##### Tipp 1"
      ]
    },
    {
      "cell_type": "markdown",
      "metadata": {},
      "source": [
        "Verwenden Sie den oben beschriebenen Befehl *Graph.Adjacency(matrix, mode)*"
      ]
    },
    {
      "cell_type": "markdown",
      "metadata": {},
      "source": [
        "##### Tipp 2"
      ]
    },
    {
      "cell_type": "markdown",
      "metadata": {},
      "source": [
        "Dem Parameter *mode* können Sie die Werte 'directed' oder 'undirected' übergeben"
      ]
    },
    {
      "cell_type": "markdown",
      "metadata": {},
      "source": [
        "##### Lösung"
      ]
    },
    {
      "cell_type": "markdown",
      "metadata": {},
      "source": [
        "**Erzeugen Sie einen ungerichteten Graph aus der Adjazenzmatrix mat1 und speichern Sie ihn in der Variable graph_mat1**\n",
        "<br>\n",
        "<br>\n",
        "graph_mat1 = Graph.Adjacency(matrix=mat1, mode='undirected')\n",
        "<br>\n",
        "<br>\n",
        "**Plotten Sie den Graph graph_mat1**\n",
        "<br>\n",
        "<br>\n",
        "plot(graph_mat1, vertex_label=[\"Anna\", \"Julia\", \"Mia\", \"Jenny\"])"
      ]
    },
    {
      "cell_type": "markdown",
      "metadata": {
        "id": "qfFnHKcLlKNG"
      },
      "source": [
        "## c) Graphen aus Daten erzeugen"
      ]
    },
    {
      "cell_type": "markdown",
      "metadata": {},
      "source": [
        "### Aufgabe 2.10"
      ]
    },
    {
      "cell_type": "markdown",
      "metadata": {
        "id": "WahLO_l3lKNG"
      },
      "source": [
        "Selbstverständlich treten im realen Leben nicht nur Netzwerke auf, die sich manuell als Graphen definieren lassen. Gerade im Bereich Social Media Analytics hat man es häufig mit sehr großen Netzwerken zu tun. In solchen Fällen beschreiben meist riesige Datensätze die betrachteten Netzwerke. Auch mit dem Package *'igraph'* kann man **aus Data Frames Graphen erstellen**.\n",
        "\n",
        "Die Datensätze *\"dataset1_nodes.csv\"* und *\"dataset1_edges.csv\"* beschreiben die Knoten und Kanten eines Netzwerks verschiedener Medien, die durch Hyperlinks oder Erwähnungen teilweise miteinander in Verbindung stehen. *Sowohl die (ursprünglichen) Datensätze als auch der Code für deren Aufbereitung zu denjenigen Datensätzen, die Sie hier zur Bearbeitung vorfinden, sind dem Workshop von Ognyanova (2016a) entnommen.*  \n",
        "Der folgende Code-Chunk liest beide csv-Dateien mit dem Befehl *read_csv()* aus dem Package *pandas* ein und speichert sie in den entsprechenden Variablen ab. Führen Sie den Code aus.\n",
        "Zuerst werden die Daten aus Github (ein Hosting Service) importiert und anschließend von pandas eingelesen. Eine CSV Datei enthält Daten, die durch Kommas getrennt sind. Pandas macht hieraus eine Tabelle"
      ]
    },
    {
      "cell_type": "code",
      "execution_count": null,
      "metadata": {
        "id": "YHzNw2Ammkuc"
      },
      "outputs": [],
      "source": [
        "#{\"2__10\"}\n",
        "# Daten importieren\n",
        "url_nodes = 'https://raw.githubusercontent.com/larsmoe/SAPS-BSDA-Kurs/master/Problemsets%20Python/PS_Nr_1_Python/dataset1_nodes.csv'\n",
        "url_edges = 'https://raw.githubusercontent.com/larsmoe/SAPS-BSDA-Kurs/master/Problemsets%20Python/PS_Nr_1_Python/dataset1_edges.csv'"
      ]
    },
    {
      "cell_type": "code",
      "execution_count": null,
      "metadata": {
        "id": "TETPIP-RlKNG"
      },
      "outputs": [],
      "source": [
        "#{\"2__10\"}\n",
        "#Einlesen der beiden Datensätze und Speichern in den Variablen vertices und edges\n",
        "vertices = pd.read_csv(url_nodes, sep=\",\")\n",
        "edges = pd.read_csv(url_edges, sep=\",\")"
      ]
    },
    {
      "cell_type": "markdown",
      "metadata": {},
      "source": [
        "### Aufgabe 2.11"
      ]
    },
    {
      "cell_type": "markdown",
      "metadata": {
        "id": "-X2byz1QlKNG"
      },
      "source": [
        "Der Befehl *x.head(n)* gibt die ersten *n* Zeilen von *x* aus. Per default zeigt der Befehl *head()* fünf Zeilen an.\n",
        "- - -\n",
        "*Aufgabe:* Betrachten Sie jeweils die ersten fünf Zeilen der Data Frames *vertices* und *edges* mit Hilfe des eben beschriebenen Befehls. Verwenden Sie dabei den möglichst einfachsten Befehl."
      ]
    },
    {
      "cell_type": "code",
      "execution_count": null,
      "metadata": {
        "colab": {
          "base_uri": "https://localhost:8080/"
        },
        "id": "O-2ZvSWBlKNG",
        "outputId": "c0f8f8e8-2e32-4658-ce4e-9adfef6ea040"
      },
      "outputs": [],
      "source": [
        "#{\"2__11\"}\n",
        "#Lassen Sie die ersten fünf Zeilen von vertices ausgeben\n",
        "\n",
        "#Lassen Sie die ersten fünf Zeilen von edges ausgeben\n"
      ]
    },
    {
      "cell_type": "markdown",
      "metadata": {},
      "source": [
        "#### Tipps"
      ]
    },
    {
      "cell_type": "markdown",
      "metadata": {},
      "source": [
        "##### Tipp 1"
      ]
    },
    {
      "cell_type": "markdown",
      "metadata": {},
      "source": [
        "Das ist der Befehl zum Ausgeben der ersten 5 Zeilen der Knoten:\n",
        "<br>\n",
        "<br>\n",
        "*print(vertices.head(n=5))*\n",
        "<br>\n",
        "<br>\n",
        "Verwenden Sie diesen Befehl analog für die Kanten"
      ]
    },
    {
      "cell_type": "markdown",
      "metadata": {},
      "source": [
        "##### Lösung"
      ]
    },
    {
      "cell_type": "markdown",
      "metadata": {},
      "source": [
        "print(vertices.head(n=5))\n",
        "<br>\n",
        "<br>\n",
        "print(edges.head(n=5))"
      ]
    },
    {
      "cell_type": "markdown",
      "metadata": {},
      "source": [
        "Aus den Datenausschnitten wird deutlich, dass in den Datensätzen weitere Informationen - sowohl zu den Knoten als auch zu den Kanten - enthalten sind. In *'igraph'* werden diese Eigenschaften als sogenannte **Attribute** aufgenommen. Jedes Attribut ist addressierbar, indem man *graph.vs['attributname']* im Falle einer Knoteneigenschaft und *graph.es['attributname']* im Falle einer Kanteneigenschaft eingibt.\n",
        "Damit können Sie die Knotenlabels des Graphen festlegen, indem Sie mithilfe von *graph.vs['label] = graph.vs['attributename']* die Werte eines der bestehenden Attribute als Label festlegen."
      ]
    },
    {
      "cell_type": "markdown",
      "metadata": {},
      "source": [
        "### Aufgabe 2.12"
      ]
    },
    {
      "cell_type": "markdown",
      "metadata": {
        "id": "7UcMaCyalKNG"
      },
      "source": [
        "Zunächst wollen wir jedoch das beschriebene Netzwerk grafisch darstellen. Dazu verwenden wir den Befehl *Graph.DataFrame(vertices, edges, directed)*. Als Argumente braucht man hier:  \n",
        "* *vertices*: Ein Data Frame mit den Knoten des Graphen und deren Attributen\n",
        "* *edges*: Ein Data Frame mit den Kanten des Graphen und deren Attributen\n",
        "* *directed*: Die Angabe, ob der Graph gerichtet oder ungerichtet sein soll\n",
        "\n",
        "Die Data Frames *edges* und *vertices* erfüllen die beschriebenen Bedingungen für die ersten beiden Argumente der Funktion *Graph.DataFrame*.\n",
        "- - -\n",
        "*Aufgabe:* Nutzen Sie die obigen Angaben, um aus den Datensätzen *edges* und *vertices* einen gerichteten Graphen zu erstellen. Speichern Sie diesen in der Variable *graph_data1* und plotten Sie ihn anschließend."
      ]
    },
    {
      "cell_type": "code",
      "execution_count": null,
      "metadata": {
        "colab": {
          "base_uri": "https://localhost:8080/",
          "height": 821
        },
        "id": "bjkk1VUilKNH",
        "outputId": "23f62896-0679-4742-8e8d-761e8be6eafe"
      },
      "outputs": [],
      "source": [
        "#{\"2__12\"}\n",
        "#Erzeugen Sie einen gerichteten Graph aus den Datensätzen edges und vertices und speichern Sie ihn in der Variable graph_data1\n",
        "\n",
        "#Plotten Sie den Graphen graph_data1\n"
      ]
    },
    {
      "cell_type": "markdown",
      "metadata": {},
      "source": [
        "#### Tipps"
      ]
    },
    {
      "cell_type": "markdown",
      "metadata": {},
      "source": [
        "##### Tipp 1"
      ]
    },
    {
      "cell_type": "markdown",
      "metadata": {},
      "source": [
        "Da die Kanten und Knoten in einem vorherigen Schritt bereits erstellt worden sind, können Sie diese nun einfach mit *edges=edges* und *vertices=vertices* übergeben"
      ]
    },
    {
      "cell_type": "markdown",
      "metadata": {},
      "source": [
        "##### Lösung"
      ]
    },
    {
      "cell_type": "markdown",
      "metadata": {},
      "source": [
        "**Erzeugen Sie einen gerichteten Graph aus den Datensätzen edges und vertices und speichern Sie ihn in der Variable graph_data1**\n",
        "<br>\n",
        "<br>\n",
        "graph_data1 = Graph.DataFrame(edges=edges, vertices=vertices, directed=True)\n",
        "graph_data1.vs['label'] = graph_data1.vs['name']\n",
        "<br>\n",
        "<br>\n",
        "**Plotten Sie den Graphen graph_data1**\n",
        "<br>\n",
        "<br>\n",
        "plot(graph_data1)"
      ]
    },
    {
      "cell_type": "markdown",
      "metadata": {
        "id": "8WNnyepqlKNH"
      },
      "source": [
        "## d) Visualisierung von Graphen"
      ]
    },
    {
      "cell_type": "markdown",
      "metadata": {},
      "source": [
        "### Aufgabe 2.13"
      ]
    },
    {
      "cell_type": "markdown",
      "metadata": {
        "id": "PAIXg6XhlKNH"
      },
      "source": [
        "Wie Sie im Laufe dieser Aufgabe bereits erfahren und getestet haben, können Netzwerke in *'igraph'* mit dem Befehl *plot()* visualisiert werden.\n",
        "   \n",
        "Wir beschränken uns in diesem Problem Set auf den Befehl *plot()*, der sehr viele Gestaltungsmöglichkeiten bietet. Der folgende Code-Chunk gibt Ihnen ein Beispiel dafür. Führen Sie den Code aus, welcher den eben betrachteten Graphen *graph_data1* in etwas anderer Form darstellt."
      ]
    },
    {
      "cell_type": "code",
      "execution_count": null,
      "metadata": {
        "colab": {
          "base_uri": "https://localhost:8080/",
          "height": 821
        },
        "id": "OoYQ3OJulKNH",
        "outputId": "4d224a5c-c56c-49e3-9a6d-2004e704aefa"
      },
      "outputs": [],
      "source": [
        "#{\"2__13\"}\n",
        "#Hilfsvariablen zur Definition der Farben\n",
        "cols_edges = ['red', 'blue']\n",
        "cols_vertices = ['white', 'yellow', 'orange']\n",
        "#Fortgeschrittenes Plotten des Graphen graph_data1\n",
        "plot(graph_data1, edge_label=EdgeSeq(graph_data1)['type'],\n",
        "    edge_color=np.array(cols_edges)[[1 if typ == 'mention' else 0 for typ in graph_data1.es['type']]],\n",
        "    vertex_color=np.array(cols_vertices)[np.array(VertexSeq(graph_data1)['media.type']) -1],\n",
        "    edge_arrow_size=1\n",
        "    )"
      ]
    },
    {
      "cell_type": "markdown",
      "metadata": {
        "id": "_EPI12x5lKNH"
      },
      "source": [
        "# Exercise 3 -- Weitere Arten von Netzwerken"
      ]
    },
    {
      "cell_type": "markdown",
      "metadata": {
        "id": "RGbAIp4slKNH"
      },
      "source": [
        "## a) Knoten- und Kantenattribute - Gewichtete Netzwerke in Python"
      ]
    },
    {
      "cell_type": "markdown",
      "metadata": {},
      "source": [
        "### Aufgabe 3.1"
      ]
    },
    {
      "cell_type": "markdown",
      "metadata": {
        "id": "_j4q83wJlKNH"
      },
      "source": [
        "In *Aufgabe 2* wurde bereits angesprochen, dass Graphen in R auch **Knoten- und Kantenattribute** besitzen können. In dieser Teilaufgabe sollen Sie nun erfahren, worum es sich dabei handelt und wozu man diese benutzen kann. Sie werden bemerken, dass sich dadurch auch eine weitere Art von Netzwerken darstellen lässt: Gewichtete Netzwerke.  \n",
        "*Diese Teilaufgabe ist ebenfalls angelehnt an Ognyanova (2016a).*\n",
        "\n",
        "Im folgenden Code-Chunk werden erneut die Daten der *Aufgabe 2* (von Ognyanova (2016a)) mit dem Befehl *pd.read_csv()* eingelesen und in den Variablen *edges* und *vertices* abgespeichert. Führen Sie den Code aus."
      ]
    },
    {
      "cell_type": "code",
      "execution_count": null,
      "metadata": {
        "id": "DxaUPfOHlKNH"
      },
      "outputs": [],
      "source": [
        "#{\"3__1\"}\n",
        "#Einlesen der beiden Datensätze und Speichern in den Variablen vertices und edges\n",
        "vertices = pd.read_csv(url_nodes)\n",
        "edges = pd.read_csv(url_edges)"
      ]
    },
    {
      "cell_type": "markdown",
      "metadata": {},
      "source": [
        "### Aufgabe 3.2"
      ]
    },
    {
      "cell_type": "markdown",
      "metadata": {
        "id": "zjJaBBVplKNI"
      },
      "source": [
        "Erzeugen Sie erneut aus diesen Datensätzen den gerichteten Graphen *graph_data1*, indem Sie den folgenden Code ausführen."
      ]
    },
    {
      "cell_type": "code",
      "execution_count": null,
      "metadata": {
        "id": "fI_pJ5D2lKNI"
      },
      "outputs": [],
      "source": [
        "#{\"3__2\"}\n",
        "#Erzeugen eines gerichteten Graphen aus den Datensätzen \n",
        "#edges und vertices und Speichern in graph_data1\n",
        "graph_data1 = Graph.DataFrame(vertices=vertices, edges=edges, directed=True)"
      ]
    },
    {
      "cell_type": "markdown",
      "metadata": {},
      "source": [
        "### Aufgabe 3.3"
      ]
    },
    {
      "cell_type": "markdown",
      "metadata": {
        "id": "Gkdft_PplKNI"
      },
      "source": [
        "Mit dem Befehl *graph.edge_attributes()* können Sie sich anzeigen lassen, welche Kantenattribute der Graph *graph* besitzt. Der Befehl *graph.vertex_attributes()* funktioniert analog für Knoten. \n",
        "- - -\n",
        "*Aufgabe:* Wenden Sie die beiden eben beschriebenen Befehle im folgenden Code-Chunk auf den Graphen *graph_data1* an."
      ]
    },
    {
      "cell_type": "code",
      "execution_count": null,
      "metadata": {
        "colab": {
          "base_uri": "https://localhost:8080/"
        },
        "id": "R5ILkgbPlKNI",
        "outputId": "853481d9-f104-4582-d0e3-09f161fa7168"
      },
      "outputs": [],
      "source": [
        "#{\"3__3\"}\n",
        "#Lassen Sie sich die Namen der Kantenattribute von graph_data1 anzeigen\n",
        "\n",
        "#Lassen Sie sich die Namen der Knotenattribute von graph_data1 anzeigen\n"
      ]
    },
    {
      "cell_type": "markdown",
      "metadata": {},
      "source": [
        "#### Tipps"
      ]
    },
    {
      "cell_type": "markdown",
      "metadata": {},
      "source": [
        "##### Lösung"
      ]
    },
    {
      "cell_type": "markdown",
      "metadata": {},
      "source": [
        "print(graph_data1.edge_attributes())\n",
        "<br>\n",
        "<br>\n",
        "print(graph_data1.vertex_attributes())"
      ]
    },
    {
      "cell_type": "markdown",
      "metadata": {},
      "source": [
        "### Aufgabe 3.4"
      ]
    },
    {
      "cell_type": "markdown",
      "metadata": {
        "id": "4ye91YbIlKNI"
      },
      "source": [
        "Mithilfe des Befehls *graph.vs.get_attribute_values('Attributname')* können Sie sich die Werte eines Attribus ausgeben lassen. \n",
        "- - -\n",
        "*Aufgabe:* Nutzen Sie diesen Befehl nun, um sich die Werte des zweiten Knotenattributs (media) von *graph_data1* ausgeben zu lassen."
      ]
    },
    {
      "cell_type": "code",
      "execution_count": null,
      "metadata": {
        "colab": {
          "base_uri": "https://localhost:8080/"
        },
        "id": "oiCAaDy_lKNI",
        "outputId": "bd83aa13-59a8-405f-d288-9ba2ee4ce6b6"
      },
      "outputs": [],
      "source": [
        "#{\"3__4\"}\n",
        "#Lassen Sie sich die Werte des zweiten Knotenattributs von graph_data1 ausgeben\n"
      ]
    },
    {
      "cell_type": "markdown",
      "metadata": {},
      "source": [
        "#### Tipps"
      ]
    },
    {
      "cell_type": "markdown",
      "metadata": {},
      "source": [
        "##### Tipp 1"
      ]
    },
    {
      "cell_type": "markdown",
      "metadata": {},
      "source": [
        "**Hier ein Beispiel für die Verwendung des korrekten Befehls**\n",
        "<br>\n",
        "<br>\n",
        "*graph_beispiel.vs.get_attribute_values('attributname')*"
      ]
    },
    {
      "cell_type": "markdown",
      "metadata": {},
      "source": [
        "##### Lösung"
      ]
    },
    {
      "cell_type": "markdown",
      "metadata": {},
      "source": [
        "graph_data1.vs.get_attribute_values('media')"
      ]
    },
    {
      "cell_type": "markdown",
      "metadata": {},
      "source": [
        "### Aufgabe 3.5"
      ]
    },
    {
      "cell_type": "markdown",
      "metadata": {
        "id": "7Hw52yFNlKNI"
      },
      "source": [
        "Ein Vergleich mit den Data Frames *vertices* und *edges* zeigt, dass die Knoten- und Kantenattribute bereits in diesen Data Frames definiert wurden und automatisch vom Befehl *Graph.DataFrame* als solche interpretiert und abgespeichert wurden. Führen Sie den folgenden Code aus, um sich die jeweils ersten fünf Zeilen der beiden Data Frames erneut anzeigen zu lassen."
      ]
    },
    {
      "cell_type": "code",
      "execution_count": null,
      "metadata": {
        "colab": {
          "base_uri": "https://localhost:8080/"
        },
        "id": "nXT0bKCnlKNI",
        "outputId": "bfecba7f-74e3-48ca-f0d9-6aa5c7862354"
      },
      "outputs": [],
      "source": [
        "#{\"3__5\"}\n",
        "#Ausgabe der ersten fünf Zeilen beider Data Frames\n",
        "print(vertices.head())\n",
        "print(edges.head())"
      ]
    },
    {
      "cell_type": "markdown",
      "metadata": {
        "id": "Nmk1QzbmlKNJ"
      },
      "source": [
        "Wie Sie sehen, ist eines der Kantenattribute ein Kantengewicht (*weight*). Die Attribute eines Graphen können daher dazu genutzt werden, sogenannte **gewichtete Graphen** zu erzeugen. Wird dieses Attribut mit *weight* bezeichnet, so erkennen gewisse Funktionen aus dem *'igraph'*-Package automatisch, dass der Graph gewichtete Kanten besitzt, und beziehen die Attributwerte entsprechend in die \"Berechnungen\" ein.  \n",
        "- - -"
      ]
    },
    {
      "cell_type": "markdown",
      "metadata": {},
      "source": [
        "### Aufgabe 3.6"
      ]
    },
    {
      "cell_type": "markdown",
      "metadata": {},
      "source": [
        "*Aufgabe:* Im folgenden Code-Chunk sollen in der Visualisierung des Graphen die Kanten mit ihrem jeweiligen Gewicht beschriftet werden. Dazu wird im *plot*-Befehl das zusätzliche Argument *edge_label* zur Kantenbeschriftung verwendet. Hier ist *graph* der aktuell betrachtete Graph *graph_data1* und *label* das Kantenattribut *weight*. Wie bereits zuvor können Sie das Attribut über *graph.es['Attributname']* ansprechen."
      ]
    },
    {
      "cell_type": "code",
      "execution_count": null,
      "metadata": {
        "colab": {
          "base_uri": "https://localhost:8080/",
          "height": 821
        },
        "id": "1_AsVWLNlKNJ",
        "outputId": "101f970e-19e8-4a31-dc3e-dc4ddb566195"
      },
      "outputs": [],
      "source": [
        "#{\"3__6\"}\n",
        "# Speichern der Kantengewichte in einer neuen Variable\n",
        "\n",
        "#Plotten Sie mit dem Befehl plot und den oben beschriebenen Argumenten den Graphen graph_data1 mit Kantengewichten\n"
      ]
    },
    {
      "cell_type": "markdown",
      "metadata": {},
      "source": [
        "#### Tipps"
      ]
    },
    {
      "cell_type": "markdown",
      "metadata": {},
      "source": [
        "##### Tipp 1"
      ]
    },
    {
      "cell_type": "markdown",
      "metadata": {},
      "source": [
        "Mithilfe von *graph_data1.es['weight']* können Sie die Kantengewichte ansprechen"
      ]
    },
    {
      "cell_type": "markdown",
      "metadata": {},
      "source": [
        "##### Tipp 2"
      ]
    },
    {
      "cell_type": "markdown",
      "metadata": {},
      "source": [
        "Verwenden Sie diese Kantengewichte als Wert für den Parameter *edge_label* innerhalb des *plot* Befehls"
      ]
    },
    {
      "cell_type": "markdown",
      "metadata": {},
      "source": [
        "##### Lösung"
      ]
    },
    {
      "cell_type": "markdown",
      "metadata": {},
      "source": [
        "**Speichern der Kantengewichte in einer neuen Variable**\n",
        "<br>\n",
        "<br>\n",
        "*edge_weights = graph_data1.es['weight']*\n",
        "<br>\n",
        "<br>\n",
        "**Plotten Sie mit dem Befehl plot und den oben beschriebenen Argumenten den Graphen graph_data1 mit Kantengewichten**\n",
        "<br>\n",
        "<br>\n",
        "*plot(graph_data1, edge_label=edge_weights)*"
      ]
    },
    {
      "cell_type": "markdown",
      "metadata": {},
      "source": [
        "### Aufgabe 3.7"
      ]
    },
    {
      "cell_type": "markdown",
      "metadata": {
        "id": "3nVbVXGjlKNJ"
      },
      "source": [
        "Im gerade betrachteten Fall wurden die Kanten- und Knotenattribute bereits bei der Erzeugung des Graphen mitdefiniert, da sie in den Datensätzen enthalten waren, welche als Argumente *edges* und *vertices* der Funktion *Graph.DataFrame* übergeben wurden. Es ist jedoch auch möglich, einzelne Attribute erst *nach* der Erstellung des Graphen hinzuzufügen. Dabei wird das neue Attribut so addressiert, als würde es bereits existieren (z.B. *graph.es['neu'] = [1,2,3]*), um ihm Werte in Form eines Vektors zuzuweisen. Im folgenden Code-Chunk wird ein einfacher Graph manuell erzeugt, anschließend werden seinen Kanten Gewichte zugeordnet und der Graph wird - beschriftet mit den Kantengewichten - geplottet. Das Argument *edge_label* gibt die Beschriftung der Kanten an. Vollziehen Sie den Code nach und führen Sie Ihn anschließend aus."
      ]
    },
    {
      "cell_type": "code",
      "execution_count": null,
      "metadata": {
        "colab": {
          "base_uri": "https://localhost:8080/",
          "height": 821
        },
        "id": "TQ2GlNbulKNJ",
        "outputId": "bc879d86-0b84-4ebf-e85e-d5c471c81ba0"
      },
      "outputs": [],
      "source": [
        "#{\"3__7\"}\n",
        "#Erzeuge einen ungerichteten Graphen\n",
        "graph_weighted = Graph(n=8, edges=[(0,1),(0,2),(3,4),(3,5),(4,5)], directed=False)\n",
        "#Füge den Kanten das Attribut weight hinzu\n",
        "graph_weighted.es['weight'] = [3,6,8,2,7]\n",
        "#Plotte den Graphen mit Kantengewichten\n",
        "plot(graph_weighted, edge_label=graph_weighted.es['weight'],\n",
        "    vertex_label=graph_weighted.vs.indices)"
      ]
    },
    {
      "cell_type": "markdown",
      "metadata": {},
      "source": [
        "### Aufgabe 3.8"
      ]
    },
    {
      "cell_type": "markdown",
      "metadata": {
        "id": "CeSPyV7ulKNL"
      },
      "source": [
        "*Aufgabe:* Nun ist es Ihre Aufgabe, ein weiteres Attribut hinzuzufügen. Diesmal bezieht sich das Attribut auf die *Knoten* des Graphen *graph_weighted*. Es soll den Knoten **Namen** zuweisen. Ähnlich wie bei den Gewichten ist auch hier auf die genaue Bezeichnung zu achten - *label* - damit diverse Funktionen von *'igraph'* das Attribut als Knotenbeschriftung automatisch erkennen. Die Knoten sollen die folgenden Namen erhalten (in dieser Reihenfolge): \"Anna\", \"Sofie\", \"Peter\", \"Franzi\", \"Manuela\", \"Ben\", \"Kai\", \"Sandra\".\n",
        "\n",
        "*Anmerkung: Bitte beachten Sie, dass Attribute abgesehen von den Attributen Gewicht und Label in der Regel beliebige Namen tragen können.*"
      ]
    },
    {
      "cell_type": "code",
      "execution_count": null,
      "metadata": {
        "id": "H97ne3CDlKNL"
      },
      "outputs": [],
      "source": [
        "#{\"3__8\"}\n",
        "#Fügen Sie den Knoten des Graphen graph_weighted das Attribut label hinzu,\n",
        "#indem Sie die oben angegebenen Namen in einem Vektor übergeben\n",
        "#Vorsicht: Behalten Sie die Reihenfolge der Namen bitte genau so bei!\n"
      ]
    },
    {
      "cell_type": "markdown",
      "metadata": {},
      "source": [
        "#### Tipps"
      ]
    },
    {
      "cell_type": "markdown",
      "metadata": {},
      "source": [
        "##### Tipp 1"
      ]
    },
    {
      "cell_type": "markdown",
      "metadata": {},
      "source": [
        "Hier ein Beispiel: *graph_test.vs['label'] = ['Tim', 'Sarah', 'Manfred']*"
      ]
    },
    {
      "cell_type": "markdown",
      "metadata": {},
      "source": [
        "##### Lösung"
      ]
    },
    {
      "cell_type": "markdown",
      "metadata": {},
      "source": [
        "graph_weighted.vs['label'] = [\"Anna\", \"Sofie\", \"Peter\", \"Franzi\", \"Manuela\", \"Ben\", \"Kai\", \"Sandra\"]"
      ]
    },
    {
      "cell_type": "markdown",
      "metadata": {},
      "source": [
        "### Aufgabe 3.9"
      ]
    },
    {
      "cell_type": "markdown",
      "metadata": {
        "id": "8CMBnyOklKNL"
      },
      "source": [
        "*Aufgabe:* Plotten Sie nun den Graphen erneut beschriftet mit den *Kantengewichten*, jedoch ohne explizite Angabe der Knotennamen."
      ]
    },
    {
      "cell_type": "markdown",
      "metadata": {},
      "source": [
        "Wie Sie sehen werden, erkennt der *plot*-Befehl von *'igraph'* automatisch die Benennung der Knoten als solche und ersetzt die Nummerierung bei der Visualisierung durch die Namen."
      ]
    },
    {
      "cell_type": "code",
      "execution_count": null,
      "metadata": {
        "colab": {
          "base_uri": "https://localhost:8080/",
          "height": 821
        },
        "id": "pKdYshhjlKNL",
        "outputId": "1c7bd768-5de1-4413-aec7-944a1bcf200b"
      },
      "outputs": [],
      "source": [
        "#{\"3__9\"}\n",
        "#Plotten Sie den Graph graph_weighted mit Kantengewichten\n"
      ]
    },
    {
      "cell_type": "markdown",
      "metadata": {},
      "source": [
        "#### Tipps"
      ]
    },
    {
      "cell_type": "markdown",
      "metadata": {},
      "source": [
        "##### Tipp 1"
      ]
    },
    {
      "cell_type": "markdown",
      "metadata": {},
      "source": [
        "Übergeben Sie dem Parameter *edge_label* den Wert *graph_weighted.es['weight']*"
      ]
    },
    {
      "cell_type": "markdown",
      "metadata": {},
      "source": [
        "##### Lösung"
      ]
    },
    {
      "cell_type": "markdown",
      "metadata": {},
      "source": [
        "plot(graph_weighted, edge_label=graph_weighted.es['weight'])"
      ]
    },
    {
      "cell_type": "markdown",
      "metadata": {
        "id": "JiFBRUmKlKNL"
      },
      "source": [
        "## b) Zusammenhängende und nicht zusammenhängende Netzwerke"
      ]
    },
    {
      "cell_type": "markdown",
      "metadata": {
        "id": "DcPcp0O-lKNM"
      },
      "source": [
        "Der Graph *graph_weighted* unterscheidet sich vom Graphen *graph_data1* unter anderem darin, dass nicht alle Knoten (zumindest indirekt) miteinander verbunden sind. Konkret besteht er aus vier Subgraphen - es handelt sich um einen **nicht zusammenhängenden** Graphen."
      ]
    },
    {
      "cell_type": "markdown",
      "metadata": {},
      "source": [
        "### Aufgabe 3.10"
      ]
    },
    {
      "cell_type": "markdown",
      "metadata": {
        "id": "FKZZuHKIlKNM"
      },
      "source": [
        "Im Skript haben Sie eine Methode kennengelernt, mit der die **Subgraphen (Komponenten)** eines Graphen bestimmt werden können: den BFS-Algorithmus. In Python erhält man die Information, ob ein ungerichteter Graph zusammenhängend bzw. ein gerichteter Graph (schwach/stark) zusammenhängend ist, über den Befehl *graph.is_connected(mode)*. Die Komponenten selbst erhält man über den Befehl *graph.components(mode)*. Beide Funktionen verwenden zur Betrachtung des Zusammenhängens eines ungerichteten Graphen und zur Betrachtung des schwachen Zusammenhängens eines gerichteten Graphen den BFS-Algorithmus. Bei der Betrachtung des starken Zusammenhängens des gerichteten Graphen wird auf eine andere Methode zurückgegriffen.  \n",
        "Im folgenden Code-Chunk werden fünf Graphen erzeugt und geplottet, mit denen wir im Anschluss arbeiten werden. Führen Sie den Code aus."
      ]
    },
    {
      "cell_type": "code",
      "execution_count": null,
      "metadata": {
        "colab": {
          "base_uri": "https://localhost:8080/",
          "height": 821
        },
        "id": "Kl3aAuiNlKNM",
        "outputId": "adbb0b7f-766f-4b0b-9627-da76d9bce3c8"
      },
      "outputs": [],
      "source": [
        "#{\"3__10\"}\n",
        "#Erzeugung und Plotten von fünf Graphen (zwei ungerichtete, drei gerichtete)\n",
        "graph_1 = Graph(n=5, edges = [(0,1), (1,4), (2,3), (2,4), (2,5), (3,5), (4,0)], directed=False) \n",
        "plot(graph_1)"
      ]
    },
    {
      "cell_type": "code",
      "execution_count": null,
      "metadata": {
        "colab": {
          "base_uri": "https://localhost:8080/",
          "height": 821
        },
        "id": "-3goiQbOlKNM",
        "outputId": "a84de704-ca90-445e-fd8f-dade254697f6"
      },
      "outputs": [],
      "source": [
        "graph_2 = Graph(n=5, edges = [(0,1), (1,4), (2,3), (2,5), (3,5), (4,0)], directed=False) \n",
        "plot(graph_2)"
      ]
    },
    {
      "cell_type": "code",
      "execution_count": null,
      "metadata": {
        "colab": {
          "base_uri": "https://localhost:8080/",
          "height": 821
        },
        "id": "xkZtoW59lKNM",
        "outputId": "f769326c-451c-433a-be25-e98cd1b67bb0"
      },
      "outputs": [],
      "source": [
        "graph_3 = Graph(n=4, edges = [(0,1), (1,2), (2,0), (1,3)]) \n",
        "plot(graph_3)"
      ]
    },
    {
      "cell_type": "code",
      "execution_count": null,
      "metadata": {
        "colab": {
          "base_uri": "https://localhost:8080/",
          "height": 821
        },
        "id": "8DeCe694lKNM",
        "outputId": "5e7b9996-d24b-4df2-d783-763bda092417"
      },
      "outputs": [],
      "source": [
        "graph_4 = Graph(n=4, edges = [(2,0), (1,3)])\n",
        "plot(graph_4)"
      ]
    },
    {
      "cell_type": "code",
      "execution_count": null,
      "metadata": {
        "colab": {
          "base_uri": "https://localhost:8080/",
          "height": 821
        },
        "id": "eHHUZCrGlKNM",
        "outputId": "565c1d64-9336-4706-aa6c-88474f3a0da4"
      },
      "outputs": [],
      "source": [
        "graph_5 = Graph(n=4, edges = [(0,1), (1,2), (2,0), (1,3), (3,1)])\n",
        "plot(graph_5)"
      ]
    },
    {
      "cell_type": "markdown",
      "metadata": {
        "id": "ulopQeFflKNM"
      },
      "source": [
        "Bevor Sie mit Hilfe der Python-Funktion *is_connected* überprüfen, welche Graphen (stark/schwach) zusammenhängend sind, versuchen Sie zunächst selbst, die folgenden Fragen zu beantworten:\n",
        "- - -\n",
        "\n",
        "Quiz: Welche(r) der beiden ungerichteten Graphen ist (sind) zusammenhängend?\n",
        "\n",
        "- graph_1\n",
        "\n",
        "- graph_2\n",
        "\n",
        "\n",
        "Quiz: Welche(r) der drei gerichteten Graphen ist (sind) (mindestens) schwach zusammenhängend?\n",
        "\n",
        "- graph_3\n",
        "\n",
        "- graph_4\n",
        "\n",
        "- graph_5\n",
        "\n",
        "\n",
        "Quiz: Welche(r) der drei gerichteten Graphen ist (sind) stark zusammenhängend?\n",
        "\n",
        "- graph_3\n",
        "\n",
        "- graph_4\n",
        "\n",
        "- graph_5"
      ]
    },
    {
      "cell_type": "markdown",
      "metadata": {},
      "source": [
        "#### Lösung"
      ]
    },
    {
      "cell_type": "markdown",
      "metadata": {},
      "source": [
        "Quiz: Welche(r) der beiden ungerichteten Graphen ist (sind) zusammenhängend?\n",
        "\n",
        "- graph_1 [x]\n",
        "\n",
        "- graph_2 [ ]\n",
        "\n",
        "\n",
        "Quiz: Welche(r) der drei gerichteten Graphen ist (sind) (mindestens) schwach zusammenhängend?\n",
        "\n",
        "- graph_3 [x]\n",
        "\n",
        "- graph_4 [ ]\n",
        "\n",
        "- graph_5 [x]\n",
        "\n",
        "\n",
        "Quiz: Welche(r) der drei gerichteten Graphen ist (sind) stark zusammenhängend?\n",
        "\n",
        "- graph_3 [ ]\n",
        "\n",
        "- graph_4 [ ]\n",
        "\n",
        "- graph_5 [x]"
      ]
    },
    {
      "cell_type": "markdown",
      "metadata": {},
      "source": [
        "### Aufgabe 3.11"
      ]
    },
    {
      "cell_type": "markdown",
      "metadata": {
        "id": "emF86MQilKNM"
      },
      "source": [
        "*Aufgabe:* Überprüfen Sie nun im folgenden Code-Chunk mit Hilfe der Funktion *graph.is_connected(mode)* stichprobenartig die angegebenen Graphen. Das Argument *mode* wird lediglich bei *gerichteten Graphen* verwendet. Dort kann es entweder mit *\"strong\"* (für starken Zusammenhang) oder mit *\"weak\"* (für schwachen Zusammenhang) übergeben werden."
      ]
    },
    {
      "cell_type": "code",
      "execution_count": null,
      "metadata": {
        "colab": {
          "base_uri": "https://localhost:8080/"
        },
        "id": "V09qAXVLlKNN",
        "outputId": "26895a90-a3ba-4a22-e312-6fa7d7a0aac5"
      },
      "outputs": [],
      "source": [
        "#{r \"3__11\"}\n",
        "#Prüfen Sie, ob graph_1 tatsächlich ein zusammenhängender Graph ist\n",
        "\n",
        "#Prüfen Sie, ob graph_3 tatsächlich schwach zusammenhängend ist\n",
        "\n",
        "#Prüfen Sie, ob graph_3 tatsächlich nicht stark zusammenhängend ist\n"
      ]
    },
    {
      "cell_type": "markdown",
      "metadata": {},
      "source": [
        "#### Tipps"
      ]
    },
    {
      "cell_type": "markdown",
      "metadata": {},
      "source": [
        "##### Tipp 1"
      ]
    },
    {
      "cell_type": "markdown",
      "metadata": {},
      "source": [
        "Beispiel: *print(graph_beispiel.is_connected(mode='weak'))*"
      ]
    },
    {
      "cell_type": "markdown",
      "metadata": {},
      "source": [
        "##### Lösung"
      ]
    },
    {
      "cell_type": "markdown",
      "metadata": {},
      "source": [
        "**Prüfen Sie, ob graph_1 tatsächlich ein zusammenhängender Graph ist**\n",
        "<br>\n",
        "<br>\n",
        "*print(graph_1.is_connected())*\n",
        "<br>\n",
        "<br>\n",
        "**Prüfen Sie, ob graph_3 tatsächlich schwach zusammenhängend ist**\n",
        "<br>\n",
        "<br>\n",
        "*print(graph_3.is_connected(mode='weak'))*\n",
        "<br>\n",
        "<br>\n",
        "**Prüfen Sie, ob graph_3 tatsächlich nicht stark zusammenhängend ist**\n",
        "<br>\n",
        "<br>\n",
        "*print(graph_3.is_connected(mode='strong'))*"
      ]
    },
    {
      "cell_type": "markdown",
      "metadata": {},
      "source": [
        "### Aufgabe 3.12"
      ]
    },
    {
      "cell_type": "markdown",
      "metadata": {
        "id": "xgmXdcQBlKNN"
      },
      "source": [
        "*Aufgabe:* Lassen Sie sich nun mit dem Befehl *graph.components()* Informationen zu den **Komponenten** von *graph_2* ausgeben.\n",
        "\n",
        "Wie Sie sehen, werden alle Komponenten im Graphen, inklusive der darin enthaltenen Knoten, angezeigt."
      ]
    },
    {
      "cell_type": "code",
      "execution_count": null,
      "metadata": {
        "colab": {
          "base_uri": "https://localhost:8080/"
        },
        "id": "0J125hn3lKNN",
        "outputId": "74e93ee3-64a2-42a1-9144-00511a00195a"
      },
      "outputs": [],
      "source": [
        "#{\"3__12\"}\n",
        "#Lassen Sie sich die Komponenten von graph_2 ausgeben\n"
      ]
    },
    {
      "cell_type": "markdown",
      "metadata": {
        "id": "qMHF5ilIlKNN"
      },
      "source": [
        "#### Tipps"
      ]
    },
    {
      "cell_type": "markdown",
      "metadata": {},
      "source": [
        "##### Lösung"
      ]
    },
    {
      "cell_type": "markdown",
      "metadata": {},
      "source": [
        "print(graph_2.components())"
      ]
    },
    {
      "cell_type": "markdown",
      "metadata": {
        "id": "s6OLvGfUlKNN"
      },
      "source": [
        "# Exercise 4 -- Pfade und Entfernungen in Netzwerken"
      ]
    },
    {
      "cell_type": "markdown",
      "metadata": {
        "id": "Ccpea6zmlKNN"
      },
      "source": [
        "## a) Entfernungen in Netzwerken"
      ]
    },
    {
      "cell_type": "markdown",
      "metadata": {},
      "source": [
        "### Aufgabe 4.1"
      ]
    },
    {
      "cell_type": "markdown",
      "metadata": {
        "id": "1oNR3ibblKNN"
      },
      "source": [
        "Oftmals ist man daran interessiert, die **Entfernung** zwischen bestimmten Knoten in einem Netzwerk zu bestimmen. Die Entfernung \n",
        "$$d(n_i, n_j)$$\n",
        "ist dabei definiert als die Länge (in Bezug auf die Anzahl Kanten) des kürzesten Pfades vom Knoten $n_i$ zum Knoten $n_j$. Der Befehl *graph.shortest_paths()* im Package *'igraph'* berechnet eben diese Entfernung per default für alle Knoten des Netzwerks und gibt die Werte in einer Matrix zurück. Dabei können bei gerichteten Graphen entweder nur die ausgehenden Kanten (Argument *mode=\"out\"*) oder nur die eingehenden Kanten (Argument *mode=\"in\"*) berücksichtigt werden. Für das Argument *mode=\"all\"* wird der Graph so behandelt, als seien die Kanten ungerichtet. Beim ungerichteten Graphen macht der Modus keinen Unterschied, sodass dieses Argument in dem Fall nicht benötigt wird.  \n",
        "Im folgenden Code-Chunk werden zwei Graphen erzeugt - ein ungerichteter und ein gerichteter Graph. Führen Sie den Code aus."
      ]
    },
    {
      "cell_type": "code",
      "execution_count": null,
      "metadata": {
        "id": "U9WCbRSflKNN"
      },
      "outputs": [],
      "source": [
        "#{\"4__1\"}\n",
        "#Erzeuge zwei Graphen\n",
        "#ungerichteter Graph\n",
        "graph_1 = Graph(n=5, edges = [(0,1), (1,4), (2,3), (2,4), (2,5), (3,5), (4,0)], directed=False)\n",
        "#gerichteter Graph\n",
        "graph_3 = Graph(n=4, edges = [(0,1), (1,2), (2,0), (1,3)], directed=True)"
      ]
    },
    {
      "cell_type": "markdown",
      "metadata": {},
      "source": [
        "### Aufgabe 4.2"
      ]
    },
    {
      "cell_type": "markdown",
      "metadata": {
        "id": "-9IKYtCvlKNO"
      },
      "source": [
        "Betrachten wir zunächst einmal den **ungerichteten Graphen** *graph_1*. Der folgende Code-Chunk plottet den Graphen zunächst. \n",
        "- - -\n",
        "*Aufgabe:* Ihre Aufgabe ist es dann, in einem zweiten Schritt für diesen Graphen die Matrix der Entfernungen gemäß der obigen Erläuterung zu berechnen und anschließend anzeigen zu lassen."
      ]
    },
    {
      "cell_type": "code",
      "execution_count": null,
      "metadata": {
        "colab": {
          "base_uri": "https://localhost:8080/",
          "height": 821
        },
        "id": "BYGZaAEGlKNO",
        "outputId": "0b6f4ce6-da3f-4314-93fa-1fd2c8d49d32"
      },
      "outputs": [],
      "source": [
        "#{\"4__2\"}\n",
        "#Plotten des Graphen graph_1\n",
        "plot(graph_1)"
      ]
    },
    {
      "cell_type": "code",
      "execution_count": null,
      "metadata": {
        "colab": {
          "base_uri": "https://localhost:8080/"
        },
        "id": "12K0FREtdtM0",
        "outputId": "77e3c7ff-a518-44fe-c71c-b1dd8eea394e"
      },
      "outputs": [],
      "source": [
        "#Berechnen Sie die Matrix der Entfernungen in graph_1 und \n",
        "#speichern Sie diese in der Variable d_1\n",
        "\n",
        "#Lassen Sie sich die Variable d_1 anzeigen\n"
      ]
    },
    {
      "cell_type": "markdown",
      "metadata": {},
      "source": [
        "#### Tipps"
      ]
    },
    {
      "cell_type": "markdown",
      "metadata": {},
      "source": [
        "##### Tipp 1"
      ]
    },
    {
      "cell_type": "markdown",
      "metadata": {},
      "source": [
        "Beispiel: *d_beispiel = graph_beispiel.shortest_paths()*"
      ]
    },
    {
      "cell_type": "markdown",
      "metadata": {},
      "source": [
        "##### Lösung"
      ]
    },
    {
      "cell_type": "markdown",
      "metadata": {},
      "source": [
        "d_1 = graph_1.shortest_paths()\n",
        "<br>\n",
        "<br>\n",
        "print(d_1)"
      ]
    },
    {
      "cell_type": "markdown",
      "metadata": {},
      "source": [
        "### Aufgabe 4.3"
      ]
    },
    {
      "cell_type": "markdown",
      "metadata": {
        "id": "HbsRCXAklKNO"
      },
      "source": [
        "*Aufgabe:* Lassen Sie sich nun konkret die Entfernung zwischen den Knoten 1 und 6 ausgeben.\n",
        "- - -\n",
        "*Anmerkung: Ein Element in Zeile $i$ und Spalte $j$ einer Matrix x wird in Python mit dem Befehl x[i][j] adressiert*"
      ]
    },
    {
      "cell_type": "code",
      "execution_count": null,
      "metadata": {
        "colab": {
          "base_uri": "https://localhost:8080/"
        },
        "id": "6-1CGVdolKNO",
        "outputId": "8c66754b-506e-49a0-afe0-a8227ac75b7b"
      },
      "outputs": [],
      "source": [
        "#{\"4__3\"}\n",
        "#Wie groß ist die Entfernung d(1,6)?\n"
      ]
    },
    {
      "cell_type": "markdown",
      "metadata": {},
      "source": [
        "#### Tipps"
      ]
    },
    {
      "cell_type": "markdown",
      "metadata": {},
      "source": [
        "##### Tipp 1"
      ]
    },
    {
      "cell_type": "markdown",
      "metadata": {},
      "source": [
        "Beachten Sie, dass Sie von den Indizes jeweils 1 subtrahieren müssen"
      ]
    },
    {
      "cell_type": "markdown",
      "metadata": {},
      "source": [
        "##### Tipp 2"
      ]
    },
    {
      "cell_type": "markdown",
      "metadata": {},
      "source": [
        "Über *beispiel[0][0]* erhalten Sie das Element in der ersten Zeile und der ersten Spalte der Matrix *beispiel*"
      ]
    },
    {
      "cell_type": "markdown",
      "metadata": {},
      "source": [
        "##### Lösung"
      ]
    },
    {
      "cell_type": "markdown",
      "metadata": {},
      "source": [
        "d_1[0][5]"
      ]
    },
    {
      "cell_type": "markdown",
      "metadata": {},
      "source": [
        "### Aufgabe 4.4"
      ]
    },
    {
      "cell_type": "markdown",
      "metadata": {
        "id": "tSAXWni4lKNO"
      },
      "source": [
        "Als Nächstes betrachten wir nun den **gerichteten Graphen** *graph_3*. Um das Element der Entfernungsmatrix mit einem analogen Befehl zu unserer Definition aufrufen zu können, werden wir dazu zunächst den Modus *mode=\"out\"* verwenden. Der folgende Code-Chunk plottet zunächst den (gerichteten) Graphen *graph_3*. \n",
        "- - -\n",
        "*Aufgabe:* Es ist Ihre Aufgabe, anschließend die Entfernungen *d(1,4)* sowie *d(4,1)* zu bestimmen. Folgen Sie dazu den Anweisungen in den Kommentaren."
      ]
    },
    {
      "cell_type": "code",
      "execution_count": null,
      "metadata": {
        "colab": {
          "base_uri": "https://localhost:8080/",
          "height": 821
        },
        "id": "6B_mmx1wlKNO",
        "outputId": "0a535bde-9cdc-4edf-ee2c-342b5d1afc28"
      },
      "outputs": [],
      "source": [
        "#{\"4__4\"}\n",
        "#Plotten von graph_3\n",
        "plot(graph_3)"
      ]
    },
    {
      "cell_type": "code",
      "execution_count": null,
      "metadata": {
        "colab": {
          "base_uri": "https://localhost:8080/"
        },
        "id": "rSDa3Cz2d3A-",
        "outputId": "6d277de4-036b-4b0c-e087-a3d7d4686334"
      },
      "outputs": [],
      "source": [
        "#Bestimmen Sie die Matrix der Entfernungen, Modus \"out\" von graph_3 und speichern Sie diese in der Variable d_3\n",
        "\n",
        "#Wie groß ist die Entfernung von Knoten 1 zu Knoten 4?\n",
        "\n",
        "#Wie groß ist die Entfernung von Knoten 4 zu Knoten 1?\n"
      ]
    },
    {
      "cell_type": "markdown",
      "metadata": {},
      "source": [
        "#### Tipps"
      ]
    },
    {
      "cell_type": "markdown",
      "metadata": {},
      "source": [
        "##### Tipp 1"
      ]
    },
    {
      "cell_type": "markdown",
      "metadata": {},
      "source": [
        "Verwenden Sie zunächst den Befehl *shortest_paths(mode='out')* um die Distanzmatrix zu erhalten"
      ]
    },
    {
      "cell_type": "markdown",
      "metadata": {},
      "source": [
        "##### Tipp 2"
      ]
    },
    {
      "cell_type": "markdown",
      "metadata": {},
      "source": [
        "Die Elemente der Distanzmatrix sprechen Sie analog zur vorherigen Aufgabe an"
      ]
    },
    {
      "cell_type": "markdown",
      "metadata": {},
      "source": [
        "##### Lösung"
      ]
    },
    {
      "cell_type": "markdown",
      "metadata": {},
      "source": [
        "**Bestimmen Sie die Matrix der Entfernungen, Modus \"out\" von graph_3 und speichern Sie diese in der Variable d_3**\n",
        "<br>\n",
        "<br>\n",
        "*d_3 = graph_3.shortest_paths(mode='out')*\n",
        "<br>\n",
        "<br>\n",
        "**Wie groß ist die Entfernung von Knoten 1 zu Knoten 4?**\n",
        "<br>\n",
        "<br>\n",
        "*print(d_3[0][3])*\n",
        "<br>\n",
        "<br>\n",
        "**Wie groß ist die Entfernung von Knoten 4 zu Knoten 1?**\n",
        "<br>\n",
        "<br>\n",
        "*print(d_3[3][0])*"
      ]
    },
    {
      "cell_type": "markdown",
      "metadata": {},
      "source": [
        "### Aufgabe 4.5"
      ]
    },
    {
      "cell_type": "markdown",
      "metadata": {
        "id": "K1uMdPxJlKNO"
      },
      "source": [
        "Sie sehen, dass auch in Python (wie in der Theorie) die Entfernung $d(n_i, n_j)$ als unendlich groß (*Inf*) angegeben wird, wenn es keinen Pfad gibt, der von Knoten $n_i$ zu Knoten $n_j$ verläuft.\n",
        "\n",
        "Wie Sie vielleicht zu Beginn dieser Aufgabe bemerkt haben, kann die Funktion *shortest_paths* auch **Gewichte** (*weights*) **berücksichtigen**. Per default werden die Gewichte nicht verwendet.\n",
        "\n",
        "Stellen Sie sich vor, beim folgenden Graph handele es sich um ein Straßennetz. Die einzelnen Knoten stellen kleine Städte dar, die Kanten sind Schnellstraßen. Die Gewichte geben nun wieder, wie dicht der Verkehr auf einer Straße ist: Je größer die Gefahr eines Staus ist, desto höher ist das Gewicht. Der folgende Code-Chunk erstellt das Straßennetz, ordnet den Kanten das Attribut *weight* zu und plottet den Graphen. Im Plot sind die Kanten mit ihren Gewichten beschriftet. Betrachten Sie den Code und führen Sie ihn aus."
      ]
    },
    {
      "cell_type": "code",
      "execution_count": null,
      "metadata": {
        "colab": {
          "base_uri": "https://localhost:8080/",
          "height": 821
        },
        "id": "8s5YTwj0lKNO",
        "outputId": "48b7438c-8fdc-4e8a-9936-71b8cca94e94"
      },
      "outputs": [],
      "source": [
        "#{\"4__5\"}\n",
        "#Straßennetz als Graph definieren\n",
        "graph_roadnet = Graph(edges=[(0,1), (2,1), (1,3), (1,5), (3,4), (3,7), (4,5), (5,6)], directed=False)\n",
        "#Namen der Knoten hinzufügen\n",
        "graph_roadnet.vs['name'] = ['A', 'B', 'C', 'D', 'E', 'F', 'G', 'H']\n",
        "#Gewichtattribut hinzufügen\n",
        "graph_roadnet.es['weight'] = [1,1,4,10,3,9,2,3]\n",
        "#Graph mit Gewichten plotten\n",
        "plot(graph_roadnet, vertex_label=graph_roadnet.vs['name'], edge_label=graph_roadnet.es['weight'])\n"
      ]
    },
    {
      "cell_type": "markdown",
      "metadata": {},
      "source": [
        "### Aufgabe 4.6"
      ]
    },
    {
      "cell_type": "markdown",
      "metadata": {
        "id": "wZZaRio4lKNP"
      },
      "source": [
        "*Aufgabe:* Stellen Sie sich vor, Sie wollen von Stadt *A* zu Stadt *F*. Ermitteln Sie mit Hilfe der Funktion *shortest_paths* die Entfernung zwischen den beiden Städten, wenn Sie keinen Verkehrsfunk berücksichtigen und die kürzestmögliche Distanz zurücklegen möchten; ermitteln Sie im Vergleich dazu, was die kürzeste Distanz unter Berücksichtigung der Verkehrssituation wäre."
      ]
    },
    {
      "cell_type": "code",
      "execution_count": null,
      "metadata": {
        "colab": {
          "base_uri": "https://localhost:8080/"
        },
        "id": "nw-uass6lKNP",
        "outputId": "c8b83760-7b50-489e-ed22-785519b5b354"
      },
      "outputs": [],
      "source": [
        "#{\"4__6\"}\n",
        "#Wie groß ist die Entfernung zwischen A und F ohne Berücksichtigung des Verkehrs?\n",
        "\n",
        "#Wie groß ist die Entfernung mit Berücksichtigung des Verkehrs?\n"
      ]
    },
    {
      "cell_type": "markdown",
      "metadata": {
        "id": "dl_Ss-7ylKNP"
      },
      "source": [
        "Beachten Sie, dass die Ergebnisse hier unterschiedlich zu interpretieren sind. Ohne Berücksichtigung der Gewichte wird die Anzahl der zu passierenden Straßen angegeben, mit Berücksichtigung der Gewichte die Anzahl der Staugefahreinheiten."
      ]
    },
    {
      "cell_type": "markdown",
      "metadata": {},
      "source": [
        "#### Tipps"
      ]
    },
    {
      "cell_type": "markdown",
      "metadata": {},
      "source": [
        "##### Tipp 1"
      ]
    },
    {
      "cell_type": "markdown",
      "metadata": {},
      "source": [
        "Verwenden Sie hierfür die Funktion *shortest_paths()* und den Zugriff auf Matrixelemente mithilfe von [][]"
      ]
    },
    {
      "cell_type": "markdown",
      "metadata": {},
      "source": [
        "##### Tipp 2"
      ]
    },
    {
      "cell_type": "markdown",
      "metadata": {},
      "source": [
        "Um den Verkehr zu berücksichtigen, verwenden Sie den Parameter *weights* innerhalb der Funktion *shortest_paths*"
      ]
    },
    {
      "cell_type": "markdown",
      "metadata": {},
      "source": [
        "##### Lösung"
      ]
    },
    {
      "cell_type": "markdown",
      "metadata": {},
      "source": [
        "**Wie groß ist die Entfernung zwischen A und F ohne Berücksichtigung des Verkehrs?**\n",
        "<br>\n",
        "<br>\n",
        "*print(graph_roadnet.shortest_paths()[0][5])*\n",
        "<br>\n",
        "<br>\n",
        "**Wie groß ist die Entfernung mit Berücksichtigung des Verkehrs?**\n",
        "<br>\n",
        "<br>\n",
        "*print(graph_roadnet.shortest_paths(weights='weight')[0][5])*"
      ]
    },
    {
      "cell_type": "markdown",
      "metadata": {
        "id": "2QvqJ3OrlKNP"
      },
      "source": [
        "## b) Kürzester Pfad zwischen Knoten"
      ]
    },
    {
      "cell_type": "markdown",
      "metadata": {},
      "source": [
        "### Aufgabe 4.7"
      ]
    },
    {
      "cell_type": "markdown",
      "metadata": {
        "id": "ugOeTwsllKNP"
      },
      "source": [
        "Während manchmal lediglich die Anzahl der Kanten zwischen zwei Knoten - die Entfernung - eine Rolle spielt, ist es in anderen Kontexten interessant zu wissen, wie genau der **kürzeste Pfad** zwischen zwei Knoten verläuft - beispielsweise in obigem Straßennetz.\n",
        "\n",
        "Der folgende Code-Chunk betrachtet erneut das Straßennetz *graph_roadnet*. Er zeigt zunächst, wie der kürzeste Pfad von *A* nach *F* verläuft, falls die Verkehrssituation nicht berücksichtigt wird. Der Code hierfür ist bereits gegeben. Betrachten Sie den hierzu verwendeten Befehl *graph.get_shortest_paths(v, to, weights, mode)*. \n",
        "Lassen Sie sich von der Ähnlichkeit dieser Funktion zur vorherigen Funktion nicht verwirren. Kurz gesagt: Mit *shortest_paths* erhalten Sie die kürzesten Distanzen zwischen den Knoten. Mit *get_shortest_paths* erhalten Sie die 'Wegbeschreibung' des kürzesten Pfads.\n",
        "\n",
        "- - -\n",
        "*Aufgabe:* Nutzen Sie denselben Befehl anschließend selbst, um den kürzesten Pfad von *A* nach *F* - diesmal jedoch unter Berücksichtigung der Verkehrssituation - auszugeben. Beachten Sie, dass der Umgang mit Gewichten hier genau analog funktioniert wie bei der Funktion *shortest_paths*.  \n",
        "- - -\n",
        "Wie Sie dem Output entnehmen können, gibt die Funktion *shortest_paths* eine Liste zurück. Die darin enthaltenen Zahlen stehen für die Knoten, die der Pfad beinhaltet. In diesem Beispiel verläuft **bei ungewichteter Berechnung** der kürzeste Pfad von **A** nach **F** also über den Knoten **B**.\n",
        "\n",
        "Bei dem **gewichteten** Beispiel verläuft der kürzeste Pfad stattdessen von **A** über **B** zu **D** zu **E** zu **F**. Grund für diesen \"Umweg\" ist das hohe Gewicht der Kante von **B** nach **F**, welches es unattraktiv macht diese Strecke zu nehmen.\n",
        "\n",
        "- - -"
      ]
    },
    {
      "cell_type": "code",
      "execution_count": null,
      "metadata": {
        "colab": {
          "base_uri": "https://localhost:8080/"
        },
        "id": "Pul78WxZlKNP",
        "outputId": "09360cb6-3d13-4c50-bd90-41fd892e93b1"
      },
      "outputs": [],
      "source": [
        "#{\"4__7\"}\n",
        "#Ausgabe des kürzesten Pfades von A nach F ohne Berücksichtigung\n",
        "#des Verkehrs\n",
        "print(graph_roadnet.get_shortest_paths(v='A', to='F'))\n",
        "#Ausgabe des kürzesten Pfades von A nach F mit Berücksichtigung\n",
        "#des Verkehrs\n"
      ]
    },
    {
      "cell_type": "markdown",
      "metadata": {
        "id": "He-iDEAglKNP"
      },
      "source": [
        "#### Tipps"
      ]
    },
    {
      "cell_type": "markdown",
      "metadata": {},
      "source": [
        "##### Tipp 1"
      ]
    },
    {
      "cell_type": "markdown",
      "metadata": {},
      "source": [
        "Verwenden Sie den bereits vorhandenen Befehl erneut und ergänzen Sie den Parameter *weights*"
      ]
    },
    {
      "cell_type": "markdown",
      "metadata": {},
      "source": [
        "##### Lösung"
      ]
    },
    {
      "cell_type": "markdown",
      "metadata": {},
      "source": [
        "print(graph_roadnet.get_shortest_paths(v='A', to='F', weights = 'weight'))"
      ]
    },
    {
      "cell_type": "markdown",
      "metadata": {},
      "source": [
        "### Aufgabe 4.8"
      ]
    },
    {
      "cell_type": "markdown",
      "metadata": {},
      "source": [
        "*Aufgabe:* Zum Abschluss ist es nun Ihre Aufgabe, die Funktion auf einen **gerichteten Graphen** anzuwenden. Hier ist zu beachten, dass erneut wie bei der Funktion *shortest_paths* der Modus angegeben werden kann. Wir verwenden auch hier das Argument *mode=\"out\"*. Lassen Sie sich für den gerichteten Graphen *graph_3*, der keine Gewichte besitzt, den kürzesten Pfad von Knoten 3 zu Knoten 4 ausgeben. Der Parameter *v* ist hierbei der erste, der Parameter *to* der zweite Knoten.\n",
        "- - -\n",
        "Zur besseren Vorstellung wird der Graph anschließend erneut geplottet."
      ]
    },
    {
      "cell_type": "code",
      "execution_count": null,
      "metadata": {
        "colab": {
          "base_uri": "https://localhost:8080/",
          "height": 839
        },
        "id": "2on9pGJ8lKNP",
        "outputId": "e6e6db44-2472-41ea-decd-2f4b84701cec"
      },
      "outputs": [],
      "source": [
        "#{\"4__8\"}\n",
        "#Ausgabe des kürzesten Pfades von Knoten 3 zu Knoten 4 in graph_3\n",
        "#Wählen Sie die Reihenfolge der Argumente bitte wie folgt:\n",
        "#v, to, mode\n",
        "print(graph_3.get_shortest_paths(v=2, to=3, mode = \"out\"))\n",
        "#Plotten von graph_3\n",
        "plot(graph_3, vertex_label=graph_3.vs.indices)"
      ]
    },
    {
      "cell_type": "markdown",
      "metadata": {},
      "source": [
        "#### Tipps"
      ]
    },
    {
      "cell_type": "markdown",
      "metadata": {},
      "source": [
        "##### Tipp 1"
      ]
    },
    {
      "cell_type": "markdown",
      "metadata": {},
      "source": [
        "Verwenden Sie für den Parameter *v* den Wert 2 und für den Paramater *to* den Wert 3"
      ]
    },
    {
      "cell_type": "markdown",
      "metadata": {},
      "source": [
        "##### Lösung"
      ]
    },
    {
      "cell_type": "markdown",
      "metadata": {},
      "source": [
        "print(graph_3.get_shortest_paths(v=2, to=3, mode = \"out\"))"
      ]
    },
    {
      "cell_type": "markdown",
      "metadata": {
        "id": "oBMa62aAlKNQ"
      },
      "source": [
        "## c) Anzahl der Pfade der Länge n"
      ]
    },
    {
      "cell_type": "markdown",
      "metadata": {
        "id": "kM5QKIQ-lKNQ"
      },
      "source": [
        "Um die Anzahl der Pfade mit einer bestimmten Länge *n* zwischen zwei Knoten $n_i$ und $n_j$ in einem Netzwerk zu ermitteln, haben Sie im Skript eine allgemeine Formel kennengelernt. Daraus ergibt sich die **Gesamtanzahl der Pfade mit Länge** ***n*** **im Netzwerk**:\n",
        "$$\\sum_{i=1}^{|N|}{\\sum_{j=1}^{|N|}[A^n]_{ij}}$$\n",
        "Für Pfade der Länge *n* wird also die Adjazenzmatrix *A* *n*-Mal mit sich selbst multipliziert und anschließend werden die Elemente der resultierenden Matrix aufsummiert.  \n",
        "- - -"
      ]
    },
    {
      "cell_type": "markdown",
      "metadata": {},
      "source": [
        "### Aufgabe 4.9"
      ]
    },
    {
      "cell_type": "markdown",
      "metadata": {},
      "source": [
        "Im folgenden Code-Chunk ist bereits eine fertige Funktion enthalten, die die Anzahl der Pfade mit einer bestimmten Länge innerhalb eines Netzwerks ausgibt. Keine Sorge, Sie müssen den Code nicht im Detail verstehen. Schauen Sie sich den Code aber gerne genauer an, falls es Sie interessiert."
      ]
    },
    {
      "cell_type": "code",
      "execution_count": null,
      "metadata": {
        "id": "4EsYTQwqlKNQ"
      },
      "outputs": [],
      "source": [
        "#{\"4__9\"}\n",
        "def path_counter(graph, n):\n",
        "    distance_matrix = graph.shortest_paths()\n",
        "    distances = [distance for distance_list in distance_matrix for distance in distance_list]\n",
        "\n",
        "    counter = distances.count(n)\n",
        "    \n",
        "    return counter"
      ]
    },
    {
      "cell_type": "markdown",
      "metadata": {},
      "source": [
        "### Aufgabe 4.10"
      ]
    },
    {
      "cell_type": "markdown",
      "metadata": {
        "id": "dvVJXpn7lKNQ"
      },
      "source": [
        "*Aufgabe:* Testen Sie nun Ihre Funktion, indem Sie die Anzahl der Pfade mit Länge 1 und die Anzahl der Pfade mit Länge 3 im ungerichteten Graphen *graph_1* ermitteln."
      ]
    },
    {
      "cell_type": "code",
      "execution_count": null,
      "metadata": {
        "colab": {
          "base_uri": "https://localhost:8080/"
        },
        "id": "G8jV8RtElKNQ",
        "outputId": "c7e2f941-a61e-4ef3-8841-a598827a3524"
      },
      "outputs": [],
      "source": [
        "#{\"4__10\"}\n",
        "#Ermitteln Sie die Anzahl der Pfade mit Länge 1 in graph_1\n",
        "\n",
        "#Ermitteln Sie die Anzahl der Pfade mit Länge 3 in graph_1\n"
      ]
    },
    {
      "cell_type": "markdown",
      "metadata": {},
      "source": [
        "#### Tipps"
      ]
    },
    {
      "cell_type": "markdown",
      "metadata": {},
      "source": [
        "##### Tipp 1"
      ]
    },
    {
      "cell_type": "markdown",
      "metadata": {},
      "source": [
        "Geben Sie für den Parameter *graph* der Funktion *path_counter* den Namen des Graphen - *graph_1* - an.\n",
        "<br>\n",
        "<br>\n",
        "Für den Paramater *n* geben Sie die gewünschte Pfadlänge an."
      ]
    },
    {
      "cell_type": "markdown",
      "metadata": {},
      "source": [
        "##### Lösung"
      ]
    },
    {
      "cell_type": "markdown",
      "metadata": {},
      "source": [
        "**Ermitteln Sie die Anzahl der Pfade mit Länge 1 in graph_1**\n",
        "<br>\n",
        "<br>\n",
        "*print(path_counter(graph=graph_1, n=1))*\n",
        "<br>\n",
        "<br>\n",
        "**Ermitteln Sie die Anzahl der Pfade mit Länge 3 in graph_1**\n",
        "<br>\n",
        "<br>\n",
        "*print(path_counter(graph=graph_1, n=3))*"
      ]
    },
    {
      "cell_type": "markdown",
      "metadata": {
        "id": "ZvCtS5fKlKNQ"
      },
      "source": [
        "# Literaturverzeichnis"
      ]
    },
    {
      "cell_type": "markdown",
      "metadata": {
        "id": "NJUa52KalKNQ"
      },
      "source": [
        "## Packages"
      ]
    },
    {
      "cell_type": "markdown",
      "metadata": {
        "id": "ftyqDTsFlKNR"
      },
      "source": [
        "## Packagebeschreibung"
      ]
    },
    {
      "cell_type": "markdown",
      "metadata": {
        "id": "HgNPfcvTlKNR"
      },
      "source": [
        "## Buch-, Paper-, Onlinequellen:"
      ]
    }
  ],
  "metadata": {
    "colab": {
      "collapsed_sections": [
        "nnEgxAi5lKNC",
        "NJUa52KalKNQ",
        "ftyqDTsFlKNR",
        "HgNPfcvTlKNR"
      ],
      "name": "PS_Nr_1_Python.ipynb",
      "provenance": []
    },
    "interpreter": {
      "hash": "bed862baa169bd35b57b2a485b7961cf7d1bd32d9b549d4e10480d14566cc8ca"
    },
    "kernelspec": {
      "display_name": "Python 3.7.8 64-bit ('venv': venv)",
      "name": "python3"
    },
    "language_info": {
      "codemirror_mode": {
        "name": "ipython",
        "version": 3
      },
      "file_extension": ".py",
      "mimetype": "text/x-python",
      "name": "python",
      "nbconvert_exporter": "python",
      "pygments_lexer": "ipython3",
      "version": "3.7.8"
    },
    "orig_nbformat": 4
  },
  "nbformat": 4,
  "nbformat_minor": 0
}
