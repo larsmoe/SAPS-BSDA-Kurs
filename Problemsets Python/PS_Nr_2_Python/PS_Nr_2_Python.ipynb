{
 "cells": [
  {
   "cell_type": "markdown",
   "metadata": {},
   "source": [
    "# Packages Laden"
   ]
  },
  {
   "cell_type": "code",
   "execution_count": 1,
   "metadata": {},
   "outputs": [],
   "source": [
    "import igraph as ig"
   ]
  },
  {
   "cell_type": "markdown",
   "metadata": {},
   "source": [
    "Willkommen zum zweiten Python-Problem Set in diesem Modul!  \n",
    "Sie finden hier eine Aufgabe (*Exercise 5*) zu Inhalten aus Kapitel 3 *Social Network Analysis* - konkret zu dem Teil 3.1.4."
   ]
  },
  {
   "cell_type": "markdown",
   "metadata": {},
   "source": [
    "# Exercise 5"
   ]
  },
  {
   "cell_type": "markdown",
   "metadata": {},
   "source": [
    "Das Package *'igraphdata'* bietet verschiedene Datensätze zu Netzwerken an, die mit dem Package *'igraph'* bearbeitet werden können. Bei vier Netzwerken aus diesem Package handelt es sich laut der Package-Beschreibung (igraphdata, 2015) um soziale Netzwerke: *\"UKfaculty\"*, *\"karate\"*, *\"kite\"* und *\"rfid\"*. In den folgenden beiden Aufgaben werden wir die ersten drei davon betrachten, um sie auf verschiedene Eigenschaften zu untersuchen. Dabei liegt der Fokus der aktuellen Aufgabe auf den **grundlegenden Maßen**, die die Knoten und Kanten eines Netzwerks charakterisieren. In *Problem Set Nr.3* werden wir uns insbesondere den Zentralitätsmaßen in Netzwerken widmen.\n",
    "\n",
    "*Die folgende Aufgabe erfolgt in Anlehnung an Kolaczyk und Csárdi, Kapitel 4.2.1.*\n",
    "Laden Sie im folgenden Code-Chunk die drei Netzwerke, die wir im Folgenden betrachten werden, indem Sie den Code ausführen."
   ]
  }
 ],
 "metadata": {
  "interpreter": {
   "hash": "bed862baa169bd35b57b2a485b7961cf7d1bd32d9b549d4e10480d14566cc8ca"
  },
  "kernelspec": {
   "display_name": "Python 3.7.8 64-bit ('venv': venv)",
   "language": "python",
   "name": "python3"
  },
  "language_info": {
   "codemirror_mode": {
    "name": "ipython",
    "version": 3
   },
   "file_extension": ".py",
   "mimetype": "text/x-python",
   "name": "python",
   "nbconvert_exporter": "python",
   "pygments_lexer": "ipython3",
   "version": "3.7.8"
  },
  "orig_nbformat": 4
 },
 "nbformat": 4,
 "nbformat_minor": 2
}
