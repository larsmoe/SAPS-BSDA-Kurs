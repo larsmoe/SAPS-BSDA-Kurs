{
  "cells": [
    {
      "cell_type": "code",
      "execution_count": null,
      "metadata": {
        "colab": {
          "base_uri": "https://localhost:8080/"
        },
        "id": "6Gxc12eKs1fy",
        "outputId": "214eb7ff-f630-4262-c990-8b5e95673b8e"
      },
      "outputs": [],
      "source": [
        "# Wie beim ersten Blatt müssen für dieses Blatt wieder Packages installiert werden\n",
        "#!pip install igraph==0.9.8\n",
        "#!apt install libcairo2-dev\n",
        "#!pip install pycairo\n",
        "#!pip install matplotlib"
      ]
    },
    {
      "cell_type": "markdown",
      "metadata": {
        "id": "9xYOMWEus0By"
      },
      "source": [
        "# Packages Laden"
      ]
    },
    {
      "cell_type": "code",
      "execution_count": null,
      "metadata": {
        "id": "KcK6O5q7s0Bz"
      },
      "outputs": [],
      "source": [
        "# Wie bereits im ersten Problem Set werden zunächst die notwendigen Packages importiert\n",
        "from igraph import *\n",
        "import pandas as pd\n",
        "import numpy as np\n",
        "import matplotlib.pyplot as plt"
      ]
    },
    {
      "cell_type": "markdown",
      "metadata": {
        "id": "TfSRgK5cs0B0"
      },
      "source": [
        "Willkommen zum zweiten Python Problem Set in diesem Modul!  \n",
        "Sie finden hier eine Aufgabe (*Exercise 5*) zu den Inhalten aus Kapitel 3 *Social Network Analysis* - konkret zu dem Teil 3.1.4."
      ]
    },
    {
      "cell_type": "markdown",
      "metadata": {
        "id": "HOh4elrvs0B0"
      },
      "source": [
        "# Aufgabe 5"
      ]
    },
    {
      "cell_type": "markdown",
      "metadata": {
        "id": "pQAX5QJrs0B0"
      },
      "source": [
        "In den folgenden beiden Aufgaben werden wir uns zwei Netzwerke genauer anschauen und sie auf verschiedene Eigenschaften untersuchen. Dabei liegt der Fokus der aktuellen Aufgabe auf den **grundlegenden Maßen**, die die Knoten und Kanten eines Netzwerks charakterisieren. In *Problem Set Nr.3* werden wir uns insbesondere den Zentralitätsmaßen in Netzwerken widmen.\n",
        "Die zwei Netzwerke heißen *Karate* und *Kite*. Karate ist ein Netzwerk eines Karate Clubs, welches aus einer wissenschaftlichen Arbeit von Wayne W. Zachary stammt. Das Kite Netzwerk hingegen bildet optisch die Form eines Drachen (Fluggerät) ab und wurde von David Krackhardt erstellt.  \n",
        "\n",
        "*Die folgende Aufgabe erfolgt in Anlehnung an Kolaczyk und Csárdi, Kapitel 4.2.1.* **(Noch relevant?)**\n",
        "\n",
        "Laden Sie im folgenden Code-Chunk die zwei Netzwerke, die wir im Folgenden betrachten werden, indem Sie den Code ausführen. \n",
        "\n",
        "Es ist <ins>nicht</ins> notwendig, dass Sie sich den Code im Detail ansehen. "
      ]
    },
    {
      "cell_type": "markdown",
      "metadata": {
        "id": "I5rdcjNMs0B0"
      },
      "source": [
        "### Aufgabe 5.1"
      ]
    },
    {
      "cell_type": "code",
      "execution_count": null,
      "metadata": {
        "id": "eukKi2iks0B0"
      },
      "outputs": [],
      "source": [
        "# {\"5_1\"}\n",
        "# Import des Karate Netzwerks\n",
        "karate = pd.read_csv('https://raw.githubusercontent.com/larsmoe/SAPS-BSDA-Kurs/master/Problemsets%20Python/PS_Nr_2_Python/data/Karate/KARATE.csv', sep=\";\", header=None, names=['A','B'])\n",
        "kite = pd.read_csv('https://raw.githubusercontent.com/larsmoe/SAPS-BSDA-Kurs/master/Problemsets%20Python/PS_Nr_2_Python/data/Kite/Kite.csv', sep=\";\", header=None, names=['A','B'])\n",
        "\n",
        "\n",
        "# Der Subtract Befehl ist notwendig, um die Indices auf die Python Indexierung zu bringen. Sprich, aus Knoten 1 wird Knoten 0\n",
        "karate = karate.subtract(1)\n",
        "kite = kite.subtract(1)"
      ]
    },
    {
      "cell_type": "code",
      "execution_count": null,
      "metadata": {
        "id": "aCzEWwcKs0B1"
      },
      "outputs": [],
      "source": [
        "# Diese Funktion erstellt aus den importierten Netzwerkdaten Kantenlisten, die mit igraph kompatibel sind\n",
        "def create_edge_list(node_list1, node_list2):\n",
        "    edge_list = []\n",
        "    for node_1, node_2 in zip(node_list1, node_list2):\n",
        "        edge = (node_1, node_2)\n",
        "        edge_list.append(edge)\n",
        "    return edge_list"
      ]
    },
    {
      "cell_type": "code",
      "execution_count": null,
      "metadata": {
        "id": "mOKkszAzs0B1"
      },
      "outputs": [],
      "source": [
        "# Die zuvor deklarierte Funktion wird nun verwendet\n",
        "karate_edges = create_edge_list(karate['A'].to_list(), karate['B'].to_list())\n",
        "kite_edges = create_edge_list(kite['A'].to_list(), kite['B'].to_list())"
      ]
    },
    {
      "cell_type": "code",
      "execution_count": null,
      "metadata": {
        "id": "6kcLwHa8s0B1"
      },
      "outputs": [],
      "source": [
        "# Erzeugung des Karate Graphs\n",
        "graph_karate = Graph(n=34, edges=karate_edges, directed=True)\n",
        "\n",
        "# Erzeugung des Kite Graphs\n",
        "graph_kite = Graph(n=10, edges=kite_edges, directed=False)"
      ]
    },
    {
      "cell_type": "markdown",
      "metadata": {
        "id": "7NZABk2qs0B1"
      },
      "source": [
        "### Aufgabe 5.2"
      ]
    },
    {
      "cell_type": "code",
      "execution_count": null,
      "metadata": {
        "colab": {
          "base_uri": "https://localhost:8080/",
          "height": 821
        },
        "id": "Tpw5uI0xs0B1",
        "outputId": "853db65a-f204-42e4-d3f7-0625f7e44292"
      },
      "outputs": [],
      "source": [
        "# {\"5_2\"}\n",
        "#Plotten Sie den Graphen karate\n",
        "plot(graph_karate, vertex_label=graph_karate.vs.indices)"
      ]
    },
    {
      "cell_type": "code",
      "execution_count": null,
      "metadata": {
        "colab": {
          "base_uri": "https://localhost:8080/",
          "height": 821
        },
        "id": "6V4pQZlus0B2",
        "outputId": "d43dae2d-ad63-441a-9992-755ee6018f8d"
      },
      "outputs": [],
      "source": [
        "#Plotten Sie den Graphen Kite\n",
        "plot(graph_kite)"
      ]
    },
    {
      "cell_type": "markdown",
      "metadata": {
        "id": "uSqR23Ahs0B2"
      },
      "source": [
        "Wie Sie sehen können, sind die zwei Netzwerke sehr unterschiedlich. Im Netzwerk *karate* (Zachary, 1977) stellen die Knoten Mitglieder eines Karateclubs dar und die Kanten Aktivitäten, welche die Mitglieder gemeinsam unternommen haben; Beim Netzwerk *kite* (Source \"Kite\" (2017); Krackhardt, 1990) handelt es sich um ein nichtreales soziales Netzwerk."
      ]
    },
    {
      "cell_type": "markdown",
      "metadata": {
        "id": "-r9HYvOrs0B2"
      },
      "source": [
        "## a) Gradbasierte Maße - Node Degree und Degree Distribution"
      ]
    },
    {
      "cell_type": "markdown",
      "metadata": {
        "id": "6P784XG-s0B2"
      },
      "source": [
        "### Aufgabe 5.3"
      ]
    },
    {
      "cell_type": "markdown",
      "metadata": {
        "id": "3XDLOkT1s0B2"
      },
      "source": [
        "Wie Sie im Skript bereits gelernt haben, gibt der **Node Degree** (Grad) eines Knotens an, wie viele Kanten von ihm ausgehen. Bei gerichteten Graphen unterscheidet man zusätzlich zwischen **In-Degree** (Anzahl eingehender Kanten) und **Out-Degree** (Anzahl ausgehender Kanten).\n",
        "\n",
        "Im Package *'igraph'* gibt der Befehl *graph.degree(vertices, mode)* den Node Degree derjenigen Knoten an, die in einem Vektor dem Argument *vertices* übergeben werden. Per default werden die Node Degrees aller Knoten ausgegeben. Bei gerichteten Graphen muss zusätzlich der Modus (*mode*) \"*in*\", \"*out*\" oder \"*all*\" festgelegt werden. Wie der Name sagt, erhält man beim *mode=\"in\"* den In-Degree, beim *mode=\"out\"* den Out-Degree und beim *mode=\"total\"* die Summe aus In- und Out-Degree zurück. \n",
        "- - -\n",
        "*Aufgabe:* Lassen Sie sich im folgenden Code-Chunk im (ungerichteten) Graphen *karate* den Node Degree vom Karate-Trainer \"*Mr Hi*\" und dem Präsidenten \"*John A*\" ausgeben.\n",
        "\n",
        "**Hinweis:** Mr Hi ist Knoten 1 und John A ist Knoten 34. Erinnern Sie sich daran, dass in Python die Indexierung bei 0 beginnt und Sie von dem Werten also entsprechend 1 subtrahieren müssen. \n",
        "- - -"
      ]
    },
    {
      "cell_type": "code",
      "execution_count": null,
      "metadata": {
        "colab": {
          "base_uri": "https://localhost:8080/"
        },
        "id": "lgghJB0xs0B3",
        "outputId": "fbb3bd53-58a8-4361-9ef6-40f7892ed671"
      },
      "outputs": [],
      "source": [
        "# {\"5_3\"}\n",
        "#Lassen Sie sich den Node Degree von \"Mr Hi\" und \"John A\" ausgeben\n",
        "# Mr Hi ist Knoten 1 und John A ist Knoten 34\n",
        "graph_karate.degree(vertices=[0, 33], mode='all')"
      ]
    },
    {
      "cell_type": "markdown",
      "metadata": {
        "id": "WekuV-sts0B3"
      },
      "source": [
        "### Aufgabe 5.4"
      ]
    },
    {
      "cell_type": "markdown",
      "metadata": {
        "id": "NM5LXIWcs0B3"
      },
      "source": [
        "Bezogen auf das gesamte Netzwerk lässt sich der sogenannte **Average Degree** berechnen - der Durchschnitt der Node Degrees aller Knoten. Im Falle eines gerichteten Graphen ist auch hier zu unterscheiden zwischen dem **Average In-Degree** und dem **Average Out-Degree**. \n",
        "- - -\n",
        "*Aufgabe:* Berechnen Sie für den Graphen *kite* und den Graphen *karate* jeweils den *Average Degree*. Beachten Sie, dass es hierfür keine separate Funktion gibt, sodass Sie tatsächlich den Mittelwert (*mean(x)*) der Node Degrees aller Knoten berechnen müssen. Folgen Sie den Angaben in den Kommentaren des nächsten Code-Chunks.\n",
        "- - -"
      ]
    },
    {
      "cell_type": "code",
      "execution_count": null,
      "metadata": {
        "colab": {
          "base_uri": "https://localhost:8080/"
        },
        "id": "yKJag8X3s0B4",
        "outputId": "87caed4d-97bb-49a0-cf62-14ae41f0bb26"
      },
      "outputs": [],
      "source": [
        "# {\"5_4\"}\n",
        "#Berechnen Sie die Node Degrees aller Knoten des Graphen kite\n",
        "#und speichern Sie den Vektor in der Variable deg_kite\n",
        "deg_kite = graph_kite.degree()\n",
        "#Berechnen Sie nun den Average Degree des Graphen kite\n",
        "print(mean(deg_kite))"
      ]
    },
    {
      "cell_type": "markdown",
      "metadata": {
        "id": "BOTQRVFLs0B4"
      },
      "source": [
        "### Aufgabe 5.5"
      ]
    },
    {
      "cell_type": "markdown",
      "metadata": {
        "id": "g5nwmQHos0B4"
      },
      "source": [
        "Im Durchschnitt ist somit jeder Knoten des Graphen *kite* mit 3.6 Knoten **(Aktuell noch abweichend, da höhere Kantenzahl)** verbunden. Der folgende Code-Chunk berechnet dieselbe Kennzahl für das Netzwerk *karate*. Führen Sie den Code aus.\n",
        "\n",
        "Wie Sie sehen werden, weichen die Graphen in dieser Kennzahl voneinander ab. Ist das alleine schon aussagekräftig?"
      ]
    },
    {
      "cell_type": "code",
      "execution_count": null,
      "metadata": {
        "colab": {
          "base_uri": "https://localhost:8080/"
        },
        "id": "62cZHLbOs0B4",
        "outputId": "2a4eab95-5ba7-4fef-b50f-f51df56bd386"
      },
      "outputs": [],
      "source": [
        "# {\"5_5\"}\n",
        "#Berechnen Sie den Average Degree des Graphen karate\n",
        "deg_karate = graph_karate.degree(mode='all')\n",
        "print(mean(deg_karate))"
      ]
    },
    {
      "cell_type": "markdown",
      "metadata": {
        "id": "47x5wu4Gs0B4"
      },
      "source": [
        "### Aufgabe 5.6"
      ]
    },
    {
      "cell_type": "markdown",
      "metadata": {
        "id": "eXuqhmH2rdOt"
      },
      "source": [
        "Zur besseren Einschätzung und zum Vergleich der Graphen kann es nützlich sein, sich eine Gegenüberstellung der Kanten- und Knotenzahlen anzeigen zu lassen. "
      ]
    },
    {
      "cell_type": "markdown",
      "metadata": {
        "id": "UWFpl4kKs0B4"
      },
      "source": [
        "- - -\n",
        "*Aufgabe:* Lassen Sie sich dazu mit Hilfe der Befehle *graph.vcount()* und *graph.ecount()* die Anzahl der Knoten bzw. Kanten der beiden Graphen ausgeben.\n",
        "- - -"
      ]
    },
    {
      "cell_type": "code",
      "execution_count": null,
      "metadata": {
        "colab": {
          "base_uri": "https://localhost:8080/",
          "height": 112
        },
        "id": "hvfhCaOes0B4",
        "outputId": "b900fade-d7c7-494c-95c4-b81d6f296dc6"
      },
      "outputs": [],
      "source": [
        "# {\"5_6\"}\n",
        "#Bezüglich Graph kite:\n",
        "#Speichern Sie die Anzahl Knoten in der Variable v_kite\n",
        "v_kite = graph_kite.vcount()\n",
        "#Speichern Sie die Anzahl Kanten in der Variable e_kite\n",
        "e_kite = graph_kite.ecount()\n",
        "#Bezüglich Graph karate:\n",
        "#Speichern Sie die Anzahl Knoten in der Variable v_karate\n",
        "v_karate = graph_karate.vcount()\n",
        "#Speichern Sie die Anzahl Kanten in der Variable e_karate\n",
        "e_karate = graph_karate.ecount()\n",
        "#Übersichtliche Ausgabe der Zahlen\n",
        "df_karate_kite = pd.DataFrame([[v_karate, e_karate], [v_kite, e_kite]], columns=['Knoten', 'Kanten'], index=['Karate', 'Kite'])\n",
        "df_karate_kite"
      ]
    },
    {
      "cell_type": "markdown",
      "metadata": {
        "id": "HXI-HA1cs0B5"
      },
      "source": [
        "### Aufgabe 5.7"
      ]
    },
    {
      "cell_type": "markdown",
      "metadata": {
        "id": "KS62v1kIs0B5"
      },
      "source": [
        "Da der Graph *karate* sowohl in der Anzahl der Knoten, als auch in der Anzahl der Kanten größer ist als der Graph *kite*, besteht dennoch die Möglichkeit, dass die Graphen sich ähneln - obwohl der Average Degree unterschiedlich ausfällt. Untersuchen wir daher ein weiteres Merkmal - die **Degree Distribution**. Der Befehl *plt.hist(x, bins)* aus dem Package Matplotlib gibt ein Histogramm der Node Degrees aus. Das *x* steht hierbei für die zuvor berechneten Node Degrees. Die Node Degrees haben Sie bereits in Aufgabe 5.4 berechnet.\n",
        "- - -\n",
        "*Aufgabe:* Wenden Sie diesen Befehl im folgenden Code-Chunk auf die Node Degrees der einzelnen Knoten an, um dadurch die Degree Distribution zu erhalten.\n",
        "- - -"
      ]
    },
    {
      "cell_type": "code",
      "execution_count": null,
      "metadata": {
        "colab": {
          "base_uri": "https://localhost:8080/",
          "height": 321
        },
        "id": "Z8wRrXU9s0B5",
        "outputId": "b42d8803-fa98-4323-c62c-0c892ebe2562"
      },
      "outputs": [],
      "source": [
        "# {\"5_7\"}\n",
        "#Lassen Sie sich die Degree Distribution des Graphen kite anzeigen\n",
        "#Verwenden Sie dazu die oben definierte Variable deg_kite\n",
        "plt.hist(deg_kite, bins=np.arange(0, max(deg_kite)))"
      ]
    },
    {
      "cell_type": "code",
      "execution_count": null,
      "metadata": {
        "colab": {
          "base_uri": "https://localhost:8080/",
          "height": 377
        },
        "id": "jArTEPBss0B5",
        "outputId": "1f3680be-e998-4595-ebe1-853f6fc7af49"
      },
      "outputs": [],
      "source": [
        "#Lassen Sie sich zum Vergleich die Degree Distribution\n",
        "#des Graphen karate anzeigen\n",
        "#Verwenden Sie dazu die oben definierte Variable deg_karate\n",
        "plt.hist(deg_karate, bins=np.arange(0, max(deg_karate)))"
      ]
    },
    {
      "cell_type": "markdown",
      "metadata": {
        "id": "pIrbxpLrs0B5"
      },
      "source": [
        "Sie können erkennen, dass die beiden Graphen sich auch hinsichtlich der Degree Distribution $P(k)$ unterscheiden. Während die Node Degrees im Graph *kite* zwischen Node Degree=1 und Node Degree=6 eher gleichverteilt sind, ist die Degree Distribution des Graphen *karate* eher rechtsschief.\n",
        "\n",
        "Die Berechnungen - Average In-Degree, Average Out-Degree und die Degree Distribution - für gerichtete Graphen erfolgen analog, mit dem Unterschied, dass bei der Funktion *degree* das Argument *mode=\"in\"* bzw. *mode=\"out\"* verwendet wird. Da dies keinen grundlegenden Lernfortschritt mit sich bringt, verzichten wir an dieser Stelle auf eine beispielhafte Berechnung für gerichtete Graphen.\n",
        "\n",
        "### b) Gradbasierte Maße - Clustering Coefficient\n",
        "Neben dem Node Degree haben Sie noch ein weiteres gradbasiertes Maß im Skript kennengelernt: den **Clustering Coefficient** für ungerichtete Graphen.\n",
        "\n",
        "Im Package *'igraph'* gibt es den Befehl *transitivity*, welcher sowohl Local, als auch Average Clustering Coefficients für ungerichtete Graphen berechnen kann. Grundsätzlich sollte bei Clustering Coefficients stets darauf geachtet werden, wie sie berechnet werden. Um konsistent mit der Definition im Skript zu bleiben, werden wir daher lediglich den Local Clustering Coefficient $C_i$ mit dieser Formel berechnen:\n",
        "$$C_i=\\frac{2|L_i|}{k_i(k_i-1)}$$\n",
        "Dabei steht $|L_i|$ für die Anzahl an Verbindungen zwischen den Nachbarknoten von Knoten i und $k_i$ für den Node Degree von Knoten i.  \n",
        "Den globalen Clustering Coefficient, bei uns **Average Clustering Coefficient** $\\langle C \\rangle$ genannt, erhält man anschließend durch Mittelung der Local Clustering Coefficients:\n",
        "$$\\langle C \\rangle = \\frac{1}{|N|}\\sum_{i=1}^{|N|}C_i$$\n",
        "Hierbei steht $|N|$ wie gewohnt für die Anzahl aller Knoten im Graphen.\n",
        "\n",
        "Im folgenden Code wird die Funktion *graph.transitivity_local_undirected(vertices, mode, weights)* verwendet, welche für bestimmte Knoten des Graphen *Karate* die Local Clustering Coefficients bestimmt (Kolaczyk und Csárdi, 2014, Kapitel 4.3.2) **(Quelle hier auch noch relevant?)**.\n",
        "\n",
        "- - -\n",
        "*Aufgabe:* Berechnen Sie nun analog dazu zunächst alle Local Clustering Coefficients für den Graphen *kite* und im Anschluss daran den Average Clustering Coefficient für diesen Graphen. Den Parameter *weights* benötigen Sie dazu nicht, da der Graph *kite* kein Kantenattribut namens *weight* besitzt. Wenn Sie den Parameter *vertices* nicht verwenden, so werden automatisch alle Knoten berücksichtigt. Auch über den Parameter *mode* müssen Sie sich keine Gedanken machen. Bei dieser Aufgabe reicht es aus, wenn Sie die Funktion ohne Parameter aufrufen.\n",
        "- - -"
      ]
    },
    {
      "cell_type": "code",
      "execution_count": null,
      "metadata": {
        "colab": {
          "base_uri": "https://localhost:8080/"
        },
        "id": "i6GPkt_Fs0B5",
        "outputId": "1e80a8aa-ee85-4954-f217-4d35559923b8"
      },
      "outputs": [],
      "source": [
        "# {\"5_9\"}\n",
        "#Berechnen Sie C_i für alle Knoten in kite\n",
        "#und speichern Sie diese in C_local_kite\n",
        "C_local_kite = graph_kite.transitivity_local_undirected()\n",
        "#Berechnen Sie den Average Clustering Coefficient, \n",
        "#indem Sie die Variable C_local_kite verwenden\n",
        "print(mean(C_local_kite))"
      ]
    },
    {
      "cell_type": "markdown",
      "metadata": {
        "id": "EE8ExPKns0B6"
      },
      "source": [
        "Der Graph *kite* besitzt zwar keine isolierten Knoten, dafür aber einen Knoten mit nur einem Nachbar. Für den Fall, dass ein Knoten im betrachteten Graphen den Grad 0 (isolierter Knoten) oder 1 (ein Nachbarknoten) besitzt, ist die Formel für $C_i$ aus dem Skript für diesen Knoten nicht definiert. Auch mit dem oben verwendeten Befehl erhält man für einen solchen Knoten keinen Wert (*NaN*). Enstprechend ergibt sich für den Fall, dass der Graph mindestens einen solchen Knoten besitzt, auch kein Wert (*NaN*) für den Average Clustering Coefficient. Grundsätzlich erachten wir in solch einem Fall die Berechnung des Average Clustering Coefficients als nicht sinnvoll.\n",
        "\n",
        "### c) Pfadbasierte Maße\n",
        "Sie haben in *Aufgabe 4* bereits verschiedene Befehle zur Bestimmung der Entfernung und des kürzesten Pfades zwischen Knoten  kennengelernt. Nun sollen diese beiden Maße durch den **Network Diameter** $d_{max}$ und die **Average Path Length** $\\langle d \\rangle$ erweitert werden. Auch diese beiden Kennzahlen betrachten wir im Folgenden lediglich für ungerichtete Graphen.\n",
        "- - -\n",
        "*Aufgabe:* Betrachten Sie den Graphen *karate* und bestimmen Sie den Network Diameter des Graphen analog zu seiner Definition\n",
        "$$d_{max}=max_{n_i,n_j \\in N}\\{d(n_i,n_j)\\}$$\n",
        "Folgen Sie dazu den Anweisungen in den Kommentaren des folgenden Code-Chunks. Falls Sie sich an manche Befehle nicht mehr erinnern können, empfiehlt es sich, in *Aufgabe 4* nachzuschlagen.\n",
        "- - -"
      ]
    },
    {
      "cell_type": "markdown",
      "metadata": {
        "id": "1zlqKOqss0B6"
      },
      "source": [
        "**Hinweis:** Die Funktion *graph.shortest_paths(weights)* liefert die kürzesten Entfernungen zwischen allen Knoten. "
      ]
    },
    {
      "cell_type": "code",
      "execution_count": null,
      "metadata": {
        "colab": {
          "base_uri": "https://localhost:8080/"
        },
        "id": "n9UwJSYPs0B6",
        "outputId": "b274928e-8cb2-41c7-e234-5738204c28da"
      },
      "outputs": [],
      "source": [
        "# {\"5_10\"}\n",
        "#Bestimmen Sie die Entfernungen zwischen allen Knoten\n",
        "#des Graphen karate und speichern Sie diese in der Variable dist_karate\n",
        "#Setzen Sie das Argument weigths=None\n",
        "dist_karate = graph_karate.shortest_paths(weights=None)\n",
        "#Führen Sie den folgenden Code aus, um das Maximum von dist_karate berechnen\n",
        "#und in der Variable dmax_karate zu speichern\n",
        "dmax_karate = max(np.array(dist_karate).reshape(-1))\n",
        "#Lassen Sie dmax_karate ausgeben\n",
        "#print(dmax_karate)\n",
        "print(dmax_karate)"
      ]
    },
    {
      "cell_type": "markdown",
      "metadata": {
        "id": "luGgwoYPs0B6"
      },
      "source": [
        "Alternativ zu dieser manuellen Berechnung bietet das Package *'igraph'* den Befehl *graph.diameter(directed)*, welcher direkt den Network Diameter berechnet.\n",
        "- - -\n",
        "*Aufgabe:* Testen Sie im folgenden Code-Chunk, ob der Befehl (mit *directed=False*) für den Graphen *karate* zu demselben Ergebnis führt wie die manuelle Berechnung.\n",
        "- - -"
      ]
    },
    {
      "cell_type": "code",
      "execution_count": null,
      "metadata": {
        "colab": {
          "base_uri": "https://localhost:8080/"
        },
        "id": "7zVcQSPbs0B6",
        "outputId": "a7890bbd-ed1a-43cc-e891-3b4259be7fde"
      },
      "outputs": [],
      "source": [
        "# {\"5_11\"}\n",
        "#Bestimmen Sie den Network Diameter von karate mit dem Befehl diameter\n",
        "graph_karate.diameter(directed=False)"
      ]
    },
    {
      "cell_type": "markdown",
      "metadata": {
        "id": "RifYXlk6s0B6"
      },
      "source": [
        "Abschließend soll die durchschnittliche Entfernung der Knoten zueinander (**Average Path Length** $\\langle d \\rangle$) bestimmt werden. Auch hier ist der intuitive Ansatz die manuelle Berechnung. Die Formel zur Berechnung lautet wie folgt:\n",
        "$$\\langle d \\rangle = \\frac{1}{|N|}\\frac{1}{|N|-1}\\sum_{i=1}^{|N|}\\sum_{j=1,~j\\neq i}^{|N|} d(n_i, n_j)$$\n",
        "Anschaulich beschreibt die Doppelsumme die Addition aller Elemente der Entfernungsmatrix ohne die Diagonalelemente. \n",
        "- - -\n",
        "*Aufgabe:* Verwenden Sie diesen Ansatz und die Variable *dist_karate* (Entfernungen aller Knoten des Graphen *karate* zueinander), sowie die Variable *v_karate* (Anzahl Knoten im Graph *karate*), um für den Graphen *karate* die Average Path Length zu bestimmen.\n",
        "- - -\n",
        "*Hinweis: Die Diagonalelemente einer Matrix erhält man mit dem Befehl np.diagonal(matrix).*\n"
      ]
    },
    {
      "cell_type": "code",
      "execution_count": null,
      "metadata": {
        "colab": {
          "base_uri": "https://localhost:8080/"
        },
        "id": "fCJWlOIAs0B7",
        "outputId": "0e5ce554-b8e7-46e8-df0e-07151420055b"
      },
      "outputs": [],
      "source": [
        "# {\"5_12\"}\n",
        "#Bestimmen Sie die Average Path Length des Graphen karate\n",
        "#und speichern Sie diese in der Variable dmean_karate\n",
        "dmean_karate = (1/v_karate)*(1/(v_karate-1))*(sum(np.array(dist_karate).reshape(-1))-sum(np.diagonal(dist_karate)))\n",
        "#Geben Sie die Variable dmean_karate aus\n",
        "print(dmean_karate)"
      ]
    },
    {
      "cell_type": "markdown",
      "metadata": {
        "id": "cjhQh4A3s0B7"
      },
      "source": [
        "- - -\n",
        "*Aufgabe:* Kontrollieren Sie Ihr Ergebnis, indem Sie den Befehl *graph.average_path_length()* auf den Graphen *karate* anwenden. Hier wird mittels eines Breadth-First-Algorithmus direkt die Average Path Length bestimmt.\n",
        "- - -"
      ]
    },
    {
      "cell_type": "code",
      "execution_count": null,
      "metadata": {
        "colab": {
          "base_uri": "https://localhost:8080/"
        },
        "id": "lua6COeGs0B7",
        "outputId": "b7f155ad-359a-49d6-bae7-35bee1e5332f"
      },
      "outputs": [],
      "source": [
        "# {\"5_13\"}\n",
        "#Bestimmen Sie die Average Path Length von karate direkt\n",
        "print(graph_karate.average_path_length())"
      ]
    }
  ],
  "metadata": {
    "colab": {
      "collapsed_sections": [],
      "name": "PS_Nr_2_Python.ipynb",
      "provenance": []
    },
    "interpreter": {
      "hash": "bed862baa169bd35b57b2a485b7961cf7d1bd32d9b549d4e10480d14566cc8ca"
    },
    "kernelspec": {
      "display_name": "Python 3.7.8 64-bit ('venv': venv)",
      "language": "python",
      "name": "python3"
    },
    "language_info": {
      "codemirror_mode": {
        "name": "ipython",
        "version": 3
      },
      "file_extension": ".py",
      "mimetype": "text/x-python",
      "name": "python",
      "nbconvert_exporter": "python",
      "pygments_lexer": "ipython3",
      "version": "3.7.8"
    },
    "orig_nbformat": 4
  },
  "nbformat": 4,
  "nbformat_minor": 0
}
