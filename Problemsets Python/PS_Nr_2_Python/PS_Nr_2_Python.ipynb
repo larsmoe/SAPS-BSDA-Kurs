{
 "cells": [
  {
   "cell_type": "markdown",
   "metadata": {},
   "source": [
    "# Packages Laden"
   ]
  },
  {
   "cell_type": "code",
   "execution_count": 17,
   "metadata": {},
   "outputs": [],
   "source": [
    "# Wie bereits im ersten Problem Set werden zunächst die notwendigen Packages importiert\n",
    "from igraph import *\n",
    "import pandas as pd\n",
    "import numpy as np\n",
    "import matplotlib.pyplot as plt"
   ]
  },
  {
   "cell_type": "markdown",
   "metadata": {},
   "source": [
    "Willkommen zum zweiten Python Problem Set in diesem Modul!  \n",
    "Sie finden hier eine Aufgabe (*Exercise 5*) zu den Inhalten aus Kapitel 3 *Social Network Analysis* - konkret zu dem Teil 3.1.4."
   ]
  },
  {
   "cell_type": "markdown",
   "metadata": {},
   "source": [
    "# Aufgabe 5"
   ]
  },
  {
   "cell_type": "markdown",
   "metadata": {},
   "source": [
    "In den folgenden beiden Aufgaben werden wir uns zwei Netzwerke genauer anschauen und sie auf verschiedene Eigenschaften untersuchen. Dabei liegt der Fokus der aktuellen Aufgabe auf den **grundlegenden Maßen**, die die Knoten und Kanten eines Netzwerks charakterisieren. In *Problem Set Nr.3* werden wir uns insbesondere den Zentralitätsmaßen in Netzwerken widmen.\n",
    "Die zwei Netzwerke heißen *Karate* und *Kite*. Karate ist ein Netzwerk eines Karate Clubs, welches aus einer wissenschaftlichen Arbeit von Wayne W. Zachary stammt. Das Kite Netzwerk hingegen bildet optisch die Form eines Drachen (Fluggerät) ab und wurde von David Krackhardt erstellt.  \n",
    "\n",
    "*Die folgende Aufgabe erfolgt in Anlehnung an Kolaczyk und Csárdi, Kapitel 4.2.1.* **(Noch relevant?)**\n",
    "\n",
    "Laden Sie im folgenden Code-Chunk die zwei Netzwerke, die wir im Folgenden betrachten werden, indem Sie den Code ausführen."
   ]
  },
  {
   "cell_type": "markdown",
   "metadata": {},
   "source": [
    "### Aufgabe 5.1"
   ]
  },
  {
   "cell_type": "code",
   "execution_count": 3,
   "metadata": {},
   "outputs": [],
   "source": [
    "# {\"5_1\"}\n",
    "# Import des Karate Netzwerks\n",
    "karate = pd.read_csv(\"data/Karate/KARATE.csv\", sep=\";\", header=None, names=['A','B'])\n",
    "kite = pd.read_csv(\"data/Kite/Kite.csv\", sep=\";\", header=None, names=['A','B'])\n",
    "\n",
    "karate = karate.subtract(1)\n",
    "kite = kite.subtract(1)"
   ]
  },
  {
   "cell_type": "code",
   "execution_count": 4,
   "metadata": {},
   "outputs": [],
   "source": [
    "# Diese Funktion erstellt aus den importierten Netzwerkdaten Kantenlisten, die mit igraph kompatibel sind\n",
    "def create_edge_list(node_list1, node_list2):\n",
    "    edge_list = []\n",
    "    for node_1, node_2 in zip(node_list1, node_list2):\n",
    "        edge = (node_1, node_2)\n",
    "        edge_list.append(edge)\n",
    "    return edge_list"
   ]
  },
  {
   "cell_type": "code",
   "execution_count": 5,
   "metadata": {},
   "outputs": [],
   "source": [
    "# Die zuvor deklarierte Funktion wird nun verwendet\n",
    "karate_edges = create_edge_list(karate['A'].to_list(), karate['B'].to_list())\n",
    "kite_edges = create_edge_list(kite['A'].to_list(), kite['B'].to_list())"
   ]
  },
  {
   "cell_type": "code",
   "execution_count": 6,
   "metadata": {},
   "outputs": [],
   "source": [
    "# Erzeugung des Karate Graphs\n",
    "graph_karate = Graph(n=34, edges=karate_edges, directed=True)\n",
    "\n",
    "# Erzeugung des Kite Graphs\n",
    "graph_kite = Graph(n=10, edges=kite_edges, directed=False)"
   ]
  },
  {
   "cell_type": "markdown",
   "metadata": {},
   "source": [
    "### Aufgabe 5.2"
   ]
  },
  {
   "cell_type": "code",
   "execution_count": 7,
   "metadata": {},
   "outputs": [
    {
     "data": {
      "image/svg+xml": "<?xml version=\"1.0\" encoding=\"UTF-8\"?>\n<svg xmlns=\"http://www.w3.org/2000/svg\" xmlns:xlink=\"http://www.w3.org/1999/xlink\" width=\"600pt\" height=\"600pt\" viewBox=\"0 0 600 600\" version=\"1.1\">\n<g id=\"surface2\">\n<rect x=\"0\" y=\"0\" width=\"600\" height=\"600\" style=\"fill:rgb(100%,100%,100%);fill-opacity:1;stroke:none;\"/>\n<path style=\"fill:none;stroke-width:1;stroke-linecap:butt;stroke-linejoin:miter;stroke:rgb(26.666667%,26.666667%,26.666667%);stroke-opacity:1;stroke-miterlimit:10;\" d=\"M 402.714844 353.675781 C 389.695313 335.449219 370.398438 326.28125 351.472656 337.433594 \"/>\n<path style=\" stroke:none;fill-rule:nonzero;fill:rgb(26.666667%,26.666667%,26.666667%);fill-opacity:1;\" d=\"M 339.183594 344.675781 L 349.121094 333.441406 L 353.828125 341.425781 L 339.183594 344.675781 \"/>\n<path style=\"fill:none;stroke-width:1;stroke-linecap:butt;stroke-linejoin:miter;stroke:rgb(26.666667%,26.666667%,26.666667%);stroke-opacity:1;stroke-miterlimit:10;\" d=\"M 402.714844 353.675781 C 415.015625 315.222656 406.46875 280.835938 370.957031 262.132813 \"/>\n<path style=\" stroke:none;fill-rule:nonzero;fill:rgb(26.666667%,26.666667%,26.666667%);fill-opacity:1;\" d=\"M 358.335938 255.484375 L 373.117188 258.03125 L 368.796875 266.234375 L 358.335938 255.484375 \"/>\n<path style=\"fill:none;stroke-width:1;stroke-linecap:butt;stroke-linejoin:miter;stroke:rgb(26.666667%,26.666667%,26.666667%);stroke-opacity:1;stroke-miterlimit:10;\" d=\"M 402.714844 353.675781 C 421.425781 353.914063 437.839844 345.355469 438.980469 327.1875 \"/>\n<path style=\" stroke:none;fill-rule:nonzero;fill:rgb(26.666667%,26.666667%,26.666667%);fill-opacity:1;\" d=\"M 439.875 312.949219 L 443.609375 327.480469 L 434.355469 326.898438 L 439.875 312.949219 \"/>\n<path style=\"fill:none;stroke-width:1;stroke-linecap:butt;stroke-linejoin:miter;stroke:rgb(26.666667%,26.666667%,26.666667%);stroke-opacity:1;stroke-miterlimit:10;\" d=\"M 402.714844 353.675781 C 407.9375 398.152344 432.324219 428.484375 476.785156 431.550781 \"/>\n<path style=\" stroke:none;fill-rule:nonzero;fill:rgb(26.666667%,26.666667%,26.666667%);fill-opacity:1;\" d=\"M 491.019531 432.53125 L 476.46875 436.175781 L 477.105469 426.925781 L 491.019531 432.53125 \"/>\n<path style=\"fill:none;stroke-width:1;stroke-linecap:butt;stroke-linejoin:miter;stroke:rgb(26.666667%,26.666667%,26.666667%);stroke-opacity:1;stroke-miterlimit:10;\" d=\"M 402.714844 353.675781 C 393.839844 401.476563 409.488281 440.414063 454.511719 458.234375 \"/>\n<path style=\" stroke:none;fill-rule:nonzero;fill:rgb(26.666667%,26.666667%,26.666667%);fill-opacity:1;\" d=\"M 467.777344 463.484375 L 452.804688 462.542969 L 456.21875 453.925781 L 467.777344 463.484375 \"/>\n<path style=\"fill:none;stroke-width:1;stroke-linecap:butt;stroke-linejoin:miter;stroke:rgb(26.666667%,26.666667%,26.666667%);stroke-opacity:1;stroke-miterlimit:10;\" d=\"M 402.714844 353.675781 C 371.734375 388.976563 365.386719 429.128906 394.070313 466.0625 \"/>\n<path style=\" stroke:none;fill-rule:nonzero;fill:rgb(26.666667%,26.666667%,26.666667%);fill-opacity:1;\" d=\"M 402.820313 477.328125 L 390.410156 468.90625 L 397.730469 463.21875 L 402.820313 477.328125 \"/>\n<path style=\"fill:none;stroke-width:1;stroke-linecap:butt;stroke-linejoin:miter;stroke:rgb(26.666667%,26.666667%,26.666667%);stroke-opacity:1;stroke-miterlimit:10;\" d=\"M 402.714844 353.675781 C 369.214844 332.984375 334.574219 332.917969 308.605469 362.1875 \"/>\n<path style=\" stroke:none;fill-rule:nonzero;fill:rgb(26.666667%,26.666667%,26.666667%);fill-opacity:1;\" d=\"M 299.136719 372.859375 L 305.136719 359.109375 L 312.074219 365.261719 L 299.136719 372.859375 \"/>\n<path style=\"fill:none;stroke-width:1;stroke-linecap:butt;stroke-linejoin:miter;stroke:rgb(26.666667%,26.666667%,26.666667%);stroke-opacity:1;stroke-miterlimit:10;\" d=\"M 402.714844 353.675781 C 381.921875 296.273438 340.464844 265.152344 280.136719 273.40625 \"/>\n<path style=\" stroke:none;fill-rule:nonzero;fill:rgb(26.666667%,26.666667%,26.666667%);fill-opacity:1;\" d=\"M 266 275.34375 L 279.507813 268.816406 L 280.761719 278 L 266 275.34375 \"/>\n<path style=\"fill:none;stroke-width:1;stroke-linecap:butt;stroke-linejoin:miter;stroke:rgb(26.666667%,26.666667%,26.666667%);stroke-opacity:1;stroke-miterlimit:10;\" d=\"M 402.714844 353.675781 C 366.664063 373.203125 348.808594 404.378906 361.617188 443.078125 \"/>\n<path style=\" stroke:none;fill-rule:nonzero;fill:rgb(26.666667%,26.666667%,26.666667%);fill-opacity:1;\" d=\"M 366.097656 456.621094 L 357.214844 444.535156 L 366.015625 441.621094 L 366.097656 456.621094 \"/>\n<path style=\"fill:none;stroke-width:1;stroke-linecap:butt;stroke-linejoin:miter;stroke:rgb(26.666667%,26.666667%,26.666667%);stroke-opacity:1;stroke-miterlimit:10;\" d=\"M 402.714844 353.675781 C 463.640625 384.808594 520.976563 378.304688 564.527344 325.71875 \"/>\n<path style=\" stroke:none;fill-rule:nonzero;fill:rgb(26.666667%,26.666667%,26.666667%);fill-opacity:1;\" d=\"M 573.625 314.730469 L 568.09375 328.671875 L 560.957031 322.761719 L 573.625 314.730469 \"/>\n<path style=\"fill:none;stroke-width:1;stroke-linecap:butt;stroke-linejoin:miter;stroke:rgb(26.666667%,26.666667%,26.666667%);stroke-opacity:1;stroke-miterlimit:10;\" d=\"M 402.714844 353.675781 C 448.382813 393.117188 499.203125 399.953125 547.195313 363.644531 \"/>\n<path style=\" stroke:none;fill-rule:nonzero;fill:rgb(26.666667%,26.666667%,26.666667%);fill-opacity:1;\" d=\"M 558.574219 355.035156 L 549.992188 367.339844 L 544.398438 359.945313 L 558.574219 355.035156 \"/>\n<path style=\"fill:none;stroke-width:1;stroke-linecap:butt;stroke-linejoin:miter;stroke:rgb(26.666667%,26.666667%,26.666667%);stroke-opacity:1;stroke-miterlimit:10;\" d=\"M 402.714844 353.675781 C 398.394531 313.933594 376.84375 286.207031 337.195313 283.59375 \"/>\n<path style=\" stroke:none;fill-rule:nonzero;fill:rgb(26.666667%,26.666667%,26.666667%);fill-opacity:1;\" d=\"M 322.960938 282.65625 L 337.5 278.96875 L 336.890625 288.21875 L 322.960938 282.65625 \"/>\n<path style=\"fill:none;stroke-width:1;stroke-linecap:butt;stroke-linejoin:miter;stroke:rgb(26.666667%,26.666667%,26.666667%);stroke-opacity:1;stroke-miterlimit:10;\" d=\"M 402.714844 353.675781 C 342.816406 347.742188 297.4375 371.355469 279.167969 428.535156 \"/>\n<path style=\" stroke:none;fill-rule:nonzero;fill:rgb(26.666667%,26.666667%,26.666667%);fill-opacity:1;\" d=\"M 274.828125 442.125 L 274.753906 427.125 L 283.585938 429.949219 L 274.828125 442.125 \"/>\n<path style=\"fill:none;stroke-width:1;stroke-linecap:butt;stroke-linejoin:miter;stroke:rgb(26.666667%,26.666667%,26.666667%);stroke-opacity:1;stroke-miterlimit:10;\" d=\"M 402.714844 353.675781 C 366.867188 301.90625 317.390625 281.90625 259.34375 305.902344 \"/>\n<path style=\" stroke:none;fill-rule:nonzero;fill:rgb(26.666667%,26.666667%,26.666667%);fill-opacity:1;\" d=\"M 246.160156 311.351563 L 257.574219 301.617188 L 261.113281 310.183594 L 246.160156 311.351563 \"/>\n<path style=\"fill:none;stroke-width:1;stroke-linecap:butt;stroke-linejoin:miter;stroke:rgb(26.666667%,26.666667%,26.666667%);stroke-opacity:1;stroke-miterlimit:10;\" d=\"M 402.714844 353.675781 C 421.011719 383.722656 448.792969 398.207031 481.113281 385.015625 \"/>\n<path style=\" stroke:none;fill-rule:nonzero;fill:rgb(26.666667%,26.666667%,26.666667%);fill-opacity:1;\" d=\"M 494.320313 379.625 L 482.863281 389.308594 L 479.363281 380.722656 L 494.320313 379.625 \"/>\n<path style=\"fill:none;stroke-width:1;stroke-linecap:butt;stroke-linejoin:miter;stroke:rgb(26.666667%,26.666667%,26.666667%);stroke-opacity:1;stroke-miterlimit:10;\" d=\"M 402.714844 353.675781 C 434.335938 313.4375 438.601563 269.652344 405.484375 230.882813 \"/>\n<path style=\" stroke:none;fill-rule:nonzero;fill:rgb(26.666667%,26.666667%,26.666667%);fill-opacity:1;\" d=\"M 396.21875 220.039063 L 409.007813 227.875 L 401.960938 233.894531 L 396.21875 220.039063 \"/>\n<path style=\"fill:none;stroke-width:1;stroke-linecap:butt;stroke-linejoin:miter;stroke:rgb(26.666667%,26.666667%,26.666667%);stroke-opacity:1;stroke-miterlimit:10;\" d=\"M 330.152344 350 C 343.171875 368.222656 362.46875 377.394531 381.394531 366.238281 \"/>\n<path style=\" stroke:none;fill-rule:nonzero;fill:rgb(26.666667%,26.666667%,26.666667%);fill-opacity:1;\" d=\"M 393.683594 358.996094 L 383.746094 370.234375 L 379.039063 362.246094 L 393.683594 358.996094 \"/>\n<path style=\"fill:none;stroke-width:1;stroke-linecap:butt;stroke-linejoin:miter;stroke:rgb(26.666667%,26.666667%,26.666667%);stroke-opacity:1;stroke-miterlimit:10;\" d=\"M 330.152344 350 C 359.082031 331.59375 372.765625 304.191406 359.199219 273.003906 \"/>\n<path style=\" stroke:none;fill-rule:nonzero;fill:rgb(26.666667%,26.666667%,26.666667%);fill-opacity:1;\" d=\"M 353.507813 259.921875 L 363.449219 271.152344 L 354.949219 274.851563 L 353.507813 259.921875 \"/>\n<path style=\"fill:none;stroke-width:1;stroke-linecap:butt;stroke-linejoin:miter;stroke:rgb(26.666667%,26.666667%,26.666667%);stroke-opacity:1;stroke-miterlimit:10;\" d=\"M 330.152344 350 C 369.421875 365.445313 405.695313 358.789063 427.796875 323.105469 \"/>\n<path style=\" stroke:none;fill-rule:nonzero;fill:rgb(26.666667%,26.666667%,26.666667%);fill-opacity:1;\" d=\"M 435.308594 310.980469 L 431.738281 325.546875 L 423.855469 320.667969 L 435.308594 310.980469 \"/>\n<path style=\"fill:none;stroke-width:1;stroke-linecap:butt;stroke-linejoin:miter;stroke:rgb(26.666667%,26.666667%,26.666667%);stroke-opacity:1;stroke-miterlimit:10;\" d=\"M 330.152344 350 C 318.578125 345.046875 304.773438 345.996094 300.800781 357.152344 \"/>\n<path style=\" stroke:none;fill-rule:nonzero;fill:rgb(26.666667%,26.666667%,26.666667%);fill-opacity:1;\" d=\"M 296.011719 370.589844 L 296.433594 355.597656 L 305.164063 358.707031 L 296.011719 370.589844 \"/>\n<path style=\"fill:none;stroke-width:1;stroke-linecap:butt;stroke-linejoin:miter;stroke:rgb(26.666667%,26.666667%,26.666667%);stroke-opacity:1;stroke-miterlimit:10;\" d=\"M 330.152344 350 C 343.339844 333.199219 346.664063 312.914063 331.277344 298.753906 \"/>\n<path style=\" stroke:none;fill-rule:nonzero;fill:rgb(26.666667%,26.666667%,26.666667%);fill-opacity:1;\" d=\"M 320.78125 289.09375 L 334.417969 295.34375 L 328.136719 302.164063 L 320.78125 289.09375 \"/>\n<path style=\"fill:none;stroke-width:1;stroke-linecap:butt;stroke-linejoin:miter;stroke:rgb(26.666667%,26.666667%,26.666667%);stroke-opacity:1;stroke-miterlimit:10;\" d=\"M 330.152344 350 C 290.601563 360.726563 266.078125 386.964844 269.664063 427.550781 \"/>\n<path style=\" stroke:none;fill-rule:nonzero;fill:rgb(26.666667%,26.666667%,26.666667%);fill-opacity:1;\" d=\"M 270.917969 441.761719 L 265.046875 427.957031 L 274.28125 427.140625 L 270.917969 441.761719 \"/>\n<path style=\"fill:none;stroke-width:1;stroke-linecap:butt;stroke-linejoin:miter;stroke:rgb(26.666667%,26.666667%,26.666667%);stroke-opacity:1;stroke-miterlimit:10;\" d=\"M 330.152344 350 C 317.054688 318.980469 292.726563 301.183594 260.339844 309.300781 \"/>\n<path style=\" stroke:none;fill-rule:nonzero;fill:rgb(26.666667%,26.666667%,26.666667%);fill-opacity:1;\" d=\"M 246.5 312.765625 L 259.210938 304.800781 L 261.464844 313.796875 L 246.5 312.765625 \"/>\n<path style=\"fill:none;stroke-width:1;stroke-linecap:butt;stroke-linejoin:miter;stroke:rgb(26.666667%,26.666667%,26.666667%);stroke-opacity:1;stroke-miterlimit:10;\" d=\"M 330.152344 350 C 371.492188 400.238281 424.070313 416.476563 481.867188 386.933594 \"/>\n<path style=\" stroke:none;fill-rule:nonzero;fill:rgb(26.666667%,26.666667%,26.666667%);fill-opacity:1;\" d=\"M 494.570313 380.4375 L 483.976563 391.058594 L 479.757813 382.804688 L 494.570313 380.4375 \"/>\n<path style=\"fill:none;stroke-width:1;stroke-linecap:butt;stroke-linejoin:miter;stroke:rgb(26.666667%,26.666667%,26.666667%);stroke-opacity:1;stroke-miterlimit:10;\" d=\"M 330.152344 350 C 302.296875 290.128906 254.777344 260.871094 190.457031 275.15625 \"/>\n<path style=\" stroke:none;fill-rule:nonzero;fill:rgb(26.666667%,26.666667%,26.666667%);fill-opacity:1;\" d=\"M 176.53125 278.25 L 189.453125 270.632813 L 191.460938 279.679688 L 176.53125 278.25 \"/>\n<path style=\"fill:none;stroke-width:1;stroke-linecap:butt;stroke-linejoin:miter;stroke:rgb(26.666667%,26.666667%,26.666667%);stroke-opacity:1;stroke-miterlimit:10;\" d=\"M 349.570313 250.871094 C 337.273438 289.324219 345.816406 323.707031 381.328125 342.410156 \"/>\n<path style=\" stroke:none;fill-rule:nonzero;fill:rgb(26.666667%,26.666667%,26.666667%);fill-opacity:1;\" d=\"M 393.949219 349.058594 L 379.167969 346.511719 L 383.488281 338.308594 L 393.949219 349.058594 \"/>\n<path style=\"fill:none;stroke-width:1;stroke-linecap:butt;stroke-linejoin:miter;stroke:rgb(26.666667%,26.666667%,26.666667%);stroke-opacity:1;stroke-miterlimit:10;\" d=\"M 349.570313 250.871094 C 320.640625 269.273438 306.957031 296.679688 320.523438 327.867188 \"/>\n<path style=\" stroke:none;fill-rule:nonzero;fill:rgb(26.666667%,26.666667%,26.666667%);fill-opacity:1;\" d=\"M 326.214844 340.949219 L 316.273438 329.714844 L 324.773438 326.015625 L 326.214844 340.949219 \"/>\n<path style=\"fill:none;stroke-width:1;stroke-linecap:butt;stroke-linejoin:miter;stroke:rgb(26.666667%,26.666667%,26.666667%);stroke-opacity:1;stroke-miterlimit:10;\" d=\"M 349.570313 250.871094 C 358.421875 285.535156 381.109375 307.820313 416.476563 304.683594 \"/>\n<path style=\" stroke:none;fill-rule:nonzero;fill:rgb(26.666667%,26.666667%,26.666667%);fill-opacity:1;\" d=\"M 430.6875 303.421875 L 416.886719 309.300781 L 416.070313 300.066406 L 430.6875 303.421875 \"/>\n<path style=\"fill:none;stroke-width:1;stroke-linecap:butt;stroke-linejoin:miter;stroke:rgb(26.666667%,26.666667%,26.666667%);stroke-opacity:1;stroke-miterlimit:10;\" d=\"M 349.570313 250.871094 C 302.546875 270.632813 277.632813 306.730469 287.746094 356.53125 \"/>\n<path style=\" stroke:none;fill-rule:nonzero;fill:rgb(26.666667%,26.666667%,26.666667%);fill-opacity:1;\" d=\"M 290.585938 370.511719 L 283.203125 357.453125 L 292.289063 355.609375 L 290.585938 370.511719 \"/>\n<path style=\"fill:none;stroke-width:1;stroke-linecap:butt;stroke-linejoin:miter;stroke:rgb(26.666667%,26.666667%,26.666667%);stroke-opacity:1;stroke-miterlimit:10;\" d=\"M 349.570313 250.871094 C 321.753906 233.839844 292.441406 233.488281 271.636719 258.230469 \"/>\n<path style=\" stroke:none;fill-rule:nonzero;fill:rgb(26.666667%,26.666667%,26.666667%);fill-opacity:1;\" d=\"M 262.457031 269.148438 L 268.089844 255.25 L 275.1875 261.214844 L 262.457031 269.148438 \"/>\n<path style=\"fill:none;stroke-width:1;stroke-linecap:butt;stroke-linejoin:miter;stroke:rgb(26.666667%,26.666667%,26.666667%);stroke-opacity:1;stroke-miterlimit:10;\" d=\"M 349.570313 250.871094 C 383.425781 240.351563 404.363281 216.757813 399.421875 181.925781 \"/>\n<path style=\" stroke:none;fill-rule:nonzero;fill:rgb(26.666667%,26.666667%,26.666667%);fill-opacity:1;\" d=\"M 397.417969 167.800781 L 404.011719 181.277344 L 394.832031 182.578125 L 397.417969 167.800781 \"/>\n<path style=\"fill:none;stroke-width:1;stroke-linecap:butt;stroke-linejoin:miter;stroke:rgb(26.666667%,26.666667%,26.666667%);stroke-opacity:1;stroke-miterlimit:10;\" d=\"M 349.570313 250.871094 C 337.984375 246.246094 324.289063 247.527344 320.664063 258.675781 \"/>\n<path style=\" stroke:none;fill-rule:nonzero;fill:rgb(26.666667%,26.666667%,26.666667%);fill-opacity:1;\" d=\"M 316.253906 272.242188 L 316.257813 257.242188 L 325.074219 260.109375 L 316.253906 272.242188 \"/>\n<path style=\"fill:none;stroke-width:1;stroke-linecap:butt;stroke-linejoin:miter;stroke:rgb(26.666667%,26.666667%,26.666667%);stroke-opacity:1;stroke-miterlimit:10;\" d=\"M 349.570313 250.871094 C 388.957031 227.828125 407.234375 192.707031 392.011719 149.917969 \"/>\n<path style=\" stroke:none;fill-rule:nonzero;fill:rgb(26.666667%,26.666667%,26.666667%);fill-opacity:1;\" d=\"M 387.226563 136.476563 L 396.378906 148.363281 L 387.644531 151.46875 L 387.226563 136.476563 \"/>\n<path style=\"fill:none;stroke-width:1;stroke-linecap:butt;stroke-linejoin:miter;stroke:rgb(26.666667%,26.666667%,26.666667%);stroke-opacity:1;stroke-miterlimit:10;\" d=\"M 349.570313 250.871094 C 369.015625 222.039063 370.597656 191.0625 345.386719 167.511719 \"/>\n<path style=\" stroke:none;fill-rule:nonzero;fill:rgb(26.666667%,26.666667%,26.666667%);fill-opacity:1;\" d=\"M 334.960938 157.773438 L 348.550781 164.125 L 342.222656 170.898438 L 334.960938 157.773438 \"/>\n<path style=\"fill:none;stroke-width:1;stroke-linecap:butt;stroke-linejoin:miter;stroke:rgb(26.666667%,26.666667%,26.666667%);stroke-opacity:1;stroke-miterlimit:10;\" d=\"M 349.570313 250.871094 C 323.300781 195.8125 279.035156 168.898438 219.84375 182.992188 \"/>\n<path style=\" stroke:none;fill-rule:nonzero;fill:rgb(26.666667%,26.666667%,26.666667%);fill-opacity:1;\" d=\"M 205.96875 186.296875 L 218.773438 178.484375 L 220.917969 187.5 L 205.96875 186.296875 \"/>\n<path style=\"fill:none;stroke-width:1;stroke-linecap:butt;stroke-linejoin:miter;stroke:rgb(26.666667%,26.666667%,26.666667%);stroke-opacity:1;stroke-miterlimit:10;\" d=\"M 440.527344 302.550781 C 421.820313 302.3125 405.402344 310.871094 404.261719 329.035156 \"/>\n<path style=\" stroke:none;fill-rule:nonzero;fill:rgb(26.666667%,26.666667%,26.666667%);fill-opacity:1;\" d=\"M 403.367188 343.273438 L 399.636719 328.746094 L 408.886719 329.328125 L 403.367188 343.273438 \"/>\n<path style=\"fill:none;stroke-width:1;stroke-linecap:butt;stroke-linejoin:miter;stroke:rgb(26.666667%,26.666667%,26.666667%);stroke-opacity:1;stroke-miterlimit:10;\" d=\"M 440.527344 302.550781 C 401.257813 287.101563 364.984375 293.761719 342.882813 329.441406 \"/>\n<path style=\" stroke:none;fill-rule:nonzero;fill:rgb(26.666667%,26.666667%,26.666667%);fill-opacity:1;\" d=\"M 335.371094 341.570313 L 338.945313 327 L 346.824219 331.882813 L 335.371094 341.570313 \"/>\n<path style=\"fill:none;stroke-width:1;stroke-linecap:butt;stroke-linejoin:miter;stroke:rgb(26.666667%,26.666667%,26.666667%);stroke-opacity:1;stroke-miterlimit:10;\" d=\"M 440.527344 302.550781 C 431.679688 267.886719 408.992188 245.601563 373.625 248.738281 \"/>\n<path style=\" stroke:none;fill-rule:nonzero;fill:rgb(26.666667%,26.666667%,26.666667%);fill-opacity:1;\" d=\"M 359.414063 249.996094 L 373.214844 244.121094 L 374.03125 253.355469 L 359.414063 249.996094 \"/>\n<path style=\"fill:none;stroke-width:1;stroke-linecap:butt;stroke-linejoin:miter;stroke:rgb(26.666667%,26.666667%,26.666667%);stroke-opacity:1;stroke-miterlimit:10;\" d=\"M 440.527344 302.550781 C 380.832031 286.980469 331.21875 303.683594 303.492188 358.617188 \"/>\n<path style=\" stroke:none;fill-rule:nonzero;fill:rgb(26.666667%,26.666667%,26.666667%);fill-opacity:1;\" d=\"M 297.0625 371.351563 L 299.355469 356.527344 L 307.628906 360.707031 L 297.0625 371.351563 \"/>\n<path style=\"fill:none;stroke-width:1;stroke-linecap:butt;stroke-linejoin:miter;stroke:rgb(26.666667%,26.666667%,26.666667%);stroke-opacity:1;stroke-miterlimit:10;\" d=\"M 440.527344 302.550781 C 461.558594 345.769531 496.894531 367.578125 543.140625 355.25 \"/>\n<path style=\" stroke:none;fill-rule:nonzero;fill:rgb(26.666667%,26.666667%,26.666667%);fill-opacity:1;\" d=\"M 556.925781 351.574219 L 544.335938 359.730469 L 541.945313 350.769531 L 556.925781 351.574219 \"/>\n<path style=\"fill:none;stroke-width:1;stroke-linecap:butt;stroke-linejoin:miter;stroke:rgb(26.666667%,26.666667%,26.666667%);stroke-opacity:1;stroke-miterlimit:10;\" d=\"M 440.527344 302.550781 C 413.082031 265.75 375.929688 251.429688 334.835938 271.417969 \"/>\n<path style=\" stroke:none;fill-rule:nonzero;fill:rgb(26.666667%,26.666667%,26.666667%);fill-opacity:1;\" d=\"M 322.007813 277.660156 L 332.808594 267.25 L 336.867188 275.585938 L 322.007813 277.660156 \"/>\n<path style=\"fill:none;stroke-width:1;stroke-linecap:butt;stroke-linejoin:miter;stroke:rgb(26.666667%,26.666667%,26.666667%);stroke-opacity:1;stroke-miterlimit:10;\" d=\"M 500.921875 433.214844 C 495.699219 388.738281 471.308594 358.40625 426.847656 355.339844 \"/>\n<path style=\" stroke:none;fill-rule:nonzero;fill:rgb(26.666667%,26.666667%,26.666667%);fill-opacity:1;\" d=\"M 412.617188 354.355469 L 427.167969 350.714844 L 426.53125 359.964844 L 412.617188 354.355469 \"/>\n<path style=\"fill:none;stroke-width:1;stroke-linecap:butt;stroke-linejoin:miter;stroke:rgb(26.666667%,26.666667%,26.666667%);stroke-opacity:1;stroke-miterlimit:10;\" d=\"M 500.921875 433.214844 C 466.203125 422.921875 435.113281 431.09375 419.441406 463.445313 \"/>\n<path style=\" stroke:none;fill-rule:nonzero;fill:rgb(26.666667%,26.666667%,26.666667%);fill-opacity:1;\" d=\"M 413.222656 476.28125 L 415.269531 461.421875 L 423.613281 465.464844 L 413.222656 476.28125 \"/>\n<path style=\"fill:none;stroke-width:1;stroke-linecap:butt;stroke-linejoin:miter;stroke:rgb(26.666667%,26.666667%,26.666667%);stroke-opacity:1;stroke-miterlimit:10;\" d=\"M 500.921875 433.214844 C 458.667969 409.074219 416.71875 411.035156 385.035156 447.710938 \"/>\n<path style=\" stroke:none;fill-rule:nonzero;fill:rgb(26.666667%,26.666667%,26.666667%);fill-opacity:1;\" d=\"M 375.710938 458.503906 L 381.527344 444.679688 L 388.542969 450.738281 L 375.710938 458.503906 \"/>\n<path style=\"fill:none;stroke-width:1;stroke-linecap:butt;stroke-linejoin:miter;stroke:rgb(26.666667%,26.666667%,26.666667%);stroke-opacity:1;stroke-miterlimit:10;\" d=\"M 477.019531 467.144531 C 485.894531 419.339844 470.246094 380.40625 425.222656 362.582031 \"/>\n<path style=\" stroke:none;fill-rule:nonzero;fill:rgb(26.666667%,26.666667%,26.666667%);fill-opacity:1;\" d=\"M 411.957031 357.332031 L 426.929688 358.273438 L 423.515625 366.894531 L 411.957031 357.332031 \"/>\n<path style=\"fill:none;stroke-width:1;stroke-linecap:butt;stroke-linejoin:miter;stroke:rgb(26.666667%,26.666667%,26.666667%);stroke-opacity:1;stroke-miterlimit:10;\" d=\"M 477.019531 467.144531 C 459.917969 454.117188 439.476563 451.082031 425.421875 466.757813 \"/>\n<path style=\" stroke:none;fill-rule:nonzero;fill:rgb(26.666667%,26.666667%,26.666667%);fill-opacity:1;\" d=\"M 415.902344 477.378906 L 421.972656 463.664063 L 428.875 469.851563 L 415.902344 477.378906 \"/>\n<path style=\"fill:none;stroke-width:1;stroke-linecap:butt;stroke-linejoin:miter;stroke:rgb(26.666667%,26.666667%,26.666667%);stroke-opacity:1;stroke-miterlimit:10;\" d=\"M 477.019531 467.144531 C 451.414063 440.296875 419.691406 431.792969 389.199219 452.46875 \"/>\n<path style=\" stroke:none;fill-rule:nonzero;fill:rgb(26.666667%,26.666667%,26.666667%);fill-opacity:1;\" d=\"M 377.394531 460.480469 L 386.597656 448.632813 L 391.800781 456.308594 L 377.394531 460.480469 \"/>\n<path style=\"fill:none;stroke-width:1;stroke-linecap:butt;stroke-linejoin:miter;stroke:rgb(26.666667%,26.666667%,26.666667%);stroke-opacity:1;stroke-miterlimit:10;\" d=\"M 477.019531 467.144531 C 450.867188 496.441406 444.761719 530.460938 468.996094 561.054688 \"/>\n<path style=\" stroke:none;fill-rule:nonzero;fill:rgb(26.666667%,26.666667%,26.666667%);fill-opacity:1;\" d=\"M 477.851563 572.238281 L 465.359375 563.933594 L 472.628906 558.179688 L 477.851563 572.238281 \"/>\n<path style=\"fill:none;stroke-width:1;stroke-linecap:butt;stroke-linejoin:miter;stroke:rgb(26.666667%,26.666667%,26.666667%);stroke-opacity:1;stroke-miterlimit:10;\" d=\"M 408.914063 485.175781 C 439.890625 449.875 446.242188 409.71875 417.558594 372.789063 \"/>\n<path style=\" stroke:none;fill-rule:nonzero;fill:rgb(26.666667%,26.666667%,26.666667%);fill-opacity:1;\" d=\"M 408.808594 361.519531 L 421.21875 369.945313 L 413.898438 375.632813 L 408.808594 361.519531 \"/>\n<path style=\"fill:none;stroke-width:1;stroke-linecap:butt;stroke-linejoin:miter;stroke:rgb(26.666667%,26.666667%,26.666667%);stroke-opacity:1;stroke-miterlimit:10;\" d=\"M 408.914063 485.175781 C 443.632813 495.46875 474.71875 487.296875 490.394531 454.945313 \"/>\n<path style=\" stroke:none;fill-rule:nonzero;fill:rgb(26.666667%,26.666667%,26.666667%);fill-opacity:1;\" d=\"M 496.613281 442.109375 L 494.5625 456.96875 L 486.222656 452.925781 L 496.613281 442.109375 \"/>\n<path style=\"fill:none;stroke-width:1;stroke-linecap:butt;stroke-linejoin:miter;stroke:rgb(26.666667%,26.666667%,26.666667%);stroke-opacity:1;stroke-miterlimit:10;\" d=\"M 408.914063 485.175781 C 426.015625 498.203125 446.457031 501.238281 460.511719 485.5625 \"/>\n<path style=\" stroke:none;fill-rule:nonzero;fill:rgb(26.666667%,26.666667%,26.666667%);fill-opacity:1;\" d=\"M 470.03125 474.941406 L 463.960938 488.65625 L 457.058594 482.46875 L 470.03125 474.941406 \"/>\n<path style=\"fill:none;stroke-width:1;stroke-linecap:butt;stroke-linejoin:miter;stroke:rgb(26.666667%,26.666667%,26.666667%);stroke-opacity:1;stroke-miterlimit:10;\" d=\"M 408.914063 485.175781 C 404.246094 527.453125 420.296875 560.949219 460.828125 573.070313 \"/>\n<path style=\" stroke:none;fill-rule:nonzero;fill:rgb(26.666667%,26.666667%,26.666667%);fill-opacity:1;\" d=\"M 474.496094 577.160156 L 459.5 577.511719 L 462.15625 568.628906 L 474.496094 577.160156 \"/>\n<path style=\"fill:none;stroke-width:1;stroke-linecap:butt;stroke-linejoin:miter;stroke:rgb(26.666667%,26.666667%,26.666667%);stroke-opacity:1;stroke-miterlimit:10;\" d=\"M 292.566406 380.261719 C 326.0625 400.953125 360.707031 401.019531 386.675781 371.75 \"/>\n<path style=\" stroke:none;fill-rule:nonzero;fill:rgb(26.666667%,26.666667%,26.666667%);fill-opacity:1;\" d=\"M 396.144531 361.078125 L 390.144531 374.828125 L 383.207031 368.675781 L 396.144531 361.078125 \"/>\n<path style=\"fill:none;stroke-width:1;stroke-linecap:butt;stroke-linejoin:miter;stroke:rgb(26.666667%,26.666667%,26.666667%);stroke-opacity:1;stroke-miterlimit:10;\" d=\"M 292.566406 380.261719 C 304.136719 385.214844 317.945313 384.265625 321.917969 373.109375 \"/>\n<path style=\" stroke:none;fill-rule:nonzero;fill:rgb(26.666667%,26.666667%,26.666667%);fill-opacity:1;\" d=\"M 326.707031 359.671875 L 326.285156 374.664063 L 317.550781 371.554688 L 326.707031 359.671875 \"/>\n<path style=\"fill:none;stroke-width:1;stroke-linecap:butt;stroke-linejoin:miter;stroke:rgb(26.666667%,26.666667%,26.666667%);stroke-opacity:1;stroke-miterlimit:10;\" d=\"M 292.566406 380.261719 C 339.589844 360.5 364.507813 324.402344 354.390625 274.601563 \"/>\n<path style=\" stroke:none;fill-rule:nonzero;fill:rgb(26.666667%,26.666667%,26.666667%);fill-opacity:1;\" d=\"M 351.550781 260.621094 L 358.933594 273.679688 L 349.847656 275.523438 L 351.550781 260.621094 \"/>\n<path style=\"fill:none;stroke-width:1;stroke-linecap:butt;stroke-linejoin:miter;stroke:rgb(26.666667%,26.666667%,26.666667%);stroke-opacity:1;stroke-miterlimit:10;\" d=\"M 292.566406 380.261719 C 352.261719 395.832031 401.875 379.132813 429.601563 324.195313 \"/>\n<path style=\" stroke:none;fill-rule:nonzero;fill:rgb(26.666667%,26.666667%,26.666667%);fill-opacity:1;\" d=\"M 436.03125 311.460938 L 433.742188 326.285156 L 425.464844 322.109375 L 436.03125 311.460938 \"/>\n<path style=\"fill:none;stroke-width:1;stroke-linecap:butt;stroke-linejoin:miter;stroke:rgb(26.666667%,26.666667%,26.666667%);stroke-opacity:1;stroke-miterlimit:10;\" d=\"M 256.113281 276.695313 C 276.90625 334.097656 318.363281 365.21875 378.691406 356.960938 \"/>\n<path style=\" stroke:none;fill-rule:nonzero;fill:rgb(26.666667%,26.666667%,26.666667%);fill-opacity:1;\" d=\"M 392.828125 355.027344 L 379.320313 361.554688 L 378.066406 352.371094 L 392.828125 355.027344 \"/>\n<path style=\"fill:none;stroke-width:1;stroke-linecap:butt;stroke-linejoin:miter;stroke:rgb(26.666667%,26.666667%,26.666667%);stroke-opacity:1;stroke-miterlimit:10;\" d=\"M 256.113281 276.695313 C 283.929688 293.726563 313.242188 294.074219 334.046875 269.335938 \"/>\n<path style=\" stroke:none;fill-rule:nonzero;fill:rgb(26.666667%,26.666667%,26.666667%);fill-opacity:1;\" d=\"M 343.226563 258.414063 L 337.59375 272.316406 L 330.5 266.351563 L 343.226563 258.414063 \"/>\n<path style=\"fill:none;stroke-width:1;stroke-linecap:butt;stroke-linejoin:miter;stroke:rgb(26.666667%,26.666667%,26.666667%);stroke-opacity:1;stroke-miterlimit:10;\" d=\"M 256.113281 276.695313 C 235.445313 255.636719 209.515625 248.589844 186.105469 266.023438 \"/>\n<path style=\" stroke:none;fill-rule:nonzero;fill:rgb(26.666667%,26.666667%,26.666667%);fill-opacity:1;\" d=\"M 174.664063 274.542969 L 183.339844 262.304688 L 188.875 269.738281 L 174.664063 274.542969 \"/>\n<path style=\"fill:none;stroke-width:1;stroke-linecap:butt;stroke-linejoin:miter;stroke:rgb(26.666667%,26.666667%,26.666667%);stroke-opacity:1;stroke-miterlimit:10;\" d=\"M 256.113281 276.695313 C 263.523438 240.898438 252.652344 210.359375 218.792969 197.300781 \"/>\n<path style=\" stroke:none;fill-rule:nonzero;fill:rgb(26.666667%,26.666667%,26.666667%);fill-opacity:1;\" d=\"M 205.480469 192.164063 L 220.460938 192.972656 L 217.125 201.625 L 205.480469 192.164063 \"/>\n<path style=\"fill:none;stroke-width:1;stroke-linecap:butt;stroke-linejoin:miter;stroke:rgb(26.666667%,26.666667%,26.666667%);stroke-opacity:1;stroke-miterlimit:10;\" d=\"M 256.113281 276.695313 C 279.753906 246.652344 283.707031 213.148438 258.246094 184.972656 \"/>\n<path style=\" stroke:none;fill-rule:nonzero;fill:rgb(26.666667%,26.666667%,26.666667%);fill-opacity:1;\" d=\"M 248.679688 174.390625 L 261.683594 181.863281 L 254.804688 188.082031 L 248.679688 174.390625 \"/>\n<path style=\"fill:none;stroke-width:1;stroke-linecap:butt;stroke-linejoin:miter;stroke:rgb(26.666667%,26.666667%,26.666667%);stroke-opacity:1;stroke-miterlimit:10;\" d=\"M 396.03125 158.023438 C 362.179688 168.542969 341.242188 192.136719 346.179688 226.964844 \"/>\n<path style=\" stroke:none;fill-rule:nonzero;fill:rgb(26.666667%,26.666667%,26.666667%);fill-opacity:1;\" d=\"M 348.183594 241.089844 L 341.59375 227.617188 L 350.769531 226.316406 L 348.183594 241.089844 \"/>\n<path style=\"fill:none;stroke-width:1;stroke-linecap:butt;stroke-linejoin:miter;stroke:rgb(26.666667%,26.666667%,26.666667%);stroke-opacity:1;stroke-miterlimit:10;\" d=\"M 396.03125 158.023438 C 352.539063 122.203125 304.753906 116.722656 260.945313 151.882813 \"/>\n<path style=\" stroke:none;fill-rule:nonzero;fill:rgb(26.666667%,26.666667%,26.666667%);fill-opacity:1;\" d=\"M 249.820313 160.808594 L 258.042969 148.265625 L 263.84375 155.496094 L 249.820313 160.808594 \"/>\n<path style=\"fill:none;stroke-width:1;stroke-linecap:butt;stroke-linejoin:miter;stroke:rgb(26.666667%,26.666667%,26.666667%);stroke-opacity:1;stroke-miterlimit:10;\" d=\"M 369.210938 466.027344 C 405.261719 446.503906 423.117188 415.324219 410.308594 376.625 \"/>\n<path style=\" stroke:none;fill-rule:nonzero;fill:rgb(26.666667%,26.666667%,26.666667%);fill-opacity:1;\" d=\"M 405.828125 363.082031 L 414.710938 375.167969 L 405.910156 378.082031 L 405.828125 363.082031 \"/>\n<path style=\"fill:none;stroke-width:1;stroke-linecap:butt;stroke-linejoin:miter;stroke:rgb(26.666667%,26.666667%,26.666667%);stroke-opacity:1;stroke-miterlimit:10;\" d=\"M 369.210938 466.027344 C 411.464844 490.167969 453.414063 488.207031 485.097656 451.53125 \"/>\n<path style=\" stroke:none;fill-rule:nonzero;fill:rgb(26.666667%,26.666667%,26.666667%);fill-opacity:1;\" d=\"M 494.421875 440.738281 L 488.605469 454.5625 L 481.589844 448.503906 L 494.421875 440.738281 \"/>\n<path style=\"fill:none;stroke-width:1;stroke-linecap:butt;stroke-linejoin:miter;stroke:rgb(26.666667%,26.666667%,26.666667%);stroke-opacity:1;stroke-miterlimit:10;\" d=\"M 369.210938 466.027344 C 394.816406 492.875 426.542969 501.382813 457.03125 480.703125 \"/>\n<path style=\" stroke:none;fill-rule:nonzero;fill:rgb(26.666667%,26.666667%,26.666667%);fill-opacity:1;\" d=\"M 468.835938 472.695313 L 459.632813 484.539063 L 454.429688 476.867188 L 468.835938 472.695313 \"/>\n<path style=\"fill:none;stroke-width:1;stroke-linecap:butt;stroke-linejoin:miter;stroke:rgb(26.666667%,26.666667%,26.666667%);stroke-opacity:1;stroke-miterlimit:10;\" d=\"M 580 307.03125 C 519.074219 275.894531 461.738281 282.398438 418.1875 334.988281 \"/>\n<path style=\" stroke:none;fill-rule:nonzero;fill:rgb(26.666667%,26.666667%,26.666667%);fill-opacity:1;\" d=\"M 409.089844 345.976563 L 414.617188 332.03125 L 421.757813 337.945313 L 409.089844 345.976563 \"/>\n<path style=\"fill:none;stroke-width:1;stroke-linecap:butt;stroke-linejoin:miter;stroke:rgb(26.666667%,26.666667%,26.666667%);stroke-opacity:1;stroke-miterlimit:10;\" d=\"M 566.53125 349.015625 C 520.859375 309.570313 470.042969 302.734375 422.046875 339.046875 \"/>\n<path style=\" stroke:none;fill-rule:nonzero;fill:rgb(26.666667%,26.666667%,26.666667%);fill-opacity:1;\" d=\"M 410.671875 347.652344 L 419.25 335.351563 L 424.84375 342.742188 L 410.671875 347.652344 \"/>\n<path style=\"fill:none;stroke-width:1;stroke-linecap:butt;stroke-linejoin:miter;stroke:rgb(26.666667%,26.666667%,26.666667%);stroke-opacity:1;stroke-miterlimit:10;\" d=\"M 566.53125 349.015625 C 545.5 305.796875 510.164063 283.984375 463.917969 296.316406 \"/>\n<path style=\" stroke:none;fill-rule:nonzero;fill:rgb(26.666667%,26.666667%,26.666667%);fill-opacity:1;\" d=\"M 450.132813 299.988281 L 462.722656 291.835938 L 465.109375 300.792969 L 450.132813 299.988281 \"/>\n<path style=\"fill:none;stroke-width:1;stroke-linecap:butt;stroke-linejoin:miter;stroke:rgb(26.666667%,26.666667%,26.666667%);stroke-opacity:1;stroke-miterlimit:10;\" d=\"M 313.078125 282.003906 C 317.398438 321.746094 338.949219 349.46875 378.597656 352.085938 \"/>\n<path style=\" stroke:none;fill-rule:nonzero;fill:rgb(26.666667%,26.666667%,26.666667%);fill-opacity:1;\" d=\"M 392.832031 353.023438 L 378.292969 356.710938 L 378.902344 347.460938 L 392.832031 353.023438 \"/>\n<path style=\"fill:none;stroke-width:1;stroke-linecap:butt;stroke-linejoin:miter;stroke:rgb(26.666667%,26.666667%,26.666667%);stroke-opacity:1;stroke-miterlimit:10;\" d=\"M 313.078125 282.003906 C 299.890625 298.804688 296.570313 319.089844 311.953125 333.25 \"/>\n<path style=\" stroke:none;fill-rule:nonzero;fill:rgb(26.666667%,26.666667%,26.666667%);fill-opacity:1;\" d=\"M 322.449219 342.910156 L 308.8125 336.660156 L 315.09375 329.839844 L 322.449219 342.910156 \"/>\n<path style=\"fill:none;stroke-width:1;stroke-linecap:butt;stroke-linejoin:miter;stroke:rgb(26.666667%,26.666667%,26.666667%);stroke-opacity:1;stroke-miterlimit:10;\" d=\"M 313.078125 282.003906 C 324.667969 286.628906 338.359375 285.347656 341.984375 274.199219 \"/>\n<path style=\" stroke:none;fill-rule:nonzero;fill:rgb(26.666667%,26.666667%,26.666667%);fill-opacity:1;\" d=\"M 346.398438 260.632813 L 346.394531 275.632813 L 337.578125 272.765625 L 346.398438 260.632813 \"/>\n<path style=\"fill:none;stroke-width:1;stroke-linecap:butt;stroke-linejoin:miter;stroke:rgb(26.666667%,26.666667%,26.666667%);stroke-opacity:1;stroke-miterlimit:10;\" d=\"M 313.078125 282.003906 C 340.527344 318.804688 377.675781 333.125 418.769531 313.136719 \"/>\n<path style=\" stroke:none;fill-rule:nonzero;fill:rgb(26.666667%,26.666667%,26.666667%);fill-opacity:1;\" d=\"M 431.597656 306.894531 L 420.796875 317.304688 L 416.742188 308.96875 L 431.597656 306.894531 \"/>\n<path style=\"fill:none;stroke-width:1;stroke-linecap:butt;stroke-linejoin:miter;stroke:rgb(26.666667%,26.666667%,26.666667%);stroke-opacity:1;stroke-miterlimit:10;\" d=\"M 313.078125 282.003906 C 323.1875 234.660156 308.652344 195.46875 264.308594 176.546875 \"/>\n<path style=\" stroke:none;fill-rule:nonzero;fill:rgb(26.666667%,26.666667%,26.666667%);fill-opacity:1;\" d=\"M 251.1875 170.949219 L 266.128906 172.285156 L 262.492188 180.8125 L 251.1875 170.949219 \"/>\n<path style=\"fill:none;stroke-width:1;stroke-linecap:butt;stroke-linejoin:miter;stroke:rgb(26.666667%,26.666667%,26.666667%);stroke-opacity:1;stroke-miterlimit:10;\" d=\"M 81.292969 153.710938 C 101.351563 190.839844 133.371094 209.136719 173.273438 196.113281 \"/>\n<path style=\" stroke:none;fill-rule:nonzero;fill:rgb(26.666667%,26.666667%,26.666667%);fill-opacity:1;\" d=\"M 186.835938 191.683594 L 174.710938 200.519531 L 171.835938 191.707031 L 186.835938 191.683594 \"/>\n<path style=\"fill:none;stroke-width:1;stroke-linecap:butt;stroke-linejoin:miter;stroke:rgb(26.666667%,26.666667%,26.666667%);stroke-opacity:1;stroke-miterlimit:10;\" d=\"M 81.292969 153.710938 C 121.5 197.261719 170.386719 209.621094 221.207031 179.429688 \"/>\n<path style=\" stroke:none;fill-rule:nonzero;fill:rgb(26.666667%,26.666667%,26.666667%);fill-opacity:1;\" d=\"M 233.46875 172.144531 L 223.574219 183.414063 L 218.835938 175.445313 L 233.46875 172.144531 \"/>\n<path style=\"fill:none;stroke-width:1;stroke-linecap:butt;stroke-linejoin:miter;stroke:rgb(26.666667%,26.666667%,26.666667%);stroke-opacity:1;stroke-miterlimit:10;\" d=\"M 141.6875 83.515625 C 129.265625 123.097656 138.285156 158.273438 174.839844 177.398438 \"/>\n<path style=\" stroke:none;fill-rule:nonzero;fill:rgb(26.666667%,26.666667%,26.666667%);fill-opacity:1;\" d=\"M 187.476563 184.011719 L 172.6875 181.507813 L 176.988281 173.292969 L 187.476563 184.011719 \"/>\n<path style=\"fill:none;stroke-width:1;stroke-linecap:butt;stroke-linejoin:miter;stroke:rgb(26.666667%,26.666667%,26.666667%);stroke-opacity:1;stroke-miterlimit:10;\" d=\"M 141.6875 83.515625 C 146.707031 129.765625 171.765625 161.328125 217.925781 165.085938 \"/>\n<path style=\" stroke:none;fill-rule:nonzero;fill:rgb(26.666667%,26.666667%,26.666667%);fill-opacity:1;\" d=\"M 232.144531 166.242188 L 217.550781 169.707031 L 218.300781 160.464844 L 232.144531 166.242188 \"/>\n<path style=\"fill:none;stroke-width:1;stroke-linecap:butt;stroke-linejoin:miter;stroke:rgb(26.666667%,26.666667%,26.666667%);stroke-opacity:1;stroke-miterlimit:10;\" d=\"M 483.996094 580 C 510.152344 550.703125 516.253906 516.683594 492.023438 486.085938 \"/>\n<path style=\" stroke:none;fill-rule:nonzero;fill:rgb(26.666667%,26.666667%,26.666667%);fill-opacity:1;\" d=\"M 483.167969 474.90625 L 495.65625 483.210938 L 488.390625 488.964844 L 483.167969 474.90625 \"/>\n<path style=\"fill:none;stroke-width:1;stroke-linecap:butt;stroke-linejoin:miter;stroke:rgb(26.666667%,26.666667%,26.666667%);stroke-opacity:1;stroke-miterlimit:10;\" d=\"M 483.996094 580 C 488.667969 537.722656 472.617188 504.226563 432.082031 492.105469 \"/>\n<path style=\" stroke:none;fill-rule:nonzero;fill:rgb(26.666667%,26.666667%,26.666667%);fill-opacity:1;\" d=\"M 418.414063 488.015625 L 433.410156 487.664063 L 430.753906 496.546875 L 418.414063 488.015625 \"/>\n<path style=\"fill:none;stroke-width:1;stroke-linecap:butt;stroke-linejoin:miter;stroke:rgb(26.666667%,26.666667%,26.666667%);stroke-opacity:1;stroke-miterlimit:10;\" d=\"M 271.792969 451.628906 C 331.6875 457.5625 377.070313 433.949219 395.335938 376.769531 \"/>\n<path style=\" stroke:none;fill-rule:nonzero;fill:rgb(26.666667%,26.666667%,26.666667%);fill-opacity:1;\" d=\"M 399.679688 363.179688 L 399.753906 378.179688 L 390.921875 375.355469 L 399.679688 363.179688 \"/>\n<path style=\"fill:none;stroke-width:1;stroke-linecap:butt;stroke-linejoin:miter;stroke:rgb(26.666667%,26.666667%,26.666667%);stroke-opacity:1;stroke-miterlimit:10;\" d=\"M 271.792969 451.628906 C 311.34375 440.902344 335.867188 414.667969 332.28125 374.078125 \"/>\n<path style=\" stroke:none;fill-rule:nonzero;fill:rgb(26.666667%,26.666667%,26.666667%);fill-opacity:1;\" d=\"M 331.023438 359.867188 L 336.898438 373.671875 L 327.664063 374.488281 L 331.023438 359.867188 \"/>\n<path style=\"fill:none;stroke-width:1;stroke-linecap:butt;stroke-linejoin:miter;stroke:rgb(26.666667%,26.666667%,26.666667%);stroke-opacity:1;stroke-miterlimit:10;\" d=\"M 104.578125 114.617188 C 109.019531 155.613281 131.238281 184.085938 172.140625 186.929688 \"/>\n<path style=\" stroke:none;fill-rule:nonzero;fill:rgb(26.666667%,26.666667%,26.666667%);fill-opacity:1;\" d=\"M 186.375 187.921875 L 171.820313 191.554688 L 172.464844 182.304688 L 186.375 187.921875 \"/>\n<path style=\"fill:none;stroke-width:1;stroke-linecap:butt;stroke-linejoin:miter;stroke:rgb(26.666667%,26.666667%,26.666667%);stroke-opacity:1;stroke-miterlimit:10;\" d=\"M 104.578125 114.617188 C 127.960938 162.609375 167.0625 186.359375 218.585938 173.089844 \"/>\n<path style=\" stroke:none;fill-rule:nonzero;fill:rgb(26.666667%,26.666667%,26.666667%);fill-opacity:1;\" d=\"M 232.402344 169.53125 L 219.742188 177.578125 L 217.429688 168.601563 L 232.402344 169.53125 \"/>\n<path style=\"fill:none;stroke-width:1;stroke-linecap:butt;stroke-linejoin:miter;stroke:rgb(26.666667%,26.666667%,26.666667%);stroke-opacity:1;stroke-miterlimit:10;\" d=\"M 236.933594 315.164063 C 272.777344 366.933594 322.253906 386.929688 380.304688 362.9375 \"/>\n<path style=\" stroke:none;fill-rule:nonzero;fill:rgb(26.666667%,26.666667%,26.666667%);fill-opacity:1;\" d=\"M 393.488281 357.488281 L 382.074219 367.222656 L 378.53125 358.652344 L 393.488281 357.488281 \"/>\n<path style=\"fill:none;stroke-width:1;stroke-linecap:butt;stroke-linejoin:miter;stroke:rgb(26.666667%,26.666667%,26.666667%);stroke-opacity:1;stroke-miterlimit:10;\" d=\"M 236.933594 315.164063 C 250.027344 346.183594 274.359375 363.980469 306.742188 355.863281 \"/>\n<path style=\" stroke:none;fill-rule:nonzero;fill:rgb(26.666667%,26.666667%,26.666667%);fill-opacity:1;\" d=\"M 320.582031 352.398438 L 307.871094 360.359375 L 305.617188 351.367188 L 320.582031 352.398438 \"/>\n<path style=\"fill:none;stroke-width:1;stroke-linecap:butt;stroke-linejoin:miter;stroke:rgb(26.666667%,26.666667%,26.666667%);stroke-opacity:1;stroke-miterlimit:10;\" d=\"M 236.933594 315.164063 C 275.046875 277.144531 284.867188 232.101563 255.363281 187.285156 \"/>\n<path style=\" stroke:none;fill-rule:nonzero;fill:rgb(26.666667%,26.666667%,26.666667%);fill-opacity:1;\" d=\"M 247.519531 175.367188 L 259.238281 184.734375 L 251.492188 189.832031 L 247.519531 175.367188 \"/>\n<path style=\"fill:none;stroke-width:1;stroke-linecap:butt;stroke-linejoin:miter;stroke:rgb(26.666667%,26.666667%,26.666667%);stroke-opacity:1;stroke-miterlimit:10;\" d=\"M 82.742188 200.652344 C 113.546875 225.730469 148.164063 230.296875 177.996094 204.4375 \"/>\n<path style=\" stroke:none;fill-rule:nonzero;fill:rgb(26.666667%,26.666667%,26.666667%);fill-opacity:1;\" d=\"M 188.777344 195.09375 L 181.035156 207.941406 L 174.960938 200.9375 L 188.777344 195.09375 \"/>\n<path style=\"fill:none;stroke-width:1;stroke-linecap:butt;stroke-linejoin:miter;stroke:rgb(26.666667%,26.666667%,26.666667%);stroke-opacity:1;stroke-miterlimit:10;\" d=\"M 82.742188 200.652344 C 134.3125 231.121094 185.1875 228.847656 225.632813 184.890625 \"/>\n<path style=\" stroke:none;fill-rule:nonzero;fill:rgb(26.666667%,26.666667%,26.666667%);fill-opacity:1;\" d=\"M 235.289063 174.390625 L 229.042969 188.027344 L 222.21875 181.75 L 235.289063 174.390625 \"/>\n<path style=\"fill:none;stroke-width:1;stroke-linecap:butt;stroke-linejoin:miter;stroke:rgb(26.666667%,26.666667%,26.666667%);stroke-opacity:1;stroke-miterlimit:10;\" d=\"M 503.464844 375.890625 C 485.167969 345.84375 457.382813 331.355469 425.066406 344.550781 \"/>\n<path style=\" stroke:none;fill-rule:nonzero;fill:rgb(26.666667%,26.666667%,26.666667%);fill-opacity:1;\" d=\"M 411.859375 349.941406 L 423.3125 340.257813 L 426.816406 348.84375 L 411.859375 349.941406 \"/>\n<path style=\"fill:none;stroke-width:1;stroke-linecap:butt;stroke-linejoin:miter;stroke:rgb(26.666667%,26.666667%,26.666667%);stroke-opacity:1;stroke-miterlimit:10;\" d=\"M 503.464844 375.890625 C 462.125 325.652344 409.546875 309.414063 351.75 338.957031 \"/>\n<path style=\" stroke:none;fill-rule:nonzero;fill:rgb(26.666667%,26.666667%,26.666667%);fill-opacity:1;\" d=\"M 339.046875 345.453125 L 349.636719 334.832031 L 353.859375 343.085938 L 339.046875 345.453125 \"/>\n<path style=\"fill:none;stroke-width:1;stroke-linecap:butt;stroke-linejoin:miter;stroke:rgb(26.666667%,26.666667%,26.666667%);stroke-opacity:1;stroke-miterlimit:10;\" d=\"M 20 245.152344 C 83.199219 273.25 140.679688 263.527344 181.804688 208.09375 \"/>\n<path style=\" stroke:none;fill-rule:nonzero;fill:rgb(26.666667%,26.666667%,26.666667%);fill-opacity:1;\" d=\"M 190.300781 196.636719 L 185.527344 210.855469 L 178.082031 205.332031 L 190.300781 196.636719 \"/>\n<path style=\"fill:none;stroke-width:1;stroke-linecap:butt;stroke-linejoin:miter;stroke:rgb(26.666667%,26.666667%,26.666667%);stroke-opacity:1;stroke-miterlimit:10;\" d=\"M 304.128906 69.152344 C 346.105469 113.882813 396.714844 126.136719 449.132813 94.589844 \"/>\n<path style=\" stroke:none;fill-rule:nonzero;fill:rgb(26.666667%,26.666667%,26.666667%);fill-opacity:1;\" d=\"M 461.355469 87.234375 L 451.523438 98.558594 L 446.742188 90.617188 L 461.355469 87.234375 \"/>\n<path style=\"fill:none;stroke-width:1;stroke-linecap:butt;stroke-linejoin:miter;stroke:rgb(26.666667%,26.666667%,26.666667%);stroke-opacity:1;stroke-miterlimit:10;\" d=\"M 304.128906 69.152344 C 308.34375 102.183594 326.78125 125.65625 359.777344 126.503906 \"/>\n<path style=\" stroke:none;fill-rule:nonzero;fill:rgb(26.666667%,26.666667%,26.666667%);fill-opacity:1;\" d=\"M 374.039063 126.867188 L 359.660156 131.136719 L 359.898438 121.867188 L 374.039063 126.867188 \"/>\n<path style=\"fill:none;stroke-width:1;stroke-linecap:butt;stroke-linejoin:miter;stroke:rgb(26.666667%,26.666667%,26.666667%);stroke-opacity:1;stroke-miterlimit:10;\" d=\"M 304.128906 69.152344 C 279.707031 44.742188 249.792969 37.316406 222.085938 57.457031 \"/>\n<path style=\" stroke:none;fill-rule:nonzero;fill:rgb(26.666667%,26.666667%,26.666667%);fill-opacity:1;\" d=\"M 210.546875 65.84375 L 219.359375 53.707031 L 224.8125 61.207031 L 210.546875 65.84375 \"/>\n<path style=\"fill:none;stroke-width:1;stroke-linecap:butt;stroke-linejoin:miter;stroke:rgb(26.666667%,26.666667%,26.666667%);stroke-opacity:1;stroke-miterlimit:10;\" d=\"M 304.128906 69.152344 C 245.261719 74.675781 205.859375 105.960938 199.058594 164.53125 \"/>\n<path style=\" stroke:none;fill-rule:nonzero;fill:rgb(26.666667%,26.666667%,26.666667%);fill-opacity:1;\" d=\"M 197.410156 178.699219 L 194.453125 163.996094 L 203.660156 165.066406 L 197.410156 178.699219 \"/>\n<path style=\"fill:none;stroke-width:1;stroke-linecap:butt;stroke-linejoin:miter;stroke:rgb(26.666667%,26.666667%,26.666667%);stroke-opacity:1;stroke-miterlimit:10;\" d=\"M 304.128906 69.152344 C 264.644531 77.949219 239.226563 102.722656 240.988281 142.898438 \"/>\n<path style=\" stroke:none;fill-rule:nonzero;fill:rgb(26.666667%,26.666667%,26.666667%);fill-opacity:1;\" d=\"M 241.609375 157.152344 L 236.355469 143.101563 L 245.617188 142.695313 L 241.609375 157.152344 \"/>\n<path style=\"fill:none;stroke-width:1;stroke-linecap:butt;stroke-linejoin:miter;stroke:rgb(26.666667%,26.666667%,26.666667%);stroke-opacity:1;stroke-miterlimit:10;\" d=\"M 529.542969 141.511719 C 531.277344 114.207031 520.097656 91.640625 493.5625 86.589844 \"/>\n<path style=\" stroke:none;fill-rule:nonzero;fill:rgb(26.666667%,26.666667%,26.666667%);fill-opacity:1;\" d=\"M 479.550781 83.921875 L 494.429688 82.035156 L 492.695313 91.140625 L 479.550781 83.921875 \"/>\n<path style=\"fill:none;stroke-width:1;stroke-linecap:butt;stroke-linejoin:miter;stroke:rgb(26.666667%,26.666667%,26.666667%);stroke-opacity:1;stroke-miterlimit:10;\" d=\"M 529.542969 141.511719 C 494.605469 101.570313 450.894531 88.953125 404.945313 115.128906 \"/>\n<path style=\" stroke:none;fill-rule:nonzero;fill:rgb(26.666667%,26.666667%,26.666667%);fill-opacity:1;\" d=\"M 392.550781 122.191406 L 402.652344 111.101563 L 407.242188 119.15625 L 392.550781 122.191406 \"/>\n<path style=\"fill:none;stroke-width:1;stroke-linecap:butt;stroke-linejoin:miter;stroke:rgb(26.666667%,26.666667%,26.666667%);stroke-opacity:1;stroke-miterlimit:10;\" d=\"M 529.542969 141.511719 C 474.324219 125.875 427.578125 140.328125 401.007813 191.007813 \"/>\n<path style=\" stroke:none;fill-rule:nonzero;fill:rgb(26.666667%,26.666667%,26.666667%);fill-opacity:1;\" d=\"M 394.382813 203.640625 L 396.902344 188.855469 L 405.113281 193.160156 L 394.382813 203.640625 \"/>\n<path style=\"fill:none;stroke-width:1;stroke-linecap:butt;stroke-linejoin:miter;stroke:rgb(26.666667%,26.666667%,26.666667%);stroke-opacity:1;stroke-miterlimit:10;\" d=\"M 469.90625 82.085938 C 427.933594 37.355469 377.324219 25.101563 324.902344 56.652344 \"/>\n<path style=\" stroke:none;fill-rule:nonzero;fill:rgb(26.666667%,26.666667%,26.666667%);fill-opacity:1;\" d=\"M 312.679688 64.007813 L 322.515625 52.679688 L 327.292969 60.621094 L 312.679688 64.007813 \"/>\n<path style=\"fill:none;stroke-width:1;stroke-linecap:butt;stroke-linejoin:miter;stroke:rgb(26.666667%,26.666667%,26.666667%);stroke-opacity:1;stroke-miterlimit:10;\" d=\"M 469.90625 82.085938 C 468.167969 109.386719 479.351563 131.957031 505.886719 137.007813 \"/>\n<path style=\" stroke:none;fill-rule:nonzero;fill:rgb(26.666667%,26.666667%,26.666667%);fill-opacity:1;\" d=\"M 519.898438 139.675781 L 505.019531 141.5625 L 506.753906 132.453125 L 519.898438 139.675781 \"/>\n<path style=\"fill:none;stroke-width:1;stroke-linecap:butt;stroke-linejoin:miter;stroke:rgb(26.666667%,26.666667%,26.666667%);stroke-opacity:1;stroke-miterlimit:10;\" d=\"M 469.90625 82.085938 C 416.101563 97.046875 384.457031 132.742188 388.148438 188.292969 \"/>\n<path style=\" stroke:none;fill-rule:nonzero;fill:rgb(26.666667%,26.666667%,26.666667%);fill-opacity:1;\" d=\"M 389.09375 202.527344 L 383.523438 188.601563 L 392.773438 187.984375 L 389.09375 202.527344 \"/>\n<path style=\"fill:none;stroke-width:1;stroke-linecap:butt;stroke-linejoin:miter;stroke:rgb(26.666667%,26.666667%,26.666667%);stroke-opacity:1;stroke-miterlimit:10;\" d=\"M 248.820313 20 C 227.835938 18.425781 209.347656 26.84375 206.265625 47.199219 \"/>\n<path style=\" stroke:none;fill-rule:nonzero;fill:rgb(26.666667%,26.666667%,26.666667%);fill-opacity:1;\" d=\"M 204.128906 61.304688 L 201.679688 46.507813 L 210.847656 47.894531 L 204.128906 61.304688 \"/>\n<path style=\"fill:none;stroke-width:1;stroke-linecap:butt;stroke-linejoin:miter;stroke:rgb(26.666667%,26.666667%,26.666667%);stroke-opacity:1;stroke-miterlimit:10;\" d=\"M 248.820313 20 C 210.535156 57.257813 200.214844 101.851563 228.964844 146.660156 \"/>\n<path style=\" stroke:none;fill-rule:nonzero;fill:rgb(26.666667%,26.666667%,26.666667%);fill-opacity:1;\" d=\"M 236.667969 158.667969 L 225.0625 149.164063 L 232.867188 144.15625 L 236.667969 158.667969 \"/>\n<path style=\"fill:none;stroke-width:1;stroke-linecap:butt;stroke-linejoin:miter;stroke:rgb(26.666667%,26.666667%,26.666667%);stroke-opacity:1;stroke-miterlimit:10;\" d=\"M 383.898438 127.121094 C 344.515625 150.164063 326.234375 185.285156 341.460938 228.074219 \"/>\n<path style=\" stroke:none;fill-rule:nonzero;fill:rgb(26.666667%,26.666667%,26.666667%);fill-opacity:1;\" d=\"M 346.242188 241.515625 L 337.09375 229.628906 L 345.828125 226.519531 L 346.242188 241.515625 \"/>\n<path style=\"fill:none;stroke-width:1;stroke-linecap:butt;stroke-linejoin:miter;stroke:rgb(26.666667%,26.666667%,26.666667%);stroke-opacity:1;stroke-miterlimit:10;\" d=\"M 383.898438 127.121094 C 379.6875 94.09375 361.25 70.617188 328.25 69.773438 \"/>\n<path style=\" stroke:none;fill-rule:nonzero;fill:rgb(26.666667%,26.666667%,26.666667%);fill-opacity:1;\" d=\"M 313.988281 69.40625 L 328.371094 65.140625 L 328.132813 74.40625 L 313.988281 69.40625 \"/>\n<path style=\"fill:none;stroke-width:1;stroke-linecap:butt;stroke-linejoin:miter;stroke:rgb(26.666667%,26.666667%,26.666667%);stroke-opacity:1;stroke-miterlimit:10;\" d=\"M 383.898438 127.121094 C 418.835938 167.0625 462.546875 179.675781 508.496094 153.5 \"/>\n<path style=\" stroke:none;fill-rule:nonzero;fill:rgb(26.666667%,26.666667%,26.666667%);fill-opacity:1;\" d=\"M 520.890625 146.4375 L 510.789063 157.527344 L 506.199219 149.472656 L 520.890625 146.4375 \"/>\n<path style=\"fill:none;stroke-width:1;stroke-linecap:butt;stroke-linejoin:miter;stroke:rgb(26.666667%,26.666667%,26.666667%);stroke-opacity:1;stroke-miterlimit:10;\" d=\"M 383.898438 127.121094 C 336.417969 102.496094 290.789063 106.757813 257.277344 148.210938 \"/>\n<path style=\" stroke:none;fill-rule:nonzero;fill:rgb(26.666667%,26.666667%,26.666667%);fill-opacity:1;\" d=\"M 248.304688 159.304688 L 253.671875 145.296875 L 260.878906 151.125 L 248.304688 159.304688 \"/>\n<path style=\"fill:none;stroke-width:1;stroke-linecap:butt;stroke-linejoin:miter;stroke:rgb(26.666667%,26.666667%,26.666667%);stroke-opacity:1;stroke-miterlimit:10;\" d=\"M 327.746094 151.035156 C 308.300781 179.867188 306.71875 210.839844 331.933594 234.394531 \"/>\n<path style=\" stroke:none;fill-rule:nonzero;fill:rgb(26.666667%,26.666667%,26.666667%);fill-opacity:1;\" d=\"M 342.355469 244.128906 L 328.769531 237.78125 L 335.097656 231.003906 L 342.355469 244.128906 \"/>\n<path style=\"fill:none;stroke-width:1;stroke-linecap:butt;stroke-linejoin:miter;stroke:rgb(26.666667%,26.666667%,26.666667%);stroke-opacity:1;stroke-miterlimit:10;\" d=\"M 327.746094 151.035156 C 326.257813 179.628906 338.242188 202.914063 366.066406 208.074219 \"/>\n<path style=\" stroke:none;fill-rule:nonzero;fill:rgb(26.666667%,26.666667%,26.666667%);fill-opacity:1;\" d=\"M 380.09375 210.679688 L 365.222656 212.632813 L 366.914063 203.519531 L 380.09375 210.679688 \"/>\n<path style=\"fill:none;stroke-width:1;stroke-linecap:butt;stroke-linejoin:miter;stroke:rgb(26.666667%,26.666667%,26.666667%);stroke-opacity:1;stroke-miterlimit:10;\" d=\"M 327.746094 151.035156 C 305.117188 133.5625 279.1875 130.160156 259.140625 150.070313 \"/>\n<path style=\" stroke:none;fill-rule:nonzero;fill:rgb(26.666667%,26.666667%,26.666667%);fill-opacity:1;\" d=\"M 249.015625 160.125 L 255.871094 146.78125 L 262.40625 153.359375 L 249.015625 160.125 \"/>\n<path style=\"fill:none;stroke-width:1;stroke-linecap:butt;stroke-linejoin:miter;stroke:rgb(26.666667%,26.666667%,26.666667%);stroke-opacity:1;stroke-miterlimit:10;\" d=\"M 202.5625 71.648438 C 226.984375 96.058594 256.898438 103.488281 284.605469 83.347656 \"/>\n<path style=\" stroke:none;fill-rule:nonzero;fill:rgb(26.666667%,26.666667%,26.666667%);fill-opacity:1;\" d=\"M 296.144531 74.957031 L 287.332031 87.09375 L 281.878906 79.597656 L 296.144531 74.957031 \"/>\n<path style=\"fill:none;stroke-width:1;stroke-linecap:butt;stroke-linejoin:miter;stroke:rgb(26.666667%,26.666667%,26.666667%);stroke-opacity:1;stroke-miterlimit:10;\" d=\"M 202.5625 71.648438 C 223.546875 73.222656 242.035156 64.804688 245.117188 44.449219 \"/>\n<path style=\" stroke:none;fill-rule:nonzero;fill:rgb(26.666667%,26.666667%,26.666667%);fill-opacity:1;\" d=\"M 247.253906 30.34375 L 249.703125 45.144531 L 240.535156 43.753906 L 247.253906 30.34375 \"/>\n<path style=\"fill:none;stroke-width:1;stroke-linecap:butt;stroke-linejoin:miter;stroke:rgb(26.666667%,26.666667%,26.666667%);stroke-opacity:1;stroke-miterlimit:10;\" d=\"M 202.5625 71.648438 C 172.105469 99.027344 162.035156 133.476563 183.511719 168.070313 \"/>\n<path style=\" stroke:none;fill-rule:nonzero;fill:rgb(26.666667%,26.666667%,26.666667%);fill-opacity:1;\" d=\"M 191.035156 180.191406 L 179.570313 170.515625 L 187.449219 165.625 L 191.035156 180.191406 \"/>\n<path style=\"fill:none;stroke-width:1;stroke-linecap:butt;stroke-linejoin:miter;stroke:rgb(26.666667%,26.666667%,26.666667%);stroke-opacity:1;stroke-miterlimit:10;\" d=\"M 202.5625 71.648438 C 188.390625 103.882813 192.425781 134.980469 221.769531 153.945313 \"/>\n<path style=\" stroke:none;fill-rule:nonzero;fill:rgb(26.666667%,26.666667%,26.666667%);fill-opacity:1;\" d=\"M 233.75 161.6875 L 219.253906 157.835938 L 224.285156 150.050781 L 233.75 161.6875 \"/>\n<path style=\"fill:none;stroke-width:1;stroke-linecap:butt;stroke-linejoin:miter;stroke:rgb(26.666667%,26.666667%,26.666667%);stroke-opacity:1;stroke-miterlimit:10;\" d=\"M 166.777344 280.414063 C 194.628906 340.285156 242.152344 369.542969 306.472656 355.257813 \"/>\n<path style=\" stroke:none;fill-rule:nonzero;fill:rgb(26.666667%,26.666667%,26.666667%);fill-opacity:1;\" d=\"M 320.398438 352.164063 L 307.476563 359.78125 L 305.464844 350.734375 L 320.398438 352.164063 \"/>\n<path style=\"fill:none;stroke-width:1;stroke-linecap:butt;stroke-linejoin:miter;stroke:rgb(26.666667%,26.666667%,26.666667%);stroke-opacity:1;stroke-miterlimit:10;\" d=\"M 166.777344 280.414063 C 187.445313 301.472656 213.375 308.519531 236.785156 291.089844 \"/>\n<path style=\" stroke:none;fill-rule:nonzero;fill:rgb(26.666667%,26.666667%,26.666667%);fill-opacity:1;\" d=\"M 248.226563 282.570313 L 239.550781 294.808594 L 234.015625 287.371094 L 248.226563 282.570313 \"/>\n<path style=\"fill:none;stroke-width:1;stroke-linecap:butt;stroke-linejoin:miter;stroke:rgb(26.666667%,26.666667%,26.666667%);stroke-opacity:1;stroke-miterlimit:10;\" d=\"M 166.777344 280.414063 C 196.085938 266.617188 212.394531 242.46875 203.183594 211.714844 \"/>\n<path style=\" stroke:none;fill-rule:nonzero;fill:rgb(26.666667%,26.666667%,26.666667%);fill-opacity:1;\" d=\"M 199.089844 198.050781 L 207.621094 210.386719 L 198.742188 213.046875 L 199.089844 198.050781 \"/>\n<path style=\"fill:none;stroke-width:1;stroke-linecap:butt;stroke-linejoin:miter;stroke:rgb(26.666667%,26.666667%,26.666667%);stroke-opacity:1;stroke-miterlimit:10;\" d=\"M 166.777344 280.414063 C 214.386719 269.679688 244.089844 239.832031 242.726563 191.246094 \"/>\n<path style=\" stroke:none;fill-rule:nonzero;fill:rgb(26.666667%,26.666667%,26.666667%);fill-opacity:1;\" d=\"M 242.324219 176.988281 L 247.359375 191.117188 L 238.09375 191.378906 L 242.324219 176.988281 \"/>\n<path style=\"fill:none;stroke-width:1;stroke-linecap:butt;stroke-linejoin:miter;stroke:rgb(26.666667%,26.666667%,26.666667%);stroke-opacity:1;stroke-miterlimit:10;\" d=\"M 389.753906 212.472656 C 358.132813 252.710938 353.867188 296.496094 386.984375 335.261719 \"/>\n<path style=\" stroke:none;fill-rule:nonzero;fill:rgb(26.666667%,26.666667%,26.666667%);fill-opacity:1;\" d=\"M 396.25 346.109375 L 383.460938 338.273438 L 390.511719 332.25 L 396.25 346.109375 \"/>\n<path style=\"fill:none;stroke-width:1;stroke-linecap:butt;stroke-linejoin:miter;stroke:rgb(26.666667%,26.666667%,26.666667%);stroke-opacity:1;stroke-miterlimit:10;\" d=\"M 389.753906 212.472656 C 444.972656 228.105469 491.71875 213.652344 518.289063 162.976563 \"/>\n<path style=\" stroke:none;fill-rule:nonzero;fill:rgb(26.666667%,26.666667%,26.666667%);fill-opacity:1;\" d=\"M 524.910156 150.339844 L 522.394531 165.128906 L 514.183594 160.824219 L 524.910156 150.339844 \"/>\n<path style=\"fill:none;stroke-width:1;stroke-linecap:butt;stroke-linejoin:miter;stroke:rgb(26.666667%,26.666667%,26.666667%);stroke-opacity:1;stroke-miterlimit:10;\" d=\"M 389.753906 212.472656 C 443.558594 197.507813 475.203125 161.816406 471.515625 106.265625 \"/>\n<path style=\" stroke:none;fill-rule:nonzero;fill:rgb(26.666667%,26.666667%,26.666667%);fill-opacity:1;\" d=\"M 470.566406 92.03125 L 476.140625 105.957031 L 466.890625 106.570313 L 470.566406 92.03125 \"/>\n<path style=\"fill:none;stroke-width:1;stroke-linecap:butt;stroke-linejoin:miter;stroke:rgb(26.666667%,26.666667%,26.666667%);stroke-opacity:1;stroke-miterlimit:10;\" d=\"M 389.753906 212.472656 C 391.242188 183.878906 379.261719 160.59375 351.433594 155.429688 \"/>\n<path style=\" stroke:none;fill-rule:nonzero;fill:rgb(26.666667%,26.666667%,26.666667%);fill-opacity:1;\" d=\"M 337.40625 152.828125 L 352.277344 150.871094 L 350.589844 159.988281 L 337.40625 152.828125 \"/>\n<path style=\"fill:none;stroke-width:1;stroke-linecap:butt;stroke-linejoin:miter;stroke:rgb(26.666667%,26.666667%,26.666667%);stroke-opacity:1;stroke-miterlimit:10;\" d=\"M 389.753906 212.472656 C 341.230469 157.585938 281.710938 141.871094 217.554688 176.960938 \"/>\n<path style=\" stroke:none;fill-rule:nonzero;fill:rgb(26.666667%,26.666667%,26.666667%);fill-opacity:1;\" d=\"M 205.039063 183.808594 L 215.332031 172.894531 L 219.777344 181.027344 L 205.039063 183.808594 \"/>\n<path style=\"fill:none;stroke-width:1;stroke-linecap:butt;stroke-linejoin:miter;stroke:rgb(26.666667%,26.666667%,26.666667%);stroke-opacity:1;stroke-miterlimit:10;\" d=\"M 389.753906 212.472656 C 361.445313 163.617188 318.496094 141.761719 265.050781 159.4375 \"/>\n<path style=\" stroke:none;fill-rule:nonzero;fill:rgb(26.666667%,26.666667%,26.666667%);fill-opacity:1;\" d=\"M 251.507813 163.917969 L 263.597656 155.039063 L 266.507813 163.839844 L 251.507813 163.917969 \"/>\n<path style=\"fill:none;stroke-width:1;stroke-linecap:butt;stroke-linejoin:miter;stroke:rgb(26.666667%,26.666667%,26.666667%);stroke-opacity:1;stroke-miterlimit:10;\" d=\"M 196.257813 188.609375 C 222.53125 243.667969 266.796875 270.578125 325.984375 256.484375 \"/>\n<path style=\" stroke:none;fill-rule:nonzero;fill:rgb(26.666667%,26.666667%,26.666667%);fill-opacity:1;\" d=\"M 339.863281 253.183594 L 327.058594 260.996094 L 324.914063 251.976563 L 339.863281 253.183594 \"/>\n<path style=\"fill:none;stroke-width:1;stroke-linecap:butt;stroke-linejoin:miter;stroke:rgb(26.666667%,26.666667%,26.666667%);stroke-opacity:1;stroke-miterlimit:10;\" d=\"M 196.257813 188.609375 C 188.851563 224.40625 199.71875 254.945313 233.582031 268.003906 \"/>\n<path style=\" stroke:none;fill-rule:nonzero;fill:rgb(26.666667%,26.666667%,26.666667%);fill-opacity:1;\" d=\"M 246.890625 273.140625 L 231.914063 272.328125 L 235.25 263.679688 L 246.890625 273.140625 \"/>\n<path style=\"fill:none;stroke-width:1;stroke-linecap:butt;stroke-linejoin:miter;stroke:rgb(26.666667%,26.666667%,26.666667%);stroke-opacity:1;stroke-miterlimit:10;\" d=\"M 196.257813 188.609375 C 176.199219 151.480469 144.179688 133.183594 104.28125 146.207031 \"/>\n<path style=\" stroke:none;fill-rule:nonzero;fill:rgb(26.666667%,26.666667%,26.666667%);fill-opacity:1;\" d=\"M 90.71875 150.636719 L 102.84375 141.800781 L 105.71875 150.613281 L 90.71875 150.636719 \"/>\n<path style=\"fill:none;stroke-width:1;stroke-linecap:butt;stroke-linejoin:miter;stroke:rgb(26.666667%,26.666667%,26.666667%);stroke-opacity:1;stroke-miterlimit:10;\" d=\"M 196.257813 188.609375 C 208.679688 149.027344 199.660156 113.851563 163.109375 94.726563 \"/>\n<path style=\" stroke:none;fill-rule:nonzero;fill:rgb(26.666667%,26.666667%,26.666667%);fill-opacity:1;\" d=\"M 150.46875 88.113281 L 165.257813 90.617188 L 160.960938 98.832031 L 150.46875 88.113281 \"/>\n<path style=\"fill:none;stroke-width:1;stroke-linecap:butt;stroke-linejoin:miter;stroke:rgb(26.666667%,26.666667%,26.666667%);stroke-opacity:1;stroke-miterlimit:10;\" d=\"M 196.257813 188.609375 C 191.816406 147.613281 169.597656 119.140625 128.695313 116.296875 \"/>\n<path style=\" stroke:none;fill-rule:nonzero;fill:rgb(26.666667%,26.666667%,26.666667%);fill-opacity:1;\" d=\"M 114.464844 115.304688 L 129.015625 111.671875 L 128.375 120.917969 L 114.464844 115.304688 \"/>\n<path style=\"fill:none;stroke-width:1;stroke-linecap:butt;stroke-linejoin:miter;stroke:rgb(26.666667%,26.666667%,26.666667%);stroke-opacity:1;stroke-miterlimit:10;\" d=\"M 196.257813 188.609375 C 165.453125 163.535156 130.835938 158.964844 101.003906 184.824219 \"/>\n<path style=\" stroke:none;fill-rule:nonzero;fill:rgb(26.666667%,26.666667%,26.666667%);fill-opacity:1;\" d=\"M 90.226563 194.167969 L 97.96875 181.320313 L 104.042969 188.328125 L 90.226563 194.167969 \"/>\n<path style=\"fill:none;stroke-width:1;stroke-linecap:butt;stroke-linejoin:miter;stroke:rgb(26.666667%,26.666667%,26.666667%);stroke-opacity:1;stroke-miterlimit:10;\" d=\"M 196.257813 188.609375 C 133.0625 160.511719 75.582031 170.230469 34.457031 225.664063 \"/>\n<path style=\" stroke:none;fill-rule:nonzero;fill:rgb(26.666667%,26.666667%,26.666667%);fill-opacity:1;\" d=\"M 25.957031 237.121094 L 30.734375 222.902344 L 38.179688 228.425781 L 25.957031 237.121094 \"/>\n<path style=\"fill:none;stroke-width:1;stroke-linecap:butt;stroke-linejoin:miter;stroke:rgb(26.666667%,26.666667%,26.666667%);stroke-opacity:1;stroke-miterlimit:10;\" d=\"M 196.257813 188.609375 C 255.128906 183.085938 294.527344 151.800781 301.332031 93.234375 \"/>\n<path style=\" stroke:none;fill-rule:nonzero;fill:rgb(26.666667%,26.666667%,26.666667%);fill-opacity:1;\" d=\"M 302.980469 79.0625 L 305.9375 93.765625 L 296.726563 92.699219 L 302.980469 79.0625 \"/>\n<path style=\"fill:none;stroke-width:1;stroke-linecap:butt;stroke-linejoin:miter;stroke:rgb(26.666667%,26.666667%,26.666667%);stroke-opacity:1;stroke-miterlimit:10;\" d=\"M 196.257813 188.609375 C 226.714844 161.230469 236.785156 126.78125 215.3125 92.1875 \"/>\n<path style=\" stroke:none;fill-rule:nonzero;fill:rgb(26.666667%,26.666667%,26.666667%);fill-opacity:1;\" d=\"M 207.789063 80.066406 L 219.25 89.742188 L 211.375 94.632813 L 207.789063 80.066406 \"/>\n<path style=\"fill:none;stroke-width:1;stroke-linecap:butt;stroke-linejoin:miter;stroke:rgb(26.666667%,26.666667%,26.666667%);stroke-opacity:1;stroke-miterlimit:10;\" d=\"M 196.257813 188.609375 C 166.949219 202.40625 150.640625 226.554688 159.855469 257.308594 \"/>\n<path style=\" stroke:none;fill-rule:nonzero;fill:rgb(26.666667%,26.666667%,26.666667%);fill-opacity:1;\" d=\"M 163.949219 270.972656 L 155.414063 258.636719 L 164.292969 255.976563 L 163.949219 270.972656 \"/>\n<path style=\"fill:none;stroke-width:1;stroke-linecap:butt;stroke-linejoin:miter;stroke:rgb(26.666667%,26.666667%,26.666667%);stroke-opacity:1;stroke-miterlimit:10;\" d=\"M 196.257813 188.609375 C 244.78125 243.496094 304.300781 259.207031 368.460938 224.117188 \"/>\n<path style=\" stroke:none;fill-rule:nonzero;fill:rgb(26.666667%,26.666667%,26.666667%);fill-opacity:1;\" d=\"M 380.976563 217.273438 L 370.683594 228.183594 L 366.234375 220.050781 L 380.976563 217.273438 \"/>\n<path style=\"fill:none;stroke-width:1;stroke-linecap:butt;stroke-linejoin:miter;stroke:rgb(26.666667%,26.666667%,26.666667%);stroke-opacity:1;stroke-miterlimit:10;\" d=\"M 196.257813 188.609375 C 207.304688 196.394531 221.703125 198.40625 228.675781 187.65625 \"/>\n<path style=\" stroke:none;fill-rule:nonzero;fill:rgb(26.666667%,26.666667%,26.666667%);fill-opacity:1;\" d=\"M 236.441406 175.6875 L 232.566406 190.175781 L 224.789063 185.132813 L 236.441406 175.6875 \"/>\n<path style=\"fill:none;stroke-width:1;stroke-linecap:butt;stroke-linejoin:miter;stroke:rgb(26.666667%,26.666667%,26.666667%);stroke-opacity:1;stroke-miterlimit:10;\" d=\"M 242.046875 167.046875 C 218.402344 197.089844 214.449219 230.59375 239.914063 258.769531 \"/>\n<path style=\" stroke:none;fill-rule:nonzero;fill:rgb(26.666667%,26.666667%,26.666667%);fill-opacity:1;\" d=\"M 249.480469 269.355469 L 236.476563 261.878906 L 243.351563 255.664063 L 249.480469 269.355469 \"/>\n<path style=\"fill:none;stroke-width:1;stroke-linecap:butt;stroke-linejoin:miter;stroke:rgb(26.666667%,26.666667%,26.666667%);stroke-opacity:1;stroke-miterlimit:10;\" d=\"M 242.046875 167.046875 C 285.539063 202.867188 333.324219 208.347656 377.132813 173.191406 \"/>\n<path style=\" stroke:none;fill-rule:nonzero;fill:rgb(26.666667%,26.666667%,26.666667%);fill-opacity:1;\" d=\"M 388.257813 164.261719 L 380.035156 176.804688 L 374.230469 169.574219 L 388.257813 164.261719 \"/>\n<path style=\"fill:none;stroke-width:1;stroke-linecap:butt;stroke-linejoin:miter;stroke:rgb(26.666667%,26.666667%,26.666667%);stroke-opacity:1;stroke-miterlimit:10;\" d=\"M 242.046875 167.046875 C 231.9375 214.394531 246.46875 253.585938 290.816406 272.503906 \"/>\n<path style=\" stroke:none;fill-rule:nonzero;fill:rgb(26.666667%,26.666667%,26.666667%);fill-opacity:1;\" d=\"M 303.9375 278.101563 L 288.996094 276.769531 L 292.632813 268.242188 L 303.9375 278.101563 \"/>\n<path style=\"fill:none;stroke-width:1;stroke-linecap:butt;stroke-linejoin:miter;stroke:rgb(26.666667%,26.666667%,26.666667%);stroke-opacity:1;stroke-miterlimit:10;\" d=\"M 242.046875 167.046875 C 201.835938 123.496094 152.949219 111.136719 102.132813 141.328125 \"/>\n<path style=\" stroke:none;fill-rule:nonzero;fill:rgb(26.666667%,26.666667%,26.666667%);fill-opacity:1;\" d=\"M 89.871094 148.617188 L 99.765625 137.34375 L 104.5 145.316406 L 89.871094 148.617188 \"/>\n<path style=\"fill:none;stroke-width:1;stroke-linecap:butt;stroke-linejoin:miter;stroke:rgb(26.666667%,26.666667%,26.666667%);stroke-opacity:1;stroke-miterlimit:10;\" d=\"M 242.046875 167.046875 C 237.023438 120.800781 211.96875 89.234375 165.808594 85.480469 \"/>\n<path style=\" stroke:none;fill-rule:nonzero;fill:rgb(26.666667%,26.666667%,26.666667%);fill-opacity:1;\" d=\"M 151.585938 84.320313 L 166.183594 80.859375 L 165.429688 90.097656 L 151.585938 84.320313 \"/>\n<path style=\"fill:none;stroke-width:1;stroke-linecap:butt;stroke-linejoin:miter;stroke:rgb(26.666667%,26.666667%,26.666667%);stroke-opacity:1;stroke-miterlimit:10;\" d=\"M 242.046875 167.046875 C 218.660156 119.054688 179.5625 95.304688 128.035156 108.574219 \"/>\n<path style=\" stroke:none;fill-rule:nonzero;fill:rgb(26.666667%,26.666667%,26.666667%);fill-opacity:1;\" d=\"M 114.222656 112.132813 L 126.878906 104.085938 L 129.191406 113.0625 L 114.222656 112.132813 \"/>\n<path style=\"fill:none;stroke-width:1;stroke-linecap:butt;stroke-linejoin:miter;stroke:rgb(26.666667%,26.666667%,26.666667%);stroke-opacity:1;stroke-miterlimit:10;\" d=\"M 242.046875 167.046875 C 203.929688 205.066406 194.113281 250.113281 223.613281 294.929688 \"/>\n<path style=\" stroke:none;fill-rule:nonzero;fill:rgb(26.666667%,26.666667%,26.666667%);fill-opacity:1;\" d=\"M 231.457031 306.847656 L 219.742188 297.476563 L 227.484375 292.382813 L 231.457031 306.847656 \"/>\n<path style=\"fill:none;stroke-width:1;stroke-linecap:butt;stroke-linejoin:miter;stroke:rgb(26.666667%,26.666667%,26.666667%);stroke-opacity:1;stroke-miterlimit:10;\" d=\"M 242.046875 167.046875 C 190.476563 136.582031 139.601563 138.851563 99.15625 182.8125 \"/>\n<path style=\" stroke:none;fill-rule:nonzero;fill:rgb(26.666667%,26.666667%,26.666667%);fill-opacity:1;\" d=\"M 89.5 193.3125 L 95.746094 179.675781 L 102.570313 185.953125 L 89.5 193.3125 \"/>\n<path style=\"fill:none;stroke-width:1;stroke-linecap:butt;stroke-linejoin:miter;stroke:rgb(26.666667%,26.666667%,26.666667%);stroke-opacity:1;stroke-miterlimit:10;\" d=\"M 242.046875 167.046875 C 281.53125 158.253906 306.949219 133.480469 305.1875 93.300781 \"/>\n<path style=\" stroke:none;fill-rule:nonzero;fill:rgb(26.666667%,26.666667%,26.666667%);fill-opacity:1;\" d=\"M 304.5625 79.050781 L 309.820313 93.097656 L 300.558594 93.503906 L 304.5625 79.050781 \"/>\n<path style=\"fill:none;stroke-width:1;stroke-linecap:butt;stroke-linejoin:miter;stroke:rgb(26.666667%,26.666667%,26.666667%);stroke-opacity:1;stroke-miterlimit:10;\" d=\"M 242.046875 167.046875 C 280.328125 129.792969 290.648438 85.199219 261.902344 40.386719 \"/>\n<path style=\" stroke:none;fill-rule:nonzero;fill:rgb(26.666667%,26.666667%,26.666667%);fill-opacity:1;\" d=\"M 254.199219 28.382813 L 265.804688 37.886719 L 258 42.890625 L 254.199219 28.382813 \"/>\n<path style=\"fill:none;stroke-width:1;stroke-linecap:butt;stroke-linejoin:miter;stroke:rgb(26.666667%,26.666667%,26.666667%);stroke-opacity:1;stroke-miterlimit:10;\" d=\"M 242.046875 167.046875 C 289.527344 191.675781 335.15625 187.410156 368.667969 145.957031 \"/>\n<path style=\" stroke:none;fill-rule:nonzero;fill:rgb(26.666667%,26.666667%,26.666667%);fill-opacity:1;\" d=\"M 377.636719 134.863281 L 372.273438 148.871094 L 365.066406 143.042969 L 377.636719 134.863281 \"/>\n<path style=\"fill:none;stroke-width:1;stroke-linecap:butt;stroke-linejoin:miter;stroke:rgb(26.666667%,26.666667%,26.666667%);stroke-opacity:1;stroke-miterlimit:10;\" d=\"M 242.046875 167.046875 C 264.671875 184.519531 290.601563 187.925781 310.652344 168.011719 \"/>\n<path style=\" stroke:none;fill-rule:nonzero;fill:rgb(26.666667%,26.666667%,26.666667%);fill-opacity:1;\" d=\"M 320.773438 157.957031 L 313.917969 171.300781 L 307.386719 164.722656 L 320.773438 157.957031 \"/>\n<path style=\"fill:none;stroke-width:1;stroke-linecap:butt;stroke-linejoin:miter;stroke:rgb(26.666667%,26.666667%,26.666667%);stroke-opacity:1;stroke-miterlimit:10;\" d=\"M 242.046875 167.046875 C 256.21875 134.816406 252.183594 103.71875 222.839844 84.753906 \"/>\n<path style=\" stroke:none;fill-rule:nonzero;fill:rgb(26.666667%,26.666667%,26.666667%);fill-opacity:1;\" d=\"M 210.855469 77.007813 L 225.355469 80.859375 L 220.324219 88.644531 L 210.855469 77.007813 \"/>\n<path style=\"fill:none;stroke-width:1;stroke-linecap:butt;stroke-linejoin:miter;stroke:rgb(26.666667%,26.666667%,26.666667%);stroke-opacity:1;stroke-miterlimit:10;\" d=\"M 242.046875 167.046875 C 194.4375 177.785156 164.730469 207.628906 166.097656 256.214844 \"/>\n<path style=\" stroke:none;fill-rule:nonzero;fill:rgb(26.666667%,26.666667%,26.666667%);fill-opacity:1;\" d=\"M 166.496094 270.476563 L 161.464844 256.347656 L 170.730469 256.085938 L 166.496094 270.476563 \"/>\n<path style=\"fill:none;stroke-width:1;stroke-linecap:butt;stroke-linejoin:miter;stroke:rgb(26.666667%,26.666667%,26.666667%);stroke-opacity:1;stroke-miterlimit:10;\" d=\"M 242.046875 167.046875 C 270.355469 215.902344 313.304688 237.757813 366.746094 220.082031 \"/>\n<path style=\" stroke:none;fill-rule:nonzero;fill:rgb(26.666667%,26.666667%,26.666667%);fill-opacity:1;\" d=\"M 380.292969 215.601563 L 368.203125 224.480469 L 365.292969 215.679688 L 380.292969 215.601563 \"/>\n<path style=\"fill:none;stroke-width:1;stroke-linecap:butt;stroke-linejoin:miter;stroke:rgb(26.666667%,26.666667%,26.666667%);stroke-opacity:1;stroke-miterlimit:10;\" d=\"M 242.046875 167.046875 C 231 159.261719 216.601563 157.25 209.628906 168.003906 \"/>\n<path style=\" stroke:none;fill-rule:nonzero;fill:rgb(26.666667%,26.666667%,26.666667%);fill-opacity:1;\" d=\"M 201.863281 179.96875 L 205.738281 165.480469 L 213.515625 170.523438 L 201.863281 179.96875 \"/>\n<path style=\"fill-rule:nonzero;fill:rgb(100%,0%,0%);fill-opacity:1;stroke-width:1;stroke-linecap:butt;stroke-linejoin:miter;stroke:rgb(0%,0%,0%);stroke-opacity:1;stroke-miterlimit:10;\" d=\"M 412.714844 353.675781 C 412.714844 359.199219 408.238281 363.675781 402.714844 363.675781 C 397.191406 363.675781 392.714844 359.199219 392.714844 353.675781 C 392.714844 348.152344 397.191406 343.675781 402.714844 343.675781 C 408.238281 343.675781 412.714844 348.152344 412.714844 353.675781 \"/>\n<path style=\"fill-rule:nonzero;fill:rgb(100%,0%,0%);fill-opacity:1;stroke-width:1;stroke-linecap:butt;stroke-linejoin:miter;stroke:rgb(0%,0%,0%);stroke-opacity:1;stroke-miterlimit:10;\" d=\"M 340.152344 350 C 340.152344 355.523438 335.675781 360 330.152344 360 C 324.628906 360 320.152344 355.523438 320.152344 350 C 320.152344 344.476563 324.628906 340 330.152344 340 C 335.675781 340 340.152344 344.476563 340.152344 350 \"/>\n<path style=\"fill-rule:nonzero;fill:rgb(100%,0%,0%);fill-opacity:1;stroke-width:1;stroke-linecap:butt;stroke-linejoin:miter;stroke:rgb(0%,0%,0%);stroke-opacity:1;stroke-miterlimit:10;\" d=\"M 359.570313 250.871094 C 359.570313 256.394531 355.09375 260.871094 349.570313 260.871094 C 344.050781 260.871094 339.570313 256.394531 339.570313 250.871094 C 339.570313 245.347656 344.050781 240.871094 349.570313 240.871094 C 355.09375 240.871094 359.570313 245.347656 359.570313 250.871094 \"/>\n<path style=\"fill-rule:nonzero;fill:rgb(100%,0%,0%);fill-opacity:1;stroke-width:1;stroke-linecap:butt;stroke-linejoin:miter;stroke:rgb(0%,0%,0%);stroke-opacity:1;stroke-miterlimit:10;\" d=\"M 450.527344 302.550781 C 450.527344 308.074219 446.050781 312.550781 440.527344 312.550781 C 435.007813 312.550781 430.527344 308.074219 430.527344 302.550781 C 430.527344 297.027344 435.007813 292.550781 440.527344 292.550781 C 446.050781 292.550781 450.527344 297.027344 450.527344 302.550781 \"/>\n<path style=\"fill-rule:nonzero;fill:rgb(100%,0%,0%);fill-opacity:1;stroke-width:1;stroke-linecap:butt;stroke-linejoin:miter;stroke:rgb(0%,0%,0%);stroke-opacity:1;stroke-miterlimit:10;\" d=\"M 510.921875 433.214844 C 510.921875 438.738281 506.445313 443.214844 500.921875 443.214844 C 495.398438 443.214844 490.921875 438.738281 490.921875 433.214844 C 490.921875 427.691406 495.398438 423.214844 500.921875 423.214844 C 506.445313 423.214844 510.921875 427.691406 510.921875 433.214844 \"/>\n<path style=\"fill-rule:nonzero;fill:rgb(100%,0%,0%);fill-opacity:1;stroke-width:1;stroke-linecap:butt;stroke-linejoin:miter;stroke:rgb(0%,0%,0%);stroke-opacity:1;stroke-miterlimit:10;\" d=\"M 487.019531 467.144531 C 487.019531 472.667969 482.542969 477.144531 477.019531 477.144531 C 471.496094 477.144531 467.019531 472.667969 467.019531 467.144531 C 467.019531 461.621094 471.496094 457.144531 477.019531 457.144531 C 482.542969 457.144531 487.019531 461.621094 487.019531 467.144531 \"/>\n<path style=\"fill-rule:nonzero;fill:rgb(100%,0%,0%);fill-opacity:1;stroke-width:1;stroke-linecap:butt;stroke-linejoin:miter;stroke:rgb(0%,0%,0%);stroke-opacity:1;stroke-miterlimit:10;\" d=\"M 418.914063 485.175781 C 418.914063 490.699219 414.4375 495.175781 408.914063 495.175781 C 403.390625 495.175781 398.914063 490.699219 398.914063 485.175781 C 398.914063 479.652344 403.390625 475.175781 408.914063 475.175781 C 414.4375 475.175781 418.914063 479.652344 418.914063 485.175781 \"/>\n<path style=\"fill-rule:nonzero;fill:rgb(100%,0%,0%);fill-opacity:1;stroke-width:1;stroke-linecap:butt;stroke-linejoin:miter;stroke:rgb(0%,0%,0%);stroke-opacity:1;stroke-miterlimit:10;\" d=\"M 302.566406 380.261719 C 302.566406 385.785156 298.089844 390.261719 292.566406 390.261719 C 287.042969 390.261719 282.566406 385.785156 282.566406 380.261719 C 282.566406 374.742188 287.042969 370.261719 292.566406 370.261719 C 298.089844 370.261719 302.566406 374.742188 302.566406 380.261719 \"/>\n<path style=\"fill-rule:nonzero;fill:rgb(100%,0%,0%);fill-opacity:1;stroke-width:1;stroke-linecap:butt;stroke-linejoin:miter;stroke:rgb(0%,0%,0%);stroke-opacity:1;stroke-miterlimit:10;\" d=\"M 266.113281 276.695313 C 266.113281 282.21875 261.636719 286.695313 256.113281 286.695313 C 250.589844 286.695313 246.113281 282.21875 246.113281 276.695313 C 246.113281 271.171875 250.589844 266.695313 256.113281 266.695313 C 261.636719 266.695313 266.113281 271.171875 266.113281 276.695313 \"/>\n<path style=\"fill-rule:nonzero;fill:rgb(100%,0%,0%);fill-opacity:1;stroke-width:1;stroke-linecap:butt;stroke-linejoin:miter;stroke:rgb(0%,0%,0%);stroke-opacity:1;stroke-miterlimit:10;\" d=\"M 406.03125 158.023438 C 406.03125 163.546875 401.554688 168.023438 396.03125 168.023438 C 390.507813 168.023438 386.03125 163.546875 386.03125 158.023438 C 386.03125 152.5 390.507813 148.023438 396.03125 148.023438 C 401.554688 148.023438 406.03125 152.5 406.03125 158.023438 \"/>\n<path style=\"fill-rule:nonzero;fill:rgb(100%,0%,0%);fill-opacity:1;stroke-width:1;stroke-linecap:butt;stroke-linejoin:miter;stroke:rgb(0%,0%,0%);stroke-opacity:1;stroke-miterlimit:10;\" d=\"M 379.210938 466.027344 C 379.210938 471.550781 374.734375 476.027344 369.210938 476.027344 C 363.6875 476.027344 359.210938 471.550781 359.210938 466.027344 C 359.210938 460.503906 363.6875 456.027344 369.210938 456.027344 C 374.734375 456.027344 379.210938 460.503906 379.210938 466.027344 \"/>\n<path style=\"fill-rule:nonzero;fill:rgb(100%,0%,0%);fill-opacity:1;stroke-width:1;stroke-linecap:butt;stroke-linejoin:miter;stroke:rgb(0%,0%,0%);stroke-opacity:1;stroke-miterlimit:10;\" d=\"M 590 307.03125 C 590 312.550781 585.523438 317.03125 580 317.03125 C 574.476563 317.03125 570 312.550781 570 307.03125 C 570 301.507813 574.476563 297.03125 580 297.03125 C 585.523438 297.03125 590 301.507813 590 307.03125 \"/>\n<path style=\"fill-rule:nonzero;fill:rgb(100%,0%,0%);fill-opacity:1;stroke-width:1;stroke-linecap:butt;stroke-linejoin:miter;stroke:rgb(0%,0%,0%);stroke-opacity:1;stroke-miterlimit:10;\" d=\"M 576.53125 349.015625 C 576.53125 354.539063 572.050781 359.015625 566.53125 359.015625 C 561.007813 359.015625 556.53125 354.539063 556.53125 349.015625 C 556.53125 343.492188 561.007813 339.015625 566.53125 339.015625 C 572.050781 339.015625 576.53125 343.492188 576.53125 349.015625 \"/>\n<path style=\"fill-rule:nonzero;fill:rgb(100%,0%,0%);fill-opacity:1;stroke-width:1;stroke-linecap:butt;stroke-linejoin:miter;stroke:rgb(0%,0%,0%);stroke-opacity:1;stroke-miterlimit:10;\" d=\"M 323.078125 282.003906 C 323.078125 287.527344 318.601563 292.003906 313.078125 292.003906 C 307.554688 292.003906 303.078125 287.527344 303.078125 282.003906 C 303.078125 276.480469 307.554688 272.003906 313.078125 272.003906 C 318.601563 272.003906 323.078125 276.480469 323.078125 282.003906 \"/>\n<path style=\"fill-rule:nonzero;fill:rgb(100%,0%,0%);fill-opacity:1;stroke-width:1;stroke-linecap:butt;stroke-linejoin:miter;stroke:rgb(0%,0%,0%);stroke-opacity:1;stroke-miterlimit:10;\" d=\"M 91.292969 153.710938 C 91.292969 159.234375 86.816406 163.710938 81.292969 163.710938 C 75.769531 163.710938 71.292969 159.234375 71.292969 153.710938 C 71.292969 148.1875 75.769531 143.710938 81.292969 143.710938 C 86.816406 143.710938 91.292969 148.1875 91.292969 153.710938 \"/>\n<path style=\"fill-rule:nonzero;fill:rgb(100%,0%,0%);fill-opacity:1;stroke-width:1;stroke-linecap:butt;stroke-linejoin:miter;stroke:rgb(0%,0%,0%);stroke-opacity:1;stroke-miterlimit:10;\" d=\"M 151.6875 83.515625 C 151.6875 89.039063 147.210938 93.515625 141.6875 93.515625 C 136.164063 93.515625 131.6875 89.039063 131.6875 83.515625 C 131.6875 77.992188 136.164063 73.515625 141.6875 73.515625 C 147.210938 73.515625 151.6875 77.992188 151.6875 83.515625 \"/>\n<path style=\"fill-rule:nonzero;fill:rgb(100%,0%,0%);fill-opacity:1;stroke-width:1;stroke-linecap:butt;stroke-linejoin:miter;stroke:rgb(0%,0%,0%);stroke-opacity:1;stroke-miterlimit:10;\" d=\"M 493.996094 580 C 493.996094 585.523438 489.519531 590 483.996094 590 C 478.476563 590 473.996094 585.523438 473.996094 580 C 473.996094 574.476563 478.476563 570 483.996094 570 C 489.519531 570 493.996094 574.476563 493.996094 580 \"/>\n<path style=\"fill-rule:nonzero;fill:rgb(100%,0%,0%);fill-opacity:1;stroke-width:1;stroke-linecap:butt;stroke-linejoin:miter;stroke:rgb(0%,0%,0%);stroke-opacity:1;stroke-miterlimit:10;\" d=\"M 281.792969 451.628906 C 281.792969 457.152344 277.316406 461.628906 271.792969 461.628906 C 266.269531 461.628906 261.792969 457.152344 261.792969 451.628906 C 261.792969 446.109375 266.269531 441.628906 271.792969 441.628906 C 277.316406 441.628906 281.792969 446.109375 281.792969 451.628906 \"/>\n<path style=\"fill-rule:nonzero;fill:rgb(100%,0%,0%);fill-opacity:1;stroke-width:1;stroke-linecap:butt;stroke-linejoin:miter;stroke:rgb(0%,0%,0%);stroke-opacity:1;stroke-miterlimit:10;\" d=\"M 114.578125 114.617188 C 114.578125 120.140625 110.101563 124.617188 104.578125 124.617188 C 99.054688 124.617188 94.578125 120.140625 94.578125 114.617188 C 94.578125 109.09375 99.054688 104.617188 104.578125 104.617188 C 110.101563 104.617188 114.578125 109.09375 114.578125 114.617188 \"/>\n<path style=\"fill-rule:nonzero;fill:rgb(100%,0%,0%);fill-opacity:1;stroke-width:1;stroke-linecap:butt;stroke-linejoin:miter;stroke:rgb(0%,0%,0%);stroke-opacity:1;stroke-miterlimit:10;\" d=\"M 246.933594 315.164063 C 246.933594 320.6875 242.453125 325.164063 236.933594 325.164063 C 231.410156 325.164063 226.933594 320.6875 226.933594 315.164063 C 226.933594 309.640625 231.410156 305.164063 236.933594 305.164063 C 242.453125 305.164063 246.933594 309.640625 246.933594 315.164063 \"/>\n<path style=\"fill-rule:nonzero;fill:rgb(100%,0%,0%);fill-opacity:1;stroke-width:1;stroke-linecap:butt;stroke-linejoin:miter;stroke:rgb(0%,0%,0%);stroke-opacity:1;stroke-miterlimit:10;\" d=\"M 92.742188 200.652344 C 92.742188 206.175781 88.265625 210.652344 82.742188 210.652344 C 77.21875 210.652344 72.742188 206.175781 72.742188 200.652344 C 72.742188 195.132813 77.21875 190.652344 82.742188 190.652344 C 88.265625 190.652344 92.742188 195.132813 92.742188 200.652344 \"/>\n<path style=\"fill-rule:nonzero;fill:rgb(100%,0%,0%);fill-opacity:1;stroke-width:1;stroke-linecap:butt;stroke-linejoin:miter;stroke:rgb(0%,0%,0%);stroke-opacity:1;stroke-miterlimit:10;\" d=\"M 513.464844 375.890625 C 513.464844 381.414063 508.988281 385.890625 503.464844 385.890625 C 497.941406 385.890625 493.464844 381.414063 493.464844 375.890625 C 493.464844 370.367188 497.941406 365.890625 503.464844 365.890625 C 508.988281 365.890625 513.464844 370.367188 513.464844 375.890625 \"/>\n<path style=\"fill-rule:nonzero;fill:rgb(100%,0%,0%);fill-opacity:1;stroke-width:1;stroke-linecap:butt;stroke-linejoin:miter;stroke:rgb(0%,0%,0%);stroke-opacity:1;stroke-miterlimit:10;\" d=\"M 30 245.152344 C 30 250.675781 25.523438 255.152344 20 255.152344 C 14.476563 255.152344 10 250.675781 10 245.152344 C 10 239.628906 14.476563 235.152344 20 235.152344 C 25.523438 235.152344 30 239.628906 30 245.152344 \"/>\n<path style=\"fill-rule:nonzero;fill:rgb(100%,0%,0%);fill-opacity:1;stroke-width:1;stroke-linecap:butt;stroke-linejoin:miter;stroke:rgb(0%,0%,0%);stroke-opacity:1;stroke-miterlimit:10;\" d=\"M 314.128906 69.152344 C 314.128906 74.675781 309.652344 79.152344 304.128906 79.152344 C 298.605469 79.152344 294.128906 74.675781 294.128906 69.152344 C 294.128906 63.632813 298.605469 59.152344 304.128906 59.152344 C 309.652344 59.152344 314.128906 63.632813 314.128906 69.152344 \"/>\n<path style=\"fill-rule:nonzero;fill:rgb(100%,0%,0%);fill-opacity:1;stroke-width:1;stroke-linecap:butt;stroke-linejoin:miter;stroke:rgb(0%,0%,0%);stroke-opacity:1;stroke-miterlimit:10;\" d=\"M 539.542969 141.511719 C 539.542969 147.035156 535.0625 151.511719 529.542969 151.511719 C 524.019531 151.511719 519.542969 147.035156 519.542969 141.511719 C 519.542969 135.988281 524.019531 131.511719 529.542969 131.511719 C 535.0625 131.511719 539.542969 135.988281 539.542969 141.511719 \"/>\n<path style=\"fill-rule:nonzero;fill:rgb(100%,0%,0%);fill-opacity:1;stroke-width:1;stroke-linecap:butt;stroke-linejoin:miter;stroke:rgb(0%,0%,0%);stroke-opacity:1;stroke-miterlimit:10;\" d=\"M 479.90625 82.085938 C 479.90625 87.609375 475.429688 92.085938 469.90625 92.085938 C 464.382813 92.085938 459.90625 87.609375 459.90625 82.085938 C 459.90625 76.5625 464.382813 72.085938 469.90625 72.085938 C 475.429688 72.085938 479.90625 76.5625 479.90625 82.085938 \"/>\n<path style=\"fill-rule:nonzero;fill:rgb(100%,0%,0%);fill-opacity:1;stroke-width:1;stroke-linecap:butt;stroke-linejoin:miter;stroke:rgb(0%,0%,0%);stroke-opacity:1;stroke-miterlimit:10;\" d=\"M 258.820313 20 C 258.820313 25.523438 254.34375 30 248.820313 30 C 243.296875 30 238.820313 25.523438 238.820313 20 C 238.820313 14.476563 243.296875 10 248.820313 10 C 254.34375 10 258.820313 14.476563 258.820313 20 \"/>\n<path style=\"fill-rule:nonzero;fill:rgb(100%,0%,0%);fill-opacity:1;stroke-width:1;stroke-linecap:butt;stroke-linejoin:miter;stroke:rgb(0%,0%,0%);stroke-opacity:1;stroke-miterlimit:10;\" d=\"M 393.898438 127.121094 C 393.898438 132.644531 389.421875 137.121094 383.898438 137.121094 C 378.375 137.121094 373.898438 132.644531 373.898438 127.121094 C 373.898438 121.597656 378.375 117.121094 383.898438 117.121094 C 389.421875 117.121094 393.898438 121.597656 393.898438 127.121094 \"/>\n<path style=\"fill-rule:nonzero;fill:rgb(100%,0%,0%);fill-opacity:1;stroke-width:1;stroke-linecap:butt;stroke-linejoin:miter;stroke:rgb(0%,0%,0%);stroke-opacity:1;stroke-miterlimit:10;\" d=\"M 337.746094 151.035156 C 337.746094 156.558594 333.269531 161.035156 327.746094 161.035156 C 322.222656 161.035156 317.746094 156.558594 317.746094 151.035156 C 317.746094 145.511719 322.222656 141.035156 327.746094 141.035156 C 333.269531 141.035156 337.746094 145.511719 337.746094 151.035156 \"/>\n<path style=\"fill-rule:nonzero;fill:rgb(100%,0%,0%);fill-opacity:1;stroke-width:1;stroke-linecap:butt;stroke-linejoin:miter;stroke:rgb(0%,0%,0%);stroke-opacity:1;stroke-miterlimit:10;\" d=\"M 212.5625 71.648438 C 212.5625 77.171875 208.085938 81.648438 202.5625 81.648438 C 197.039063 81.648438 192.5625 77.171875 192.5625 71.648438 C 192.5625 66.125 197.039063 61.648438 202.5625 61.648438 C 208.085938 61.648438 212.5625 66.125 212.5625 71.648438 \"/>\n<path style=\"fill-rule:nonzero;fill:rgb(100%,0%,0%);fill-opacity:1;stroke-width:1;stroke-linecap:butt;stroke-linejoin:miter;stroke:rgb(0%,0%,0%);stroke-opacity:1;stroke-miterlimit:10;\" d=\"M 176.777344 280.414063 C 176.777344 285.9375 172.300781 290.414063 166.777344 290.414063 C 161.253906 290.414063 156.777344 285.9375 156.777344 280.414063 C 156.777344 274.890625 161.253906 270.414063 166.777344 270.414063 C 172.300781 270.414063 176.777344 274.890625 176.777344 280.414063 \"/>\n<path style=\"fill-rule:nonzero;fill:rgb(100%,0%,0%);fill-opacity:1;stroke-width:1;stroke-linecap:butt;stroke-linejoin:miter;stroke:rgb(0%,0%,0%);stroke-opacity:1;stroke-miterlimit:10;\" d=\"M 399.753906 212.472656 C 399.753906 217.996094 395.277344 222.472656 389.753906 222.472656 C 384.230469 222.472656 379.753906 217.996094 379.753906 212.472656 C 379.753906 206.949219 384.230469 202.472656 389.753906 202.472656 C 395.277344 202.472656 399.753906 206.949219 399.753906 212.472656 \"/>\n<path style=\"fill-rule:nonzero;fill:rgb(100%,0%,0%);fill-opacity:1;stroke-width:1;stroke-linecap:butt;stroke-linejoin:miter;stroke:rgb(0%,0%,0%);stroke-opacity:1;stroke-miterlimit:10;\" d=\"M 206.257813 188.609375 C 206.257813 194.132813 201.78125 198.609375 196.257813 198.609375 C 190.738281 198.609375 186.257813 194.132813 186.257813 188.609375 C 186.257813 183.085938 190.738281 178.609375 196.257813 178.609375 C 201.78125 178.609375 206.257813 183.085938 206.257813 188.609375 \"/>\n<path style=\"fill-rule:nonzero;fill:rgb(100%,0%,0%);fill-opacity:1;stroke-width:1;stroke-linecap:butt;stroke-linejoin:miter;stroke:rgb(0%,0%,0%);stroke-opacity:1;stroke-miterlimit:10;\" d=\"M 252.046875 167.046875 C 252.046875 172.570313 247.566406 177.046875 242.046875 177.046875 C 236.523438 177.046875 232.046875 172.570313 232.046875 167.046875 C 232.046875 161.527344 236.523438 157.046875 242.046875 157.046875 C 247.566406 157.046875 252.046875 161.527344 252.046875 167.046875 \"/>\n</g>\n</svg>\n",
      "text/plain": [
       "<igraph.drawing.Plot at 0x1804d2dad88>"
      ]
     },
     "execution_count": 7,
     "metadata": {
      "image/svg+xml": {
       "isolated": true
      }
     },
     "output_type": "execute_result"
    }
   ],
   "source": [
    "# {\"5_2\"}\n",
    "#Plotten Sie den Graphen karate\n",
    "plot(graph_karate)"
   ]
  },
  {
   "cell_type": "code",
   "execution_count": 8,
   "metadata": {},
   "outputs": [
    {
     "data": {
      "image/svg+xml": "<?xml version=\"1.0\" encoding=\"UTF-8\"?>\n<svg xmlns=\"http://www.w3.org/2000/svg\" xmlns:xlink=\"http://www.w3.org/1999/xlink\" width=\"600pt\" height=\"600pt\" viewBox=\"0 0 600 600\" version=\"1.1\">\n<g id=\"surface8\">\n<rect x=\"0\" y=\"0\" width=\"600\" height=\"600\" style=\"fill:rgb(100%,100%,100%);fill-opacity:1;stroke:none;\"/>\n<path style=\"fill:none;stroke-width:1;stroke-linecap:butt;stroke-linejoin:miter;stroke:rgb(26.666667%,26.666667%,26.666667%);stroke-opacity:1;stroke-miterlimit:10;\" d=\"M 415.886719 580 C 331.425781 506.6875 242.179688 500.304688 148.148438 560.863281 \"/>\n<path style=\"fill:none;stroke-width:1;stroke-linecap:butt;stroke-linejoin:miter;stroke:rgb(26.666667%,26.666667%,26.666667%);stroke-opacity:1;stroke-miterlimit:10;\" d=\"M 415.886719 580 C 487.15625 598.941406 541.859375 576.855469 580 513.742188 \"/>\n<path style=\"fill:none;stroke-width:1;stroke-linecap:butt;stroke-linejoin:miter;stroke:rgb(26.666667%,26.666667%,26.666667%);stroke-opacity:1;stroke-miterlimit:10;\" d=\"M 415.886719 580 C 396.679688 524.070313 357.539063 497.492188 298.464844 500.273438 \"/>\n<path style=\"fill:none;stroke-width:1;stroke-linecap:butt;stroke-linejoin:miter;stroke:rgb(26.666667%,26.666667%,26.666667%);stroke-opacity:1;stroke-miterlimit:10;\" d=\"M 415.886719 580 C 468.265625 533.527344 479.480469 478.644531 449.53125 415.351563 \"/>\n<path style=\"fill:none;stroke-width:1;stroke-linecap:butt;stroke-linejoin:miter;stroke:rgb(26.666667%,26.666667%,26.666667%);stroke-opacity:1;stroke-miterlimit:10;\" d=\"M 415.886719 580 C 321.855469 640.554688 232.609375 634.175781 148.148438 560.863281 \"/>\n<path style=\"fill:none;stroke-width:1;stroke-linecap:butt;stroke-linejoin:miter;stroke:rgb(26.666667%,26.666667%,26.666667%);stroke-opacity:1;stroke-miterlimit:10;\" d=\"M 148.148438 560.863281 C 213.402344 578.246094 263.507813 558.046875 298.464844 500.273438 \"/>\n<path style=\"fill:none;stroke-width:1;stroke-linecap:butt;stroke-linejoin:miter;stroke:rgb(26.666667%,26.666667%,26.666667%);stroke-opacity:1;stroke-miterlimit:10;\" d=\"M 148.148438 560.863281 C 127.21875 499.777344 84.503906 470.726563 20 473.714844 \"/>\n<path style=\"fill:none;stroke-width:1;stroke-linecap:butt;stroke-linejoin:miter;stroke:rgb(26.666667%,26.666667%,26.666667%);stroke-opacity:1;stroke-miterlimit:10;\" d=\"M 148.148438 560.863281 C 203.601563 517.058594 218.066406 462.410156 191.542969 396.910156 \"/>\n<path style=\"fill:none;stroke-width:1;stroke-linecap:butt;stroke-linejoin:miter;stroke:rgb(26.666667%,26.666667%,26.666667%);stroke-opacity:1;stroke-miterlimit:10;\" d=\"M 415.886719 580 C 454.027344 516.886719 508.730469 494.800781 580 513.742188 \"/>\n<path style=\"fill:none;stroke-width:1;stroke-linecap:butt;stroke-linejoin:miter;stroke:rgb(26.666667%,26.666667%,26.666667%);stroke-opacity:1;stroke-miterlimit:10;\" d=\"M 580 513.742188 C 489.523438 438.867188 395.679688 434.378906 298.464844 500.273438 \"/>\n<path style=\"fill:none;stroke-width:1;stroke-linecap:butt;stroke-linejoin:miter;stroke:rgb(26.666667%,26.666667%,26.666667%);stroke-opacity:1;stroke-miterlimit:10;\" d=\"M 580 513.742188 C 561.109375 448.328125 517.617188 415.53125 449.53125 415.351563 \"/>\n<path style=\"fill:none;stroke-width:1;stroke-linecap:butt;stroke-linejoin:miter;stroke:rgb(26.666667%,26.666667%,26.666667%);stroke-opacity:1;stroke-miterlimit:10;\" d=\"M 415.886719 580 C 356.816406 582.78125 317.675781 556.203125 298.464844 500.273438 \"/>\n<path style=\"fill:none;stroke-width:1;stroke-linecap:butt;stroke-linejoin:miter;stroke:rgb(26.666667%,26.666667%,26.666667%);stroke-opacity:1;stroke-miterlimit:10;\" d=\"M 148.148438 560.863281 C 183.105469 503.085938 233.210938 482.890625 298.464844 500.273438 \"/>\n<path style=\"fill:none;stroke-width:1;stroke-linecap:butt;stroke-linejoin:miter;stroke:rgb(26.666667%,26.666667%,26.666667%);stroke-opacity:1;stroke-miterlimit:10;\" d=\"M 580 513.742188 C 482.789063 579.636719 388.941406 575.144531 298.464844 500.273438 \"/>\n<path style=\"fill:none;stroke-width:1;stroke-linecap:butt;stroke-linejoin:miter;stroke:rgb(26.666667%,26.666667%,26.666667%);stroke-opacity:1;stroke-miterlimit:10;\" d=\"M 298.464844 500.273438 C 212.285156 421.804688 119.460938 412.949219 20 473.714844 \"/>\n<path style=\"fill:none;stroke-width:1;stroke-linecap:butt;stroke-linejoin:miter;stroke:rgb(26.666667%,26.666667%,26.666667%);stroke-opacity:1;stroke-miterlimit:10;\" d=\"M 298.464844 500.273438 C 370.050781 509.730469 420.40625 481.421875 449.53125 415.351563 \"/>\n<path style=\"fill:none;stroke-width:1;stroke-linecap:butt;stroke-linejoin:miter;stroke:rgb(26.666667%,26.666667%,26.666667%);stroke-opacity:1;stroke-miterlimit:10;\" d=\"M 298.464844 500.273438 C 288.664063 439.085938 253.023438 404.632813 191.542969 396.910156 \"/>\n<path style=\"fill:none;stroke-width:1;stroke-linecap:butt;stroke-linejoin:miter;stroke:rgb(26.666667%,26.666667%,26.666667%);stroke-opacity:1;stroke-miterlimit:10;\" d=\"M 148.148438 560.863281 C 83.644531 563.847656 40.929688 534.800781 20 473.714844 \"/>\n<path style=\"fill:none;stroke-width:1;stroke-linecap:butt;stroke-linejoin:miter;stroke:rgb(26.666667%,26.666667%,26.666667%);stroke-opacity:1;stroke-miterlimit:10;\" d=\"M 298.464844 500.273438 C 199.003906 561.035156 106.183594 552.183594 20 473.714844 \"/>\n<path style=\"fill:none;stroke-width:1;stroke-linecap:butt;stroke-linejoin:miter;stroke:rgb(26.666667%,26.666667%,26.666667%);stroke-opacity:1;stroke-miterlimit:10;\" d=\"M 20 473.714844 C 96.382813 490.996094 153.5625 465.394531 191.542969 396.910156 \"/>\n<path style=\"fill:none;stroke-width:1;stroke-linecap:butt;stroke-linejoin:miter;stroke:rgb(26.666667%,26.666667%,26.666667%);stroke-opacity:1;stroke-miterlimit:10;\" d=\"M 415.886719 580 C 385.9375 516.707031 397.152344 461.824219 449.53125 415.351563 \"/>\n<path style=\"fill:none;stroke-width:1;stroke-linecap:butt;stroke-linejoin:miter;stroke:rgb(26.666667%,26.666667%,26.666667%);stroke-opacity:1;stroke-miterlimit:10;\" d=\"M 580 513.742188 C 511.910156 513.5625 468.421875 480.765625 449.53125 415.351563 \"/>\n<path style=\"fill:none;stroke-width:1;stroke-linecap:butt;stroke-linejoin:miter;stroke:rgb(26.666667%,26.666667%,26.666667%);stroke-opacity:1;stroke-miterlimit:10;\" d=\"M 298.464844 500.273438 C 327.589844 434.199219 377.945313 405.890625 449.53125 415.351563 \"/>\n<path style=\"fill:none;stroke-width:1;stroke-linecap:butt;stroke-linejoin:miter;stroke:rgb(26.666667%,26.666667%,26.666667%);stroke-opacity:1;stroke-miterlimit:10;\" d=\"M 449.53125 415.351563 C 368.144531 344.707031 282.148438 338.558594 191.542969 396.910156 \"/>\n<path style=\"fill:none;stroke-width:1;stroke-linecap:butt;stroke-linejoin:miter;stroke:rgb(26.666667%,26.666667%,26.666667%);stroke-opacity:1;stroke-miterlimit:10;\" d=\"M 449.53125 415.351563 C 447.144531 347.957031 413.273438 305.96875 347.90625 289.386719 \"/>\n<path style=\"fill:none;stroke-width:1;stroke-linecap:butt;stroke-linejoin:miter;stroke:rgb(26.666667%,26.666667%,26.666667%);stroke-opacity:1;stroke-miterlimit:10;\" d=\"M 148.148438 560.863281 C 121.625 495.363281 136.089844 440.710938 191.542969 396.910156 \"/>\n<path style=\"fill:none;stroke-width:1;stroke-linecap:butt;stroke-linejoin:miter;stroke:rgb(26.666667%,26.666667%,26.666667%);stroke-opacity:1;stroke-miterlimit:10;\" d=\"M 298.464844 500.273438 C 236.984375 492.546875 201.34375 458.09375 191.542969 396.910156 \"/>\n<path style=\"fill:none;stroke-width:1;stroke-linecap:butt;stroke-linejoin:miter;stroke:rgb(26.666667%,26.666667%,26.666667%);stroke-opacity:1;stroke-miterlimit:10;\" d=\"M 20 473.714844 C 57.980469 405.226563 115.160156 379.625 191.542969 396.910156 \"/>\n<path style=\"fill:none;stroke-width:1;stroke-linecap:butt;stroke-linejoin:miter;stroke:rgb(26.666667%,26.666667%,26.666667%);stroke-opacity:1;stroke-miterlimit:10;\" d=\"M 449.53125 415.351563 C 358.925781 473.699219 272.929688 467.550781 191.542969 396.910156 \"/>\n<path style=\"fill:none;stroke-width:1;stroke-linecap:butt;stroke-linejoin:miter;stroke:rgb(26.666667%,26.666667%,26.666667%);stroke-opacity:1;stroke-miterlimit:10;\" d=\"M 191.542969 396.910156 C 270.542969 400.160156 322.664063 364.320313 347.90625 289.386719 \"/>\n<path style=\"fill:none;stroke-width:1;stroke-linecap:butt;stroke-linejoin:miter;stroke:rgb(26.666667%,26.666667%,26.666667%);stroke-opacity:1;stroke-miterlimit:10;\" d=\"M 449.53125 415.351563 C 384.164063 398.769531 350.289063 356.78125 347.90625 289.386719 \"/>\n<path style=\"fill:none;stroke-width:1;stroke-linecap:butt;stroke-linejoin:miter;stroke:rgb(26.666667%,26.666667%,26.666667%);stroke-opacity:1;stroke-miterlimit:10;\" d=\"M 191.542969 396.910156 C 216.785156 321.976563 268.90625 286.136719 347.90625 289.386719 \"/>\n<path style=\"fill:none;stroke-width:1;stroke-linecap:butt;stroke-linejoin:miter;stroke:rgb(26.666667%,26.666667%,26.666667%);stroke-opacity:1;stroke-miterlimit:10;\" d=\"M 347.90625 289.386719 C 392.632813 251.941406 403.285156 206.503906 379.863281 153.082031 \"/>\n<path style=\"fill:none;stroke-width:1;stroke-linecap:butt;stroke-linejoin:miter;stroke:rgb(26.666667%,26.666667%,26.666667%);stroke-opacity:1;stroke-miterlimit:10;\" d=\"M 347.90625 289.386719 C 324.480469 235.964844 335.132813 190.527344 379.863281 153.082031 \"/>\n<path style=\"fill:none;stroke-width:1;stroke-linecap:butt;stroke-linejoin:miter;stroke:rgb(26.666667%,26.666667%,26.666667%);stroke-opacity:1;stroke-miterlimit:10;\" d=\"M 379.863281 153.082031 L 411.0625 20 \"/>\n<path style=\"fill-rule:nonzero;fill:rgb(100%,0%,0%);fill-opacity:1;stroke-width:1;stroke-linecap:butt;stroke-linejoin:miter;stroke:rgb(0%,0%,0%);stroke-opacity:1;stroke-miterlimit:10;\" d=\"M 425.886719 580 C 425.886719 585.523438 421.410156 590 415.886719 590 C 410.363281 590 405.886719 585.523438 405.886719 580 C 405.886719 574.476563 410.363281 570 415.886719 570 C 421.410156 570 425.886719 574.476563 425.886719 580 \"/>\n<path style=\"fill-rule:nonzero;fill:rgb(100%,0%,0%);fill-opacity:1;stroke-width:1;stroke-linecap:butt;stroke-linejoin:miter;stroke:rgb(0%,0%,0%);stroke-opacity:1;stroke-miterlimit:10;\" d=\"M 158.148438 560.863281 C 158.148438 566.382813 153.671875 570.863281 148.148438 570.863281 C 142.625 570.863281 138.148438 566.382813 138.148438 560.863281 C 138.148438 555.339844 142.625 550.863281 148.148438 550.863281 C 153.671875 550.863281 158.148438 555.339844 158.148438 560.863281 \"/>\n<path style=\"fill-rule:nonzero;fill:rgb(100%,0%,0%);fill-opacity:1;stroke-width:1;stroke-linecap:butt;stroke-linejoin:miter;stroke:rgb(0%,0%,0%);stroke-opacity:1;stroke-miterlimit:10;\" d=\"M 590 513.742188 C 590 519.265625 585.523438 523.742188 580 523.742188 C 574.476563 523.742188 570 519.265625 570 513.742188 C 570 508.21875 574.476563 503.742188 580 503.742188 C 585.523438 503.742188 590 508.21875 590 513.742188 \"/>\n<path style=\"fill-rule:nonzero;fill:rgb(100%,0%,0%);fill-opacity:1;stroke-width:1;stroke-linecap:butt;stroke-linejoin:miter;stroke:rgb(0%,0%,0%);stroke-opacity:1;stroke-miterlimit:10;\" d=\"M 308.464844 500.273438 C 308.464844 505.796875 303.988281 510.273438 298.464844 510.273438 C 292.941406 510.273438 288.464844 505.796875 288.464844 500.273438 C 288.464844 494.75 292.941406 490.273438 298.464844 490.273438 C 303.988281 490.273438 308.464844 494.75 308.464844 500.273438 \"/>\n<path style=\"fill-rule:nonzero;fill:rgb(100%,0%,0%);fill-opacity:1;stroke-width:1;stroke-linecap:butt;stroke-linejoin:miter;stroke:rgb(0%,0%,0%);stroke-opacity:1;stroke-miterlimit:10;\" d=\"M 30 473.714844 C 30 479.238281 25.523438 483.714844 20 483.714844 C 14.476563 483.714844 10 479.238281 10 473.714844 C 10 468.191406 14.476563 463.714844 20 463.714844 C 25.523438 463.714844 30 468.191406 30 473.714844 \"/>\n<path style=\"fill-rule:nonzero;fill:rgb(100%,0%,0%);fill-opacity:1;stroke-width:1;stroke-linecap:butt;stroke-linejoin:miter;stroke:rgb(0%,0%,0%);stroke-opacity:1;stroke-miterlimit:10;\" d=\"M 459.53125 415.351563 C 459.53125 420.871094 455.054688 425.351563 449.53125 425.351563 C 444.007813 425.351563 439.53125 420.871094 439.53125 415.351563 C 439.53125 409.828125 444.007813 405.351563 449.53125 405.351563 C 455.054688 405.351563 459.53125 409.828125 459.53125 415.351563 \"/>\n<path style=\"fill-rule:nonzero;fill:rgb(100%,0%,0%);fill-opacity:1;stroke-width:1;stroke-linecap:butt;stroke-linejoin:miter;stroke:rgb(0%,0%,0%);stroke-opacity:1;stroke-miterlimit:10;\" d=\"M 201.542969 396.910156 C 201.542969 402.433594 197.066406 406.910156 191.542969 406.910156 C 186.019531 406.910156 181.542969 402.433594 181.542969 396.910156 C 181.542969 391.386719 186.019531 386.910156 191.542969 386.910156 C 197.066406 386.910156 201.542969 391.386719 201.542969 396.910156 \"/>\n<path style=\"fill-rule:nonzero;fill:rgb(100%,0%,0%);fill-opacity:1;stroke-width:1;stroke-linecap:butt;stroke-linejoin:miter;stroke:rgb(0%,0%,0%);stroke-opacity:1;stroke-miterlimit:10;\" d=\"M 357.90625 289.386719 C 357.90625 294.910156 353.429688 299.386719 347.90625 299.386719 C 342.382813 299.386719 337.90625 294.910156 337.90625 289.386719 C 337.90625 283.863281 342.382813 279.386719 347.90625 279.386719 C 353.429688 279.386719 357.90625 283.863281 357.90625 289.386719 \"/>\n<path style=\"fill-rule:nonzero;fill:rgb(100%,0%,0%);fill-opacity:1;stroke-width:1;stroke-linecap:butt;stroke-linejoin:miter;stroke:rgb(0%,0%,0%);stroke-opacity:1;stroke-miterlimit:10;\" d=\"M 389.863281 153.082031 C 389.863281 158.605469 385.382813 163.082031 379.863281 163.082031 C 374.339844 163.082031 369.863281 158.605469 369.863281 153.082031 C 369.863281 147.558594 374.339844 143.082031 379.863281 143.082031 C 385.382813 143.082031 389.863281 147.558594 389.863281 153.082031 \"/>\n<path style=\"fill-rule:nonzero;fill:rgb(100%,0%,0%);fill-opacity:1;stroke-width:1;stroke-linecap:butt;stroke-linejoin:miter;stroke:rgb(0%,0%,0%);stroke-opacity:1;stroke-miterlimit:10;\" d=\"M 421.0625 20 C 421.0625 25.523438 416.585938 30 411.0625 30 C 405.539063 30 401.0625 25.523438 401.0625 20 C 401.0625 14.476563 405.539063 10 411.0625 10 C 416.585938 10 421.0625 14.476563 421.0625 20 \"/>\n</g>\n</svg>\n",
      "text/plain": [
       "<igraph.drawing.Plot at 0x1804d739c88>"
      ]
     },
     "execution_count": 8,
     "metadata": {
      "image/svg+xml": {
       "isolated": true
      }
     },
     "output_type": "execute_result"
    }
   ],
   "source": [
    "#Plotten Sie den Graphen Kite\n",
    "plot(graph_kite)"
   ]
  },
  {
   "cell_type": "markdown",
   "metadata": {},
   "source": [
    "Wie Sie sehen können, sind die zwei Netzwerke sehr unterschiedlich. Im Netzwerk *karate* (Zachary, 1977) stellen die Knoten Mitglieder eines Karateclubs dar und die Kanten Aktivitäten, welche die Mitglieder gemeinsam unternommen haben; Beim Netzwerk *kite* (Source \"Kite\" (2017); Krackhardt, 1990) handelt es sich um ein nichtreales soziales Netzwerk."
   ]
  },
  {
   "cell_type": "markdown",
   "metadata": {},
   "source": [
    "## a) Gradbasierte Maße - Node Degree und Degree Distribution"
   ]
  },
  {
   "cell_type": "markdown",
   "metadata": {},
   "source": [
    "### Aufgabe 5.3"
   ]
  },
  {
   "cell_type": "markdown",
   "metadata": {},
   "source": [
    "Wie Sie im Skript bereits gelernt haben, gibt der **Node Degree** (Grad) eines Knotens an, wie viele Kanten von ihm ausgehen. Bei gerichteten Graphen unterscheidet man zusätzlich zwischen **In-Degree** (Anzahl eingehender Kanten) und **Out-Degree** (Anzahl ausgehender Kanten).\n",
    "\n",
    "Im Package *'igraph'* gibt der Befehl *graph.degree(vertices, mode)* den Node Degree derjenigen Knoten an, die in einem Vektor dem Argument *vertices* übergeben werden. Per default werden die Node Degrees aller Knoten ausgegeben. Bei gerichteten Graphen muss zusätzlich der Modus (*mode*) *\"in\"*, *\"out\"* oder *\"all\"* festgelegt werden. Wie der Name sagt, erhält man beim *mode=\"in\"* den In-Degree, beim *mode=\"out\"* den Out-Degree und beim *mode=\"total\"* die Summe aus In- und Out-Degree zurück. \n",
    "- - -\n",
    "*Aufgabe:* Lassen Sie sich im folgenden Code-Chunk im (ungerichteten) Graphen *karate* den Node Degree vom Karate-Trainer *\"Mr Hi\"* und dem Präsidenten *\"John A\"* ausgeben.\n",
    "\n",
    "**Hinweis:** Mr Hi ist Knoten 1 und John A ist Knoten 34. Erinnern Sie sich daran, dass in Python die Indexierung bei 0 beginnt und Sie von dem Werten also entsprechend 1 subtrahieren müssen. \n",
    "- - -"
   ]
  },
  {
   "cell_type": "code",
   "execution_count": 9,
   "metadata": {},
   "outputs": [
    {
     "data": {
      "text/plain": [
       "[32, 32]"
      ]
     },
     "execution_count": 9,
     "metadata": {},
     "output_type": "execute_result"
    }
   ],
   "source": [
    "# {\"5_3\"}\n",
    "#Lassen Sie sich den Node Degree von \"Mr Hi\" und \"John A\" ausgeben\n",
    "# Mr Hi ist Knoten 1 und John A ist Knoten 34\n",
    "graph_karate.degree(vertices=[0, 33], mode='all')"
   ]
  },
  {
   "cell_type": "markdown",
   "metadata": {},
   "source": [
    "### Aufgabe 5.4"
   ]
  },
  {
   "cell_type": "markdown",
   "metadata": {},
   "source": [
    "Bezogen auf das gesamte Netzwerk lässt sich der sogenannte **Average Degree** berechnen - der Durchschnitt der Node Degrees aller Knoten. Im Falle eines gerichteten Graphen ist auch hier zu unterscheiden zwischen dem **Average In-Degree** und dem **Average Out-Degree**. \n",
    "- - -\n",
    "*Aufgabe:* Berechnen Sie für den Graphen *kite* und den Graphen *karate* jeweils den *Average Degree*. Beachten Sie, dass es hierfür keine separate Funktion gibt, sodass Sie tatsächlich den Mittelwert (*mean(x)*) der Node Degrees aller Knoten berechnen müssen. Folgen Sie den Angaben in den Kommentaren des nächsten Code-Chunks.\n",
    "- - -"
   ]
  },
  {
   "cell_type": "code",
   "execution_count": 10,
   "metadata": {},
   "outputs": [
    {
     "name": "stdout",
     "output_type": "stream",
     "text": [
      "7.0\n"
     ]
    }
   ],
   "source": [
    "# {\"5_4\"}\n",
    "#Berechnen Sie die Node Degrees aller Knoten des Graphen kite\n",
    "#und speichern Sie den Vektor in der Variable deg_kite\n",
    "deg_kite = graph_kite.degree()\n",
    "#Berechnen Sie nun den Average Degree des Graphen kite\n",
    "print(mean(deg_kite))"
   ]
  },
  {
   "cell_type": "markdown",
   "metadata": {},
   "source": [
    "### Aufgabe 5.5"
   ]
  },
  {
   "cell_type": "markdown",
   "metadata": {},
   "source": [
    "Im Durchschnitt ist somit jeder Knoten des Graphen *kite* mit 3.6 Knoten **(Aktuell noch abweichend, da höhere Kantenzahl)** verbunden. Der folgende Code-Chunk berechnet dieselbe Kennzahl für das Netzwerk *karate*. Führen Sie den Code aus.\n",
    "\n",
    "Wie Sie sehen werden, weichen die Graphen in dieser Kennzahl voneinander ab. Ist das alleine schon aussagekräftig?"
   ]
  },
  {
   "cell_type": "code",
   "execution_count": 11,
   "metadata": {},
   "outputs": [
    {
     "name": "stdout",
     "output_type": "stream",
     "text": [
      "9.058823529411764\n"
     ]
    }
   ],
   "source": [
    "# {\"5_5\"}\n",
    "#Berechnen Sie den Average Degree des Graphen karate\n",
    "deg_karate = graph_karate.degree(mode='all')\n",
    "print(mean(deg_karate))"
   ]
  },
  {
   "cell_type": "markdown",
   "metadata": {},
   "source": [
    "### Aufgabe 5.6"
   ]
  },
  {
   "cell_type": "markdown",
   "metadata": {},
   "source": [
    "- - -\n",
    "*Aufgabe:* Lassen Sie sich dazu mit Hilfe der Befehle *graph.vcount()* und *graph.ecount()* die Anzahl der Knoten bzw. Kanten der beiden Graphen ausgeben.\n",
    "- - -"
   ]
  },
  {
   "cell_type": "code",
   "execution_count": 13,
   "metadata": {},
   "outputs": [
    {
     "data": {
      "text/html": [
       "<div>\n",
       "<style scoped>\n",
       "    .dataframe tbody tr th:only-of-type {\n",
       "        vertical-align: middle;\n",
       "    }\n",
       "\n",
       "    .dataframe tbody tr th {\n",
       "        vertical-align: top;\n",
       "    }\n",
       "\n",
       "    .dataframe thead th {\n",
       "        text-align: right;\n",
       "    }\n",
       "</style>\n",
       "<table border=\"1\" class=\"dataframe\">\n",
       "  <thead>\n",
       "    <tr style=\"text-align: right;\">\n",
       "      <th></th>\n",
       "      <th>Knoten</th>\n",
       "      <th>Kanten</th>\n",
       "    </tr>\n",
       "  </thead>\n",
       "  <tbody>\n",
       "    <tr>\n",
       "      <th>Karate</th>\n",
       "      <td>34</td>\n",
       "      <td>154</td>\n",
       "    </tr>\n",
       "    <tr>\n",
       "      <th>Kite</th>\n",
       "      <td>10</td>\n",
       "      <td>35</td>\n",
       "    </tr>\n",
       "  </tbody>\n",
       "</table>\n",
       "</div>"
      ],
      "text/plain": [
       "        Knoten  Kanten\n",
       "Karate      34     154\n",
       "Kite        10      35"
      ]
     },
     "execution_count": 13,
     "metadata": {},
     "output_type": "execute_result"
    }
   ],
   "source": [
    "# {\"5_6\"}\n",
    "#Bezüglich Graph kite:\n",
    "#Speichern Sie die Anzahl Knoten in der Variable v_kite\n",
    "v_kite = graph_kite.vcount()\n",
    "#Speichern Sie die Anzahl Kanten in der Variable e_kite\n",
    "e_kite = graph_kite.ecount()\n",
    "#Bezüglich Graph karate:\n",
    "#Speichern Sie die Anzahl Knoten in der Variable v_karate\n",
    "v_karate = graph_karate.vcount()\n",
    "#Speichern Sie die Anzahl Kanten in der Variable e_karate\n",
    "e_karate = graph_karate.ecount()\n",
    "#Übersichtliche Ausgabe der Zahlen\n",
    "df_karate_kite = pd.DataFrame([[v_karate, e_karate], [v_kite, e_kite]], columns=['Knoten', 'Kanten'], index=['Karate', 'Kite'])\n",
    "df_karate_kite"
   ]
  },
  {
   "cell_type": "markdown",
   "metadata": {},
   "source": [
    "### Aufgabe 5.7"
   ]
  },
  {
   "cell_type": "markdown",
   "metadata": {},
   "source": [
    "Da der Graph *karate* sowohl in der Anzahl der Knoten, als auch in der Anzahl der Kanten größer ist als der Graph *kite*, besteht dennoch die Möglichkeit, dass die Graphen sich ähneln - obwohl der Average Degree unterschiedlich ausfällt. Untersuchen wir daher ein weiteres Merkmal - die **Degree Distribution**. Der Befehl *plt.hist(x, bins)* aus dem Package Matplotlib gibt ein Histogramm der Node Degrees aus. Das *x* steht hierbei für die zuvor berechneten Node Degrees.\n",
    "- - -\n",
    "*Aufgabe:* Wenden Sie diesen Befehl im folgenden Code-Chunk auf die Node Degrees der einzelnen Knoten an, um dadurch die Degree Distribution zu erhalten.\n",
    "- - -"
   ]
  },
  {
   "cell_type": "code",
   "execution_count": 18,
   "metadata": {},
   "outputs": [
    {
     "data": {
      "text/plain": [
       "(array([0., 1., 0., 1., 0., 0., 3., 0., 2., 0., 2.]),\n",
       " array([ 0,  1,  2,  3,  4,  5,  6,  7,  8,  9, 10, 11]),\n",
       " <BarContainer object of 11 artists>)"
      ]
     },
     "execution_count": 18,
     "metadata": {},
     "output_type": "execute_result"
    },
    {
     "data": {
      "image/png": "[encoded data removed]",
      "text/plain": [
       "<Figure size 432x288 with 1 Axes>"
      ]
     },
     "metadata": {
      "needs_background": "light"
     },
     "output_type": "display_data"
    }
   ],
   "source": [
    "# {\"5_7\"}\n",
    "#Lassen Sie sich die Degree Distribution des Graphen kite anzeigen\n",
    "#Verwenden Sie dazu die oben definierte Variable deg_kite\n",
    "plt.hist(deg_kite, bins=np.arange(0, max(deg_kite)))"
   ]
  },
  {
   "cell_type": "code",
   "execution_count": 19,
   "metadata": {},
   "outputs": [
    {
     "data": {
      "text/plain": [
       "(array([ 0.,  0.,  2.,  0., 10.,  0.,  6.,  0.,  6.,  0.,  3.,  0.,  2.,\n",
       "         0.,  0.,  0.,  0.,  0.,  1.,  0.,  1.,  0.,  0.,  0.,  1.,  0.,\n",
       "         0.,  0.,  0.,  0.,  0.]),\n",
       " array([ 0,  1,  2,  3,  4,  5,  6,  7,  8,  9, 10, 11, 12, 13, 14, 15, 16,\n",
       "        17, 18, 19, 20, 21, 22, 23, 24, 25, 26, 27, 28, 29, 30, 31]),\n",
       " <BarContainer object of 31 artists>)"
      ]
     },
     "execution_count": 19,
     "metadata": {},
     "output_type": "execute_result"
    },
    {
     "data": {
      "image/png": "[encoded data removed]",
      "text/plain": [
       "<Figure size 432x288 with 1 Axes>"
      ]
     },
     "metadata": {
      "needs_background": "light"
     },
     "output_type": "display_data"
    }
   ],
   "source": [
    "#Lassen Sie sich zum Vergleich die Degree Distribution\n",
    "#des Graphen karate anzeigen\n",
    "#Verwenden Sie dazu die oben definierte Variable deg_karate\n",
    "plt.hist(deg_karate, bins=np.arange(0, max(deg_karate)))"
   ]
  },
  {
   "cell_type": "markdown",
   "metadata": {},
   "source": [
    "Sie können erkennen, dass die beiden Graphen sich auch hinsichtlich der Degree Distribution $P(k)$ unterscheiden. Während die Node Degrees im Graph *kite* zwischen Node Degree=1 und Node Degree=6 eher gleichverteilt sind, ist die Degree Distribution des Graphen *karate* eher rechtsschief.\n",
    "\n",
    "Die Berechnungen - Average In-Degree, Average Out-Degree und die Degree Distribution - für gerichtete Graphen erfolgen analog, mit dem Unterschied, dass bei der Funktion *degree* das Argument *mode=\"in\"* bzw. *mode=\"out\"* verwendet wird. Da dies keinen grundlegenden Lernfortschritt mit sich bringt, verzichten wir an dieser Stelle auf eine beispielhafte Berechnung für gerichtete Graphen.\n",
    "\n",
    "### b) Gradbasierte Maße - Clustering Coefficient\n",
    "Neben dem Node Degree haben Sie noch ein weiteres gradbasiertes Maß im Skript kennengelernt: den **Clustering Coefficient** für ungerichtete Graphen.\n",
    "\n",
    "Im Package *'igraph'* gibt es den Befehl *transitivity*, welcher sowohl Local, als auch Average Clustering Coefficients für ungerichtete Graphen berechnen kann. Grundsätzlich sollte bei Clustering Coefficients stets darauf geachtet werden, wie sie berechnet werden. Um konsistent mit der Definition im Skript zu bleiben, werden wir daher lediglich den Local Clustering Coefficient $C_i$ mit dieser Formel berechnen:\n",
    "$$C_i=\\frac{2|L_i|}{k_i(k_i-1)}$$\n",
    "Dabei steht $|L_i|$ für die Anzahl an Verbindungen zwischen den Nachbarknoten von Knoten i und $k_i$ für den Node Degree von Knoten i.  \n",
    "Den globalen Clustering Coefficient, bei uns **Average Clustering Coefficient** $\\langle C \\rangle$ genannt, erhält man anschließend durch Mittelung der Local Clustering Coefficients:\n",
    "$$\\langle C \\rangle = \\frac{1}{|N|}\\sum_{i=1}^{|N|}C_i$$\n",
    "Hierbei steht $|N|$ wie gewohnt für die Anzahl aller Knoten im Graphen.\n",
    "\n",
    "Im folgenden Code wird die Funktion *graph.transitivity_local_undirected(vertices, mode, weights)* verwendet, welche für bestimmte Knoten des Graphen *Karate* die Local Clustering Coefficients bestimmt (Kolaczyk und Csárdi, 2014, Kapitel 4.3.2) **(Quelle hier auch noch relevant?)**.\n",
    "\n",
    "- - -\n",
    "*Aufgabe:* Berechnen Sie nun analog dazu zunächst alle Local Clustering Coefficients für den Graphen *kite* und im Anschluss daran den Average Clustering Coefficient für diesen Graphen. Den Parameter *weights* benötigen Sie dazu nicht, da der Graph *kite* kein Kantenattribut namens *weight* besitzt. Wenn Sie den Parameter *vertices* nicht verwenden, so werden automatisch alle Knoten berücksichtigt. Auch über den Parameter *mode* müssen Sie sich keine Gedanken machen. Bei dieser Aufgabe reicht es aus, wenn Sie die Funktion ohne Parameter aufrufen.\n",
    "- - -"
   ]
  },
  {
   "cell_type": "code",
   "execution_count": 20,
   "metadata": {},
   "outputs": [
    {
     "name": "stdout",
     "output_type": "stream",
     "text": [
      "nan\n"
     ]
    }
   ],
   "source": [
    "# {\"5_9\"}\n",
    "#Berechnen Sie C_i für alle Knoten in kite\n",
    "#und speichern Sie diese in C_local_kite\n",
    "C_local_kite = graph_kite.transitivity_local_undirected()\n",
    "#Berechnen Sie den Average Clustering Coefficient, \n",
    "#indem Sie die Variable C_local_kite verwenden\n",
    "print(mean(C_local_kite))"
   ]
  },
  {
   "cell_type": "markdown",
   "metadata": {},
   "source": [
    "Der Graph *kite* besitzt zwar keine isolierten Knoten, dafür aber einen Knoten mit nur einem Nachbar. Für den Fall, dass ein Knoten im betrachteten Graphen den Grad 0 (isolierter Knoten) oder 1 (ein Nachbarknoten) besitzt, ist die Formel für $C_i$ aus dem Skript für diesen Knoten nicht definiert. Auch mit dem oben verwendeten Befehl erhält man für einen solchen Knoten keinen Wert (*NaN*). Enstprechend ergibt sich für den Fall, dass der Graph mindestens einen solchen Knoten besitzt, auch kein Wert (*NaN*) für den Average Clustering Coefficient. Grundsätzlich erachten wir in solch einem Fall die Berechnung des Average Clustering Coefficients als nicht sinnvoll.\n",
    "\n",
    "### c) Pfadbasierte Maße\n",
    "Sie haben in *Aufgabe 4* bereits verschiedene Befehle zur Bestimmung der Entfernung und des kürzesten Pfades zwischen Knoten  kennengelernt. Nun sollen diese beiden Maße durch den **Network Diameter** $d_{max}$ und die **Average Path Length** $\\langle d \\rangle$ erweitert werden. Auch diese beiden Kennzahlen betrachten wir im Folgenden lediglich für ungerichtete Graphen.\n",
    "- - -\n",
    "*Aufgabe:* Betrachten Sie den Graphen *karate* und bestimmen Sie den Network Diameter des Graphen analog zu seiner Definition\n",
    "$$d_{max}=max_{n_i,n_j \\in N}\\{d(n_i,n_j)\\}$$\n",
    "Folgen Sie dazu den Anweisungen in den Kommentaren des folgenden Code-Chunks. Falls Sie sich an manche Befehle nicht mehr erinnern können, empfiehlt es sich, in *Aufgabe 4* nachzuschlagen.\n",
    "- - -"
   ]
  },
  {
   "cell_type": "markdown",
   "metadata": {},
   "source": [
    "**Hinweis:** Die Funktion *graph.shortest_paths(weights)* liefert die kürzesten Entfernungen zwischen allen Knoten. "
   ]
  },
  {
   "cell_type": "code",
   "execution_count": 21,
   "metadata": {},
   "outputs": [
    {
     "name": "stdout",
     "output_type": "stream",
     "text": [
      "5\n"
     ]
    }
   ],
   "source": [
    "# {\"5_10\"}\n",
    "#Bestimmen Sie die Entfernungen zwischen allen Knoten\n",
    "#des Graphen karate und speichern Sie diese in der Variable dist_karate\n",
    "#Setzen Sie das Argument weigths=None\n",
    "dist_karate = graph_karate.shortest_paths(weights=None)\n",
    "#Führen Sie den folgenden Code aus, um das Maximum von dist_karate berechnen\n",
    "#und in der Variable dmax_karate zu speichern\n",
    "dmax_karate = max(np.array(dist_karate).reshape(-1))\n",
    "#Lassen Sie dmax_karate ausgeben\n",
    "#print(dmax_karate)\n",
    "print(dmax_karate)"
   ]
  },
  {
   "cell_type": "markdown",
   "metadata": {},
   "source": [
    "Alternativ zu dieser manuellen Berechnung bietet das Package *'igraph'* den Befehl *graph.diameter(directed)*, welcher direkt den Network Diameter berechnet.\n",
    "- - -\n",
    "*Aufgabe:* Testen Sie im folgenden Code-Chunk, ob der Befehl (mit *directed=False*) für den Graphen *karate* zu demselben Ergebnis führt wie die manuelle Berechnung.\n",
    "- - -"
   ]
  },
  {
   "cell_type": "code",
   "execution_count": 22,
   "metadata": {},
   "outputs": [
    {
     "data": {
      "text/plain": [
       "5"
      ]
     },
     "execution_count": 22,
     "metadata": {},
     "output_type": "execute_result"
    }
   ],
   "source": [
    "# {\"5_11\"}\n",
    "#Bestimmen Sie den Network Diameter von karate mit dem Befehl diameter\n",
    "graph_karate.diameter(directed=False)"
   ]
  },
  {
   "cell_type": "markdown",
   "metadata": {},
   "source": [
    "Abschließend soll die durchschnittliche Entfernung der Knoten zueinander (**Average Path Length** $\\langle d \\rangle$) bestimmt werden. Auch hier ist der intuitive Ansatz die manuelle Berechnung. Die Formel zur Berechnung lautet wie folgt:\n",
    "$$\\langle d \\rangle = \\frac{1}{|N|}\\frac{1}{|N|-1}\\sum_{i=1}^{|N|}\\sum_{j=1,~j\\neq i}^{|N|} d(n_i, n_j)$$\n",
    "Anschaulich beschreibt die Doppelsumme die Addition aller Elemente der Entfernungsmatrix ohne die Diagonalelemente. \n",
    "- - -\n",
    "*Aufgabe:* Verwenden Sie diesen Ansatz und die Variable *dist_karate* (Entfernungen aller Knoten des Graphen *karate* zueinander), sowie die Variable *v_karate* (Anzahl Knoten im Graph *karate*), um für den Graphen *karate* die Average Path Length zu bestimmen.\n",
    "- - -\n",
    "*Hinweis: Die Diagonalelemente einer Matrix erhält man mit dem Befehl np.diagonal(matrix).*\n"
   ]
  },
  {
   "cell_type": "code",
   "execution_count": 23,
   "metadata": {},
   "outputs": [
    {
     "name": "stdout",
     "output_type": "stream",
     "text": [
      "2.4206773618538326\n"
     ]
    }
   ],
   "source": [
    "# {\"5_12\"}\n",
    "#Bestimmen Sie die Average Path Length des Graphen karate\n",
    "#und speichern Sie diese in der Variable dmean_karate\n",
    "dmean_karate = (1/v_karate)*(1/(v_karate-1))*(sum(np.array(dist_karate).reshape(-1))-sum(np.diagonal(dist_karate)))\n",
    "#Geben Sie die Variable dmean_karate aus\n",
    "print(dmean_karate)"
   ]
  },
  {
   "cell_type": "markdown",
   "metadata": {},
   "source": [
    "- - -\n",
    "*Aufgabe:* Kontrollieren Sie Ihr Ergebnis, indem Sie den Befehl *graph.average_path_length()* auf den Graphen *karate* anwenden. Hier wird mittels eines Breadth-First-Algorithmus direkt die Average Path Length bestimmt.\n",
    "- - -"
   ]
  },
  {
   "cell_type": "code",
   "execution_count": 24,
   "metadata": {},
   "outputs": [
    {
     "name": "stdout",
     "output_type": "stream",
     "text": [
      "2.4206773618538326\n"
     ]
    }
   ],
   "source": [
    "# {\"5_13\"}\n",
    "#Bestimmen Sie die Average Path Length von karate direkt\n",
    "print(graph_karate.average_path_length())"
   ]
  }
 ],
 "metadata": {
  "interpreter": {
   "hash": "bed862baa169bd35b57b2a485b7961cf7d1bd32d9b549d4e10480d14566cc8ca"
  },
  "kernelspec": {
   "display_name": "Python 3.7.8 64-bit ('venv': venv)",
   "language": "python",
   "name": "python3"
  },
  "language_info": {
   "codemirror_mode": {
    "name": "ipython",
    "version": 3
   },
   "file_extension": ".py",
   "mimetype": "text/x-python",
   "name": "python",
   "nbconvert_exporter": "python",
   "pygments_lexer": "ipython3",
   "version": "3.7.8"
  },
  "orig_nbformat": 4
 },
 "nbformat": 4,
 "nbformat_minor": 2
}
