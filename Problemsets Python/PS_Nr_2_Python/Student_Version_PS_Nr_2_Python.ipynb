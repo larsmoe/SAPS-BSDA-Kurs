{
  "cells": [
    {
      "cell_type": "code",
      "execution_count": 1,
      "metadata": {
        "colab": {
          "base_uri": "https://localhost:8080/"
        },
        "id": "6Gxc12eKs1fy",
        "outputId": "214eb7ff-f630-4262-c990-8b5e95673b8e"
      },
      "outputs": [],
      "source": [
        "# Wie beim ersten Blatt müssen für dieses Blatt wieder Packages installiert werden\n",
        "#!pip install igraph==0.9.8\n",
        "#!apt install libcairo2-dev\n",
        "#!pip install pycairo\n",
        "#!pip install matplotlib"
      ]
    },
    {
      "cell_type": "markdown",
      "metadata": {
        "id": "9xYOMWEus0By"
      },
      "source": [
        "# Packages Laden"
      ]
    },
    {
      "cell_type": "code",
      "execution_count": 2,
      "metadata": {
        "id": "KcK6O5q7s0Bz"
      },
      "outputs": [],
      "source": [
        "# Wie bereits im ersten Problem Set werden zunächst die notwendigen Packages importiert\n",
        "from igraph import *\n",
        "import pandas as pd\n",
        "import numpy as np\n",
        "import matplotlib.pyplot as plt"
      ]
    },
    {
      "cell_type": "markdown",
      "metadata": {
        "id": "TfSRgK5cs0B0"
      },
      "source": [
        "Willkommen zum zweiten Python Problem Set in diesem Modul!  \n",
        "Sie finden hier eine Aufgabe (*Exercise 5*) zu den Inhalten aus Kapitel 3 *Social Network Analysis* - konkret zu dem Teil 3.1.4."
      ]
    },
    {
      "cell_type": "markdown",
      "metadata": {
        "id": "HOh4elrvs0B0"
      },
      "source": [
        "# Aufgabe 5"
      ]
    },
    {
      "cell_type": "markdown",
      "metadata": {
        "id": "pQAX5QJrs0B0"
      },
      "source": [
        "In den folgenden beiden Aufgaben werden wir uns zwei Netzwerke genauer anschauen und sie auf verschiedene Eigenschaften untersuchen. Dabei liegt der Fokus der aktuellen Aufgabe auf den **grundlegenden Maßen**, die die Knoten und Kanten eines Netzwerks charakterisieren. In *Problem Set Nr.3* werden wir uns insbesondere den Zentralitätsmaßen in Netzwerken widmen.\n",
        "Die zwei Netzwerke heißen *Karate* und *Kite*. Karate ist ein Netzwerk eines Karate Clubs, welches aus einer wissenschaftlichen Arbeit von Wayne W. Zachary stammt. Das Kite Netzwerk hingegen bildet optisch die Form eines Drachen (Fluggerät) ab und wurde von David Krackhardt erstellt.  \n",
        "\n",
        "*Die folgende Aufgabe erfolgt in Anlehnung an Kolaczyk und Csárdi, Kapitel 4.2.1.* **(Noch relevant?)**\n",
        "\n",
        "Laden Sie im folgenden Code-Chunk die zwei Netzwerke, die wir im Folgenden betrachten werden, indem Sie den Code ausführen. \n",
        "\n",
        "Es ist <ins>nicht</ins> notwendig, dass Sie sich den Code im Detail ansehen. "
      ]
    },
    {
      "cell_type": "markdown",
      "metadata": {
        "id": "I5rdcjNMs0B0"
      },
      "source": [
        "### Aufgabe 5.1"
      ]
    },
    {
      "cell_type": "code",
      "execution_count": 3,
      "metadata": {
        "id": "eukKi2iks0B0"
      },
      "outputs": [],
      "source": [
        "# {\"5_1\"}\n",
        "# Import des Karate Netzwerks\n",
        "karate = pd.read_csv('https://raw.githubusercontent.com/larsmoe/SAPS-BSDA-Kurs/master/Problemsets%20Python/PS_Nr_2_Python/data/Karate/KARATE.csv', sep=\";\", header=None, names=['A','B'])\n",
        "kite = pd.read_csv('https://raw.githubusercontent.com/larsmoe/SAPS-BSDA-Kurs/master/Problemsets%20Python/PS_Nr_2_Python/data/Kite/Kite.csv', sep=\";\", header=None, names=['A','B'])\n",
        "\n",
        "\n",
        "# Der Subtract Befehl ist notwendig, um die Indices auf die Python Indexierung zu bringen. Sprich, aus Knoten 1 wird Knoten 0\n",
        "karate = karate.subtract(1)\n",
        "kite = kite.subtract(1)"
      ]
    },
    {
      "cell_type": "code",
      "execution_count": 4,
      "metadata": {
        "id": "aCzEWwcKs0B1"
      },
      "outputs": [],
      "source": [
        "# Diese Funktion erstellt aus den importierten Netzwerkdaten Kantenlisten, die mit igraph kompatibel sind\n",
        "def create_edge_list(node_list1, node_list2):\n",
        "    edge_list = []\n",
        "    for node_1, node_2 in zip(node_list1, node_list2):\n",
        "        edge = (node_1, node_2)\n",
        "        edge_list.append(edge)\n",
        "    return edge_list"
      ]
    },
    {
      "cell_type": "code",
      "execution_count": 5,
      "metadata": {
        "id": "mOKkszAzs0B1"
      },
      "outputs": [],
      "source": [
        "# Die zuvor deklarierte Funktion wird nun verwendet\n",
        "karate_edges = create_edge_list(karate['A'].to_list(), karate['B'].to_list())\n",
        "kite_edges = create_edge_list(kite['A'].to_list(), kite['B'].to_list())"
      ]
    },
    {
      "cell_type": "code",
      "execution_count": 6,
      "metadata": {
        "id": "6kcLwHa8s0B1"
      },
      "outputs": [],
      "source": [
        "# Erzeugung des Karate Graphs\n",
        "graph_karate = Graph(n=34, edges=karate_edges, directed=True)\n",
        "\n",
        "# Erzeugung des Kite Graphs\n",
        "graph_kite = Graph(n=10, edges=kite_edges, directed=False)"
      ]
    },
    {
      "cell_type": "markdown",
      "metadata": {
        "id": "7NZABk2qs0B1"
      },
      "source": [
        "### Aufgabe 5.2"
      ]
    },
    {
      "cell_type": "markdown",
      "metadata": {},
      "source": [
        "Führen Sie den Code aus"
      ]
    },
    {
      "cell_type": "code",
      "execution_count": 7,
      "metadata": {
        "colab": {
          "base_uri": "https://localhost:8080/",
          "height": 821
        },
        "id": "Tpw5uI0xs0B1",
        "outputId": "853db65a-f204-42e4-d3f7-0625f7e44292"
      },
      "outputs": [
        {
          "data": {
            "image/svg+xml": "<?xml version=\"1.0\" encoding=\"UTF-8\"?>\n<svg xmlns=\"http://www.w3.org/2000/svg\" xmlns:xlink=\"http://www.w3.org/1999/xlink\" width=\"600pt\" height=\"600pt\" viewBox=\"0 0 600 600\" version=\"1.1\">\n<defs>\n<g>\n<symbol overflow=\"visible\" id=\"glyph0-0\">\n<path style=\"stroke:none;\" d=\"M 1.75 0 L 1.75 -8.75 L 8.75 -8.75 L 8.75 0 Z M 1.96875 -0.21875 L 8.53125 -0.21875 L 8.53125 -8.53125 L 1.96875 -8.53125 Z M 1.96875 -0.21875 \"/>\n</symbol>\n<symbol overflow=\"visible\" id=\"glyph0-1\">\n<path style=\"stroke:none;\" d=\"M 0.582031 -4.941406 C 0.578125 -6.121094 0.699219 -7.074219 0.945313 -7.800781 C 1.1875 -8.519531 1.550781 -9.078125 2.03125 -9.472656 C 2.511719 -9.863281 3.117188 -10.058594 3.847656 -10.0625 C 4.382813 -10.058594 4.855469 -9.953125 5.261719 -9.738281 C 5.667969 -9.519531 6 -9.207031 6.265625 -8.800781 C 6.527344 -8.390625 6.738281 -7.890625 6.890625 -7.308594 C 7.039063 -6.722656 7.113281 -5.933594 7.117188 -4.941406 C 7.113281 -3.761719 6.992188 -2.8125 6.753906 -2.09375 C 6.507813 -1.367188 6.144531 -0.808594 5.667969 -0.417969 C 5.183594 -0.0234375 4.578125 0.167969 3.847656 0.171875 C 2.878906 0.167969 2.121094 -0.175781 1.570313 -0.867188 C 0.910156 -1.699219 0.578125 -3.054688 0.582031 -4.941406 Z M 1.84375 -4.941406 C 1.839844 -3.292969 2.03125 -2.199219 2.421875 -1.65625 C 2.804688 -1.109375 3.28125 -0.835938 3.847656 -0.839844 C 4.410156 -0.835938 4.886719 -1.109375 5.273438 -1.660156 C 5.65625 -2.203125 5.847656 -3.296875 5.851563 -4.941406 C 5.847656 -6.589844 5.65625 -7.6875 5.273438 -8.230469 C 4.886719 -8.769531 4.40625 -9.039063 3.835938 -9.042969 C 3.269531 -9.039063 2.816406 -8.800781 2.480469 -8.328125 C 2.050781 -7.710938 1.839844 -6.582031 1.84375 -4.941406 Z M 1.84375 -4.941406 \"/>\n</symbol>\n<symbol overflow=\"visible\" id=\"glyph0-2\">\n<path style=\"stroke:none;\" d=\"M 5.214844 0 L 3.984375 0 L 3.984375 -7.839844 C 3.6875 -7.558594 3.296875 -7.273438 2.816406 -6.992188 C 2.335938 -6.707031 1.90625 -6.496094 1.523438 -6.359375 L 1.523438 -7.546875 C 2.210938 -7.867188 2.8125 -8.257813 3.328125 -8.722656 C 3.84375 -9.179688 4.207031 -9.625 4.421875 -10.0625 L 5.214844 -10.0625 Z M 5.214844 0 \"/>\n</symbol>\n<symbol overflow=\"visible\" id=\"glyph0-3\">\n<path style=\"stroke:none;\" d=\"M 7.046875 -1.183594 L 7.046875 0 L 0.421875 0 C 0.414063 -0.296875 0.460938 -0.582031 0.566406 -0.855469 C 0.734375 -1.304688 1.003906 -1.746094 1.375 -2.1875 C 1.746094 -2.621094 2.285156 -3.128906 2.988281 -3.703125 C 4.074219 -4.597656 4.808594 -5.304688 5.195313 -5.828125 C 5.574219 -6.347656 5.765625 -6.839844 5.769531 -7.308594 C 5.765625 -7.792969 5.589844 -8.203125 5.246094 -8.539063 C 4.894531 -8.871094 4.441406 -9.039063 3.882813 -9.042969 C 3.285156 -9.039063 2.8125 -8.863281 2.460938 -8.507813 C 2.105469 -8.152344 1.925781 -7.660156 1.921875 -7.035156 L 0.65625 -7.164063 C 0.742188 -8.105469 1.066406 -8.824219 1.632813 -9.320313 C 2.195313 -9.8125 2.953125 -10.058594 3.910156 -10.0625 C 4.867188 -10.058594 5.628906 -9.792969 6.191406 -9.261719 C 6.75 -8.726563 7.03125 -8.066406 7.035156 -7.28125 C 7.03125 -6.878906 6.949219 -6.484375 6.789063 -6.097656 C 6.621094 -5.707031 6.347656 -5.296875 5.96875 -4.871094 C 5.585938 -4.441406 4.953125 -3.855469 4.074219 -3.109375 C 3.332031 -2.488281 2.859375 -2.066406 2.652344 -1.847656 C 2.4375 -1.621094 2.265625 -1.402344 2.132813 -1.183594 Z M 7.046875 -1.183594 \"/>\n</symbol>\n<symbol overflow=\"visible\" id=\"glyph0-4\">\n<path style=\"stroke:none;\" d=\"M 0.585938 -2.644531 L 1.820313 -2.808594 C 1.957031 -2.109375 2.195313 -1.609375 2.539063 -1.300781 C 2.875 -0.992188 3.289063 -0.835938 3.78125 -0.839844 C 4.355469 -0.835938 4.84375 -1.039063 5.246094 -1.441406 C 5.640625 -1.839844 5.839844 -2.335938 5.84375 -2.933594 C 5.839844 -3.496094 5.65625 -3.960938 5.289063 -4.332031 C 4.917969 -4.695313 4.449219 -4.878906 3.882813 -4.882813 C 3.648438 -4.878906 3.359375 -4.832031 3.015625 -4.742188 L 3.152344 -5.824219 C 3.230469 -5.816406 3.296875 -5.8125 3.351563 -5.8125 C 3.875 -5.8125 4.34375 -5.949219 4.765625 -6.222656 C 5.179688 -6.496094 5.390625 -6.914063 5.394531 -7.484375 C 5.390625 -7.933594 5.238281 -8.308594 4.933594 -8.605469 C 4.628906 -8.898438 4.234375 -9.046875 3.753906 -9.050781 C 3.273438 -9.046875 2.875 -8.894531 2.554688 -8.597656 C 2.234375 -8.292969 2.027344 -7.84375 1.941406 -7.246094 L 0.710938 -7.464844 C 0.859375 -8.289063 1.203125 -8.925781 1.734375 -9.382813 C 2.265625 -9.832031 2.929688 -10.058594 3.726563 -10.0625 C 4.273438 -10.058594 4.773438 -9.941406 5.234375 -9.710938 C 5.691406 -9.472656 6.042969 -9.152344 6.289063 -8.75 C 6.53125 -8.339844 6.65625 -7.910156 6.65625 -7.457031 C 6.65625 -7.023438 6.539063 -6.628906 6.308594 -6.273438 C 6.074219 -5.917969 5.730469 -5.636719 5.277344 -5.429688 C 5.867188 -5.289063 6.328125 -5.003906 6.65625 -4.574219 C 6.984375 -4.140625 7.148438 -3.601563 7.148438 -2.960938 C 7.148438 -2.082031 6.828125 -1.339844 6.191406 -0.734375 C 5.550781 -0.125 4.746094 0.175781 3.773438 0.179688 C 2.890625 0.175781 2.160156 -0.0820313 1.582031 -0.605469 C 1 -1.128906 0.667969 -1.808594 0.585938 -2.644531 Z M 0.585938 -2.644531 \"/>\n</symbol>\n<symbol overflow=\"visible\" id=\"glyph0-5\">\n<path style=\"stroke:none;\" d=\"M 4.523438 0 L 4.523438 -2.398438 L 0.179688 -2.398438 L 0.179688 -3.527344 L 4.75 -10.023438 L 5.757813 -10.023438 L 5.757813 -3.527344 L 7.109375 -3.527344 L 7.109375 -2.398438 L 5.757813 -2.398438 L 5.757813 0 Z M 4.523438 -3.527344 L 4.523438 -8.046875 L 1.386719 -3.527344 Z M 4.523438 -3.527344 \"/>\n</symbol>\n<symbol overflow=\"visible\" id=\"glyph0-6\">\n<path style=\"stroke:none;\" d=\"M 0.582031 -2.625 L 1.875 -2.734375 C 1.96875 -2.101563 2.1875 -1.628906 2.539063 -1.3125 C 2.882813 -0.996094 3.304688 -0.835938 3.800781 -0.839844 C 4.390625 -0.835938 4.890625 -1.058594 5.304688 -1.507813 C 5.710938 -1.953125 5.917969 -2.546875 5.921875 -3.289063 C 5.917969 -3.984375 5.71875 -4.539063 5.328125 -4.949219 C 4.929688 -5.351563 4.414063 -5.554688 3.78125 -5.558594 C 3.382813 -5.554688 3.027344 -5.464844 2.707031 -5.285156 C 2.386719 -5.105469 2.132813 -4.871094 1.953125 -4.585938 L 0.800781 -4.738281 L 1.769531 -9.882813 L 6.753906 -9.882813 L 6.753906 -8.710938 L 2.753906 -8.710938 L 2.214844 -6.015625 C 2.816406 -6.433594 3.445313 -6.644531 4.109375 -6.644531 C 4.980469 -6.644531 5.71875 -6.339844 6.324219 -5.734375 C 6.921875 -5.128906 7.222656 -4.351563 7.226563 -3.398438 C 7.222656 -2.492188 6.960938 -1.707031 6.433594 -1.046875 C 5.789063 -0.234375 4.910156 0.167969 3.800781 0.171875 C 2.886719 0.167969 2.140625 -0.0820313 1.566406 -0.59375 C 0.988281 -1.101563 0.660156 -1.78125 0.582031 -2.625 Z M 0.582031 -2.625 \"/>\n</symbol>\n<symbol overflow=\"visible\" id=\"glyph0-7\">\n<path style=\"stroke:none;\" d=\"M 6.964844 -7.566406 L 5.742188 -7.472656 C 5.632813 -7.949219 5.476563 -8.300781 5.277344 -8.523438 C 4.941406 -8.871094 4.53125 -9.046875 4.046875 -9.050781 C 3.652344 -9.046875 3.308594 -8.9375 3.015625 -8.722656 C 2.625 -8.4375 2.320313 -8.023438 2.097656 -7.484375 C 1.875 -6.9375 1.757813 -6.167969 1.75 -5.167969 C 2.042969 -5.617188 2.40625 -5.949219 2.835938 -6.171875 C 3.265625 -6.386719 3.714844 -6.496094 4.183594 -6.5 C 5.003906 -6.496094 5.699219 -6.195313 6.277344 -5.59375 C 6.851563 -4.988281 7.140625 -4.207031 7.144531 -3.253906 C 7.140625 -2.621094 7.003906 -2.039063 6.734375 -1.5 C 6.460938 -0.960938 6.089844 -0.546875 5.617188 -0.257813 C 5.140625 0.0273438 4.605469 0.167969 4.007813 0.171875 C 2.980469 0.167969 2.140625 -0.207031 1.496094 -0.960938 C 0.847656 -1.714844 0.527344 -2.957031 0.527344 -4.6875 C 0.527344 -6.625 0.882813 -8.03125 1.601563 -8.914063 C 2.21875 -9.675781 3.058594 -10.058594 4.121094 -10.0625 C 4.90625 -10.058594 5.554688 -9.839844 6.058594 -9.398438 C 6.5625 -8.953125 6.863281 -8.339844 6.964844 -7.566406 Z M 1.941406 -3.246094 C 1.9375 -2.820313 2.027344 -2.414063 2.210938 -2.027344 C 2.386719 -1.640625 2.640625 -1.34375 2.964844 -1.144531 C 3.289063 -0.9375 3.628906 -0.835938 3.984375 -0.839844 C 4.503906 -0.835938 4.949219 -1.046875 5.324219 -1.46875 C 5.695313 -1.886719 5.882813 -2.457031 5.886719 -3.179688 C 5.882813 -3.871094 5.699219 -4.417969 5.332031 -4.816406 C 4.960938 -5.214844 4.496094 -5.414063 3.9375 -5.414063 C 3.378906 -5.414063 2.90625 -5.214844 2.519531 -4.816406 C 2.132813 -4.417969 1.9375 -3.894531 1.941406 -3.246094 Z M 1.941406 -3.246094 \"/>\n</symbol>\n<symbol overflow=\"visible\" id=\"glyph0-8\">\n<path style=\"stroke:none;\" d=\"M 0.664063 -8.710938 L 0.664063 -9.890625 L 7.148438 -9.890625 L 7.148438 -8.933594 C 6.511719 -8.25 5.878906 -7.347656 5.253906 -6.226563 C 4.625 -5.097656 4.140625 -3.941406 3.800781 -2.753906 C 3.550781 -1.914063 3.394531 -0.996094 3.328125 0 L 2.0625 0 C 2.078125 -0.789063 2.230469 -1.738281 2.527344 -2.855469 C 2.820313 -3.96875 3.246094 -5.046875 3.800781 -6.085938 C 4.351563 -7.121094 4.941406 -7.996094 5.570313 -8.710938 Z M 0.664063 -8.710938 \"/>\n</symbol>\n<symbol overflow=\"visible\" id=\"glyph0-9\">\n<path style=\"stroke:none;\" d=\"M 2.476563 -5.433594 C 1.964844 -5.617188 1.585938 -5.886719 1.339844 -6.234375 C 1.089844 -6.578125 0.964844 -6.992188 0.96875 -7.476563 C 0.964844 -8.203125 1.226563 -8.816406 1.753906 -9.316406 C 2.277344 -9.8125 2.976563 -10.058594 3.847656 -10.0625 C 4.71875 -10.058594 5.421875 -9.804688 5.960938 -9.300781 C 6.492188 -8.789063 6.761719 -8.171875 6.761719 -7.445313 C 6.761719 -6.976563 6.636719 -6.570313 6.394531 -6.230469 C 6.148438 -5.882813 5.78125 -5.617188 5.285156 -5.433594 C 5.898438 -5.230469 6.363281 -4.90625 6.6875 -4.460938 C 7.007813 -4.011719 7.171875 -3.480469 7.171875 -2.863281 C 7.171875 -2.003906 6.867188 -1.285156 6.261719 -0.703125 C 5.652344 -0.121094 4.855469 0.167969 3.867188 0.171875 C 2.878906 0.167969 2.082031 -0.121094 1.476563 -0.707031 C 0.867188 -1.289063 0.5625 -2.019531 0.566406 -2.898438 C 0.5625 -3.546875 0.726563 -4.09375 1.0625 -4.535156 C 1.390625 -4.972656 1.863281 -5.269531 2.476563 -5.433594 Z M 2.226563 -7.519531 C 2.226563 -7.042969 2.378906 -6.65625 2.683594 -6.355469 C 2.988281 -6.054688 3.382813 -5.90625 3.875 -5.90625 C 4.34375 -5.90625 4.734375 -6.054688 5.039063 -6.351563 C 5.34375 -6.648438 5.496094 -7.015625 5.496094 -7.453125 C 5.496094 -7.902344 5.339844 -8.28125 5.027344 -8.589844 C 4.714844 -8.894531 4.324219 -9.046875 3.863281 -9.050781 C 3.386719 -9.046875 2.996094 -8.894531 2.691406 -8.597656 C 2.378906 -8.292969 2.226563 -7.933594 2.226563 -7.519531 Z M 1.832031 -2.890625 C 1.828125 -2.539063 1.910156 -2.203125 2.082031 -1.875 C 2.246094 -1.546875 2.496094 -1.289063 2.824219 -1.109375 C 3.152344 -0.925781 3.503906 -0.835938 3.882813 -0.839844 C 4.46875 -0.835938 4.953125 -1.027344 5.339844 -1.40625 C 5.71875 -1.785156 5.910156 -2.265625 5.914063 -2.851563 C 5.910156 -3.441406 5.714844 -3.929688 5.320313 -4.320313 C 4.925781 -4.703125 4.433594 -4.898438 3.84375 -4.902344 C 3.261719 -4.898438 2.78125 -4.707031 2.402344 -4.328125 C 2.019531 -3.941406 1.828125 -3.460938 1.832031 -2.890625 Z M 1.832031 -2.890625 \"/>\n</symbol>\n<symbol overflow=\"visible\" id=\"glyph0-10\">\n<path style=\"stroke:none;\" d=\"M 0.765625 -2.316406 L 1.949219 -2.425781 C 2.046875 -1.871094 2.238281 -1.464844 2.519531 -1.214844 C 2.800781 -0.960938 3.164063 -0.835938 3.609375 -0.839844 C 3.984375 -0.835938 4.3125 -0.921875 4.601563 -1.097656 C 4.882813 -1.269531 5.117188 -1.503906 5.304688 -1.792969 C 5.484375 -2.082031 5.636719 -2.472656 5.761719 -2.964844 C 5.878906 -3.457031 5.941406 -3.957031 5.945313 -4.46875 C 5.941406 -4.523438 5.941406 -4.605469 5.941406 -4.71875 C 5.691406 -4.320313 5.351563 -4.003906 4.929688 -3.761719 C 4.5 -3.519531 4.039063 -3.398438 3.546875 -3.398438 C 2.714844 -3.398438 2.015625 -3.699219 1.441406 -4.300781 C 0.867188 -4.902344 0.578125 -5.695313 0.582031 -6.679688 C 0.578125 -7.695313 0.878906 -8.511719 1.480469 -9.132813 C 2.078125 -9.75 2.828125 -10.058594 3.734375 -10.0625 C 4.382813 -10.058594 4.980469 -9.882813 5.519531 -9.535156 C 6.058594 -9.179688 6.46875 -8.679688 6.75 -8.035156 C 7.03125 -7.382813 7.171875 -6.445313 7.171875 -5.214844 C 7.171875 -3.933594 7.03125 -2.914063 6.753906 -2.15625 C 6.472656 -1.398438 6.058594 -0.820313 5.511719 -0.421875 C 4.960938 -0.0273438 4.316406 0.167969 3.582031 0.171875 C 2.792969 0.167969 2.152344 -0.046875 1.660156 -0.480469 C 1.160156 -0.914063 0.863281 -1.523438 0.765625 -2.316406 Z M 5.804688 -6.742188 C 5.800781 -7.445313 5.613281 -8.003906 5.238281 -8.421875 C 4.863281 -8.832031 4.410156 -9.039063 3.882813 -9.042969 C 3.332031 -9.039063 2.855469 -8.816406 2.453125 -8.371094 C 2.042969 -7.921875 1.839844 -7.34375 1.84375 -6.636719 C 1.839844 -5.996094 2.03125 -5.476563 2.421875 -5.082031 C 2.804688 -4.679688 3.28125 -4.480469 3.847656 -4.484375 C 4.414063 -4.480469 4.882813 -4.679688 5.253906 -5.082031 C 5.617188 -5.476563 5.800781 -6.03125 5.804688 -6.742188 Z M 5.804688 -6.742188 \"/>\n</symbol>\n</g>\n</defs>\n<g id=\"surface2\">\n<rect x=\"0\" y=\"0\" width=\"600\" height=\"600\" style=\"fill:rgb(100%,100%,100%);fill-opacity:1;stroke:none;\"/>\n<path style=\"fill:none;stroke-width:1;stroke-linecap:butt;stroke-linejoin:miter;stroke:rgb(26.666667%,26.666667%,26.666667%);stroke-opacity:1;stroke-miterlimit:10;\" d=\"M 402.714844 353.675781 C 389.695313 335.449219 370.398438 326.28125 351.472656 337.433594 \"/>\n<path style=\" stroke:none;fill-rule:nonzero;fill:rgb(26.666667%,26.666667%,26.666667%);fill-opacity:1;\" d=\"M 339.183594 344.675781 L 349.121094 333.441406 L 353.828125 341.425781 L 339.183594 344.675781 \"/>\n<path style=\"fill:none;stroke-width:1;stroke-linecap:butt;stroke-linejoin:miter;stroke:rgb(26.666667%,26.666667%,26.666667%);stroke-opacity:1;stroke-miterlimit:10;\" d=\"M 402.714844 353.675781 C 415.015625 315.222656 406.46875 280.835938 370.957031 262.132813 \"/>\n<path style=\" stroke:none;fill-rule:nonzero;fill:rgb(26.666667%,26.666667%,26.666667%);fill-opacity:1;\" d=\"M 358.335938 255.484375 L 373.117188 258.03125 L 368.796875 266.234375 L 358.335938 255.484375 \"/>\n<path style=\"fill:none;stroke-width:1;stroke-linecap:butt;stroke-linejoin:miter;stroke:rgb(26.666667%,26.666667%,26.666667%);stroke-opacity:1;stroke-miterlimit:10;\" d=\"M 402.714844 353.675781 C 421.425781 353.914063 437.839844 345.355469 438.980469 327.1875 \"/>\n<path style=\" stroke:none;fill-rule:nonzero;fill:rgb(26.666667%,26.666667%,26.666667%);fill-opacity:1;\" d=\"M 439.875 312.949219 L 443.609375 327.480469 L 434.355469 326.898438 L 439.875 312.949219 \"/>\n<path style=\"fill:none;stroke-width:1;stroke-linecap:butt;stroke-linejoin:miter;stroke:rgb(26.666667%,26.666667%,26.666667%);stroke-opacity:1;stroke-miterlimit:10;\" d=\"M 402.714844 353.675781 C 407.9375 398.152344 432.324219 428.484375 476.785156 431.550781 \"/>\n<path style=\" stroke:none;fill-rule:nonzero;fill:rgb(26.666667%,26.666667%,26.666667%);fill-opacity:1;\" d=\"M 491.019531 432.53125 L 476.46875 436.175781 L 477.105469 426.925781 L 491.019531 432.53125 \"/>\n<path style=\"fill:none;stroke-width:1;stroke-linecap:butt;stroke-linejoin:miter;stroke:rgb(26.666667%,26.666667%,26.666667%);stroke-opacity:1;stroke-miterlimit:10;\" d=\"M 402.714844 353.675781 C 393.839844 401.476563 409.488281 440.414063 454.511719 458.234375 \"/>\n<path style=\" stroke:none;fill-rule:nonzero;fill:rgb(26.666667%,26.666667%,26.666667%);fill-opacity:1;\" d=\"M 467.777344 463.484375 L 452.804688 462.542969 L 456.21875 453.925781 L 467.777344 463.484375 \"/>\n<path style=\"fill:none;stroke-width:1;stroke-linecap:butt;stroke-linejoin:miter;stroke:rgb(26.666667%,26.666667%,26.666667%);stroke-opacity:1;stroke-miterlimit:10;\" d=\"M 402.714844 353.675781 C 371.734375 388.976563 365.386719 429.128906 394.070313 466.0625 \"/>\n<path style=\" stroke:none;fill-rule:nonzero;fill:rgb(26.666667%,26.666667%,26.666667%);fill-opacity:1;\" d=\"M 402.820313 477.328125 L 390.410156 468.90625 L 397.730469 463.21875 L 402.820313 477.328125 \"/>\n<path style=\"fill:none;stroke-width:1;stroke-linecap:butt;stroke-linejoin:miter;stroke:rgb(26.666667%,26.666667%,26.666667%);stroke-opacity:1;stroke-miterlimit:10;\" d=\"M 402.714844 353.675781 C 369.214844 332.984375 334.574219 332.917969 308.605469 362.1875 \"/>\n<path style=\" stroke:none;fill-rule:nonzero;fill:rgb(26.666667%,26.666667%,26.666667%);fill-opacity:1;\" d=\"M 299.136719 372.859375 L 305.136719 359.109375 L 312.074219 365.261719 L 299.136719 372.859375 \"/>\n<path style=\"fill:none;stroke-width:1;stroke-linecap:butt;stroke-linejoin:miter;stroke:rgb(26.666667%,26.666667%,26.666667%);stroke-opacity:1;stroke-miterlimit:10;\" d=\"M 402.714844 353.675781 C 381.921875 296.273438 340.464844 265.152344 280.136719 273.40625 \"/>\n<path style=\" stroke:none;fill-rule:nonzero;fill:rgb(26.666667%,26.666667%,26.666667%);fill-opacity:1;\" d=\"M 266 275.34375 L 279.507813 268.816406 L 280.761719 278 L 266 275.34375 \"/>\n<path style=\"fill:none;stroke-width:1;stroke-linecap:butt;stroke-linejoin:miter;stroke:rgb(26.666667%,26.666667%,26.666667%);stroke-opacity:1;stroke-miterlimit:10;\" d=\"M 402.714844 353.675781 C 366.664063 373.203125 348.808594 404.378906 361.617188 443.078125 \"/>\n<path style=\" stroke:none;fill-rule:nonzero;fill:rgb(26.666667%,26.666667%,26.666667%);fill-opacity:1;\" d=\"M 366.097656 456.621094 L 357.214844 444.535156 L 366.015625 441.621094 L 366.097656 456.621094 \"/>\n<path style=\"fill:none;stroke-width:1;stroke-linecap:butt;stroke-linejoin:miter;stroke:rgb(26.666667%,26.666667%,26.666667%);stroke-opacity:1;stroke-miterlimit:10;\" d=\"M 402.714844 353.675781 C 463.640625 384.808594 520.976563 378.304688 564.527344 325.71875 \"/>\n<path style=\" stroke:none;fill-rule:nonzero;fill:rgb(26.666667%,26.666667%,26.666667%);fill-opacity:1;\" d=\"M 573.625 314.730469 L 568.09375 328.671875 L 560.957031 322.761719 L 573.625 314.730469 \"/>\n<path style=\"fill:none;stroke-width:1;stroke-linecap:butt;stroke-linejoin:miter;stroke:rgb(26.666667%,26.666667%,26.666667%);stroke-opacity:1;stroke-miterlimit:10;\" d=\"M 402.714844 353.675781 C 448.382813 393.117188 499.203125 399.953125 547.195313 363.644531 \"/>\n<path style=\" stroke:none;fill-rule:nonzero;fill:rgb(26.666667%,26.666667%,26.666667%);fill-opacity:1;\" d=\"M 558.574219 355.035156 L 549.992188 367.339844 L 544.398438 359.945313 L 558.574219 355.035156 \"/>\n<path style=\"fill:none;stroke-width:1;stroke-linecap:butt;stroke-linejoin:miter;stroke:rgb(26.666667%,26.666667%,26.666667%);stroke-opacity:1;stroke-miterlimit:10;\" d=\"M 402.714844 353.675781 C 398.394531 313.933594 376.84375 286.207031 337.195313 283.59375 \"/>\n<path style=\" stroke:none;fill-rule:nonzero;fill:rgb(26.666667%,26.666667%,26.666667%);fill-opacity:1;\" d=\"M 322.960938 282.65625 L 337.5 278.96875 L 336.890625 288.21875 L 322.960938 282.65625 \"/>\n<path style=\"fill:none;stroke-width:1;stroke-linecap:butt;stroke-linejoin:miter;stroke:rgb(26.666667%,26.666667%,26.666667%);stroke-opacity:1;stroke-miterlimit:10;\" d=\"M 402.714844 353.675781 C 342.816406 347.742188 297.4375 371.355469 279.167969 428.535156 \"/>\n<path style=\" stroke:none;fill-rule:nonzero;fill:rgb(26.666667%,26.666667%,26.666667%);fill-opacity:1;\" d=\"M 274.828125 442.125 L 274.753906 427.125 L 283.585938 429.949219 L 274.828125 442.125 \"/>\n<path style=\"fill:none;stroke-width:1;stroke-linecap:butt;stroke-linejoin:miter;stroke:rgb(26.666667%,26.666667%,26.666667%);stroke-opacity:1;stroke-miterlimit:10;\" d=\"M 402.714844 353.675781 C 366.867188 301.90625 317.390625 281.90625 259.34375 305.902344 \"/>\n<path style=\" stroke:none;fill-rule:nonzero;fill:rgb(26.666667%,26.666667%,26.666667%);fill-opacity:1;\" d=\"M 246.160156 311.351563 L 257.574219 301.617188 L 261.113281 310.183594 L 246.160156 311.351563 \"/>\n<path style=\"fill:none;stroke-width:1;stroke-linecap:butt;stroke-linejoin:miter;stroke:rgb(26.666667%,26.666667%,26.666667%);stroke-opacity:1;stroke-miterlimit:10;\" d=\"M 402.714844 353.675781 C 421.011719 383.722656 448.792969 398.207031 481.113281 385.015625 \"/>\n<path style=\" stroke:none;fill-rule:nonzero;fill:rgb(26.666667%,26.666667%,26.666667%);fill-opacity:1;\" d=\"M 494.320313 379.625 L 482.863281 389.308594 L 479.363281 380.722656 L 494.320313 379.625 \"/>\n<path style=\"fill:none;stroke-width:1;stroke-linecap:butt;stroke-linejoin:miter;stroke:rgb(26.666667%,26.666667%,26.666667%);stroke-opacity:1;stroke-miterlimit:10;\" d=\"M 402.714844 353.675781 C 434.335938 313.4375 438.601563 269.652344 405.484375 230.882813 \"/>\n<path style=\" stroke:none;fill-rule:nonzero;fill:rgb(26.666667%,26.666667%,26.666667%);fill-opacity:1;\" d=\"M 396.21875 220.039063 L 409.007813 227.875 L 401.960938 233.894531 L 396.21875 220.039063 \"/>\n<path style=\"fill:none;stroke-width:1;stroke-linecap:butt;stroke-linejoin:miter;stroke:rgb(26.666667%,26.666667%,26.666667%);stroke-opacity:1;stroke-miterlimit:10;\" d=\"M 330.152344 350 C 343.171875 368.222656 362.46875 377.394531 381.394531 366.238281 \"/>\n<path style=\" stroke:none;fill-rule:nonzero;fill:rgb(26.666667%,26.666667%,26.666667%);fill-opacity:1;\" d=\"M 393.683594 358.996094 L 383.746094 370.234375 L 379.039063 362.246094 L 393.683594 358.996094 \"/>\n<path style=\"fill:none;stroke-width:1;stroke-linecap:butt;stroke-linejoin:miter;stroke:rgb(26.666667%,26.666667%,26.666667%);stroke-opacity:1;stroke-miterlimit:10;\" d=\"M 330.152344 350 C 359.082031 331.59375 372.765625 304.191406 359.199219 273.003906 \"/>\n<path style=\" stroke:none;fill-rule:nonzero;fill:rgb(26.666667%,26.666667%,26.666667%);fill-opacity:1;\" d=\"M 353.507813 259.921875 L 363.449219 271.152344 L 354.949219 274.851563 L 353.507813 259.921875 \"/>\n<path style=\"fill:none;stroke-width:1;stroke-linecap:butt;stroke-linejoin:miter;stroke:rgb(26.666667%,26.666667%,26.666667%);stroke-opacity:1;stroke-miterlimit:10;\" d=\"M 330.152344 350 C 369.421875 365.445313 405.695313 358.789063 427.796875 323.105469 \"/>\n<path style=\" stroke:none;fill-rule:nonzero;fill:rgb(26.666667%,26.666667%,26.666667%);fill-opacity:1;\" d=\"M 435.308594 310.980469 L 431.738281 325.546875 L 423.855469 320.667969 L 435.308594 310.980469 \"/>\n<path style=\"fill:none;stroke-width:1;stroke-linecap:butt;stroke-linejoin:miter;stroke:rgb(26.666667%,26.666667%,26.666667%);stroke-opacity:1;stroke-miterlimit:10;\" d=\"M 330.152344 350 C 318.578125 345.046875 304.773438 345.996094 300.800781 357.152344 \"/>\n<path style=\" stroke:none;fill-rule:nonzero;fill:rgb(26.666667%,26.666667%,26.666667%);fill-opacity:1;\" d=\"M 296.011719 370.589844 L 296.433594 355.597656 L 305.164063 358.707031 L 296.011719 370.589844 \"/>\n<path style=\"fill:none;stroke-width:1;stroke-linecap:butt;stroke-linejoin:miter;stroke:rgb(26.666667%,26.666667%,26.666667%);stroke-opacity:1;stroke-miterlimit:10;\" d=\"M 330.152344 350 C 343.339844 333.199219 346.664063 312.914063 331.277344 298.753906 \"/>\n<path style=\" stroke:none;fill-rule:nonzero;fill:rgb(26.666667%,26.666667%,26.666667%);fill-opacity:1;\" d=\"M 320.78125 289.09375 L 334.417969 295.34375 L 328.136719 302.164063 L 320.78125 289.09375 \"/>\n<path style=\"fill:none;stroke-width:1;stroke-linecap:butt;stroke-linejoin:miter;stroke:rgb(26.666667%,26.666667%,26.666667%);stroke-opacity:1;stroke-miterlimit:10;\" d=\"M 330.152344 350 C 290.601563 360.726563 266.078125 386.964844 269.664063 427.550781 \"/>\n<path style=\" stroke:none;fill-rule:nonzero;fill:rgb(26.666667%,26.666667%,26.666667%);fill-opacity:1;\" d=\"M 270.917969 441.761719 L 265.046875 427.957031 L 274.28125 427.140625 L 270.917969 441.761719 \"/>\n<path style=\"fill:none;stroke-width:1;stroke-linecap:butt;stroke-linejoin:miter;stroke:rgb(26.666667%,26.666667%,26.666667%);stroke-opacity:1;stroke-miterlimit:10;\" d=\"M 330.152344 350 C 317.054688 318.980469 292.726563 301.183594 260.339844 309.300781 \"/>\n<path style=\" stroke:none;fill-rule:nonzero;fill:rgb(26.666667%,26.666667%,26.666667%);fill-opacity:1;\" d=\"M 246.5 312.765625 L 259.210938 304.800781 L 261.464844 313.796875 L 246.5 312.765625 \"/>\n<path style=\"fill:none;stroke-width:1;stroke-linecap:butt;stroke-linejoin:miter;stroke:rgb(26.666667%,26.666667%,26.666667%);stroke-opacity:1;stroke-miterlimit:10;\" d=\"M 330.152344 350 C 371.492188 400.238281 424.070313 416.476563 481.867188 386.933594 \"/>\n<path style=\" stroke:none;fill-rule:nonzero;fill:rgb(26.666667%,26.666667%,26.666667%);fill-opacity:1;\" d=\"M 494.570313 380.4375 L 483.976563 391.058594 L 479.757813 382.804688 L 494.570313 380.4375 \"/>\n<path style=\"fill:none;stroke-width:1;stroke-linecap:butt;stroke-linejoin:miter;stroke:rgb(26.666667%,26.666667%,26.666667%);stroke-opacity:1;stroke-miterlimit:10;\" d=\"M 330.152344 350 C 302.296875 290.128906 254.777344 260.871094 190.457031 275.15625 \"/>\n<path style=\" stroke:none;fill-rule:nonzero;fill:rgb(26.666667%,26.666667%,26.666667%);fill-opacity:1;\" d=\"M 176.53125 278.25 L 189.453125 270.632813 L 191.460938 279.679688 L 176.53125 278.25 \"/>\n<path style=\"fill:none;stroke-width:1;stroke-linecap:butt;stroke-linejoin:miter;stroke:rgb(26.666667%,26.666667%,26.666667%);stroke-opacity:1;stroke-miterlimit:10;\" d=\"M 349.570313 250.871094 C 337.273438 289.324219 345.816406 323.707031 381.328125 342.410156 \"/>\n<path style=\" stroke:none;fill-rule:nonzero;fill:rgb(26.666667%,26.666667%,26.666667%);fill-opacity:1;\" d=\"M 393.949219 349.058594 L 379.167969 346.511719 L 383.488281 338.308594 L 393.949219 349.058594 \"/>\n<path style=\"fill:none;stroke-width:1;stroke-linecap:butt;stroke-linejoin:miter;stroke:rgb(26.666667%,26.666667%,26.666667%);stroke-opacity:1;stroke-miterlimit:10;\" d=\"M 349.570313 250.871094 C 320.640625 269.273438 306.957031 296.679688 320.523438 327.867188 \"/>\n<path style=\" stroke:none;fill-rule:nonzero;fill:rgb(26.666667%,26.666667%,26.666667%);fill-opacity:1;\" d=\"M 326.214844 340.949219 L 316.273438 329.714844 L 324.773438 326.015625 L 326.214844 340.949219 \"/>\n<path style=\"fill:none;stroke-width:1;stroke-linecap:butt;stroke-linejoin:miter;stroke:rgb(26.666667%,26.666667%,26.666667%);stroke-opacity:1;stroke-miterlimit:10;\" d=\"M 349.570313 250.871094 C 358.421875 285.535156 381.109375 307.820313 416.476563 304.683594 \"/>\n<path style=\" stroke:none;fill-rule:nonzero;fill:rgb(26.666667%,26.666667%,26.666667%);fill-opacity:1;\" d=\"M 430.6875 303.421875 L 416.886719 309.300781 L 416.070313 300.066406 L 430.6875 303.421875 \"/>\n<path style=\"fill:none;stroke-width:1;stroke-linecap:butt;stroke-linejoin:miter;stroke:rgb(26.666667%,26.666667%,26.666667%);stroke-opacity:1;stroke-miterlimit:10;\" d=\"M 349.570313 250.871094 C 302.546875 270.632813 277.632813 306.730469 287.746094 356.53125 \"/>\n<path style=\" stroke:none;fill-rule:nonzero;fill:rgb(26.666667%,26.666667%,26.666667%);fill-opacity:1;\" d=\"M 290.585938 370.511719 L 283.203125 357.453125 L 292.289063 355.609375 L 290.585938 370.511719 \"/>\n<path style=\"fill:none;stroke-width:1;stroke-linecap:butt;stroke-linejoin:miter;stroke:rgb(26.666667%,26.666667%,26.666667%);stroke-opacity:1;stroke-miterlimit:10;\" d=\"M 349.570313 250.871094 C 321.753906 233.839844 292.441406 233.488281 271.636719 258.230469 \"/>\n<path style=\" stroke:none;fill-rule:nonzero;fill:rgb(26.666667%,26.666667%,26.666667%);fill-opacity:1;\" d=\"M 262.457031 269.148438 L 268.089844 255.25 L 275.1875 261.214844 L 262.457031 269.148438 \"/>\n<path style=\"fill:none;stroke-width:1;stroke-linecap:butt;stroke-linejoin:miter;stroke:rgb(26.666667%,26.666667%,26.666667%);stroke-opacity:1;stroke-miterlimit:10;\" d=\"M 349.570313 250.871094 C 383.425781 240.351563 404.363281 216.757813 399.421875 181.925781 \"/>\n<path style=\" stroke:none;fill-rule:nonzero;fill:rgb(26.666667%,26.666667%,26.666667%);fill-opacity:1;\" d=\"M 397.417969 167.800781 L 404.011719 181.277344 L 394.832031 182.578125 L 397.417969 167.800781 \"/>\n<path style=\"fill:none;stroke-width:1;stroke-linecap:butt;stroke-linejoin:miter;stroke:rgb(26.666667%,26.666667%,26.666667%);stroke-opacity:1;stroke-miterlimit:10;\" d=\"M 349.570313 250.871094 C 337.984375 246.246094 324.289063 247.527344 320.664063 258.675781 \"/>\n<path style=\" stroke:none;fill-rule:nonzero;fill:rgb(26.666667%,26.666667%,26.666667%);fill-opacity:1;\" d=\"M 316.253906 272.242188 L 316.257813 257.242188 L 325.074219 260.109375 L 316.253906 272.242188 \"/>\n<path style=\"fill:none;stroke-width:1;stroke-linecap:butt;stroke-linejoin:miter;stroke:rgb(26.666667%,26.666667%,26.666667%);stroke-opacity:1;stroke-miterlimit:10;\" d=\"M 349.570313 250.871094 C 388.957031 227.828125 407.234375 192.707031 392.011719 149.917969 \"/>\n<path style=\" stroke:none;fill-rule:nonzero;fill:rgb(26.666667%,26.666667%,26.666667%);fill-opacity:1;\" d=\"M 387.226563 136.476563 L 396.378906 148.363281 L 387.644531 151.46875 L 387.226563 136.476563 \"/>\n<path style=\"fill:none;stroke-width:1;stroke-linecap:butt;stroke-linejoin:miter;stroke:rgb(26.666667%,26.666667%,26.666667%);stroke-opacity:1;stroke-miterlimit:10;\" d=\"M 349.570313 250.871094 C 369.015625 222.039063 370.597656 191.0625 345.386719 167.511719 \"/>\n<path style=\" stroke:none;fill-rule:nonzero;fill:rgb(26.666667%,26.666667%,26.666667%);fill-opacity:1;\" d=\"M 334.960938 157.773438 L 348.550781 164.125 L 342.222656 170.898438 L 334.960938 157.773438 \"/>\n<path style=\"fill:none;stroke-width:1;stroke-linecap:butt;stroke-linejoin:miter;stroke:rgb(26.666667%,26.666667%,26.666667%);stroke-opacity:1;stroke-miterlimit:10;\" d=\"M 349.570313 250.871094 C 323.300781 195.8125 279.035156 168.898438 219.84375 182.992188 \"/>\n<path style=\" stroke:none;fill-rule:nonzero;fill:rgb(26.666667%,26.666667%,26.666667%);fill-opacity:1;\" d=\"M 205.96875 186.296875 L 218.773438 178.484375 L 220.917969 187.5 L 205.96875 186.296875 \"/>\n<path style=\"fill:none;stroke-width:1;stroke-linecap:butt;stroke-linejoin:miter;stroke:rgb(26.666667%,26.666667%,26.666667%);stroke-opacity:1;stroke-miterlimit:10;\" d=\"M 440.527344 302.550781 C 421.820313 302.3125 405.402344 310.871094 404.261719 329.035156 \"/>\n<path style=\" stroke:none;fill-rule:nonzero;fill:rgb(26.666667%,26.666667%,26.666667%);fill-opacity:1;\" d=\"M 403.367188 343.273438 L 399.636719 328.746094 L 408.886719 329.328125 L 403.367188 343.273438 \"/>\n<path style=\"fill:none;stroke-width:1;stroke-linecap:butt;stroke-linejoin:miter;stroke:rgb(26.666667%,26.666667%,26.666667%);stroke-opacity:1;stroke-miterlimit:10;\" d=\"M 440.527344 302.550781 C 401.257813 287.101563 364.984375 293.761719 342.882813 329.441406 \"/>\n<path style=\" stroke:none;fill-rule:nonzero;fill:rgb(26.666667%,26.666667%,26.666667%);fill-opacity:1;\" d=\"M 335.371094 341.570313 L 338.945313 327 L 346.824219 331.882813 L 335.371094 341.570313 \"/>\n<path style=\"fill:none;stroke-width:1;stroke-linecap:butt;stroke-linejoin:miter;stroke:rgb(26.666667%,26.666667%,26.666667%);stroke-opacity:1;stroke-miterlimit:10;\" d=\"M 440.527344 302.550781 C 431.679688 267.886719 408.992188 245.601563 373.625 248.738281 \"/>\n<path style=\" stroke:none;fill-rule:nonzero;fill:rgb(26.666667%,26.666667%,26.666667%);fill-opacity:1;\" d=\"M 359.414063 249.996094 L 373.214844 244.121094 L 374.03125 253.355469 L 359.414063 249.996094 \"/>\n<path style=\"fill:none;stroke-width:1;stroke-linecap:butt;stroke-linejoin:miter;stroke:rgb(26.666667%,26.666667%,26.666667%);stroke-opacity:1;stroke-miterlimit:10;\" d=\"M 440.527344 302.550781 C 380.832031 286.980469 331.21875 303.683594 303.492188 358.617188 \"/>\n<path style=\" stroke:none;fill-rule:nonzero;fill:rgb(26.666667%,26.666667%,26.666667%);fill-opacity:1;\" d=\"M 297.0625 371.351563 L 299.355469 356.527344 L 307.628906 360.707031 L 297.0625 371.351563 \"/>\n<path style=\"fill:none;stroke-width:1;stroke-linecap:butt;stroke-linejoin:miter;stroke:rgb(26.666667%,26.666667%,26.666667%);stroke-opacity:1;stroke-miterlimit:10;\" d=\"M 440.527344 302.550781 C 461.558594 345.769531 496.894531 367.578125 543.140625 355.25 \"/>\n<path style=\" stroke:none;fill-rule:nonzero;fill:rgb(26.666667%,26.666667%,26.666667%);fill-opacity:1;\" d=\"M 556.925781 351.574219 L 544.335938 359.730469 L 541.945313 350.769531 L 556.925781 351.574219 \"/>\n<path style=\"fill:none;stroke-width:1;stroke-linecap:butt;stroke-linejoin:miter;stroke:rgb(26.666667%,26.666667%,26.666667%);stroke-opacity:1;stroke-miterlimit:10;\" d=\"M 440.527344 302.550781 C 413.082031 265.75 375.929688 251.429688 334.835938 271.417969 \"/>\n<path style=\" stroke:none;fill-rule:nonzero;fill:rgb(26.666667%,26.666667%,26.666667%);fill-opacity:1;\" d=\"M 322.007813 277.660156 L 332.808594 267.25 L 336.867188 275.585938 L 322.007813 277.660156 \"/>\n<path style=\"fill:none;stroke-width:1;stroke-linecap:butt;stroke-linejoin:miter;stroke:rgb(26.666667%,26.666667%,26.666667%);stroke-opacity:1;stroke-miterlimit:10;\" d=\"M 500.921875 433.214844 C 495.699219 388.738281 471.308594 358.40625 426.847656 355.339844 \"/>\n<path style=\" stroke:none;fill-rule:nonzero;fill:rgb(26.666667%,26.666667%,26.666667%);fill-opacity:1;\" d=\"M 412.617188 354.355469 L 427.167969 350.714844 L 426.53125 359.964844 L 412.617188 354.355469 \"/>\n<path style=\"fill:none;stroke-width:1;stroke-linecap:butt;stroke-linejoin:miter;stroke:rgb(26.666667%,26.666667%,26.666667%);stroke-opacity:1;stroke-miterlimit:10;\" d=\"M 500.921875 433.214844 C 466.203125 422.921875 435.113281 431.09375 419.441406 463.445313 \"/>\n<path style=\" stroke:none;fill-rule:nonzero;fill:rgb(26.666667%,26.666667%,26.666667%);fill-opacity:1;\" d=\"M 413.222656 476.28125 L 415.269531 461.421875 L 423.613281 465.464844 L 413.222656 476.28125 \"/>\n<path style=\"fill:none;stroke-width:1;stroke-linecap:butt;stroke-linejoin:miter;stroke:rgb(26.666667%,26.666667%,26.666667%);stroke-opacity:1;stroke-miterlimit:10;\" d=\"M 500.921875 433.214844 C 458.667969 409.074219 416.71875 411.035156 385.035156 447.710938 \"/>\n<path style=\" stroke:none;fill-rule:nonzero;fill:rgb(26.666667%,26.666667%,26.666667%);fill-opacity:1;\" d=\"M 375.710938 458.503906 L 381.527344 444.679688 L 388.542969 450.738281 L 375.710938 458.503906 \"/>\n<path style=\"fill:none;stroke-width:1;stroke-linecap:butt;stroke-linejoin:miter;stroke:rgb(26.666667%,26.666667%,26.666667%);stroke-opacity:1;stroke-miterlimit:10;\" d=\"M 477.019531 467.144531 C 485.894531 419.339844 470.246094 380.40625 425.222656 362.582031 \"/>\n<path style=\" stroke:none;fill-rule:nonzero;fill:rgb(26.666667%,26.666667%,26.666667%);fill-opacity:1;\" d=\"M 411.957031 357.332031 L 426.929688 358.273438 L 423.515625 366.894531 L 411.957031 357.332031 \"/>\n<path style=\"fill:none;stroke-width:1;stroke-linecap:butt;stroke-linejoin:miter;stroke:rgb(26.666667%,26.666667%,26.666667%);stroke-opacity:1;stroke-miterlimit:10;\" d=\"M 477.019531 467.144531 C 459.917969 454.117188 439.476563 451.082031 425.421875 466.757813 \"/>\n<path style=\" stroke:none;fill-rule:nonzero;fill:rgb(26.666667%,26.666667%,26.666667%);fill-opacity:1;\" d=\"M 415.902344 477.378906 L 421.972656 463.664063 L 428.875 469.851563 L 415.902344 477.378906 \"/>\n<path style=\"fill:none;stroke-width:1;stroke-linecap:butt;stroke-linejoin:miter;stroke:rgb(26.666667%,26.666667%,26.666667%);stroke-opacity:1;stroke-miterlimit:10;\" d=\"M 477.019531 467.144531 C 451.414063 440.296875 419.691406 431.792969 389.199219 452.46875 \"/>\n<path style=\" stroke:none;fill-rule:nonzero;fill:rgb(26.666667%,26.666667%,26.666667%);fill-opacity:1;\" d=\"M 377.394531 460.480469 L 386.597656 448.632813 L 391.800781 456.308594 L 377.394531 460.480469 \"/>\n<path style=\"fill:none;stroke-width:1;stroke-linecap:butt;stroke-linejoin:miter;stroke:rgb(26.666667%,26.666667%,26.666667%);stroke-opacity:1;stroke-miterlimit:10;\" d=\"M 477.019531 467.144531 C 450.867188 496.441406 444.761719 530.460938 468.996094 561.054688 \"/>\n<path style=\" stroke:none;fill-rule:nonzero;fill:rgb(26.666667%,26.666667%,26.666667%);fill-opacity:1;\" d=\"M 477.851563 572.238281 L 465.359375 563.933594 L 472.628906 558.179688 L 477.851563 572.238281 \"/>\n<path style=\"fill:none;stroke-width:1;stroke-linecap:butt;stroke-linejoin:miter;stroke:rgb(26.666667%,26.666667%,26.666667%);stroke-opacity:1;stroke-miterlimit:10;\" d=\"M 408.914063 485.175781 C 439.890625 449.875 446.242188 409.71875 417.558594 372.789063 \"/>\n<path style=\" stroke:none;fill-rule:nonzero;fill:rgb(26.666667%,26.666667%,26.666667%);fill-opacity:1;\" d=\"M 408.808594 361.519531 L 421.21875 369.945313 L 413.898438 375.632813 L 408.808594 361.519531 \"/>\n<path style=\"fill:none;stroke-width:1;stroke-linecap:butt;stroke-linejoin:miter;stroke:rgb(26.666667%,26.666667%,26.666667%);stroke-opacity:1;stroke-miterlimit:10;\" d=\"M 408.914063 485.175781 C 443.632813 495.46875 474.71875 487.296875 490.394531 454.945313 \"/>\n<path style=\" stroke:none;fill-rule:nonzero;fill:rgb(26.666667%,26.666667%,26.666667%);fill-opacity:1;\" d=\"M 496.613281 442.109375 L 494.5625 456.96875 L 486.222656 452.925781 L 496.613281 442.109375 \"/>\n<path style=\"fill:none;stroke-width:1;stroke-linecap:butt;stroke-linejoin:miter;stroke:rgb(26.666667%,26.666667%,26.666667%);stroke-opacity:1;stroke-miterlimit:10;\" d=\"M 408.914063 485.175781 C 426.015625 498.203125 446.457031 501.238281 460.511719 485.5625 \"/>\n<path style=\" stroke:none;fill-rule:nonzero;fill:rgb(26.666667%,26.666667%,26.666667%);fill-opacity:1;\" d=\"M 470.03125 474.941406 L 463.960938 488.65625 L 457.058594 482.46875 L 470.03125 474.941406 \"/>\n<path style=\"fill:none;stroke-width:1;stroke-linecap:butt;stroke-linejoin:miter;stroke:rgb(26.666667%,26.666667%,26.666667%);stroke-opacity:1;stroke-miterlimit:10;\" d=\"M 408.914063 485.175781 C 404.246094 527.453125 420.296875 560.949219 460.828125 573.070313 \"/>\n<path style=\" stroke:none;fill-rule:nonzero;fill:rgb(26.666667%,26.666667%,26.666667%);fill-opacity:1;\" d=\"M 474.496094 577.160156 L 459.5 577.511719 L 462.15625 568.628906 L 474.496094 577.160156 \"/>\n<path style=\"fill:none;stroke-width:1;stroke-linecap:butt;stroke-linejoin:miter;stroke:rgb(26.666667%,26.666667%,26.666667%);stroke-opacity:1;stroke-miterlimit:10;\" d=\"M 292.566406 380.261719 C 326.0625 400.953125 360.707031 401.019531 386.675781 371.75 \"/>\n<path style=\" stroke:none;fill-rule:nonzero;fill:rgb(26.666667%,26.666667%,26.666667%);fill-opacity:1;\" d=\"M 396.144531 361.078125 L 390.144531 374.828125 L 383.207031 368.675781 L 396.144531 361.078125 \"/>\n<path style=\"fill:none;stroke-width:1;stroke-linecap:butt;stroke-linejoin:miter;stroke:rgb(26.666667%,26.666667%,26.666667%);stroke-opacity:1;stroke-miterlimit:10;\" d=\"M 292.566406 380.261719 C 304.136719 385.214844 317.945313 384.265625 321.917969 373.109375 \"/>\n<path style=\" stroke:none;fill-rule:nonzero;fill:rgb(26.666667%,26.666667%,26.666667%);fill-opacity:1;\" d=\"M 326.707031 359.671875 L 326.285156 374.664063 L 317.550781 371.554688 L 326.707031 359.671875 \"/>\n<path style=\"fill:none;stroke-width:1;stroke-linecap:butt;stroke-linejoin:miter;stroke:rgb(26.666667%,26.666667%,26.666667%);stroke-opacity:1;stroke-miterlimit:10;\" d=\"M 292.566406 380.261719 C 339.589844 360.5 364.507813 324.402344 354.390625 274.601563 \"/>\n<path style=\" stroke:none;fill-rule:nonzero;fill:rgb(26.666667%,26.666667%,26.666667%);fill-opacity:1;\" d=\"M 351.550781 260.621094 L 358.933594 273.679688 L 349.847656 275.523438 L 351.550781 260.621094 \"/>\n<path style=\"fill:none;stroke-width:1;stroke-linecap:butt;stroke-linejoin:miter;stroke:rgb(26.666667%,26.666667%,26.666667%);stroke-opacity:1;stroke-miterlimit:10;\" d=\"M 292.566406 380.261719 C 352.261719 395.832031 401.875 379.132813 429.601563 324.195313 \"/>\n<path style=\" stroke:none;fill-rule:nonzero;fill:rgb(26.666667%,26.666667%,26.666667%);fill-opacity:1;\" d=\"M 436.03125 311.460938 L 433.742188 326.285156 L 425.464844 322.109375 L 436.03125 311.460938 \"/>\n<path style=\"fill:none;stroke-width:1;stroke-linecap:butt;stroke-linejoin:miter;stroke:rgb(26.666667%,26.666667%,26.666667%);stroke-opacity:1;stroke-miterlimit:10;\" d=\"M 256.113281 276.695313 C 276.90625 334.097656 318.363281 365.21875 378.691406 356.960938 \"/>\n<path style=\" stroke:none;fill-rule:nonzero;fill:rgb(26.666667%,26.666667%,26.666667%);fill-opacity:1;\" d=\"M 392.828125 355.027344 L 379.320313 361.554688 L 378.066406 352.371094 L 392.828125 355.027344 \"/>\n<path style=\"fill:none;stroke-width:1;stroke-linecap:butt;stroke-linejoin:miter;stroke:rgb(26.666667%,26.666667%,26.666667%);stroke-opacity:1;stroke-miterlimit:10;\" d=\"M 256.113281 276.695313 C 283.929688 293.726563 313.242188 294.074219 334.046875 269.335938 \"/>\n<path style=\" stroke:none;fill-rule:nonzero;fill:rgb(26.666667%,26.666667%,26.666667%);fill-opacity:1;\" d=\"M 343.226563 258.414063 L 337.59375 272.316406 L 330.5 266.351563 L 343.226563 258.414063 \"/>\n<path style=\"fill:none;stroke-width:1;stroke-linecap:butt;stroke-linejoin:miter;stroke:rgb(26.666667%,26.666667%,26.666667%);stroke-opacity:1;stroke-miterlimit:10;\" d=\"M 256.113281 276.695313 C 235.445313 255.636719 209.515625 248.589844 186.105469 266.023438 \"/>\n<path style=\" stroke:none;fill-rule:nonzero;fill:rgb(26.666667%,26.666667%,26.666667%);fill-opacity:1;\" d=\"M 174.664063 274.542969 L 183.339844 262.304688 L 188.875 269.738281 L 174.664063 274.542969 \"/>\n<path style=\"fill:none;stroke-width:1;stroke-linecap:butt;stroke-linejoin:miter;stroke:rgb(26.666667%,26.666667%,26.666667%);stroke-opacity:1;stroke-miterlimit:10;\" d=\"M 256.113281 276.695313 C 263.523438 240.898438 252.652344 210.359375 218.792969 197.300781 \"/>\n<path style=\" stroke:none;fill-rule:nonzero;fill:rgb(26.666667%,26.666667%,26.666667%);fill-opacity:1;\" d=\"M 205.480469 192.164063 L 220.460938 192.972656 L 217.125 201.625 L 205.480469 192.164063 \"/>\n<path style=\"fill:none;stroke-width:1;stroke-linecap:butt;stroke-linejoin:miter;stroke:rgb(26.666667%,26.666667%,26.666667%);stroke-opacity:1;stroke-miterlimit:10;\" d=\"M 256.113281 276.695313 C 279.753906 246.652344 283.707031 213.148438 258.246094 184.972656 \"/>\n<path style=\" stroke:none;fill-rule:nonzero;fill:rgb(26.666667%,26.666667%,26.666667%);fill-opacity:1;\" d=\"M 248.679688 174.390625 L 261.683594 181.863281 L 254.804688 188.082031 L 248.679688 174.390625 \"/>\n<path style=\"fill:none;stroke-width:1;stroke-linecap:butt;stroke-linejoin:miter;stroke:rgb(26.666667%,26.666667%,26.666667%);stroke-opacity:1;stroke-miterlimit:10;\" d=\"M 396.03125 158.023438 C 362.179688 168.542969 341.242188 192.136719 346.179688 226.964844 \"/>\n<path style=\" stroke:none;fill-rule:nonzero;fill:rgb(26.666667%,26.666667%,26.666667%);fill-opacity:1;\" d=\"M 348.183594 241.089844 L 341.59375 227.617188 L 350.769531 226.316406 L 348.183594 241.089844 \"/>\n<path style=\"fill:none;stroke-width:1;stroke-linecap:butt;stroke-linejoin:miter;stroke:rgb(26.666667%,26.666667%,26.666667%);stroke-opacity:1;stroke-miterlimit:10;\" d=\"M 396.03125 158.023438 C 352.539063 122.203125 304.753906 116.722656 260.945313 151.882813 \"/>\n<path style=\" stroke:none;fill-rule:nonzero;fill:rgb(26.666667%,26.666667%,26.666667%);fill-opacity:1;\" d=\"M 249.820313 160.808594 L 258.042969 148.265625 L 263.84375 155.496094 L 249.820313 160.808594 \"/>\n<path style=\"fill:none;stroke-width:1;stroke-linecap:butt;stroke-linejoin:miter;stroke:rgb(26.666667%,26.666667%,26.666667%);stroke-opacity:1;stroke-miterlimit:10;\" d=\"M 369.210938 466.027344 C 405.261719 446.503906 423.117188 415.324219 410.308594 376.625 \"/>\n<path style=\" stroke:none;fill-rule:nonzero;fill:rgb(26.666667%,26.666667%,26.666667%);fill-opacity:1;\" d=\"M 405.828125 363.082031 L 414.710938 375.167969 L 405.910156 378.082031 L 405.828125 363.082031 \"/>\n<path style=\"fill:none;stroke-width:1;stroke-linecap:butt;stroke-linejoin:miter;stroke:rgb(26.666667%,26.666667%,26.666667%);stroke-opacity:1;stroke-miterlimit:10;\" d=\"M 369.210938 466.027344 C 411.464844 490.167969 453.414063 488.207031 485.097656 451.53125 \"/>\n<path style=\" stroke:none;fill-rule:nonzero;fill:rgb(26.666667%,26.666667%,26.666667%);fill-opacity:1;\" d=\"M 494.421875 440.738281 L 488.605469 454.5625 L 481.589844 448.503906 L 494.421875 440.738281 \"/>\n<path style=\"fill:none;stroke-width:1;stroke-linecap:butt;stroke-linejoin:miter;stroke:rgb(26.666667%,26.666667%,26.666667%);stroke-opacity:1;stroke-miterlimit:10;\" d=\"M 369.210938 466.027344 C 394.816406 492.875 426.542969 501.382813 457.03125 480.703125 \"/>\n<path style=\" stroke:none;fill-rule:nonzero;fill:rgb(26.666667%,26.666667%,26.666667%);fill-opacity:1;\" d=\"M 468.835938 472.695313 L 459.632813 484.539063 L 454.429688 476.867188 L 468.835938 472.695313 \"/>\n<path style=\"fill:none;stroke-width:1;stroke-linecap:butt;stroke-linejoin:miter;stroke:rgb(26.666667%,26.666667%,26.666667%);stroke-opacity:1;stroke-miterlimit:10;\" d=\"M 580 307.03125 C 519.074219 275.894531 461.738281 282.398438 418.1875 334.988281 \"/>\n<path style=\" stroke:none;fill-rule:nonzero;fill:rgb(26.666667%,26.666667%,26.666667%);fill-opacity:1;\" d=\"M 409.089844 345.976563 L 414.617188 332.03125 L 421.757813 337.945313 L 409.089844 345.976563 \"/>\n<path style=\"fill:none;stroke-width:1;stroke-linecap:butt;stroke-linejoin:miter;stroke:rgb(26.666667%,26.666667%,26.666667%);stroke-opacity:1;stroke-miterlimit:10;\" d=\"M 566.53125 349.015625 C 520.859375 309.570313 470.042969 302.734375 422.046875 339.046875 \"/>\n<path style=\" stroke:none;fill-rule:nonzero;fill:rgb(26.666667%,26.666667%,26.666667%);fill-opacity:1;\" d=\"M 410.671875 347.652344 L 419.25 335.351563 L 424.84375 342.742188 L 410.671875 347.652344 \"/>\n<path style=\"fill:none;stroke-width:1;stroke-linecap:butt;stroke-linejoin:miter;stroke:rgb(26.666667%,26.666667%,26.666667%);stroke-opacity:1;stroke-miterlimit:10;\" d=\"M 566.53125 349.015625 C 545.5 305.796875 510.164063 283.984375 463.917969 296.316406 \"/>\n<path style=\" stroke:none;fill-rule:nonzero;fill:rgb(26.666667%,26.666667%,26.666667%);fill-opacity:1;\" d=\"M 450.132813 299.988281 L 462.722656 291.835938 L 465.109375 300.792969 L 450.132813 299.988281 \"/>\n<path style=\"fill:none;stroke-width:1;stroke-linecap:butt;stroke-linejoin:miter;stroke:rgb(26.666667%,26.666667%,26.666667%);stroke-opacity:1;stroke-miterlimit:10;\" d=\"M 313.078125 282.003906 C 317.398438 321.746094 338.949219 349.46875 378.597656 352.085938 \"/>\n<path style=\" stroke:none;fill-rule:nonzero;fill:rgb(26.666667%,26.666667%,26.666667%);fill-opacity:1;\" d=\"M 392.832031 353.023438 L 378.292969 356.710938 L 378.902344 347.460938 L 392.832031 353.023438 \"/>\n<path style=\"fill:none;stroke-width:1;stroke-linecap:butt;stroke-linejoin:miter;stroke:rgb(26.666667%,26.666667%,26.666667%);stroke-opacity:1;stroke-miterlimit:10;\" d=\"M 313.078125 282.003906 C 299.890625 298.804688 296.570313 319.089844 311.953125 333.25 \"/>\n<path style=\" stroke:none;fill-rule:nonzero;fill:rgb(26.666667%,26.666667%,26.666667%);fill-opacity:1;\" d=\"M 322.449219 342.910156 L 308.8125 336.660156 L 315.09375 329.839844 L 322.449219 342.910156 \"/>\n<path style=\"fill:none;stroke-width:1;stroke-linecap:butt;stroke-linejoin:miter;stroke:rgb(26.666667%,26.666667%,26.666667%);stroke-opacity:1;stroke-miterlimit:10;\" d=\"M 313.078125 282.003906 C 324.667969 286.628906 338.359375 285.347656 341.984375 274.199219 \"/>\n<path style=\" stroke:none;fill-rule:nonzero;fill:rgb(26.666667%,26.666667%,26.666667%);fill-opacity:1;\" d=\"M 346.398438 260.632813 L 346.394531 275.632813 L 337.578125 272.765625 L 346.398438 260.632813 \"/>\n<path style=\"fill:none;stroke-width:1;stroke-linecap:butt;stroke-linejoin:miter;stroke:rgb(26.666667%,26.666667%,26.666667%);stroke-opacity:1;stroke-miterlimit:10;\" d=\"M 313.078125 282.003906 C 340.527344 318.804688 377.675781 333.125 418.769531 313.136719 \"/>\n<path style=\" stroke:none;fill-rule:nonzero;fill:rgb(26.666667%,26.666667%,26.666667%);fill-opacity:1;\" d=\"M 431.597656 306.894531 L 420.796875 317.304688 L 416.742188 308.96875 L 431.597656 306.894531 \"/>\n<path style=\"fill:none;stroke-width:1;stroke-linecap:butt;stroke-linejoin:miter;stroke:rgb(26.666667%,26.666667%,26.666667%);stroke-opacity:1;stroke-miterlimit:10;\" d=\"M 313.078125 282.003906 C 323.1875 234.660156 308.652344 195.46875 264.308594 176.546875 \"/>\n<path style=\" stroke:none;fill-rule:nonzero;fill:rgb(26.666667%,26.666667%,26.666667%);fill-opacity:1;\" d=\"M 251.1875 170.949219 L 266.128906 172.285156 L 262.492188 180.8125 L 251.1875 170.949219 \"/>\n<path style=\"fill:none;stroke-width:1;stroke-linecap:butt;stroke-linejoin:miter;stroke:rgb(26.666667%,26.666667%,26.666667%);stroke-opacity:1;stroke-miterlimit:10;\" d=\"M 81.292969 153.710938 C 101.351563 190.839844 133.371094 209.136719 173.273438 196.113281 \"/>\n<path style=\" stroke:none;fill-rule:nonzero;fill:rgb(26.666667%,26.666667%,26.666667%);fill-opacity:1;\" d=\"M 186.835938 191.683594 L 174.710938 200.519531 L 171.835938 191.707031 L 186.835938 191.683594 \"/>\n<path style=\"fill:none;stroke-width:1;stroke-linecap:butt;stroke-linejoin:miter;stroke:rgb(26.666667%,26.666667%,26.666667%);stroke-opacity:1;stroke-miterlimit:10;\" d=\"M 81.292969 153.710938 C 121.5 197.261719 170.386719 209.621094 221.207031 179.429688 \"/>\n<path style=\" stroke:none;fill-rule:nonzero;fill:rgb(26.666667%,26.666667%,26.666667%);fill-opacity:1;\" d=\"M 233.46875 172.144531 L 223.574219 183.414063 L 218.835938 175.445313 L 233.46875 172.144531 \"/>\n<path style=\"fill:none;stroke-width:1;stroke-linecap:butt;stroke-linejoin:miter;stroke:rgb(26.666667%,26.666667%,26.666667%);stroke-opacity:1;stroke-miterlimit:10;\" d=\"M 141.6875 83.515625 C 129.265625 123.097656 138.285156 158.273438 174.839844 177.398438 \"/>\n<path style=\" stroke:none;fill-rule:nonzero;fill:rgb(26.666667%,26.666667%,26.666667%);fill-opacity:1;\" d=\"M 187.476563 184.011719 L 172.6875 181.507813 L 176.988281 173.292969 L 187.476563 184.011719 \"/>\n<path style=\"fill:none;stroke-width:1;stroke-linecap:butt;stroke-linejoin:miter;stroke:rgb(26.666667%,26.666667%,26.666667%);stroke-opacity:1;stroke-miterlimit:10;\" d=\"M 141.6875 83.515625 C 146.707031 129.765625 171.765625 161.328125 217.925781 165.085938 \"/>\n<path style=\" stroke:none;fill-rule:nonzero;fill:rgb(26.666667%,26.666667%,26.666667%);fill-opacity:1;\" d=\"M 232.144531 166.242188 L 217.550781 169.707031 L 218.300781 160.464844 L 232.144531 166.242188 \"/>\n<path style=\"fill:none;stroke-width:1;stroke-linecap:butt;stroke-linejoin:miter;stroke:rgb(26.666667%,26.666667%,26.666667%);stroke-opacity:1;stroke-miterlimit:10;\" d=\"M 483.996094 580 C 510.152344 550.703125 516.253906 516.683594 492.023438 486.085938 \"/>\n<path style=\" stroke:none;fill-rule:nonzero;fill:rgb(26.666667%,26.666667%,26.666667%);fill-opacity:1;\" d=\"M 483.167969 474.90625 L 495.65625 483.210938 L 488.390625 488.964844 L 483.167969 474.90625 \"/>\n<path style=\"fill:none;stroke-width:1;stroke-linecap:butt;stroke-linejoin:miter;stroke:rgb(26.666667%,26.666667%,26.666667%);stroke-opacity:1;stroke-miterlimit:10;\" d=\"M 483.996094 580 C 488.667969 537.722656 472.617188 504.226563 432.082031 492.105469 \"/>\n<path style=\" stroke:none;fill-rule:nonzero;fill:rgb(26.666667%,26.666667%,26.666667%);fill-opacity:1;\" d=\"M 418.414063 488.015625 L 433.410156 487.664063 L 430.753906 496.546875 L 418.414063 488.015625 \"/>\n<path style=\"fill:none;stroke-width:1;stroke-linecap:butt;stroke-linejoin:miter;stroke:rgb(26.666667%,26.666667%,26.666667%);stroke-opacity:1;stroke-miterlimit:10;\" d=\"M 271.792969 451.628906 C 331.6875 457.5625 377.070313 433.949219 395.335938 376.769531 \"/>\n<path style=\" stroke:none;fill-rule:nonzero;fill:rgb(26.666667%,26.666667%,26.666667%);fill-opacity:1;\" d=\"M 399.679688 363.179688 L 399.753906 378.179688 L 390.921875 375.355469 L 399.679688 363.179688 \"/>\n<path style=\"fill:none;stroke-width:1;stroke-linecap:butt;stroke-linejoin:miter;stroke:rgb(26.666667%,26.666667%,26.666667%);stroke-opacity:1;stroke-miterlimit:10;\" d=\"M 271.792969 451.628906 C 311.34375 440.902344 335.867188 414.667969 332.28125 374.078125 \"/>\n<path style=\" stroke:none;fill-rule:nonzero;fill:rgb(26.666667%,26.666667%,26.666667%);fill-opacity:1;\" d=\"M 331.023438 359.867188 L 336.898438 373.671875 L 327.664063 374.488281 L 331.023438 359.867188 \"/>\n<path style=\"fill:none;stroke-width:1;stroke-linecap:butt;stroke-linejoin:miter;stroke:rgb(26.666667%,26.666667%,26.666667%);stroke-opacity:1;stroke-miterlimit:10;\" d=\"M 104.578125 114.617188 C 109.019531 155.613281 131.238281 184.085938 172.140625 186.929688 \"/>\n<path style=\" stroke:none;fill-rule:nonzero;fill:rgb(26.666667%,26.666667%,26.666667%);fill-opacity:1;\" d=\"M 186.375 187.921875 L 171.820313 191.554688 L 172.464844 182.304688 L 186.375 187.921875 \"/>\n<path style=\"fill:none;stroke-width:1;stroke-linecap:butt;stroke-linejoin:miter;stroke:rgb(26.666667%,26.666667%,26.666667%);stroke-opacity:1;stroke-miterlimit:10;\" d=\"M 104.578125 114.617188 C 127.960938 162.609375 167.0625 186.359375 218.585938 173.089844 \"/>\n<path style=\" stroke:none;fill-rule:nonzero;fill:rgb(26.666667%,26.666667%,26.666667%);fill-opacity:1;\" d=\"M 232.402344 169.53125 L 219.742188 177.578125 L 217.429688 168.601563 L 232.402344 169.53125 \"/>\n<path style=\"fill:none;stroke-width:1;stroke-linecap:butt;stroke-linejoin:miter;stroke:rgb(26.666667%,26.666667%,26.666667%);stroke-opacity:1;stroke-miterlimit:10;\" d=\"M 236.933594 315.164063 C 272.777344 366.933594 322.253906 386.929688 380.304688 362.9375 \"/>\n<path style=\" stroke:none;fill-rule:nonzero;fill:rgb(26.666667%,26.666667%,26.666667%);fill-opacity:1;\" d=\"M 393.488281 357.488281 L 382.074219 367.222656 L 378.53125 358.652344 L 393.488281 357.488281 \"/>\n<path style=\"fill:none;stroke-width:1;stroke-linecap:butt;stroke-linejoin:miter;stroke:rgb(26.666667%,26.666667%,26.666667%);stroke-opacity:1;stroke-miterlimit:10;\" d=\"M 236.933594 315.164063 C 250.027344 346.183594 274.359375 363.980469 306.742188 355.863281 \"/>\n<path style=\" stroke:none;fill-rule:nonzero;fill:rgb(26.666667%,26.666667%,26.666667%);fill-opacity:1;\" d=\"M 320.582031 352.398438 L 307.871094 360.359375 L 305.617188 351.367188 L 320.582031 352.398438 \"/>\n<path style=\"fill:none;stroke-width:1;stroke-linecap:butt;stroke-linejoin:miter;stroke:rgb(26.666667%,26.666667%,26.666667%);stroke-opacity:1;stroke-miterlimit:10;\" d=\"M 236.933594 315.164063 C 275.046875 277.144531 284.867188 232.101563 255.363281 187.285156 \"/>\n<path style=\" stroke:none;fill-rule:nonzero;fill:rgb(26.666667%,26.666667%,26.666667%);fill-opacity:1;\" d=\"M 247.519531 175.367188 L 259.238281 184.734375 L 251.492188 189.832031 L 247.519531 175.367188 \"/>\n<path style=\"fill:none;stroke-width:1;stroke-linecap:butt;stroke-linejoin:miter;stroke:rgb(26.666667%,26.666667%,26.666667%);stroke-opacity:1;stroke-miterlimit:10;\" d=\"M 82.742188 200.652344 C 113.546875 225.730469 148.164063 230.296875 177.996094 204.4375 \"/>\n<path style=\" stroke:none;fill-rule:nonzero;fill:rgb(26.666667%,26.666667%,26.666667%);fill-opacity:1;\" d=\"M 188.777344 195.09375 L 181.035156 207.941406 L 174.960938 200.9375 L 188.777344 195.09375 \"/>\n<path style=\"fill:none;stroke-width:1;stroke-linecap:butt;stroke-linejoin:miter;stroke:rgb(26.666667%,26.666667%,26.666667%);stroke-opacity:1;stroke-miterlimit:10;\" d=\"M 82.742188 200.652344 C 134.3125 231.121094 185.1875 228.847656 225.632813 184.890625 \"/>\n<path style=\" stroke:none;fill-rule:nonzero;fill:rgb(26.666667%,26.666667%,26.666667%);fill-opacity:1;\" d=\"M 235.289063 174.390625 L 229.042969 188.027344 L 222.21875 181.75 L 235.289063 174.390625 \"/>\n<path style=\"fill:none;stroke-width:1;stroke-linecap:butt;stroke-linejoin:miter;stroke:rgb(26.666667%,26.666667%,26.666667%);stroke-opacity:1;stroke-miterlimit:10;\" d=\"M 503.464844 375.890625 C 485.167969 345.84375 457.382813 331.355469 425.066406 344.550781 \"/>\n<path style=\" stroke:none;fill-rule:nonzero;fill:rgb(26.666667%,26.666667%,26.666667%);fill-opacity:1;\" d=\"M 411.859375 349.941406 L 423.3125 340.257813 L 426.816406 348.84375 L 411.859375 349.941406 \"/>\n<path style=\"fill:none;stroke-width:1;stroke-linecap:butt;stroke-linejoin:miter;stroke:rgb(26.666667%,26.666667%,26.666667%);stroke-opacity:1;stroke-miterlimit:10;\" d=\"M 503.464844 375.890625 C 462.125 325.652344 409.546875 309.414063 351.75 338.957031 \"/>\n<path style=\" stroke:none;fill-rule:nonzero;fill:rgb(26.666667%,26.666667%,26.666667%);fill-opacity:1;\" d=\"M 339.046875 345.453125 L 349.636719 334.832031 L 353.859375 343.085938 L 339.046875 345.453125 \"/>\n<path style=\"fill:none;stroke-width:1;stroke-linecap:butt;stroke-linejoin:miter;stroke:rgb(26.666667%,26.666667%,26.666667%);stroke-opacity:1;stroke-miterlimit:10;\" d=\"M 20 245.152344 C 83.199219 273.25 140.679688 263.527344 181.804688 208.09375 \"/>\n<path style=\" stroke:none;fill-rule:nonzero;fill:rgb(26.666667%,26.666667%,26.666667%);fill-opacity:1;\" d=\"M 190.300781 196.636719 L 185.527344 210.855469 L 178.082031 205.332031 L 190.300781 196.636719 \"/>\n<path style=\"fill:none;stroke-width:1;stroke-linecap:butt;stroke-linejoin:miter;stroke:rgb(26.666667%,26.666667%,26.666667%);stroke-opacity:1;stroke-miterlimit:10;\" d=\"M 304.128906 69.152344 C 346.105469 113.882813 396.714844 126.136719 449.132813 94.589844 \"/>\n<path style=\" stroke:none;fill-rule:nonzero;fill:rgb(26.666667%,26.666667%,26.666667%);fill-opacity:1;\" d=\"M 461.355469 87.234375 L 451.523438 98.558594 L 446.742188 90.617188 L 461.355469 87.234375 \"/>\n<path style=\"fill:none;stroke-width:1;stroke-linecap:butt;stroke-linejoin:miter;stroke:rgb(26.666667%,26.666667%,26.666667%);stroke-opacity:1;stroke-miterlimit:10;\" d=\"M 304.128906 69.152344 C 308.34375 102.183594 326.78125 125.65625 359.777344 126.503906 \"/>\n<path style=\" stroke:none;fill-rule:nonzero;fill:rgb(26.666667%,26.666667%,26.666667%);fill-opacity:1;\" d=\"M 374.039063 126.867188 L 359.660156 131.136719 L 359.898438 121.867188 L 374.039063 126.867188 \"/>\n<path style=\"fill:none;stroke-width:1;stroke-linecap:butt;stroke-linejoin:miter;stroke:rgb(26.666667%,26.666667%,26.666667%);stroke-opacity:1;stroke-miterlimit:10;\" d=\"M 304.128906 69.152344 C 279.707031 44.742188 249.792969 37.316406 222.085938 57.457031 \"/>\n<path style=\" stroke:none;fill-rule:nonzero;fill:rgb(26.666667%,26.666667%,26.666667%);fill-opacity:1;\" d=\"M 210.546875 65.84375 L 219.359375 53.707031 L 224.8125 61.207031 L 210.546875 65.84375 \"/>\n<path style=\"fill:none;stroke-width:1;stroke-linecap:butt;stroke-linejoin:miter;stroke:rgb(26.666667%,26.666667%,26.666667%);stroke-opacity:1;stroke-miterlimit:10;\" d=\"M 304.128906 69.152344 C 245.261719 74.675781 205.859375 105.960938 199.058594 164.53125 \"/>\n<path style=\" stroke:none;fill-rule:nonzero;fill:rgb(26.666667%,26.666667%,26.666667%);fill-opacity:1;\" d=\"M 197.410156 178.699219 L 194.453125 163.996094 L 203.660156 165.066406 L 197.410156 178.699219 \"/>\n<path style=\"fill:none;stroke-width:1;stroke-linecap:butt;stroke-linejoin:miter;stroke:rgb(26.666667%,26.666667%,26.666667%);stroke-opacity:1;stroke-miterlimit:10;\" d=\"M 304.128906 69.152344 C 264.644531 77.949219 239.226563 102.722656 240.988281 142.898438 \"/>\n<path style=\" stroke:none;fill-rule:nonzero;fill:rgb(26.666667%,26.666667%,26.666667%);fill-opacity:1;\" d=\"M 241.609375 157.152344 L 236.355469 143.101563 L 245.617188 142.695313 L 241.609375 157.152344 \"/>\n<path style=\"fill:none;stroke-width:1;stroke-linecap:butt;stroke-linejoin:miter;stroke:rgb(26.666667%,26.666667%,26.666667%);stroke-opacity:1;stroke-miterlimit:10;\" d=\"M 529.542969 141.511719 C 531.277344 114.207031 520.097656 91.640625 493.5625 86.589844 \"/>\n<path style=\" stroke:none;fill-rule:nonzero;fill:rgb(26.666667%,26.666667%,26.666667%);fill-opacity:1;\" d=\"M 479.550781 83.921875 L 494.429688 82.035156 L 492.695313 91.140625 L 479.550781 83.921875 \"/>\n<path style=\"fill:none;stroke-width:1;stroke-linecap:butt;stroke-linejoin:miter;stroke:rgb(26.666667%,26.666667%,26.666667%);stroke-opacity:1;stroke-miterlimit:10;\" d=\"M 529.542969 141.511719 C 494.605469 101.570313 450.894531 88.953125 404.945313 115.128906 \"/>\n<path style=\" stroke:none;fill-rule:nonzero;fill:rgb(26.666667%,26.666667%,26.666667%);fill-opacity:1;\" d=\"M 392.550781 122.191406 L 402.652344 111.101563 L 407.242188 119.15625 L 392.550781 122.191406 \"/>\n<path style=\"fill:none;stroke-width:1;stroke-linecap:butt;stroke-linejoin:miter;stroke:rgb(26.666667%,26.666667%,26.666667%);stroke-opacity:1;stroke-miterlimit:10;\" d=\"M 529.542969 141.511719 C 474.324219 125.875 427.578125 140.328125 401.007813 191.007813 \"/>\n<path style=\" stroke:none;fill-rule:nonzero;fill:rgb(26.666667%,26.666667%,26.666667%);fill-opacity:1;\" d=\"M 394.382813 203.640625 L 396.902344 188.855469 L 405.113281 193.160156 L 394.382813 203.640625 \"/>\n<path style=\"fill:none;stroke-width:1;stroke-linecap:butt;stroke-linejoin:miter;stroke:rgb(26.666667%,26.666667%,26.666667%);stroke-opacity:1;stroke-miterlimit:10;\" d=\"M 469.90625 82.085938 C 427.933594 37.355469 377.324219 25.101563 324.902344 56.652344 \"/>\n<path style=\" stroke:none;fill-rule:nonzero;fill:rgb(26.666667%,26.666667%,26.666667%);fill-opacity:1;\" d=\"M 312.679688 64.007813 L 322.515625 52.679688 L 327.292969 60.621094 L 312.679688 64.007813 \"/>\n<path style=\"fill:none;stroke-width:1;stroke-linecap:butt;stroke-linejoin:miter;stroke:rgb(26.666667%,26.666667%,26.666667%);stroke-opacity:1;stroke-miterlimit:10;\" d=\"M 469.90625 82.085938 C 468.167969 109.386719 479.351563 131.957031 505.886719 137.007813 \"/>\n<path style=\" stroke:none;fill-rule:nonzero;fill:rgb(26.666667%,26.666667%,26.666667%);fill-opacity:1;\" d=\"M 519.898438 139.675781 L 505.019531 141.5625 L 506.753906 132.453125 L 519.898438 139.675781 \"/>\n<path style=\"fill:none;stroke-width:1;stroke-linecap:butt;stroke-linejoin:miter;stroke:rgb(26.666667%,26.666667%,26.666667%);stroke-opacity:1;stroke-miterlimit:10;\" d=\"M 469.90625 82.085938 C 416.101563 97.046875 384.457031 132.742188 388.148438 188.292969 \"/>\n<path style=\" stroke:none;fill-rule:nonzero;fill:rgb(26.666667%,26.666667%,26.666667%);fill-opacity:1;\" d=\"M 389.09375 202.527344 L 383.523438 188.601563 L 392.773438 187.984375 L 389.09375 202.527344 \"/>\n<path style=\"fill:none;stroke-width:1;stroke-linecap:butt;stroke-linejoin:miter;stroke:rgb(26.666667%,26.666667%,26.666667%);stroke-opacity:1;stroke-miterlimit:10;\" d=\"M 248.820313 20 C 227.835938 18.425781 209.347656 26.84375 206.265625 47.199219 \"/>\n<path style=\" stroke:none;fill-rule:nonzero;fill:rgb(26.666667%,26.666667%,26.666667%);fill-opacity:1;\" d=\"M 204.128906 61.304688 L 201.679688 46.507813 L 210.847656 47.894531 L 204.128906 61.304688 \"/>\n<path style=\"fill:none;stroke-width:1;stroke-linecap:butt;stroke-linejoin:miter;stroke:rgb(26.666667%,26.666667%,26.666667%);stroke-opacity:1;stroke-miterlimit:10;\" d=\"M 248.820313 20 C 210.535156 57.257813 200.214844 101.851563 228.964844 146.660156 \"/>\n<path style=\" stroke:none;fill-rule:nonzero;fill:rgb(26.666667%,26.666667%,26.666667%);fill-opacity:1;\" d=\"M 236.667969 158.667969 L 225.0625 149.164063 L 232.867188 144.15625 L 236.667969 158.667969 \"/>\n<path style=\"fill:none;stroke-width:1;stroke-linecap:butt;stroke-linejoin:miter;stroke:rgb(26.666667%,26.666667%,26.666667%);stroke-opacity:1;stroke-miterlimit:10;\" d=\"M 383.898438 127.121094 C 344.515625 150.164063 326.234375 185.285156 341.460938 228.074219 \"/>\n<path style=\" stroke:none;fill-rule:nonzero;fill:rgb(26.666667%,26.666667%,26.666667%);fill-opacity:1;\" d=\"M 346.242188 241.515625 L 337.09375 229.628906 L 345.828125 226.519531 L 346.242188 241.515625 \"/>\n<path style=\"fill:none;stroke-width:1;stroke-linecap:butt;stroke-linejoin:miter;stroke:rgb(26.666667%,26.666667%,26.666667%);stroke-opacity:1;stroke-miterlimit:10;\" d=\"M 383.898438 127.121094 C 379.6875 94.09375 361.25 70.617188 328.25 69.773438 \"/>\n<path style=\" stroke:none;fill-rule:nonzero;fill:rgb(26.666667%,26.666667%,26.666667%);fill-opacity:1;\" d=\"M 313.988281 69.40625 L 328.371094 65.140625 L 328.132813 74.40625 L 313.988281 69.40625 \"/>\n<path style=\"fill:none;stroke-width:1;stroke-linecap:butt;stroke-linejoin:miter;stroke:rgb(26.666667%,26.666667%,26.666667%);stroke-opacity:1;stroke-miterlimit:10;\" d=\"M 383.898438 127.121094 C 418.835938 167.0625 462.546875 179.675781 508.496094 153.5 \"/>\n<path style=\" stroke:none;fill-rule:nonzero;fill:rgb(26.666667%,26.666667%,26.666667%);fill-opacity:1;\" d=\"M 520.890625 146.4375 L 510.789063 157.527344 L 506.199219 149.472656 L 520.890625 146.4375 \"/>\n<path style=\"fill:none;stroke-width:1;stroke-linecap:butt;stroke-linejoin:miter;stroke:rgb(26.666667%,26.666667%,26.666667%);stroke-opacity:1;stroke-miterlimit:10;\" d=\"M 383.898438 127.121094 C 336.417969 102.496094 290.789063 106.757813 257.277344 148.210938 \"/>\n<path style=\" stroke:none;fill-rule:nonzero;fill:rgb(26.666667%,26.666667%,26.666667%);fill-opacity:1;\" d=\"M 248.304688 159.304688 L 253.671875 145.296875 L 260.878906 151.125 L 248.304688 159.304688 \"/>\n<path style=\"fill:none;stroke-width:1;stroke-linecap:butt;stroke-linejoin:miter;stroke:rgb(26.666667%,26.666667%,26.666667%);stroke-opacity:1;stroke-miterlimit:10;\" d=\"M 327.746094 151.035156 C 308.300781 179.867188 306.71875 210.839844 331.933594 234.394531 \"/>\n<path style=\" stroke:none;fill-rule:nonzero;fill:rgb(26.666667%,26.666667%,26.666667%);fill-opacity:1;\" d=\"M 342.355469 244.128906 L 328.769531 237.78125 L 335.097656 231.003906 L 342.355469 244.128906 \"/>\n<path style=\"fill:none;stroke-width:1;stroke-linecap:butt;stroke-linejoin:miter;stroke:rgb(26.666667%,26.666667%,26.666667%);stroke-opacity:1;stroke-miterlimit:10;\" d=\"M 327.746094 151.035156 C 326.257813 179.628906 338.242188 202.914063 366.066406 208.074219 \"/>\n<path style=\" stroke:none;fill-rule:nonzero;fill:rgb(26.666667%,26.666667%,26.666667%);fill-opacity:1;\" d=\"M 380.09375 210.679688 L 365.222656 212.632813 L 366.914063 203.519531 L 380.09375 210.679688 \"/>\n<path style=\"fill:none;stroke-width:1;stroke-linecap:butt;stroke-linejoin:miter;stroke:rgb(26.666667%,26.666667%,26.666667%);stroke-opacity:1;stroke-miterlimit:10;\" d=\"M 327.746094 151.035156 C 305.117188 133.5625 279.1875 130.160156 259.140625 150.070313 \"/>\n<path style=\" stroke:none;fill-rule:nonzero;fill:rgb(26.666667%,26.666667%,26.666667%);fill-opacity:1;\" d=\"M 249.015625 160.125 L 255.871094 146.78125 L 262.40625 153.359375 L 249.015625 160.125 \"/>\n<path style=\"fill:none;stroke-width:1;stroke-linecap:butt;stroke-linejoin:miter;stroke:rgb(26.666667%,26.666667%,26.666667%);stroke-opacity:1;stroke-miterlimit:10;\" d=\"M 202.5625 71.648438 C 226.984375 96.058594 256.898438 103.488281 284.605469 83.347656 \"/>\n<path style=\" stroke:none;fill-rule:nonzero;fill:rgb(26.666667%,26.666667%,26.666667%);fill-opacity:1;\" d=\"M 296.144531 74.957031 L 287.332031 87.09375 L 281.878906 79.597656 L 296.144531 74.957031 \"/>\n<path style=\"fill:none;stroke-width:1;stroke-linecap:butt;stroke-linejoin:miter;stroke:rgb(26.666667%,26.666667%,26.666667%);stroke-opacity:1;stroke-miterlimit:10;\" d=\"M 202.5625 71.648438 C 223.546875 73.222656 242.035156 64.804688 245.117188 44.449219 \"/>\n<path style=\" stroke:none;fill-rule:nonzero;fill:rgb(26.666667%,26.666667%,26.666667%);fill-opacity:1;\" d=\"M 247.253906 30.34375 L 249.703125 45.144531 L 240.535156 43.753906 L 247.253906 30.34375 \"/>\n<path style=\"fill:none;stroke-width:1;stroke-linecap:butt;stroke-linejoin:miter;stroke:rgb(26.666667%,26.666667%,26.666667%);stroke-opacity:1;stroke-miterlimit:10;\" d=\"M 202.5625 71.648438 C 172.105469 99.027344 162.035156 133.476563 183.511719 168.070313 \"/>\n<path style=\" stroke:none;fill-rule:nonzero;fill:rgb(26.666667%,26.666667%,26.666667%);fill-opacity:1;\" d=\"M 191.035156 180.191406 L 179.570313 170.515625 L 187.449219 165.625 L 191.035156 180.191406 \"/>\n<path style=\"fill:none;stroke-width:1;stroke-linecap:butt;stroke-linejoin:miter;stroke:rgb(26.666667%,26.666667%,26.666667%);stroke-opacity:1;stroke-miterlimit:10;\" d=\"M 202.5625 71.648438 C 188.390625 103.882813 192.425781 134.980469 221.769531 153.945313 \"/>\n<path style=\" stroke:none;fill-rule:nonzero;fill:rgb(26.666667%,26.666667%,26.666667%);fill-opacity:1;\" d=\"M 233.75 161.6875 L 219.253906 157.835938 L 224.285156 150.050781 L 233.75 161.6875 \"/>\n<path style=\"fill:none;stroke-width:1;stroke-linecap:butt;stroke-linejoin:miter;stroke:rgb(26.666667%,26.666667%,26.666667%);stroke-opacity:1;stroke-miterlimit:10;\" d=\"M 166.777344 280.414063 C 194.628906 340.285156 242.152344 369.542969 306.472656 355.257813 \"/>\n<path style=\" stroke:none;fill-rule:nonzero;fill:rgb(26.666667%,26.666667%,26.666667%);fill-opacity:1;\" d=\"M 320.398438 352.164063 L 307.476563 359.78125 L 305.464844 350.734375 L 320.398438 352.164063 \"/>\n<path style=\"fill:none;stroke-width:1;stroke-linecap:butt;stroke-linejoin:miter;stroke:rgb(26.666667%,26.666667%,26.666667%);stroke-opacity:1;stroke-miterlimit:10;\" d=\"M 166.777344 280.414063 C 187.445313 301.472656 213.375 308.519531 236.785156 291.089844 \"/>\n<path style=\" stroke:none;fill-rule:nonzero;fill:rgb(26.666667%,26.666667%,26.666667%);fill-opacity:1;\" d=\"M 248.226563 282.570313 L 239.550781 294.808594 L 234.015625 287.371094 L 248.226563 282.570313 \"/>\n<path style=\"fill:none;stroke-width:1;stroke-linecap:butt;stroke-linejoin:miter;stroke:rgb(26.666667%,26.666667%,26.666667%);stroke-opacity:1;stroke-miterlimit:10;\" d=\"M 166.777344 280.414063 C 196.085938 266.617188 212.394531 242.46875 203.183594 211.714844 \"/>\n<path style=\" stroke:none;fill-rule:nonzero;fill:rgb(26.666667%,26.666667%,26.666667%);fill-opacity:1;\" d=\"M 199.089844 198.050781 L 207.621094 210.386719 L 198.742188 213.046875 L 199.089844 198.050781 \"/>\n<path style=\"fill:none;stroke-width:1;stroke-linecap:butt;stroke-linejoin:miter;stroke:rgb(26.666667%,26.666667%,26.666667%);stroke-opacity:1;stroke-miterlimit:10;\" d=\"M 166.777344 280.414063 C 214.386719 269.679688 244.089844 239.832031 242.726563 191.246094 \"/>\n<path style=\" stroke:none;fill-rule:nonzero;fill:rgb(26.666667%,26.666667%,26.666667%);fill-opacity:1;\" d=\"M 242.324219 176.988281 L 247.359375 191.117188 L 238.09375 191.378906 L 242.324219 176.988281 \"/>\n<path style=\"fill:none;stroke-width:1;stroke-linecap:butt;stroke-linejoin:miter;stroke:rgb(26.666667%,26.666667%,26.666667%);stroke-opacity:1;stroke-miterlimit:10;\" d=\"M 389.753906 212.472656 C 358.132813 252.710938 353.867188 296.496094 386.984375 335.261719 \"/>\n<path style=\" stroke:none;fill-rule:nonzero;fill:rgb(26.666667%,26.666667%,26.666667%);fill-opacity:1;\" d=\"M 396.25 346.109375 L 383.460938 338.273438 L 390.511719 332.25 L 396.25 346.109375 \"/>\n<path style=\"fill:none;stroke-width:1;stroke-linecap:butt;stroke-linejoin:miter;stroke:rgb(26.666667%,26.666667%,26.666667%);stroke-opacity:1;stroke-miterlimit:10;\" d=\"M 389.753906 212.472656 C 444.972656 228.105469 491.71875 213.652344 518.289063 162.976563 \"/>\n<path style=\" stroke:none;fill-rule:nonzero;fill:rgb(26.666667%,26.666667%,26.666667%);fill-opacity:1;\" d=\"M 524.910156 150.339844 L 522.394531 165.128906 L 514.183594 160.824219 L 524.910156 150.339844 \"/>\n<path style=\"fill:none;stroke-width:1;stroke-linecap:butt;stroke-linejoin:miter;stroke:rgb(26.666667%,26.666667%,26.666667%);stroke-opacity:1;stroke-miterlimit:10;\" d=\"M 389.753906 212.472656 C 443.558594 197.507813 475.203125 161.816406 471.515625 106.265625 \"/>\n<path style=\" stroke:none;fill-rule:nonzero;fill:rgb(26.666667%,26.666667%,26.666667%);fill-opacity:1;\" d=\"M 470.566406 92.03125 L 476.140625 105.957031 L 466.890625 106.570313 L 470.566406 92.03125 \"/>\n<path style=\"fill:none;stroke-width:1;stroke-linecap:butt;stroke-linejoin:miter;stroke:rgb(26.666667%,26.666667%,26.666667%);stroke-opacity:1;stroke-miterlimit:10;\" d=\"M 389.753906 212.472656 C 391.242188 183.878906 379.261719 160.59375 351.433594 155.429688 \"/>\n<path style=\" stroke:none;fill-rule:nonzero;fill:rgb(26.666667%,26.666667%,26.666667%);fill-opacity:1;\" d=\"M 337.40625 152.828125 L 352.277344 150.871094 L 350.589844 159.988281 L 337.40625 152.828125 \"/>\n<path style=\"fill:none;stroke-width:1;stroke-linecap:butt;stroke-linejoin:miter;stroke:rgb(26.666667%,26.666667%,26.666667%);stroke-opacity:1;stroke-miterlimit:10;\" d=\"M 389.753906 212.472656 C 341.230469 157.585938 281.710938 141.871094 217.554688 176.960938 \"/>\n<path style=\" stroke:none;fill-rule:nonzero;fill:rgb(26.666667%,26.666667%,26.666667%);fill-opacity:1;\" d=\"M 205.039063 183.808594 L 215.332031 172.894531 L 219.777344 181.027344 L 205.039063 183.808594 \"/>\n<path style=\"fill:none;stroke-width:1;stroke-linecap:butt;stroke-linejoin:miter;stroke:rgb(26.666667%,26.666667%,26.666667%);stroke-opacity:1;stroke-miterlimit:10;\" d=\"M 389.753906 212.472656 C 361.445313 163.617188 318.496094 141.761719 265.050781 159.4375 \"/>\n<path style=\" stroke:none;fill-rule:nonzero;fill:rgb(26.666667%,26.666667%,26.666667%);fill-opacity:1;\" d=\"M 251.507813 163.917969 L 263.597656 155.039063 L 266.507813 163.839844 L 251.507813 163.917969 \"/>\n<path style=\"fill:none;stroke-width:1;stroke-linecap:butt;stroke-linejoin:miter;stroke:rgb(26.666667%,26.666667%,26.666667%);stroke-opacity:1;stroke-miterlimit:10;\" d=\"M 196.257813 188.609375 C 222.53125 243.667969 266.796875 270.578125 325.984375 256.484375 \"/>\n<path style=\" stroke:none;fill-rule:nonzero;fill:rgb(26.666667%,26.666667%,26.666667%);fill-opacity:1;\" d=\"M 339.863281 253.183594 L 327.058594 260.996094 L 324.914063 251.976563 L 339.863281 253.183594 \"/>\n<path style=\"fill:none;stroke-width:1;stroke-linecap:butt;stroke-linejoin:miter;stroke:rgb(26.666667%,26.666667%,26.666667%);stroke-opacity:1;stroke-miterlimit:10;\" d=\"M 196.257813 188.609375 C 188.851563 224.40625 199.71875 254.945313 233.582031 268.003906 \"/>\n<path style=\" stroke:none;fill-rule:nonzero;fill:rgb(26.666667%,26.666667%,26.666667%);fill-opacity:1;\" d=\"M 246.890625 273.140625 L 231.914063 272.328125 L 235.25 263.679688 L 246.890625 273.140625 \"/>\n<path style=\"fill:none;stroke-width:1;stroke-linecap:butt;stroke-linejoin:miter;stroke:rgb(26.666667%,26.666667%,26.666667%);stroke-opacity:1;stroke-miterlimit:10;\" d=\"M 196.257813 188.609375 C 176.199219 151.480469 144.179688 133.183594 104.28125 146.207031 \"/>\n<path style=\" stroke:none;fill-rule:nonzero;fill:rgb(26.666667%,26.666667%,26.666667%);fill-opacity:1;\" d=\"M 90.71875 150.636719 L 102.84375 141.800781 L 105.71875 150.613281 L 90.71875 150.636719 \"/>\n<path style=\"fill:none;stroke-width:1;stroke-linecap:butt;stroke-linejoin:miter;stroke:rgb(26.666667%,26.666667%,26.666667%);stroke-opacity:1;stroke-miterlimit:10;\" d=\"M 196.257813 188.609375 C 208.679688 149.027344 199.660156 113.851563 163.109375 94.726563 \"/>\n<path style=\" stroke:none;fill-rule:nonzero;fill:rgb(26.666667%,26.666667%,26.666667%);fill-opacity:1;\" d=\"M 150.46875 88.113281 L 165.257813 90.617188 L 160.960938 98.832031 L 150.46875 88.113281 \"/>\n<path style=\"fill:none;stroke-width:1;stroke-linecap:butt;stroke-linejoin:miter;stroke:rgb(26.666667%,26.666667%,26.666667%);stroke-opacity:1;stroke-miterlimit:10;\" d=\"M 196.257813 188.609375 C 191.816406 147.613281 169.597656 119.140625 128.695313 116.296875 \"/>\n<path style=\" stroke:none;fill-rule:nonzero;fill:rgb(26.666667%,26.666667%,26.666667%);fill-opacity:1;\" d=\"M 114.464844 115.304688 L 129.015625 111.671875 L 128.375 120.917969 L 114.464844 115.304688 \"/>\n<path style=\"fill:none;stroke-width:1;stroke-linecap:butt;stroke-linejoin:miter;stroke:rgb(26.666667%,26.666667%,26.666667%);stroke-opacity:1;stroke-miterlimit:10;\" d=\"M 196.257813 188.609375 C 165.453125 163.535156 130.835938 158.964844 101.003906 184.824219 \"/>\n<path style=\" stroke:none;fill-rule:nonzero;fill:rgb(26.666667%,26.666667%,26.666667%);fill-opacity:1;\" d=\"M 90.226563 194.167969 L 97.96875 181.320313 L 104.042969 188.328125 L 90.226563 194.167969 \"/>\n<path style=\"fill:none;stroke-width:1;stroke-linecap:butt;stroke-linejoin:miter;stroke:rgb(26.666667%,26.666667%,26.666667%);stroke-opacity:1;stroke-miterlimit:10;\" d=\"M 196.257813 188.609375 C 133.0625 160.511719 75.582031 170.230469 34.457031 225.664063 \"/>\n<path style=\" stroke:none;fill-rule:nonzero;fill:rgb(26.666667%,26.666667%,26.666667%);fill-opacity:1;\" d=\"M 25.957031 237.121094 L 30.734375 222.902344 L 38.179688 228.425781 L 25.957031 237.121094 \"/>\n<path style=\"fill:none;stroke-width:1;stroke-linecap:butt;stroke-linejoin:miter;stroke:rgb(26.666667%,26.666667%,26.666667%);stroke-opacity:1;stroke-miterlimit:10;\" d=\"M 196.257813 188.609375 C 255.128906 183.085938 294.527344 151.800781 301.332031 93.234375 \"/>\n<path style=\" stroke:none;fill-rule:nonzero;fill:rgb(26.666667%,26.666667%,26.666667%);fill-opacity:1;\" d=\"M 302.980469 79.0625 L 305.9375 93.765625 L 296.726563 92.699219 L 302.980469 79.0625 \"/>\n<path style=\"fill:none;stroke-width:1;stroke-linecap:butt;stroke-linejoin:miter;stroke:rgb(26.666667%,26.666667%,26.666667%);stroke-opacity:1;stroke-miterlimit:10;\" d=\"M 196.257813 188.609375 C 226.714844 161.230469 236.785156 126.78125 215.3125 92.1875 \"/>\n<path style=\" stroke:none;fill-rule:nonzero;fill:rgb(26.666667%,26.666667%,26.666667%);fill-opacity:1;\" d=\"M 207.789063 80.066406 L 219.25 89.742188 L 211.375 94.632813 L 207.789063 80.066406 \"/>\n<path style=\"fill:none;stroke-width:1;stroke-linecap:butt;stroke-linejoin:miter;stroke:rgb(26.666667%,26.666667%,26.666667%);stroke-opacity:1;stroke-miterlimit:10;\" d=\"M 196.257813 188.609375 C 166.949219 202.40625 150.640625 226.554688 159.855469 257.308594 \"/>\n<path style=\" stroke:none;fill-rule:nonzero;fill:rgb(26.666667%,26.666667%,26.666667%);fill-opacity:1;\" d=\"M 163.949219 270.972656 L 155.414063 258.636719 L 164.292969 255.976563 L 163.949219 270.972656 \"/>\n<path style=\"fill:none;stroke-width:1;stroke-linecap:butt;stroke-linejoin:miter;stroke:rgb(26.666667%,26.666667%,26.666667%);stroke-opacity:1;stroke-miterlimit:10;\" d=\"M 196.257813 188.609375 C 244.78125 243.496094 304.300781 259.207031 368.460938 224.117188 \"/>\n<path style=\" stroke:none;fill-rule:nonzero;fill:rgb(26.666667%,26.666667%,26.666667%);fill-opacity:1;\" d=\"M 380.976563 217.273438 L 370.683594 228.183594 L 366.234375 220.050781 L 380.976563 217.273438 \"/>\n<path style=\"fill:none;stroke-width:1;stroke-linecap:butt;stroke-linejoin:miter;stroke:rgb(26.666667%,26.666667%,26.666667%);stroke-opacity:1;stroke-miterlimit:10;\" d=\"M 196.257813 188.609375 C 207.304688 196.394531 221.703125 198.40625 228.675781 187.65625 \"/>\n<path style=\" stroke:none;fill-rule:nonzero;fill:rgb(26.666667%,26.666667%,26.666667%);fill-opacity:1;\" d=\"M 236.441406 175.6875 L 232.566406 190.175781 L 224.789063 185.132813 L 236.441406 175.6875 \"/>\n<path style=\"fill:none;stroke-width:1;stroke-linecap:butt;stroke-linejoin:miter;stroke:rgb(26.666667%,26.666667%,26.666667%);stroke-opacity:1;stroke-miterlimit:10;\" d=\"M 242.046875 167.046875 C 218.402344 197.089844 214.449219 230.59375 239.914063 258.769531 \"/>\n<path style=\" stroke:none;fill-rule:nonzero;fill:rgb(26.666667%,26.666667%,26.666667%);fill-opacity:1;\" d=\"M 249.480469 269.355469 L 236.476563 261.878906 L 243.351563 255.664063 L 249.480469 269.355469 \"/>\n<path style=\"fill:none;stroke-width:1;stroke-linecap:butt;stroke-linejoin:miter;stroke:rgb(26.666667%,26.666667%,26.666667%);stroke-opacity:1;stroke-miterlimit:10;\" d=\"M 242.046875 167.046875 C 285.539063 202.867188 333.324219 208.347656 377.132813 173.191406 \"/>\n<path style=\" stroke:none;fill-rule:nonzero;fill:rgb(26.666667%,26.666667%,26.666667%);fill-opacity:1;\" d=\"M 388.257813 164.261719 L 380.035156 176.804688 L 374.230469 169.574219 L 388.257813 164.261719 \"/>\n<path style=\"fill:none;stroke-width:1;stroke-linecap:butt;stroke-linejoin:miter;stroke:rgb(26.666667%,26.666667%,26.666667%);stroke-opacity:1;stroke-miterlimit:10;\" d=\"M 242.046875 167.046875 C 231.9375 214.394531 246.46875 253.585938 290.816406 272.503906 \"/>\n<path style=\" stroke:none;fill-rule:nonzero;fill:rgb(26.666667%,26.666667%,26.666667%);fill-opacity:1;\" d=\"M 303.9375 278.101563 L 288.996094 276.769531 L 292.632813 268.242188 L 303.9375 278.101563 \"/>\n<path style=\"fill:none;stroke-width:1;stroke-linecap:butt;stroke-linejoin:miter;stroke:rgb(26.666667%,26.666667%,26.666667%);stroke-opacity:1;stroke-miterlimit:10;\" d=\"M 242.046875 167.046875 C 201.835938 123.496094 152.949219 111.136719 102.132813 141.328125 \"/>\n<path style=\" stroke:none;fill-rule:nonzero;fill:rgb(26.666667%,26.666667%,26.666667%);fill-opacity:1;\" d=\"M 89.871094 148.617188 L 99.765625 137.34375 L 104.5 145.316406 L 89.871094 148.617188 \"/>\n<path style=\"fill:none;stroke-width:1;stroke-linecap:butt;stroke-linejoin:miter;stroke:rgb(26.666667%,26.666667%,26.666667%);stroke-opacity:1;stroke-miterlimit:10;\" d=\"M 242.046875 167.046875 C 237.023438 120.800781 211.96875 89.234375 165.808594 85.480469 \"/>\n<path style=\" stroke:none;fill-rule:nonzero;fill:rgb(26.666667%,26.666667%,26.666667%);fill-opacity:1;\" d=\"M 151.585938 84.320313 L 166.183594 80.859375 L 165.429688 90.097656 L 151.585938 84.320313 \"/>\n<path style=\"fill:none;stroke-width:1;stroke-linecap:butt;stroke-linejoin:miter;stroke:rgb(26.666667%,26.666667%,26.666667%);stroke-opacity:1;stroke-miterlimit:10;\" d=\"M 242.046875 167.046875 C 218.660156 119.054688 179.5625 95.304688 128.035156 108.574219 \"/>\n<path style=\" stroke:none;fill-rule:nonzero;fill:rgb(26.666667%,26.666667%,26.666667%);fill-opacity:1;\" d=\"M 114.222656 112.132813 L 126.878906 104.085938 L 129.191406 113.0625 L 114.222656 112.132813 \"/>\n<path style=\"fill:none;stroke-width:1;stroke-linecap:butt;stroke-linejoin:miter;stroke:rgb(26.666667%,26.666667%,26.666667%);stroke-opacity:1;stroke-miterlimit:10;\" d=\"M 242.046875 167.046875 C 203.929688 205.066406 194.113281 250.113281 223.613281 294.929688 \"/>\n<path style=\" stroke:none;fill-rule:nonzero;fill:rgb(26.666667%,26.666667%,26.666667%);fill-opacity:1;\" d=\"M 231.457031 306.847656 L 219.742188 297.476563 L 227.484375 292.382813 L 231.457031 306.847656 \"/>\n<path style=\"fill:none;stroke-width:1;stroke-linecap:butt;stroke-linejoin:miter;stroke:rgb(26.666667%,26.666667%,26.666667%);stroke-opacity:1;stroke-miterlimit:10;\" d=\"M 242.046875 167.046875 C 190.476563 136.582031 139.601563 138.851563 99.15625 182.8125 \"/>\n<path style=\" stroke:none;fill-rule:nonzero;fill:rgb(26.666667%,26.666667%,26.666667%);fill-opacity:1;\" d=\"M 89.5 193.3125 L 95.746094 179.675781 L 102.570313 185.953125 L 89.5 193.3125 \"/>\n<path style=\"fill:none;stroke-width:1;stroke-linecap:butt;stroke-linejoin:miter;stroke:rgb(26.666667%,26.666667%,26.666667%);stroke-opacity:1;stroke-miterlimit:10;\" d=\"M 242.046875 167.046875 C 281.53125 158.253906 306.949219 133.480469 305.1875 93.300781 \"/>\n<path style=\" stroke:none;fill-rule:nonzero;fill:rgb(26.666667%,26.666667%,26.666667%);fill-opacity:1;\" d=\"M 304.5625 79.050781 L 309.820313 93.097656 L 300.558594 93.503906 L 304.5625 79.050781 \"/>\n<path style=\"fill:none;stroke-width:1;stroke-linecap:butt;stroke-linejoin:miter;stroke:rgb(26.666667%,26.666667%,26.666667%);stroke-opacity:1;stroke-miterlimit:10;\" d=\"M 242.046875 167.046875 C 280.328125 129.792969 290.648438 85.199219 261.902344 40.386719 \"/>\n<path style=\" stroke:none;fill-rule:nonzero;fill:rgb(26.666667%,26.666667%,26.666667%);fill-opacity:1;\" d=\"M 254.199219 28.382813 L 265.804688 37.886719 L 258 42.890625 L 254.199219 28.382813 \"/>\n<path style=\"fill:none;stroke-width:1;stroke-linecap:butt;stroke-linejoin:miter;stroke:rgb(26.666667%,26.666667%,26.666667%);stroke-opacity:1;stroke-miterlimit:10;\" d=\"M 242.046875 167.046875 C 289.527344 191.675781 335.15625 187.410156 368.667969 145.957031 \"/>\n<path style=\" stroke:none;fill-rule:nonzero;fill:rgb(26.666667%,26.666667%,26.666667%);fill-opacity:1;\" d=\"M 377.636719 134.863281 L 372.273438 148.871094 L 365.066406 143.042969 L 377.636719 134.863281 \"/>\n<path style=\"fill:none;stroke-width:1;stroke-linecap:butt;stroke-linejoin:miter;stroke:rgb(26.666667%,26.666667%,26.666667%);stroke-opacity:1;stroke-miterlimit:10;\" d=\"M 242.046875 167.046875 C 264.671875 184.519531 290.601563 187.925781 310.652344 168.011719 \"/>\n<path style=\" stroke:none;fill-rule:nonzero;fill:rgb(26.666667%,26.666667%,26.666667%);fill-opacity:1;\" d=\"M 320.773438 157.957031 L 313.917969 171.300781 L 307.386719 164.722656 L 320.773438 157.957031 \"/>\n<path style=\"fill:none;stroke-width:1;stroke-linecap:butt;stroke-linejoin:miter;stroke:rgb(26.666667%,26.666667%,26.666667%);stroke-opacity:1;stroke-miterlimit:10;\" d=\"M 242.046875 167.046875 C 256.21875 134.816406 252.183594 103.71875 222.839844 84.753906 \"/>\n<path style=\" stroke:none;fill-rule:nonzero;fill:rgb(26.666667%,26.666667%,26.666667%);fill-opacity:1;\" d=\"M 210.855469 77.007813 L 225.355469 80.859375 L 220.324219 88.644531 L 210.855469 77.007813 \"/>\n<path style=\"fill:none;stroke-width:1;stroke-linecap:butt;stroke-linejoin:miter;stroke:rgb(26.666667%,26.666667%,26.666667%);stroke-opacity:1;stroke-miterlimit:10;\" d=\"M 242.046875 167.046875 C 194.4375 177.785156 164.730469 207.628906 166.097656 256.214844 \"/>\n<path style=\" stroke:none;fill-rule:nonzero;fill:rgb(26.666667%,26.666667%,26.666667%);fill-opacity:1;\" d=\"M 166.496094 270.476563 L 161.464844 256.347656 L 170.730469 256.085938 L 166.496094 270.476563 \"/>\n<path style=\"fill:none;stroke-width:1;stroke-linecap:butt;stroke-linejoin:miter;stroke:rgb(26.666667%,26.666667%,26.666667%);stroke-opacity:1;stroke-miterlimit:10;\" d=\"M 242.046875 167.046875 C 270.355469 215.902344 313.304688 237.757813 366.746094 220.082031 \"/>\n<path style=\" stroke:none;fill-rule:nonzero;fill:rgb(26.666667%,26.666667%,26.666667%);fill-opacity:1;\" d=\"M 380.292969 215.601563 L 368.203125 224.480469 L 365.292969 215.679688 L 380.292969 215.601563 \"/>\n<path style=\"fill:none;stroke-width:1;stroke-linecap:butt;stroke-linejoin:miter;stroke:rgb(26.666667%,26.666667%,26.666667%);stroke-opacity:1;stroke-miterlimit:10;\" d=\"M 242.046875 167.046875 C 231 159.261719 216.601563 157.25 209.628906 168.003906 \"/>\n<path style=\" stroke:none;fill-rule:nonzero;fill:rgb(26.666667%,26.666667%,26.666667%);fill-opacity:1;\" d=\"M 201.863281 179.96875 L 205.738281 165.480469 L 213.515625 170.523438 L 201.863281 179.96875 \"/>\n<path style=\"fill-rule:nonzero;fill:rgb(100%,0%,0%);fill-opacity:1;stroke-width:1;stroke-linecap:butt;stroke-linejoin:miter;stroke:rgb(0%,0%,0%);stroke-opacity:1;stroke-miterlimit:10;\" d=\"M 412.714844 353.675781 C 412.714844 359.199219 408.238281 363.675781 402.714844 363.675781 C 397.191406 363.675781 392.714844 359.199219 392.714844 353.675781 C 392.714844 348.152344 397.191406 343.675781 402.714844 343.675781 C 408.238281 343.675781 412.714844 348.152344 412.714844 353.675781 \"/>\n<path style=\"fill-rule:nonzero;fill:rgb(100%,0%,0%);fill-opacity:1;stroke-width:1;stroke-linecap:butt;stroke-linejoin:miter;stroke:rgb(0%,0%,0%);stroke-opacity:1;stroke-miterlimit:10;\" d=\"M 340.152344 350 C 340.152344 355.523438 335.675781 360 330.152344 360 C 324.628906 360 320.152344 355.523438 320.152344 350 C 320.152344 344.476563 324.628906 340 330.152344 340 C 335.675781 340 340.152344 344.476563 340.152344 350 \"/>\n<path style=\"fill-rule:nonzero;fill:rgb(100%,0%,0%);fill-opacity:1;stroke-width:1;stroke-linecap:butt;stroke-linejoin:miter;stroke:rgb(0%,0%,0%);stroke-opacity:1;stroke-miterlimit:10;\" d=\"M 359.570313 250.871094 C 359.570313 256.394531 355.09375 260.871094 349.570313 260.871094 C 344.050781 260.871094 339.570313 256.394531 339.570313 250.871094 C 339.570313 245.347656 344.050781 240.871094 349.570313 240.871094 C 355.09375 240.871094 359.570313 245.347656 359.570313 250.871094 \"/>\n<path style=\"fill-rule:nonzero;fill:rgb(100%,0%,0%);fill-opacity:1;stroke-width:1;stroke-linecap:butt;stroke-linejoin:miter;stroke:rgb(0%,0%,0%);stroke-opacity:1;stroke-miterlimit:10;\" d=\"M 450.527344 302.550781 C 450.527344 308.074219 446.050781 312.550781 440.527344 312.550781 C 435.007813 312.550781 430.527344 308.074219 430.527344 302.550781 C 430.527344 297.027344 435.007813 292.550781 440.527344 292.550781 C 446.050781 292.550781 450.527344 297.027344 450.527344 302.550781 \"/>\n<path style=\"fill-rule:nonzero;fill:rgb(100%,0%,0%);fill-opacity:1;stroke-width:1;stroke-linecap:butt;stroke-linejoin:miter;stroke:rgb(0%,0%,0%);stroke-opacity:1;stroke-miterlimit:10;\" d=\"M 510.921875 433.214844 C 510.921875 438.738281 506.445313 443.214844 500.921875 443.214844 C 495.398438 443.214844 490.921875 438.738281 490.921875 433.214844 C 490.921875 427.691406 495.398438 423.214844 500.921875 423.214844 C 506.445313 423.214844 510.921875 427.691406 510.921875 433.214844 \"/>\n<path style=\"fill-rule:nonzero;fill:rgb(100%,0%,0%);fill-opacity:1;stroke-width:1;stroke-linecap:butt;stroke-linejoin:miter;stroke:rgb(0%,0%,0%);stroke-opacity:1;stroke-miterlimit:10;\" d=\"M 487.019531 467.144531 C 487.019531 472.667969 482.542969 477.144531 477.019531 477.144531 C 471.496094 477.144531 467.019531 472.667969 467.019531 467.144531 C 467.019531 461.621094 471.496094 457.144531 477.019531 457.144531 C 482.542969 457.144531 487.019531 461.621094 487.019531 467.144531 \"/>\n<path style=\"fill-rule:nonzero;fill:rgb(100%,0%,0%);fill-opacity:1;stroke-width:1;stroke-linecap:butt;stroke-linejoin:miter;stroke:rgb(0%,0%,0%);stroke-opacity:1;stroke-miterlimit:10;\" d=\"M 418.914063 485.175781 C 418.914063 490.699219 414.4375 495.175781 408.914063 495.175781 C 403.390625 495.175781 398.914063 490.699219 398.914063 485.175781 C 398.914063 479.652344 403.390625 475.175781 408.914063 475.175781 C 414.4375 475.175781 418.914063 479.652344 418.914063 485.175781 \"/>\n<path style=\"fill-rule:nonzero;fill:rgb(100%,0%,0%);fill-opacity:1;stroke-width:1;stroke-linecap:butt;stroke-linejoin:miter;stroke:rgb(0%,0%,0%);stroke-opacity:1;stroke-miterlimit:10;\" d=\"M 302.566406 380.261719 C 302.566406 385.785156 298.089844 390.261719 292.566406 390.261719 C 287.042969 390.261719 282.566406 385.785156 282.566406 380.261719 C 282.566406 374.742188 287.042969 370.261719 292.566406 370.261719 C 298.089844 370.261719 302.566406 374.742188 302.566406 380.261719 \"/>\n<path style=\"fill-rule:nonzero;fill:rgb(100%,0%,0%);fill-opacity:1;stroke-width:1;stroke-linecap:butt;stroke-linejoin:miter;stroke:rgb(0%,0%,0%);stroke-opacity:1;stroke-miterlimit:10;\" d=\"M 266.113281 276.695313 C 266.113281 282.21875 261.636719 286.695313 256.113281 286.695313 C 250.589844 286.695313 246.113281 282.21875 246.113281 276.695313 C 246.113281 271.171875 250.589844 266.695313 256.113281 266.695313 C 261.636719 266.695313 266.113281 271.171875 266.113281 276.695313 \"/>\n<path style=\"fill-rule:nonzero;fill:rgb(100%,0%,0%);fill-opacity:1;stroke-width:1;stroke-linecap:butt;stroke-linejoin:miter;stroke:rgb(0%,0%,0%);stroke-opacity:1;stroke-miterlimit:10;\" d=\"M 406.03125 158.023438 C 406.03125 163.546875 401.554688 168.023438 396.03125 168.023438 C 390.507813 168.023438 386.03125 163.546875 386.03125 158.023438 C 386.03125 152.5 390.507813 148.023438 396.03125 148.023438 C 401.554688 148.023438 406.03125 152.5 406.03125 158.023438 \"/>\n<path style=\"fill-rule:nonzero;fill:rgb(100%,0%,0%);fill-opacity:1;stroke-width:1;stroke-linecap:butt;stroke-linejoin:miter;stroke:rgb(0%,0%,0%);stroke-opacity:1;stroke-miterlimit:10;\" d=\"M 379.210938 466.027344 C 379.210938 471.550781 374.734375 476.027344 369.210938 476.027344 C 363.6875 476.027344 359.210938 471.550781 359.210938 466.027344 C 359.210938 460.503906 363.6875 456.027344 369.210938 456.027344 C 374.734375 456.027344 379.210938 460.503906 379.210938 466.027344 \"/>\n<path style=\"fill-rule:nonzero;fill:rgb(100%,0%,0%);fill-opacity:1;stroke-width:1;stroke-linecap:butt;stroke-linejoin:miter;stroke:rgb(0%,0%,0%);stroke-opacity:1;stroke-miterlimit:10;\" d=\"M 590 307.03125 C 590 312.550781 585.523438 317.03125 580 317.03125 C 574.476563 317.03125 570 312.550781 570 307.03125 C 570 301.507813 574.476563 297.03125 580 297.03125 C 585.523438 297.03125 590 301.507813 590 307.03125 \"/>\n<path style=\"fill-rule:nonzero;fill:rgb(100%,0%,0%);fill-opacity:1;stroke-width:1;stroke-linecap:butt;stroke-linejoin:miter;stroke:rgb(0%,0%,0%);stroke-opacity:1;stroke-miterlimit:10;\" d=\"M 576.53125 349.015625 C 576.53125 354.539063 572.050781 359.015625 566.53125 359.015625 C 561.007813 359.015625 556.53125 354.539063 556.53125 349.015625 C 556.53125 343.492188 561.007813 339.015625 566.53125 339.015625 C 572.050781 339.015625 576.53125 343.492188 576.53125 349.015625 \"/>\n<path style=\"fill-rule:nonzero;fill:rgb(100%,0%,0%);fill-opacity:1;stroke-width:1;stroke-linecap:butt;stroke-linejoin:miter;stroke:rgb(0%,0%,0%);stroke-opacity:1;stroke-miterlimit:10;\" d=\"M 323.078125 282.003906 C 323.078125 287.527344 318.601563 292.003906 313.078125 292.003906 C 307.554688 292.003906 303.078125 287.527344 303.078125 282.003906 C 303.078125 276.480469 307.554688 272.003906 313.078125 272.003906 C 318.601563 272.003906 323.078125 276.480469 323.078125 282.003906 \"/>\n<path style=\"fill-rule:nonzero;fill:rgb(100%,0%,0%);fill-opacity:1;stroke-width:1;stroke-linecap:butt;stroke-linejoin:miter;stroke:rgb(0%,0%,0%);stroke-opacity:1;stroke-miterlimit:10;\" d=\"M 91.292969 153.710938 C 91.292969 159.234375 86.816406 163.710938 81.292969 163.710938 C 75.769531 163.710938 71.292969 159.234375 71.292969 153.710938 C 71.292969 148.1875 75.769531 143.710938 81.292969 143.710938 C 86.816406 143.710938 91.292969 148.1875 91.292969 153.710938 \"/>\n<path style=\"fill-rule:nonzero;fill:rgb(100%,0%,0%);fill-opacity:1;stroke-width:1;stroke-linecap:butt;stroke-linejoin:miter;stroke:rgb(0%,0%,0%);stroke-opacity:1;stroke-miterlimit:10;\" d=\"M 151.6875 83.515625 C 151.6875 89.039063 147.210938 93.515625 141.6875 93.515625 C 136.164063 93.515625 131.6875 89.039063 131.6875 83.515625 C 131.6875 77.992188 136.164063 73.515625 141.6875 73.515625 C 147.210938 73.515625 151.6875 77.992188 151.6875 83.515625 \"/>\n<path style=\"fill-rule:nonzero;fill:rgb(100%,0%,0%);fill-opacity:1;stroke-width:1;stroke-linecap:butt;stroke-linejoin:miter;stroke:rgb(0%,0%,0%);stroke-opacity:1;stroke-miterlimit:10;\" d=\"M 493.996094 580 C 493.996094 585.523438 489.519531 590 483.996094 590 C 478.476563 590 473.996094 585.523438 473.996094 580 C 473.996094 574.476563 478.476563 570 483.996094 570 C 489.519531 570 493.996094 574.476563 493.996094 580 \"/>\n<path style=\"fill-rule:nonzero;fill:rgb(100%,0%,0%);fill-opacity:1;stroke-width:1;stroke-linecap:butt;stroke-linejoin:miter;stroke:rgb(0%,0%,0%);stroke-opacity:1;stroke-miterlimit:10;\" d=\"M 281.792969 451.628906 C 281.792969 457.152344 277.316406 461.628906 271.792969 461.628906 C 266.269531 461.628906 261.792969 457.152344 261.792969 451.628906 C 261.792969 446.109375 266.269531 441.628906 271.792969 441.628906 C 277.316406 441.628906 281.792969 446.109375 281.792969 451.628906 \"/>\n<path style=\"fill-rule:nonzero;fill:rgb(100%,0%,0%);fill-opacity:1;stroke-width:1;stroke-linecap:butt;stroke-linejoin:miter;stroke:rgb(0%,0%,0%);stroke-opacity:1;stroke-miterlimit:10;\" d=\"M 114.578125 114.617188 C 114.578125 120.140625 110.101563 124.617188 104.578125 124.617188 C 99.054688 124.617188 94.578125 120.140625 94.578125 114.617188 C 94.578125 109.09375 99.054688 104.617188 104.578125 104.617188 C 110.101563 104.617188 114.578125 109.09375 114.578125 114.617188 \"/>\n<path style=\"fill-rule:nonzero;fill:rgb(100%,0%,0%);fill-opacity:1;stroke-width:1;stroke-linecap:butt;stroke-linejoin:miter;stroke:rgb(0%,0%,0%);stroke-opacity:1;stroke-miterlimit:10;\" d=\"M 246.933594 315.164063 C 246.933594 320.6875 242.453125 325.164063 236.933594 325.164063 C 231.410156 325.164063 226.933594 320.6875 226.933594 315.164063 C 226.933594 309.640625 231.410156 305.164063 236.933594 305.164063 C 242.453125 305.164063 246.933594 309.640625 246.933594 315.164063 \"/>\n<path style=\"fill-rule:nonzero;fill:rgb(100%,0%,0%);fill-opacity:1;stroke-width:1;stroke-linecap:butt;stroke-linejoin:miter;stroke:rgb(0%,0%,0%);stroke-opacity:1;stroke-miterlimit:10;\" d=\"M 92.742188 200.652344 C 92.742188 206.175781 88.265625 210.652344 82.742188 210.652344 C 77.21875 210.652344 72.742188 206.175781 72.742188 200.652344 C 72.742188 195.132813 77.21875 190.652344 82.742188 190.652344 C 88.265625 190.652344 92.742188 195.132813 92.742188 200.652344 \"/>\n<path style=\"fill-rule:nonzero;fill:rgb(100%,0%,0%);fill-opacity:1;stroke-width:1;stroke-linecap:butt;stroke-linejoin:miter;stroke:rgb(0%,0%,0%);stroke-opacity:1;stroke-miterlimit:10;\" d=\"M 513.464844 375.890625 C 513.464844 381.414063 508.988281 385.890625 503.464844 385.890625 C 497.941406 385.890625 493.464844 381.414063 493.464844 375.890625 C 493.464844 370.367188 497.941406 365.890625 503.464844 365.890625 C 508.988281 365.890625 513.464844 370.367188 513.464844 375.890625 \"/>\n<path style=\"fill-rule:nonzero;fill:rgb(100%,0%,0%);fill-opacity:1;stroke-width:1;stroke-linecap:butt;stroke-linejoin:miter;stroke:rgb(0%,0%,0%);stroke-opacity:1;stroke-miterlimit:10;\" d=\"M 30 245.152344 C 30 250.675781 25.523438 255.152344 20 255.152344 C 14.476563 255.152344 10 250.675781 10 245.152344 C 10 239.628906 14.476563 235.152344 20 235.152344 C 25.523438 235.152344 30 239.628906 30 245.152344 \"/>\n<path style=\"fill-rule:nonzero;fill:rgb(100%,0%,0%);fill-opacity:1;stroke-width:1;stroke-linecap:butt;stroke-linejoin:miter;stroke:rgb(0%,0%,0%);stroke-opacity:1;stroke-miterlimit:10;\" d=\"M 314.128906 69.152344 C 314.128906 74.675781 309.652344 79.152344 304.128906 79.152344 C 298.605469 79.152344 294.128906 74.675781 294.128906 69.152344 C 294.128906 63.632813 298.605469 59.152344 304.128906 59.152344 C 309.652344 59.152344 314.128906 63.632813 314.128906 69.152344 \"/>\n<path style=\"fill-rule:nonzero;fill:rgb(100%,0%,0%);fill-opacity:1;stroke-width:1;stroke-linecap:butt;stroke-linejoin:miter;stroke:rgb(0%,0%,0%);stroke-opacity:1;stroke-miterlimit:10;\" d=\"M 539.542969 141.511719 C 539.542969 147.035156 535.0625 151.511719 529.542969 151.511719 C 524.019531 151.511719 519.542969 147.035156 519.542969 141.511719 C 519.542969 135.988281 524.019531 131.511719 529.542969 131.511719 C 535.0625 131.511719 539.542969 135.988281 539.542969 141.511719 \"/>\n<path style=\"fill-rule:nonzero;fill:rgb(100%,0%,0%);fill-opacity:1;stroke-width:1;stroke-linecap:butt;stroke-linejoin:miter;stroke:rgb(0%,0%,0%);stroke-opacity:1;stroke-miterlimit:10;\" d=\"M 479.90625 82.085938 C 479.90625 87.609375 475.429688 92.085938 469.90625 92.085938 C 464.382813 92.085938 459.90625 87.609375 459.90625 82.085938 C 459.90625 76.5625 464.382813 72.085938 469.90625 72.085938 C 475.429688 72.085938 479.90625 76.5625 479.90625 82.085938 \"/>\n<path style=\"fill-rule:nonzero;fill:rgb(100%,0%,0%);fill-opacity:1;stroke-width:1;stroke-linecap:butt;stroke-linejoin:miter;stroke:rgb(0%,0%,0%);stroke-opacity:1;stroke-miterlimit:10;\" d=\"M 258.820313 20 C 258.820313 25.523438 254.34375 30 248.820313 30 C 243.296875 30 238.820313 25.523438 238.820313 20 C 238.820313 14.476563 243.296875 10 248.820313 10 C 254.34375 10 258.820313 14.476563 258.820313 20 \"/>\n<path style=\"fill-rule:nonzero;fill:rgb(100%,0%,0%);fill-opacity:1;stroke-width:1;stroke-linecap:butt;stroke-linejoin:miter;stroke:rgb(0%,0%,0%);stroke-opacity:1;stroke-miterlimit:10;\" d=\"M 393.898438 127.121094 C 393.898438 132.644531 389.421875 137.121094 383.898438 137.121094 C 378.375 137.121094 373.898438 132.644531 373.898438 127.121094 C 373.898438 121.597656 378.375 117.121094 383.898438 117.121094 C 389.421875 117.121094 393.898438 121.597656 393.898438 127.121094 \"/>\n<path style=\"fill-rule:nonzero;fill:rgb(100%,0%,0%);fill-opacity:1;stroke-width:1;stroke-linecap:butt;stroke-linejoin:miter;stroke:rgb(0%,0%,0%);stroke-opacity:1;stroke-miterlimit:10;\" d=\"M 337.746094 151.035156 C 337.746094 156.558594 333.269531 161.035156 327.746094 161.035156 C 322.222656 161.035156 317.746094 156.558594 317.746094 151.035156 C 317.746094 145.511719 322.222656 141.035156 327.746094 141.035156 C 333.269531 141.035156 337.746094 145.511719 337.746094 151.035156 \"/>\n<path style=\"fill-rule:nonzero;fill:rgb(100%,0%,0%);fill-opacity:1;stroke-width:1;stroke-linecap:butt;stroke-linejoin:miter;stroke:rgb(0%,0%,0%);stroke-opacity:1;stroke-miterlimit:10;\" d=\"M 212.5625 71.648438 C 212.5625 77.171875 208.085938 81.648438 202.5625 81.648438 C 197.039063 81.648438 192.5625 77.171875 192.5625 71.648438 C 192.5625 66.125 197.039063 61.648438 202.5625 61.648438 C 208.085938 61.648438 212.5625 66.125 212.5625 71.648438 \"/>\n<path style=\"fill-rule:nonzero;fill:rgb(100%,0%,0%);fill-opacity:1;stroke-width:1;stroke-linecap:butt;stroke-linejoin:miter;stroke:rgb(0%,0%,0%);stroke-opacity:1;stroke-miterlimit:10;\" d=\"M 176.777344 280.414063 C 176.777344 285.9375 172.300781 290.414063 166.777344 290.414063 C 161.253906 290.414063 156.777344 285.9375 156.777344 280.414063 C 156.777344 274.890625 161.253906 270.414063 166.777344 270.414063 C 172.300781 270.414063 176.777344 274.890625 176.777344 280.414063 \"/>\n<path style=\"fill-rule:nonzero;fill:rgb(100%,0%,0%);fill-opacity:1;stroke-width:1;stroke-linecap:butt;stroke-linejoin:miter;stroke:rgb(0%,0%,0%);stroke-opacity:1;stroke-miterlimit:10;\" d=\"M 399.753906 212.472656 C 399.753906 217.996094 395.277344 222.472656 389.753906 222.472656 C 384.230469 222.472656 379.753906 217.996094 379.753906 212.472656 C 379.753906 206.949219 384.230469 202.472656 389.753906 202.472656 C 395.277344 202.472656 399.753906 206.949219 399.753906 212.472656 \"/>\n<path style=\"fill-rule:nonzero;fill:rgb(100%,0%,0%);fill-opacity:1;stroke-width:1;stroke-linecap:butt;stroke-linejoin:miter;stroke:rgb(0%,0%,0%);stroke-opacity:1;stroke-miterlimit:10;\" d=\"M 206.257813 188.609375 C 206.257813 194.132813 201.78125 198.609375 196.257813 198.609375 C 190.738281 198.609375 186.257813 194.132813 186.257813 188.609375 C 186.257813 183.085938 190.738281 178.609375 196.257813 178.609375 C 201.78125 178.609375 206.257813 183.085938 206.257813 188.609375 \"/>\n<path style=\"fill-rule:nonzero;fill:rgb(100%,0%,0%);fill-opacity:1;stroke-width:1;stroke-linecap:butt;stroke-linejoin:miter;stroke:rgb(0%,0%,0%);stroke-opacity:1;stroke-miterlimit:10;\" d=\"M 252.046875 167.046875 C 252.046875 172.570313 247.566406 177.046875 242.046875 177.046875 C 236.523438 177.046875 232.046875 172.570313 232.046875 167.046875 C 232.046875 161.527344 236.523438 157.046875 242.046875 157.046875 C 247.566406 157.046875 252.046875 161.527344 252.046875 167.046875 \"/>\n<g style=\"fill:rgb(0%,0%,0%);fill-opacity:1;\">\n  <use xlink:href=\"#glyph0-1\" x=\"398.867188\" y=\"360.207031\"/>\n</g>\n<g style=\"fill:rgb(0%,0%,0%);fill-opacity:1;\">\n  <use xlink:href=\"#glyph0-2\" x=\"326.78125\" y=\"356.53125\"/>\n</g>\n<g style=\"fill:rgb(0%,0%,0%);fill-opacity:1;\">\n  <use xlink:href=\"#glyph0-3\" x=\"345.84375\" y=\"257.402344\"/>\n</g>\n<g style=\"fill:rgb(0%,0%,0%);fill-opacity:1;\">\n  <use xlink:href=\"#glyph0-4\" x=\"436.660156\" y=\"309.082031\"/>\n</g>\n<g style=\"fill:rgb(0%,0%,0%);fill-opacity:1;\">\n  <use xlink:href=\"#glyph0-5\" x=\"497.277344\" y=\"439.726563\"/>\n</g>\n<g style=\"fill:rgb(0%,0%,0%);fill-opacity:1;\">\n  <use xlink:href=\"#glyph0-6\" x=\"473.117188\" y=\"473.585938\"/>\n</g>\n<g style=\"fill:rgb(0%,0%,0%);fill-opacity:1;\">\n  <use xlink:href=\"#glyph0-7\" x=\"405.078125\" y=\"491.707031\"/>\n</g>\n<g style=\"fill:rgb(0%,0%,0%);fill-opacity:1;\">\n  <use xlink:href=\"#glyph0-8\" x=\"288.660156\" y=\"386.707031\"/>\n</g>\n<g style=\"fill:rgb(0%,0%,0%);fill-opacity:1;\">\n  <use xlink:href=\"#glyph0-9\" x=\"252.242188\" y=\"283.226563\"/>\n</g>\n<g style=\"fill:rgb(0%,0%,0%);fill-opacity:1;\">\n  <use xlink:href=\"#glyph0-10\" x=\"392.15625\" y=\"164.554688\"/>\n</g>\n<g style=\"fill:rgb(0%,0%,0%);fill-opacity:1;\">\n  <use xlink:href=\"#glyph0-2\" x=\"361\" y=\"472.558594\"/>\n  <use xlink:href=\"#glyph0-1\" x=\"368.786133\" y=\"472.558594\"/>\n</g>\n<g style=\"fill:rgb(0%,0%,0%);fill-opacity:1;\">\n  <use xlink:href=\"#glyph0-2\" x=\"572.738281\" y=\"313.5625\"/>\n  <use xlink:href=\"#glyph0-2\" x=\"580.524414\" y=\"313.5625\"/>\n</g>\n<g style=\"fill:rgb(0%,0%,0%);fill-opacity:1;\">\n  <use xlink:href=\"#glyph0-2\" x=\"558.351563\" y=\"355.546875\"/>\n  <use xlink:href=\"#glyph0-3\" x=\"566.137695\" y=\"355.546875\"/>\n</g>\n<g style=\"fill:rgb(0%,0%,0%);fill-opacity:1;\">\n  <use xlink:href=\"#glyph0-2\" x=\"304.847656\" y=\"288.535156\"/>\n  <use xlink:href=\"#glyph0-4\" x=\"312.633789\" y=\"288.535156\"/>\n</g>\n<g style=\"fill:rgb(0%,0%,0%);fill-opacity:1;\">\n  <use xlink:href=\"#glyph0-2\" x=\"73.082031\" y=\"160.242188\"/>\n  <use xlink:href=\"#glyph0-5\" x=\"80.868164\" y=\"160.242188\"/>\n</g>\n<g style=\"fill:rgb(0%,0%,0%);fill-opacity:1;\">\n  <use xlink:href=\"#glyph0-2\" x=\"133.417969\" y=\"90.046875\"/>\n  <use xlink:href=\"#glyph0-6\" x=\"141.204102\" y=\"90.046875\"/>\n</g>\n<g style=\"fill:rgb(0%,0%,0%);fill-opacity:1;\">\n  <use xlink:href=\"#glyph0-2\" x=\"475.769531\" y=\"586.53125\"/>\n  <use xlink:href=\"#glyph0-7\" x=\"483.555664\" y=\"586.53125\"/>\n</g>\n<g style=\"fill:rgb(0%,0%,0%);fill-opacity:1;\">\n  <use xlink:href=\"#glyph0-2\" x=\"263.5625\" y=\"458.160156\"/>\n  <use xlink:href=\"#glyph0-8\" x=\"271.348633\" y=\"458.160156\"/>\n</g>\n<g style=\"fill:rgb(0%,0%,0%);fill-opacity:1;\">\n  <use xlink:href=\"#glyph0-2\" x=\"96.335938\" y=\"121.148438\"/>\n  <use xlink:href=\"#glyph0-9\" x=\"104.12207\" y=\"121.148438\"/>\n</g>\n<g style=\"fill:rgb(0%,0%,0%);fill-opacity:1;\">\n  <use xlink:href=\"#glyph0-2\" x=\"228.691406\" y=\"321.695313\"/>\n  <use xlink:href=\"#glyph0-10\" x=\"236.477539\" y=\"321.695313\"/>\n</g>\n<g style=\"fill:rgb(0%,0%,0%);fill-opacity:1;\">\n  <use xlink:href=\"#glyph0-3\" x=\"75.085938\" y=\"207.183594\"/>\n  <use xlink:href=\"#glyph0-1\" x=\"82.87207\" y=\"207.183594\"/>\n</g>\n<g style=\"fill:rgb(0%,0%,0%);fill-opacity:1;\">\n  <use xlink:href=\"#glyph0-3\" x=\"496.757813\" y=\"382.421875\"/>\n  <use xlink:href=\"#glyph0-2\" x=\"504.543945\" y=\"382.421875\"/>\n</g>\n<g style=\"fill:rgb(0%,0%,0%);fill-opacity:1;\">\n  <use xlink:href=\"#glyph0-3\" x=\"12.378906\" y=\"251.683594\"/>\n  <use xlink:href=\"#glyph0-3\" x=\"20.165039\" y=\"251.683594\"/>\n</g>\n<g style=\"fill:rgb(0%,0%,0%);fill-opacity:1;\">\n  <use xlink:href=\"#glyph0-3\" x=\"296.457031\" y=\"75.683594\"/>\n  <use xlink:href=\"#glyph0-4\" x=\"304.243164\" y=\"75.683594\"/>\n</g>\n<g style=\"fill:rgb(0%,0%,0%);fill-opacity:1;\">\n  <use xlink:href=\"#glyph0-3\" x=\"521.886719\" y=\"148.042969\"/>\n  <use xlink:href=\"#glyph0-5\" x=\"529.672852\" y=\"148.042969\"/>\n</g>\n<g style=\"fill:rgb(0%,0%,0%);fill-opacity:1;\">\n  <use xlink:href=\"#glyph0-3\" x=\"462.195313\" y=\"88.617188\"/>\n  <use xlink:href=\"#glyph0-6\" x=\"469.981445\" y=\"88.617188\"/>\n</g>\n<g style=\"fill:rgb(0%,0%,0%);fill-opacity:1;\">\n  <use xlink:href=\"#glyph0-3\" x=\"241.152344\" y=\"26.53125\"/>\n  <use xlink:href=\"#glyph0-7\" x=\"248.938477\" y=\"26.53125\"/>\n</g>\n<g style=\"fill:rgb(0%,0%,0%);fill-opacity:1;\">\n  <use xlink:href=\"#glyph0-3\" x=\"376.226563\" y=\"133.652344\"/>\n  <use xlink:href=\"#glyph0-8\" x=\"384.012695\" y=\"133.652344\"/>\n</g>\n<g style=\"fill:rgb(0%,0%,0%);fill-opacity:1;\">\n  <use xlink:href=\"#glyph0-3\" x=\"320.0625\" y=\"157.566406\"/>\n  <use xlink:href=\"#glyph0-9\" x=\"327.848633\" y=\"157.566406\"/>\n</g>\n<g style=\"fill:rgb(0%,0%,0%);fill-opacity:1;\">\n  <use xlink:href=\"#glyph0-3\" x=\"194.878906\" y=\"78.179688\"/>\n  <use xlink:href=\"#glyph0-10\" x=\"202.665039\" y=\"78.179688\"/>\n</g>\n<g style=\"fill:rgb(0%,0%,0%);fill-opacity:1;\">\n  <use xlink:href=\"#glyph0-4\" x=\"159.03125\" y=\"286.945313\"/>\n  <use xlink:href=\"#glyph0-1\" x=\"166.817383\" y=\"286.945313\"/>\n</g>\n<g style=\"fill:rgb(0%,0%,0%);fill-opacity:1;\">\n  <use xlink:href=\"#glyph0-4\" x=\"382.960938\" y=\"219.003906\"/>\n  <use xlink:href=\"#glyph0-2\" x=\"390.74707\" y=\"219.003906\"/>\n</g>\n<g style=\"fill:rgb(0%,0%,0%);fill-opacity:1;\">\n  <use xlink:href=\"#glyph0-4\" x=\"188.546875\" y=\"195.140625\"/>\n  <use xlink:href=\"#glyph0-3\" x=\"196.333008\" y=\"195.140625\"/>\n</g>\n<g style=\"fill:rgb(0%,0%,0%);fill-opacity:1;\">\n  <use xlink:href=\"#glyph0-4\" x=\"234.28125\" y=\"173.578125\"/>\n  <use xlink:href=\"#glyph0-4\" x=\"242.067383\" y=\"173.578125\"/>\n</g>\n</g>\n</svg>\n",
            "text/plain": [
              "<igraph.drawing.Plot at 0x2580fd84708>"
            ]
          },
          "execution_count": 7,
          "metadata": {
            "image/svg+xml": {
              "isolated": true
            }
          },
          "output_type": "execute_result"
        }
      ],
      "source": [
        "# {\"5_2\"}\n",
        "#Plotten Sie den Graphen karate\n",
        "plot(graph_karate, vertex_label=graph_karate.vs.indices)"
      ]
    },
    {
      "cell_type": "code",
      "execution_count": 8,
      "metadata": {
        "colab": {
          "base_uri": "https://localhost:8080/",
          "height": 821
        },
        "id": "6V4pQZlus0B2",
        "outputId": "d43dae2d-ad63-441a-9992-755ee6018f8d"
      },
      "outputs": [
        {
          "data": {
            "image/svg+xml": "<?xml version=\"1.0\" encoding=\"UTF-8\"?>\n<svg xmlns=\"http://www.w3.org/2000/svg\" xmlns:xlink=\"http://www.w3.org/1999/xlink\" width=\"600pt\" height=\"600pt\" viewBox=\"0 0 600 600\" version=\"1.1\">\n<g id=\"surface8\">\n<rect x=\"0\" y=\"0\" width=\"600\" height=\"600\" style=\"fill:rgb(100%,100%,100%);fill-opacity:1;stroke:none;\"/>\n<path style=\"fill:none;stroke-width:1;stroke-linecap:butt;stroke-linejoin:miter;stroke:rgb(26.666667%,26.666667%,26.666667%);stroke-opacity:1;stroke-miterlimit:10;\" d=\"M 415.886719 580 C 331.425781 506.6875 242.179688 500.304688 148.148438 560.863281 \"/>\n<path style=\"fill:none;stroke-width:1;stroke-linecap:butt;stroke-linejoin:miter;stroke:rgb(26.666667%,26.666667%,26.666667%);stroke-opacity:1;stroke-miterlimit:10;\" d=\"M 415.886719 580 C 487.15625 598.941406 541.859375 576.855469 580 513.742188 \"/>\n<path style=\"fill:none;stroke-width:1;stroke-linecap:butt;stroke-linejoin:miter;stroke:rgb(26.666667%,26.666667%,26.666667%);stroke-opacity:1;stroke-miterlimit:10;\" d=\"M 415.886719 580 C 396.679688 524.070313 357.539063 497.492188 298.464844 500.273438 \"/>\n<path style=\"fill:none;stroke-width:1;stroke-linecap:butt;stroke-linejoin:miter;stroke:rgb(26.666667%,26.666667%,26.666667%);stroke-opacity:1;stroke-miterlimit:10;\" d=\"M 415.886719 580 C 468.265625 533.527344 479.480469 478.644531 449.53125 415.351563 \"/>\n<path style=\"fill:none;stroke-width:1;stroke-linecap:butt;stroke-linejoin:miter;stroke:rgb(26.666667%,26.666667%,26.666667%);stroke-opacity:1;stroke-miterlimit:10;\" d=\"M 415.886719 580 C 321.855469 640.554688 232.609375 634.175781 148.148438 560.863281 \"/>\n<path style=\"fill:none;stroke-width:1;stroke-linecap:butt;stroke-linejoin:miter;stroke:rgb(26.666667%,26.666667%,26.666667%);stroke-opacity:1;stroke-miterlimit:10;\" d=\"M 148.148438 560.863281 C 213.402344 578.246094 263.507813 558.046875 298.464844 500.273438 \"/>\n<path style=\"fill:none;stroke-width:1;stroke-linecap:butt;stroke-linejoin:miter;stroke:rgb(26.666667%,26.666667%,26.666667%);stroke-opacity:1;stroke-miterlimit:10;\" d=\"M 148.148438 560.863281 C 127.21875 499.777344 84.503906 470.726563 20 473.714844 \"/>\n<path style=\"fill:none;stroke-width:1;stroke-linecap:butt;stroke-linejoin:miter;stroke:rgb(26.666667%,26.666667%,26.666667%);stroke-opacity:1;stroke-miterlimit:10;\" d=\"M 148.148438 560.863281 C 203.601563 517.058594 218.066406 462.410156 191.542969 396.910156 \"/>\n<path style=\"fill:none;stroke-width:1;stroke-linecap:butt;stroke-linejoin:miter;stroke:rgb(26.666667%,26.666667%,26.666667%);stroke-opacity:1;stroke-miterlimit:10;\" d=\"M 415.886719 580 C 454.027344 516.886719 508.730469 494.800781 580 513.742188 \"/>\n<path style=\"fill:none;stroke-width:1;stroke-linecap:butt;stroke-linejoin:miter;stroke:rgb(26.666667%,26.666667%,26.666667%);stroke-opacity:1;stroke-miterlimit:10;\" d=\"M 580 513.742188 C 489.523438 438.867188 395.679688 434.378906 298.464844 500.273438 \"/>\n<path style=\"fill:none;stroke-width:1;stroke-linecap:butt;stroke-linejoin:miter;stroke:rgb(26.666667%,26.666667%,26.666667%);stroke-opacity:1;stroke-miterlimit:10;\" d=\"M 580 513.742188 C 561.109375 448.328125 517.617188 415.53125 449.53125 415.351563 \"/>\n<path style=\"fill:none;stroke-width:1;stroke-linecap:butt;stroke-linejoin:miter;stroke:rgb(26.666667%,26.666667%,26.666667%);stroke-opacity:1;stroke-miterlimit:10;\" d=\"M 415.886719 580 C 356.816406 582.78125 317.675781 556.203125 298.464844 500.273438 \"/>\n<path style=\"fill:none;stroke-width:1;stroke-linecap:butt;stroke-linejoin:miter;stroke:rgb(26.666667%,26.666667%,26.666667%);stroke-opacity:1;stroke-miterlimit:10;\" d=\"M 148.148438 560.863281 C 183.105469 503.085938 233.210938 482.890625 298.464844 500.273438 \"/>\n<path style=\"fill:none;stroke-width:1;stroke-linecap:butt;stroke-linejoin:miter;stroke:rgb(26.666667%,26.666667%,26.666667%);stroke-opacity:1;stroke-miterlimit:10;\" d=\"M 580 513.742188 C 482.789063 579.636719 388.941406 575.144531 298.464844 500.273438 \"/>\n<path style=\"fill:none;stroke-width:1;stroke-linecap:butt;stroke-linejoin:miter;stroke:rgb(26.666667%,26.666667%,26.666667%);stroke-opacity:1;stroke-miterlimit:10;\" d=\"M 298.464844 500.273438 C 212.285156 421.804688 119.460938 412.949219 20 473.714844 \"/>\n<path style=\"fill:none;stroke-width:1;stroke-linecap:butt;stroke-linejoin:miter;stroke:rgb(26.666667%,26.666667%,26.666667%);stroke-opacity:1;stroke-miterlimit:10;\" d=\"M 298.464844 500.273438 C 370.050781 509.730469 420.40625 481.421875 449.53125 415.351563 \"/>\n<path style=\"fill:none;stroke-width:1;stroke-linecap:butt;stroke-linejoin:miter;stroke:rgb(26.666667%,26.666667%,26.666667%);stroke-opacity:1;stroke-miterlimit:10;\" d=\"M 298.464844 500.273438 C 288.664063 439.085938 253.023438 404.632813 191.542969 396.910156 \"/>\n<path style=\"fill:none;stroke-width:1;stroke-linecap:butt;stroke-linejoin:miter;stroke:rgb(26.666667%,26.666667%,26.666667%);stroke-opacity:1;stroke-miterlimit:10;\" d=\"M 148.148438 560.863281 C 83.644531 563.847656 40.929688 534.800781 20 473.714844 \"/>\n<path style=\"fill:none;stroke-width:1;stroke-linecap:butt;stroke-linejoin:miter;stroke:rgb(26.666667%,26.666667%,26.666667%);stroke-opacity:1;stroke-miterlimit:10;\" d=\"M 298.464844 500.273438 C 199.003906 561.035156 106.183594 552.183594 20 473.714844 \"/>\n<path style=\"fill:none;stroke-width:1;stroke-linecap:butt;stroke-linejoin:miter;stroke:rgb(26.666667%,26.666667%,26.666667%);stroke-opacity:1;stroke-miterlimit:10;\" d=\"M 20 473.714844 C 96.382813 490.996094 153.5625 465.394531 191.542969 396.910156 \"/>\n<path style=\"fill:none;stroke-width:1;stroke-linecap:butt;stroke-linejoin:miter;stroke:rgb(26.666667%,26.666667%,26.666667%);stroke-opacity:1;stroke-miterlimit:10;\" d=\"M 415.886719 580 C 385.9375 516.707031 397.152344 461.824219 449.53125 415.351563 \"/>\n<path style=\"fill:none;stroke-width:1;stroke-linecap:butt;stroke-linejoin:miter;stroke:rgb(26.666667%,26.666667%,26.666667%);stroke-opacity:1;stroke-miterlimit:10;\" d=\"M 580 513.742188 C 511.910156 513.5625 468.421875 480.765625 449.53125 415.351563 \"/>\n<path style=\"fill:none;stroke-width:1;stroke-linecap:butt;stroke-linejoin:miter;stroke:rgb(26.666667%,26.666667%,26.666667%);stroke-opacity:1;stroke-miterlimit:10;\" d=\"M 298.464844 500.273438 C 327.589844 434.199219 377.945313 405.890625 449.53125 415.351563 \"/>\n<path style=\"fill:none;stroke-width:1;stroke-linecap:butt;stroke-linejoin:miter;stroke:rgb(26.666667%,26.666667%,26.666667%);stroke-opacity:1;stroke-miterlimit:10;\" d=\"M 449.53125 415.351563 C 368.144531 344.707031 282.148438 338.558594 191.542969 396.910156 \"/>\n<path style=\"fill:none;stroke-width:1;stroke-linecap:butt;stroke-linejoin:miter;stroke:rgb(26.666667%,26.666667%,26.666667%);stroke-opacity:1;stroke-miterlimit:10;\" d=\"M 449.53125 415.351563 C 447.144531 347.957031 413.273438 305.96875 347.90625 289.386719 \"/>\n<path style=\"fill:none;stroke-width:1;stroke-linecap:butt;stroke-linejoin:miter;stroke:rgb(26.666667%,26.666667%,26.666667%);stroke-opacity:1;stroke-miterlimit:10;\" d=\"M 148.148438 560.863281 C 121.625 495.363281 136.089844 440.710938 191.542969 396.910156 \"/>\n<path style=\"fill:none;stroke-width:1;stroke-linecap:butt;stroke-linejoin:miter;stroke:rgb(26.666667%,26.666667%,26.666667%);stroke-opacity:1;stroke-miterlimit:10;\" d=\"M 298.464844 500.273438 C 236.984375 492.546875 201.34375 458.09375 191.542969 396.910156 \"/>\n<path style=\"fill:none;stroke-width:1;stroke-linecap:butt;stroke-linejoin:miter;stroke:rgb(26.666667%,26.666667%,26.666667%);stroke-opacity:1;stroke-miterlimit:10;\" d=\"M 20 473.714844 C 57.980469 405.226563 115.160156 379.625 191.542969 396.910156 \"/>\n<path style=\"fill:none;stroke-width:1;stroke-linecap:butt;stroke-linejoin:miter;stroke:rgb(26.666667%,26.666667%,26.666667%);stroke-opacity:1;stroke-miterlimit:10;\" d=\"M 449.53125 415.351563 C 358.925781 473.699219 272.929688 467.550781 191.542969 396.910156 \"/>\n<path style=\"fill:none;stroke-width:1;stroke-linecap:butt;stroke-linejoin:miter;stroke:rgb(26.666667%,26.666667%,26.666667%);stroke-opacity:1;stroke-miterlimit:10;\" d=\"M 191.542969 396.910156 C 270.542969 400.160156 322.664063 364.320313 347.90625 289.386719 \"/>\n<path style=\"fill:none;stroke-width:1;stroke-linecap:butt;stroke-linejoin:miter;stroke:rgb(26.666667%,26.666667%,26.666667%);stroke-opacity:1;stroke-miterlimit:10;\" d=\"M 449.53125 415.351563 C 384.164063 398.769531 350.289063 356.78125 347.90625 289.386719 \"/>\n<path style=\"fill:none;stroke-width:1;stroke-linecap:butt;stroke-linejoin:miter;stroke:rgb(26.666667%,26.666667%,26.666667%);stroke-opacity:1;stroke-miterlimit:10;\" d=\"M 191.542969 396.910156 C 216.785156 321.976563 268.90625 286.136719 347.90625 289.386719 \"/>\n<path style=\"fill:none;stroke-width:1;stroke-linecap:butt;stroke-linejoin:miter;stroke:rgb(26.666667%,26.666667%,26.666667%);stroke-opacity:1;stroke-miterlimit:10;\" d=\"M 347.90625 289.386719 C 392.632813 251.941406 403.285156 206.503906 379.863281 153.082031 \"/>\n<path style=\"fill:none;stroke-width:1;stroke-linecap:butt;stroke-linejoin:miter;stroke:rgb(26.666667%,26.666667%,26.666667%);stroke-opacity:1;stroke-miterlimit:10;\" d=\"M 347.90625 289.386719 C 324.480469 235.964844 335.132813 190.527344 379.863281 153.082031 \"/>\n<path style=\"fill:none;stroke-width:1;stroke-linecap:butt;stroke-linejoin:miter;stroke:rgb(26.666667%,26.666667%,26.666667%);stroke-opacity:1;stroke-miterlimit:10;\" d=\"M 379.863281 153.082031 L 411.0625 20 \"/>\n<path style=\"fill-rule:nonzero;fill:rgb(100%,0%,0%);fill-opacity:1;stroke-width:1;stroke-linecap:butt;stroke-linejoin:miter;stroke:rgb(0%,0%,0%);stroke-opacity:1;stroke-miterlimit:10;\" d=\"M 425.886719 580 C 425.886719 585.523438 421.410156 590 415.886719 590 C 410.363281 590 405.886719 585.523438 405.886719 580 C 405.886719 574.476563 410.363281 570 415.886719 570 C 421.410156 570 425.886719 574.476563 425.886719 580 \"/>\n<path style=\"fill-rule:nonzero;fill:rgb(100%,0%,0%);fill-opacity:1;stroke-width:1;stroke-linecap:butt;stroke-linejoin:miter;stroke:rgb(0%,0%,0%);stroke-opacity:1;stroke-miterlimit:10;\" d=\"M 158.148438 560.863281 C 158.148438 566.382813 153.671875 570.863281 148.148438 570.863281 C 142.625 570.863281 138.148438 566.382813 138.148438 560.863281 C 138.148438 555.339844 142.625 550.863281 148.148438 550.863281 C 153.671875 550.863281 158.148438 555.339844 158.148438 560.863281 \"/>\n<path style=\"fill-rule:nonzero;fill:rgb(100%,0%,0%);fill-opacity:1;stroke-width:1;stroke-linecap:butt;stroke-linejoin:miter;stroke:rgb(0%,0%,0%);stroke-opacity:1;stroke-miterlimit:10;\" d=\"M 590 513.742188 C 590 519.265625 585.523438 523.742188 580 523.742188 C 574.476563 523.742188 570 519.265625 570 513.742188 C 570 508.21875 574.476563 503.742188 580 503.742188 C 585.523438 503.742188 590 508.21875 590 513.742188 \"/>\n<path style=\"fill-rule:nonzero;fill:rgb(100%,0%,0%);fill-opacity:1;stroke-width:1;stroke-linecap:butt;stroke-linejoin:miter;stroke:rgb(0%,0%,0%);stroke-opacity:1;stroke-miterlimit:10;\" d=\"M 308.464844 500.273438 C 308.464844 505.796875 303.988281 510.273438 298.464844 510.273438 C 292.941406 510.273438 288.464844 505.796875 288.464844 500.273438 C 288.464844 494.75 292.941406 490.273438 298.464844 490.273438 C 303.988281 490.273438 308.464844 494.75 308.464844 500.273438 \"/>\n<path style=\"fill-rule:nonzero;fill:rgb(100%,0%,0%);fill-opacity:1;stroke-width:1;stroke-linecap:butt;stroke-linejoin:miter;stroke:rgb(0%,0%,0%);stroke-opacity:1;stroke-miterlimit:10;\" d=\"M 30 473.714844 C 30 479.238281 25.523438 483.714844 20 483.714844 C 14.476563 483.714844 10 479.238281 10 473.714844 C 10 468.191406 14.476563 463.714844 20 463.714844 C 25.523438 463.714844 30 468.191406 30 473.714844 \"/>\n<path style=\"fill-rule:nonzero;fill:rgb(100%,0%,0%);fill-opacity:1;stroke-width:1;stroke-linecap:butt;stroke-linejoin:miter;stroke:rgb(0%,0%,0%);stroke-opacity:1;stroke-miterlimit:10;\" d=\"M 459.53125 415.351563 C 459.53125 420.871094 455.054688 425.351563 449.53125 425.351563 C 444.007813 425.351563 439.53125 420.871094 439.53125 415.351563 C 439.53125 409.828125 444.007813 405.351563 449.53125 405.351563 C 455.054688 405.351563 459.53125 409.828125 459.53125 415.351563 \"/>\n<path style=\"fill-rule:nonzero;fill:rgb(100%,0%,0%);fill-opacity:1;stroke-width:1;stroke-linecap:butt;stroke-linejoin:miter;stroke:rgb(0%,0%,0%);stroke-opacity:1;stroke-miterlimit:10;\" d=\"M 201.542969 396.910156 C 201.542969 402.433594 197.066406 406.910156 191.542969 406.910156 C 186.019531 406.910156 181.542969 402.433594 181.542969 396.910156 C 181.542969 391.386719 186.019531 386.910156 191.542969 386.910156 C 197.066406 386.910156 201.542969 391.386719 201.542969 396.910156 \"/>\n<path style=\"fill-rule:nonzero;fill:rgb(100%,0%,0%);fill-opacity:1;stroke-width:1;stroke-linecap:butt;stroke-linejoin:miter;stroke:rgb(0%,0%,0%);stroke-opacity:1;stroke-miterlimit:10;\" d=\"M 357.90625 289.386719 C 357.90625 294.910156 353.429688 299.386719 347.90625 299.386719 C 342.382813 299.386719 337.90625 294.910156 337.90625 289.386719 C 337.90625 283.863281 342.382813 279.386719 347.90625 279.386719 C 353.429688 279.386719 357.90625 283.863281 357.90625 289.386719 \"/>\n<path style=\"fill-rule:nonzero;fill:rgb(100%,0%,0%);fill-opacity:1;stroke-width:1;stroke-linecap:butt;stroke-linejoin:miter;stroke:rgb(0%,0%,0%);stroke-opacity:1;stroke-miterlimit:10;\" d=\"M 389.863281 153.082031 C 389.863281 158.605469 385.382813 163.082031 379.863281 163.082031 C 374.339844 163.082031 369.863281 158.605469 369.863281 153.082031 C 369.863281 147.558594 374.339844 143.082031 379.863281 143.082031 C 385.382813 143.082031 389.863281 147.558594 389.863281 153.082031 \"/>\n<path style=\"fill-rule:nonzero;fill:rgb(100%,0%,0%);fill-opacity:1;stroke-width:1;stroke-linecap:butt;stroke-linejoin:miter;stroke:rgb(0%,0%,0%);stroke-opacity:1;stroke-miterlimit:10;\" d=\"M 421.0625 20 C 421.0625 25.523438 416.585938 30 411.0625 30 C 405.539063 30 401.0625 25.523438 401.0625 20 C 401.0625 14.476563 405.539063 10 411.0625 10 C 416.585938 10 421.0625 14.476563 421.0625 20 \"/>\n</g>\n</svg>\n",
            "text/plain": [
              "<igraph.drawing.Plot at 0x2580fd90148>"
            ]
          },
          "execution_count": 8,
          "metadata": {
            "image/svg+xml": {
              "isolated": true
            }
          },
          "output_type": "execute_result"
        }
      ],
      "source": [
        "#Plotten Sie den Graphen Kite\n",
        "plot(graph_kite)"
      ]
    },
    {
      "cell_type": "markdown",
      "metadata": {
        "id": "uSqR23Ahs0B2"
      },
      "source": [
        "Wie Sie sehen können, sind die zwei Netzwerke sehr unterschiedlich. Im Netzwerk *karate* (Zachary, 1977) stellen die Knoten Mitglieder eines Karateclubs dar und die Kanten Aktivitäten, welche die Mitglieder gemeinsam unternommen haben; Beim Netzwerk *kite* (Source \"Kite\" (2017); Krackhardt, 1990) handelt es sich um ein nichtreales soziales Netzwerk."
      ]
    },
    {
      "cell_type": "markdown",
      "metadata": {
        "id": "-r9HYvOrs0B2"
      },
      "source": [
        "## a) Gradbasierte Maße - Node Degree und Degree Distribution"
      ]
    },
    {
      "cell_type": "markdown",
      "metadata": {
        "id": "6P784XG-s0B2"
      },
      "source": [
        "### Aufgabe 5.3"
      ]
    },
    {
      "cell_type": "markdown",
      "metadata": {
        "id": "3XDLOkT1s0B2"
      },
      "source": [
        "Wie Sie im Skript bereits gelernt haben, gibt der **Node Degree** (Grad) eines Knotens an, wie viele Kanten von ihm ausgehen. Bei gerichteten Graphen unterscheidet man zusätzlich zwischen **In-Degree** (Anzahl eingehender Kanten) und **Out-Degree** (Anzahl ausgehender Kanten).\n",
        "\n",
        "Im Package *'igraph'* gibt der Befehl *graph.degree(vertices, mode)* den Node Degree derjenigen Knoten an, die in einem Vektor dem Argument *vertices* übergeben werden. Per default werden die Node Degrees aller Knoten ausgegeben. Bei gerichteten Graphen muss zusätzlich der Modus (*mode*) \"*in*\", \"*out*\" oder \"*all*\" festgelegt werden. Wie der Name sagt, erhält man beim *mode=\"in\"* den In-Degree, beim *mode=\"out\"* den Out-Degree und beim *mode=\"total\"* die Summe aus In- und Out-Degree zurück. \n",
        "- - -\n",
        "*Aufgabe:* Lassen Sie sich im folgenden Code-Chunk im (ungerichteten) Graphen *karate* den Node Degree vom Karate-Trainer \"*Mr Hi*\" und dem Präsidenten \"*John A*\" ausgeben.\n",
        "\n",
        "**Hinweis:** Mr Hi ist Knoten 1 und John A ist Knoten 34. Erinnern Sie sich daran, dass in Python die Indexierung bei 0 beginnt und Sie von dem Werten also entsprechend 1 subtrahieren müssen. \n",
        "- - -"
      ]
    },
    {
      "cell_type": "code",
      "execution_count": null,
      "metadata": {
        "colab": {
          "base_uri": "https://localhost:8080/"
        },
        "id": "lgghJB0xs0B3",
        "outputId": "fbb3bd53-58a8-4361-9ef6-40f7892ed671"
      },
      "outputs": [],
      "source": [
        "# {\"5_3\"}\n",
        "#Lassen Sie sich den Node Degree von \"Mr Hi\" und \"John A\" ausgeben\n",
        "# Mr Hi ist Knoten 1 und John A ist Knoten 34\n"
      ]
    },
    {
      "cell_type": "markdown",
      "metadata": {},
      "source": [
        "#### Tipps"
      ]
    },
    {
      "cell_type": "markdown",
      "metadata": {},
      "source": [
        "##### Tipp 1"
      ]
    },
    {
      "cell_type": "markdown",
      "metadata": {},
      "source": [
        "Geben Sie die Knoten innerhalb einer Liste an.\n",
        "<br>\n",
        "Beispiel: vertices=[10,25]"
      ]
    },
    {
      "cell_type": "markdown",
      "metadata": {},
      "source": [
        "##### Lösung"
      ]
    },
    {
      "cell_type": "markdown",
      "metadata": {},
      "source": [
        "graph_karate.degree(vertices=[0, 33], mode='all')"
      ]
    },
    {
      "cell_type": "markdown",
      "metadata": {
        "id": "WekuV-sts0B3"
      },
      "source": [
        "### Aufgabe 5.4"
      ]
    },
    {
      "cell_type": "markdown",
      "metadata": {
        "id": "NM5LXIWcs0B3"
      },
      "source": [
        "Bezogen auf das gesamte Netzwerk lässt sich der sogenannte **Average Degree** berechnen - der Durchschnitt der Node Degrees aller Knoten. Im Falle eines gerichteten Graphen ist auch hier zu unterscheiden zwischen dem **Average In-Degree** und dem **Average Out-Degree**. \n",
        "- - -\n",
        "*Aufgabe:* Berechnen Sie für den Graphen *kite* und den Graphen *karate* jeweils den *Average Degree*. Beachten Sie, dass es hierfür keine separate Funktion gibt, sodass Sie tatsächlich den Mittelwert (*mean(x)*) der Node Degrees aller Knoten berechnen müssen. Folgen Sie den Angaben in den Kommentaren des nächsten Code-Chunks.\n",
        "- - -"
      ]
    },
    {
      "cell_type": "code",
      "execution_count": null,
      "metadata": {
        "colab": {
          "base_uri": "https://localhost:8080/"
        },
        "id": "yKJag8X3s0B4",
        "outputId": "87caed4d-97bb-49a0-cf62-14ae41f0bb26"
      },
      "outputs": [],
      "source": [
        "# {\"5_4\"}\n",
        "#Berechnen Sie die Node Degrees aller Knoten des Graphen kite und speichern Sie den Vektor in der Variable deg_kite\n",
        "\n",
        "#Berechnen Sie nun den Average Degree des Graphen kite\n"
      ]
    },
    {
      "cell_type": "markdown",
      "metadata": {},
      "source": [
        "#### Tipps"
      ]
    },
    {
      "cell_type": "markdown",
      "metadata": {},
      "source": [
        "##### Tipp 1"
      ]
    },
    {
      "cell_type": "markdown",
      "metadata": {},
      "source": [
        "Wenden Sie die Funktion graph.degree() ohne Angabe von Parametern an"
      ]
    },
    {
      "cell_type": "markdown",
      "metadata": {},
      "source": [
        "##### Tipp 2"
      ]
    },
    {
      "cell_type": "markdown",
      "metadata": {},
      "source": [
        "Verwenden Sie den Befehl mean(x) zur Berechnung des Mittelwerts von x"
      ]
    },
    {
      "cell_type": "markdown",
      "metadata": {},
      "source": [
        "##### Lösung"
      ]
    },
    {
      "cell_type": "markdown",
      "metadata": {},
      "source": [
        "Berechnen Sie die Node Degrees aller Knoten des Graphen kite und speichern Sie den Vektor in der Variable\n",
        "<br>\n",
        "<br>\n",
        "*deg_kite\n",
        "<br>\n",
        "deg_kite = graph_kite.degree()*\n",
        "<br>\n",
        "<br>\n",
        "Berechnen Sie nun den Average Degree des Graphen kite\n",
        "<br>\n",
        "<br>\n",
        "*print(mean(deg_kite))*"
      ]
    },
    {
      "cell_type": "markdown",
      "metadata": {
        "id": "BOTQRVFLs0B4"
      },
      "source": [
        "### Aufgabe 5.5"
      ]
    },
    {
      "cell_type": "markdown",
      "metadata": {
        "id": "g5nwmQHos0B4"
      },
      "source": [
        "Im Durchschnitt ist somit jeder Knoten des Graphen *kite* mit 3.6 Knoten **(Aktuell noch abweichend, da höhere Kantenzahl)** verbunden. Der folgende Code-Chunk berechnet dieselbe Kennzahl für das Netzwerk *karate*. Führen Sie den Code aus.\n",
        "\n",
        "Wie Sie sehen werden, weichen die Graphen in dieser Kennzahl voneinander ab. Ist das alleine schon aussagekräftig?"
      ]
    },
    {
      "cell_type": "code",
      "execution_count": null,
      "metadata": {
        "colab": {
          "base_uri": "https://localhost:8080/"
        },
        "id": "62cZHLbOs0B4",
        "outputId": "2a4eab95-5ba7-4fef-b50f-f51df56bd386"
      },
      "outputs": [],
      "source": [
        "# {\"5_5\"}\n",
        "#Berechnen Sie den Average Degree des Graphen karate\n",
        "deg_karate = graph_karate.degree(mode='all')\n",
        "print(mean(deg_karate))"
      ]
    },
    {
      "cell_type": "markdown",
      "metadata": {
        "id": "47x5wu4Gs0B4"
      },
      "source": [
        "### Aufgabe 5.6"
      ]
    },
    {
      "cell_type": "markdown",
      "metadata": {
        "id": "eXuqhmH2rdOt"
      },
      "source": [
        "Zur besseren Einschätzung und zum Vergleich der Graphen kann es nützlich sein, sich eine Gegenüberstellung der Kanten- und Knotenzahlen anzeigen zu lassen. "
      ]
    },
    {
      "cell_type": "markdown",
      "metadata": {
        "id": "UWFpl4kKs0B4"
      },
      "source": [
        "- - -\n",
        "*Aufgabe:* Lassen Sie sich dazu mit Hilfe der Befehle *graph.vcount()* und *graph.ecount()* die Anzahl der Knoten bzw. Kanten der beiden Graphen ausgeben.\n",
        "- - -"
      ]
    },
    {
      "cell_type": "code",
      "execution_count": null,
      "metadata": {
        "colab": {
          "base_uri": "https://localhost:8080/",
          "height": 112
        },
        "id": "hvfhCaOes0B4",
        "outputId": "b900fade-d7c7-494c-95c4-b81d6f296dc6"
      },
      "outputs": [],
      "source": [
        "# {\"5_6\"}\n",
        "#Bezüglich Graph kite:\n",
        "#Speichern Sie die Anzahl Knoten in der Variable v_kite\n",
        "\n",
        "#Speichern Sie die Anzahl Kanten in der Variable e_kite\n",
        "\n",
        "#Bezüglich Graph karate:\n",
        "#Speichern Sie die Anzahl Knoten in der Variable v_karate\n",
        "\n",
        "#Speichern Sie die Anzahl Kanten in der Variable e_karate\n",
        "\n",
        "#Übersichtliche Ausgabe der Zahlen\n",
        "df_karate_kite = pd.DataFrame([[v_karate, e_karate], [v_kite, e_kite]], columns=['Knoten', 'Kanten'], index=['Karate', 'Kite'])\n",
        "df_karate_kite"
      ]
    },
    {
      "cell_type": "markdown",
      "metadata": {},
      "source": [
        "#### Tipps"
      ]
    },
    {
      "cell_type": "markdown",
      "metadata": {},
      "source": [
        "##### Tipp 1"
      ]
    },
    {
      "cell_type": "markdown",
      "metadata": {},
      "source": [
        "Verwenden Sie jeweil die Befehle graph.vcount() bzw. graph.ecount() um die Anzahl der Knoten bzw. Kanten zu erhalten. Geben Sie hierbei keine Parameter an"
      ]
    },
    {
      "cell_type": "markdown",
      "metadata": {},
      "source": [
        "##### Lösung"
      ]
    },
    {
      "cell_type": "markdown",
      "metadata": {},
      "source": [
        "Bezüglich Graph kite:\n",
        "<br>Speichern Sie die Anzahl Knoten in der Variable v_kite\n",
        "<br><br>*v_kite = graph_kite.vcount()*\n",
        "<br><br>Speichern Sie die Anzahl Kanten in der Variable e_kite\n",
        "<br><br>*e_kite = graph_kite.ecount()*\n",
        "<br><br>Bezüglich Graph karate:\n",
        "<br><br>Speichern Sie die Anzahl Knoten in der Variable v_karate\n",
        "<br><br>*v_karate = graph_karate.vcount()*\n",
        "<br><br>Speichern Sie die Anzahl Kanten in der Variable e_karate\n",
        "<br><br>*e_karate = graph_karate.ecount()*\n",
        "<br><br>Übersichtliche Ausgabe der Zahlen\n",
        "<br><br>*df_karate_kite = pd.DataFrame([[v_karate, e_karate], [v_kite, e_kite]], columns=['Knoten', 'Kanten'], index=['Karate', 'Kite'])\n",
        "<br>df_karate_kite*"
      ]
    },
    {
      "cell_type": "markdown",
      "metadata": {
        "id": "HXI-HA1cs0B5"
      },
      "source": [
        "### Aufgabe 5.7"
      ]
    },
    {
      "cell_type": "markdown",
      "metadata": {
        "id": "KS62v1kIs0B5"
      },
      "source": [
        "Da der Graph *karate* sowohl in der Anzahl der Knoten, als auch in der Anzahl der Kanten größer ist als der Graph *kite*, besteht dennoch die Möglichkeit, dass die Graphen sich ähneln - obwohl der Average Degree unterschiedlich ausfällt. Untersuchen wir daher ein weiteres Merkmal - die **Degree Distribution**. Der Befehl *plt.hist(x, bins)* aus dem Package Matplotlib gibt ein Histogramm der Node Degrees aus. Das *x* steht hierbei für die zuvor berechneten Node Degrees. Die Node Degrees haben Sie bereits in Aufgabe 5.4 berechnet.\n",
        "- - -\n",
        "*Aufgabe:* Wenden Sie diesen Befehl im folgenden Code-Chunk auf die Node Degrees der einzelnen Knoten an, um dadurch die Degree Distribution zu erhalten.\n",
        "- - -"
      ]
    },
    {
      "cell_type": "code",
      "execution_count": null,
      "metadata": {
        "colab": {
          "base_uri": "https://localhost:8080/",
          "height": 321
        },
        "id": "Z8wRrXU9s0B5",
        "outputId": "b42d8803-fa98-4323-c62c-0c892ebe2562"
      },
      "outputs": [],
      "source": [
        "# {\"5_7\"}\n",
        "#Lassen Sie sich die Degree Distribution des Graphen kite anzeigen\n",
        "#Verwenden Sie dazu die oben definierte Variable deg_kite\n",
        "plt.hist(_____, bins=np.arange(0, max(deg_kite)))"
      ]
    },
    {
      "cell_type": "code",
      "execution_count": null,
      "metadata": {
        "colab": {
          "base_uri": "https://localhost:8080/",
          "height": 377
        },
        "id": "jArTEPBss0B5",
        "outputId": "1f3680be-e998-4595-ebe1-853f6fc7af49"
      },
      "outputs": [],
      "source": [
        "#Lassen Sie sich zum Vergleich die Degree Distribution\n",
        "#des Graphen karate anzeigen\n",
        "#Verwenden Sie dazu die oben definierte Variable deg_karate\n",
        "plt.hist(_____, bins=np.arange(0, max(deg_karate)))"
      ]
    },
    {
      "cell_type": "markdown",
      "metadata": {},
      "source": [
        "#### Tipps"
      ]
    },
    {
      "cell_type": "markdown",
      "metadata": {},
      "source": [
        "##### Tipp 1"
      ]
    },
    {
      "cell_type": "markdown",
      "metadata": {},
      "source": [
        "Geben Sie einfach jeweils den Namen der Variablen, welche die Degrees beinhalten, anstelle der Platzhalter an"
      ]
    },
    {
      "cell_type": "markdown",
      "metadata": {},
      "source": [
        "##### Lösung"
      ]
    },
    {
      "cell_type": "markdown",
      "metadata": {},
      "source": [
        "plt.hist(deg_karate, bins=np.arange(0, max(deg_karate)))"
      ]
    },
    {
      "cell_type": "markdown",
      "metadata": {},
      "source": [
        "#### Erklärung"
      ]
    },
    {
      "cell_type": "markdown",
      "metadata": {},
      "source": [
        "Sie können erkennen, dass die beiden Graphen sich auch hinsichtlich der Degree Distribution $P(k)$ unterscheiden. Während die Node Degrees im Graph *kite* zwischen Node Degree=1 und Node Degree=6 eher gleichverteilt sind, ist die Degree Distribution des Graphen *karate* eher rechtsschief.\n",
        "\n",
        "Die Berechnungen - Average In-Degree, Average Out-Degree und die Degree Distribution - für gerichtete Graphen erfolgen analog, mit dem Unterschied, dass bei der Funktion *degree* das Argument *mode=\"in\"* bzw. *mode=\"out\"* verwendet wird. Da dies keinen grundlegenden Lernfortschritt mit sich bringt, verzichten wir an dieser Stelle auf eine beispielhafte Berechnung für gerichtete Graphen."
      ]
    },
    {
      "cell_type": "markdown",
      "metadata": {},
      "source": [
        "## b) Gradbasierte Maße - Clustering Coefficient"
      ]
    },
    {
      "cell_type": "markdown",
      "metadata": {
        "id": "pIrbxpLrs0B5"
      },
      "source": [
        "Neben dem Node Degree haben Sie noch ein weiteres gradbasiertes Maß im Skript kennengelernt: den **Clustering Coefficient** für ungerichtete Graphen.\n",
        "\n",
        "Im Package *'igraph'* gibt es den Befehl *transitivity*, welcher sowohl Local, als auch Average Clustering Coefficients für ungerichtete Graphen berechnen kann. Grundsätzlich sollte bei Clustering Coefficients stets darauf geachtet werden, wie sie berechnet werden. Um konsistent mit der Definition im Skript zu bleiben, werden wir daher lediglich den Local Clustering Coefficient $C_i$ mit dieser Formel berechnen:\n",
        "$$C_i=\\frac{2|L_i|}{k_i(k_i-1)}$$\n",
        "Dabei steht $|L_i|$ für die Anzahl an Verbindungen zwischen den Nachbarknoten von Knoten i und $k_i$ für den Node Degree von Knoten i.  \n",
        "Den globalen Clustering Coefficient, bei uns **Average Clustering Coefficient** $\\langle C \\rangle$ genannt, erhält man anschließend durch Mittelung der Local Clustering Coefficients:\n",
        "$$\\langle C \\rangle = \\frac{1}{|N|}\\sum_{i=1}^{|N|}C_i$$\n",
        "Hierbei steht $|N|$ wie gewohnt für die Anzahl aller Knoten im Graphen.\n",
        "\n",
        "Im folgenden Code wird die Funktion *graph.transitivity_local_undirected(vertices, mode, weights)* verwendet, welche für bestimmte Knoten des Graphen *Karate* die Local Clustering Coefficients bestimmt (Kolaczyk und Csárdi, 2014, Kapitel 4.3.2) **(Quelle hier auch noch relevant?)**."
      ]
    },
    {
      "cell_type": "markdown",
      "metadata": {},
      "source": [
        "### Aufgabe 5.8"
      ]
    },
    {
      "cell_type": "markdown",
      "metadata": {},
      "source": [
        "- - -\n",
        "*Aufgabe:* Berechnen Sie nun analog dazu zunächst alle Local Clustering Coefficients für den Graphen *kite* und im Anschluss daran den Average Clustering Coefficient für diesen Graphen. Den Parameter *weights* benötigen Sie dazu nicht, da der Graph *kite* kein Kantenattribut namens *weight* besitzt. Wenn Sie den Parameter *vertices* nicht verwenden, so werden automatisch alle Knoten berücksichtigt. Auch über den Parameter *mode* müssen Sie sich keine Gedanken machen. Bei dieser Aufgabe reicht es aus, wenn Sie die Funktion ohne Parameter aufrufen.\n",
        "- - -"
      ]
    },
    {
      "cell_type": "code",
      "execution_count": null,
      "metadata": {
        "colab": {
          "base_uri": "https://localhost:8080/"
        },
        "id": "i6GPkt_Fs0B5",
        "outputId": "1e80a8aa-ee85-4954-f217-4d35559923b8"
      },
      "outputs": [],
      "source": [
        "# {\"5_8\"}\n",
        "#Berechnen Sie C_i für alle Knoten in kite\n",
        "#und speichern Sie diese in C_local_kite\n",
        "\n",
        "#Berechnen Sie den Average Clustering Coefficient, \n",
        "#indem Sie die Variable C_local_kite verwenden\n"
      ]
    },
    {
      "cell_type": "markdown",
      "metadata": {},
      "source": [
        "#### Tipps"
      ]
    },
    {
      "cell_type": "markdown",
      "metadata": {},
      "source": [
        "##### Tipp 1"
      ]
    },
    {
      "cell_type": "markdown",
      "metadata": {},
      "source": [
        "Verwenden Sie den Befehl in der folgenden Form: graph.transitivity_local_undirected()"
      ]
    },
    {
      "cell_type": "markdown",
      "metadata": {},
      "source": [
        "##### Tipp 2"
      ]
    },
    {
      "cell_type": "markdown",
      "metadata": {},
      "source": [
        "Den Mittelwert bekommen Sie wie bereits zuvor über den Befehl mean(x)"
      ]
    },
    {
      "cell_type": "markdown",
      "metadata": {},
      "source": [
        "##### Lösung"
      ]
    },
    {
      "cell_type": "markdown",
      "metadata": {},
      "source": [
        "Berechnen Sie C_i für alle Knoten in kite\n",
        "<br>und speichern Sie diese in C_local_kite\n",
        "<br><br>*C_local_kite = graph_kite.transitivity_local_undirected()*\n",
        "<br><br>Berechnen Sie den Average Clustering Coefficient, \n",
        "<br>indem Sie die Variable C_local_kite verwenden\n",
        "<br><br>*print(mean(C_local_kite))*"
      ]
    },
    {
      "cell_type": "markdown",
      "metadata": {},
      "source": [
        "#### Erklärung"
      ]
    },
    {
      "cell_type": "markdown",
      "metadata": {
        "id": "EE8ExPKns0B6"
      },
      "source": [
        "Der Graph *kite* besitzt zwar keine isolierten Knoten, dafür aber einen Knoten mit nur einem Nachbar. Für den Fall, dass ein Knoten im betrachteten Graphen den Grad 0 (isolierter Knoten) oder 1 (ein Nachbarknoten) besitzt, ist die Formel für $C_i$ aus dem Skript für diesen Knoten nicht definiert. Auch mit dem oben verwendeten Befehl erhält man für einen solchen Knoten keinen Wert (*NaN*). Enstprechend ergibt sich für den Fall, dass der Graph mindestens einen solchen Knoten besitzt, auch kein Wert (*NaN*) für den Average Clustering Coefficient. Grundsätzlich erachten wir in solch einem Fall die Berechnung des Average Clustering Coefficients als nicht sinnvoll."
      ]
    },
    {
      "cell_type": "markdown",
      "metadata": {
        "id": "1zlqKOqss0B6"
      },
      "source": [
        "**Hinweis:** Die Funktion *graph.shortest_paths(weights)* liefert die kürzesten Entfernungen zwischen allen Knoten. "
      ]
    },
    {
      "cell_type": "markdown",
      "metadata": {},
      "source": [
        "## c) Pfadbasierte Maße"
      ]
    },
    {
      "cell_type": "markdown",
      "metadata": {},
      "source": [
        "Sie haben in *Aufgabe 4* bereits verschiedene Befehle zur Bestimmung der Entfernung und des kürzesten Pfades zwischen Knoten  kennengelernt. Nun sollen diese beiden Maße durch den **Network Diameter** $d_{max}$ und die **Average Path Length** $\\langle d \\rangle$ erweitert werden. Auch diese beiden Kennzahlen betrachten wir im Folgenden lediglich für ungerichtete Graphen."
      ]
    },
    {
      "cell_type": "markdown",
      "metadata": {},
      "source": [
        "### Aufgabe 5.9"
      ]
    },
    {
      "cell_type": "markdown",
      "metadata": {},
      "source": [
        "- - -\n",
        "*Aufgabe:* Betrachten Sie den Graphen *karate* und bestimmen Sie den Network Diameter des Graphen analog zu seiner Definition\n",
        "$$d_{max}=max_{n_i,n_j \\in N}\\{d(n_i,n_j)\\}$$\n",
        "Folgen Sie dazu den Anweisungen in den Kommentaren des folgenden Code-Chunks. Falls Sie sich an manche Befehle nicht mehr erinnern können, empfiehlt es sich, in *Aufgabe 4* nachzuschlagen.\n",
        "- - -"
      ]
    },
    {
      "cell_type": "code",
      "execution_count": null,
      "metadata": {
        "colab": {
          "base_uri": "https://localhost:8080/"
        },
        "id": "n9UwJSYPs0B6",
        "outputId": "b274928e-8cb2-41c7-e234-5738204c28da"
      },
      "outputs": [],
      "source": [
        "# {\"5_9\"}\n",
        "#Bestimmen Sie die Entfernungen zwischen allen Knoten\n",
        "#des Graphen karate und speichern Sie diese in der Variable dist_karate\n",
        "#Setzen Sie das Argument weigths=None\n",
        "\n",
        "#Führen Sie den folgenden Code aus, um das Maximum von dist_karate berechnen\n",
        "#und in der Variable dmax_karate zu speichern\n",
        "dmax_karate = max(np.array(dist_karate).reshape(-1))\n",
        "#Lassen Sie dmax_karate ausgeben\n",
        "#print(dmax_karate)\n",
        "print(dmax_karate)"
      ]
    },
    {
      "cell_type": "markdown",
      "metadata": {},
      "source": [
        "#### Tipps"
      ]
    },
    {
      "cell_type": "markdown",
      "metadata": {},
      "source": [
        "##### Tipp 1"
      ]
    },
    {
      "cell_type": "markdown",
      "metadata": {},
      "source": [
        "Verwenden Sie den Befehl *graph.shortest_paths(weights=None)* um die Entfernungen zu erhalten"
      ]
    },
    {
      "cell_type": "markdown",
      "metadata": {},
      "source": [
        "##### Lösung"
      ]
    },
    {
      "cell_type": "markdown",
      "metadata": {},
      "source": [
        "dist_karate = graph_karate.shortest_paths(weights=None)"
      ]
    },
    {
      "cell_type": "markdown",
      "metadata": {},
      "source": [
        "### Aufgabe 5.10"
      ]
    },
    {
      "cell_type": "markdown",
      "metadata": {
        "id": "luGgwoYPs0B6"
      },
      "source": [
        "Alternativ zu dieser manuellen Berechnung bietet das Package *'igraph'* den Befehl *graph.diameter(directed)*, welcher direkt den Network Diameter berechnet.\n",
        "- - -\n",
        "*Aufgabe:* Testen Sie im folgenden Code-Chunk, ob der Befehl (mit *directed=False*) für den Graphen *karate* zu demselben Ergebnis führt wie die manuelle Berechnung.\n",
        "- - -"
      ]
    },
    {
      "cell_type": "code",
      "execution_count": null,
      "metadata": {
        "colab": {
          "base_uri": "https://localhost:8080/"
        },
        "id": "7zVcQSPbs0B6",
        "outputId": "a7890bbd-ed1a-43cc-e891-3b4259be7fde"
      },
      "outputs": [],
      "source": [
        "# {\"5_10\"}\n",
        "#Bestimmen Sie den Network Diameter von karate mit dem Befehl diameter\n"
      ]
    },
    {
      "cell_type": "markdown",
      "metadata": {},
      "source": [
        "#### Tipps"
      ]
    },
    {
      "cell_type": "markdown",
      "metadata": {},
      "source": [
        "##### Tipp 1"
      ]
    },
    {
      "cell_type": "markdown",
      "metadata": {},
      "source": [
        "Wenden Sie den Befehl der Form *graph.diameter(directed=False)* an"
      ]
    },
    {
      "cell_type": "markdown",
      "metadata": {},
      "source": [
        "##### Lösung"
      ]
    },
    {
      "cell_type": "markdown",
      "metadata": {},
      "source": [
        "graph_karate.diameter(directed=False)"
      ]
    },
    {
      "cell_type": "markdown",
      "metadata": {},
      "source": [
        "### Aufgabe 5.11"
      ]
    },
    {
      "cell_type": "markdown",
      "metadata": {
        "id": "RifYXlk6s0B6"
      },
      "source": [
        "Abschließend soll die durchschnittliche Entfernung der Knoten zueinander (**Average Path Length** $\\langle d \\rangle$) bestimmt werden. Auch hier ist der intuitive Ansatz die manuelle Berechnung. Die Formel zur Berechnung lautet wie folgt:\n",
        "$$\\langle d \\rangle = \\frac{1}{|N|}\\frac{1}{|N|-1}\\sum_{i=1}^{|N|}\\sum_{j=1,~j\\neq i}^{|N|} d(n_i, n_j)$$\n",
        "Anschaulich beschreibt die Doppelsumme die Addition aller Elemente der Entfernungsmatrix ohne die Diagonalelemente. \n"
      ]
    },
    {
      "cell_type": "markdown",
      "metadata": {
        "id": "cjhQh4A3s0B7"
      },
      "source": [
        "- - -\n",
        "*Aufgabe:* Wenden Sie den Befehl *graph.average_path_length()* auf den Graphen *karate* an um die Average Path Length zu berechnen. Hier wird mittels eines Breadth-First-Algorithmus die Average Path Length bestimmt.\n",
        "- - -"
      ]
    },
    {
      "cell_type": "code",
      "execution_count": null,
      "metadata": {
        "colab": {
          "base_uri": "https://localhost:8080/"
        },
        "id": "lua6COeGs0B7",
        "outputId": "b7f155ad-359a-49d6-bae7-35bee1e5332f"
      },
      "outputs": [],
      "source": [
        "# {\"5_11\"}\n",
        "#Bestimmen Sie die Average Path Length von karate direkt\n"
      ]
    },
    {
      "cell_type": "markdown",
      "metadata": {},
      "source": [
        "#### Tipps"
      ]
    },
    {
      "cell_type": "markdown",
      "metadata": {},
      "source": [
        "##### Tipp 1"
      ]
    },
    {
      "cell_type": "markdown",
      "metadata": {},
      "source": [
        "Wenden Sie den Befehl in der Form *graph.average_path_length()* an"
      ]
    },
    {
      "cell_type": "markdown",
      "metadata": {},
      "source": [
        "##### Lösung"
      ]
    },
    {
      "cell_type": "markdown",
      "metadata": {},
      "source": [
        "print(graph_karate.average_path_length())"
      ]
    }
  ],
  "metadata": {
    "colab": {
      "collapsed_sections": [],
      "name": "PS_Nr_2_Python.ipynb",
      "provenance": []
    },
    "interpreter": {
      "hash": "bed862baa169bd35b57b2a485b7961cf7d1bd32d9b549d4e10480d14566cc8ca"
    },
    "kernelspec": {
      "display_name": "Python 3.7.8 64-bit ('venv': venv)",
      "language": "python",
      "name": "python3"
    },
    "language_info": {
      "codemirror_mode": {
        "name": "ipython",
        "version": 3
      },
      "file_extension": ".py",
      "mimetype": "text/x-python",
      "name": "python",
      "nbconvert_exporter": "python",
      "pygments_lexer": "ipython3",
      "version": "3.7.8"
    },
    "orig_nbformat": 4
  },
  "nbformat": 4,
  "nbformat_minor": 0
}
