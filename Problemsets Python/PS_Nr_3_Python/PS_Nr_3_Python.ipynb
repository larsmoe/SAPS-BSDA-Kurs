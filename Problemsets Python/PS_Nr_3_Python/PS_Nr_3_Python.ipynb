{
 "cells": [
  {
   "cell_type": "code",
   "execution_count": 3,
   "metadata": {},
   "outputs": [],
   "source": [
    "# import libraries\n",
    "import igraph as ig\n",
    "import pandas as pd"
   ]
  },
  {
   "cell_type": "markdown",
   "metadata": {},
   "source": [
    "Willkommen zum dritten Python-Problem Set in diesem Modul!  \n",
    "Sie finden hier eine Aufgabe (*Exercise 6*) zu Inhalten aus Kapitel 3 *Social Network Analysis* - konkret zu dem Teil 3.2 *Zentralität in Netzwerken*."
   ]
  },
  {
   "cell_type": "markdown",
   "metadata": {},
   "source": [
    "# Exercise 6"
   ]
  },
  {
   "cell_type": "markdown",
   "metadata": {},
   "source": [
    "Im Skript haben Sie am Beispiel eines Terrornetzwerks verschiedene Zentralitätsmaße kennengelernt. In dieser Aufgabe werden Sie R dazu nutzen, diese Zentralitätsmaße nicht nur auf einzelne wenige Knoten, sondern auf den gesamten Graphen anzuwenden.\n",
    "\n",
    "---\n",
    "Laden Sie den Datensatz, der die Beziehungen der Terroristen nach Krebs (2002) beschreibt, indem Sie den folgenden Code ausführen."
   ]
  },
  {
   "cell_type": "code",
   "execution_count": 4,
   "metadata": {},
   "outputs": [
    {
     "data": {
      "image/svg+xml": "<?xml version=\"1.0\" encoding=\"UTF-8\"?>\n<svg xmlns=\"http://www.w3.org/2000/svg\" xmlns:xlink=\"http://www.w3.org/1999/xlink\" width=\"600pt\" height=\"600pt\" viewBox=\"0 0 600 600\" version=\"1.1\">\n<g id=\"surface2\">\n<rect x=\"0\" y=\"0\" width=\"600\" height=\"600\" style=\"fill:rgb(100%,100%,100%);fill-opacity:1;stroke:none;\"/>\n<path style=\"fill:none;stroke-width:1;stroke-linecap:butt;stroke-linejoin:miter;stroke:rgb(26.666667%,26.666667%,26.666667%);stroke-opacity:1;stroke-miterlimit:10;\" d=\"M 294.265625 468.664063 L 368.8125 562.183594 \"/>\n<path style=\"fill:none;stroke-width:1;stroke-linecap:butt;stroke-linejoin:miter;stroke:rgb(26.666667%,26.666667%,26.666667%);stroke-opacity:1;stroke-miterlimit:10;\" d=\"M 204.628906 547.804688 L 187.898438 469.988281 \"/>\n<path style=\"fill:none;stroke-width:1;stroke-linecap:butt;stroke-linejoin:miter;stroke:rgb(26.666667%,26.666667%,26.666667%);stroke-opacity:1;stroke-miterlimit:10;\" d=\"M 294.265625 468.664063 L 204.628906 547.804688 \"/>\n<path style=\"fill:none;stroke-width:1;stroke-linecap:butt;stroke-linejoin:miter;stroke:rgb(26.666667%,26.666667%,26.666667%);stroke-opacity:1;stroke-miterlimit:10;\" d=\"M 294.265625 468.664063 L 393.753906 545.210938 \"/>\n<path style=\"fill:none;stroke-width:1;stroke-linecap:butt;stroke-linejoin:miter;stroke:rgb(26.666667%,26.666667%,26.666667%);stroke-opacity:1;stroke-miterlimit:10;\" d=\"M 294.265625 468.664063 L 169.671875 519.503906 \"/>\n<path style=\"fill:none;stroke-width:1;stroke-linecap:butt;stroke-linejoin:miter;stroke:rgb(26.666667%,26.666667%,26.666667%);stroke-opacity:1;stroke-miterlimit:10;\" d=\"M 237.945313 551.59375 L 187.898438 469.988281 \"/>\n<path style=\"fill:none;stroke-width:1;stroke-linecap:butt;stroke-linejoin:miter;stroke:rgb(26.666667%,26.666667%,26.666667%);stroke-opacity:1;stroke-miterlimit:10;\" d=\"M 294.265625 468.664063 L 237.945313 551.59375 \"/>\n<path style=\"fill:none;stroke-width:1;stroke-linecap:butt;stroke-linejoin:miter;stroke:rgb(26.666667%,26.666667%,26.666667%);stroke-opacity:1;stroke-miterlimit:10;\" d=\"M 282.4375 580 L 276.933594 536.5625 \"/>\n<path style=\"fill:none;stroke-width:1;stroke-linecap:butt;stroke-linejoin:miter;stroke:rgb(26.666667%,26.666667%,26.666667%);stroke-opacity:1;stroke-miterlimit:10;\" d=\"M 204.828125 505.261719 L 282.4375 580 \"/>\n<path style=\"fill:none;stroke-width:1;stroke-linecap:butt;stroke-linejoin:miter;stroke:rgb(26.666667%,26.666667%,26.666667%);stroke-opacity:1;stroke-miterlimit:10;\" d=\"M 294.265625 468.664063 L 282.4375 580 \"/>\n<path style=\"fill:none;stroke-width:1;stroke-linecap:butt;stroke-linejoin:miter;stroke:rgb(26.666667%,26.666667%,26.666667%);stroke-opacity:1;stroke-miterlimit:10;\" d=\"M 335.804688 575.863281 L 276.933594 536.5625 \"/>\n<path style=\"fill:none;stroke-width:1;stroke-linecap:butt;stroke-linejoin:miter;stroke:rgb(26.666667%,26.666667%,26.666667%);stroke-opacity:1;stroke-miterlimit:10;\" d=\"M 294.265625 468.664063 L 335.804688 575.863281 \"/>\n<path style=\"fill:none;stroke-width:1;stroke-linecap:butt;stroke-linejoin:miter;stroke:rgb(26.666667%,26.666667%,26.666667%);stroke-opacity:1;stroke-miterlimit:10;\" d=\"M 230.925781 383.523438 L 187.898438 469.988281 \"/>\n<path style=\"fill:none;stroke-width:1;stroke-linecap:butt;stroke-linejoin:miter;stroke:rgb(26.666667%,26.666667%,26.666667%);stroke-opacity:1;stroke-miterlimit:10;\" d=\"M 126.121094 395.101563 L 187.898438 469.988281 \"/>\n<path style=\"fill:none;stroke-width:1;stroke-linecap:butt;stroke-linejoin:miter;stroke:rgb(26.666667%,26.666667%,26.666667%);stroke-opacity:1;stroke-miterlimit:10;\" d=\"M 276.933594 536.5625 L 187.898438 469.988281 \"/>\n<path style=\"fill:none;stroke-width:1;stroke-linecap:butt;stroke-linejoin:miter;stroke:rgb(26.666667%,26.666667%,26.666667%);stroke-opacity:1;stroke-miterlimit:10;\" d=\"M 294.265625 468.664063 L 187.898438 469.988281 \"/>\n<path style=\"fill:none;stroke-width:1;stroke-linecap:butt;stroke-linejoin:miter;stroke:rgb(26.666667%,26.666667%,26.666667%);stroke-opacity:1;stroke-miterlimit:10;\" d=\"M 294.265625 468.664063 L 276.933594 536.5625 \"/>\n<path style=\"fill:none;stroke-width:1;stroke-linecap:butt;stroke-linejoin:miter;stroke:rgb(26.666667%,26.666667%,26.666667%);stroke-opacity:1;stroke-miterlimit:10;\" d=\"M 133.265625 426.632813 L 204.828125 505.261719 \"/>\n<path style=\"fill:none;stroke-width:1;stroke-linecap:butt;stroke-linejoin:miter;stroke:rgb(26.666667%,26.666667%,26.666667%);stroke-opacity:1;stroke-miterlimit:10;\" d=\"M 294.265625 468.664063 L 204.828125 505.261719 \"/>\n<path style=\"fill:none;stroke-width:1;stroke-linecap:butt;stroke-linejoin:miter;stroke:rgb(26.666667%,26.666667%,26.666667%);stroke-opacity:1;stroke-miterlimit:10;\" d=\"M 126.121094 395.101563 L 20 377.292969 \"/>\n<path style=\"fill:none;stroke-width:1;stroke-linecap:butt;stroke-linejoin:miter;stroke:rgb(26.666667%,26.666667%,26.666667%);stroke-opacity:1;stroke-miterlimit:10;\" d=\"M 20 377.292969 L 98.082031 337.683594 \"/>\n<path style=\"fill:none;stroke-width:1;stroke-linecap:butt;stroke-linejoin:miter;stroke:rgb(26.666667%,26.666667%,26.666667%);stroke-opacity:1;stroke-miterlimit:10;\" d=\"M 20 377.292969 L 86.054688 295.921875 \"/>\n<path style=\"fill:none;stroke-width:1;stroke-linecap:butt;stroke-linejoin:miter;stroke:rgb(26.666667%,26.666667%,26.666667%);stroke-opacity:1;stroke-miterlimit:10;\" d=\"M 362.40625 399.957031 L 344.0625 481.351563 \"/>\n<path style=\"fill:none;stroke-width:1;stroke-linecap:butt;stroke-linejoin:miter;stroke:rgb(26.666667%,26.666667%,26.666667%);stroke-opacity:1;stroke-miterlimit:10;\" d=\"M 344.0625 481.351563 L 278.402344 365.257813 \"/>\n<path style=\"fill:none;stroke-width:1;stroke-linecap:butt;stroke-linejoin:miter;stroke:rgb(26.666667%,26.666667%,26.666667%);stroke-opacity:1;stroke-miterlimit:10;\" d=\"M 233.558594 478.203125 L 327.03125 406.570313 \"/>\n<path style=\"fill:none;stroke-width:1;stroke-linecap:butt;stroke-linejoin:miter;stroke:rgb(26.666667%,26.666667%,26.666667%);stroke-opacity:1;stroke-miterlimit:10;\" d=\"M 406.941406 20 L 397.691406 116.265625 \"/>\n<path style=\"fill:none;stroke-width:1;stroke-linecap:butt;stroke-linejoin:miter;stroke:rgb(26.666667%,26.666667%,26.666667%);stroke-opacity:1;stroke-miterlimit:10;\" d=\"M 133.265625 426.632813 L 194.441406 325.539063 \"/>\n<path style=\"fill:none;stroke-width:1;stroke-linecap:butt;stroke-linejoin:miter;stroke:rgb(26.666667%,26.666667%,26.666667%);stroke-opacity:1;stroke-miterlimit:10;\" d=\"M 140.0625 211.925781 L 112.457031 255.003906 \"/>\n<path style=\"fill:none;stroke-width:1;stroke-linecap:butt;stroke-linejoin:miter;stroke:rgb(26.666667%,26.666667%,26.666667%);stroke-opacity:1;stroke-miterlimit:10;\" d=\"M 140.0625 211.925781 L 194.441406 325.539063 \"/>\n<path style=\"fill:none;stroke-width:1;stroke-linecap:butt;stroke-linejoin:miter;stroke:rgb(26.666667%,26.666667%,26.666667%);stroke-opacity:1;stroke-miterlimit:10;\" d=\"M 98.082031 337.683594 L 112.457031 255.003906 \"/>\n<path style=\"fill:none;stroke-width:1;stroke-linecap:butt;stroke-linejoin:miter;stroke:rgb(26.666667%,26.666667%,26.666667%);stroke-opacity:1;stroke-miterlimit:10;\" d=\"M 112.457031 255.003906 L 86.054688 295.921875 \"/>\n<path style=\"fill:none;stroke-width:1;stroke-linecap:butt;stroke-linejoin:miter;stroke:rgb(26.666667%,26.666667%,26.666667%);stroke-opacity:1;stroke-miterlimit:10;\" d=\"M 112.457031 255.003906 L 194.441406 325.539063 \"/>\n<path style=\"fill:none;stroke-width:1;stroke-linecap:butt;stroke-linejoin:miter;stroke:rgb(26.666667%,26.666667%,26.666667%);stroke-opacity:1;stroke-miterlimit:10;\" d=\"M 126.121094 395.101563 L 230.925781 383.523438 \"/>\n<path style=\"fill:none;stroke-width:1;stroke-linecap:butt;stroke-linejoin:miter;stroke:rgb(26.666667%,26.666667%,26.666667%);stroke-opacity:1;stroke-miterlimit:10;\" d=\"M 126.121094 395.101563 L 98.082031 337.683594 \"/>\n<path style=\"fill:none;stroke-width:1;stroke-linecap:butt;stroke-linejoin:miter;stroke:rgb(26.666667%,26.666667%,26.666667%);stroke-opacity:1;stroke-miterlimit:10;\" d=\"M 126.121094 395.101563 L 194.441406 325.539063 \"/>\n<path style=\"fill:none;stroke-width:1;stroke-linecap:butt;stroke-linejoin:miter;stroke:rgb(26.666667%,26.666667%,26.666667%);stroke-opacity:1;stroke-miterlimit:10;\" d=\"M 98.082031 337.683594 L 86.054688 295.921875 \"/>\n<path style=\"fill:none;stroke-width:1;stroke-linecap:butt;stroke-linejoin:miter;stroke:rgb(26.666667%,26.666667%,26.666667%);stroke-opacity:1;stroke-miterlimit:10;\" d=\"M 98.082031 337.683594 L 194.441406 325.539063 \"/>\n<path style=\"fill:none;stroke-width:1;stroke-linecap:butt;stroke-linejoin:miter;stroke:rgb(26.666667%,26.666667%,26.666667%);stroke-opacity:1;stroke-miterlimit:10;\" d=\"M 86.054688 295.921875 L 194.441406 325.539063 \"/>\n<path style=\"fill:none;stroke-width:1;stroke-linecap:butt;stroke-linejoin:miter;stroke:rgb(26.666667%,26.666667%,26.666667%);stroke-opacity:1;stroke-miterlimit:10;\" d=\"M 434.347656 216.066406 L 356.160156 126.070313 \"/>\n<path style=\"fill:none;stroke-width:1;stroke-linecap:butt;stroke-linejoin:miter;stroke:rgb(26.666667%,26.666667%,26.666667%);stroke-opacity:1;stroke-miterlimit:10;\" d=\"M 322.542969 226.117188 L 356.160156 126.070313 \"/>\n<path style=\"fill:none;stroke-width:1;stroke-linecap:butt;stroke-linejoin:miter;stroke:rgb(26.666667%,26.666667%,26.666667%);stroke-opacity:1;stroke-miterlimit:10;\" d=\"M 443.566406 149.847656 L 397.691406 116.265625 \"/>\n<path style=\"fill:none;stroke-width:1;stroke-linecap:butt;stroke-linejoin:miter;stroke:rgb(26.666667%,26.666667%,26.666667%);stroke-opacity:1;stroke-miterlimit:10;\" d=\"M 397.691406 116.265625 L 475.609375 182.53125 \"/>\n<path style=\"fill:none;stroke-width:1;stroke-linecap:butt;stroke-linejoin:miter;stroke:rgb(26.666667%,26.666667%,26.666667%);stroke-opacity:1;stroke-miterlimit:10;\" d=\"M 397.691406 116.265625 L 361.714844 219.25 \"/>\n<path style=\"fill:none;stroke-width:1;stroke-linecap:butt;stroke-linejoin:miter;stroke:rgb(26.666667%,26.666667%,26.666667%);stroke-opacity:1;stroke-miterlimit:10;\" d=\"M 443.566406 149.847656 L 475.609375 182.53125 \"/>\n<path style=\"fill:none;stroke-width:1;stroke-linecap:butt;stroke-linejoin:miter;stroke:rgb(26.666667%,26.666667%,26.666667%);stroke-opacity:1;stroke-miterlimit:10;\" d=\"M 489.824219 245.132813 L 443.566406 149.847656 \"/>\n<path style=\"fill:none;stroke-width:1;stroke-linecap:butt;stroke-linejoin:miter;stroke:rgb(26.666667%,26.666667%,26.666667%);stroke-opacity:1;stroke-miterlimit:10;\" d=\"M 443.566406 149.847656 L 361.714844 219.25 \"/>\n<path style=\"fill:none;stroke-width:1;stroke-linecap:butt;stroke-linejoin:miter;stroke:rgb(26.666667%,26.666667%,26.666667%);stroke-opacity:1;stroke-miterlimit:10;\" d=\"M 277.097656 241.746094 L 320.304688 181.027344 \"/>\n<path style=\"fill:none;stroke-width:1;stroke-linecap:butt;stroke-linejoin:miter;stroke:rgb(26.666667%,26.666667%,26.666667%);stroke-opacity:1;stroke-miterlimit:10;\" d=\"M 322.542969 226.117188 L 320.304688 181.027344 \"/>\n<path style=\"fill:none;stroke-width:1;stroke-linecap:butt;stroke-linejoin:miter;stroke:rgb(26.666667%,26.666667%,26.666667%);stroke-opacity:1;stroke-miterlimit:10;\" d=\"M 363.792969 305.84375 L 320.304688 181.027344 \"/>\n<path style=\"fill:none;stroke-width:1;stroke-linecap:butt;stroke-linejoin:miter;stroke:rgb(26.666667%,26.666667%,26.666667%);stroke-opacity:1;stroke-miterlimit:10;\" d=\"M 395.375 279.726563 L 320.304688 181.027344 \"/>\n<path style=\"fill:none;stroke-width:1;stroke-linecap:butt;stroke-linejoin:miter;stroke:rgb(26.666667%,26.666667%,26.666667%);stroke-opacity:1;stroke-miterlimit:10;\" d=\"M 361.714844 219.25 L 320.304688 181.027344 \"/>\n<path style=\"fill:none;stroke-width:1;stroke-linecap:butt;stroke-linejoin:miter;stroke:rgb(26.666667%,26.666667%,26.666667%);stroke-opacity:1;stroke-miterlimit:10;\" d=\"M 312.039063 255.550781 L 320.304688 181.027344 \"/>\n<path style=\"fill:none;stroke-width:1;stroke-linecap:butt;stroke-linejoin:miter;stroke:rgb(26.666667%,26.666667%,26.666667%);stroke-opacity:1;stroke-miterlimit:10;\" d=\"M 230.925781 383.523438 L 278.402344 365.257813 \"/>\n<path style=\"fill:none;stroke-width:1;stroke-linecap:butt;stroke-linejoin:miter;stroke:rgb(26.666667%,26.666667%,26.666667%);stroke-opacity:1;stroke-miterlimit:10;\" d=\"M 230.925781 383.523438 L 328.648438 333.769531 \"/>\n<path style=\"fill:none;stroke-width:1;stroke-linecap:butt;stroke-linejoin:miter;stroke:rgb(26.666667%,26.666667%,26.666667%);stroke-opacity:1;stroke-miterlimit:10;\" d=\"M 241.464844 248.464844 L 328.648438 333.769531 \"/>\n<path style=\"fill:none;stroke-width:1;stroke-linecap:butt;stroke-linejoin:miter;stroke:rgb(26.666667%,26.666667%,26.666667%);stroke-opacity:1;stroke-miterlimit:10;\" d=\"M 266.472656 312.097656 L 278.402344 365.257813 \"/>\n<path style=\"fill:none;stroke-width:1;stroke-linecap:butt;stroke-linejoin:miter;stroke:rgb(26.666667%,26.666667%,26.666667%);stroke-opacity:1;stroke-miterlimit:10;\" d=\"M 266.472656 312.097656 L 323.671875 369.828125 \"/>\n<path style=\"fill:none;stroke-width:1;stroke-linecap:butt;stroke-linejoin:miter;stroke:rgb(26.666667%,26.666667%,26.666667%);stroke-opacity:1;stroke-miterlimit:10;\" d=\"M 363.792969 305.84375 L 266.472656 312.097656 \"/>\n<path style=\"fill:none;stroke-width:1;stroke-linecap:butt;stroke-linejoin:miter;stroke:rgb(26.666667%,26.666667%,26.666667%);stroke-opacity:1;stroke-miterlimit:10;\" d=\"M 328.648438 333.769531 L 266.472656 312.097656 \"/>\n<path style=\"fill:none;stroke-width:1;stroke-linecap:butt;stroke-linejoin:miter;stroke:rgb(26.666667%,26.666667%,26.666667%);stroke-opacity:1;stroke-miterlimit:10;\" d=\"M 362.40625 399.957031 L 278.402344 365.257813 \"/>\n<path style=\"fill:none;stroke-width:1;stroke-linecap:butt;stroke-linejoin:miter;stroke:rgb(26.666667%,26.666667%,26.666667%);stroke-opacity:1;stroke-miterlimit:10;\" d=\"M 362.40625 399.957031 L 385.882813 349.824219 \"/>\n<path style=\"fill:none;stroke-width:1;stroke-linecap:butt;stroke-linejoin:miter;stroke:rgb(26.666667%,26.666667%,26.666667%);stroke-opacity:1;stroke-miterlimit:10;\" d=\"M 362.40625 399.957031 L 363.792969 305.84375 \"/>\n<path style=\"fill:none;stroke-width:1;stroke-linecap:butt;stroke-linejoin:miter;stroke:rgb(26.666667%,26.666667%,26.666667%);stroke-opacity:1;stroke-miterlimit:10;\" d=\"M 362.40625 399.957031 L 328.648438 333.769531 \"/>\n<path style=\"fill:none;stroke-width:1;stroke-linecap:butt;stroke-linejoin:miter;stroke:rgb(26.666667%,26.666667%,26.666667%);stroke-opacity:1;stroke-miterlimit:10;\" d=\"M 229.023438 284.699219 L 328.648438 333.769531 \"/>\n<path style=\"fill:none;stroke-width:1;stroke-linecap:butt;stroke-linejoin:miter;stroke:rgb(26.666667%,26.666667%,26.666667%);stroke-opacity:1;stroke-miterlimit:10;\" d=\"M 294.265625 468.664063 L 328.648438 333.769531 \"/>\n<path style=\"fill:none;stroke-width:1;stroke-linecap:butt;stroke-linejoin:miter;stroke:rgb(26.666667%,26.666667%,26.666667%);stroke-opacity:1;stroke-miterlimit:10;\" d=\"M 278.402344 365.257813 L 295.8125 307.417969 \"/>\n<path style=\"fill:none;stroke-width:1;stroke-linecap:butt;stroke-linejoin:miter;stroke:rgb(26.666667%,26.666667%,26.666667%);stroke-opacity:1;stroke-miterlimit:10;\" d=\"M 323.671875 369.828125 L 295.8125 307.417969 \"/>\n<path style=\"fill:none;stroke-width:1;stroke-linecap:butt;stroke-linejoin:miter;stroke:rgb(26.666667%,26.666667%,26.666667%);stroke-opacity:1;stroke-miterlimit:10;\" d=\"M 295.8125 307.417969 L 385.882813 349.824219 \"/>\n<path style=\"fill:none;stroke-width:1;stroke-linecap:butt;stroke-linejoin:miter;stroke:rgb(26.666667%,26.666667%,26.666667%);stroke-opacity:1;stroke-miterlimit:10;\" d=\"M 363.792969 305.84375 L 295.8125 307.417969 \"/>\n<path style=\"fill:none;stroke-width:1;stroke-linecap:butt;stroke-linejoin:miter;stroke:rgb(26.666667%,26.666667%,26.666667%);stroke-opacity:1;stroke-miterlimit:10;\" d=\"M 328.648438 333.769531 L 295.8125 307.417969 \"/>\n<path style=\"fill:none;stroke-width:1;stroke-linecap:butt;stroke-linejoin:miter;stroke:rgb(26.666667%,26.666667%,26.666667%);stroke-opacity:1;stroke-miterlimit:10;\" d=\"M 278.402344 365.257813 L 323.671875 369.828125 \"/>\n<path style=\"fill:none;stroke-width:1;stroke-linecap:butt;stroke-linejoin:miter;stroke:rgb(26.666667%,26.666667%,26.666667%);stroke-opacity:1;stroke-miterlimit:10;\" d=\"M 278.402344 365.257813 L 194.441406 325.539063 \"/>\n<path style=\"fill:none;stroke-width:1;stroke-linecap:butt;stroke-linejoin:miter;stroke:rgb(26.666667%,26.666667%,26.666667%);stroke-opacity:1;stroke-miterlimit:10;\" d=\"M 278.402344 365.257813 L 385.882813 349.824219 \"/>\n<path style=\"fill:none;stroke-width:1;stroke-linecap:butt;stroke-linejoin:miter;stroke:rgb(26.666667%,26.666667%,26.666667%);stroke-opacity:1;stroke-miterlimit:10;\" d=\"M 363.792969 305.84375 L 278.402344 365.257813 \"/>\n<path style=\"fill:none;stroke-width:1;stroke-linecap:butt;stroke-linejoin:miter;stroke:rgb(26.666667%,26.666667%,26.666667%);stroke-opacity:1;stroke-miterlimit:10;\" d=\"M 328.648438 333.769531 L 278.402344 365.257813 \"/>\n<path style=\"fill:none;stroke-width:1;stroke-linecap:butt;stroke-linejoin:miter;stroke:rgb(26.666667%,26.666667%,26.666667%);stroke-opacity:1;stroke-miterlimit:10;\" d=\"M 327.03125 406.570313 L 323.671875 369.828125 \"/>\n<path style=\"fill:none;stroke-width:1;stroke-linecap:butt;stroke-linejoin:miter;stroke:rgb(26.666667%,26.666667%,26.666667%);stroke-opacity:1;stroke-miterlimit:10;\" d=\"M 327.03125 406.570313 L 363.792969 305.84375 \"/>\n<path style=\"fill:none;stroke-width:1;stroke-linecap:butt;stroke-linejoin:miter;stroke:rgb(26.666667%,26.666667%,26.666667%);stroke-opacity:1;stroke-miterlimit:10;\" d=\"M 327.03125 406.570313 L 328.648438 333.769531 \"/>\n<path style=\"fill:none;stroke-width:1;stroke-linecap:butt;stroke-linejoin:miter;stroke:rgb(26.666667%,26.666667%,26.666667%);stroke-opacity:1;stroke-miterlimit:10;\" d=\"M 323.671875 369.828125 L 385.882813 349.824219 \"/>\n<path style=\"fill:none;stroke-width:1;stroke-linecap:butt;stroke-linejoin:miter;stroke:rgb(26.666667%,26.666667%,26.666667%);stroke-opacity:1;stroke-miterlimit:10;\" d=\"M 363.792969 305.84375 L 323.671875 369.828125 \"/>\n<path style=\"fill:none;stroke-width:1;stroke-linecap:butt;stroke-linejoin:miter;stroke:rgb(26.666667%,26.666667%,26.666667%);stroke-opacity:1;stroke-miterlimit:10;\" d=\"M 328.648438 333.769531 L 323.671875 369.828125 \"/>\n<path style=\"fill:none;stroke-width:1;stroke-linecap:butt;stroke-linejoin:miter;stroke:rgb(26.666667%,26.666667%,26.666667%);stroke-opacity:1;stroke-miterlimit:10;\" d=\"M 322.542969 226.117188 L 277.097656 241.746094 \"/>\n<path style=\"fill:none;stroke-width:1;stroke-linecap:butt;stroke-linejoin:miter;stroke:rgb(26.666667%,26.666667%,26.666667%);stroke-opacity:1;stroke-miterlimit:10;\" d=\"M 363.792969 305.84375 L 277.097656 241.746094 \"/>\n<path style=\"fill:none;stroke-width:1;stroke-linecap:butt;stroke-linejoin:miter;stroke:rgb(26.666667%,26.666667%,26.666667%);stroke-opacity:1;stroke-miterlimit:10;\" d=\"M 328.648438 333.769531 L 277.097656 241.746094 \"/>\n<path style=\"fill:none;stroke-width:1;stroke-linecap:butt;stroke-linejoin:miter;stroke:rgb(26.666667%,26.666667%,26.666667%);stroke-opacity:1;stroke-miterlimit:10;\" d=\"M 328.648438 333.769531 L 194.441406 325.539063 \"/>\n<path style=\"fill:none;stroke-width:1;stroke-linecap:butt;stroke-linejoin:miter;stroke:rgb(26.666667%,26.666667%,26.666667%);stroke-opacity:1;stroke-miterlimit:10;\" d=\"M 378.082031 256.710938 L 475.609375 182.53125 \"/>\n<path style=\"fill:none;stroke-width:1;stroke-linecap:butt;stroke-linejoin:miter;stroke:rgb(26.666667%,26.666667%,26.666667%);stroke-opacity:1;stroke-miterlimit:10;\" d=\"M 378.082031 256.710938 L 385.882813 349.824219 \"/>\n<path style=\"fill:none;stroke-width:1;stroke-linecap:butt;stroke-linejoin:miter;stroke:rgb(26.666667%,26.666667%,26.666667%);stroke-opacity:1;stroke-miterlimit:10;\" d=\"M 378.082031 256.710938 L 434.347656 216.066406 \"/>\n<path style=\"fill:none;stroke-width:1;stroke-linecap:butt;stroke-linejoin:miter;stroke:rgb(26.666667%,26.666667%,26.666667%);stroke-opacity:1;stroke-miterlimit:10;\" d=\"M 378.082031 256.710938 L 328.648438 333.769531 \"/>\n<path style=\"fill:none;stroke-width:1;stroke-linecap:butt;stroke-linejoin:miter;stroke:rgb(26.666667%,26.666667%,26.666667%);stroke-opacity:1;stroke-miterlimit:10;\" d=\"M 322.542969 226.117188 L 363.792969 305.84375 \"/>\n<path style=\"fill:none;stroke-width:1;stroke-linecap:butt;stroke-linejoin:miter;stroke:rgb(26.666667%,26.666667%,26.666667%);stroke-opacity:1;stroke-miterlimit:10;\" d=\"M 395.375 279.726563 L 322.542969 226.117188 \"/>\n<path style=\"fill:none;stroke-width:1;stroke-linecap:butt;stroke-linejoin:miter;stroke:rgb(26.666667%,26.666667%,26.666667%);stroke-opacity:1;stroke-miterlimit:10;\" d=\"M 322.542969 226.117188 L 361.714844 219.25 \"/>\n<path style=\"fill:none;stroke-width:1;stroke-linecap:butt;stroke-linejoin:miter;stroke:rgb(26.666667%,26.666667%,26.666667%);stroke-opacity:1;stroke-miterlimit:10;\" d=\"M 322.542969 226.117188 L 312.039063 255.550781 \"/>\n<path style=\"fill:none;stroke-width:1;stroke-linecap:butt;stroke-linejoin:miter;stroke:rgb(26.666667%,26.666667%,26.666667%);stroke-opacity:1;stroke-miterlimit:10;\" d=\"M 322.542969 226.117188 L 328.648438 333.769531 \"/>\n<path style=\"fill:none;stroke-width:1;stroke-linecap:butt;stroke-linejoin:miter;stroke:rgb(26.666667%,26.666667%,26.666667%);stroke-opacity:1;stroke-miterlimit:10;\" d=\"M 363.792969 305.84375 L 361.714844 219.25 \"/>\n<path style=\"fill:none;stroke-width:1;stroke-linecap:butt;stroke-linejoin:miter;stroke:rgb(26.666667%,26.666667%,26.666667%);stroke-opacity:1;stroke-miterlimit:10;\" d=\"M 395.375 279.726563 L 361.714844 219.25 \"/>\n<path style=\"fill:none;stroke-width:1;stroke-linecap:butt;stroke-linejoin:miter;stroke:rgb(26.666667%,26.666667%,26.666667%);stroke-opacity:1;stroke-miterlimit:10;\" d=\"M 361.714844 219.25 L 312.039063 255.550781 \"/>\n<path style=\"fill:none;stroke-width:1;stroke-linecap:butt;stroke-linejoin:miter;stroke:rgb(26.666667%,26.666667%,26.666667%);stroke-opacity:1;stroke-miterlimit:10;\" d=\"M 328.648438 333.769531 L 361.714844 219.25 \"/>\n<path style=\"fill:none;stroke-width:1;stroke-linecap:butt;stroke-linejoin:miter;stroke:rgb(26.666667%,26.666667%,26.666667%);stroke-opacity:1;stroke-miterlimit:10;\" d=\"M 363.792969 305.84375 L 312.039063 255.550781 \"/>\n<path style=\"fill:none;stroke-width:1;stroke-linecap:butt;stroke-linejoin:miter;stroke:rgb(26.666667%,26.666667%,26.666667%);stroke-opacity:1;stroke-miterlimit:10;\" d=\"M 395.375 279.726563 L 312.039063 255.550781 \"/>\n<path style=\"fill:none;stroke-width:1;stroke-linecap:butt;stroke-linejoin:miter;stroke:rgb(26.666667%,26.666667%,26.666667%);stroke-opacity:1;stroke-miterlimit:10;\" d=\"M 328.648438 333.769531 L 312.039063 255.550781 \"/>\n<path style=\"fill:none;stroke-width:1;stroke-linecap:butt;stroke-linejoin:miter;stroke:rgb(26.666667%,26.666667%,26.666667%);stroke-opacity:1;stroke-miterlimit:10;\" d=\"M 578.347656 360.398438 L 580 298.550781 \"/>\n<path style=\"fill:none;stroke-width:1;stroke-linecap:butt;stroke-linejoin:miter;stroke:rgb(26.666667%,26.666667%,26.666667%);stroke-opacity:1;stroke-miterlimit:10;\" d=\"M 531.527344 357.472656 L 580 298.550781 \"/>\n<path style=\"fill:none;stroke-width:1;stroke-linecap:butt;stroke-linejoin:miter;stroke:rgb(26.666667%,26.666667%,26.666667%);stroke-opacity:1;stroke-miterlimit:10;\" d=\"M 457.484375 293.769531 L 580 298.550781 \"/>\n<path style=\"fill:none;stroke-width:1;stroke-linecap:butt;stroke-linejoin:miter;stroke:rgb(26.666667%,26.666667%,26.666667%);stroke-opacity:1;stroke-miterlimit:10;\" d=\"M 565.738281 246.089844 L 457.484375 293.769531 \"/>\n<path style=\"fill:none;stroke-width:1;stroke-linecap:butt;stroke-linejoin:miter;stroke:rgb(26.666667%,26.666667%,26.666667%);stroke-opacity:1;stroke-miterlimit:10;\" d=\"M 578.347656 360.398438 L 531.527344 357.472656 \"/>\n<path style=\"fill:none;stroke-width:1;stroke-linecap:butt;stroke-linejoin:miter;stroke:rgb(26.666667%,26.666667%,26.666667%);stroke-opacity:1;stroke-miterlimit:10;\" d=\"M 578.347656 360.398438 L 457.484375 293.769531 \"/>\n<path style=\"fill:none;stroke-width:1;stroke-linecap:butt;stroke-linejoin:miter;stroke:rgb(26.666667%,26.666667%,26.666667%);stroke-opacity:1;stroke-miterlimit:10;\" d=\"M 524.300781 202.191406 L 475.609375 182.53125 \"/>\n<path style=\"fill:none;stroke-width:1;stroke-linecap:butt;stroke-linejoin:miter;stroke:rgb(26.666667%,26.666667%,26.666667%);stroke-opacity:1;stroke-miterlimit:10;\" d=\"M 434.347656 216.066406 L 475.609375 182.53125 \"/>\n<path style=\"fill:none;stroke-width:1;stroke-linecap:butt;stroke-linejoin:miter;stroke:rgb(26.666667%,26.666667%,26.666667%);stroke-opacity:1;stroke-miterlimit:10;\" d=\"M 457.484375 293.769531 L 475.609375 182.53125 \"/>\n<path style=\"fill:none;stroke-width:1;stroke-linecap:butt;stroke-linejoin:miter;stroke:rgb(26.666667%,26.666667%,26.666667%);stroke-opacity:1;stroke-miterlimit:10;\" d=\"M 524.300781 202.191406 L 434.347656 216.066406 \"/>\n<path style=\"fill:none;stroke-width:1;stroke-linecap:butt;stroke-linejoin:miter;stroke:rgb(26.666667%,26.666667%,26.666667%);stroke-opacity:1;stroke-miterlimit:10;\" d=\"M 524.300781 202.191406 L 457.484375 293.769531 \"/>\n<path style=\"fill:none;stroke-width:1;stroke-linecap:butt;stroke-linejoin:miter;stroke:rgb(26.666667%,26.666667%,26.666667%);stroke-opacity:1;stroke-miterlimit:10;\" d=\"M 489.824219 245.132813 L 434.347656 216.066406 \"/>\n<path style=\"fill:none;stroke-width:1;stroke-linecap:butt;stroke-linejoin:miter;stroke:rgb(26.666667%,26.666667%,26.666667%);stroke-opacity:1;stroke-miterlimit:10;\" d=\"M 434.347656 216.066406 L 363.792969 305.84375 \"/>\n<path style=\"fill:none;stroke-width:1;stroke-linecap:butt;stroke-linejoin:miter;stroke:rgb(26.666667%,26.666667%,26.666667%);stroke-opacity:1;stroke-miterlimit:10;\" d=\"M 434.347656 216.066406 L 457.484375 293.769531 \"/>\n<path style=\"fill:none;stroke-width:1;stroke-linecap:butt;stroke-linejoin:miter;stroke:rgb(26.666667%,26.666667%,26.666667%);stroke-opacity:1;stroke-miterlimit:10;\" d=\"M 545.835938 422.261719 L 499.484375 433.238281 \"/>\n<path style=\"fill:none;stroke-width:1;stroke-linecap:butt;stroke-linejoin:miter;stroke:rgb(26.666667%,26.666667%,26.666667%);stroke-opacity:1;stroke-miterlimit:10;\" d=\"M 501.425781 468.519531 L 499.484375 433.238281 \"/>\n<path style=\"fill:none;stroke-width:1;stroke-linecap:butt;stroke-linejoin:miter;stroke:rgb(26.666667%,26.666667%,26.666667%);stroke-opacity:1;stroke-miterlimit:10;\" d=\"M 408.035156 396.886719 L 499.484375 433.238281 \"/>\n<path style=\"fill:none;stroke-width:1;stroke-linecap:butt;stroke-linejoin:miter;stroke:rgb(26.666667%,26.666667%,26.666667%);stroke-opacity:1;stroke-miterlimit:10;\" d=\"M 444.773438 357.558594 L 499.484375 433.238281 \"/>\n<path style=\"fill:none;stroke-width:1;stroke-linecap:butt;stroke-linejoin:miter;stroke:rgb(26.666667%,26.666667%,26.666667%);stroke-opacity:1;stroke-miterlimit:10;\" d=\"M 545.835938 422.261719 L 444.773438 357.558594 \"/>\n<path style=\"fill:none;stroke-width:1;stroke-linecap:butt;stroke-linejoin:miter;stroke:rgb(26.666667%,26.666667%,26.666667%);stroke-opacity:1;stroke-miterlimit:10;\" d=\"M 501.425781 468.519531 L 444.773438 357.558594 \"/>\n<path style=\"fill:none;stroke-width:1;stroke-linecap:butt;stroke-linejoin:miter;stroke:rgb(26.666667%,26.666667%,26.666667%);stroke-opacity:1;stroke-miterlimit:10;\" d=\"M 408.035156 396.886719 L 385.882813 349.824219 \"/>\n<path style=\"fill:none;stroke-width:1;stroke-linecap:butt;stroke-linejoin:miter;stroke:rgb(26.666667%,26.666667%,26.666667%);stroke-opacity:1;stroke-miterlimit:10;\" d=\"M 408.035156 396.886719 L 363.792969 305.84375 \"/>\n<path style=\"fill:none;stroke-width:1;stroke-linecap:butt;stroke-linejoin:miter;stroke:rgb(26.666667%,26.666667%,26.666667%);stroke-opacity:1;stroke-miterlimit:10;\" d=\"M 408.035156 396.886719 L 328.648438 333.769531 \"/>\n<path style=\"fill:none;stroke-width:1;stroke-linecap:butt;stroke-linejoin:miter;stroke:rgb(26.666667%,26.666667%,26.666667%);stroke-opacity:1;stroke-miterlimit:10;\" d=\"M 444.773438 357.558594 L 408.035156 396.886719 \"/>\n<path style=\"fill:none;stroke-width:1;stroke-linecap:butt;stroke-linejoin:miter;stroke:rgb(26.666667%,26.666667%,26.666667%);stroke-opacity:1;stroke-miterlimit:10;\" d=\"M 363.792969 305.84375 L 385.882813 349.824219 \"/>\n<path style=\"fill:none;stroke-width:1;stroke-linecap:butt;stroke-linejoin:miter;stroke:rgb(26.666667%,26.666667%,26.666667%);stroke-opacity:1;stroke-miterlimit:10;\" d=\"M 328.648438 333.769531 L 385.882813 349.824219 \"/>\n<path style=\"fill:none;stroke-width:1;stroke-linecap:butt;stroke-linejoin:miter;stroke:rgb(26.666667%,26.666667%,26.666667%);stroke-opacity:1;stroke-miterlimit:10;\" d=\"M 474.183594 318.484375 L 385.882813 349.824219 \"/>\n<path style=\"fill:none;stroke-width:1;stroke-linecap:butt;stroke-linejoin:miter;stroke:rgb(26.666667%,26.666667%,26.666667%);stroke-opacity:1;stroke-miterlimit:10;\" d=\"M 444.773438 357.558594 L 385.882813 349.824219 \"/>\n<path style=\"fill:none;stroke-width:1;stroke-linecap:butt;stroke-linejoin:miter;stroke:rgb(26.666667%,26.666667%,26.666667%);stroke-opacity:1;stroke-miterlimit:10;\" d=\"M 395.375 279.726563 L 489.824219 245.132813 \"/>\n<path style=\"fill:none;stroke-width:1;stroke-linecap:butt;stroke-linejoin:miter;stroke:rgb(26.666667%,26.666667%,26.666667%);stroke-opacity:1;stroke-miterlimit:10;\" d=\"M 489.824219 245.132813 L 474.183594 318.484375 \"/>\n<path style=\"fill:none;stroke-width:1;stroke-linecap:butt;stroke-linejoin:miter;stroke:rgb(26.666667%,26.666667%,26.666667%);stroke-opacity:1;stroke-miterlimit:10;\" d=\"M 489.824219 245.132813 L 444.773438 357.558594 \"/>\n<path style=\"fill:none;stroke-width:1;stroke-linecap:butt;stroke-linejoin:miter;stroke:rgb(26.666667%,26.666667%,26.666667%);stroke-opacity:1;stroke-miterlimit:10;\" d=\"M 395.375 279.726563 L 363.792969 305.84375 \"/>\n<path style=\"fill:none;stroke-width:1;stroke-linecap:butt;stroke-linejoin:miter;stroke:rgb(26.666667%,26.666667%,26.666667%);stroke-opacity:1;stroke-miterlimit:10;\" d=\"M 363.792969 305.84375 L 328.648438 333.769531 \"/>\n<path style=\"fill:none;stroke-width:1;stroke-linecap:butt;stroke-linejoin:miter;stroke:rgb(26.666667%,26.666667%,26.666667%);stroke-opacity:1;stroke-miterlimit:10;\" d=\"M 363.792969 305.84375 L 474.183594 318.484375 \"/>\n<path style=\"fill:none;stroke-width:1;stroke-linecap:butt;stroke-linejoin:miter;stroke:rgb(26.666667%,26.666667%,26.666667%);stroke-opacity:1;stroke-miterlimit:10;\" d=\"M 444.773438 357.558594 L 363.792969 305.84375 \"/>\n<path style=\"fill:none;stroke-width:1;stroke-linecap:butt;stroke-linejoin:miter;stroke:rgb(26.666667%,26.666667%,26.666667%);stroke-opacity:1;stroke-miterlimit:10;\" d=\"M 395.375 279.726563 L 328.648438 333.769531 \"/>\n<path style=\"fill:none;stroke-width:1;stroke-linecap:butt;stroke-linejoin:miter;stroke:rgb(26.666667%,26.666667%,26.666667%);stroke-opacity:1;stroke-miterlimit:10;\" d=\"M 395.375 279.726563 L 474.183594 318.484375 \"/>\n<path style=\"fill:none;stroke-width:1;stroke-linecap:butt;stroke-linejoin:miter;stroke:rgb(26.666667%,26.666667%,26.666667%);stroke-opacity:1;stroke-miterlimit:10;\" d=\"M 395.375 279.726563 L 444.773438 357.558594 \"/>\n<path style=\"fill:none;stroke-width:1;stroke-linecap:butt;stroke-linejoin:miter;stroke:rgb(26.666667%,26.666667%,26.666667%);stroke-opacity:1;stroke-miterlimit:10;\" d=\"M 328.648438 333.769531 L 457.484375 293.769531 \"/>\n<path style=\"fill:none;stroke-width:1;stroke-linecap:butt;stroke-linejoin:miter;stroke:rgb(26.666667%,26.666667%,26.666667%);stroke-opacity:1;stroke-miterlimit:10;\" d=\"M 444.773438 357.558594 L 328.648438 333.769531 \"/>\n<path style=\"fill:none;stroke-width:1;stroke-linecap:butt;stroke-linejoin:miter;stroke:rgb(26.666667%,26.666667%,26.666667%);stroke-opacity:1;stroke-miterlimit:10;\" d=\"M 531.527344 357.472656 L 474.183594 318.484375 \"/>\n<path style=\"fill:none;stroke-width:1;stroke-linecap:butt;stroke-linejoin:miter;stroke:rgb(26.666667%,26.666667%,26.666667%);stroke-opacity:1;stroke-miterlimit:10;\" d=\"M 531.527344 357.472656 L 457.484375 293.769531 \"/>\n<path style=\"fill:none;stroke-width:1;stroke-linecap:butt;stroke-linejoin:miter;stroke:rgb(26.666667%,26.666667%,26.666667%);stroke-opacity:1;stroke-miterlimit:10;\" d=\"M 531.527344 357.472656 L 541.921875 311.476563 \"/>\n<path style=\"fill:none;stroke-width:1;stroke-linecap:butt;stroke-linejoin:miter;stroke:rgb(26.666667%,26.666667%,26.666667%);stroke-opacity:1;stroke-miterlimit:10;\" d=\"M 444.773438 357.558594 L 531.527344 357.472656 \"/>\n<path style=\"fill:none;stroke-width:1;stroke-linecap:butt;stroke-linejoin:miter;stroke:rgb(26.666667%,26.666667%,26.666667%);stroke-opacity:1;stroke-miterlimit:10;\" d=\"M 457.484375 293.769531 L 474.183594 318.484375 \"/>\n<path style=\"fill:none;stroke-width:1;stroke-linecap:butt;stroke-linejoin:miter;stroke:rgb(26.666667%,26.666667%,26.666667%);stroke-opacity:1;stroke-miterlimit:10;\" d=\"M 541.921875 311.476563 L 474.183594 318.484375 \"/>\n<path style=\"fill:none;stroke-width:1;stroke-linecap:butt;stroke-linejoin:miter;stroke:rgb(26.666667%,26.666667%,26.666667%);stroke-opacity:1;stroke-miterlimit:10;\" d=\"M 444.773438 357.558594 L 474.183594 318.484375 \"/>\n<path style=\"fill:none;stroke-width:1;stroke-linecap:butt;stroke-linejoin:miter;stroke:rgb(26.666667%,26.666667%,26.666667%);stroke-opacity:1;stroke-miterlimit:10;\" d=\"M 541.921875 311.476563 L 457.484375 293.769531 \"/>\n<path style=\"fill:none;stroke-width:1;stroke-linecap:butt;stroke-linejoin:miter;stroke:rgb(26.666667%,26.666667%,26.666667%);stroke-opacity:1;stroke-miterlimit:10;\" d=\"M 444.773438 357.558594 L 457.484375 293.769531 \"/>\n<path style=\"fill:none;stroke-width:1;stroke-linecap:butt;stroke-linejoin:miter;stroke:rgb(26.666667%,26.666667%,26.666667%);stroke-opacity:1;stroke-miterlimit:10;\" d=\"M 444.773438 357.558594 L 541.921875 311.476563 \"/>\n<path style=\"fill-rule:nonzero;fill:rgb(100%,0%,0%);fill-opacity:1;stroke-width:1;stroke-linecap:butt;stroke-linejoin:miter;stroke:rgb(0%,0%,0%);stroke-opacity:1;stroke-miterlimit:10;\" d=\"M 243.964844 248.464844 C 243.964844 251.796875 238.964844 251.796875 238.964844 248.464844 C 238.964844 245.132813 243.964844 245.132813 243.964844 248.464844 \"/>\n<path style=\"fill-rule:nonzero;fill:rgb(100%,0%,0%);fill-opacity:1;stroke-width:1;stroke-linecap:butt;stroke-linejoin:miter;stroke:rgb(0%,0%,0%);stroke-opacity:1;stroke-miterlimit:10;\" d=\"M 397.875 279.726563 C 397.875 283.058594 392.875 283.058594 392.875 279.726563 C 392.875 276.390625 397.875 276.390625 397.875 279.726563 \"/>\n<path style=\"fill-rule:nonzero;fill:rgb(100%,0%,0%);fill-opacity:1;stroke-width:1;stroke-linecap:butt;stroke-linejoin:miter;stroke:rgb(0%,0%,0%);stroke-opacity:1;stroke-miterlimit:10;\" d=\"M 580.847656 360.398438 C 580.847656 363.734375 575.847656 363.734375 575.847656 360.398438 C 575.847656 357.066406 580.847656 357.066406 580.847656 360.398438 \"/>\n<path style=\"fill-rule:nonzero;fill:rgb(100%,0%,0%);fill-opacity:1;stroke-width:1;stroke-linecap:butt;stroke-linejoin:miter;stroke:rgb(0%,0%,0%);stroke-opacity:1;stroke-miterlimit:10;\" d=\"M 128.621094 395.101563 C 128.621094 398.433594 123.621094 398.433594 123.621094 395.101563 C 123.621094 391.769531 128.621094 391.769531 128.621094 395.101563 \"/>\n<path style=\"fill-rule:nonzero;fill:rgb(100%,0%,0%);fill-opacity:1;stroke-width:1;stroke-linecap:butt;stroke-linejoin:miter;stroke:rgb(0%,0%,0%);stroke-opacity:1;stroke-miterlimit:10;\" d=\"M 22.5 377.292969 C 22.5 380.625 17.5 380.625 17.5 377.292969 C 17.5 373.960938 22.5 373.960938 22.5 377.292969 \"/>\n<path style=\"fill-rule:nonzero;fill:rgb(100%,0%,0%);fill-opacity:1;stroke-width:1;stroke-linecap:butt;stroke-linejoin:miter;stroke:rgb(0%,0%,0%);stroke-opacity:1;stroke-miterlimit:10;\" d=\"M 364.90625 399.957031 C 364.90625 403.292969 359.90625 403.292969 359.90625 399.957031 C 359.90625 396.625 364.90625 396.625 364.90625 399.957031 \"/>\n<path style=\"fill-rule:nonzero;fill:rgb(100%,0%,0%);fill-opacity:1;stroke-width:1;stroke-linecap:butt;stroke-linejoin:miter;stroke:rgb(0%,0%,0%);stroke-opacity:1;stroke-miterlimit:10;\" d=\"M 380.582031 256.710938 C 380.582031 260.046875 375.582031 260.046875 375.582031 256.710938 C 375.582031 253.378906 380.582031 253.378906 380.582031 256.710938 \"/>\n<path style=\"fill-rule:nonzero;fill:rgb(100%,0%,0%);fill-opacity:1;stroke-width:1;stroke-linecap:butt;stroke-linejoin:miter;stroke:rgb(0%,0%,0%);stroke-opacity:1;stroke-miterlimit:10;\" d=\"M 492.324219 245.132813 C 492.324219 248.464844 487.324219 248.464844 487.324219 245.132813 C 487.324219 241.800781 492.324219 241.800781 492.324219 245.132813 \"/>\n<path style=\"fill-rule:nonzero;fill:rgb(100%,0%,0%);fill-opacity:1;stroke-width:1;stroke-linecap:butt;stroke-linejoin:miter;stroke:rgb(0%,0%,0%);stroke-opacity:1;stroke-miterlimit:10;\" d=\"M 526.800781 202.191406 C 526.800781 205.523438 521.800781 205.523438 521.800781 202.191406 C 521.800781 198.855469 526.800781 198.855469 526.800781 202.191406 \"/>\n<path style=\"fill-rule:nonzero;fill:rgb(100%,0%,0%);fill-opacity:1;stroke-width:1;stroke-linecap:butt;stroke-linejoin:miter;stroke:rgb(0%,0%,0%);stroke-opacity:1;stroke-miterlimit:10;\" d=\"M 231.523438 284.699219 C 231.523438 288.03125 226.523438 288.03125 226.523438 284.699219 C 226.523438 281.367188 231.523438 281.367188 231.523438 284.699219 \"/>\n<path style=\"fill-rule:nonzero;fill:rgb(100%,0%,0%);fill-opacity:1;stroke-width:1;stroke-linecap:butt;stroke-linejoin:miter;stroke:rgb(0%,0%,0%);stroke-opacity:1;stroke-miterlimit:10;\" d=\"M 135.765625 426.632813 C 135.765625 429.964844 130.765625 429.964844 130.765625 426.632813 C 130.765625 423.300781 135.765625 423.300781 135.765625 426.632813 \"/>\n<path style=\"fill-rule:nonzero;fill:rgb(100%,0%,0%);fill-opacity:1;stroke-width:1;stroke-linecap:butt;stroke-linejoin:miter;stroke:rgb(0%,0%,0%);stroke-opacity:1;stroke-miterlimit:10;\" d=\"M 548.335938 422.261719 C 548.335938 425.59375 543.335938 425.59375 543.335938 422.261719 C 543.335938 418.925781 548.335938 418.925781 548.335938 422.261719 \"/>\n<path style=\"fill-rule:nonzero;fill:rgb(100%,0%,0%);fill-opacity:1;stroke-width:1;stroke-linecap:butt;stroke-linejoin:miter;stroke:rgb(0%,0%,0%);stroke-opacity:1;stroke-miterlimit:10;\" d=\"M 142.5625 211.925781 C 142.5625 215.257813 137.5625 215.257813 137.5625 211.925781 C 137.5625 208.589844 142.5625 208.589844 142.5625 211.925781 \"/>\n<path style=\"fill-rule:nonzero;fill:rgb(100%,0%,0%);fill-opacity:1;stroke-width:1;stroke-linecap:butt;stroke-linejoin:miter;stroke:rgb(0%,0%,0%);stroke-opacity:1;stroke-miterlimit:10;\" d=\"M 100.582031 337.683594 C 100.582031 341.015625 95.582031 341.015625 95.582031 337.683594 C 95.582031 334.347656 100.582031 334.347656 100.582031 337.683594 \"/>\n<path style=\"fill-rule:nonzero;fill:rgb(100%,0%,0%);fill-opacity:1;stroke-width:1;stroke-linecap:butt;stroke-linejoin:miter;stroke:rgb(0%,0%,0%);stroke-opacity:1;stroke-miterlimit:10;\" d=\"M 296.765625 468.664063 C 296.765625 471.996094 291.765625 471.996094 291.765625 468.664063 C 291.765625 465.332031 296.765625 465.332031 296.765625 468.664063 \"/>\n<path style=\"fill-rule:nonzero;fill:rgb(100%,0%,0%);fill-opacity:1;stroke-width:1;stroke-linecap:butt;stroke-linejoin:miter;stroke:rgb(0%,0%,0%);stroke-opacity:1;stroke-miterlimit:10;\" d=\"M 240.445313 551.59375 C 240.445313 554.929688 235.445313 554.929688 235.445313 551.59375 C 235.445313 548.261719 240.445313 548.261719 240.445313 551.59375 \"/>\n<path style=\"fill-rule:nonzero;fill:rgb(100%,0%,0%);fill-opacity:1;stroke-width:1;stroke-linecap:butt;stroke-linejoin:miter;stroke:rgb(0%,0%,0%);stroke-opacity:1;stroke-miterlimit:10;\" d=\"M 396.253906 545.210938 C 396.253906 548.542969 391.253906 548.542969 391.253906 545.210938 C 391.253906 541.878906 396.253906 541.878906 396.253906 545.210938 \"/>\n<path style=\"fill-rule:nonzero;fill:rgb(100%,0%,0%);fill-opacity:1;stroke-width:1;stroke-linecap:butt;stroke-linejoin:miter;stroke:rgb(0%,0%,0%);stroke-opacity:1;stroke-miterlimit:10;\" d=\"M 503.925781 468.519531 C 503.925781 471.855469 498.925781 471.855469 498.925781 468.519531 C 498.925781 465.1875 503.925781 465.1875 503.925781 468.519531 \"/>\n<path style=\"fill-rule:nonzero;fill:rgb(100%,0%,0%);fill-opacity:1;stroke-width:1;stroke-linecap:butt;stroke-linejoin:miter;stroke:rgb(0%,0%,0%);stroke-opacity:1;stroke-miterlimit:10;\" d=\"M 325.042969 226.117188 C 325.042969 229.449219 320.042969 229.449219 320.042969 226.117188 C 320.042969 222.785156 325.042969 222.785156 325.042969 226.117188 \"/>\n<path style=\"fill-rule:nonzero;fill:rgb(100%,0%,0%);fill-opacity:1;stroke-width:1;stroke-linecap:butt;stroke-linejoin:miter;stroke:rgb(0%,0%,0%);stroke-opacity:1;stroke-miterlimit:10;\" d=\"M 436.847656 216.066406 C 436.847656 219.402344 431.847656 219.402344 431.847656 216.066406 C 431.847656 212.734375 436.847656 212.734375 436.847656 216.066406 \"/>\n<path style=\"fill-rule:nonzero;fill:rgb(100%,0%,0%);fill-opacity:1;stroke-width:1;stroke-linecap:butt;stroke-linejoin:miter;stroke:rgb(0%,0%,0%);stroke-opacity:1;stroke-miterlimit:10;\" d=\"M 447.273438 357.558594 C 447.273438 360.890625 442.273438 360.890625 442.273438 357.558594 C 442.273438 354.222656 447.273438 354.222656 447.273438 357.558594 \"/>\n<path style=\"fill-rule:nonzero;fill:rgb(100%,0%,0%);fill-opacity:1;stroke-width:1;stroke-linecap:butt;stroke-linejoin:miter;stroke:rgb(0%,0%,0%);stroke-opacity:1;stroke-miterlimit:10;\" d=\"M 207.328125 505.261719 C 207.328125 508.59375 202.328125 508.59375 202.328125 505.261719 C 202.328125 501.929688 207.328125 501.929688 207.328125 505.261719 \"/>\n<path style=\"fill-rule:nonzero;fill:rgb(100%,0%,0%);fill-opacity:1;stroke-width:1;stroke-linecap:butt;stroke-linejoin:miter;stroke:rgb(0%,0%,0%);stroke-opacity:1;stroke-miterlimit:10;\" d=\"M 233.425781 383.523438 C 233.425781 386.855469 228.425781 386.855469 228.425781 383.523438 C 228.425781 380.191406 233.425781 380.191406 233.425781 383.523438 \"/>\n<path style=\"fill-rule:nonzero;fill:rgb(100%,0%,0%);fill-opacity:1;stroke-width:1;stroke-linecap:butt;stroke-linejoin:miter;stroke:rgb(0%,0%,0%);stroke-opacity:1;stroke-miterlimit:10;\" d=\"M 114.957031 255.003906 C 114.957031 258.335938 109.957031 258.335938 109.957031 255.003906 C 109.957031 251.667969 114.957031 251.667969 114.957031 255.003906 \"/>\n<path style=\"fill-rule:nonzero;fill:rgb(100%,0%,0%);fill-opacity:1;stroke-width:1;stroke-linecap:butt;stroke-linejoin:miter;stroke:rgb(0%,0%,0%);stroke-opacity:1;stroke-miterlimit:10;\" d=\"M 88.554688 295.921875 C 88.554688 299.253906 83.554688 299.253906 83.554688 295.921875 C 83.554688 292.585938 88.554688 292.585938 88.554688 295.921875 \"/>\n<path style=\"fill-rule:nonzero;fill:rgb(100%,0%,0%);fill-opacity:1;stroke-width:1;stroke-linecap:butt;stroke-linejoin:miter;stroke:rgb(0%,0%,0%);stroke-opacity:1;stroke-miterlimit:10;\" d=\"M 534.027344 357.472656 C 534.027344 360.804688 529.027344 360.804688 529.027344 357.472656 C 529.027344 354.136719 534.027344 354.136719 534.027344 357.472656 \"/>\n<path style=\"fill-rule:nonzero;fill:rgb(100%,0%,0%);fill-opacity:1;stroke-width:1;stroke-linecap:butt;stroke-linejoin:miter;stroke:rgb(0%,0%,0%);stroke-opacity:1;stroke-miterlimit:10;\" d=\"M 338.304688 575.863281 C 338.304688 579.195313 333.304688 579.195313 333.304688 575.863281 C 333.304688 572.53125 338.304688 572.53125 338.304688 575.863281 \"/>\n<path style=\"fill-rule:nonzero;fill:rgb(100%,0%,0%);fill-opacity:1;stroke-width:1;stroke-linecap:butt;stroke-linejoin:miter;stroke:rgb(0%,0%,0%);stroke-opacity:1;stroke-miterlimit:10;\" d=\"M 410.535156 396.886719 C 410.535156 400.21875 405.535156 400.21875 405.535156 396.886719 C 405.535156 393.554688 410.535156 393.554688 410.535156 396.886719 \"/>\n<path style=\"fill-rule:nonzero;fill:rgb(100%,0%,0%);fill-opacity:1;stroke-width:1;stroke-linecap:butt;stroke-linejoin:miter;stroke:rgb(0%,0%,0%);stroke-opacity:1;stroke-miterlimit:10;\" d=\"M 371.3125 562.183594 C 371.3125 565.515625 366.3125 565.515625 366.3125 562.183594 C 366.3125 558.847656 371.3125 558.847656 371.3125 562.183594 \"/>\n<path style=\"fill-rule:nonzero;fill:rgb(100%,0%,0%);fill-opacity:1;stroke-width:1;stroke-linecap:butt;stroke-linejoin:miter;stroke:rgb(0%,0%,0%);stroke-opacity:1;stroke-miterlimit:10;\" d=\"M 544.421875 311.476563 C 544.421875 314.8125 539.421875 314.8125 539.421875 311.476563 C 539.421875 308.144531 544.421875 308.144531 544.421875 311.476563 \"/>\n<path style=\"fill-rule:nonzero;fill:rgb(100%,0%,0%);fill-opacity:1;stroke-width:1;stroke-linecap:butt;stroke-linejoin:miter;stroke:rgb(0%,0%,0%);stroke-opacity:1;stroke-miterlimit:10;\" d=\"M 236.058594 478.203125 C 236.058594 481.539063 231.058594 481.539063 231.058594 478.203125 C 231.058594 474.871094 236.058594 474.871094 236.058594 478.203125 \"/>\n<path style=\"fill-rule:nonzero;fill:rgb(100%,0%,0%);fill-opacity:1;stroke-width:1;stroke-linecap:butt;stroke-linejoin:miter;stroke:rgb(0%,0%,0%);stroke-opacity:1;stroke-miterlimit:10;\" d=\"M 329.53125 406.570313 C 329.53125 409.902344 324.53125 409.902344 324.53125 406.570313 C 324.53125 403.234375 329.53125 403.234375 329.53125 406.570313 \"/>\n<path style=\"fill-rule:nonzero;fill:rgb(100%,0%,0%);fill-opacity:1;stroke-width:1;stroke-linecap:butt;stroke-linejoin:miter;stroke:rgb(0%,0%,0%);stroke-opacity:1;stroke-miterlimit:10;\" d=\"M 366.292969 305.84375 C 366.292969 309.179688 361.292969 309.179688 361.292969 305.84375 C 361.292969 302.511719 366.292969 302.511719 366.292969 305.84375 \"/>\n<path style=\"fill-rule:nonzero;fill:rgb(100%,0%,0%);fill-opacity:1;stroke-width:1;stroke-linecap:butt;stroke-linejoin:miter;stroke:rgb(0%,0%,0%);stroke-opacity:1;stroke-miterlimit:10;\" d=\"M 284.9375 580 C 284.9375 583.332031 279.9375 583.332031 279.9375 580 C 279.9375 576.667969 284.9375 576.667969 284.9375 580 \"/>\n<path style=\"fill-rule:nonzero;fill:rgb(100%,0%,0%);fill-opacity:1;stroke-width:1;stroke-linecap:butt;stroke-linejoin:miter;stroke:rgb(0%,0%,0%);stroke-opacity:1;stroke-miterlimit:10;\" d=\"M 568.238281 246.089844 C 568.238281 249.425781 563.238281 249.425781 563.238281 246.089844 C 563.238281 242.757813 568.238281 242.757813 568.238281 246.089844 \"/>\n<path style=\"fill-rule:nonzero;fill:rgb(100%,0%,0%);fill-opacity:1;stroke-width:1;stroke-linecap:butt;stroke-linejoin:miter;stroke:rgb(0%,0%,0%);stroke-opacity:1;stroke-miterlimit:10;\" d=\"M 331.148438 333.769531 C 331.148438 337.101563 326.148438 337.101563 326.148438 333.769531 C 326.148438 330.433594 331.148438 330.433594 331.148438 333.769531 \"/>\n<path style=\"fill-rule:nonzero;fill:rgb(100%,0%,0%);fill-opacity:1;stroke-width:1;stroke-linecap:butt;stroke-linejoin:miter;stroke:rgb(0%,0%,0%);stroke-opacity:1;stroke-miterlimit:10;\" d=\"M 279.433594 536.5625 C 279.433594 539.894531 274.433594 539.894531 274.433594 536.5625 C 274.433594 533.230469 279.433594 533.230469 279.433594 536.5625 \"/>\n<path style=\"fill-rule:nonzero;fill:rgb(100%,0%,0%);fill-opacity:1;stroke-width:1;stroke-linecap:butt;stroke-linejoin:miter;stroke:rgb(0%,0%,0%);stroke-opacity:1;stroke-miterlimit:10;\" d=\"M 346.5625 481.351563 C 346.5625 484.6875 341.5625 484.6875 341.5625 481.351563 C 341.5625 478.019531 346.5625 478.019531 346.5625 481.351563 \"/>\n<path style=\"fill-rule:nonzero;fill:rgb(100%,0%,0%);fill-opacity:1;stroke-width:1;stroke-linecap:butt;stroke-linejoin:miter;stroke:rgb(0%,0%,0%);stroke-opacity:1;stroke-miterlimit:10;\" d=\"M 358.660156 126.070313 C 358.660156 129.402344 353.660156 129.402344 353.660156 126.070313 C 353.660156 122.738281 358.660156 122.738281 358.660156 126.070313 \"/>\n<path style=\"fill-rule:nonzero;fill:rgb(100%,0%,0%);fill-opacity:1;stroke-width:1;stroke-linecap:butt;stroke-linejoin:miter;stroke:rgb(0%,0%,0%);stroke-opacity:1;stroke-miterlimit:10;\" d=\"M 268.972656 312.097656 C 268.972656 315.429688 263.972656 315.429688 263.972656 312.097656 C 263.972656 308.761719 268.972656 308.761719 268.972656 312.097656 \"/>\n<path style=\"fill-rule:nonzero;fill:rgb(100%,0%,0%);fill-opacity:1;stroke-width:1;stroke-linecap:butt;stroke-linejoin:miter;stroke:rgb(0%,0%,0%);stroke-opacity:1;stroke-miterlimit:10;\" d=\"M 279.597656 241.746094 C 279.597656 245.082031 274.597656 245.082031 274.597656 241.746094 C 274.597656 238.414063 279.597656 238.414063 279.597656 241.746094 \"/>\n<path style=\"fill-rule:nonzero;fill:rgb(100%,0%,0%);fill-opacity:1;stroke-width:1;stroke-linecap:butt;stroke-linejoin:miter;stroke:rgb(0%,0%,0%);stroke-opacity:1;stroke-miterlimit:10;\" d=\"M 409.441406 20 C 409.441406 23.332031 404.441406 23.332031 404.441406 20 C 404.441406 16.667969 409.441406 16.667969 409.441406 20 \"/>\n<path style=\"fill-rule:nonzero;fill:rgb(100%,0%,0%);fill-opacity:1;stroke-width:1;stroke-linecap:butt;stroke-linejoin:miter;stroke:rgb(0%,0%,0%);stroke-opacity:1;stroke-miterlimit:10;\" d=\"M 446.066406 149.847656 C 446.066406 153.179688 441.066406 153.179688 441.066406 149.847656 C 441.066406 146.511719 446.066406 146.511719 446.066406 149.847656 \"/>\n<path style=\"fill-rule:nonzero;fill:rgb(100%,0%,0%);fill-opacity:1;stroke-width:1;stroke-linecap:butt;stroke-linejoin:miter;stroke:rgb(0%,0%,0%);stroke-opacity:1;stroke-miterlimit:10;\" d=\"M 459.984375 293.769531 C 459.984375 297.105469 454.984375 297.105469 454.984375 293.769531 C 454.984375 290.4375 459.984375 290.4375 459.984375 293.769531 \"/>\n<path style=\"fill-rule:nonzero;fill:rgb(100%,0%,0%);fill-opacity:1;stroke-width:1;stroke-linecap:butt;stroke-linejoin:miter;stroke:rgb(0%,0%,0%);stroke-opacity:1;stroke-miterlimit:10;\" d=\"M 582.5 298.550781 C 582.5 301.886719 577.5 301.886719 577.5 298.550781 C 577.5 295.21875 582.5 295.21875 582.5 298.550781 \"/>\n<path style=\"fill-rule:nonzero;fill:rgb(100%,0%,0%);fill-opacity:1;stroke-width:1;stroke-linecap:butt;stroke-linejoin:miter;stroke:rgb(0%,0%,0%);stroke-opacity:1;stroke-miterlimit:10;\" d=\"M 400.191406 116.265625 C 400.191406 119.601563 395.191406 119.601563 395.191406 116.265625 C 395.191406 112.933594 400.191406 112.933594 400.191406 116.265625 \"/>\n<path style=\"fill-rule:nonzero;fill:rgb(100%,0%,0%);fill-opacity:1;stroke-width:1;stroke-linecap:butt;stroke-linejoin:miter;stroke:rgb(0%,0%,0%);stroke-opacity:1;stroke-miterlimit:10;\" d=\"M 280.902344 365.257813 C 280.902344 368.59375 275.902344 368.59375 275.902344 365.257813 C 275.902344 361.925781 280.902344 361.925781 280.902344 365.257813 \"/>\n<path style=\"fill-rule:nonzero;fill:rgb(100%,0%,0%);fill-opacity:1;stroke-width:1;stroke-linecap:butt;stroke-linejoin:miter;stroke:rgb(0%,0%,0%);stroke-opacity:1;stroke-miterlimit:10;\" d=\"M 501.984375 433.238281 C 501.984375 436.570313 496.984375 436.570313 496.984375 433.238281 C 496.984375 429.902344 501.984375 429.902344 501.984375 433.238281 \"/>\n<path style=\"fill-rule:nonzero;fill:rgb(100%,0%,0%);fill-opacity:1;stroke-width:1;stroke-linecap:butt;stroke-linejoin:miter;stroke:rgb(0%,0%,0%);stroke-opacity:1;stroke-miterlimit:10;\" d=\"M 478.109375 182.53125 C 478.109375 185.863281 473.109375 185.863281 473.109375 182.53125 C 473.109375 179.199219 478.109375 179.199219 478.109375 182.53125 \"/>\n<path style=\"fill-rule:nonzero;fill:rgb(100%,0%,0%);fill-opacity:1;stroke-width:1;stroke-linecap:butt;stroke-linejoin:miter;stroke:rgb(0%,0%,0%);stroke-opacity:1;stroke-miterlimit:10;\" d=\"M 326.171875 369.828125 C 326.171875 373.160156 321.171875 373.160156 321.171875 369.828125 C 321.171875 366.496094 326.171875 366.496094 326.171875 369.828125 \"/>\n<path style=\"fill-rule:nonzero;fill:rgb(100%,0%,0%);fill-opacity:1;stroke-width:1;stroke-linecap:butt;stroke-linejoin:miter;stroke:rgb(0%,0%,0%);stroke-opacity:1;stroke-miterlimit:10;\" d=\"M 476.683594 318.484375 C 476.683594 321.820313 471.683594 321.820313 471.683594 318.484375 C 471.683594 315.152344 476.683594 315.152344 476.683594 318.484375 \"/>\n<path style=\"fill-rule:nonzero;fill:rgb(100%,0%,0%);fill-opacity:1;stroke-width:1;stroke-linecap:butt;stroke-linejoin:miter;stroke:rgb(0%,0%,0%);stroke-opacity:1;stroke-miterlimit:10;\" d=\"M 172.171875 519.503906 C 172.171875 522.839844 167.171875 522.839844 167.171875 519.503906 C 167.171875 516.171875 172.171875 516.171875 172.171875 519.503906 \"/>\n<path style=\"fill-rule:nonzero;fill:rgb(100%,0%,0%);fill-opacity:1;stroke-width:1;stroke-linecap:butt;stroke-linejoin:miter;stroke:rgb(0%,0%,0%);stroke-opacity:1;stroke-miterlimit:10;\" d=\"M 364.214844 219.25 C 364.214844 222.582031 359.214844 222.582031 359.214844 219.25 C 359.214844 215.914063 364.214844 215.914063 364.214844 219.25 \"/>\n<path style=\"fill-rule:nonzero;fill:rgb(100%,0%,0%);fill-opacity:1;stroke-width:1;stroke-linecap:butt;stroke-linejoin:miter;stroke:rgb(0%,0%,0%);stroke-opacity:1;stroke-miterlimit:10;\" d=\"M 207.128906 547.804688 C 207.128906 551.140625 202.128906 551.140625 202.128906 547.804688 C 202.128906 544.472656 207.128906 544.472656 207.128906 547.804688 \"/>\n<path style=\"fill-rule:nonzero;fill:rgb(100%,0%,0%);fill-opacity:1;stroke-width:1;stroke-linecap:butt;stroke-linejoin:miter;stroke:rgb(0%,0%,0%);stroke-opacity:1;stroke-miterlimit:10;\" d=\"M 190.398438 469.988281 C 190.398438 473.324219 185.398438 473.324219 185.398438 469.988281 C 185.398438 466.65625 190.398438 466.65625 190.398438 469.988281 \"/>\n<path style=\"fill-rule:nonzero;fill:rgb(100%,0%,0%);fill-opacity:1;stroke-width:1;stroke-linecap:butt;stroke-linejoin:miter;stroke:rgb(0%,0%,0%);stroke-opacity:1;stroke-miterlimit:10;\" d=\"M 314.539063 255.550781 C 314.539063 258.886719 309.539063 258.886719 309.539063 255.550781 C 309.539063 252.21875 314.539063 252.21875 314.539063 255.550781 \"/>\n<path style=\"fill-rule:nonzero;fill:rgb(100%,0%,0%);fill-opacity:1;stroke-width:1;stroke-linecap:butt;stroke-linejoin:miter;stroke:rgb(0%,0%,0%);stroke-opacity:1;stroke-miterlimit:10;\" d=\"M 322.804688 181.027344 C 322.804688 184.359375 317.804688 184.359375 317.804688 181.027344 C 317.804688 177.695313 322.804688 177.695313 322.804688 181.027344 \"/>\n<path style=\"fill-rule:nonzero;fill:rgb(100%,0%,0%);fill-opacity:1;stroke-width:1;stroke-linecap:butt;stroke-linejoin:miter;stroke:rgb(0%,0%,0%);stroke-opacity:1;stroke-miterlimit:10;\" d=\"M 196.941406 325.539063 C 196.941406 328.875 191.941406 328.875 191.941406 325.539063 C 191.941406 322.207031 196.941406 322.207031 196.941406 325.539063 \"/>\n<path style=\"fill-rule:nonzero;fill:rgb(100%,0%,0%);fill-opacity:1;stroke-width:1;stroke-linecap:butt;stroke-linejoin:miter;stroke:rgb(0%,0%,0%);stroke-opacity:1;stroke-miterlimit:10;\" d=\"M 298.3125 307.417969 C 298.3125 310.75 293.3125 310.75 293.3125 307.417969 C 293.3125 304.082031 298.3125 304.082031 298.3125 307.417969 \"/>\n<path style=\"fill-rule:nonzero;fill:rgb(100%,0%,0%);fill-opacity:1;stroke-width:1;stroke-linecap:butt;stroke-linejoin:miter;stroke:rgb(0%,0%,0%);stroke-opacity:1;stroke-miterlimit:10;\" d=\"M 388.382813 349.824219 C 388.382813 353.15625 383.382813 353.15625 383.382813 349.824219 C 383.382813 346.488281 388.382813 346.488281 388.382813 349.824219 \"/>\n</g>\n</svg>\n",
      "text/plain": [
       "<igraph.drawing.Plot at 0x1ccd9bb0188>"
      ]
     },
     "execution_count": 4,
     "metadata": {
      "image/svg+xml": {
       "isolated": true
      }
     },
     "output_type": "execute_result"
    }
   ],
   "source": [
    "# {\"6_1\"}\n",
    "#Laden des Datensatzes \"Terrornetzwerk_Datensatz.csv\"\n",
    "terrornet = pd.read_csv(\"Terrornetzwerk_Datensatz.csv\", sep=\";\", header=None)\n",
    "#Erstellen des Graphen g_terrornet\n",
    "g_terrornet = ig.Graph.DataFrame(edges=terrornet, directed=False)\n",
    "#Plotten des Graphen g_terrornet\n",
    "ig.plot(g_terrornet, vertex_label_dist=0.2, vertex_size = 5, vertex_label_size=0.8)"
   ]
  },
  {
   "cell_type": "markdown",
   "metadata": {},
   "source": [
    "Das Netzwerk besteht aus den 19 Flugzeugentführern des Anschlags am 11. September 2001 und weiteren verbündeten Terroristen (Krebs, 2002). Insgesamt sind 60 Terroristen mit 151 Verbindungen berücksichtigt. Im Laufe dieser Aufgabe wollen wir herausfinden, welche der hier erfassten Terroristen in diesem Netzwerk eine **zentrale** Rolle spielen - in Bezug auf\n",
    "* die **Anzahl der direkten Kontakte** im Terrornetzwerk \n",
    "* die **Kürze der Distanz** zu allen anderen Kontakten \n",
    "* die Rolle bei der **Weitergabe von Informationen**"
   ]
  },
  {
   "cell_type": "markdown",
   "metadata": {},
   "source": [
    "## a) Degree Centrality"
   ]
  },
  {
   "cell_type": "markdown",
   "metadata": {},
   "source": [
    "In einem ungerichteten Netzwerk lässt sich die Zentralität eines Knotens beispielsweise über die (ungerichtete) **Degree Centrality** bestimmen. Sie gibt die *Anzahl der direkten Nachbarn des betrachteten Knotens* an - bezieht sich also auf den ersten der drei oben genannten Kontexte - und bestimmt sich über die folgende Formel:\n",
    "$$C_D(n_i)=\\sum_{j=1, i \\neq j}^{|N|} A_{ij}$$\n",
    "\n",
    "In R können Sie dieses Zentralitätsmaß bereits mit einem Ihnen bekannten Befehl berechnen lassen: dem Befehl zur Ermittlung der Anzahl der aus- bzw. eingehenden Kanten eines Knotens *degree(graph, v)* mit *v* als betrachtetem Knoten. Per default werden im Argument *v* alle Knoten des Netzwerkes betrachtet. In einem Fall weicht der Befehl jedoch von dem zur Berechnung des Node Degree ab: Falls der Knoten eine Kante zu sich selbst (Schleife) besitzt, so darf diese nicht berücksichtigt werden. In der Funktion *degree* erreicht man dies durch das Argument *loops=FALSE* (per default auf *TRUE* gesetzt).  \n",
    "Sie können diesen Befehl auch dazu verwenden, die **normierte Degree Centrality** $C_D'(n_i)$ zu berechnen. Dazu müssen Sie zusätzlich das Argument *normalized* verwenden und es auf *TRUE* setzen (per default auf *FALSE* gesetzt).\n",
    "\n",
    "- - -\n",
    "*Aufgabe:* Im nächsten Code-Chunk sollen sowohl die Degree Centrality, als auch die normierte Degree Centrality für alle Knoten des (ungerichteten) Terrornetzwerks berechnet und anschließend in absteigender Reihenfolge sortiert werden. Damit erhalten Sie eine Auskunft darüber, welche Knoten die meisten direkten Kontakte besitzen. Dazu benötigen Sie unter anderem die Funktion *sort(x, decreasing)*, welche den Vektor *x* sortiert zurückgibt - in absteigender Reihenfolge (*decreasing=TRUE*) oder aufsteigender Reihenfolge (*decreasing=FALSE*, die Default-Einstellung von *sort*).\n",
    "- - -"
   ]
  },
  {
   "cell_type": "code",
   "execution_count": 5,
   "metadata": {},
   "outputs": [
    {
     "name": "stdout",
     "output_type": "stream",
     "text": [
      "[22, 18, 13, 11, 11, 10]\n",
      "[1.0, 0.8181818181818182, 0.5909090909090909, 0.5, 0.5, 0.45454545454545453]\n"
     ]
    }
   ],
   "source": [
    "# {r \"6_2\"}\n",
    "#Berechnen Sie die Degree Centrality für alle Knoten in g_terrornet\n",
    "#und speichern Sie die Werte in der Variable C_D_terror\n",
    "C_D_terror = g_terrornet.degree()\n",
    "#Verfahren Sie analog für die normierte Degree Centrality und\n",
    "#speichern Sie das Ergebnis in der Variable C_Dnorm_terror\n",
    "C_Dnorm_terror = [degree / g_terrornet.maxdegree() for degree in C_D_terror]\n",
    "#Geben Sie zuerst die ersten sechs Werte des absteigend sortierten \n",
    "#Vektors C_D_terror aus und verfahren Sie anschließend analog \n",
    "#mit dem Vektor C_Dnorm_terror; Verwenden Sie dazu die Befehle head und sort\n",
    "#und speichern Sie die Werte in den Variablen C_D_terror_main bzw. \n",
    "#C_Dnorm_terror_main\n",
    "#Tipp: head gibt per default sechs Zeilen zurück\n",
    "C_D_terror_main = sorted(C_D_terror, reverse=True)[0:6]\n",
    "C_Dnorm_terror_main = sorted(C_Dnorm_terror, reverse=True)[0:6]\n",
    "#Lassen Sie sich beide Variablen ausgeben\n",
    "print(C_D_terror_main)\n",
    "print(C_Dnorm_terror_main)"
   ]
  },
  {
   "cell_type": "markdown",
   "metadata": {},
   "source": [
    "Bei dem hier betrachteten Netzwerk handelt es sich um ein ungerichtetes Netzwerk. Für *gerichtete Netzwerke* unterscheidet man - wie Sie im Skript bereits erfahren haben - die **(normierte) In-Degree** und die **(normierte) Out-Degree Centrality**. Diese beiden Zentralitätsmaße lassen sich jedoch ebenfalls mit dem Befehl *degree(graph, v, mode, loops=FALSE, normalized)* in R berechnen. Das Argument *mode*, welches bei ungerichteten Graphen ignoriert wird, muss hier entsprechend auf *\"in\"* (für In-Degree Centrality) bzw. *\"out\"* (für Out-Degree Centrality) gesetzt werden.\n",
    "\n",
    "*Anmerkung: Die folgenden beiden Zentralitätsmaße - Closeness Centrality und Betweenness Centrality - werden im Rahmen dieser Veranstaltung lediglich für ungerichtete Netzwerke betrachtet.*\n",
    "\n",
    "### b) Closeness Centrality\n",
    "Ein weiteres Zentralitätsmaß ist die **Closeness Centrality**. Sie ist eine hilfreiche Messgröße, um zu bestimmen, wie schnell ein Terrorist mit den anderen Verbündeten im Netzwerk Informationen austauschen kann: Je größer die Closeness Centrality, desto *kürzer sind die Informationswege zu allen anderen Terroristen*. Die Closeness Centrality\n",
    "$$C_C(n_i)=\\frac{1}{\\sum_{j \\neq i}d(n_i,n_j)}$$\n",
    "kann im Package *'igraph'* mit dem Befehl *closeness(graph, vids, weights, normalized)* ermittelt werden. Dabei bezeichnet *vids* die Knoten, für die $C_C$ bestimmt werden soll (per default alle Knoten des Netzwerks) und mit dem Argument *normalized=TRUE* kann die *normierte Closeness Centrality* bestimmt werden.  \n",
    "Nun stellt sich die Frage, welche der im Netzwerk erfassten Terroristen am gefährlichsten in Bezug auf die Geschwindigkeit der Informationsweitergabe sind.\n",
    "- - -\n",
    "*Aufgabe:* Ermitteln Sie dies auf analoge Weise zum letzten Code-Chunk. Da das grundsätzliche Vorgehen sich hier wiederholt, sind Teile des Codes bereits vorgegeben.\n",
    "- - - "
   ]
  },
  {
   "cell_type": "code",
   "execution_count": 6,
   "metadata": {},
   "outputs": [
    {
     "data": {
      "text/plain": [
       "[0.6020408163265306,\n",
       " 0.48360655737704916,\n",
       " 0.4573643410852713,\n",
       " 0.4573643410852713,\n",
       " 0.44360902255639095,\n",
       " 0.43703703703703706]"
      ]
     },
     "execution_count": 6,
     "metadata": {},
     "output_type": "execute_result"
    }
   ],
   "source": [
    "# {\"6_3\"}\n",
    "#Berechnen Sie die Closeness Centrality für alle Knoten in g_terrornet\n",
    "#und speichern Sie die Werte in der Variable C_C_terror\n",
    "C_C_terror = g_terrornet.closeness(normalized=False)\n",
    "#Verfahren Sie analog für die normierte Closeness Centrality und\n",
    "#speichern Sie das Ergebnis in der Variable C_Cnorm_terror\n",
    "C_Cnorm_terror = g_terrornet.closeness(normalized=True)\n",
    "#Ermittlung der ersten sechs Werte des absteigend sortierten \n",
    "#Vektors C_C_terror bzw. C_Cnorm_terror; \n",
    "#Speichern der Werte in den Variablen C_C_terror_main bzw. \n",
    "#C_Cnorm_terror_main\n",
    "C_C_terror_main = sorted(C_C_terror, reverse=True)[0:6]\n",
    "C_Cnorm_terror_main = sorted(C_Cnorm_terror, reverse=True)[0:6]\n",
    "#Ausgabe der beiden Variablen\n",
    "C_C_terror_main\n",
    "C_Cnorm_terror_main"
   ]
  },
  {
   "cell_type": "markdown",
   "metadata": {},
   "source": [
    "Auch die Closeness Centrality kann für gerichtete Netzwerke berechnet werden. Da sie die kürzesten Pfade betrachtet, bietet der Befehl *closeness* erneut im Argument *mode* drei Möglichkeiten an: *\"in\"* zur Betrachtung der im Knoten *eingehenden* Kanten, *\"out\"* zur Betrachtung der vom Knoten *ausgehenden* Kanten und *\"all\"* zur Betrachtung *ungerichteter* Kanten an Stelle der gerichteten. Das soll an dieser Stelle jedoch nicht weiter vertieft werden."
   ]
  },
  {
   "cell_type": "markdown",
   "metadata": {},
   "source": [
    "## c) Betweenness Centrality"
   ]
  },
  {
   "cell_type": "markdown",
   "metadata": {},
   "source": [
    "Abschließend bleibt die Frage, über welche hier erfassten Terroristen am meisten Informationen geleitet werden, da sie *auf vielen kürzesten Verbindungen zwischen anderen Terroristen* liegen. Dazu betrachten wir die im Skript für ungerichtete Netzwerke eingeführte **Betweenness Centrality**\n",
    "$$C_B(n_i) = \\sum_{j=1, i \\neq j}^{|N|} \\sum_{k>j, k \\neq i}^{|N|} \\frac{g_{jk}(n_i)}{g_{jk}}$$\n",
    "Im Package *'igraph'* kann $C_B(n_i)$ mit dem Befehl *betweenness(graph, v, weights, normalized)* bestimmt werden. Dabei steht *v* für die Knoten, die betrachtet werden und mit *normalized=TRUE* erhält man die **normierte Betweenness Centrality** $C_B'(n_i)$.\n",
    "- - -\n",
    "*Aufgabe:* Wenden Sie die entsprechenden Befehle an, um die (normierte) Betweenness Centrality für jedes Mitglied des Terroristennetzwerks zu ermitteln. Auch hier ist der Code gegeben, welcher die zentralsten Mitglieder in Bezug auf die Informationsweitergabe identifiziert und ihre Zentralitätsmaße ausgibt.\n",
    "- - - "
   ]
  },
  {
   "cell_type": "code",
   "execution_count": null,
   "metadata": {},
   "outputs": [],
   "source": [
    "# {\"6_4\"}\n",
    "#Berechnen Sie die Betweenness Centrality für alle Knoten in g_terrornet\n",
    "#und speichern Sie die Werte in der Variable C_B_terror\n",
    "C_B_terror = g_terrornet.betweenness()\n",
    "#Verfahren Sie analog für die normierte Betweenness Centrality und\n",
    "#speichern Sie das Ergebnis in der Variable C_Bnorm_terror\n",
    "C_Bnorm_terror <- betweenness(graph=g_terrornet, normalized = TRUE)\n",
    "#Ermittlung der ersten sechs Werte des absteigend sortierten \n",
    "#Vektors C_B_terror bzw. C_Bnorm_terror;\n",
    "#Speichern der Werte in den Variablen C_B_terror_main bzw.\n",
    "C_B_terror_main <- head(x=sort(x=C_B_terror, decreasing = TRUE))\n",
    "C_Bnorm_terror_main <- head(x=sort(x=C_Bnorm_terror, decreasing = TRUE))\n",
    "#Ausgabe der beiden Variablen\n",
    "C_B_terror_main\n",
    "C_Bnorm_terror_main"
   ]
  },
  {
   "cell_type": "markdown",
   "metadata": {},
   "source": [
    "- - -\n",
    "*Aufgabe:* Ziehen Sie nun ein Resumé aus den drei Analysen, indem Sie die erhaltenen Namen miteinander vergleichen. Der Befehl *names(x)* gibt die Namen der Elemente des Vektors *x* zurück und mit dem Operator *==* können Sie auf Gleichheit prüfen.\n",
    "- - - "
   ]
  },
  {
   "cell_type": "code",
   "execution_count": null,
   "metadata": {},
   "outputs": [],
   "source": [
    "# {\"6_5\"}\n",
    "#Vergleichen Sie die Namen von C_D_terror_main und C_C_terror_main\n",
    "names(x=C_D_terror_main) == names(x=C_C_terror_main)\n",
    "#Vergleichen Sie die Namen von C_C_terror_main und C_B_terror_main\n",
    "names(x=C_C_terror_main) == names(x=C_B_terror_main)\n",
    "#Lassen Sie sich die Namen von C_D_terror_main ausgeben\n",
    "C_D_terror_main"
   ]
  },
  {
   "cell_type": "markdown",
   "metadata": {},
   "source": [
    "Quiz: Welcher Terrorist ist der Analyse nach der zentralste Knoten des Netzwerks? Verwenden Sie bitte dieselbe Schreibweise wie im Vektor C_D_terror_main.\n",
    "\n",
    "Answer: Mohamed_Atta"
   ]
  },
  {
   "cell_type": "markdown",
   "metadata": {},
   "source": [
    "## d) Prestige-basierte Zentralitätsmaße: Eigenvector Centrality und Google's PageRank"
   ]
  },
  {
   "cell_type": "markdown",
   "metadata": {},
   "source": [
    "Testen wir nun, ob dieser Knoten auch nach der Eigenvector Centrality als zentral eingestuft wird. Gerade bei diesem Zentralitätsmaß ist R besonders hilfreich, da die händische Berechnung hier schlecht möglich ist.  \n",
    "Der Befehl *eigen_centrality(graph, directed, weights)* aus dem Package *'igraph'* bestimmt die Eigenvector Centrality aller Knoten für gerichtete sowie ungerichtete Graphen. Dies kann mit dem Argument *directed* spezifiziert werden, welches per default auf *FALSE* gesetzt ist. Zu beachten ist, dass der Befehl eine Liste zurückgibt, in deren erstem Element die Eigenvector Centralities enthalten sind. Die weiteren Elemente der Liste sollen für uns im Moment keine weitere Rolle spielen. \n",
    "- - -\n",
    "*Aufgabe:* Wenden Sie im folgenden Code-Chunk den Befehl an. Beachten Sie, dass das Argument *weights* im betrachteten Netzwerk keine Rolle spielt, da es sich um ein ungewichtetes Netzwerk handelt.\n",
    "- - -"
   ]
  },
  {
   "cell_type": "code",
   "execution_count": 9,
   "metadata": {},
   "outputs": [],
   "source": [
    "# {\"6_6\"}\n",
    "#Berechnen Sie die Eigenvector Centrality für alle Knoten von g_terrornet\n",
    "#und speichern Sie die ausgegebene Liste in der Variable C_E_terror\n",
    "C_E_terror =g_terrornet.eigenvector_centrality()"
   ]
  },
  {
   "cell_type": "markdown",
   "metadata": {},
   "source": [
    "Der Befehl *which.max(x)* bestimmt (für einen benannten Vektor *x*) den Index (und den Namen) des größten Elements in *x*. Im folgenden Code-Chunk wird er dazu verwendet, den Knoten im Terrornetzwerk mit der größten Eigenvector Centrality zu bestimmen.\n",
    "- - -\n",
    "*Aufgabe:* Ihre Aufgabe ist es, den zugehörigen Wert der Eigenvector Centrality - d.h. den maximalen Eigenvector Centrality-Wert im gesamten Netzwerk - auszugeben.  \n",
    "*Tipp: Beachten Sie die Schreibweise für den Zugriff auf das erste Listenelement von C_E_terror und verwenden Sie dieselbe Schreibweise in Ihrem Befehl.*\n",
    "- - -"
   ]
  },
  {
   "cell_type": "code",
   "execution_count": 18,
   "metadata": {},
   "outputs": [
    {
     "name": "stdout",
     "output_type": "stream",
     "text": [
      "36\n",
      "0.9999999999999999\n"
     ]
    }
   ],
   "source": [
    "# {\"6_7\"}\n",
    "#Bestimmung des Knotens mit der größten Eigenvector Centrality\n",
    "print(C_E_terror.index(max(C_E_terror)) + 1)\n",
    "#Bestimmung dieses größten Eigenvector Centrality-Werts im Netzwerk\n",
    "print(max(C_E_terror))"
   ]
  },
  {
   "cell_type": "markdown",
   "metadata": {},
   "source": [
    "Wie Sie sehen, ist dieser Knoten sogar bezüglich des vierten Zentralitätsmaßes der zentralste Knoten.\n",
    "\n",
    "Zum Abschluss dieser Aufgabe wenden wir Google's PageRank-Algorithmus auf einen *gerichteten Graphen* an: Dazu beschäftigen wir uns erneut dem Netzwerk *UKfaculty* aus dem Package *'igraphdata'*. Laden Sie erneut das Package *'igraphdata'* sowie das igraph-Objekt *UKfaculty* und plotten Sie den Graphen, indem Sie den folgenden Code ausführen."
   ]
  },
  {
   "cell_type": "code",
   "execution_count": null,
   "metadata": {},
   "outputs": [],
   "source": [
    "# {\"6_8\"}\n",
    "#Laden des Packages 'igraphdata'\n",
    "library(igraphdata)\n",
    "#Laden des Datensatzes UKfaculty\n",
    "data(\"UKfaculty\")\n",
    "#Plotten des Graphen\n",
    "plot(x=UKfaculty, vertex.size = 5, vertex.label.cex=0.8, edge.arrow.size = 0.4)"
   ]
  },
  {
   "cell_type": "markdown",
   "metadata": {},
   "source": [
    "Der Befehl *page_rank(graph, vids, weights)* aus dem Package *'igraph'* bestimmt den PageRank der Knoten, die in *vids* angegeben werden (per default alle). Auch hier wird, wie bei der Eigenvector Centrality, eine Liste zurückgegeben, in deren erstem Element die PageRanks der Knoten enthalten sind. Die weiteren Elemente der Liste sollen für uns im Moment keine weitere Rolle spielen. \n",
    "- - -\n",
    "*Aufgabe:* Wenden Sie nun im nächsten Code-Chunk den PageRank-Algorithmus auf den Graphen *UKfaculty* an.\n",
    "- - -"
   ]
  },
  {
   "cell_type": "code",
   "execution_count": null,
   "metadata": {},
   "outputs": [],
   "source": [
    "# {\"6_9\"}\n",
    "#Berechnen Sie den PageRank für alle Knoten von UKfaculty\n",
    "#und speichern Sie die resultierende Liste in der Variable C_R_UKfaculty\n",
    "C_R_UKfaculty <- page_rank(graph=UKfaculty)\n",
    "#Geben Sie mit dem Befehl head die ersten sechs Elemente des\n",
    "#ersten Listenelements (die PageRanks) von C_R_UKfaculty aus\n",
    "#Tipp: Werfen Sie nochmals einen Blick auf den zweiten Code-Chunk in 6d)\n",
    "head(x=C_R_UKfaculty[[1]])\n",
    "#Geben Sie das Maximum des ersten Listenelements (die PageRanks) \n",
    "#von C_R_UKfaculty aus\n",
    "max(x=C_R_UKfaculty[[1]])"
   ]
  }
 ],
 "metadata": {
  "interpreter": {
   "hash": "bed862baa169bd35b57b2a485b7961cf7d1bd32d9b549d4e10480d14566cc8ca"
  },
  "kernelspec": {
   "display_name": "Python 3.7.8 64-bit ('venv': venv)",
   "language": "python",
   "name": "python3"
  },
  "language_info": {
   "codemirror_mode": {
    "name": "ipython",
    "version": 3
   },
   "file_extension": ".py",
   "mimetype": "text/x-python",
   "name": "python",
   "nbconvert_exporter": "python",
   "pygments_lexer": "ipython3",
   "version": "3.7.8"
  },
  "orig_nbformat": 4
 },
 "nbformat": 4,
 "nbformat_minor": 2
}
