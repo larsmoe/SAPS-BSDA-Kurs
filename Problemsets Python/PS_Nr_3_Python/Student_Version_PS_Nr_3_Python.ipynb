{
  "cells": [
    {
      "cell_type": "code",
      "execution_count": null,
      "metadata": {
        "colab": {
          "base_uri": "https://localhost:8080/"
        },
        "id": "JUp5bRyYwcz4",
        "outputId": "7ca76801-1474-4e22-f67c-b200175574c7"
      },
      "outputs": [
        {
          "name": "stdout",
          "output_type": "stream",
          "text": [
            "Collecting igraph==0.9.8\n",
            "  Downloading igraph-0.9.8-cp37-cp37m-manylinux_2_12_x86_64.manylinux2010_x86_64.whl (3.2 MB)\n",
            "\u001b[K     |████████████████████████████████| 3.2 MB 5.4 MB/s \n",
            "\u001b[?25hCollecting texttable>=1.6.2\n",
            "  Downloading texttable-1.6.4-py2.py3-none-any.whl (10 kB)\n",
            "Installing collected packages: texttable, igraph\n",
            "Successfully installed igraph-0.9.8 texttable-1.6.4\n",
            "Reading package lists... Done\n",
            "Building dependency tree       \n",
            "Reading state information... Done\n",
            "The following packages were automatically installed and are no longer required:\n",
            "  cuda-command-line-tools-10-0 cuda-command-line-tools-10-1\n",
            "  cuda-command-line-tools-11-0 cuda-compiler-10-0 cuda-compiler-10-1\n",
            "  cuda-compiler-11-0 cuda-cuobjdump-10-0 cuda-cuobjdump-10-1\n",
            "  cuda-cuobjdump-11-0 cuda-cupti-10-0 cuda-cupti-10-1 cuda-cupti-11-0\n",
            "  cuda-cupti-dev-11-0 cuda-documentation-10-0 cuda-documentation-10-1\n",
            "  cuda-documentation-11-0 cuda-documentation-11-1 cuda-gdb-10-0 cuda-gdb-10-1\n",
            "  cuda-gdb-11-0 cuda-gpu-library-advisor-10-0 cuda-gpu-library-advisor-10-1\n",
            "  cuda-libraries-10-0 cuda-libraries-10-1 cuda-libraries-11-0\n",
            "  cuda-memcheck-10-0 cuda-memcheck-10-1 cuda-memcheck-11-0 cuda-nsight-10-0\n",
            "  cuda-nsight-10-1 cuda-nsight-11-0 cuda-nsight-11-1 cuda-nsight-compute-10-0\n",
            "  cuda-nsight-compute-10-1 cuda-nsight-compute-11-0 cuda-nsight-compute-11-1\n",
            "  cuda-nsight-systems-10-1 cuda-nsight-systems-11-0 cuda-nsight-systems-11-1\n",
            "  cuda-nvcc-10-0 cuda-nvcc-10-1 cuda-nvcc-11-0 cuda-nvdisasm-10-0\n",
            "  cuda-nvdisasm-10-1 cuda-nvdisasm-11-0 cuda-nvml-dev-10-0 cuda-nvml-dev-10-1\n",
            "  cuda-nvml-dev-11-0 cuda-nvprof-10-0 cuda-nvprof-10-1 cuda-nvprof-11-0\n",
            "  cuda-nvprune-10-0 cuda-nvprune-10-1 cuda-nvprune-11-0 cuda-nvtx-10-0\n",
            "  cuda-nvtx-10-1 cuda-nvtx-11-0 cuda-nvvp-10-0 cuda-nvvp-10-1 cuda-nvvp-11-0\n",
            "  cuda-nvvp-11-1 cuda-samples-10-0 cuda-samples-10-1 cuda-samples-11-0\n",
            "  cuda-samples-11-1 cuda-sanitizer-11-0 cuda-sanitizer-api-10-1\n",
            "  cuda-toolkit-10-0 cuda-toolkit-10-1 cuda-toolkit-11-0 cuda-toolkit-11-1\n",
            "  cuda-tools-10-0 cuda-tools-10-1 cuda-tools-11-0 cuda-tools-11-1\n",
            "  cuda-visual-tools-10-0 cuda-visual-tools-10-1 cuda-visual-tools-11-0\n",
            "  cuda-visual-tools-11-1 default-jre dkms freeglut3 freeglut3-dev\n",
            "  keyboard-configuration libargon2-0 libcap2 libcryptsetup12\n",
            "  libdevmapper1.02.1 libfontenc1 libidn11 libip4tc0 libjansson4\n",
            "  libnvidia-cfg1-510 libnvidia-common-460 libnvidia-common-510\n",
            "  libnvidia-extra-510 libnvidia-fbc1-510 libnvidia-gl-510 libpam-systemd\n",
            "  libpolkit-agent-1-0 libpolkit-backend-1-0 libpolkit-gobject-1-0 libxfont2\n",
            "  libxi-dev libxkbfile1 libxmu-dev libxmu-headers libxnvctrl0 libxtst6\n",
            "  nsight-compute-2020.2.1 nsight-compute-2022.1.0 nsight-systems-2020.3.2\n",
            "  nsight-systems-2020.3.4 nsight-systems-2021.5.2 nvidia-dkms-510\n",
            "  nvidia-kernel-common-510 nvidia-kernel-source-510 nvidia-modprobe\n",
            "  nvidia-settings openjdk-11-jre policykit-1 policykit-1-gnome python3-xkit\n",
            "  screen-resolution-extra systemd systemd-sysv udev x11-xkb-utils\n",
            "  xserver-common xserver-xorg-core-hwe-18.04 xserver-xorg-video-nvidia-510\n",
            "Use 'apt autoremove' to remove them.\n",
            "The following additional packages will be installed:\n",
            "  libcairo-script-interpreter2 libpixman-1-dev libxcb-shm0-dev\n",
            "Suggested packages:\n",
            "  libcairo2-doc\n",
            "The following NEW packages will be installed:\n",
            "  libcairo-script-interpreter2 libcairo2-dev libpixman-1-dev libxcb-shm0-dev\n",
            "0 upgraded, 4 newly installed, 0 to remove and 39 not upgraded.\n",
            "Need to get 930 kB of archives.\n",
            "After this operation, 3,986 kB of additional disk space will be used.\n",
            "Get:1 http://archive.ubuntu.com/ubuntu bionic-updates/main amd64 libcairo-script-interpreter2 amd64 1.15.10-2ubuntu0.1 [53.5 kB]\n",
            "Get:2 http://archive.ubuntu.com/ubuntu bionic/main amd64 libpixman-1-dev amd64 0.34.0-2 [244 kB]\n",
            "Get:3 http://archive.ubuntu.com/ubuntu bionic-updates/main amd64 libxcb-shm0-dev amd64 1.13-2~ubuntu18.04 [6,684 B]\n",
            "Get:4 http://archive.ubuntu.com/ubuntu bionic-updates/main amd64 libcairo2-dev amd64 1.15.10-2ubuntu0.1 [626 kB]\n",
            "Fetched 930 kB in 1s (801 kB/s)\n",
            "Selecting previously unselected package libcairo-script-interpreter2:amd64.\n",
            "(Reading database ... 155113 files and directories currently installed.)\n",
            "Preparing to unpack .../libcairo-script-interpreter2_1.15.10-2ubuntu0.1_amd64.deb ...\n",
            "Unpacking libcairo-script-interpreter2:amd64 (1.15.10-2ubuntu0.1) ...\n",
            "Selecting previously unselected package libpixman-1-dev:amd64.\n",
            "Preparing to unpack .../libpixman-1-dev_0.34.0-2_amd64.deb ...\n",
            "Unpacking libpixman-1-dev:amd64 (0.34.0-2) ...\n",
            "Selecting previously unselected package libxcb-shm0-dev:amd64.\n",
            "Preparing to unpack .../libxcb-shm0-dev_1.13-2~ubuntu18.04_amd64.deb ...\n",
            "Unpacking libxcb-shm0-dev:amd64 (1.13-2~ubuntu18.04) ...\n",
            "Selecting previously unselected package libcairo2-dev:amd64.\n",
            "Preparing to unpack .../libcairo2-dev_1.15.10-2ubuntu0.1_amd64.deb ...\n",
            "Unpacking libcairo2-dev:amd64 (1.15.10-2ubuntu0.1) ...\n",
            "Setting up libcairo-script-interpreter2:amd64 (1.15.10-2ubuntu0.1) ...\n",
            "Setting up libxcb-shm0-dev:amd64 (1.13-2~ubuntu18.04) ...\n",
            "Setting up libpixman-1-dev:amd64 (0.34.0-2) ...\n",
            "Setting up libcairo2-dev:amd64 (1.15.10-2ubuntu0.1) ...\n",
            "Processing triggers for libc-bin (2.27-3ubuntu1.3) ...\n",
            "/sbin/ldconfig.real: /usr/local/lib/python3.7/dist-packages/ideep4py/lib/libmkldnn.so.0 is not a symbolic link\n",
            "\n",
            "Collecting pycairo\n",
            "  Downloading pycairo-1.20.1.tar.gz (344 kB)\n",
            "\u001b[K     |████████████████████████████████| 344 kB 5.3 MB/s \n",
            "\u001b[?25h  Installing build dependencies ... \u001b[?25l\u001b[?25hdone\n",
            "  Getting requirements to build wheel ... \u001b[?25l\u001b[?25hdone\n",
            "    Preparing wheel metadata ... \u001b[?25l\u001b[?25hdone\n",
            "Building wheels for collected packages: pycairo\n",
            "  Building wheel for pycairo (PEP 517) ... \u001b[?25l\u001b[?25hdone\n",
            "  Created wheel for pycairo: filename=pycairo-1.20.1-cp37-cp37m-linux_x86_64.whl size=244746 sha256=50be4b935a1ff6016d11ff742f283076bc9741be4233bfb2dfd9ccaf7f59509f\n",
            "  Stored in directory: /root/.cache/pip/wheels/0f/a7/3d/d8d8e8bd0cfe5cfb9059ccdd9fb6e0130e65c5a5dac41cc881\n",
            "Successfully built pycairo\n",
            "Installing collected packages: pycairo\n",
            "Successfully installed pycairo-1.20.1\n"
          ]
        }
      ],
      "source": [
        "# Wie bisher müssen für dieses Blatt auch wieder Packages installiert werden\n",
        "!apt-get update\n",
        "!apt -y install -qq aria2 libcairo2-dev pkg-config python3-dev\n",
        "!pip install igraph==0.9.8\n",
        "!apt install libcairo2-dev\n",
        "!pip install pycairo"
      ]
    },
    {
      "cell_type": "code",
      "execution_count": null,
      "metadata": {
        "id": "nyyHCfG6wWV4"
      },
      "outputs": [],
      "source": [
        "# Laden der Packages\n",
        "from igraph import *\n",
        "import pandas as pd"
      ]
    },
    {
      "cell_type": "markdown",
      "metadata": {
        "id": "uAIUCZSSwWV6"
      },
      "source": [
        "Willkommen zum dritten Python-Problem Set in diesem Modul!  \n",
        "Sie finden hier eine Aufgabe (*Exercise 6*) zu Inhalten aus Kapitel 3 *Social Network Analysis* - konkret zu dem Teil 3.2 *Zentralität in Netzwerken*."
      ]
    },
    {
      "cell_type": "markdown",
      "metadata": {
        "id": "WqLwUKRhwWV7"
      },
      "source": [
        "# Aufgabe 6"
      ]
    },
    {
      "cell_type": "markdown",
      "metadata": {
        "id": "ll-1SdXiwWV7"
      },
      "source": [
        "### Aufgabe 6.1"
      ]
    },
    {
      "cell_type": "markdown",
      "metadata": {
        "id": "r96RO5WXwWV8"
      },
      "source": [
        "Im Skript haben Sie am Beispiel eines Terrornetzwerks verschiedene Zentralitätsmaße kennengelernt. In dieser Aufgabe werden Sie Python dazu nutzen, diese Zentralitätsmaße nicht nur auf einzelne wenige Knoten, sondern auf den gesamten Graphen anzuwenden.\n",
        "\n",
        "---\n",
        "Laden Sie den Datensatz, der die Beziehungen der Terroristen nach Krebs (2002) beschreibt, indem Sie den folgenden Code ausführen."
      ]
    },
    {
      "cell_type": "code",
      "execution_count": null,
      "metadata": {
        "colab": {
          "base_uri": "https://localhost:8080/",
          "height": 821
        },
        "id": "quoIFRbOwWV8",
        "outputId": "77a1720a-1979-4fc1-e310-30817fa1631c"
      },
      "outputs": [
        {
          "data": {
            "image/svg+xml": [
              "<?xml version=\"1.0\" encoding=\"UTF-8\"?>\n",
              "<svg xmlns=\"http://www.w3.org/2000/svg\" xmlns:xlink=\"http://www.w3.org/1999/xlink\" width=\"600pt\" height=\"600pt\" viewBox=\"0 0 600 600\" version=\"1.1\">\n",
              "<g id=\"surface2\">\n",
              "<rect x=\"0\" y=\"0\" width=\"600\" height=\"600\" style=\"fill:rgb(100%,100%,100%);fill-opacity:1;stroke:none;\"/>\n",
              "<path style=\"fill:none;stroke-width:1;stroke-linecap:butt;stroke-linejoin:miter;stroke:rgb(26.666667%,26.666667%,26.666667%);stroke-opacity:1;stroke-miterlimit:10;\" d=\"M 177.769531 258.261719 L 137.316406 133.402344 \"/>\n",
              "<path style=\"fill:none;stroke-width:1;stroke-linecap:butt;stroke-linejoin:miter;stroke:rgb(26.666667%,26.666667%,26.666667%);stroke-opacity:1;stroke-miterlimit:10;\" d=\"M 75.621094 231.523438 L 96.480469 332.179688 \"/>\n",
              "<path style=\"fill:none;stroke-width:1;stroke-linecap:butt;stroke-linejoin:miter;stroke:rgb(26.666667%,26.666667%,26.666667%);stroke-opacity:1;stroke-miterlimit:10;\" d=\"M 177.769531 258.261719 L 75.621094 231.523438 \"/>\n",
              "<path style=\"fill:none;stroke-width:1;stroke-linecap:butt;stroke-linejoin:miter;stroke:rgb(26.666667%,26.666667%,26.666667%);stroke-opacity:1;stroke-miterlimit:10;\" d=\"M 177.769531 258.261719 L 40.371094 289.191406 \"/>\n",
              "<path style=\"fill:none;stroke-width:1;stroke-linecap:butt;stroke-linejoin:miter;stroke:rgb(26.666667%,26.666667%,26.666667%);stroke-opacity:1;stroke-miterlimit:10;\" d=\"M 177.769531 258.261719 L 197.199219 124.328125 \"/>\n",
              "<path style=\"fill:none;stroke-width:1;stroke-linecap:butt;stroke-linejoin:miter;stroke:rgb(26.666667%,26.666667%,26.666667%);stroke-opacity:1;stroke-miterlimit:10;\" d=\"M 58.3125 258.707031 L 96.480469 332.179688 \"/>\n",
              "<path style=\"fill:none;stroke-width:1;stroke-linecap:butt;stroke-linejoin:miter;stroke:rgb(26.666667%,26.666667%,26.666667%);stroke-opacity:1;stroke-miterlimit:10;\" d=\"M 177.769531 258.261719 L 58.3125 258.707031 \"/>\n",
              "<path style=\"fill:none;stroke-width:1;stroke-linecap:butt;stroke-linejoin:miter;stroke:rgb(26.666667%,26.666667%,26.666667%);stroke-opacity:1;stroke-miterlimit:10;\" d=\"M 91.683594 179.824219 L 116.949219 220.789062 \"/>\n",
              "<path style=\"fill:none;stroke-width:1;stroke-linecap:butt;stroke-linejoin:miter;stroke:rgb(26.666667%,26.666667%,26.666667%);stroke-opacity:1;stroke-miterlimit:10;\" d=\"M 83.789062 297.097656 L 91.683594 179.824219 \"/>\n",
              "<path style=\"fill:none;stroke-width:1;stroke-linecap:butt;stroke-linejoin:miter;stroke:rgb(26.666667%,26.666667%,26.666667%);stroke-opacity:1;stroke-miterlimit:10;\" d=\"M 177.769531 258.261719 L 91.683594 179.824219 \"/>\n",
              "<path style=\"fill:none;stroke-width:1;stroke-linecap:butt;stroke-linejoin:miter;stroke:rgb(26.666667%,26.666667%,26.666667%);stroke-opacity:1;stroke-miterlimit:10;\" d=\"M 163.835938 149.238281 L 116.949219 220.789062 \"/>\n",
              "<path style=\"fill:none;stroke-width:1;stroke-linecap:butt;stroke-linejoin:miter;stroke:rgb(26.666667%,26.666667%,26.666667%);stroke-opacity:1;stroke-miterlimit:10;\" d=\"M 177.769531 258.261719 L 163.835938 149.238281 \"/>\n",
              "<path style=\"fill:none;stroke-width:1;stroke-linecap:butt;stroke-linejoin:miter;stroke:rgb(26.666667%,26.666667%,26.666667%);stroke-opacity:1;stroke-miterlimit:10;\" d=\"M 194.375 375.402344 L 96.480469 332.179688 \"/>\n",
              "<path style=\"fill:none;stroke-width:1;stroke-linecap:butt;stroke-linejoin:miter;stroke:rgb(26.666667%,26.666667%,26.666667%);stroke-opacity:1;stroke-miterlimit:10;\" d=\"M 96.792969 431.941406 L 96.480469 332.179688 \"/>\n",
              "<path style=\"fill:none;stroke-width:1;stroke-linecap:butt;stroke-linejoin:miter;stroke:rgb(26.666667%,26.666667%,26.666667%);stroke-opacity:1;stroke-miterlimit:10;\" d=\"M 116.949219 220.789062 L 96.480469 332.179688 \"/>\n",
              "<path style=\"fill:none;stroke-width:1;stroke-linecap:butt;stroke-linejoin:miter;stroke:rgb(26.666667%,26.666667%,26.666667%);stroke-opacity:1;stroke-miterlimit:10;\" d=\"M 177.769531 258.261719 L 96.480469 332.179688 \"/>\n",
              "<path style=\"fill:none;stroke-width:1;stroke-linecap:butt;stroke-linejoin:miter;stroke:rgb(26.666667%,26.666667%,26.666667%);stroke-opacity:1;stroke-miterlimit:10;\" d=\"M 177.769531 258.261719 L 116.949219 220.789062 \"/>\n",
              "<path style=\"fill:none;stroke-width:1;stroke-linecap:butt;stroke-linejoin:miter;stroke:rgb(26.666667%,26.666667%,26.666667%);stroke-opacity:1;stroke-miterlimit:10;\" d=\"M 82.339844 400.980469 L 83.789062 297.097656 \"/>\n",
              "<path style=\"fill:none;stroke-width:1;stroke-linecap:butt;stroke-linejoin:miter;stroke:rgb(26.666667%,26.666667%,26.666667%);stroke-opacity:1;stroke-miterlimit:10;\" d=\"M 177.769531 258.261719 L 83.789062 297.097656 \"/>\n",
              "<path style=\"fill:none;stroke-width:1;stroke-linecap:butt;stroke-linejoin:miter;stroke:rgb(26.666667%,26.666667%,26.666667%);stroke-opacity:1;stroke-miterlimit:10;\" d=\"M 96.792969 431.941406 L 20 517.613281 \"/>\n",
              "<path style=\"fill:none;stroke-width:1;stroke-linecap:butt;stroke-linejoin:miter;stroke:rgb(26.666667%,26.666667%,26.666667%);stroke-opacity:1;stroke-miterlimit:10;\" d=\"M 20 517.613281 L 112.3125 497.113281 \"/>\n",
              "<path style=\"fill:none;stroke-width:1;stroke-linecap:butt;stroke-linejoin:miter;stroke:rgb(26.666667%,26.666667%,26.666667%);stroke-opacity:1;stroke-miterlimit:10;\" d=\"M 20 517.613281 L 129.667969 540.839844 \"/>\n",
              "<path style=\"fill:none;stroke-width:1;stroke-linecap:butt;stroke-linejoin:miter;stroke:rgb(26.666667%,26.666667%,26.666667%);stroke-opacity:1;stroke-miterlimit:10;\" d=\"M 310.851562 442.089844 L 289.59375 548.140625 \"/>\n",
              "<path style=\"fill:none;stroke-width:1;stroke-linecap:butt;stroke-linejoin:miter;stroke:rgb(26.666667%,26.666667%,26.666667%);stroke-opacity:1;stroke-miterlimit:10;\" d=\"M 289.59375 548.140625 L 262.085938 425.742188 \"/>\n",
              "<path style=\"fill:none;stroke-width:1;stroke-linecap:butt;stroke-linejoin:miter;stroke:rgb(26.666667%,26.666667%,26.666667%);stroke-opacity:1;stroke-miterlimit:10;\" d=\"M 362.789062 580 L 339.695312 454.679688 \"/>\n",
              "<path style=\"fill:none;stroke-width:1;stroke-linecap:butt;stroke-linejoin:miter;stroke:rgb(26.666667%,26.666667%,26.666667%);stroke-opacity:1;stroke-miterlimit:10;\" d=\"M 463.980469 20 L 421 118.511719 \"/>\n",
              "<path style=\"fill:none;stroke-width:1;stroke-linecap:butt;stroke-linejoin:miter;stroke:rgb(26.666667%,26.666667%,26.666667%);stroke-opacity:1;stroke-miterlimit:10;\" d=\"M 82.339844 400.980469 L 202.46875 445.699219 \"/>\n",
              "<path style=\"fill:none;stroke-width:1;stroke-linecap:butt;stroke-linejoin:miter;stroke:rgb(26.666667%,26.666667%,26.666667%);stroke-opacity:1;stroke-miterlimit:10;\" d=\"M 227.300781 575.242188 L 178.070312 554.792969 \"/>\n",
              "<path style=\"fill:none;stroke-width:1;stroke-linecap:butt;stroke-linejoin:miter;stroke:rgb(26.666667%,26.666667%,26.666667%);stroke-opacity:1;stroke-miterlimit:10;\" d=\"M 227.300781 575.242188 L 202.46875 445.699219 \"/>\n",
              "<path style=\"fill:none;stroke-width:1;stroke-linecap:butt;stroke-linejoin:miter;stroke:rgb(26.666667%,26.666667%,26.666667%);stroke-opacity:1;stroke-miterlimit:10;\" d=\"M 112.3125 497.113281 L 178.070312 554.792969 \"/>\n",
              "<path style=\"fill:none;stroke-width:1;stroke-linecap:butt;stroke-linejoin:miter;stroke:rgb(26.666667%,26.666667%,26.666667%);stroke-opacity:1;stroke-miterlimit:10;\" d=\"M 178.070312 554.792969 L 129.667969 540.839844 \"/>\n",
              "<path style=\"fill:none;stroke-width:1;stroke-linecap:butt;stroke-linejoin:miter;stroke:rgb(26.666667%,26.666667%,26.666667%);stroke-opacity:1;stroke-miterlimit:10;\" d=\"M 178.070312 554.792969 L 202.46875 445.699219 \"/>\n",
              "<path style=\"fill:none;stroke-width:1;stroke-linecap:butt;stroke-linejoin:miter;stroke:rgb(26.666667%,26.666667%,26.666667%);stroke-opacity:1;stroke-miterlimit:10;\" d=\"M 96.792969 431.941406 L 194.375 375.402344 \"/>\n",
              "<path style=\"fill:none;stroke-width:1;stroke-linecap:butt;stroke-linejoin:miter;stroke:rgb(26.666667%,26.666667%,26.666667%);stroke-opacity:1;stroke-miterlimit:10;\" d=\"M 96.792969 431.941406 L 112.3125 497.113281 \"/>\n",
              "<path style=\"fill:none;stroke-width:1;stroke-linecap:butt;stroke-linejoin:miter;stroke:rgb(26.666667%,26.666667%,26.666667%);stroke-opacity:1;stroke-miterlimit:10;\" d=\"M 96.792969 431.941406 L 202.46875 445.699219 \"/>\n",
              "<path style=\"fill:none;stroke-width:1;stroke-linecap:butt;stroke-linejoin:miter;stroke:rgb(26.666667%,26.666667%,26.666667%);stroke-opacity:1;stroke-miterlimit:10;\" d=\"M 112.3125 497.113281 L 129.667969 540.839844 \"/>\n",
              "<path style=\"fill:none;stroke-width:1;stroke-linecap:butt;stroke-linejoin:miter;stroke:rgb(26.666667%,26.666667%,26.666667%);stroke-opacity:1;stroke-miterlimit:10;\" d=\"M 112.3125 497.113281 L 202.46875 445.699219 \"/>\n",
              "<path style=\"fill:none;stroke-width:1;stroke-linecap:butt;stroke-linejoin:miter;stroke:rgb(26.666667%,26.666667%,26.666667%);stroke-opacity:1;stroke-miterlimit:10;\" d=\"M 129.667969 540.839844 L 202.46875 445.699219 \"/>\n",
              "<path style=\"fill:none;stroke-width:1;stroke-linecap:butt;stroke-linejoin:miter;stroke:rgb(26.666667%,26.666667%,26.666667%);stroke-opacity:1;stroke-miterlimit:10;\" d=\"M 448.757812 251.019531 L 383.453125 130.410156 \"/>\n",
              "<path style=\"fill:none;stroke-width:1;stroke-linecap:butt;stroke-linejoin:miter;stroke:rgb(26.666667%,26.666667%,26.666667%);stroke-opacity:1;stroke-miterlimit:10;\" d=\"M 316.585938 223.84375 L 383.453125 130.410156 \"/>\n",
              "<path style=\"fill:none;stroke-width:1;stroke-linecap:butt;stroke-linejoin:miter;stroke:rgb(26.666667%,26.666667%,26.666667%);stroke-opacity:1;stroke-miterlimit:10;\" d=\"M 461.226562 165.183594 L 421 118.511719 \"/>\n",
              "<path style=\"fill:none;stroke-width:1;stroke-linecap:butt;stroke-linejoin:miter;stroke:rgb(26.666667%,26.666667%,26.666667%);stroke-opacity:1;stroke-miterlimit:10;\" d=\"M 421 118.511719 L 486.878906 205.203125 \"/>\n",
              "<path style=\"fill:none;stroke-width:1;stroke-linecap:butt;stroke-linejoin:miter;stroke:rgb(26.666667%,26.666667%,26.666667%);stroke-opacity:1;stroke-miterlimit:10;\" d=\"M 421 118.511719 L 353.5625 220.039062 \"/>\n",
              "<path style=\"fill:none;stroke-width:1;stroke-linecap:butt;stroke-linejoin:miter;stroke:rgb(26.666667%,26.666667%,26.666667%);stroke-opacity:1;stroke-miterlimit:10;\" d=\"M 461.226562 165.183594 L 486.878906 205.203125 \"/>\n",
              "<path style=\"fill:none;stroke-width:1;stroke-linecap:butt;stroke-linejoin:miter;stroke:rgb(26.666667%,26.666667%,26.666667%);stroke-opacity:1;stroke-miterlimit:10;\" d=\"M 499.570312 290.035156 L 461.226562 165.183594 \"/>\n",
              "<path style=\"fill:none;stroke-width:1;stroke-linecap:butt;stroke-linejoin:miter;stroke:rgb(26.666667%,26.666667%,26.666667%);stroke-opacity:1;stroke-miterlimit:10;\" d=\"M 461.226562 165.183594 L 353.5625 220.039062 \"/>\n",
              "<path style=\"fill:none;stroke-width:1;stroke-linecap:butt;stroke-linejoin:miter;stroke:rgb(26.666667%,26.666667%,26.666667%);stroke-opacity:1;stroke-miterlimit:10;\" d=\"M 288.300781 262.59375 L 397.054688 230.617188 \"/>\n",
              "<path style=\"fill:none;stroke-width:1;stroke-linecap:butt;stroke-linejoin:miter;stroke:rgb(26.666667%,26.666667%,26.666667%);stroke-opacity:1;stroke-miterlimit:10;\" d=\"M 316.585938 223.84375 L 397.054688 230.617188 \"/>\n",
              "<path style=\"fill:none;stroke-width:1;stroke-linecap:butt;stroke-linejoin:miter;stroke:rgb(26.666667%,26.666667%,26.666667%);stroke-opacity:1;stroke-miterlimit:10;\" d=\"M 355.179688 339.074219 L 397.054688 230.617188 \"/>\n",
              "<path style=\"fill:none;stroke-width:1;stroke-linecap:butt;stroke-linejoin:miter;stroke:rgb(26.666667%,26.666667%,26.666667%);stroke-opacity:1;stroke-miterlimit:10;\" d=\"M 390.246094 307.660156 L 397.054688 230.617188 \"/>\n",
              "<path style=\"fill:none;stroke-width:1;stroke-linecap:butt;stroke-linejoin:miter;stroke:rgb(26.666667%,26.666667%,26.666667%);stroke-opacity:1;stroke-miterlimit:10;\" d=\"M 353.5625 220.039062 L 397.054688 230.617188 \"/>\n",
              "<path style=\"fill:none;stroke-width:1;stroke-linecap:butt;stroke-linejoin:miter;stroke:rgb(26.666667%,26.666667%,26.666667%);stroke-opacity:1;stroke-miterlimit:10;\" d=\"M 322.4375 268.777344 L 397.054688 230.617188 \"/>\n",
              "<path style=\"fill:none;stroke-width:1;stroke-linecap:butt;stroke-linejoin:miter;stroke:rgb(26.666667%,26.666667%,26.666667%);stroke-opacity:1;stroke-miterlimit:10;\" d=\"M 194.375 375.402344 L 262.085938 425.742188 \"/>\n",
              "<path style=\"fill:none;stroke-width:1;stroke-linecap:butt;stroke-linejoin:miter;stroke:rgb(26.666667%,26.666667%,26.666667%);stroke-opacity:1;stroke-miterlimit:10;\" d=\"M 194.375 375.402344 L 303.488281 336.617188 \"/>\n",
              "<path style=\"fill:none;stroke-width:1;stroke-linecap:butt;stroke-linejoin:miter;stroke:rgb(26.666667%,26.666667%,26.666667%);stroke-opacity:1;stroke-miterlimit:10;\" d=\"M 249.394531 246.453125 L 303.488281 336.617188 \"/>\n",
              "<path style=\"fill:none;stroke-width:1;stroke-linecap:butt;stroke-linejoin:miter;stroke:rgb(26.666667%,26.666667%,26.666667%);stroke-opacity:1;stroke-miterlimit:10;\" d=\"M 252.078125 354.578125 L 262.085938 425.742188 \"/>\n",
              "<path style=\"fill:none;stroke-width:1;stroke-linecap:butt;stroke-linejoin:miter;stroke:rgb(26.666667%,26.666667%,26.666667%);stroke-opacity:1;stroke-miterlimit:10;\" d=\"M 252.078125 354.578125 L 309.285156 408.390625 \"/>\n",
              "<path style=\"fill:none;stroke-width:1;stroke-linecap:butt;stroke-linejoin:miter;stroke:rgb(26.666667%,26.666667%,26.666667%);stroke-opacity:1;stroke-miterlimit:10;\" d=\"M 355.179688 339.074219 L 252.078125 354.578125 \"/>\n",
              "<path style=\"fill:none;stroke-width:1;stroke-linecap:butt;stroke-linejoin:miter;stroke:rgb(26.666667%,26.666667%,26.666667%);stroke-opacity:1;stroke-miterlimit:10;\" d=\"M 303.488281 336.617188 L 252.078125 354.578125 \"/>\n",
              "<path style=\"fill:none;stroke-width:1;stroke-linecap:butt;stroke-linejoin:miter;stroke:rgb(26.666667%,26.666667%,26.666667%);stroke-opacity:1;stroke-miterlimit:10;\" d=\"M 310.851562 442.089844 L 262.085938 425.742188 \"/>\n",
              "<path style=\"fill:none;stroke-width:1;stroke-linecap:butt;stroke-linejoin:miter;stroke:rgb(26.666667%,26.666667%,26.666667%);stroke-opacity:1;stroke-miterlimit:10;\" d=\"M 310.851562 442.089844 L 361.472656 384.585938 \"/>\n",
              "<path style=\"fill:none;stroke-width:1;stroke-linecap:butt;stroke-linejoin:miter;stroke:rgb(26.666667%,26.666667%,26.666667%);stroke-opacity:1;stroke-miterlimit:10;\" d=\"M 310.851562 442.089844 L 355.179688 339.074219 \"/>\n",
              "<path style=\"fill:none;stroke-width:1;stroke-linecap:butt;stroke-linejoin:miter;stroke:rgb(26.666667%,26.666667%,26.666667%);stroke-opacity:1;stroke-miterlimit:10;\" d=\"M 310.851562 442.089844 L 303.488281 336.617188 \"/>\n",
              "<path style=\"fill:none;stroke-width:1;stroke-linecap:butt;stroke-linejoin:miter;stroke:rgb(26.666667%,26.666667%,26.666667%);stroke-opacity:1;stroke-miterlimit:10;\" d=\"M 226.066406 305.765625 L 303.488281 336.617188 \"/>\n",
              "<path style=\"fill:none;stroke-width:1;stroke-linecap:butt;stroke-linejoin:miter;stroke:rgb(26.666667%,26.666667%,26.666667%);stroke-opacity:1;stroke-miterlimit:10;\" d=\"M 177.769531 258.261719 L 303.488281 336.617188 \"/>\n",
              "<path style=\"fill:none;stroke-width:1;stroke-linecap:butt;stroke-linejoin:miter;stroke:rgb(26.666667%,26.666667%,26.666667%);stroke-opacity:1;stroke-miterlimit:10;\" d=\"M 262.085938 425.742188 L 273.699219 376.023438 \"/>\n",
              "<path style=\"fill:none;stroke-width:1;stroke-linecap:butt;stroke-linejoin:miter;stroke:rgb(26.666667%,26.666667%,26.666667%);stroke-opacity:1;stroke-miterlimit:10;\" d=\"M 309.285156 408.390625 L 273.699219 376.023438 \"/>\n",
              "<path style=\"fill:none;stroke-width:1;stroke-linecap:butt;stroke-linejoin:miter;stroke:rgb(26.666667%,26.666667%,26.666667%);stroke-opacity:1;stroke-miterlimit:10;\" d=\"M 273.699219 376.023438 L 361.472656 384.585938 \"/>\n",
              "<path style=\"fill:none;stroke-width:1;stroke-linecap:butt;stroke-linejoin:miter;stroke:rgb(26.666667%,26.666667%,26.666667%);stroke-opacity:1;stroke-miterlimit:10;\" d=\"M 355.179688 339.074219 L 273.699219 376.023438 \"/>\n",
              "<path style=\"fill:none;stroke-width:1;stroke-linecap:butt;stroke-linejoin:miter;stroke:rgb(26.666667%,26.666667%,26.666667%);stroke-opacity:1;stroke-miterlimit:10;\" d=\"M 303.488281 336.617188 L 273.699219 376.023438 \"/>\n",
              "<path style=\"fill:none;stroke-width:1;stroke-linecap:butt;stroke-linejoin:miter;stroke:rgb(26.666667%,26.666667%,26.666667%);stroke-opacity:1;stroke-miterlimit:10;\" d=\"M 262.085938 425.742188 L 309.285156 408.390625 \"/>\n",
              "<path style=\"fill:none;stroke-width:1;stroke-linecap:butt;stroke-linejoin:miter;stroke:rgb(26.666667%,26.666667%,26.666667%);stroke-opacity:1;stroke-miterlimit:10;\" d=\"M 262.085938 425.742188 L 202.46875 445.699219 \"/>\n",
              "<path style=\"fill:none;stroke-width:1;stroke-linecap:butt;stroke-linejoin:miter;stroke:rgb(26.666667%,26.666667%,26.666667%);stroke-opacity:1;stroke-miterlimit:10;\" d=\"M 262.085938 425.742188 L 361.472656 384.585938 \"/>\n",
              "<path style=\"fill:none;stroke-width:1;stroke-linecap:butt;stroke-linejoin:miter;stroke:rgb(26.666667%,26.666667%,26.666667%);stroke-opacity:1;stroke-miterlimit:10;\" d=\"M 355.179688 339.074219 L 262.085938 425.742188 \"/>\n",
              "<path style=\"fill:none;stroke-width:1;stroke-linecap:butt;stroke-linejoin:miter;stroke:rgb(26.666667%,26.666667%,26.666667%);stroke-opacity:1;stroke-miterlimit:10;\" d=\"M 303.488281 336.617188 L 262.085938 425.742188 \"/>\n",
              "<path style=\"fill:none;stroke-width:1;stroke-linecap:butt;stroke-linejoin:miter;stroke:rgb(26.666667%,26.666667%,26.666667%);stroke-opacity:1;stroke-miterlimit:10;\" d=\"M 339.695312 454.679688 L 309.285156 408.390625 \"/>\n",
              "<path style=\"fill:none;stroke-width:1;stroke-linecap:butt;stroke-linejoin:miter;stroke:rgb(26.666667%,26.666667%,26.666667%);stroke-opacity:1;stroke-miterlimit:10;\" d=\"M 339.695312 454.679688 L 355.179688 339.074219 \"/>\n",
              "<path style=\"fill:none;stroke-width:1;stroke-linecap:butt;stroke-linejoin:miter;stroke:rgb(26.666667%,26.666667%,26.666667%);stroke-opacity:1;stroke-miterlimit:10;\" d=\"M 339.695312 454.679688 L 303.488281 336.617188 \"/>\n",
              "<path style=\"fill:none;stroke-width:1;stroke-linecap:butt;stroke-linejoin:miter;stroke:rgb(26.666667%,26.666667%,26.666667%);stroke-opacity:1;stroke-miterlimit:10;\" d=\"M 309.285156 408.390625 L 361.472656 384.585938 \"/>\n",
              "<path style=\"fill:none;stroke-width:1;stroke-linecap:butt;stroke-linejoin:miter;stroke:rgb(26.666667%,26.666667%,26.666667%);stroke-opacity:1;stroke-miterlimit:10;\" d=\"M 355.179688 339.074219 L 309.285156 408.390625 \"/>\n",
              "<path style=\"fill:none;stroke-width:1;stroke-linecap:butt;stroke-linejoin:miter;stroke:rgb(26.666667%,26.666667%,26.666667%);stroke-opacity:1;stroke-miterlimit:10;\" d=\"M 303.488281 336.617188 L 309.285156 408.390625 \"/>\n",
              "<path style=\"fill:none;stroke-width:1;stroke-linecap:butt;stroke-linejoin:miter;stroke:rgb(26.666667%,26.666667%,26.666667%);stroke-opacity:1;stroke-miterlimit:10;\" d=\"M 316.585938 223.84375 L 288.300781 262.59375 \"/>\n",
              "<path style=\"fill:none;stroke-width:1;stroke-linecap:butt;stroke-linejoin:miter;stroke:rgb(26.666667%,26.666667%,26.666667%);stroke-opacity:1;stroke-miterlimit:10;\" d=\"M 355.179688 339.074219 L 288.300781 262.59375 \"/>\n",
              "<path style=\"fill:none;stroke-width:1;stroke-linecap:butt;stroke-linejoin:miter;stroke:rgb(26.666667%,26.666667%,26.666667%);stroke-opacity:1;stroke-miterlimit:10;\" d=\"M 303.488281 336.617188 L 288.300781 262.59375 \"/>\n",
              "<path style=\"fill:none;stroke-width:1;stroke-linecap:butt;stroke-linejoin:miter;stroke:rgb(26.666667%,26.666667%,26.666667%);stroke-opacity:1;stroke-miterlimit:10;\" d=\"M 303.488281 336.617188 L 202.46875 445.699219 \"/>\n",
              "<path style=\"fill:none;stroke-width:1;stroke-linecap:butt;stroke-linejoin:miter;stroke:rgb(26.666667%,26.666667%,26.666667%);stroke-opacity:1;stroke-miterlimit:10;\" d=\"M 371.667969 269.523438 L 486.878906 205.203125 \"/>\n",
              "<path style=\"fill:none;stroke-width:1;stroke-linecap:butt;stroke-linejoin:miter;stroke:rgb(26.666667%,26.666667%,26.666667%);stroke-opacity:1;stroke-miterlimit:10;\" d=\"M 371.667969 269.523438 L 361.472656 384.585938 \"/>\n",
              "<path style=\"fill:none;stroke-width:1;stroke-linecap:butt;stroke-linejoin:miter;stroke:rgb(26.666667%,26.666667%,26.666667%);stroke-opacity:1;stroke-miterlimit:10;\" d=\"M 371.667969 269.523438 L 448.757812 251.019531 \"/>\n",
              "<path style=\"fill:none;stroke-width:1;stroke-linecap:butt;stroke-linejoin:miter;stroke:rgb(26.666667%,26.666667%,26.666667%);stroke-opacity:1;stroke-miterlimit:10;\" d=\"M 371.667969 269.523438 L 303.488281 336.617188 \"/>\n",
              "<path style=\"fill:none;stroke-width:1;stroke-linecap:butt;stroke-linejoin:miter;stroke:rgb(26.666667%,26.666667%,26.666667%);stroke-opacity:1;stroke-miterlimit:10;\" d=\"M 316.585938 223.84375 L 355.179688 339.074219 \"/>\n",
              "<path style=\"fill:none;stroke-width:1;stroke-linecap:butt;stroke-linejoin:miter;stroke:rgb(26.666667%,26.666667%,26.666667%);stroke-opacity:1;stroke-miterlimit:10;\" d=\"M 390.246094 307.660156 L 316.585938 223.84375 \"/>\n",
              "<path style=\"fill:none;stroke-width:1;stroke-linecap:butt;stroke-linejoin:miter;stroke:rgb(26.666667%,26.666667%,26.666667%);stroke-opacity:1;stroke-miterlimit:10;\" d=\"M 316.585938 223.84375 L 353.5625 220.039062 \"/>\n",
              "<path style=\"fill:none;stroke-width:1;stroke-linecap:butt;stroke-linejoin:miter;stroke:rgb(26.666667%,26.666667%,26.666667%);stroke-opacity:1;stroke-miterlimit:10;\" d=\"M 316.585938 223.84375 L 322.4375 268.777344 \"/>\n",
              "<path style=\"fill:none;stroke-width:1;stroke-linecap:butt;stroke-linejoin:miter;stroke:rgb(26.666667%,26.666667%,26.666667%);stroke-opacity:1;stroke-miterlimit:10;\" d=\"M 316.585938 223.84375 L 303.488281 336.617188 \"/>\n",
              "<path style=\"fill:none;stroke-width:1;stroke-linecap:butt;stroke-linejoin:miter;stroke:rgb(26.666667%,26.666667%,26.666667%);stroke-opacity:1;stroke-miterlimit:10;\" d=\"M 355.179688 339.074219 L 353.5625 220.039062 \"/>\n",
              "<path style=\"fill:none;stroke-width:1;stroke-linecap:butt;stroke-linejoin:miter;stroke:rgb(26.666667%,26.666667%,26.666667%);stroke-opacity:1;stroke-miterlimit:10;\" d=\"M 390.246094 307.660156 L 353.5625 220.039062 \"/>\n",
              "<path style=\"fill:none;stroke-width:1;stroke-linecap:butt;stroke-linejoin:miter;stroke:rgb(26.666667%,26.666667%,26.666667%);stroke-opacity:1;stroke-miterlimit:10;\" d=\"M 353.5625 220.039062 L 322.4375 268.777344 \"/>\n",
              "<path style=\"fill:none;stroke-width:1;stroke-linecap:butt;stroke-linejoin:miter;stroke:rgb(26.666667%,26.666667%,26.666667%);stroke-opacity:1;stroke-miterlimit:10;\" d=\"M 303.488281 336.617188 L 353.5625 220.039062 \"/>\n",
              "<path style=\"fill:none;stroke-width:1;stroke-linecap:butt;stroke-linejoin:miter;stroke:rgb(26.666667%,26.666667%,26.666667%);stroke-opacity:1;stroke-miterlimit:10;\" d=\"M 355.179688 339.074219 L 322.4375 268.777344 \"/>\n",
              "<path style=\"fill:none;stroke-width:1;stroke-linecap:butt;stroke-linejoin:miter;stroke:rgb(26.666667%,26.666667%,26.666667%);stroke-opacity:1;stroke-miterlimit:10;\" d=\"M 390.246094 307.660156 L 322.4375 268.777344 \"/>\n",
              "<path style=\"fill:none;stroke-width:1;stroke-linecap:butt;stroke-linejoin:miter;stroke:rgb(26.666667%,26.666667%,26.666667%);stroke-opacity:1;stroke-miterlimit:10;\" d=\"M 303.488281 336.617188 L 322.4375 268.777344 \"/>\n",
              "<path style=\"fill:none;stroke-width:1;stroke-linecap:butt;stroke-linejoin:miter;stroke:rgb(26.666667%,26.666667%,26.666667%);stroke-opacity:1;stroke-miterlimit:10;\" d=\"M 566.15625 279.273438 L 580 326.382812 \"/>\n",
              "<path style=\"fill:none;stroke-width:1;stroke-linecap:butt;stroke-linejoin:miter;stroke:rgb(26.666667%,26.666667%,26.666667%);stroke-opacity:1;stroke-miterlimit:10;\" d=\"M 534.804688 370.011719 L 580 326.382812 \"/>\n",
              "<path style=\"fill:none;stroke-width:1;stroke-linecap:butt;stroke-linejoin:miter;stroke:rgb(26.666667%,26.666667%,26.666667%);stroke-opacity:1;stroke-miterlimit:10;\" d=\"M 451.117188 321.96875 L 580 326.382812 \"/>\n",
              "<path style=\"fill:none;stroke-width:1;stroke-linecap:butt;stroke-linejoin:miter;stroke:rgb(26.666667%,26.666667%,26.666667%);stroke-opacity:1;stroke-miterlimit:10;\" d=\"M 575.117188 381.917969 L 451.117188 321.96875 \"/>\n",
              "<path style=\"fill:none;stroke-width:1;stroke-linecap:butt;stroke-linejoin:miter;stroke:rgb(26.666667%,26.666667%,26.666667%);stroke-opacity:1;stroke-miterlimit:10;\" d=\"M 566.15625 279.273438 L 534.804688 370.011719 \"/>\n",
              "<path style=\"fill:none;stroke-width:1;stroke-linecap:butt;stroke-linejoin:miter;stroke:rgb(26.666667%,26.666667%,26.666667%);stroke-opacity:1;stroke-miterlimit:10;\" d=\"M 566.15625 279.273438 L 451.117188 321.96875 \"/>\n",
              "<path style=\"fill:none;stroke-width:1;stroke-linecap:butt;stroke-linejoin:miter;stroke:rgb(26.666667%,26.666667%,26.666667%);stroke-opacity:1;stroke-miterlimit:10;\" d=\"M 536.808594 228.867188 L 486.878906 205.203125 \"/>\n",
              "<path style=\"fill:none;stroke-width:1;stroke-linecap:butt;stroke-linejoin:miter;stroke:rgb(26.666667%,26.666667%,26.666667%);stroke-opacity:1;stroke-miterlimit:10;\" d=\"M 448.757812 251.019531 L 486.878906 205.203125 \"/>\n",
              "<path style=\"fill:none;stroke-width:1;stroke-linecap:butt;stroke-linejoin:miter;stroke:rgb(26.666667%,26.666667%,26.666667%);stroke-opacity:1;stroke-miterlimit:10;\" d=\"M 451.117188 321.96875 L 486.878906 205.203125 \"/>\n",
              "<path style=\"fill:none;stroke-width:1;stroke-linecap:butt;stroke-linejoin:miter;stroke:rgb(26.666667%,26.666667%,26.666667%);stroke-opacity:1;stroke-miterlimit:10;\" d=\"M 536.808594 228.867188 L 448.757812 251.019531 \"/>\n",
              "<path style=\"fill:none;stroke-width:1;stroke-linecap:butt;stroke-linejoin:miter;stroke:rgb(26.666667%,26.666667%,26.666667%);stroke-opacity:1;stroke-miterlimit:10;\" d=\"M 536.808594 228.867188 L 451.117188 321.96875 \"/>\n",
              "<path style=\"fill:none;stroke-width:1;stroke-linecap:butt;stroke-linejoin:miter;stroke:rgb(26.666667%,26.666667%,26.666667%);stroke-opacity:1;stroke-miterlimit:10;\" d=\"M 499.570312 290.035156 L 448.757812 251.019531 \"/>\n",
              "<path style=\"fill:none;stroke-width:1;stroke-linecap:butt;stroke-linejoin:miter;stroke:rgb(26.666667%,26.666667%,26.666667%);stroke-opacity:1;stroke-miterlimit:10;\" d=\"M 448.757812 251.019531 L 355.179688 339.074219 \"/>\n",
              "<path style=\"fill:none;stroke-width:1;stroke-linecap:butt;stroke-linejoin:miter;stroke:rgb(26.666667%,26.666667%,26.666667%);stroke-opacity:1;stroke-miterlimit:10;\" d=\"M 448.757812 251.019531 L 451.117188 321.96875 \"/>\n",
              "<path style=\"fill:none;stroke-width:1;stroke-linecap:butt;stroke-linejoin:miter;stroke:rgb(26.666667%,26.666667%,26.666667%);stroke-opacity:1;stroke-miterlimit:10;\" d=\"M 440.765625 527.421875 L 465.410156 493.984375 \"/>\n",
              "<path style=\"fill:none;stroke-width:1;stroke-linecap:butt;stroke-linejoin:miter;stroke:rgb(26.666667%,26.666667%,26.666667%);stroke-opacity:1;stroke-miterlimit:10;\" d=\"M 515.003906 483.570312 L 465.410156 493.984375 \"/>\n",
              "<path style=\"fill:none;stroke-width:1;stroke-linecap:butt;stroke-linejoin:miter;stroke:rgb(26.666667%,26.666667%,26.666667%);stroke-opacity:1;stroke-miterlimit:10;\" d=\"M 376.195312 429.75 L 465.410156 493.984375 \"/>\n",
              "<path style=\"fill:none;stroke-width:1;stroke-linecap:butt;stroke-linejoin:miter;stroke:rgb(26.666667%,26.666667%,26.666667%);stroke-opacity:1;stroke-miterlimit:10;\" d=\"M 423.789062 394.117188 L 465.410156 493.984375 \"/>\n",
              "<path style=\"fill:none;stroke-width:1;stroke-linecap:butt;stroke-linejoin:miter;stroke:rgb(26.666667%,26.666667%,26.666667%);stroke-opacity:1;stroke-miterlimit:10;\" d=\"M 440.765625 527.421875 L 423.789062 394.117188 \"/>\n",
              "<path style=\"fill:none;stroke-width:1;stroke-linecap:butt;stroke-linejoin:miter;stroke:rgb(26.666667%,26.666667%,26.666667%);stroke-opacity:1;stroke-miterlimit:10;\" d=\"M 515.003906 483.570312 L 423.789062 394.117188 \"/>\n",
              "<path style=\"fill:none;stroke-width:1;stroke-linecap:butt;stroke-linejoin:miter;stroke:rgb(26.666667%,26.666667%,26.666667%);stroke-opacity:1;stroke-miterlimit:10;\" d=\"M 376.195312 429.75 L 361.472656 384.585938 \"/>\n",
              "<path style=\"fill:none;stroke-width:1;stroke-linecap:butt;stroke-linejoin:miter;stroke:rgb(26.666667%,26.666667%,26.666667%);stroke-opacity:1;stroke-miterlimit:10;\" d=\"M 376.195312 429.75 L 355.179688 339.074219 \"/>\n",
              "<path style=\"fill:none;stroke-width:1;stroke-linecap:butt;stroke-linejoin:miter;stroke:rgb(26.666667%,26.666667%,26.666667%);stroke-opacity:1;stroke-miterlimit:10;\" d=\"M 376.195312 429.75 L 303.488281 336.617188 \"/>\n",
              "<path style=\"fill:none;stroke-width:1;stroke-linecap:butt;stroke-linejoin:miter;stroke:rgb(26.666667%,26.666667%,26.666667%);stroke-opacity:1;stroke-miterlimit:10;\" d=\"M 423.789062 394.117188 L 376.195312 429.75 \"/>\n",
              "<path style=\"fill:none;stroke-width:1;stroke-linecap:butt;stroke-linejoin:miter;stroke:rgb(26.666667%,26.666667%,26.666667%);stroke-opacity:1;stroke-miterlimit:10;\" d=\"M 355.179688 339.074219 L 361.472656 384.585938 \"/>\n",
              "<path style=\"fill:none;stroke-width:1;stroke-linecap:butt;stroke-linejoin:miter;stroke:rgb(26.666667%,26.666667%,26.666667%);stroke-opacity:1;stroke-miterlimit:10;\" d=\"M 303.488281 336.617188 L 361.472656 384.585938 \"/>\n",
              "<path style=\"fill:none;stroke-width:1;stroke-linecap:butt;stroke-linejoin:miter;stroke:rgb(26.666667%,26.666667%,26.666667%);stroke-opacity:1;stroke-miterlimit:10;\" d=\"M 466.054688 371.257812 L 361.472656 384.585938 \"/>\n",
              "<path style=\"fill:none;stroke-width:1;stroke-linecap:butt;stroke-linejoin:miter;stroke:rgb(26.666667%,26.666667%,26.666667%);stroke-opacity:1;stroke-miterlimit:10;\" d=\"M 423.789062 394.117188 L 361.472656 384.585938 \"/>\n",
              "<path style=\"fill:none;stroke-width:1;stroke-linecap:butt;stroke-linejoin:miter;stroke:rgb(26.666667%,26.666667%,26.666667%);stroke-opacity:1;stroke-miterlimit:10;\" d=\"M 390.246094 307.660156 L 499.570312 290.035156 \"/>\n",
              "<path style=\"fill:none;stroke-width:1;stroke-linecap:butt;stroke-linejoin:miter;stroke:rgb(26.666667%,26.666667%,26.666667%);stroke-opacity:1;stroke-miterlimit:10;\" d=\"M 499.570312 290.035156 L 466.054688 371.257812 \"/>\n",
              "<path style=\"fill:none;stroke-width:1;stroke-linecap:butt;stroke-linejoin:miter;stroke:rgb(26.666667%,26.666667%,26.666667%);stroke-opacity:1;stroke-miterlimit:10;\" d=\"M 499.570312 290.035156 L 423.789062 394.117188 \"/>\n",
              "<path style=\"fill:none;stroke-width:1;stroke-linecap:butt;stroke-linejoin:miter;stroke:rgb(26.666667%,26.666667%,26.666667%);stroke-opacity:1;stroke-miterlimit:10;\" d=\"M 390.246094 307.660156 L 355.179688 339.074219 \"/>\n",
              "<path style=\"fill:none;stroke-width:1;stroke-linecap:butt;stroke-linejoin:miter;stroke:rgb(26.666667%,26.666667%,26.666667%);stroke-opacity:1;stroke-miterlimit:10;\" d=\"M 355.179688 339.074219 L 303.488281 336.617188 \"/>\n",
              "<path style=\"fill:none;stroke-width:1;stroke-linecap:butt;stroke-linejoin:miter;stroke:rgb(26.666667%,26.666667%,26.666667%);stroke-opacity:1;stroke-miterlimit:10;\" d=\"M 355.179688 339.074219 L 466.054688 371.257812 \"/>\n",
              "<path style=\"fill:none;stroke-width:1;stroke-linecap:butt;stroke-linejoin:miter;stroke:rgb(26.666667%,26.666667%,26.666667%);stroke-opacity:1;stroke-miterlimit:10;\" d=\"M 423.789062 394.117188 L 355.179688 339.074219 \"/>\n",
              "<path style=\"fill:none;stroke-width:1;stroke-linecap:butt;stroke-linejoin:miter;stroke:rgb(26.666667%,26.666667%,26.666667%);stroke-opacity:1;stroke-miterlimit:10;\" d=\"M 390.246094 307.660156 L 303.488281 336.617188 \"/>\n",
              "<path style=\"fill:none;stroke-width:1;stroke-linecap:butt;stroke-linejoin:miter;stroke:rgb(26.666667%,26.666667%,26.666667%);stroke-opacity:1;stroke-miterlimit:10;\" d=\"M 390.246094 307.660156 L 466.054688 371.257812 \"/>\n",
              "<path style=\"fill:none;stroke-width:1;stroke-linecap:butt;stroke-linejoin:miter;stroke:rgb(26.666667%,26.666667%,26.666667%);stroke-opacity:1;stroke-miterlimit:10;\" d=\"M 390.246094 307.660156 L 423.789062 394.117188 \"/>\n",
              "<path style=\"fill:none;stroke-width:1;stroke-linecap:butt;stroke-linejoin:miter;stroke:rgb(26.666667%,26.666667%,26.666667%);stroke-opacity:1;stroke-miterlimit:10;\" d=\"M 303.488281 336.617188 L 451.117188 321.96875 \"/>\n",
              "<path style=\"fill:none;stroke-width:1;stroke-linecap:butt;stroke-linejoin:miter;stroke:rgb(26.666667%,26.666667%,26.666667%);stroke-opacity:1;stroke-miterlimit:10;\" d=\"M 423.789062 394.117188 L 303.488281 336.617188 \"/>\n",
              "<path style=\"fill:none;stroke-width:1;stroke-linecap:butt;stroke-linejoin:miter;stroke:rgb(26.666667%,26.666667%,26.666667%);stroke-opacity:1;stroke-miterlimit:10;\" d=\"M 534.804688 370.011719 L 466.054688 371.257812 \"/>\n",
              "<path style=\"fill:none;stroke-width:1;stroke-linecap:butt;stroke-linejoin:miter;stroke:rgb(26.666667%,26.666667%,26.666667%);stroke-opacity:1;stroke-miterlimit:10;\" d=\"M 534.804688 370.011719 L 451.117188 321.96875 \"/>\n",
              "<path style=\"fill:none;stroke-width:1;stroke-linecap:butt;stroke-linejoin:miter;stroke:rgb(26.666667%,26.666667%,26.666667%);stroke-opacity:1;stroke-miterlimit:10;\" d=\"M 534.804688 370.011719 L 519.285156 421.648438 \"/>\n",
              "<path style=\"fill:none;stroke-width:1;stroke-linecap:butt;stroke-linejoin:miter;stroke:rgb(26.666667%,26.666667%,26.666667%);stroke-opacity:1;stroke-miterlimit:10;\" d=\"M 423.789062 394.117188 L 534.804688 370.011719 \"/>\n",
              "<path style=\"fill:none;stroke-width:1;stroke-linecap:butt;stroke-linejoin:miter;stroke:rgb(26.666667%,26.666667%,26.666667%);stroke-opacity:1;stroke-miterlimit:10;\" d=\"M 451.117188 321.96875 L 466.054688 371.257812 \"/>\n",
              "<path style=\"fill:none;stroke-width:1;stroke-linecap:butt;stroke-linejoin:miter;stroke:rgb(26.666667%,26.666667%,26.666667%);stroke-opacity:1;stroke-miterlimit:10;\" d=\"M 519.285156 421.648438 L 466.054688 371.257812 \"/>\n",
              "<path style=\"fill:none;stroke-width:1;stroke-linecap:butt;stroke-linejoin:miter;stroke:rgb(26.666667%,26.666667%,26.666667%);stroke-opacity:1;stroke-miterlimit:10;\" d=\"M 423.789062 394.117188 L 466.054688 371.257812 \"/>\n",
              "<path style=\"fill:none;stroke-width:1;stroke-linecap:butt;stroke-linejoin:miter;stroke:rgb(26.666667%,26.666667%,26.666667%);stroke-opacity:1;stroke-miterlimit:10;\" d=\"M 519.285156 421.648438 L 451.117188 321.96875 \"/>\n",
              "<path style=\"fill:none;stroke-width:1;stroke-linecap:butt;stroke-linejoin:miter;stroke:rgb(26.666667%,26.666667%,26.666667%);stroke-opacity:1;stroke-miterlimit:10;\" d=\"M 423.789062 394.117188 L 451.117188 321.96875 \"/>\n",
              "<path style=\"fill:none;stroke-width:1;stroke-linecap:butt;stroke-linejoin:miter;stroke:rgb(26.666667%,26.666667%,26.666667%);stroke-opacity:1;stroke-miterlimit:10;\" d=\"M 423.789062 394.117188 L 519.285156 421.648438 \"/>\n",
              "<path style=\"fill-rule:nonzero;fill:rgb(100%,0%,0%);fill-opacity:1;stroke-width:1;stroke-linecap:butt;stroke-linejoin:miter;stroke:rgb(0%,0%,0%);stroke-opacity:1;stroke-miterlimit:10;\" d=\"M 251.894531 246.453125 C 251.894531 249.785156 246.894531 249.785156 246.894531 246.453125 C 246.894531 243.117188 251.894531 243.117188 251.894531 246.453125 \"/>\n",
              "<path style=\"fill-rule:nonzero;fill:rgb(100%,0%,0%);fill-opacity:1;stroke-width:1;stroke-linecap:butt;stroke-linejoin:miter;stroke:rgb(0%,0%,0%);stroke-opacity:1;stroke-miterlimit:10;\" d=\"M 392.746094 307.660156 C 392.746094 310.996094 387.746094 310.996094 387.746094 307.660156 C 387.746094 304.328125 392.746094 304.328125 392.746094 307.660156 \"/>\n",
              "<path style=\"fill-rule:nonzero;fill:rgb(100%,0%,0%);fill-opacity:1;stroke-width:1;stroke-linecap:butt;stroke-linejoin:miter;stroke:rgb(0%,0%,0%);stroke-opacity:1;stroke-miterlimit:10;\" d=\"M 568.65625 279.273438 C 568.65625 282.605469 563.65625 282.605469 563.65625 279.273438 C 563.65625 275.9375 568.65625 275.9375 568.65625 279.273438 \"/>\n",
              "<path style=\"fill-rule:nonzero;fill:rgb(100%,0%,0%);fill-opacity:1;stroke-width:1;stroke-linecap:butt;stroke-linejoin:miter;stroke:rgb(0%,0%,0%);stroke-opacity:1;stroke-miterlimit:10;\" d=\"M 99.292969 431.941406 C 99.292969 435.273438 94.292969 435.273438 94.292969 431.941406 C 94.292969 428.605469 99.292969 428.605469 99.292969 431.941406 \"/>\n",
              "<path style=\"fill-rule:nonzero;fill:rgb(100%,0%,0%);fill-opacity:1;stroke-width:1;stroke-linecap:butt;stroke-linejoin:miter;stroke:rgb(0%,0%,0%);stroke-opacity:1;stroke-miterlimit:10;\" d=\"M 22.5 517.613281 C 22.5 520.945312 17.5 520.945312 17.5 517.613281 C 17.5 514.277344 22.5 514.277344 22.5 517.613281 \"/>\n",
              "<path style=\"fill-rule:nonzero;fill:rgb(100%,0%,0%);fill-opacity:1;stroke-width:1;stroke-linecap:butt;stroke-linejoin:miter;stroke:rgb(0%,0%,0%);stroke-opacity:1;stroke-miterlimit:10;\" d=\"M 313.351562 442.089844 C 313.351562 445.421875 308.351562 445.421875 308.351562 442.089844 C 308.351562 438.757812 313.351562 438.757812 313.351562 442.089844 \"/>\n",
              "<path style=\"fill-rule:nonzero;fill:rgb(100%,0%,0%);fill-opacity:1;stroke-width:1;stroke-linecap:butt;stroke-linejoin:miter;stroke:rgb(0%,0%,0%);stroke-opacity:1;stroke-miterlimit:10;\" d=\"M 374.167969 269.523438 C 374.167969 272.859375 369.167969 272.859375 369.167969 269.523438 C 369.167969 266.191406 374.167969 266.191406 374.167969 269.523438 \"/>\n",
              "<path style=\"fill-rule:nonzero;fill:rgb(100%,0%,0%);fill-opacity:1;stroke-width:1;stroke-linecap:butt;stroke-linejoin:miter;stroke:rgb(0%,0%,0%);stroke-opacity:1;stroke-miterlimit:10;\" d=\"M 502.070312 290.035156 C 502.070312 293.367188 497.070312 293.367188 497.070312 290.035156 C 497.070312 286.703125 502.070312 286.703125 502.070312 290.035156 \"/>\n",
              "<path style=\"fill-rule:nonzero;fill:rgb(100%,0%,0%);fill-opacity:1;stroke-width:1;stroke-linecap:butt;stroke-linejoin:miter;stroke:rgb(0%,0%,0%);stroke-opacity:1;stroke-miterlimit:10;\" d=\"M 539.308594 228.867188 C 539.308594 232.199219 534.308594 232.199219 534.308594 228.867188 C 534.308594 225.535156 539.308594 225.535156 539.308594 228.867188 \"/>\n",
              "<path style=\"fill-rule:nonzero;fill:rgb(100%,0%,0%);fill-opacity:1;stroke-width:1;stroke-linecap:butt;stroke-linejoin:miter;stroke:rgb(0%,0%,0%);stroke-opacity:1;stroke-miterlimit:10;\" d=\"M 228.566406 305.765625 C 228.566406 309.101562 223.566406 309.101562 223.566406 305.765625 C 223.566406 302.433594 228.566406 302.433594 228.566406 305.765625 \"/>\n",
              "<path style=\"fill-rule:nonzero;fill:rgb(100%,0%,0%);fill-opacity:1;stroke-width:1;stroke-linecap:butt;stroke-linejoin:miter;stroke:rgb(0%,0%,0%);stroke-opacity:1;stroke-miterlimit:10;\" d=\"M 84.839844 400.980469 C 84.839844 404.316406 79.839844 404.316406 79.839844 400.980469 C 79.839844 397.648438 84.839844 397.648438 84.839844 400.980469 \"/>\n",
              "<path style=\"fill-rule:nonzero;fill:rgb(100%,0%,0%);fill-opacity:1;stroke-width:1;stroke-linecap:butt;stroke-linejoin:miter;stroke:rgb(0%,0%,0%);stroke-opacity:1;stroke-miterlimit:10;\" d=\"M 443.265625 527.421875 C 443.265625 530.753906 438.265625 530.753906 438.265625 527.421875 C 438.265625 524.089844 443.265625 524.089844 443.265625 527.421875 \"/>\n",
              "<path style=\"fill-rule:nonzero;fill:rgb(100%,0%,0%);fill-opacity:1;stroke-width:1;stroke-linecap:butt;stroke-linejoin:miter;stroke:rgb(0%,0%,0%);stroke-opacity:1;stroke-miterlimit:10;\" d=\"M 229.800781 575.242188 C 229.800781 578.574219 224.800781 578.574219 224.800781 575.242188 C 224.800781 571.910156 229.800781 571.910156 229.800781 575.242188 \"/>\n",
              "<path style=\"fill-rule:nonzero;fill:rgb(100%,0%,0%);fill-opacity:1;stroke-width:1;stroke-linecap:butt;stroke-linejoin:miter;stroke:rgb(0%,0%,0%);stroke-opacity:1;stroke-miterlimit:10;\" d=\"M 114.8125 497.113281 C 114.8125 500.449219 109.8125 500.449219 109.8125 497.113281 C 109.8125 493.78125 114.8125 493.78125 114.8125 497.113281 \"/>\n",
              "<path style=\"fill-rule:nonzero;fill:rgb(100%,0%,0%);fill-opacity:1;stroke-width:1;stroke-linecap:butt;stroke-linejoin:miter;stroke:rgb(0%,0%,0%);stroke-opacity:1;stroke-miterlimit:10;\" d=\"M 180.269531 258.261719 C 180.269531 261.59375 175.269531 261.59375 175.269531 258.261719 C 175.269531 254.925781 180.269531 254.925781 180.269531 258.261719 \"/>\n",
              "<path style=\"fill-rule:nonzero;fill:rgb(100%,0%,0%);fill-opacity:1;stroke-width:1;stroke-linecap:butt;stroke-linejoin:miter;stroke:rgb(0%,0%,0%);stroke-opacity:1;stroke-miterlimit:10;\" d=\"M 60.8125 258.707031 C 60.8125 262.042969 55.8125 262.042969 55.8125 258.707031 C 55.8125 255.375 60.8125 255.375 60.8125 258.707031 \"/>\n",
              "<path style=\"fill-rule:nonzero;fill:rgb(100%,0%,0%);fill-opacity:1;stroke-width:1;stroke-linecap:butt;stroke-linejoin:miter;stroke:rgb(0%,0%,0%);stroke-opacity:1;stroke-miterlimit:10;\" d=\"M 42.871094 289.191406 C 42.871094 292.523438 37.871094 292.523438 37.871094 289.191406 C 37.871094 285.859375 42.871094 285.859375 42.871094 289.191406 \"/>\n",
              "<path style=\"fill-rule:nonzero;fill:rgb(100%,0%,0%);fill-opacity:1;stroke-width:1;stroke-linecap:butt;stroke-linejoin:miter;stroke:rgb(0%,0%,0%);stroke-opacity:1;stroke-miterlimit:10;\" d=\"M 517.503906 483.570312 C 517.503906 486.90625 512.503906 486.90625 512.503906 483.570312 C 512.503906 480.238281 517.503906 480.238281 517.503906 483.570312 \"/>\n",
              "<path style=\"fill-rule:nonzero;fill:rgb(100%,0%,0%);fill-opacity:1;stroke-width:1;stroke-linecap:butt;stroke-linejoin:miter;stroke:rgb(0%,0%,0%);stroke-opacity:1;stroke-miterlimit:10;\" d=\"M 319.085938 223.84375 C 319.085938 227.175781 314.085938 227.175781 314.085938 223.84375 C 314.085938 220.511719 319.085938 220.511719 319.085938 223.84375 \"/>\n",
              "<path style=\"fill-rule:nonzero;fill:rgb(100%,0%,0%);fill-opacity:1;stroke-width:1;stroke-linecap:butt;stroke-linejoin:miter;stroke:rgb(0%,0%,0%);stroke-opacity:1;stroke-miterlimit:10;\" d=\"M 451.257812 251.019531 C 451.257812 254.355469 446.257812 254.355469 446.257812 251.019531 C 446.257812 247.6875 451.257812 247.6875 451.257812 251.019531 \"/>\n",
              "<path style=\"fill-rule:nonzero;fill:rgb(100%,0%,0%);fill-opacity:1;stroke-width:1;stroke-linecap:butt;stroke-linejoin:miter;stroke:rgb(0%,0%,0%);stroke-opacity:1;stroke-miterlimit:10;\" d=\"M 426.289062 394.117188 C 426.289062 397.453125 421.289062 397.453125 421.289062 394.117188 C 421.289062 390.785156 426.289062 390.785156 426.289062 394.117188 \"/>\n",
              "<path style=\"fill-rule:nonzero;fill:rgb(100%,0%,0%);fill-opacity:1;stroke-width:1;stroke-linecap:butt;stroke-linejoin:miter;stroke:rgb(0%,0%,0%);stroke-opacity:1;stroke-miterlimit:10;\" d=\"M 86.289062 297.097656 C 86.289062 300.429688 81.289062 300.429688 81.289062 297.097656 C 81.289062 293.765625 86.289062 293.765625 86.289062 297.097656 \"/>\n",
              "<path style=\"fill-rule:nonzero;fill:rgb(100%,0%,0%);fill-opacity:1;stroke-width:1;stroke-linecap:butt;stroke-linejoin:miter;stroke:rgb(0%,0%,0%);stroke-opacity:1;stroke-miterlimit:10;\" d=\"M 196.875 375.402344 C 196.875 378.734375 191.875 378.734375 191.875 375.402344 C 191.875 372.070312 196.875 372.070312 196.875 375.402344 \"/>\n",
              "<path style=\"fill-rule:nonzero;fill:rgb(100%,0%,0%);fill-opacity:1;stroke-width:1;stroke-linecap:butt;stroke-linejoin:miter;stroke:rgb(0%,0%,0%);stroke-opacity:1;stroke-miterlimit:10;\" d=\"M 180.570312 554.792969 C 180.570312 558.125 175.570312 558.125 175.570312 554.792969 C 175.570312 551.460938 180.570312 551.460938 180.570312 554.792969 \"/>\n",
              "<path style=\"fill-rule:nonzero;fill:rgb(100%,0%,0%);fill-opacity:1;stroke-width:1;stroke-linecap:butt;stroke-linejoin:miter;stroke:rgb(0%,0%,0%);stroke-opacity:1;stroke-miterlimit:10;\" d=\"M 132.167969 540.839844 C 132.167969 544.171875 127.167969 544.171875 127.167969 540.839844 C 127.167969 537.503906 132.167969 537.503906 132.167969 540.839844 \"/>\n",
              "<path style=\"fill-rule:nonzero;fill:rgb(100%,0%,0%);fill-opacity:1;stroke-width:1;stroke-linecap:butt;stroke-linejoin:miter;stroke:rgb(0%,0%,0%);stroke-opacity:1;stroke-miterlimit:10;\" d=\"M 537.304688 370.011719 C 537.304688 373.34375 532.304688 373.34375 532.304688 370.011719 C 532.304688 366.679688 537.304688 366.679688 537.304688 370.011719 \"/>\n",
              "<path style=\"fill-rule:nonzero;fill:rgb(100%,0%,0%);fill-opacity:1;stroke-width:1;stroke-linecap:butt;stroke-linejoin:miter;stroke:rgb(0%,0%,0%);stroke-opacity:1;stroke-miterlimit:10;\" d=\"M 166.335938 149.238281 C 166.335938 152.570312 161.335938 152.570312 161.335938 149.238281 C 161.335938 145.902344 166.335938 145.902344 166.335938 149.238281 \"/>\n",
              "<path style=\"fill-rule:nonzero;fill:rgb(100%,0%,0%);fill-opacity:1;stroke-width:1;stroke-linecap:butt;stroke-linejoin:miter;stroke:rgb(0%,0%,0%);stroke-opacity:1;stroke-miterlimit:10;\" d=\"M 378.695312 429.75 C 378.695312 433.082031 373.695312 433.082031 373.695312 429.75 C 373.695312 426.414062 378.695312 426.414062 378.695312 429.75 \"/>\n",
              "<path style=\"fill-rule:nonzero;fill:rgb(100%,0%,0%);fill-opacity:1;stroke-width:1;stroke-linecap:butt;stroke-linejoin:miter;stroke:rgb(0%,0%,0%);stroke-opacity:1;stroke-miterlimit:10;\" d=\"M 139.816406 133.402344 C 139.816406 136.734375 134.816406 136.734375 134.816406 133.402344 C 134.816406 130.066406 139.816406 130.066406 139.816406 133.402344 \"/>\n",
              "<path style=\"fill-rule:nonzero;fill:rgb(100%,0%,0%);fill-opacity:1;stroke-width:1;stroke-linecap:butt;stroke-linejoin:miter;stroke:rgb(0%,0%,0%);stroke-opacity:1;stroke-miterlimit:10;\" d=\"M 521.785156 421.648438 C 521.785156 424.984375 516.785156 424.984375 516.785156 421.648438 C 516.785156 418.316406 521.785156 418.316406 521.785156 421.648438 \"/>\n",
              "<path style=\"fill-rule:nonzero;fill:rgb(100%,0%,0%);fill-opacity:1;stroke-width:1;stroke-linecap:butt;stroke-linejoin:miter;stroke:rgb(0%,0%,0%);stroke-opacity:1;stroke-miterlimit:10;\" d=\"M 365.289062 580 C 365.289062 583.332031 360.289062 583.332031 360.289062 580 C 360.289062 576.667969 365.289062 576.667969 365.289062 580 \"/>\n",
              "<path style=\"fill-rule:nonzero;fill:rgb(100%,0%,0%);fill-opacity:1;stroke-width:1;stroke-linecap:butt;stroke-linejoin:miter;stroke:rgb(0%,0%,0%);stroke-opacity:1;stroke-miterlimit:10;\" d=\"M 342.195312 454.679688 C 342.195312 458.011719 337.195312 458.011719 337.195312 454.679688 C 337.195312 451.347656 342.195312 451.347656 342.195312 454.679688 \"/>\n",
              "<path style=\"fill-rule:nonzero;fill:rgb(100%,0%,0%);fill-opacity:1;stroke-width:1;stroke-linecap:butt;stroke-linejoin:miter;stroke:rgb(0%,0%,0%);stroke-opacity:1;stroke-miterlimit:10;\" d=\"M 357.679688 339.074219 C 357.679688 342.40625 352.679688 342.40625 352.679688 339.074219 C 352.679688 335.742188 357.679688 335.742188 357.679688 339.074219 \"/>\n",
              "<path style=\"fill-rule:nonzero;fill:rgb(100%,0%,0%);fill-opacity:1;stroke-width:1;stroke-linecap:butt;stroke-linejoin:miter;stroke:rgb(0%,0%,0%);stroke-opacity:1;stroke-miterlimit:10;\" d=\"M 94.183594 179.824219 C 94.183594 183.15625 89.183594 183.15625 89.183594 179.824219 C 89.183594 176.488281 94.183594 176.488281 94.183594 179.824219 \"/>\n",
              "<path style=\"fill-rule:nonzero;fill:rgb(100%,0%,0%);fill-opacity:1;stroke-width:1;stroke-linecap:butt;stroke-linejoin:miter;stroke:rgb(0%,0%,0%);stroke-opacity:1;stroke-miterlimit:10;\" d=\"M 577.617188 381.917969 C 577.617188 385.25 572.617188 385.25 572.617188 381.917969 C 572.617188 378.585938 577.617188 378.585938 577.617188 381.917969 \"/>\n",
              "<path style=\"fill-rule:nonzero;fill:rgb(100%,0%,0%);fill-opacity:1;stroke-width:1;stroke-linecap:butt;stroke-linejoin:miter;stroke:rgb(0%,0%,0%);stroke-opacity:1;stroke-miterlimit:10;\" d=\"M 305.988281 336.617188 C 305.988281 339.949219 300.988281 339.949219 300.988281 336.617188 C 300.988281 333.285156 305.988281 333.285156 305.988281 336.617188 \"/>\n",
              "<path style=\"fill-rule:nonzero;fill:rgb(100%,0%,0%);fill-opacity:1;stroke-width:1;stroke-linecap:butt;stroke-linejoin:miter;stroke:rgb(0%,0%,0%);stroke-opacity:1;stroke-miterlimit:10;\" d=\"M 119.449219 220.789062 C 119.449219 224.121094 114.449219 224.121094 114.449219 220.789062 C 114.449219 217.457031 119.449219 217.457031 119.449219 220.789062 \"/>\n",
              "<path style=\"fill-rule:nonzero;fill:rgb(100%,0%,0%);fill-opacity:1;stroke-width:1;stroke-linecap:butt;stroke-linejoin:miter;stroke:rgb(0%,0%,0%);stroke-opacity:1;stroke-miterlimit:10;\" d=\"M 292.09375 548.140625 C 292.09375 551.472656 287.09375 551.472656 287.09375 548.140625 C 287.09375 544.804688 292.09375 544.804688 292.09375 548.140625 \"/>\n",
              "<path style=\"fill-rule:nonzero;fill:rgb(100%,0%,0%);fill-opacity:1;stroke-width:1;stroke-linecap:butt;stroke-linejoin:miter;stroke:rgb(0%,0%,0%);stroke-opacity:1;stroke-miterlimit:10;\" d=\"M 385.953125 130.410156 C 385.953125 133.742188 380.953125 133.742188 380.953125 130.410156 C 380.953125 127.074219 385.953125 127.074219 385.953125 130.410156 \"/>\n",
              "<path style=\"fill-rule:nonzero;fill:rgb(100%,0%,0%);fill-opacity:1;stroke-width:1;stroke-linecap:butt;stroke-linejoin:miter;stroke:rgb(0%,0%,0%);stroke-opacity:1;stroke-miterlimit:10;\" d=\"M 254.578125 354.578125 C 254.578125 357.914062 249.578125 357.914062 249.578125 354.578125 C 249.578125 351.246094 254.578125 351.246094 254.578125 354.578125 \"/>\n",
              "<path style=\"fill-rule:nonzero;fill:rgb(100%,0%,0%);fill-opacity:1;stroke-width:1;stroke-linecap:butt;stroke-linejoin:miter;stroke:rgb(0%,0%,0%);stroke-opacity:1;stroke-miterlimit:10;\" d=\"M 290.800781 262.59375 C 290.800781 265.925781 285.800781 265.925781 285.800781 262.59375 C 285.800781 259.261719 290.800781 259.261719 290.800781 262.59375 \"/>\n",
              "<path style=\"fill-rule:nonzero;fill:rgb(100%,0%,0%);fill-opacity:1;stroke-width:1;stroke-linecap:butt;stroke-linejoin:miter;stroke:rgb(0%,0%,0%);stroke-opacity:1;stroke-miterlimit:10;\" d=\"M 466.480469 20 C 466.480469 23.332031 461.480469 23.332031 461.480469 20 C 461.480469 16.667969 466.480469 16.667969 466.480469 20 \"/>\n",
              "<path style=\"fill-rule:nonzero;fill:rgb(100%,0%,0%);fill-opacity:1;stroke-width:1;stroke-linecap:butt;stroke-linejoin:miter;stroke:rgb(0%,0%,0%);stroke-opacity:1;stroke-miterlimit:10;\" d=\"M 463.726562 165.183594 C 463.726562 168.515625 458.726562 168.515625 458.726562 165.183594 C 458.726562 161.851562 463.726562 161.851562 463.726562 165.183594 \"/>\n",
              "<path style=\"fill-rule:nonzero;fill:rgb(100%,0%,0%);fill-opacity:1;stroke-width:1;stroke-linecap:butt;stroke-linejoin:miter;stroke:rgb(0%,0%,0%);stroke-opacity:1;stroke-miterlimit:10;\" d=\"M 453.617188 321.96875 C 453.617188 325.304688 448.617188 325.304688 448.617188 321.96875 C 448.617188 318.636719 453.617188 318.636719 453.617188 321.96875 \"/>\n",
              "<path style=\"fill-rule:nonzero;fill:rgb(100%,0%,0%);fill-opacity:1;stroke-width:1;stroke-linecap:butt;stroke-linejoin:miter;stroke:rgb(0%,0%,0%);stroke-opacity:1;stroke-miterlimit:10;\" d=\"M 582.5 326.382812 C 582.5 329.71875 577.5 329.71875 577.5 326.382812 C 577.5 323.050781 582.5 323.050781 582.5 326.382812 \"/>\n",
              "<path style=\"fill-rule:nonzero;fill:rgb(100%,0%,0%);fill-opacity:1;stroke-width:1;stroke-linecap:butt;stroke-linejoin:miter;stroke:rgb(0%,0%,0%);stroke-opacity:1;stroke-miterlimit:10;\" d=\"M 423.5 118.511719 C 423.5 121.84375 418.5 121.84375 418.5 118.511719 C 418.5 115.179688 423.5 115.179688 423.5 118.511719 \"/>\n",
              "<path style=\"fill-rule:nonzero;fill:rgb(100%,0%,0%);fill-opacity:1;stroke-width:1;stroke-linecap:butt;stroke-linejoin:miter;stroke:rgb(0%,0%,0%);stroke-opacity:1;stroke-miterlimit:10;\" d=\"M 264.585938 425.742188 C 264.585938 429.078125 259.585938 429.078125 259.585938 425.742188 C 259.585938 422.410156 264.585938 422.410156 264.585938 425.742188 \"/>\n",
              "<path style=\"fill-rule:nonzero;fill:rgb(100%,0%,0%);fill-opacity:1;stroke-width:1;stroke-linecap:butt;stroke-linejoin:miter;stroke:rgb(0%,0%,0%);stroke-opacity:1;stroke-miterlimit:10;\" d=\"M 467.910156 493.984375 C 467.910156 497.316406 462.910156 497.316406 462.910156 493.984375 C 462.910156 490.648438 467.910156 490.648438 467.910156 493.984375 \"/>\n",
              "<path style=\"fill-rule:nonzero;fill:rgb(100%,0%,0%);fill-opacity:1;stroke-width:1;stroke-linecap:butt;stroke-linejoin:miter;stroke:rgb(0%,0%,0%);stroke-opacity:1;stroke-miterlimit:10;\" d=\"M 489.378906 205.203125 C 489.378906 208.539062 484.378906 208.539062 484.378906 205.203125 C 484.378906 201.871094 489.378906 201.871094 489.378906 205.203125 \"/>\n",
              "<path style=\"fill-rule:nonzero;fill:rgb(100%,0%,0%);fill-opacity:1;stroke-width:1;stroke-linecap:butt;stroke-linejoin:miter;stroke:rgb(0%,0%,0%);stroke-opacity:1;stroke-miterlimit:10;\" d=\"M 311.785156 408.390625 C 311.785156 411.722656 306.785156 411.722656 306.785156 408.390625 C 306.785156 405.054688 311.785156 405.054688 311.785156 408.390625 \"/>\n",
              "<path style=\"fill-rule:nonzero;fill:rgb(100%,0%,0%);fill-opacity:1;stroke-width:1;stroke-linecap:butt;stroke-linejoin:miter;stroke:rgb(0%,0%,0%);stroke-opacity:1;stroke-miterlimit:10;\" d=\"M 468.554688 371.257812 C 468.554688 374.59375 463.554688 374.59375 463.554688 371.257812 C 463.554688 367.925781 468.554688 367.925781 468.554688 371.257812 \"/>\n",
              "<path style=\"fill-rule:nonzero;fill:rgb(100%,0%,0%);fill-opacity:1;stroke-width:1;stroke-linecap:butt;stroke-linejoin:miter;stroke:rgb(0%,0%,0%);stroke-opacity:1;stroke-miterlimit:10;\" d=\"M 199.699219 124.328125 C 199.699219 127.660156 194.699219 127.660156 194.699219 124.328125 C 194.699219 120.996094 199.699219 120.996094 199.699219 124.328125 \"/>\n",
              "<path style=\"fill-rule:nonzero;fill:rgb(100%,0%,0%);fill-opacity:1;stroke-width:1;stroke-linecap:butt;stroke-linejoin:miter;stroke:rgb(0%,0%,0%);stroke-opacity:1;stroke-miterlimit:10;\" d=\"M 356.0625 220.039062 C 356.0625 223.375 351.0625 223.375 351.0625 220.039062 C 351.0625 216.707031 356.0625 216.707031 356.0625 220.039062 \"/>\n",
              "<path style=\"fill-rule:nonzero;fill:rgb(100%,0%,0%);fill-opacity:1;stroke-width:1;stroke-linecap:butt;stroke-linejoin:miter;stroke:rgb(0%,0%,0%);stroke-opacity:1;stroke-miterlimit:10;\" d=\"M 78.121094 231.523438 C 78.121094 234.855469 73.121094 234.855469 73.121094 231.523438 C 73.121094 228.1875 78.121094 228.1875 78.121094 231.523438 \"/>\n",
              "<path style=\"fill-rule:nonzero;fill:rgb(100%,0%,0%);fill-opacity:1;stroke-width:1;stroke-linecap:butt;stroke-linejoin:miter;stroke:rgb(0%,0%,0%);stroke-opacity:1;stroke-miterlimit:10;\" d=\"M 98.980469 332.179688 C 98.980469 335.511719 93.980469 335.511719 93.980469 332.179688 C 93.980469 328.84375 98.980469 328.84375 98.980469 332.179688 \"/>\n",
              "<path style=\"fill-rule:nonzero;fill:rgb(100%,0%,0%);fill-opacity:1;stroke-width:1;stroke-linecap:butt;stroke-linejoin:miter;stroke:rgb(0%,0%,0%);stroke-opacity:1;stroke-miterlimit:10;\" d=\"M 324.9375 268.777344 C 324.9375 272.109375 319.9375 272.109375 319.9375 268.777344 C 319.9375 265.445312 324.9375 265.445312 324.9375 268.777344 \"/>\n",
              "<path style=\"fill-rule:nonzero;fill:rgb(100%,0%,0%);fill-opacity:1;stroke-width:1;stroke-linecap:butt;stroke-linejoin:miter;stroke:rgb(0%,0%,0%);stroke-opacity:1;stroke-miterlimit:10;\" d=\"M 399.554688 230.617188 C 399.554688 233.949219 394.554688 233.949219 394.554688 230.617188 C 394.554688 227.285156 399.554688 227.285156 399.554688 230.617188 \"/>\n",
              "<path style=\"fill-rule:nonzero;fill:rgb(100%,0%,0%);fill-opacity:1;stroke-width:1;stroke-linecap:butt;stroke-linejoin:miter;stroke:rgb(0%,0%,0%);stroke-opacity:1;stroke-miterlimit:10;\" d=\"M 204.96875 445.699219 C 204.96875 449.035156 199.96875 449.035156 199.96875 445.699219 C 199.96875 442.367188 204.96875 442.367188 204.96875 445.699219 \"/>\n",
              "<path style=\"fill-rule:nonzero;fill:rgb(100%,0%,0%);fill-opacity:1;stroke-width:1;stroke-linecap:butt;stroke-linejoin:miter;stroke:rgb(0%,0%,0%);stroke-opacity:1;stroke-miterlimit:10;\" d=\"M 276.199219 376.023438 C 276.199219 379.355469 271.199219 379.355469 271.199219 376.023438 C 271.199219 372.691406 276.199219 372.691406 276.199219 376.023438 \"/>\n",
              "<path style=\"fill-rule:nonzero;fill:rgb(100%,0%,0%);fill-opacity:1;stroke-width:1;stroke-linecap:butt;stroke-linejoin:miter;stroke:rgb(0%,0%,0%);stroke-opacity:1;stroke-miterlimit:10;\" d=\"M 363.972656 384.585938 C 363.972656 387.917969 358.972656 387.917969 358.972656 384.585938 C 358.972656 381.253906 363.972656 381.253906 363.972656 384.585938 \"/>\n",
              "</g>\n",
              "</svg>\n"
            ],
            "text/plain": [
              "<igraph.drawing.Plot at 0x7faa10d01ed0>"
            ]
          },
          "execution_count": 3,
          "metadata": {
            "image/svg+xml": {
              "isolated": true
            }
          },
          "output_type": "execute_result"
        }
      ],
      "source": [
        "# {\"6_1\"}\n",
        "#Laden des Datensatzes \"Terrornetzwerk_Datensatz.csv\"\n",
        "terrornet = pd.read_csv('https://raw.githubusercontent.com/larsmoe/SAPS-BSDA-Kurs/master/Problemsets%20Python/PS_Nr_3_Python/Terrornetzwerk_Datensatz.csv', sep=\";\", header=None)\n",
        "#Erstellen des Graphen g_terrornet\n",
        "g_terrornet = Graph.DataFrame(edges=terrornet, directed=False)\n",
        "#Plotten des Graphen g_terrornet\n",
        "plot(g_terrornet, vertex_label=g_terrornet.vs.indices)"
      ]
    },
    {
      "cell_type": "markdown",
      "metadata": {
        "id": "z5QphEY1wWV9"
      },
      "source": [
        "Das Netzwerk besteht aus den 19 Flugzeugentführern des Anschlags am 11. September 2001 und weiteren verbündeten Terroristen (Krebs, 2002). Insgesamt sind 60 Terroristen mit 151 Verbindungen berücksichtigt. Im Laufe dieser Aufgabe wollen wir herausfinden, welche der hier erfassten Terroristen in diesem Netzwerk eine **zentrale** Rolle spielen - in Bezug auf\n",
        "* die **Anzahl der direkten Kontakte** im Terrornetzwerk \n",
        "* die **Kürze der Distanz** zu allen anderen Kontakten \n",
        "* die Rolle bei der **Weitergabe von Informationen**"
      ]
    },
    {
      "cell_type": "markdown",
      "metadata": {
        "id": "5WYyFXKYwWV9"
      },
      "source": [
        "## a) Degree Centrality"
      ]
    },
    {
      "cell_type": "markdown",
      "metadata": {
        "id": "4QxFTe5zwWV-"
      },
      "source": [
        "In einem ungerichteten Netzwerk lässt sich die Zentralität eines Knotens beispielsweise über die (ungerichtete) **Degree Centrality** bestimmen. Sie gibt die *Anzahl der direkten Nachbarn des betrachteten Knotens* an - bezieht sich also auf den ersten der drei oben genannten Kontexte - und bestimmt sich über die folgende Formel:\n",
        "$$C_D(n_i)=\\sum_{j=1, i \\neq j}^{|N|} A_{ij}$$\n",
        "\n",
        "In Python können Sie dieses Zentralitätsmaß bereits mit einem Ihnen bekannten Befehl berechnen lassen: dem Befehl zur Ermittlung der Anzahl der aus- bzw. eingehenden Kanten eines Knotens *graph.degree(vertices)* mit *vertices* als betrachtetem Knoten. Per default werden im Argument *vertices* alle Knoten des Netzwerkes betrachtet. In einem Fall weicht der Befehl jedoch von dem zur Berechnung des Node Degree ab: Falls der Knoten eine Kante zu sich selbst (Schleife) besitzt, so darf diese nicht berücksichtigt werden. In der Funktion *degree* erreicht man dies durch das Argument *loops=False* (per default auf *True* gesetzt).  \n",
        "Aus der Degree Centrality cann durch Division mit dem maximialen Degree im Netzwerk auch die normalisierte Degree Centrality berechnet werden. Den Code dazu müssen Sie nicht selbst schreiben. Er steht bereits in der Zelle. "
      ]
    },
    {
      "cell_type": "markdown",
      "metadata": {
        "id": "sQLLyOEzwWV-"
      },
      "source": [
        "### Aufgabe 6.2"
      ]
    },
    {
      "cell_type": "markdown",
      "metadata": {
        "id": "UtuNzkNxwWV_"
      },
      "source": [
        "- - -\n",
        "*Aufgabe:* Im nächsten Code-Chunk sollen die Degree Centrality für alle Knoten des (ungerichteten) Terrornetzwerks berechnet und anschließend in absteigender Reihenfolge sortiert werden (normal und normalisierte Degree Centrality). Damit erhalten Sie eine Auskunft darüber, welche Knoten die meisten direkten Kontakte besitzen. Dazu benötigen Sie unter anderem die Funktion *sorted(x, reverse)*, welche den Vektor *x* sortiert zurückgibt - in absteigender Reihenfolge mithilfe von *reverse=True*.\n",
        "- - -"
      ]
    },
    {
      "cell_type": "code",
      "execution_count": null,
      "metadata": {
        "colab": {
          "base_uri": "https://localhost:8080/"
        },
        "id": "StiI-Zd3wWV_",
        "outputId": "e98941a4-fe2f-4afb-dea4-aa91b333e0cf"
      },
      "outputs": [
        {
          "name": "stdout",
          "output_type": "stream",
          "text": [
            "[22, 18, 13, 11, 11, 10]\n",
            "[1.0, 0.8181818181818182, 0.5909090909090909, 0.5, 0.5, 0.45454545454545453]\n"
          ]
        }
      ],
      "source": [
        "# {r \"6_2\"}\n",
        "#Berechnen Sie die Degree Centrality für alle Knoten in g_terrornet\n",
        "#und speichern Sie die Werte in der Variable C_D_terror\n",
        "\n",
        "#Berechnen der normalisierten Degree Centrality\n",
        "C_Dnorm_terror = [degree / g_terrornet.maxdegree() for degree in C_D_terror]\n",
        "#Sortieren Sie die Vektoren und wählen Sie die ersten 6 Zeilen der Ergebnisse\n",
        "\n",
        "#Lassen Sie sich beide Variablen ausgeben\n",
        "print(C_D_terror_main)\n",
        "print(C_Dnorm_terror_main)"
      ]
    },
    {
      "cell_type": "markdown",
      "metadata": {},
      "source": [
        "#### Tipps"
      ]
    },
    {
      "cell_type": "markdown",
      "metadata": {},
      "source": [
        "##### Tipp 1"
      ]
    },
    {
      "cell_type": "markdown",
      "metadata": {},
      "source": [
        "Rufen Sie den Befehl *graph.degree(loops=False)* auf"
      ]
    },
    {
      "cell_type": "markdown",
      "metadata": {},
      "source": [
        "##### Tipp 2"
      ]
    },
    {
      "cell_type": "markdown",
      "metadata": {},
      "source": [
        "Verwenden Sie zum sortieren den Befehl *sorted(Ergebnis aus der ersten Berechnung, reverse=True)*"
      ]
    },
    {
      "cell_type": "markdown",
      "metadata": {},
      "source": [
        "##### Tipp 3"
      ]
    },
    {
      "cell_type": "markdown",
      "metadata": {},
      "source": [
        "Erinnern Sie sich, dass Sie mit [0:6] am Ende eines Befehls nur die ersten 6 Zeilen des Ergebnisses ausgeben können"
      ]
    },
    {
      "cell_type": "markdown",
      "metadata": {},
      "source": [
        "##### Lösung"
      ]
    },
    {
      "cell_type": "markdown",
      "metadata": {},
      "source": [
        "Berechnen Sie die Degree Centrality für alle Knoten in g_terrornet und speichern Sie die Werte in der Variable C_D_terror\n",
        "<br><br>*C_D_terror = g_terrornet.degree(loops=False)*\n",
        "<br><br>Berechnen der normalisierten Degree Centrality\n",
        "<br><br>*C_Dnorm_terror = [degree / g_terrornet.maxdegree() for degree in C_D_terror]*\n",
        "<br><br>Sortieren Sie die Vektoren und wählen Sie die ersten 6 Zeilen der Ergebnisse indem Sie den folgenen Code ergänzen\n",
        "<br><br>*C_D_terror_main = sorted(C_D_terror, reverse=True)[0:6]*\n",
        "*C_Dnorm_terror_main = sorted(C_Dnorm_terror, reverse=True)[0:6]*\n",
        "<br><br>Lassen Sie sich beide Variablen ausgeben\n",
        "<br><br>*print(C_D_terror_main)*\n",
        "*print(C_Dnorm_terror_main)*"
      ]
    },
    {
      "cell_type": "markdown",
      "metadata": {},
      "source": [
        "#### Erklärung"
      ]
    },
    {
      "cell_type": "markdown",
      "metadata": {
        "id": "EjjA9eX7wWWA"
      },
      "source": [
        "Bei dem hier betrachteten Netzwerk handelt es sich um ein ungerichtetes Netzwerk. Für *gerichtete Netzwerke* unterscheidet man - wie Sie im Skript bereits erfahren haben - die **(normierte) In-Degree** und die **(normierte) Out-Degree Centrality**. Diese beiden Zentralitätsmaße lassen sich jedoch ebenfalls mit dem gleichen Befehl berechnen. Dazu muss ein zusätzlicher Parameter *mode*, welcher bei ungerichteten Graphen ignoriert wird, entsprechend auf *\"in\"* (für In-Degree Centrality) bzw. *\"out\"* (für Out-Degree Centrality) gesetzt werden.\n",
        "\n",
        "*Anmerkung: Die folgenden beiden Zentralitätsmaße - Closeness Centrality und Betweenness Centrality - werden im Rahmen dieser Veranstaltung lediglich für ungerichtete Netzwerke betrachtet.*\n",
        "\n",
        "### b) Closeness Centrality\n",
        "Ein weiteres Zentralitätsmaß ist die **Closeness Centrality**. Sie ist eine hilfreiche Messgröße, um zu bestimmen, wie schnell ein Terrorist mit den anderen Verbündeten im Netzwerk Informationen austauschen kann: Je größer die Closeness Centrality, desto *kürzer sind die Informationswege zu allen anderen Terroristen*. Die Closeness Centrality\n",
        "$$C_C(n_i)=\\frac{1}{\\sum_{j \\neq i}d(n_i,n_j)}$$\n",
        "kann im Package *'igraph'* mit dem Befehl *graph.closeness(vertices, mode, normalized)* ermittelt werden. Dabei bezeichnet *vertices* die Knoten, für die $C_C$ bestimmt werden soll (per default alle Knoten des Netzwerks) und mit dem Argument *normalized=True* kann die *normierte Closeness Centrality* bestimmt werden.  \n",
        "Nun stellt sich die Frage, welche der im Netzwerk erfassten Terroristen am gefährlichsten in Bezug auf die Geschwindigkeit der Informationsweitergabe sind."
      ]
    },
    {
      "cell_type": "markdown",
      "metadata": {
        "id": "SAU4-SM7wWWA"
      },
      "source": [
        "### Aufgabe 6.3"
      ]
    },
    {
      "cell_type": "markdown",
      "metadata": {
        "id": "-BIAOrvNwWWA"
      },
      "source": [
        "- - -\n",
        "*Aufgabe:* Ermitteln Sie dies auf analoge Weise zum letzten Code-Chunk. Da das grundsätzliche Vorgehen sich hier wiederholt, sind Teile des Codes bereits vorgegeben.\n",
        "- - - "
      ]
    },
    {
      "cell_type": "code",
      "execution_count": null,
      "metadata": {
        "colab": {
          "base_uri": "https://localhost:8080/"
        },
        "id": "pAX8LMTYwWWA",
        "outputId": "eb6b513f-a307-4ebe-a22a-6654e87d8654"
      },
      "outputs": [
        {
          "data": {
            "text/plain": [
              "[0.6020408163265306,\n",
              " 0.48360655737704916,\n",
              " 0.4573643410852713,\n",
              " 0.4573643410852713,\n",
              " 0.44360902255639095,\n",
              " 0.43703703703703706]"
            ]
          },
          "execution_count": 5,
          "metadata": {},
          "output_type": "execute_result"
        }
      ],
      "source": [
        "# {\"6_3\"}\n",
        "#Berechnen Sie die Closeness Centrality für alle Knoten in g_terrornet\n",
        "#und speichern Sie die Werte in der Variable C_C_terror\n",
        "\n",
        "#Verfahren Sie analog für die normierte Closeness Centrality und\n",
        "#speichern Sie das Ergebnis in der Variable C_Cnorm_terror\n",
        "\n",
        "#Ermittlung der ersten sechs Werte des absteigend sortierten \n",
        "#Vektors C_C_terror bzw. C_Cnorm_terror; \n",
        "#Speichern der Werte in den Variablen C_C_terror_main bzw. C_Cnorm_terror_main\n",
        "# Verwenden Sie hier analog den Code aus der vorherigen Aufgabe\n",
        "C_C_terror_main = sorted(C_C_terror, reverse=True)[0:6]\n",
        "C_Cnorm_terror_main = sorted(C_Cnorm_terror, reverse=True)[0:6]\n",
        "#Ausgabe der beiden Variablen\n",
        "print(C_C_terror_main)\n",
        "print(C_Cnorm_terror_main)"
      ]
    },
    {
      "cell_type": "markdown",
      "metadata": {},
      "source": [
        "#### Tipps"
      ]
    },
    {
      "cell_type": "markdown",
      "metadata": {},
      "source": [
        "##### Tipp 1"
      ]
    },
    {
      "cell_type": "markdown",
      "metadata": {},
      "source": [
        "Rufen Sie den Befehl der Fom *graph.closeness(normalized=False)* auf"
      ]
    },
    {
      "cell_type": "markdown",
      "metadata": {},
      "source": [
        "##### Lösung"
      ]
    },
    {
      "cell_type": "markdown",
      "metadata": {},
      "source": [
        "Berechnen Sie die Closeness Centrality für alle Knoten in g_terrornet und speichern Sie die Werte in der Variable C_C_terror\n",
        "<br><br>*C_C_terror = g_terrornet.closeness(normalized=False)*\n",
        "<br><br>Verfahren Sie analog für die normierte Closeness Centrality und speichern Sie das Ergebnis in der Variable C_Cnorm_terror\n",
        "<br><br>*C_Cnorm_terror = g_terrornet.closeness(normalized=True)*"
      ]
    },
    {
      "cell_type": "markdown",
      "metadata": {
        "id": "cxnE66k-wWWB"
      },
      "source": [
        "Auch die Closeness Centrality kann für gerichtete Netzwerke berechnet werden. Da sie die kürzesten Pfade betrachtet, bietet der Befehl *closeness* erneut im Argument *mode* drei Möglichkeiten an: *\"in\"* zur Betrachtung der im Knoten *eingehenden* Kanten, *\"out\"* zur Betrachtung der vom Knoten *ausgehenden* Kanten und *\"all\"* zur Betrachtung *ungerichteter* Kanten an Stelle der gerichteten. Das soll an dieser Stelle jedoch nicht weiter vertieft werden."
      ]
    },
    {
      "cell_type": "markdown",
      "metadata": {
        "id": "Grf4uNiDwWWB"
      },
      "source": [
        "## c) Betweenness Centrality"
      ]
    },
    {
      "cell_type": "markdown",
      "metadata": {
        "id": "7syYNT0jwWWB"
      },
      "source": [
        "Abschließend bleibt die Frage, über welche hier erfassten Terroristen am meisten Informationen geleitet werden, da sie *auf vielen kürzesten Verbindungen zwischen anderen Terroristen* liegen. Dazu betrachten wir die im Skript für ungerichtete Netzwerke eingeführte **Betweenness Centrality**\n",
        "$$C_B(n_i) = \\sum_{j=1, i \\neq j}^{|N|} \\sum_{k>j, k \\neq i}^{|N|} \\frac{g_{jk}(n_i)}{g_{jk}}$$\n",
        "Im Package *'igraph'* kann $C_B(n_i)$ mit dem Befehl *graph.betweenness(vertices)* bestimmt werden. Leider bietet diese Funktion keine Möglichkeit zur Berechnung der normierten Betweenness Centrality, weshalb wir an dieser Stelle auf diese Metrik verzichten."
      ]
    },
    {
      "cell_type": "markdown",
      "metadata": {
        "id": "YEsff_JcwWWB"
      },
      "source": [
        "### Aufgabe 6.4"
      ]
    },
    {
      "cell_type": "markdown",
      "metadata": {
        "id": "2oiZQKDuwWWB"
      },
      "source": [
        "- - -\n",
        "*Aufgabe:* Wenden Sie den entsprechenden Befehl an, um die Betweenness Centrality für jedes Mitglied des Terroristennetzwerks zu ermitteln. Auch hier ist der Code gegeben, welcher die zentralsten Mitglieder in Bezug auf die Informationsweitergabe identifiziert und ihre Zentralitätsmaße ausgibt.\n",
        "- - - "
      ]
    },
    {
      "cell_type": "code",
      "execution_count": null,
      "metadata": {
        "colab": {
          "base_uri": "https://localhost:8080/"
        },
        "id": "q3QFQwKfwWWB",
        "outputId": "9315e99a-82aa-4589-d7f7-16d62a1bf9d8"
      },
      "outputs": [
        {
          "name": "stdout",
          "output_type": "stream",
          "text": [
            "[999.2298590298589, 457.9734432234432, 298.5333333333333, 269.90158730158737, 221.33069985569983, 163.83145465645464]\n"
          ]
        }
      ],
      "source": [
        "# {\"6_4\"}\n",
        "#Berechnen Sie die Betweenness Centrality für alle Knoten in g_terrornet\n",
        "#und speichern Sie die Werte in der Variable C_B_terror\n",
        "\n",
        "\n",
        "#Ermittlung der ersten sechs Werte des absteigend sortierten \n",
        "#Vektors C_B_terror\n",
        "#Speichern der Werte in den Variablen C_B_terror_main\n",
        "C_B_terror_main = sorted(C_B_terror, reverse=True)[0:6]\n",
        "\n",
        "#Ausgabe der Variable\n",
        "print(C_B_terror_main)"
      ]
    },
    {
      "cell_type": "markdown",
      "metadata": {},
      "source": [
        "#### Tipps"
      ]
    },
    {
      "cell_type": "markdown",
      "metadata": {},
      "source": [
        "##### Tipp 1"
      ]
    },
    {
      "cell_type": "markdown",
      "metadata": {},
      "source": [
        "Wenden Sie den Befehld der Form *graph.betweenness()* an"
      ]
    },
    {
      "cell_type": "markdown",
      "metadata": {},
      "source": [
        "##### Lösung"
      ]
    },
    {
      "cell_type": "markdown",
      "metadata": {},
      "source": [
        "C_B_terror = g_terrornet.betweenness()"
      ]
    },
    {
      "cell_type": "markdown",
      "metadata": {
        "id": "uXDPmU7hwWWC"
      },
      "source": [
        "## d) Prestige-basierte Zentralitätsmaße: Eigenvector Centrality und Google's PageRank"
      ]
    },
    {
      "cell_type": "markdown",
      "metadata": {
        "id": "VX8eBvjKwWWC"
      },
      "source": [
        "Testen wir nun, ob dieser Knoten auch nach der Eigenvector Centrality als zentral eingestuft wird. Gerade bei diesem Zentralitätsmaß ist Python besonders hilfreich, da die händische Berechnung hier schlecht möglich ist.  \n",
        "Der Befehl *graph.eigenvector_centrality(directed, weights)* aus dem Package *'igraph'* bestimmt die Eigenvector Centrality aller Knoten für gerichtete sowie ungerichtete Graphen. Dies kann mit dem Argument *directed* spezifiziert werden, welches per default auf *True* gesetzt ist."
      ]
    },
    {
      "cell_type": "markdown",
      "metadata": {
        "id": "WCDDLSXlwWWC"
      },
      "source": [
        "### Aufgabe 6.5"
      ]
    },
    {
      "cell_type": "markdown",
      "metadata": {
        "id": "BQ3uWg0zwWWC"
      },
      "source": [
        "- - -\n",
        "*Aufgabe:* Wenden Sie im folgenden Code-Chunk den Befehl an. Beachten Sie, dass das Argument *weights* im betrachteten Netzwerk keine Rolle spielt, da es sich um ein ungewichtetes Netzwerk handelt.\n",
        "- - -"
      ]
    },
    {
      "cell_type": "code",
      "execution_count": null,
      "metadata": {
        "id": "QERhbDPuwWWC"
      },
      "outputs": [],
      "source": [
        "# {\"6_5\"}\n",
        "#Berechnen Sie die Eigenvector Centrality für alle Knoten von g_terrornet\n",
        "#und speichern Sie die ausgegebene Liste in der Variable C_E_terror\n"
      ]
    },
    {
      "cell_type": "markdown",
      "metadata": {},
      "source": [
        "#### Tipps"
      ]
    },
    {
      "cell_type": "markdown",
      "metadata": {},
      "source": [
        "##### Tipp 1"
      ]
    },
    {
      "cell_type": "markdown",
      "metadata": {},
      "source": [
        "Wenden Sie en Befehl der Form *graph.eigenvector_centrality()* an"
      ]
    },
    {
      "cell_type": "markdown",
      "metadata": {},
      "source": [
        "##### Lösung"
      ]
    },
    {
      "cell_type": "markdown",
      "metadata": {},
      "source": [
        "C_E_terror =g_terrornet.eigenvector_centrality()"
      ]
    },
    {
      "cell_type": "markdown",
      "metadata": {
        "id": "MSxaR4MWwWWC"
      },
      "source": [
        "### Aufgabe 6.6"
      ]
    },
    {
      "cell_type": "markdown",
      "metadata": {
        "id": "xo2uPmSOwWWD"
      },
      "source": [
        "Schauen Sie sich den folgenden Code an und führen Sie ihn aus. Der Code liefert den Knoten im Netzwerk mit der größten Eigenvector Centrality und gibt zudem den Wert dafür aus. Das *+ 1* ist für uns als Hilfe gedacht, da in Python die Indexierung bei 0 beginnt, wir aber den 0. Knoten eigentlich als 1. Knoten bezeichnen würden."
      ]
    },
    {
      "cell_type": "code",
      "execution_count": null,
      "metadata": {
        "colab": {
          "base_uri": "https://localhost:8080/"
        },
        "id": "Eb_wFpHTwWWD",
        "outputId": "3450f808-4d46-4fbf-f2d0-cb3d4d8d352e"
      },
      "outputs": [
        {
          "name": "stdout",
          "output_type": "stream",
          "text": [
            "36\n",
            "1.0\n"
          ]
        }
      ],
      "source": [
        "# {\"6_6\"}\n",
        "#Bestimmung des Knotens mit der größten Eigenvector Centrality\n",
        "print(C_E_terror.index(max(C_E_terror)) + 1)\n",
        "#Bestimmung dieses größten Eigenvector Centrality-Werts im Netzwerk\n",
        "print(max(C_E_terror))"
      ]
    },
    {
      "cell_type": "markdown",
      "metadata": {
        "id": "Zck2UlFFwWWD"
      },
      "source": [
        "### Aufgabe 6.7"
      ]
    },
    {
      "cell_type": "markdown",
      "metadata": {
        "id": "49aHuhvIwWWD"
      },
      "source": [
        "Wie Sie sehen, ist dieser Knoten sogar bezüglich des vierten Zentralitätsmaßes der zentralste Knoten.\n",
        "\n",
        "Zum Abschluss dieser Aufgabe wenden wir Google's PageRank-Algorithmus auf einen *gerichteten Graphen* an: Dazu beschäftigen wir uns erneut dem Netzwerk *Karate*. Laden Sie erneut die Daten hierfür und plotten Sie den Graphen, indem Sie den folgenden Code ausführen."
      ]
    },
    {
      "cell_type": "code",
      "execution_count": null,
      "metadata": {
        "id": "RXiPRKmXwWWD"
      },
      "outputs": [],
      "source": [
        "# {\"6_7\"}\n",
        "# Import des Karate Netzwerks\n",
        "karate = pd.read_csv('https://raw.githubusercontent.com/larsmoe/SAPS-BSDA-Kurs/master/Problemsets%20Python/PS_Nr_2_Python/data/Karate/KARATE.csv', sep=\";\", header=None, names=['A','B'])\n",
        "karate = karate.subtract(1)\n",
        "\n",
        "# Mithilfe der Rohdaten werden jetzt die Kanten generiert, die als Input für das igraph package dienen\n",
        "def create_edge_list(node_list1, node_list2):\n",
        "    edge_list = []\n",
        "    for node_1, node_2 in zip(node_list1, node_list2):\n",
        "        edge = (node_1, node_2)\n",
        "        edge_list.append(edge)\n",
        "    return edge_list\n",
        "\n",
        "karate_edges = create_edge_list(karate['A'].to_list(), karate['B'].to_list())"
      ]
    },
    {
      "cell_type": "code",
      "execution_count": null,
      "metadata": {
        "colab": {
          "base_uri": "https://localhost:8080/",
          "height": 821
        },
        "id": "88QHZVT4wWWD",
        "outputId": "47b51ca1-56bd-441d-d878-c5af30b73ac7"
      },
      "outputs": [
        {
          "data": {
            "image/svg+xml": [
              "<?xml version=\"1.0\" encoding=\"UTF-8\"?>\n",
              "<svg xmlns=\"http://www.w3.org/2000/svg\" xmlns:xlink=\"http://www.w3.org/1999/xlink\" width=\"600pt\" height=\"600pt\" viewBox=\"0 0 600 600\" version=\"1.1\">\n",
              "<g id=\"surface8\">\n",
              "<rect x=\"0\" y=\"0\" width=\"600\" height=\"600\" style=\"fill:rgb(100%,100%,100%);fill-opacity:1;stroke:none;\"/>\n",
              "<path style=\"fill:none;stroke-width:1;stroke-linecap:butt;stroke-linejoin:miter;stroke:rgb(26.666667%,26.666667%,26.666667%);stroke-opacity:1;stroke-miterlimit:10;\" d=\"M 241.0625 266.414062 C 237.730469 276.257812 239.515625 288.316406 248.832031 290.113281 \"/>\n",
              "<path style=\" stroke:none;fill-rule:nonzero;fill:rgb(26.666667%,26.666667%,26.666667%);fill-opacity:1;\" d=\"M 262.839844 292.820312 L 247.953125 294.664062 L 249.714844 285.5625 L 262.839844 292.820312 \"/>\n",
              "<path style=\"fill:none;stroke-width:1;stroke-linecap:butt;stroke-linejoin:miter;stroke:rgb(26.666667%,26.666667%,26.666667%);stroke-opacity:1;stroke-miterlimit:10;\" d=\"M 241.0625 266.414062 C 247.535156 311.484375 273.109375 341.601562 318.382812 343.625 \"/>\n",
              "<path style=\" stroke:none;fill-rule:nonzero;fill:rgb(26.666667%,26.666667%,26.666667%);fill-opacity:1;\" d=\"M 332.636719 344.265625 L 318.175781 348.257812 L 318.589844 338.996094 L 332.636719 344.265625 \"/>\n",
              "<path style=\"fill:none;stroke-width:1;stroke-linecap:butt;stroke-linejoin:miter;stroke:rgb(26.666667%,26.666667%,26.666667%);stroke-opacity:1;stroke-miterlimit:10;\" d=\"M 241.0625 266.414062 C 268.441406 280.5625 296.296875 279.003906 314 254.15625 \"/>\n",
              "<path style=\" stroke:none;fill-rule:nonzero;fill:rgb(26.666667%,26.666667%,26.666667%);fill-opacity:1;\" d=\"M 322.28125 242.539062 L 317.777344 256.847656 L 310.226562 251.46875 L 322.28125 242.539062 \"/>\n",
              "<path style=\"fill:none;stroke-width:1;stroke-linecap:butt;stroke-linejoin:miter;stroke:rgb(26.666667%,26.666667%,26.666667%);stroke-opacity:1;stroke-miterlimit:10;\" d=\"M 241.0625 266.414062 C 227.515625 222.148438 197.125 195.960938 151.308594 200.933594 \"/>\n",
              "<path style=\" stroke:none;fill-rule:nonzero;fill:rgb(26.666667%,26.666667%,26.666667%);fill-opacity:1;\" d=\"M 137.125 202.472656 L 150.808594 196.324219 L 151.808594 205.539062 L 137.125 202.472656 \"/>\n",
              "<path style=\"fill:none;stroke-width:1;stroke-linecap:butt;stroke-linejoin:miter;stroke:rgb(26.666667%,26.666667%,26.666667%);stroke-opacity:1;stroke-miterlimit:10;\" d=\"M 241.0625 266.414062 C 195.671875 243.078125 151.980469 247.191406 120.304688 286.972656 \"/>\n",
              "<path style=\" stroke:none;fill-rule:nonzero;fill:rgb(26.666667%,26.666667%,26.666667%);fill-opacity:1;\" d=\"M 111.417969 298.132812 L 116.679688 284.085938 L 123.929688 289.859375 L 111.417969 298.132812 \"/>\n",
              "<path style=\"fill:none;stroke-width:1;stroke-linecap:butt;stroke-linejoin:miter;stroke:rgb(26.666667%,26.666667%,26.666667%);stroke-opacity:1;stroke-miterlimit:10;\" d=\"M 241.0625 266.414062 C 203.25 227.871094 158.160156 217.660156 112.957031 246.863281 \"/>\n",
              "<path style=\" stroke:none;fill-rule:nonzero;fill:rgb(26.666667%,26.666667%,26.666667%);fill-opacity:1;\" d=\"M 100.972656 254.605469 L 110.441406 242.96875 L 115.472656 250.757812 L 100.972656 254.605469 \"/>\n",
              "<path style=\"fill:none;stroke-width:1;stroke-linecap:butt;stroke-linejoin:miter;stroke:rgb(26.666667%,26.666667%,26.666667%);stroke-opacity:1;stroke-miterlimit:10;\" d=\"M 241.0625 266.414062 C 255.535156 277.171875 273.324219 279.832031 284.335938 266.230469 \"/>\n",
              "<path style=\" stroke:none;fill-rule:nonzero;fill:rgb(26.666667%,26.666667%,26.666667%);fill-opacity:1;\" d=\"M 293.3125 255.140625 L 287.9375 269.144531 L 280.734375 263.3125 L 293.3125 255.140625 \"/>\n",
              "<path style=\"fill:none;stroke-width:1;stroke-linecap:butt;stroke-linejoin:miter;stroke:rgb(26.666667%,26.666667%,26.666667%);stroke-opacity:1;stroke-miterlimit:10;\" d=\"M 241.0625 266.414062 C 231.234375 317.699219 247.894531 359.308594 296.046875 379.035156 \"/>\n",
              "<path style=\" stroke:none;fill-rule:nonzero;fill:rgb(26.666667%,26.666667%,26.666667%);fill-opacity:1;\" d=\"M 309.246094 384.441406 L 294.289062 383.324219 L 297.800781 374.746094 L 309.246094 384.441406 \"/>\n",
              "<path style=\"fill:none;stroke-width:1;stroke-linecap:butt;stroke-linejoin:miter;stroke:rgb(26.666667%,26.666667%,26.666667%);stroke-opacity:1;stroke-miterlimit:10;\" d=\"M 241.0625 266.414062 C 218.722656 238 188.675781 226.714844 157.25 244.03125 \"/>\n",
              "<path style=\" stroke:none;fill-rule:nonzero;fill:rgb(26.666667%,26.666667%,26.666667%);fill-opacity:1;\" d=\"M 144.757812 250.917969 L 155.011719 239.972656 L 159.488281 248.089844 L 144.757812 250.917969 \"/>\n",
              "<path style=\"fill:none;stroke-width:1;stroke-linecap:butt;stroke-linejoin:miter;stroke:rgb(26.666667%,26.666667%,26.666667%);stroke-opacity:1;stroke-miterlimit:10;\" d=\"M 241.0625 266.414062 C 264.863281 220.085938 260.601562 175.574219 220.046875 143.1875 \"/>\n",
              "<path style=\" stroke:none;fill-rule:nonzero;fill:rgb(26.666667%,26.666667%,26.666667%);fill-opacity:1;\" d=\"M 208.898438 134.285156 L 222.9375 139.566406 L 217.152344 146.8125 L 208.898438 134.285156 \"/>\n",
              "<path style=\"fill:none;stroke-width:1;stroke-linecap:butt;stroke-linejoin:miter;stroke:rgb(26.666667%,26.666667%,26.666667%);stroke-opacity:1;stroke-miterlimit:10;\" d=\"M 241.0625 266.414062 C 286.246094 253.140625 313.164062 222.542969 308.703125 175.867188 \"/>\n",
              "<path style=\" stroke:none;fill-rule:nonzero;fill:rgb(26.666667%,26.666667%,26.666667%);fill-opacity:1;\" d=\"M 307.347656 161.664062 L 313.316406 175.425781 L 304.089844 176.304688 L 307.347656 161.664062 \"/>\n",
              "<path style=\"fill:none;stroke-width:1;stroke-linecap:butt;stroke-linejoin:miter;stroke:rgb(26.666667%,26.666667%,26.666667%);stroke-opacity:1;stroke-miterlimit:10;\" d=\"M 241.0625 266.414062 C 248.339844 297.472656 268.265625 318.199219 299.757812 315.570312 \"/>\n",
              "<path style=\" stroke:none;fill-rule:nonzero;fill:rgb(26.666667%,26.666667%,26.666667%);fill-opacity:1;\" d=\"M 313.972656 314.386719 L 300.140625 320.191406 L 299.371094 310.953125 L 313.972656 314.386719 \"/>\n",
              "<path style=\"fill:none;stroke-width:1;stroke-linecap:butt;stroke-linejoin:miter;stroke:rgb(26.666667%,26.666667%,26.666667%);stroke-opacity:1;stroke-miterlimit:10;\" d=\"M 241.0625 266.414062 C 262.507812 250.984375 272.621094 228.71875 260.019531 205.90625 \"/>\n",
              "<path style=\" stroke:none;fill-rule:nonzero;fill:rgb(26.666667%,26.666667%,26.666667%);fill-opacity:1;\" d=\"M 253.117188 193.417969 L 264.074219 203.664062 L 255.960938 208.148438 L 253.117188 193.417969 \"/>\n",
              "<path style=\"fill:none;stroke-width:1;stroke-linecap:butt;stroke-linejoin:miter;stroke:rgb(26.666667%,26.666667%,26.666667%);stroke-opacity:1;stroke-miterlimit:10;\" d=\"M 241.0625 266.414062 C 218.136719 296.445312 214.6875 329.652344 240.292969 357.085938 \"/>\n",
              "<path style=\" stroke:none;fill-rule:nonzero;fill:rgb(26.666667%,26.666667%,26.666667%);fill-opacity:1;\" d=\"M 250.027344 367.515625 L 236.902344 360.25 L 243.679688 353.925781 L 250.027344 367.515625 \"/>\n",
              "<path style=\"fill:none;stroke-width:1;stroke-linecap:butt;stroke-linejoin:miter;stroke:rgb(26.666667%,26.666667%,26.666667%);stroke-opacity:1;stroke-miterlimit:10;\" d=\"M 241.0625 266.414062 C 245.113281 249.085938 240.53125 231.878906 223.886719 227.3125 \"/>\n",
              "<path style=\" stroke:none;fill-rule:nonzero;fill:rgb(26.666667%,26.666667%,26.666667%);fill-opacity:1;\" d=\"M 210.128906 223.539062 L 225.113281 222.84375 L 222.660156 231.785156 L 210.128906 223.539062 \"/>\n",
              "<path style=\"fill:none;stroke-width:1;stroke-linecap:butt;stroke-linejoin:miter;stroke:rgb(26.666667%,26.666667%,26.666667%);stroke-opacity:1;stroke-miterlimit:10;\" d=\"M 241.0625 266.414062 C 271.144531 329.179688 321.511719 359.210938 389.195312 343.605469 \"/>\n",
              "<path style=\" stroke:none;fill-rule:nonzero;fill:rgb(26.666667%,26.666667%,26.666667%);fill-opacity:1;\" d=\"M 403.097656 340.398438 L 390.238281 348.121094 L 388.15625 339.085938 L 403.097656 340.398438 \"/>\n",
              "<path style=\"fill:none;stroke-width:1;stroke-linecap:butt;stroke-linejoin:miter;stroke:rgb(26.666667%,26.666667%,26.666667%);stroke-opacity:1;stroke-miterlimit:10;\" d=\"M 272.839844 294.753906 C 276.175781 284.910156 274.386719 272.851562 265.070312 271.054688 \"/>\n",
              "<path style=\" stroke:none;fill-rule:nonzero;fill:rgb(26.666667%,26.666667%,26.666667%);fill-opacity:1;\" d=\"M 251.0625 268.347656 L 265.949219 266.503906 L 264.191406 275.605469 L 251.0625 268.347656 \"/>\n",
              "<path style=\"fill:none;stroke-width:1;stroke-linecap:butt;stroke-linejoin:miter;stroke:rgb(26.666667%,26.666667%,26.666667%);stroke-opacity:1;stroke-miterlimit:10;\" d=\"M 272.839844 294.753906 C 275.714844 322.609375 290.816406 343.398438 318.476562 344.097656 \"/>\n",
              "<path style=\" stroke:none;fill-rule:nonzero;fill:rgb(26.666667%,26.666667%,26.666667%);fill-opacity:1;\" d=\"M 332.738281 344.457031 L 318.359375 348.730469 L 318.59375 339.464844 L 332.738281 344.457031 \"/>\n",
              "<path style=\"fill:none;stroke-width:1;stroke-linecap:butt;stroke-linejoin:miter;stroke:rgb(26.666667%,26.666667%,26.666667%);stroke-opacity:1;stroke-miterlimit:10;\" d=\"M 272.839844 294.753906 C 299.152344 295.515625 320.644531 284.011719 324.457031 258.332031 \"/>\n",
              "<path style=\" stroke:none;fill-rule:nonzero;fill:rgb(26.666667%,26.666667%,26.666667%);fill-opacity:1;\" d=\"M 326.550781 244.21875 L 329.042969 259.011719 L 319.871094 257.652344 L 326.550781 244.21875 \"/>\n",
              "<path style=\"fill:none;stroke-width:1;stroke-linecap:butt;stroke-linejoin:miter;stroke:rgb(26.666667%,26.666667%,26.666667%);stroke-opacity:1;stroke-miterlimit:10;\" d=\"M 272.839844 294.753906 C 288.011719 294.089844 301.703125 286.183594 301.015625 271.632812 \"/>\n",
              "<path style=\" stroke:none;fill-rule:nonzero;fill:rgb(26.666667%,26.666667%,26.666667%);fill-opacity:1;\" d=\"M 300.347656 257.382812 L 305.648438 271.417969 L 296.386719 271.851562 L 300.347656 257.382812 \"/>\n",
              "<path style=\"fill:none;stroke-width:1;stroke-linecap:butt;stroke-linejoin:miter;stroke:rgb(26.666667%,26.666667%,26.666667%);stroke-opacity:1;stroke-miterlimit:10;\" d=\"M 272.839844 294.753906 C 275.828125 309.433594 285.675781 321.605469 299.71875 318.644531 \"/>\n",
              "<path style=\" stroke:none;fill-rule:nonzero;fill:rgb(26.666667%,26.666667%,26.666667%);fill-opacity:1;\" d=\"M 313.675781 315.699219 L 300.675781 323.179688 L 298.761719 314.109375 L 313.675781 315.699219 \"/>\n",
              "<path style=\"fill:none;stroke-width:1;stroke-linecap:butt;stroke-linejoin:miter;stroke:rgb(26.666667%,26.666667%,26.666667%);stroke-opacity:1;stroke-miterlimit:10;\" d=\"M 272.839844 294.753906 C 294.003906 261.898438 294.738281 227.492188 266.160156 201.199219 \"/>\n",
              "<path style=\" stroke:none;fill-rule:nonzero;fill:rgb(26.666667%,26.666667%,26.666667%);fill-opacity:1;\" d=\"M 255.660156 191.539062 L 269.296875 197.789062 L 263.019531 204.609375 L 255.660156 191.539062 \"/>\n",
              "<path style=\"fill:none;stroke-width:1;stroke-linecap:butt;stroke-linejoin:miter;stroke:rgb(26.666667%,26.666667%,26.666667%);stroke-opacity:1;stroke-miterlimit:10;\" d=\"M 272.839844 294.753906 C 249.945312 307.675781 237.5 328.609375 247.496094 352.539062 \"/>\n",
              "<path style=\" stroke:none;fill-rule:nonzero;fill:rgb(26.666667%,26.666667%,26.666667%);fill-opacity:1;\" d=\"M 252.996094 365.699219 L 243.21875 354.324219 L 251.773438 350.75 L 252.996094 365.699219 \"/>\n",
              "<path style=\"fill:none;stroke-width:1;stroke-linecap:butt;stroke-linejoin:miter;stroke:rgb(26.666667%,26.666667%,26.666667%);stroke-opacity:1;stroke-miterlimit:10;\" d=\"M 272.839844 294.753906 C 273.855469 259.351562 258.332031 231.917969 223.8125 225.320312 \"/>\n",
              "<path style=\" stroke:none;fill-rule:nonzero;fill:rgb(26.666667%,26.666667%,26.666667%);fill-opacity:1;\" d=\"M 209.796875 222.640625 L 224.679688 220.765625 L 222.941406 229.871094 L 209.796875 222.640625 \"/>\n",
              "<path style=\"fill:none;stroke-width:1;stroke-linecap:butt;stroke-linejoin:miter;stroke:rgb(26.666667%,26.666667%,26.666667%);stroke-opacity:1;stroke-miterlimit:10;\" d=\"M 272.839844 294.753906 C 251.421875 339.09375 256.359375 381.265625 295.570312 410.730469 \"/>\n",
              "<path style=\" stroke:none;fill-rule:nonzero;fill:rgb(26.666667%,26.666667%,26.666667%);fill-opacity:1;\" d=\"M 306.976562 419.300781 L 292.785156 414.4375 L 298.355469 407.027344 L 306.976562 419.300781 \"/>\n",
              "<path style=\"fill:none;stroke-width:1;stroke-linecap:butt;stroke-linejoin:miter;stroke:rgb(26.666667%,26.666667%,26.666667%);stroke-opacity:1;stroke-miterlimit:10;\" d=\"M 342.554688 344.707031 C 336.082031 299.640625 310.507812 269.519531 265.234375 267.496094 \"/>\n",
              "<path style=\" stroke:none;fill-rule:nonzero;fill:rgb(26.666667%,26.666667%,26.666667%);fill-opacity:1;\" d=\"M 250.980469 266.859375 L 265.441406 262.867188 L 265.027344 272.128906 L 250.980469 266.859375 \"/>\n",
              "<path style=\"fill:none;stroke-width:1;stroke-linecap:butt;stroke-linejoin:miter;stroke:rgb(26.666667%,26.666667%,26.666667%);stroke-opacity:1;stroke-miterlimit:10;\" d=\"M 342.554688 344.707031 C 339.679688 316.851562 324.578125 296.0625 296.921875 295.363281 \"/>\n",
              "<path style=\" stroke:none;fill-rule:nonzero;fill:rgb(26.666667%,26.666667%,26.666667%);fill-opacity:1;\" d=\"M 282.660156 295 L 297.039062 290.726562 L 296.804688 299.996094 L 282.660156 295 \"/>\n",
              "<path style=\"fill:none;stroke-width:1;stroke-linecap:butt;stroke-linejoin:miter;stroke:rgb(26.666667%,26.666667%,26.666667%);stroke-opacity:1;stroke-miterlimit:10;\" d=\"M 342.554688 344.707031 C 366.207031 314.359375 370.007812 280.640625 344.265625 252.382812 \"/>\n",
              "<path style=\" stroke:none;fill-rule:nonzero;fill:rgb(26.666667%,26.666667%,26.666667%);fill-opacity:1;\" d=\"M 334.65625 241.835938 L 347.691406 249.261719 L 340.835938 255.503906 L 334.65625 241.835938 \"/>\n",
              "<path style=\"fill:none;stroke-width:1;stroke-linecap:butt;stroke-linejoin:miter;stroke:rgb(26.666667%,26.666667%,26.666667%);stroke-opacity:1;stroke-miterlimit:10;\" d=\"M 342.554688 344.707031 C 356.417969 310.847656 351.332031 278.804688 320.414062 259.730469 \"/>\n",
              "<path style=\" stroke:none;fill-rule:nonzero;fill:rgb(26.666667%,26.666667%,26.666667%);fill-opacity:1;\" d=\"M 308.273438 252.242188 L 322.847656 255.789062 L 317.980469 263.675781 L 308.273438 252.242188 \"/>\n",
              "<path style=\"fill:none;stroke-width:1;stroke-linecap:butt;stroke-linejoin:miter;stroke:rgb(26.666667%,26.666667%,26.666667%);stroke-opacity:1;stroke-miterlimit:10;\" d=\"M 342.554688 344.707031 C 329.386719 344.71875 316.6875 351.25 317.285156 363.691406 \"/>\n",
              "<path style=\" stroke:none;fill-rule:nonzero;fill:rgb(26.666667%,26.666667%,26.666667%);fill-opacity:1;\" d=\"M 317.964844 377.941406 L 312.65625 363.914062 L 321.914062 363.46875 L 317.964844 377.941406 \"/>\n",
              "<path style=\"fill:none;stroke-width:1;stroke-linecap:butt;stroke-linejoin:miter;stroke:rgb(26.666667%,26.666667%,26.666667%);stroke-opacity:1;stroke-miterlimit:10;\" d=\"M 342.554688 344.707031 C 298.40625 360.742188 273.511719 392.890625 280.878906 439.070312 \"/>\n",
              "<path style=\" stroke:none;fill-rule:nonzero;fill:rgb(26.666667%,26.666667%,26.666667%);fill-opacity:1;\" d=\"M 283.128906 453.160156 L 276.304688 439.800781 L 285.457031 438.339844 L 283.128906 453.160156 \"/>\n",
              "<path style=\"fill:none;stroke-width:1;stroke-linecap:butt;stroke-linejoin:miter;stroke:rgb(26.666667%,26.666667%,26.666667%);stroke-opacity:1;stroke-miterlimit:10;\" d=\"M 342.554688 344.707031 C 348.1875 338.910156 351.054688 328.847656 345.019531 325.464844 \"/>\n",
              "<path style=\" stroke:none;fill-rule:nonzero;fill:rgb(26.666667%,26.666667%,26.666667%);fill-opacity:1;\" d=\"M 332.574219 318.488281 L 347.285156 321.421875 L 342.753906 329.507812 L 332.574219 318.488281 \"/>\n",
              "<path style=\"fill:none;stroke-width:1;stroke-linecap:butt;stroke-linejoin:miter;stroke:rgb(26.666667%,26.666667%,26.666667%);stroke-opacity:1;stroke-miterlimit:10;\" d=\"M 342.554688 344.707031 C 368.140625 378.75 402.816406 392.175781 440.699219 373.226562 \"/>\n",
              "<path style=\" stroke:none;fill-rule:nonzero;fill:rgb(26.666667%,26.666667%,26.666667%);fill-opacity:1;\" d=\"M 453.460938 366.84375 L 442.773438 377.371094 L 438.628906 369.082031 L 453.460938 366.84375 \"/>\n",
              "<path style=\"fill:none;stroke-width:1;stroke-linecap:butt;stroke-linejoin:miter;stroke:rgb(26.666667%,26.666667%,26.666667%);stroke-opacity:1;stroke-miterlimit:10;\" d=\"M 342.554688 344.707031 C 348.570312 370.804688 365.402344 388.933594 391.683594 386.152344 \"/>\n",
              "<path style=\" stroke:none;fill-rule:nonzero;fill:rgb(26.666667%,26.666667%,26.666667%);fill-opacity:1;\" d=\"M 405.871094 384.652344 L 392.171875 390.761719 L 391.195312 381.542969 L 405.871094 384.652344 \"/>\n",
              "<path style=\"fill:none;stroke-width:1;stroke-linecap:butt;stroke-linejoin:miter;stroke:rgb(26.666667%,26.666667%,26.666667%);stroke-opacity:1;stroke-miterlimit:10;\" d=\"M 342.554688 344.707031 C 327.105469 393.324219 338.421875 435.699219 382.894531 460.296875 \"/>\n",
              "<path style=\" stroke:none;fill-rule:nonzero;fill:rgb(26.666667%,26.666667%,26.666667%);fill-opacity:1;\" d=\"M 395.378906 467.203125 L 380.652344 464.355469 L 385.136719 456.242188 L 395.378906 467.203125 \"/>\n",
              "<path style=\"fill:none;stroke-width:1;stroke-linecap:butt;stroke-linejoin:miter;stroke:rgb(26.666667%,26.666667%,26.666667%);stroke-opacity:1;stroke-miterlimit:10;\" d=\"M 327.992188 234.523438 C 300.617188 220.375 272.757812 221.933594 255.054688 246.78125 \"/>\n",
              "<path style=\" stroke:none;fill-rule:nonzero;fill:rgb(26.666667%,26.666667%,26.666667%);fill-opacity:1;\" d=\"M 246.777344 258.398438 L 251.28125 244.089844 L 258.828125 249.46875 L 246.777344 258.398438 \"/>\n",
              "<path style=\"fill:none;stroke-width:1;stroke-linecap:butt;stroke-linejoin:miter;stroke:rgb(26.666667%,26.666667%,26.666667%);stroke-opacity:1;stroke-miterlimit:10;\" d=\"M 327.992188 234.523438 C 301.683594 233.757812 280.191406 245.261719 276.375 270.941406 \"/>\n",
              "<path style=\" stroke:none;fill-rule:nonzero;fill:rgb(26.666667%,26.666667%,26.666667%);fill-opacity:1;\" d=\"M 274.28125 285.054688 L 271.792969 270.261719 L 280.960938 271.625 L 274.28125 285.054688 \"/>\n",
              "<path style=\"fill:none;stroke-width:1;stroke-linecap:butt;stroke-linejoin:miter;stroke:rgb(26.666667%,26.666667%,26.666667%);stroke-opacity:1;stroke-miterlimit:10;\" d=\"M 327.992188 234.523438 C 304.339844 264.871094 300.539062 298.589844 326.28125 326.847656 \"/>\n",
              "<path style=\" stroke:none;fill-rule:nonzero;fill:rgb(26.666667%,26.666667%,26.666667%);fill-opacity:1;\" d=\"M 335.890625 337.394531 L 322.855469 329.96875 L 329.710938 323.726562 L 335.890625 337.394531 \"/>\n",
              "<path style=\"fill:none;stroke-width:1;stroke-linecap:butt;stroke-linejoin:miter;stroke:rgb(26.666667%,26.666667%,26.666667%);stroke-opacity:1;stroke-miterlimit:10;\" d=\"M 327.992188 234.523438 C 325.203125 228.992188 317.507812 224.269531 314.675781 227.921875 \"/>\n",
              "<path style=\" stroke:none;fill-rule:nonzero;fill:rgb(26.666667%,26.666667%,26.666667%);fill-opacity:1;\" d=\"M 305.941406 239.199219 L 311.011719 225.085938 L 318.339844 230.761719 L 305.941406 239.199219 \"/>\n",
              "<path style=\"fill:none;stroke-width:1;stroke-linecap:butt;stroke-linejoin:miter;stroke:rgb(26.666667%,26.666667%,26.666667%);stroke-opacity:1;stroke-miterlimit:10;\" d=\"M 327.992188 234.523438 C 343.554688 211.359375 345.257812 185.800781 324.519531 167.640625 \"/>\n",
              "<path style=\" stroke:none;fill-rule:nonzero;fill:rgb(26.666667%,26.666667%,26.666667%);fill-opacity:1;\" d=\"M 313.789062 158.242188 L 327.574219 164.15625 L 321.46875 171.128906 L 313.789062 158.242188 \"/>\n",
              "<path style=\"fill:none;stroke-width:1;stroke-linecap:butt;stroke-linejoin:miter;stroke:rgb(26.666667%,26.666667%,26.666667%);stroke-opacity:1;stroke-miterlimit:10;\" d=\"M 327.992188 234.523438 C 307.875 249.847656 298.640625 271.539062 311.4375 292.921875 \"/>\n",
              "<path style=\" stroke:none;fill-rule:nonzero;fill:rgb(26.666667%,26.666667%,26.666667%);fill-opacity:1;\" d=\"M 318.761719 305.160156 L 307.460938 295.300781 L 315.414062 290.539062 L 318.761719 305.160156 \"/>\n",
              "<path style=\"fill:none;stroke-width:1;stroke-linecap:butt;stroke-linejoin:miter;stroke:rgb(26.666667%,26.666667%,26.666667%);stroke-opacity:1;stroke-miterlimit:10;\" d=\"M 127.25 203.542969 C 140.800781 247.808594 171.191406 274 217.003906 269.027344 \"/>\n",
              "<path style=\" stroke:none;fill-rule:nonzero;fill:rgb(26.666667%,26.666667%,26.666667%);fill-opacity:1;\" d=\"M 231.1875 267.488281 L 217.507812 273.636719 L 216.503906 264.417969 L 231.1875 267.488281 \"/>\n",
              "<path style=\"fill:none;stroke-width:1;stroke-linecap:butt;stroke-linejoin:miter;stroke:rgb(26.666667%,26.666667%,26.666667%);stroke-opacity:1;stroke-miterlimit:10;\" d=\"M 127.25 203.542969 C 107.542969 205.308594 91.433594 216.011719 91.949219 235.3125 \"/>\n",
              "<path style=\" stroke:none;fill-rule:nonzero;fill:rgb(26.666667%,26.666667%,26.666667%);fill-opacity:1;\" d=\"M 92.328125 249.574219 L 87.316406 235.4375 L 96.582031 235.1875 L 92.328125 249.574219 \"/>\n",
              "<path style=\"fill:none;stroke-width:1;stroke-linecap:butt;stroke-linejoin:miter;stroke:rgb(26.666667%,26.666667%,26.666667%);stroke-opacity:1;stroke-miterlimit:10;\" d=\"M 127.25 203.542969 C 116.308594 212.925781 110.601562 227.039062 119.753906 237.320312 \"/>\n",
              "<path style=\" stroke:none;fill-rule:nonzero;fill:rgb(26.666667%,26.666667%,26.666667%);fill-opacity:1;\" d=\"M 129.238281 247.976562 L 116.289062 240.402344 L 123.214844 234.238281 L 129.238281 247.976562 \"/>\n",
              "<path style=\"fill:none;stroke-width:1;stroke-linecap:butt;stroke-linejoin:miter;stroke:rgb(26.666667%,26.666667%,26.666667%);stroke-opacity:1;stroke-miterlimit:10;\" d=\"M 105.21875 305.917969 C 150.613281 329.253906 194.304688 325.140625 225.976562 285.359375 \"/>\n",
              "<path style=\" stroke:none;fill-rule:nonzero;fill:rgb(26.666667%,26.666667%,26.666667%);fill-opacity:1;\" d=\"M 234.863281 274.199219 L 229.605469 288.246094 L 222.351562 282.472656 L 234.863281 274.199219 \"/>\n",
              "<path style=\"fill:none;stroke-width:1;stroke-linecap:butt;stroke-linejoin:miter;stroke:rgb(26.666667%,26.666667%,26.666667%);stroke-opacity:1;stroke-miterlimit:10;\" d=\"M 105.21875 305.917969 C 114.261719 297.527344 118.9375 284.703125 110.496094 276.785156 \"/>\n",
              "<path style=\" stroke:none;fill-rule:nonzero;fill:rgb(26.666667%,26.666667%,26.666667%);fill-opacity:1;\" d=\"M 100.089844 267.027344 L 113.667969 273.40625 L 107.324219 280.167969 L 100.089844 267.027344 \"/>\n",
              "<path style=\"fill:none;stroke-width:1;stroke-linecap:butt;stroke-linejoin:miter;stroke:rgb(26.666667%,26.666667%,26.666667%);stroke-opacity:1;stroke-miterlimit:10;\" d=\"M 105.21875 305.917969 C 122.050781 305.214844 136.804688 296.609375 136.523438 280.332031 \"/>\n",
              "<path style=\" stroke:none;fill-rule:nonzero;fill:rgb(26.666667%,26.666667%,26.666667%);fill-opacity:1;\" d=\"M 136.28125 266.066406 L 141.160156 280.25 L 131.890625 280.410156 L 136.28125 266.066406 \"/>\n",
              "<path style=\"fill:none;stroke-width:1;stroke-linecap:butt;stroke-linejoin:miter;stroke:rgb(26.666667%,26.666667%,26.666667%);stroke-opacity:1;stroke-miterlimit:10;\" d=\"M 105.21875 305.917969 C 86.976562 284.960938 62.832031 276.699219 40.019531 291.953125 \"/>\n",
              "<path style=\" stroke:none;fill-rule:nonzero;fill:rgb(26.666667%,26.666667%,26.666667%);fill-opacity:1;\" d=\"M 28.160156 299.882812 L 37.445312 288.101562 L 42.597656 295.808594 L 28.160156 299.882812 \"/>\n",
              "<path style=\"fill:none;stroke-width:1;stroke-linecap:butt;stroke-linejoin:miter;stroke:rgb(26.666667%,26.666667%,26.666667%);stroke-opacity:1;stroke-miterlimit:10;\" d=\"M 92.609375 260.007812 C 130.421875 298.554688 175.511719 308.765625 220.714844 279.5625 \"/>\n",
              "<path style=\" stroke:none;fill-rule:nonzero;fill:rgb(26.666667%,26.666667%,26.666667%);fill-opacity:1;\" d=\"M 232.695312 271.820312 L 223.230469 283.457031 L 218.199219 275.667969 L 232.695312 271.820312 \"/>\n",
              "<path style=\"fill:none;stroke-width:1;stroke-linecap:butt;stroke-linejoin:miter;stroke:rgb(26.666667%,26.666667%,26.666667%);stroke-opacity:1;stroke-miterlimit:10;\" d=\"M 92.609375 260.007812 C 112.320312 258.246094 128.429688 247.539062 127.910156 228.242188 \"/>\n",
              "<path style=\" stroke:none;fill-rule:nonzero;fill:rgb(26.666667%,26.666667%,26.666667%);fill-opacity:1;\" d=\"M 127.53125 213.980469 L 132.546875 228.117188 L 123.277344 228.363281 L 127.53125 213.980469 \"/>\n",
              "<path style=\"fill:none;stroke-width:1;stroke-linecap:butt;stroke-linejoin:miter;stroke:rgb(26.666667%,26.666667%,26.666667%);stroke-opacity:1;stroke-miterlimit:10;\" d=\"M 92.609375 260.007812 C 83.566406 268.398438 78.890625 281.222656 87.332031 289.140625 \"/>\n",
              "<path style=\" stroke:none;fill-rule:nonzero;fill:rgb(26.666667%,26.666667%,26.666667%);fill-opacity:1;\" d=\"M 97.738281 298.898438 L 84.160156 292.519531 L 90.503906 285.757812 L 97.738281 298.898438 \"/>\n",
              "<path style=\"fill:none;stroke-width:1;stroke-linecap:butt;stroke-linejoin:miter;stroke:rgb(26.666667%,26.666667%,26.666667%);stroke-opacity:1;stroke-miterlimit:10;\" d=\"M 92.609375 260.007812 C 65.828125 252.058594 40.898438 258.074219 29.738281 283.3125 \"/>\n",
              "<path style=\" stroke:none;fill-rule:nonzero;fill:rgb(26.666667%,26.666667%,26.666667%);fill-opacity:1;\" d=\"M 23.972656 296.359375 L 25.5 281.4375 L 33.980469 285.1875 L 23.972656 296.359375 \"/>\n",
              "<path style=\"fill:none;stroke-width:1;stroke-linecap:butt;stroke-linejoin:miter;stroke:rgb(26.666667%,26.666667%,26.666667%);stroke-opacity:1;stroke-miterlimit:10;\" d=\"M 299.859375 247.054688 C 285.390625 236.296875 267.601562 233.632812 256.585938 247.238281 \"/>\n",
              "<path style=\" stroke:none;fill-rule:nonzero;fill:rgb(26.666667%,26.666667%,26.666667%);fill-opacity:1;\" d=\"M 247.609375 258.328125 L 252.984375 244.320312 L 260.191406 250.15625 L 247.609375 258.328125 \"/>\n",
              "<path style=\"fill:none;stroke-width:1;stroke-linecap:butt;stroke-linejoin:miter;stroke:rgb(26.666667%,26.666667%,26.666667%);stroke-opacity:1;stroke-miterlimit:10;\" d=\"M 299.859375 247.054688 C 284.6875 247.714844 271 255.621094 271.683594 270.171875 \"/>\n",
              "<path style=\" stroke:none;fill-rule:nonzero;fill:rgb(26.666667%,26.666667%,26.666667%);fill-opacity:1;\" d=\"M 272.355469 284.421875 L 267.054688 270.386719 L 276.316406 269.953125 L 272.355469 284.421875 \"/>\n",
              "<path style=\"fill:none;stroke-width:1;stroke-linecap:butt;stroke-linejoin:miter;stroke:rgb(26.666667%,26.666667%,26.666667%);stroke-opacity:1;stroke-miterlimit:10;\" d=\"M 299.859375 247.054688 C 285.996094 280.914062 291.082031 312.957031 322 332.027344 \"/>\n",
              "<path style=\" stroke:none;fill-rule:nonzero;fill:rgb(26.666667%,26.666667%,26.666667%);fill-opacity:1;\" d=\"M 334.140625 339.519531 L 319.566406 335.972656 L 324.433594 328.082031 L 334.140625 339.519531 \"/>\n",
              "<path style=\"fill:none;stroke-width:1;stroke-linecap:butt;stroke-linejoin:miter;stroke:rgb(26.666667%,26.666667%,26.666667%);stroke-opacity:1;stroke-miterlimit:10;\" d=\"M 299.859375 247.054688 C 302.648438 252.582031 310.347656 257.304688 313.175781 253.652344 \"/>\n",
              "<path style=\" stroke:none;fill-rule:nonzero;fill:rgb(26.666667%,26.666667%,26.666667%);fill-opacity:1;\" d=\"M 321.910156 242.375 L 316.839844 256.492188 L 309.511719 250.8125 L 321.910156 242.375 \"/>\n",
              "<path style=\"fill:none;stroke-width:1;stroke-linecap:butt;stroke-linejoin:miter;stroke:rgb(26.666667%,26.666667%,26.666667%);stroke-opacity:1;stroke-miterlimit:10;\" d=\"M 318.457031 388.214844 C 328.285156 336.929688 311.625 295.324219 263.476562 275.597656 \"/>\n",
              "<path style=\" stroke:none;fill-rule:nonzero;fill:rgb(26.666667%,26.666667%,26.666667%);fill-opacity:1;\" d=\"M 250.273438 270.1875 L 265.230469 271.308594 L 261.71875 279.886719 L 250.273438 270.1875 \"/>\n",
              "<path style=\"fill:none;stroke-width:1;stroke-linecap:butt;stroke-linejoin:miter;stroke:rgb(26.666667%,26.666667%,26.666667%);stroke-opacity:1;stroke-miterlimit:10;\" d=\"M 318.457031 388.214844 C 331.625 388.207031 344.324219 381.671875 343.726562 369.230469 \"/>\n",
              "<path style=\" stroke:none;fill-rule:nonzero;fill:rgb(26.666667%,26.666667%,26.666667%);fill-opacity:1;\" d=\"M 343.046875 354.980469 L 348.359375 369.011719 L 339.097656 369.453125 L 343.046875 354.980469 \"/>\n",
              "<path style=\"fill:none;stroke-width:1;stroke-linecap:butt;stroke-linejoin:miter;stroke:rgb(26.666667%,26.666667%,26.666667%);stroke-opacity:1;stroke-miterlimit:10;\" d=\"M 318.457031 388.214844 C 310.207031 389.777344 301.859375 396.46875 304.863281 403.097656 \"/>\n",
              "<path style=\" stroke:none;fill-rule:nonzero;fill:rgb(26.666667%,26.666667%,26.666667%);fill-opacity:1;\" d=\"M 310.757812 416.089844 L 300.644531 405.011719 L 309.085938 401.183594 L 310.757812 416.089844 \"/>\n",
              "<path style=\"fill:none;stroke-width:1;stroke-linecap:butt;stroke-linejoin:miter;stroke:rgb(26.666667%,26.666667%,26.666667%);stroke-opacity:1;stroke-miterlimit:10;\" d=\"M 318.457031 388.214844 C 319.089844 430.273438 338.960938 461.210938 380.230469 468.058594 \"/>\n",
              "<path style=\" stroke:none;fill-rule:nonzero;fill:rgb(26.666667%,26.666667%,26.666667%);fill-opacity:1;\" d=\"M 394.304688 470.394531 L 379.472656 472.632812 L 380.992188 463.488281 L 394.304688 470.394531 \"/>\n",
              "<path style=\"fill:none;stroke-width:1;stroke-linecap:butt;stroke-linejoin:miter;stroke:rgb(26.666667%,26.666667%,26.666667%);stroke-opacity:1;stroke-miterlimit:10;\" d=\"M 318.457031 388.214844 C 316.929688 417.453125 329.179688 441.167969 357.628906 446.550781 \"/>\n",
              "<path style=\" stroke:none;fill-rule:nonzero;fill:rgb(26.666667%,26.666667%,26.666667%);fill-opacity:1;\" d=\"M 371.644531 449.203125 L 356.765625 451.105469 L 358.488281 442 L 371.644531 449.203125 \"/>\n",
              "<path style=\"fill:none;stroke-width:1;stroke-linecap:butt;stroke-linejoin:miter;stroke:rgb(26.666667%,26.666667%,26.666667%);stroke-opacity:1;stroke-miterlimit:10;\" d=\"M 284.691406 462.96875 C 328.84375 446.933594 353.734375 414.789062 346.367188 368.605469 \"/>\n",
              "<path style=\" stroke:none;fill-rule:nonzero;fill:rgb(26.666667%,26.666667%,26.666667%);fill-opacity:1;\" d=\"M 344.121094 354.519531 L 350.945312 367.875 L 341.789062 369.335938 L 344.121094 354.519531 \"/>\n",
              "<path style=\"fill:none;stroke-width:1;stroke-linecap:butt;stroke-linejoin:miter;stroke:rgb(26.666667%,26.666667%,26.666667%);stroke-opacity:1;stroke-miterlimit:10;\" d=\"M 284.691406 462.96875 C 309.863281 483.964844 338.9375 488.578125 363.25 467.035156 \"/>\n",
              "<path style=\" stroke:none;fill-rule:nonzero;fill:rgb(26.666667%,26.666667%,26.666667%);fill-opacity:1;\" d=\"M 373.925781 457.570312 L 366.324219 470.503906 L 360.175781 463.566406 L 373.925781 457.570312 \"/>\n",
              "<path style=\"fill:none;stroke-width:1;stroke-linecap:butt;stroke-linejoin:miter;stroke:rgb(26.666667%,26.666667%,26.666667%);stroke-opacity:1;stroke-miterlimit:10;\" d=\"M 136.101562 255.6875 C 158.441406 284.101562 188.488281 295.386719 219.914062 278.070312 \"/>\n",
              "<path style=\" stroke:none;fill-rule:nonzero;fill:rgb(26.666667%,26.666667%,26.666667%);fill-opacity:1;\" d=\"M 232.40625 271.183594 L 222.152344 282.128906 L 217.675781 274.011719 L 232.40625 271.183594 \"/>\n",
              "<path style=\"fill:none;stroke-width:1;stroke-linecap:butt;stroke-linejoin:miter;stroke:rgb(26.666667%,26.666667%,26.666667%);stroke-opacity:1;stroke-miterlimit:10;\" d=\"M 136.101562 255.6875 C 147.046875 246.300781 152.75 232.1875 143.601562 221.910156 \"/>\n",
              "<path style=\" stroke:none;fill-rule:nonzero;fill:rgb(26.666667%,26.666667%,26.666667%);fill-opacity:1;\" d=\"M 134.117188 211.253906 L 147.0625 218.828125 L 140.140625 224.992188 L 134.117188 211.253906 \"/>\n",
              "<path style=\"fill:none;stroke-width:1;stroke-linecap:butt;stroke-linejoin:miter;stroke:rgb(26.666667%,26.666667%,26.666667%);stroke-opacity:1;stroke-miterlimit:10;\" d=\"M 136.101562 255.6875 C 119.269531 256.386719 104.515625 264.992188 104.796875 281.273438 \"/>\n",
              "<path style=\" stroke:none;fill-rule:nonzero;fill:rgb(26.666667%,26.666667%,26.666667%);fill-opacity:1;\" d=\"M 105.042969 295.535156 L 100.164062 281.351562 L 109.433594 281.191406 L 105.042969 295.535156 \"/>\n",
              "<path style=\"fill:none;stroke-width:1;stroke-linecap:butt;stroke-linejoin:miter;stroke:rgb(26.666667%,26.666667%,26.666667%);stroke-opacity:1;stroke-miterlimit:10;\" d=\"M 201.121094 128.074219 C 177.316406 174.40625 181.582031 218.917969 222.136719 251.304688 \"/>\n",
              "<path style=\" stroke:none;fill-rule:nonzero;fill:rgb(26.666667%,26.666667%,26.666667%);fill-opacity:1;\" d=\"M 233.285156 260.203125 L 219.246094 254.925781 L 225.03125 247.679688 L 233.285156 260.203125 \"/>\n",
              "<path style=\"fill:none;stroke-width:1;stroke-linecap:butt;stroke-linejoin:miter;stroke:rgb(26.666667%,26.666667%,26.666667%);stroke-opacity:1;stroke-miterlimit:10;\" d=\"M 306.402344 151.773438 C 261.21875 165.046875 234.300781 195.648438 238.761719 242.324219 \"/>\n",
              "<path style=\" stroke:none;fill-rule:nonzero;fill:rgb(26.666667%,26.666667%,26.666667%);fill-opacity:1;\" d=\"M 240.117188 256.523438 L 234.148438 242.765625 L 243.375 241.882812 L 240.117188 256.523438 \"/>\n",
              "<path style=\"fill:none;stroke-width:1;stroke-linecap:butt;stroke-linejoin:miter;stroke:rgb(26.666667%,26.666667%,26.666667%);stroke-opacity:1;stroke-miterlimit:10;\" d=\"M 306.402344 151.773438 C 290.839844 174.933594 289.136719 200.492188 309.871094 218.652344 \"/>\n",
              "<path style=\" stroke:none;fill-rule:nonzero;fill:rgb(26.666667%,26.666667%,26.666667%);fill-opacity:1;\" d=\"M 320.605469 228.054688 L 306.820312 222.140625 L 312.925781 215.167969 L 320.605469 228.054688 \"/>\n",
              "<path style=\"fill:none;stroke-width:1;stroke-linecap:butt;stroke-linejoin:miter;stroke:rgb(26.666667%,26.666667%,26.666667%);stroke-opacity:1;stroke-miterlimit:10;\" d=\"M 323.792969 313.566406 C 316.515625 282.507812 296.589844 261.78125 265.097656 264.410156 \"/>\n",
              "<path style=\" stroke:none;fill-rule:nonzero;fill:rgb(26.666667%,26.666667%,26.666667%);fill-opacity:1;\" d=\"M 250.882812 265.597656 L 264.710938 259.789062 L 265.484375 269.027344 L 250.882812 265.597656 \"/>\n",
              "<path style=\"fill:none;stroke-width:1;stroke-linecap:butt;stroke-linejoin:miter;stroke:rgb(26.666667%,26.666667%,26.666667%);stroke-opacity:1;stroke-miterlimit:10;\" d=\"M 323.792969 313.566406 C 320.804688 298.882812 310.960938 286.710938 296.914062 289.675781 \"/>\n",
              "<path style=\" stroke:none;fill-rule:nonzero;fill:rgb(26.666667%,26.666667%,26.666667%);fill-opacity:1;\" d=\"M 282.957031 292.617188 L 295.957031 285.140625 L 297.871094 294.210938 L 282.957031 292.617188 \"/>\n",
              "<path style=\"fill:none;stroke-width:1;stroke-linecap:butt;stroke-linejoin:miter;stroke:rgb(26.666667%,26.666667%,26.666667%);stroke-opacity:1;stroke-miterlimit:10;\" d=\"M 323.792969 313.566406 C 318.160156 319.363281 315.292969 329.425781 321.328125 332.808594 \"/>\n",
              "<path style=\" stroke:none;fill-rule:nonzero;fill:rgb(26.666667%,26.666667%,26.666667%);fill-opacity:1;\" d=\"M 333.769531 339.785156 L 319.058594 336.851562 L 323.59375 328.765625 L 333.769531 339.785156 \"/>\n",
              "<path style=\"fill:none;stroke-width:1;stroke-linecap:butt;stroke-linejoin:miter;stroke:rgb(26.666667%,26.666667%,26.666667%);stroke-opacity:1;stroke-miterlimit:10;\" d=\"M 323.792969 313.566406 C 343.910156 298.238281 353.144531 276.546875 340.347656 255.167969 \"/>\n",
              "<path style=\" stroke:none;fill-rule:nonzero;fill:rgb(26.666667%,26.666667%,26.666667%);fill-opacity:1;\" d=\"M 333.023438 242.925781 L 344.324219 252.785156 L 336.371094 257.546875 L 333.023438 242.925781 \"/>\n",
              "<path style=\"fill:none;stroke-width:1;stroke-linecap:butt;stroke-linejoin:miter;stroke:rgb(26.666667%,26.666667%,26.666667%);stroke-opacity:1;stroke-miterlimit:10;\" d=\"M 323.792969 313.566406 C 304.949219 364.355469 314.941406 409.632812 360.75 438.210938 \"/>\n",
              "<path style=\" stroke:none;fill-rule:nonzero;fill:rgb(26.666667%,26.666667%,26.666667%);fill-opacity:1;\" d=\"M 372.855469 445.761719 L 358.296875 442.144531 L 363.203125 434.277344 L 372.855469 445.761719 \"/>\n",
              "<path style=\"fill:none;stroke-width:1;stroke-linecap:butt;stroke-linejoin:miter;stroke:rgb(26.666667%,26.666667%,26.666667%);stroke-opacity:1;stroke-miterlimit:10;\" d=\"M 396.035156 556.273438 C 418.351562 540.132812 428.695312 517.007812 415.640625 493.148438 \"/>\n",
              "<path style=\" stroke:none;fill-rule:nonzero;fill:rgb(26.666667%,26.666667%,26.666667%);fill-opacity:1;\" d=\"M 408.796875 480.632812 L 419.710938 490.921875 L 411.574219 495.371094 L 408.796875 480.632812 \"/>\n",
              "<path style=\"fill:none;stroke-width:1;stroke-linecap:butt;stroke-linejoin:miter;stroke:rgb(26.666667%,26.666667%,26.666667%);stroke-opacity:1;stroke-miterlimit:10;\" d=\"M 396.035156 556.273438 C 418.453125 527.523438 422.210938 495.398438 397.675781 468.789062 \"/>\n",
              "<path style=\" stroke:none;fill-rule:nonzero;fill:rgb(26.666667%,26.666667%,26.666667%);fill-opacity:1;\" d=\"M 388.003906 458.300781 L 401.082031 465.644531 L 394.269531 471.929688 L 388.003906 458.300781 \"/>\n",
              "<path style=\"fill:none;stroke-width:1;stroke-linecap:butt;stroke-linejoin:miter;stroke:rgb(26.666667%,26.666667%,26.666667%);stroke-opacity:1;stroke-miterlimit:10;\" d=\"M 356.3125 566.300781 C 390.921875 555.613281 412.269531 531.566406 407.371094 495.941406 \"/>\n",
              "<path style=\" stroke:none;fill-rule:nonzero;fill:rgb(26.666667%,26.666667%,26.666667%);fill-opacity:1;\" d=\"M 405.429688 481.808594 L 411.964844 495.3125 L 402.78125 496.574219 L 405.429688 481.808594 \"/>\n",
              "<path style=\"fill:none;stroke-width:1;stroke-linecap:butt;stroke-linejoin:miter;stroke:rgb(26.666667%,26.666667%,26.666667%);stroke-opacity:1;stroke-miterlimit:10;\" d=\"M 356.3125 566.300781 C 390.992188 543.894531 406.472656 511.214844 390.632812 473.335938 \"/>\n",
              "<path style=\" stroke:none;fill-rule:nonzero;fill:rgb(26.666667%,26.666667%,26.666667%);fill-opacity:1;\" d=\"M 385.128906 460.175781 L 394.910156 471.546875 L 386.355469 475.125 L 385.128906 460.175781 \"/>\n",
              "<path style=\"fill:none;stroke-width:1;stroke-linecap:butt;stroke-linejoin:miter;stroke:rgb(26.666667%,26.666667%,26.666667%);stroke-opacity:1;stroke-miterlimit:10;\" d=\"M 20 305.34375 C 38.242188 326.296875 62.386719 334.558594 85.199219 319.304688 \"/>\n",
              "<path style=\" stroke:none;fill-rule:nonzero;fill:rgb(26.666667%,26.666667%,26.666667%);fill-opacity:1;\" d=\"M 97.058594 311.375 L 87.777344 323.15625 L 82.625 315.453125 L 97.058594 311.375 \"/>\n",
              "<path style=\"fill:none;stroke-width:1;stroke-linecap:butt;stroke-linejoin:miter;stroke:rgb(26.666667%,26.666667%,26.666667%);stroke-opacity:1;stroke-miterlimit:10;\" d=\"M 20 305.34375 C 46.78125 313.292969 71.707031 307.277344 82.867188 282.039062 \"/>\n",
              "<path style=\" stroke:none;fill-rule:nonzero;fill:rgb(26.666667%,26.666667%,26.666667%);fill-opacity:1;\" d=\"M 88.636719 268.992188 L 87.109375 283.914062 L 78.628906 280.164062 L 88.636719 268.992188 \"/>\n",
              "<path style=\"fill:none;stroke-width:1;stroke-linecap:butt;stroke-linejoin:miter;stroke:rgb(26.666667%,26.666667%,26.666667%);stroke-opacity:1;stroke-miterlimit:10;\" d=\"M 248.378906 184.835938 C 226.929688 200.265625 216.820312 222.535156 229.421875 245.347656 \"/>\n",
              "<path style=\" stroke:none;fill-rule:nonzero;fill:rgb(26.666667%,26.666667%,26.666667%);fill-opacity:1;\" d=\"M 236.320312 257.832031 L 225.363281 247.585938 L 233.480469 243.105469 L 236.320312 257.832031 \"/>\n",
              "<path style=\"fill:none;stroke-width:1;stroke-linecap:butt;stroke-linejoin:miter;stroke:rgb(26.666667%,26.666667%,26.666667%);stroke-opacity:1;stroke-miterlimit:10;\" d=\"M 248.378906 184.835938 C 227.214844 217.691406 226.480469 252.09375 255.058594 278.390625 \"/>\n",
              "<path style=\" stroke:none;fill-rule:nonzero;fill:rgb(26.666667%,26.666667%,26.666667%);fill-opacity:1;\" d=\"M 265.558594 288.050781 L 251.921875 281.800781 L 258.199219 274.980469 L 265.558594 288.050781 \"/>\n",
              "<path style=\"fill:none;stroke-width:1;stroke-linecap:butt;stroke-linejoin:miter;stroke:rgb(26.666667%,26.666667%,26.666667%);stroke-opacity:1;stroke-miterlimit:10;\" d=\"M 324.160156 538.84375 C 359.550781 542.703125 388.257812 529.347656 397.660156 495.292969 \"/>\n",
              "<path style=\" stroke:none;fill-rule:nonzero;fill:rgb(26.666667%,26.666667%,26.666667%);fill-opacity:1;\" d=\"M 401.457031 481.539062 L 402.128906 496.527344 L 393.191406 494.058594 L 401.457031 481.539062 \"/>\n",
              "<path style=\"fill:none;stroke-width:1;stroke-linecap:butt;stroke-linejoin:miter;stroke:rgb(26.666667%,26.666667%,26.666667%);stroke-opacity:1;stroke-miterlimit:10;\" d=\"M 324.160156 538.84375 C 359.355469 532.078125 382.996094 510.726562 381.988281 475.167969 \"/>\n",
              "<path style=\" stroke:none;fill-rule:nonzero;fill:rgb(26.666667%,26.666667%,26.666667%);fill-opacity:1;\" d=\"M 381.585938 460.910156 L 386.625 475.039062 L 377.355469 475.300781 L 381.585938 460.910156 \"/>\n",
              "<path style=\"fill:none;stroke-width:1;stroke-linecap:butt;stroke-linejoin:miter;stroke:rgb(26.666667%,26.666667%,26.666667%);stroke-opacity:1;stroke-miterlimit:10;\" d=\"M 256.777344 374.746094 C 279.699219 344.714844 283.152344 311.511719 257.546875 284.074219 \"/>\n",
              "<path style=\" stroke:none;fill-rule:nonzero;fill:rgb(26.666667%,26.666667%,26.666667%);fill-opacity:1;\" d=\"M 247.8125 273.648438 L 260.933594 280.914062 L 254.15625 287.238281 L 247.8125 273.648438 \"/>\n",
              "<path style=\"fill:none;stroke-width:1;stroke-linecap:butt;stroke-linejoin:miter;stroke:rgb(26.666667%,26.666667%,26.666667%);stroke-opacity:1;stroke-miterlimit:10;\" d=\"M 256.777344 374.746094 C 279.671875 361.820312 292.117188 340.890625 282.121094 316.960938 \"/>\n",
              "<path style=\" stroke:none;fill-rule:nonzero;fill:rgb(26.666667%,26.666667%,26.666667%);fill-opacity:1;\" d=\"M 276.621094 303.796875 L 286.398438 315.175781 L 277.84375 318.75 L 276.621094 303.796875 \"/>\n",
              "<path style=\"fill:none;stroke-width:1;stroke-linecap:butt;stroke-linejoin:miter;stroke:rgb(26.666667%,26.666667%,26.666667%);stroke-opacity:1;stroke-miterlimit:10;\" d=\"M 256.777344 374.746094 C 270.753906 425.804688 304.5 456.15625 357.136719 452.644531 \"/>\n",
              "<path style=\" stroke:none;fill-rule:nonzero;fill:rgb(26.666667%,26.666667%,26.666667%);fill-opacity:1;\" d=\"M 371.371094 451.695312 L 357.445312 457.269531 L 356.828125 448.019531 L 371.371094 451.695312 \"/>\n",
              "<path style=\"fill:none;stroke-width:1;stroke-linecap:butt;stroke-linejoin:miter;stroke:rgb(26.666667%,26.666667%,26.666667%);stroke-opacity:1;stroke-miterlimit:10;\" d=\"M 488.816406 490.03125 C 474.785156 465.386719 452.335938 452.328125 426.390625 462.917969 \"/>\n",
              "<path style=\" stroke:none;fill-rule:nonzero;fill:rgb(26.666667%,26.666667%,26.666667%);fill-opacity:1;\" d=\"M 413.179688 468.304688 L 424.636719 458.625 L 428.140625 467.207031 L 413.179688 468.304688 \"/>\n",
              "<path style=\"fill:none;stroke-width:1;stroke-linecap:butt;stroke-linejoin:miter;stroke:rgb(26.666667%,26.666667%,26.666667%);stroke-opacity:1;stroke-miterlimit:10;\" d=\"M 488.816406 490.03125 C 472.066406 453.914062 442.890625 434.613281 404.660156 444.804688 \"/>\n",
              "<path style=\" stroke:none;fill-rule:nonzero;fill:rgb(26.666667%,26.666667%,26.666667%);fill-opacity:1;\" d=\"M 390.875 448.480469 L 403.464844 440.328125 L 405.851562 449.285156 L 390.875 448.480469 \"/>\n",
              "<path style=\"fill:none;stroke-width:1;stroke-linecap:butt;stroke-linejoin:miter;stroke:rgb(26.666667%,26.666667%,26.666667%);stroke-opacity:1;stroke-miterlimit:10;\" d=\"M 200.097656 220.789062 C 196.046875 238.117188 200.628906 255.320312 217.273438 259.890625 \"/>\n",
              "<path style=\" stroke:none;fill-rule:nonzero;fill:rgb(26.666667%,26.666667%,26.666667%);fill-opacity:1;\" d=\"M 231.03125 263.664062 L 216.046875 264.359375 L 218.5 255.417969 L 231.03125 263.664062 \"/>\n",
              "<path style=\"fill:none;stroke-width:1;stroke-linecap:butt;stroke-linejoin:miter;stroke:rgb(26.666667%,26.666667%,26.666667%);stroke-opacity:1;stroke-miterlimit:10;\" d=\"M 200.097656 220.789062 C 199.082031 256.1875 214.605469 283.621094 249.128906 290.21875 \"/>\n",
              "<path style=\" stroke:none;fill-rule:nonzero;fill:rgb(26.666667%,26.666667%,26.666667%);fill-opacity:1;\" d=\"M 263.140625 292.898438 L 248.257812 294.773438 L 250 285.667969 L 263.140625 292.898438 \"/>\n",
              "<path style=\"fill:none;stroke-width:1;stroke-linecap:butt;stroke-linejoin:miter;stroke:rgb(26.666667%,26.666667%,26.666667%);stroke-opacity:1;stroke-miterlimit:10;\" d=\"M 510.5 568.863281 C 506.511719 516.972656 479.589844 481.316406 428.125 474.976562 \"/>\n",
              "<path style=\" stroke:none;fill-rule:nonzero;fill:rgb(26.666667%,26.666667%,26.666667%);fill-opacity:1;\" d=\"M 413.964844 473.234375 L 428.691406 470.378906 L 427.554688 479.578125 L 413.964844 473.234375 \"/>\n",
              "<path style=\"fill:none;stroke-width:1;stroke-linecap:butt;stroke-linejoin:miter;stroke:rgb(26.666667%,26.666667%,26.666667%);stroke-opacity:1;stroke-miterlimit:10;\" d=\"M 486.929688 432.1875 C 519.464844 423.34375 540.378906 401.582031 536.664062 368.355469 \"/>\n",
              "<path style=\" stroke:none;fill-rule:nonzero;fill:rgb(26.666667%,26.666667%,26.666667%);fill-opacity:1;\" d=\"M 535.082031 354.179688 L 541.273438 367.839844 L 532.058594 368.871094 L 535.082031 354.179688 \"/>\n",
              "<path style=\"fill:none;stroke-width:1;stroke-linecap:butt;stroke-linejoin:miter;stroke:rgb(26.666667%,26.666667%,26.666667%);stroke-opacity:1;stroke-miterlimit:10;\" d=\"M 486.929688 432.1875 C 499.019531 412.691406 500.035156 390.929688 482.074219 377.34375 \"/>\n",
              "<path style=\" stroke:none;fill-rule:nonzero;fill:rgb(26.666667%,26.666667%,26.666667%);fill-opacity:1;\" d=\"M 470.695312 368.738281 L 484.867188 373.648438 L 479.277344 381.039062 L 470.695312 368.738281 \"/>\n",
              "<path style=\"fill:none;stroke-width:1;stroke-linecap:butt;stroke-linejoin:miter;stroke:rgb(26.666667%,26.666667%,26.666667%);stroke-opacity:1;stroke-miterlimit:10;\" d=\"M 486.929688 432.1875 C 459.667969 443.410156 443.398438 464.769531 450.746094 492.984375 \"/>\n",
              "<path style=\" stroke:none;fill-rule:nonzero;fill:rgb(26.666667%,26.666667%,26.666667%);fill-opacity:1;\" d=\"M 454.339844 506.789062 L 446.257812 494.152344 L 455.230469 491.816406 L 454.339844 506.789062 \"/>\n",
              "<path style=\"fill:none;stroke-width:1;stroke-linecap:butt;stroke-linejoin:miter;stroke:rgb(26.666667%,26.666667%,26.666667%);stroke-opacity:1;stroke-miterlimit:10;\" d=\"M 486.929688 432.1875 C 458.589844 420.800781 431.222656 424.945312 416.125 451.132812 \"/>\n",
              "<path style=\" stroke:none;fill-rule:nonzero;fill:rgb(26.666667%,26.666667%,26.666667%);fill-opacity:1;\" d=\"M 409 463.492188 L 412.109375 448.816406 L 420.140625 453.445312 L 409 463.492188 \"/>\n",
              "<path style=\"fill:none;stroke-width:1;stroke-linecap:butt;stroke-linejoin:miter;stroke:rgb(26.666667%,26.666667%,26.666667%);stroke-opacity:1;stroke-miterlimit:10;\" d=\"M 486.929688 432.1875 C 456.976562 410.667969 424.394531 408.175781 398.429688 434 \"/>\n",
              "<path style=\" stroke:none;fill-rule:nonzero;fill:rgb(26.666667%,26.666667%,26.666667%);fill-opacity:1;\" d=\"M 388.316406 444.0625 L 395.160156 430.714844 L 401.699219 437.285156 L 388.316406 444.0625 \"/>\n",
              "<path style=\"fill:none;stroke-width:1;stroke-linecap:butt;stroke-linejoin:miter;stroke:rgb(26.666667%,26.666667%,26.666667%);stroke-opacity:1;stroke-miterlimit:10;\" d=\"M 515.03125 290.28125 C 505.191406 303.128906 502.390625 319.464844 514.640625 329.121094 \"/>\n",
              "<path style=\" stroke:none;fill-rule:nonzero;fill:rgb(26.666667%,26.666667%,26.666667%);fill-opacity:1;\" d=\"M 525.84375 337.953125 L 511.773438 332.761719 L 517.511719 325.480469 L 525.84375 337.953125 \"/>\n",
              "<path style=\"fill:none;stroke-width:1;stroke-linecap:butt;stroke-linejoin:miter;stroke:rgb(26.666667%,26.666667%,26.666667%);stroke-opacity:1;stroke-miterlimit:10;\" d=\"M 515.03125 290.28125 C 485.714844 293.316406 464.066406 309.1875 463.113281 338.324219 \"/>\n",
              "<path style=\" stroke:none;fill-rule:nonzero;fill:rgb(26.666667%,26.666667%,26.666667%);fill-opacity:1;\" d=\"M 462.648438 352.582031 L 458.480469 338.171875 L 467.746094 338.472656 L 462.648438 352.582031 \"/>\n",
              "<path style=\"fill:none;stroke-width:1;stroke-linecap:butt;stroke-linejoin:miter;stroke:rgb(26.666667%,26.666667%,26.666667%);stroke-opacity:1;stroke-miterlimit:10;\" d=\"M 515.03125 290.28125 C 478.261719 276.746094 444.449219 283.539062 424.945312 317.238281 \"/>\n",
              "<path style=\" stroke:none;fill-rule:nonzero;fill:rgb(26.666667%,26.666667%,26.666667%);fill-opacity:1;\" d=\"M 417.800781 329.585938 L 420.933594 314.914062 L 428.957031 319.558594 L 417.800781 329.585938 \"/>\n",
              "<path style=\"fill:none;stroke-width:1;stroke-linecap:butt;stroke-linejoin:miter;stroke:rgb(26.666667%,26.666667%,26.666667%);stroke-opacity:1;stroke-miterlimit:10;\" d=\"M 533.984375 344.371094 C 501.449219 353.214844 480.535156 374.976562 484.25 408.207031 \"/>\n",
              "<path style=\" stroke:none;fill-rule:nonzero;fill:rgb(26.666667%,26.666667%,26.666667%);fill-opacity:1;\" d=\"M 485.832031 422.382812 L 479.640625 408.71875 L 488.855469 407.691406 L 485.832031 422.382812 \"/>\n",
              "<path style=\"fill:none;stroke-width:1;stroke-linecap:butt;stroke-linejoin:miter;stroke:rgb(26.666667%,26.666667%,26.666667%);stroke-opacity:1;stroke-miterlimit:10;\" d=\"M 533.984375 344.371094 C 543.824219 331.523438 546.625 315.191406 534.375 305.53125 \"/>\n",
              "<path style=\" stroke:none;fill-rule:nonzero;fill:rgb(26.666667%,26.666667%,26.666667%);fill-opacity:1;\" d=\"M 523.171875 296.699219 L 537.246094 301.890625 L 531.503906 309.171875 L 523.171875 296.699219 \"/>\n",
              "<path style=\"fill:none;stroke-width:1;stroke-linecap:butt;stroke-linejoin:miter;stroke:rgb(26.666667%,26.666667%,26.666667%);stroke-opacity:1;stroke-miterlimit:10;\" d=\"M 533.984375 344.371094 C 505.199219 312.859375 469.324219 302.796875 433.339844 325.320312 \"/>\n",
              "<path style=\" stroke:none;fill-rule:nonzero;fill:rgb(26.666667%,26.666667%,26.666667%);fill-opacity:1;\" d=\"M 421.246094 332.890625 L 430.878906 321.394531 L 435.796875 329.25 L 421.246094 332.890625 \"/>\n",
              "<path style=\"fill:none;stroke-width:1;stroke-linecap:butt;stroke-linejoin:miter;stroke:rgb(26.666667%,26.666667%,26.666667%);stroke-opacity:1;stroke-miterlimit:10;\" d=\"M 439.261719 580 C 457.648438 572.875 470.132812 558.175781 464.304688 539.851562 \"/>\n",
              "<path style=\" stroke:none;fill-rule:nonzero;fill:rgb(26.666667%,26.666667%,26.666667%);fill-opacity:1;\" d=\"M 459.980469 526.253906 L 468.71875 538.445312 L 459.886719 541.253906 L 459.980469 526.253906 \"/>\n",
              "<path style=\"fill:none;stroke-width:1;stroke-linecap:butt;stroke-linejoin:miter;stroke:rgb(26.666667%,26.666667%,26.666667%);stroke-opacity:1;stroke-miterlimit:10;\" d=\"M 439.261719 580 C 456.0625 531.835938 445.925781 489.164062 402.160156 463.339844 \"/>\n",
              "<path style=\" stroke:none;fill-rule:nonzero;fill:rgb(26.666667%,26.666667%,26.666667%);fill-opacity:1;\" d=\"M 389.875 456.089844 L 404.515625 459.347656 L 399.804688 467.332031 L 389.875 456.089844 \"/>\n",
              "<path style=\"fill:none;stroke-width:1;stroke-linecap:butt;stroke-linejoin:miter;stroke:rgb(26.666667%,26.666667%,26.666667%);stroke-opacity:1;stroke-miterlimit:10;\" d=\"M 462.328125 362.410156 C 436.742188 328.367188 402.066406 314.941406 364.183594 333.890625 \"/>\n",
              "<path style=\" stroke:none;fill-rule:nonzero;fill:rgb(26.666667%,26.666667%,26.666667%);fill-opacity:1;\" d=\"M 351.421875 340.273438 L 362.109375 329.746094 L 366.253906 338.035156 L 351.421875 340.273438 \"/>\n",
              "<path style=\"fill:none;stroke-width:1;stroke-linecap:butt;stroke-linejoin:miter;stroke:rgb(26.666667%,26.666667%,26.666667%);stroke-opacity:1;stroke-miterlimit:10;\" d=\"M 462.328125 362.410156 C 450.234375 381.90625 449.222656 403.667969 467.183594 417.253906 \"/>\n",
              "<path style=\" stroke:none;fill-rule:nonzero;fill:rgb(26.666667%,26.666667%,26.666667%);fill-opacity:1;\" d=\"M 478.5625 425.859375 L 464.386719 420.949219 L 469.980469 413.558594 L 478.5625 425.859375 \"/>\n",
              "<path style=\"fill:none;stroke-width:1;stroke-linecap:butt;stroke-linejoin:miter;stroke:rgb(26.666667%,26.666667%,26.666667%);stroke-opacity:1;stroke-miterlimit:10;\" d=\"M 462.328125 362.410156 C 491.644531 359.375 513.292969 343.503906 514.246094 314.367188 \"/>\n",
              "<path style=\" stroke:none;fill-rule:nonzero;fill:rgb(26.666667%,26.666667%,26.666667%);fill-opacity:1;\" d=\"M 514.710938 300.109375 L 518.878906 314.519531 L 509.613281 314.214844 L 514.710938 300.109375 \"/>\n",
              "<path style=\"fill:none;stroke-width:1;stroke-linecap:butt;stroke-linejoin:miter;stroke:rgb(26.666667%,26.666667%,26.666667%);stroke-opacity:1;stroke-miterlimit:10;\" d=\"M 462.328125 362.410156 C 420.207031 364.488281 389.90625 385.46875 384.449219 427.058594 \"/>\n",
              "<path style=\" stroke:none;fill-rule:nonzero;fill:rgb(26.666667%,26.666667%,26.666667%);fill-opacity:1;\" d=\"M 382.59375 441.203125 L 379.855469 426.453125 L 389.046875 427.660156 L 382.59375 441.203125 \"/>\n",
              "<path style=\"fill:none;stroke-width:1;stroke-linecap:butt;stroke-linejoin:miter;stroke:rgb(26.666667%,26.666667%,26.666667%);stroke-opacity:1;stroke-miterlimit:10;\" d=\"M 415.625 383.621094 C 409.609375 357.523438 392.777344 339.394531 366.496094 342.175781 \"/>\n",
              "<path style=\" stroke:none;fill-rule:nonzero;fill:rgb(26.666667%,26.666667%,26.666667%);fill-opacity:1;\" d=\"M 352.308594 343.675781 L 366.007812 337.566406 L 366.984375 346.785156 L 352.308594 343.675781 \"/>\n",
              "<path style=\"fill:none;stroke-width:1;stroke-linecap:butt;stroke-linejoin:miter;stroke:rgb(26.666667%,26.666667%,26.666667%);stroke-opacity:1;stroke-miterlimit:10;\" d=\"M 415.625 383.621094 C 425.683594 377.96875 432.898438 367.101562 426.792969 358.289062 \"/>\n",
              "<path style=\" stroke:none;fill-rule:nonzero;fill:rgb(26.666667%,26.666667%,26.666667%);fill-opacity:1;\" d=\"M 418.667969 346.5625 L 430.601562 355.648438 L 422.984375 360.929688 L 418.667969 346.5625 \"/>\n",
              "<path style=\"fill:none;stroke-width:1;stroke-linecap:butt;stroke-linejoin:miter;stroke:rgb(26.666667%,26.666667%,26.666667%);stroke-opacity:1;stroke-miterlimit:10;\" d=\"M 415.625 383.621094 C 392.539062 388.601562 375.8125 403.371094 378.472656 426.429688 \"/>\n",
              "<path style=\" stroke:none;fill-rule:nonzero;fill:rgb(26.666667%,26.666667%,26.666667%);fill-opacity:1;\" d=\"M 380.105469 440.601562 L 373.867188 426.960938 L 383.074219 425.898438 L 380.105469 440.601562 \"/>\n",
              "<path style=\"fill:none;stroke-width:1;stroke-linecap:butt;stroke-linejoin:miter;stroke:rgb(26.666667%,26.666667%,26.666667%);stroke-opacity:1;stroke-miterlimit:10;\" d=\"M 456.816406 516.308594 C 484.074219 505.085938 500.34375 483.726562 493 455.511719 \"/>\n",
              "<path style=\" stroke:none;fill-rule:nonzero;fill:rgb(26.666667%,26.666667%,26.666667%);fill-opacity:1;\" d=\"M 489.40625 441.707031 L 497.484375 454.34375 L 488.511719 456.679688 L 489.40625 441.707031 \"/>\n",
              "<path style=\"fill:none;stroke-width:1;stroke-linecap:butt;stroke-linejoin:miter;stroke:rgb(26.666667%,26.666667%,26.666667%);stroke-opacity:1;stroke-miterlimit:10;\" d=\"M 456.816406 516.308594 C 438.429688 523.429688 425.945312 538.128906 431.773438 556.457031 \"/>\n",
              "<path style=\" stroke:none;fill-rule:nonzero;fill:rgb(26.666667%,26.666667%,26.666667%);fill-opacity:1;\" d=\"M 436.097656 570.050781 L 427.359375 557.863281 L 436.191406 555.050781 L 436.097656 570.050781 \"/>\n",
              "<path style=\"fill:none;stroke-width:1;stroke-linecap:butt;stroke-linejoin:miter;stroke:rgb(26.666667%,26.666667%,26.666667%);stroke-opacity:1;stroke-miterlimit:10;\" d=\"M 456.816406 516.308594 C 457.761719 495.476562 448.882812 477.371094 428.636719 474.953125 \"/>\n",
              "<path style=\" stroke:none;fill-rule:nonzero;fill:rgb(26.666667%,26.666667%,26.666667%);fill-opacity:1;\" d=\"M 414.46875 473.257812 L 429.183594 470.351562 L 428.085938 479.554688 L 414.46875 473.257812 \"/>\n",
              "<path style=\"fill:none;stroke-width:1;stroke-linecap:butt;stroke-linejoin:miter;stroke:rgb(26.666667%,26.666667%,26.666667%);stroke-opacity:1;stroke-miterlimit:10;\" d=\"M 456.816406 516.308594 C 455.300781 482.546875 438.601562 457.335938 405.292969 453.671875 \"/>\n",
              "<path style=\" stroke:none;fill-rule:nonzero;fill:rgb(26.666667%,26.666667%,26.666667%);fill-opacity:1;\" d=\"M 391.113281 452.113281 L 405.800781 449.0625 L 404.785156 458.277344 L 391.113281 452.113281 \"/>\n",
              "<path style=\"fill:none;stroke-width:1;stroke-linecap:butt;stroke-linejoin:miter;stroke:rgb(26.666667%,26.666667%,26.666667%);stroke-opacity:1;stroke-miterlimit:10;\" d=\"M 314.925781 425.277344 C 336.34375 380.933594 331.40625 338.761719 292.195312 309.296875 \"/>\n",
              "<path style=\" stroke:none;fill-rule:nonzero;fill:rgb(26.666667%,26.666667%,26.666667%);fill-opacity:1;\" d=\"M 280.789062 300.726562 L 294.980469 305.589844 L 289.410156 313 L 280.789062 300.726562 \"/>\n",
              "<path style=\"fill:none;stroke-width:1;stroke-linecap:butt;stroke-linejoin:miter;stroke:rgb(26.666667%,26.666667%,26.666667%);stroke-opacity:1;stroke-miterlimit:10;\" d=\"M 314.925781 425.277344 C 323.175781 423.714844 331.523438 417.023438 328.515625 410.394531 \"/>\n",
              "<path style=\" stroke:none;fill-rule:nonzero;fill:rgb(26.666667%,26.666667%,26.666667%);fill-opacity:1;\" d=\"M 322.625 397.402344 L 332.738281 408.480469 L 324.296875 412.308594 L 322.625 397.402344 \"/>\n",
              "<path style=\"fill:none;stroke-width:1;stroke-linecap:butt;stroke-linejoin:miter;stroke:rgb(26.666667%,26.666667%,26.666667%);stroke-opacity:1;stroke-miterlimit:10;\" d=\"M 314.925781 425.277344 C 324.246094 458.125 346.503906 479.007812 380.125 474.925781 \"/>\n",
              "<path style=\" stroke:none;fill-rule:nonzero;fill:rgb(26.666667%,26.666667%,26.666667%);fill-opacity:1;\" d=\"M 394.289062 473.207031 L 380.683594 479.527344 L 379.566406 470.324219 L 394.289062 473.207031 \"/>\n",
              "<path style=\"fill:none;stroke-width:1;stroke-linecap:butt;stroke-linejoin:miter;stroke:rgb(26.666667%,26.666667%,26.666667%);stroke-opacity:1;stroke-miterlimit:10;\" d=\"M 314.925781 425.277344 C 321.25 446.144531 336.230469 460.722656 357.117188 456.230469 \"/>\n",
              "<path style=\" stroke:none;fill-rule:nonzero;fill:rgb(26.666667%,26.666667%,26.666667%);fill-opacity:1;\" d=\"M 371.066406 453.234375 L 358.09375 460.761719 L 356.144531 451.699219 L 371.066406 453.234375 \"/>\n",
              "<path style=\"fill:none;stroke-width:1;stroke-linecap:butt;stroke-linejoin:miter;stroke:rgb(26.666667%,26.666667%,26.666667%);stroke-opacity:1;stroke-miterlimit:10;\" d=\"M 412.839844 338.152344 C 382.761719 275.390625 332.390625 245.359375 264.707031 260.964844 \"/>\n",
              "<path style=\" stroke:none;fill-rule:nonzero;fill:rgb(26.666667%,26.666667%,26.666667%);fill-opacity:1;\" d=\"M 250.804688 264.167969 L 263.664062 256.445312 L 265.75 265.480469 L 250.804688 264.167969 \"/>\n",
              "<path style=\"fill:none;stroke-width:1;stroke-linecap:butt;stroke-linejoin:miter;stroke:rgb(26.666667%,26.666667%,26.666667%);stroke-opacity:1;stroke-miterlimit:10;\" d=\"M 412.839844 338.152344 C 449.609375 351.6875 483.421875 344.894531 502.925781 311.195312 \"/>\n",
              "<path style=\" stroke:none;fill-rule:nonzero;fill:rgb(26.666667%,26.666667%,26.666667%);fill-opacity:1;\" d=\"M 510.074219 298.847656 L 506.9375 313.515625 L 498.914062 308.875 L 510.074219 298.847656 \"/>\n",
              "<path style=\"fill:none;stroke-width:1;stroke-linecap:butt;stroke-linejoin:miter;stroke:rgb(26.666667%,26.666667%,26.666667%);stroke-opacity:1;stroke-miterlimit:10;\" d=\"M 412.839844 338.152344 C 441.625 369.664062 477.5 379.730469 513.488281 357.203125 \"/>\n",
              "<path style=\" stroke:none;fill-rule:nonzero;fill:rgb(26.666667%,26.666667%,26.666667%);fill-opacity:1;\" d=\"M 525.578125 349.632812 L 515.945312 361.132812 L 511.027344 353.273438 L 525.578125 349.632812 \"/>\n",
              "<path style=\"fill:none;stroke-width:1;stroke-linecap:butt;stroke-linejoin:miter;stroke:rgb(26.666667%,26.666667%,26.666667%);stroke-opacity:1;stroke-miterlimit:10;\" d=\"M 412.839844 338.152344 C 402.785156 343.804688 395.566406 354.671875 401.671875 363.484375 \"/>\n",
              "<path style=\" stroke:none;fill-rule:nonzero;fill:rgb(26.666667%,26.666667%,26.666667%);fill-opacity:1;\" d=\"M 409.800781 375.210938 L 397.863281 366.125 L 405.484375 360.847656 L 409.800781 375.210938 \"/>\n",
              "<path style=\"fill:none;stroke-width:1;stroke-linecap:butt;stroke-linejoin:miter;stroke:rgb(26.666667%,26.666667%,26.666667%);stroke-opacity:1;stroke-miterlimit:10;\" d=\"M 412.839844 338.152344 C 377.414062 370.546875 366.539062 410.574219 391.464844 451.363281 \"/>\n",
              "<path style=\" stroke:none;fill-rule:nonzero;fill:rgb(26.666667%,26.666667%,26.666667%);fill-opacity:1;\" d=\"M 398.902344 463.539062 L 387.507812 453.78125 L 395.421875 448.949219 L 398.902344 463.539062 \"/>\n",
              "<path style=\"fill:none;stroke-width:1;stroke-linecap:butt;stroke-linejoin:miter;stroke:rgb(26.666667%,26.666667%,26.666667%);stroke-opacity:1;stroke-miterlimit:10;\" d=\"M 412.839844 338.152344 C 377.148438 358.292969 359.839844 389.761719 373.3125 428.21875 \"/>\n",
              "<path style=\" stroke:none;fill-rule:nonzero;fill:rgb(26.666667%,26.666667%,26.666667%);fill-opacity:1;\" d=\"M 378.03125 441.679688 L 368.9375 429.75 L 377.6875 426.683594 L 378.03125 441.679688 \"/>\n",
              "<path style=\"fill:none;stroke-width:1;stroke-linecap:butt;stroke-linejoin:miter;stroke:rgb(26.666667%,26.666667%,26.666667%);stroke-opacity:1;stroke-miterlimit:10;\" d=\"M 404.085938 472.019531 C 419.535156 423.402344 408.214844 381.027344 363.746094 356.429688 \"/>\n",
              "<path style=\" stroke:none;fill-rule:nonzero;fill:rgb(26.666667%,26.666667%,26.666667%);fill-opacity:1;\" d=\"M 351.261719 349.523438 L 365.988281 352.371094 L 361.5 360.484375 L 351.261719 349.523438 \"/>\n",
              "<path style=\"fill:none;stroke-width:1;stroke-linecap:butt;stroke-linejoin:miter;stroke:rgb(26.666667%,26.666667%,26.666667%);stroke-opacity:1;stroke-miterlimit:10;\" d=\"M 404.085938 472.019531 C 403.453125 429.960938 383.582031 399.023438 342.3125 392.175781 \"/>\n",
              "<path style=\" stroke:none;fill-rule:nonzero;fill:rgb(26.666667%,26.666667%,26.666667%);fill-opacity:1;\" d=\"M 328.238281 389.839844 L 343.070312 387.601562 L 341.550781 396.746094 L 328.238281 389.839844 \"/>\n",
              "<path style=\"fill:none;stroke-width:1;stroke-linecap:butt;stroke-linejoin:miter;stroke:rgb(26.666667%,26.666667%,26.666667%);stroke-opacity:1;stroke-miterlimit:10;\" d=\"M 404.085938 472.019531 C 381.765625 488.160156 371.425781 511.285156 384.476562 535.148438 \"/>\n",
              "<path style=\" stroke:none;fill-rule:nonzero;fill:rgb(26.666667%,26.666667%,26.666667%);fill-opacity:1;\" d=\"M 391.324219 547.664062 L 380.410156 537.371094 L 388.542969 532.921875 L 391.324219 547.664062 \"/>\n",
              "<path style=\"fill:none;stroke-width:1;stroke-linecap:butt;stroke-linejoin:miter;stroke:rgb(26.666667%,26.666667%,26.666667%);stroke-opacity:1;stroke-miterlimit:10;\" d=\"M 404.085938 472.019531 C 369.476562 482.707031 348.128906 506.753906 353.023438 542.378906 \"/>\n",
              "<path style=\" stroke:none;fill-rule:nonzero;fill:rgb(26.666667%,26.666667%,26.666667%);fill-opacity:1;\" d=\"M 354.96875 556.511719 L 348.433594 543.007812 L 357.617188 541.746094 L 354.96875 556.511719 \"/>\n",
              "<path style=\"fill:none;stroke-width:1;stroke-linecap:butt;stroke-linejoin:miter;stroke:rgb(26.666667%,26.666667%,26.666667%);stroke-opacity:1;stroke-miterlimit:10;\" d=\"M 404.085938 472.019531 C 368.699219 468.164062 339.992188 481.519531 330.589844 515.570312 \"/>\n",
              "<path style=\" stroke:none;fill-rule:nonzero;fill:rgb(26.666667%,26.666667%,26.666667%);fill-opacity:1;\" d=\"M 326.792969 529.324219 L 326.121094 514.339844 L 335.054688 516.804688 L 326.792969 529.324219 \"/>\n",
              "<path style=\"fill:none;stroke-width:1;stroke-linecap:butt;stroke-linejoin:miter;stroke:rgb(26.666667%,26.666667%,26.666667%);stroke-opacity:1;stroke-miterlimit:10;\" d=\"M 404.085938 472.019531 C 418.117188 496.664062 440.566406 509.722656 466.511719 499.132812 \"/>\n",
              "<path style=\" stroke:none;fill-rule:nonzero;fill:rgb(26.666667%,26.666667%,26.666667%);fill-opacity:1;\" d=\"M 479.71875 493.742188 L 468.261719 503.421875 L 464.757812 494.839844 L 479.71875 493.742188 \"/>\n",
              "<path style=\"fill:none;stroke-width:1;stroke-linecap:butt;stroke-linejoin:miter;stroke:rgb(26.666667%,26.666667%,26.666667%);stroke-opacity:1;stroke-miterlimit:10;\" d=\"M 404.085938 472.019531 C 408.074219 523.910156 434.996094 559.566406 486.464844 565.90625 \"/>\n",
              "<path style=\" stroke:none;fill-rule:nonzero;fill:rgb(26.666667%,26.666667%,26.666667%);fill-opacity:1;\" d=\"M 500.621094 567.648438 L 485.898438 570.503906 L 487.03125 561.304688 L 500.621094 567.648438 \"/>\n",
              "<path style=\"fill:none;stroke-width:1;stroke-linecap:butt;stroke-linejoin:miter;stroke:rgb(26.666667%,26.666667%,26.666667%);stroke-opacity:1;stroke-miterlimit:10;\" d=\"M 404.085938 472.019531 C 432.421875 483.40625 459.792969 479.261719 474.886719 453.074219 \"/>\n",
              "<path style=\" stroke:none;fill-rule:nonzero;fill:rgb(26.666667%,26.666667%,26.666667%);fill-opacity:1;\" d=\"M 482.011719 440.714844 L 478.902344 455.390625 L 470.871094 450.761719 L 482.011719 440.714844 \"/>\n",
              "<path style=\"fill:none;stroke-width:1;stroke-linecap:butt;stroke-linejoin:miter;stroke:rgb(26.666667%,26.666667%,26.666667%);stroke-opacity:1;stroke-miterlimit:10;\" d=\"M 404.085938 472.019531 C 403.140625 492.847656 412.015625 510.953125 432.265625 513.375 \"/>\n",
              "<path style=\" stroke:none;fill-rule:nonzero;fill:rgb(26.666667%,26.666667%,26.666667%);fill-opacity:1;\" d=\"M 446.429688 515.066406 L 431.714844 517.976562 L 432.816406 508.769531 L 446.429688 515.066406 \"/>\n",
              "<path style=\"fill:none;stroke-width:1;stroke-linecap:butt;stroke-linejoin:miter;stroke:rgb(26.666667%,26.666667%,26.666667%);stroke-opacity:1;stroke-miterlimit:10;\" d=\"M 404.085938 472.019531 C 394.765625 439.167969 372.503906 418.289062 338.882812 422.367188 \"/>\n",
              "<path style=\" stroke:none;fill-rule:nonzero;fill:rgb(26.666667%,26.666667%,26.666667%);fill-opacity:1;\" d=\"M 324.722656 424.085938 L 338.324219 417.765625 L 339.441406 426.96875 L 324.722656 424.085938 \"/>\n",
              "<path style=\"fill:none;stroke-width:1;stroke-linecap:butt;stroke-linejoin:miter;stroke:rgb(26.666667%,26.666667%,26.666667%);stroke-opacity:1;stroke-miterlimit:10;\" d=\"M 404.085938 472.019531 C 439.511719 439.625 450.386719 399.597656 425.460938 358.808594 \"/>\n",
              "<path style=\" stroke:none;fill-rule:nonzero;fill:rgb(26.666667%,26.666667%,26.666667%);fill-opacity:1;\" d=\"M 418.023438 346.632812 L 429.414062 356.390625 L 421.503906 361.222656 L 418.023438 346.632812 \"/>\n",
              "<path style=\"fill:none;stroke-width:1;stroke-linecap:butt;stroke-linejoin:miter;stroke:rgb(26.666667%,26.666667%,26.666667%);stroke-opacity:1;stroke-miterlimit:10;\" d=\"M 404.085938 472.019531 C 408.050781 467.191406 409.296875 458.203125 404.75 457.039062 \"/>\n",
              "<path style=\" stroke:none;fill-rule:nonzero;fill:rgb(26.666667%,26.666667%,26.666667%);fill-opacity:1;\" d=\"M 390.929688 453.5 L 405.902344 452.546875 L 403.601562 461.527344 L 390.929688 453.5 \"/>\n",
              "<path style=\"fill:none;stroke-width:1;stroke-linecap:butt;stroke-linejoin:miter;stroke:rgb(26.666667%,26.666667%,26.666667%);stroke-opacity:1;stroke-miterlimit:10;\" d=\"M 381.304688 451.03125 C 382.832031 421.792969 370.585938 398.078125 342.136719 392.695312 \"/>\n",
              "<path style=\" stroke:none;fill-rule:nonzero;fill:rgb(26.666667%,26.666667%,26.666667%);fill-opacity:1;\" d=\"M 328.117188 390.042969 L 342.996094 388.140625 L 341.273438 397.25 L 328.117188 390.042969 \"/>\n",
              "<path style=\"fill:none;stroke-width:1;stroke-linecap:butt;stroke-linejoin:miter;stroke:rgb(26.666667%,26.666667%,26.666667%);stroke-opacity:1;stroke-miterlimit:10;\" d=\"M 381.304688 451.03125 C 356.136719 430.039062 327.058594 425.421875 302.75 446.96875 \"/>\n",
              "<path style=\" stroke:none;fill-rule:nonzero;fill:rgb(26.666667%,26.666667%,26.666667%);fill-opacity:1;\" d=\"M 292.070312 456.429688 L 299.675781 443.5 L 305.824219 450.4375 L 292.070312 456.429688 \"/>\n",
              "<path style=\"fill:none;stroke-width:1;stroke-linecap:butt;stroke-linejoin:miter;stroke:rgb(26.666667%,26.666667%,26.666667%);stroke-opacity:1;stroke-miterlimit:10;\" d=\"M 381.304688 451.03125 C 400.148438 400.246094 390.15625 354.964844 344.347656 326.386719 \"/>\n",
              "<path style=\" stroke:none;fill-rule:nonzero;fill:rgb(26.666667%,26.666667%,26.666667%);fill-opacity:1;\" d=\"M 332.242188 318.835938 L 346.800781 322.453125 L 341.894531 330.320312 L 332.242188 318.835938 \"/>\n",
              "<path style=\"fill:none;stroke-width:1;stroke-linecap:butt;stroke-linejoin:miter;stroke:rgb(26.666667%,26.666667%,26.666667%);stroke-opacity:1;stroke-miterlimit:10;\" d=\"M 381.304688 451.03125 C 358.886719 479.785156 355.128906 511.90625 379.664062 538.519531 \"/>\n",
              "<path style=\" stroke:none;fill-rule:nonzero;fill:rgb(26.666667%,26.666667%,26.666667%);fill-opacity:1;\" d=\"M 389.335938 549.007812 L 376.257812 541.660156 L 383.074219 535.378906 L 389.335938 549.007812 \"/>\n",
              "<path style=\"fill:none;stroke-width:1;stroke-linecap:butt;stroke-linejoin:miter;stroke:rgb(26.666667%,26.666667%,26.666667%);stroke-opacity:1;stroke-miterlimit:10;\" d=\"M 381.304688 451.03125 C 346.625 473.441406 331.144531 506.117188 346.984375 543.996094 \"/>\n",
              "<path style=\" stroke:none;fill-rule:nonzero;fill:rgb(26.666667%,26.666667%,26.666667%);fill-opacity:1;\" d=\"M 352.488281 557.15625 L 342.707031 545.785156 L 351.261719 542.207031 L 352.488281 557.15625 \"/>\n",
              "<path style=\"fill:none;stroke-width:1;stroke-linecap:butt;stroke-linejoin:miter;stroke:rgb(26.666667%,26.666667%,26.666667%);stroke-opacity:1;stroke-miterlimit:10;\" d=\"M 381.304688 451.03125 C 346.109375 457.800781 322.46875 479.152344 323.476562 514.710938 \"/>\n",
              "<path style=\" stroke:none;fill-rule:nonzero;fill:rgb(26.666667%,26.666667%,26.666667%);fill-opacity:1;\" d=\"M 323.882812 528.96875 L 318.84375 514.839844 L 328.113281 514.578125 L 323.882812 528.96875 \"/>\n",
              "<path style=\"fill:none;stroke-width:1;stroke-linecap:butt;stroke-linejoin:miter;stroke:rgb(26.666667%,26.666667%,26.666667%);stroke-opacity:1;stroke-miterlimit:10;\" d=\"M 381.304688 451.03125 C 367.328125 399.976562 333.578125 369.621094 280.945312 373.132812 \"/>\n",
              "<path style=\" stroke:none;fill-rule:nonzero;fill:rgb(26.666667%,26.666667%,26.666667%);fill-opacity:1;\" d=\"M 266.710938 374.085938 L 280.636719 368.507812 L 281.253906 377.757812 L 266.710938 374.085938 \"/>\n",
              "<path style=\"fill:none;stroke-width:1;stroke-linecap:butt;stroke-linejoin:miter;stroke:rgb(26.666667%,26.666667%,26.666667%);stroke-opacity:1;stroke-miterlimit:10;\" d=\"M 381.304688 451.03125 C 398.050781 487.144531 427.230469 506.449219 465.460938 496.253906 \"/>\n",
              "<path style=\" stroke:none;fill-rule:nonzero;fill:rgb(26.666667%,26.666667%,26.666667%);fill-opacity:1;\" d=\"M 479.246094 492.582031 L 466.65625 500.734375 L 464.269531 491.777344 L 479.246094 492.582031 \"/>\n",
              "<path style=\"fill:none;stroke-width:1;stroke-linecap:butt;stroke-linejoin:miter;stroke:rgb(26.666667%,26.666667%,26.666667%);stroke-opacity:1;stroke-miterlimit:10;\" d=\"M 381.304688 451.03125 C 411.257812 472.554688 443.839844 475.046875 469.804688 449.21875 \"/>\n",
              "<path style=\" stroke:none;fill-rule:nonzero;fill:rgb(26.666667%,26.666667%,26.666667%);fill-opacity:1;\" d=\"M 479.917969 439.160156 L 473.074219 452.507812 L 466.535156 445.933594 L 479.917969 439.160156 \"/>\n",
              "<path style=\"fill:none;stroke-width:1;stroke-linecap:butt;stroke-linejoin:miter;stroke:rgb(26.666667%,26.666667%,26.666667%);stroke-opacity:1;stroke-miterlimit:10;\" d=\"M 381.304688 451.03125 C 364.507812 499.195312 374.640625 541.867188 418.40625 567.691406 \"/>\n",
              "<path style=\" stroke:none;fill-rule:nonzero;fill:rgb(26.666667%,26.666667%,26.666667%);fill-opacity:1;\" d=\"M 430.695312 574.941406 L 416.050781 571.683594 L 420.761719 563.703125 L 430.695312 574.941406 \"/>\n",
              "<path style=\"fill:none;stroke-width:1;stroke-linecap:butt;stroke-linejoin:miter;stroke:rgb(26.666667%,26.666667%,26.666667%);stroke-opacity:1;stroke-miterlimit:10;\" d=\"M 381.304688 451.03125 C 423.425781 448.953125 453.730469 427.972656 459.183594 386.382812 \"/>\n",
              "<path style=\" stroke:none;fill-rule:nonzero;fill:rgb(26.666667%,26.666667%,26.666667%);fill-opacity:1;\" d=\"M 461.039062 372.238281 L 463.78125 386.988281 L 454.589844 385.78125 L 461.039062 372.238281 \"/>\n",
              "<path style=\"fill:none;stroke-width:1;stroke-linecap:butt;stroke-linejoin:miter;stroke:rgb(26.666667%,26.666667%,26.666667%);stroke-opacity:1;stroke-miterlimit:10;\" d=\"M 381.304688 451.03125 C 404.394531 446.050781 421.117188 431.28125 418.460938 408.222656 \"/>\n",
              "<path style=\" stroke:none;fill-rule:nonzero;fill:rgb(26.666667%,26.666667%,26.666667%);fill-opacity:1;\" d=\"M 416.828125 394.050781 L 423.066406 407.691406 L 413.855469 408.753906 L 416.828125 394.050781 \"/>\n",
              "<path style=\"fill:none;stroke-width:1;stroke-linecap:butt;stroke-linejoin:miter;stroke:rgb(26.666667%,26.666667%,26.666667%);stroke-opacity:1;stroke-miterlimit:10;\" d=\"M 381.304688 451.03125 C 382.820312 484.792969 399.519531 510.003906 432.828125 513.667969 \"/>\n",
              "<path style=\" stroke:none;fill-rule:nonzero;fill:rgb(26.666667%,26.666667%,26.666667%);fill-opacity:1;\" d=\"M 447.007812 515.230469 L 432.320312 518.277344 L 433.335938 509.0625 L 447.007812 515.230469 \"/>\n",
              "<path style=\"fill:none;stroke-width:1;stroke-linecap:butt;stroke-linejoin:miter;stroke:rgb(26.666667%,26.666667%,26.666667%);stroke-opacity:1;stroke-miterlimit:10;\" d=\"M 381.304688 451.03125 C 374.980469 430.164062 360 415.585938 339.109375 420.078125 \"/>\n",
              "<path style=\" stroke:none;fill-rule:nonzero;fill:rgb(26.666667%,26.666667%,26.666667%);fill-opacity:1;\" d=\"M 325.164062 423.074219 L 338.136719 415.546875 L 340.085938 424.609375 L 325.164062 423.074219 \"/>\n",
              "<path style=\"fill:none;stroke-width:1;stroke-linecap:butt;stroke-linejoin:miter;stroke:rgb(26.666667%,26.666667%,26.666667%);stroke-opacity:1;stroke-miterlimit:10;\" d=\"M 381.304688 451.03125 C 416.996094 430.894531 434.304688 399.421875 420.832031 360.96875 \"/>\n",
              "<path style=\" stroke:none;fill-rule:nonzero;fill:rgb(26.666667%,26.666667%,26.666667%);fill-opacity:1;\" d=\"M 416.117188 347.503906 L 425.207031 359.433594 L 416.457031 362.5 L 416.117188 347.503906 \"/>\n",
              "<path style=\"fill:none;stroke-width:1;stroke-linecap:butt;stroke-linejoin:miter;stroke:rgb(26.666667%,26.666667%,26.666667%);stroke-opacity:1;stroke-miterlimit:10;\" d=\"M 381.304688 451.03125 C 377.339844 455.859375 376.09375 464.847656 380.640625 466.011719 \"/>\n",
              "<path style=\" stroke:none;fill-rule:nonzero;fill:rgb(26.666667%,26.666667%,26.666667%);fill-opacity:1;\" d=\"M 394.460938 469.554688 L 379.488281 470.503906 L 381.789062 461.523438 L 394.460938 469.554688 \"/>\n",
              "<path style=\"fill-rule:nonzero;fill:rgb(100%,0%,0%);fill-opacity:1;stroke-width:1;stroke-linecap:butt;stroke-linejoin:miter;stroke:rgb(0%,0%,0%);stroke-opacity:1;stroke-miterlimit:10;\" d=\"M 590 20 C 590 25.523438 585.523438 30 580 30 C 574.476562 30 570 25.523438 570 20 C 570 14.476562 574.476562 10 580 10 C 585.523438 10 590 14.476562 590 20 \"/>\n",
              "<path style=\"fill-rule:nonzero;fill:rgb(100%,0%,0%);fill-opacity:1;stroke-width:1;stroke-linecap:butt;stroke-linejoin:miter;stroke:rgb(0%,0%,0%);stroke-opacity:1;stroke-miterlimit:10;\" d=\"M 251.0625 266.414062 C 251.0625 271.9375 246.585938 276.414062 241.0625 276.414062 C 235.539062 276.414062 231.0625 271.9375 231.0625 266.414062 C 231.0625 260.894531 235.539062 256.414062 241.0625 256.414062 C 246.585938 256.414062 251.0625 260.894531 251.0625 266.414062 \"/>\n",
              "<path style=\"fill-rule:nonzero;fill:rgb(100%,0%,0%);fill-opacity:1;stroke-width:1;stroke-linecap:butt;stroke-linejoin:miter;stroke:rgb(0%,0%,0%);stroke-opacity:1;stroke-miterlimit:10;\" d=\"M 282.839844 294.753906 C 282.839844 300.273438 278.363281 304.753906 272.839844 304.753906 C 267.320312 304.753906 262.839844 300.273438 262.839844 294.753906 C 262.839844 289.230469 267.320312 284.753906 272.839844 284.753906 C 278.363281 284.753906 282.839844 289.230469 282.839844 294.753906 \"/>\n",
              "<path style=\"fill-rule:nonzero;fill:rgb(100%,0%,0%);fill-opacity:1;stroke-width:1;stroke-linecap:butt;stroke-linejoin:miter;stroke:rgb(0%,0%,0%);stroke-opacity:1;stroke-miterlimit:10;\" d=\"M 352.554688 344.707031 C 352.554688 350.230469 348.078125 354.707031 342.554688 354.707031 C 337.03125 354.707031 332.554688 350.230469 332.554688 344.707031 C 332.554688 339.183594 337.03125 334.707031 342.554688 334.707031 C 348.078125 334.707031 352.554688 339.183594 352.554688 344.707031 \"/>\n",
              "<path style=\"fill-rule:nonzero;fill:rgb(100%,0%,0%);fill-opacity:1;stroke-width:1;stroke-linecap:butt;stroke-linejoin:miter;stroke:rgb(0%,0%,0%);stroke-opacity:1;stroke-miterlimit:10;\" d=\"M 337.992188 234.523438 C 337.992188 240.046875 333.515625 244.523438 327.992188 244.523438 C 322.46875 244.523438 317.992188 240.046875 317.992188 234.523438 C 317.992188 229 322.46875 224.523438 327.992188 224.523438 C 333.515625 224.523438 337.992188 229 337.992188 234.523438 \"/>\n",
              "<path style=\"fill-rule:nonzero;fill:rgb(100%,0%,0%);fill-opacity:1;stroke-width:1;stroke-linecap:butt;stroke-linejoin:miter;stroke:rgb(0%,0%,0%);stroke-opacity:1;stroke-miterlimit:10;\" d=\"M 137.25 203.542969 C 137.25 209.066406 132.773438 213.542969 127.25 213.542969 C 121.730469 213.542969 117.25 209.066406 117.25 203.542969 C 117.25 198.019531 121.730469 193.542969 127.25 193.542969 C 132.773438 193.542969 137.25 198.019531 137.25 203.542969 \"/>\n",
              "<path style=\"fill-rule:nonzero;fill:rgb(100%,0%,0%);fill-opacity:1;stroke-width:1;stroke-linecap:butt;stroke-linejoin:miter;stroke:rgb(0%,0%,0%);stroke-opacity:1;stroke-miterlimit:10;\" d=\"M 115.21875 305.917969 C 115.21875 311.4375 110.742188 315.917969 105.21875 315.917969 C 99.699219 315.917969 95.21875 311.4375 95.21875 305.917969 C 95.21875 300.394531 99.699219 295.917969 105.21875 295.917969 C 110.742188 295.917969 115.21875 300.394531 115.21875 305.917969 \"/>\n",
              "<path style=\"fill-rule:nonzero;fill:rgb(100%,0%,0%);fill-opacity:1;stroke-width:1;stroke-linecap:butt;stroke-linejoin:miter;stroke:rgb(0%,0%,0%);stroke-opacity:1;stroke-miterlimit:10;\" d=\"M 102.609375 260.007812 C 102.609375 265.53125 98.132812 270.007812 92.609375 270.007812 C 87.085938 270.007812 82.609375 265.53125 82.609375 260.007812 C 82.609375 254.488281 87.085938 250.007812 92.609375 250.007812 C 98.132812 250.007812 102.609375 254.488281 102.609375 260.007812 \"/>\n",
              "<path style=\"fill-rule:nonzero;fill:rgb(100%,0%,0%);fill-opacity:1;stroke-width:1;stroke-linecap:butt;stroke-linejoin:miter;stroke:rgb(0%,0%,0%);stroke-opacity:1;stroke-miterlimit:10;\" d=\"M 309.859375 247.054688 C 309.859375 252.574219 305.382812 257.054688 299.859375 257.054688 C 294.335938 257.054688 289.859375 252.574219 289.859375 247.054688 C 289.859375 241.53125 294.335938 237.054688 299.859375 237.054688 C 305.382812 237.054688 309.859375 241.53125 309.859375 247.054688 \"/>\n",
              "<path style=\"fill-rule:nonzero;fill:rgb(100%,0%,0%);fill-opacity:1;stroke-width:1;stroke-linecap:butt;stroke-linejoin:miter;stroke:rgb(0%,0%,0%);stroke-opacity:1;stroke-miterlimit:10;\" d=\"M 328.457031 388.214844 C 328.457031 393.738281 323.980469 398.214844 318.457031 398.214844 C 312.933594 398.214844 308.457031 393.738281 308.457031 388.214844 C 308.457031 382.691406 312.933594 378.214844 318.457031 378.214844 C 323.980469 378.214844 328.457031 382.691406 328.457031 388.214844 \"/>\n",
              "<path style=\"fill-rule:nonzero;fill:rgb(100%,0%,0%);fill-opacity:1;stroke-width:1;stroke-linecap:butt;stroke-linejoin:miter;stroke:rgb(0%,0%,0%);stroke-opacity:1;stroke-miterlimit:10;\" d=\"M 294.691406 462.96875 C 294.691406 468.492188 290.214844 472.96875 284.691406 472.96875 C 279.171875 472.96875 274.691406 468.492188 274.691406 462.96875 C 274.691406 457.449219 279.171875 452.96875 284.691406 452.96875 C 290.214844 452.96875 294.691406 457.449219 294.691406 462.96875 \"/>\n",
              "<path style=\"fill-rule:nonzero;fill:rgb(100%,0%,0%);fill-opacity:1;stroke-width:1;stroke-linecap:butt;stroke-linejoin:miter;stroke:rgb(0%,0%,0%);stroke-opacity:1;stroke-miterlimit:10;\" d=\"M 146.101562 255.6875 C 146.101562 261.207031 141.625 265.6875 136.101562 265.6875 C 130.578125 265.6875 126.101562 261.207031 126.101562 255.6875 C 126.101562 250.164062 130.578125 245.6875 136.101562 245.6875 C 141.625 245.6875 146.101562 250.164062 146.101562 255.6875 \"/>\n",
              "<path style=\"fill-rule:nonzero;fill:rgb(100%,0%,0%);fill-opacity:1;stroke-width:1;stroke-linecap:butt;stroke-linejoin:miter;stroke:rgb(0%,0%,0%);stroke-opacity:1;stroke-miterlimit:10;\" d=\"M 211.121094 128.074219 C 211.121094 133.597656 206.640625 138.074219 201.121094 138.074219 C 195.597656 138.074219 191.121094 133.597656 191.121094 128.074219 C 191.121094 122.550781 195.597656 118.074219 201.121094 118.074219 C 206.640625 118.074219 211.121094 122.550781 211.121094 128.074219 \"/>\n",
              "<path style=\"fill-rule:nonzero;fill:rgb(100%,0%,0%);fill-opacity:1;stroke-width:1;stroke-linecap:butt;stroke-linejoin:miter;stroke:rgb(0%,0%,0%);stroke-opacity:1;stroke-miterlimit:10;\" d=\"M 316.402344 151.773438 C 316.402344 157.296875 311.925781 161.773438 306.402344 161.773438 C 300.878906 161.773438 296.402344 157.296875 296.402344 151.773438 C 296.402344 146.25 300.878906 141.773438 306.402344 141.773438 C 311.925781 141.773438 316.402344 146.25 316.402344 151.773438 \"/>\n",
              "<path style=\"fill-rule:nonzero;fill:rgb(100%,0%,0%);fill-opacity:1;stroke-width:1;stroke-linecap:butt;stroke-linejoin:miter;stroke:rgb(0%,0%,0%);stroke-opacity:1;stroke-miterlimit:10;\" d=\"M 333.792969 313.566406 C 333.792969 319.089844 329.316406 323.566406 323.792969 323.566406 C 318.269531 323.566406 313.792969 319.089844 313.792969 313.566406 C 313.792969 308.042969 318.269531 303.566406 323.792969 303.566406 C 329.316406 303.566406 333.792969 308.042969 333.792969 313.566406 \"/>\n",
              "<path style=\"fill-rule:nonzero;fill:rgb(100%,0%,0%);fill-opacity:1;stroke-width:1;stroke-linecap:butt;stroke-linejoin:miter;stroke:rgb(0%,0%,0%);stroke-opacity:1;stroke-miterlimit:10;\" d=\"M 406.035156 556.273438 C 406.035156 561.796875 401.558594 566.273438 396.035156 566.273438 C 390.511719 566.273438 386.035156 561.796875 386.035156 556.273438 C 386.035156 550.75 390.511719 546.273438 396.035156 546.273438 C 401.558594 546.273438 406.035156 550.75 406.035156 556.273438 \"/>\n",
              "<path style=\"fill-rule:nonzero;fill:rgb(100%,0%,0%);fill-opacity:1;stroke-width:1;stroke-linecap:butt;stroke-linejoin:miter;stroke:rgb(0%,0%,0%);stroke-opacity:1;stroke-miterlimit:10;\" d=\"M 366.3125 566.300781 C 366.3125 571.824219 361.835938 576.300781 356.3125 576.300781 C 350.789062 576.300781 346.3125 571.824219 346.3125 566.300781 C 346.3125 560.777344 350.789062 556.300781 356.3125 556.300781 C 361.835938 556.300781 366.3125 560.777344 366.3125 566.300781 \"/>\n",
              "<path style=\"fill-rule:nonzero;fill:rgb(100%,0%,0%);fill-opacity:1;stroke-width:1;stroke-linecap:butt;stroke-linejoin:miter;stroke:rgb(0%,0%,0%);stroke-opacity:1;stroke-miterlimit:10;\" d=\"M 30 305.34375 C 30 310.863281 25.523438 315.34375 20 315.34375 C 14.476562 315.34375 10 310.863281 10 305.34375 C 10 299.820312 14.476562 295.34375 20 295.34375 C 25.523438 295.34375 30 299.820312 30 305.34375 \"/>\n",
              "<path style=\"fill-rule:nonzero;fill:rgb(100%,0%,0%);fill-opacity:1;stroke-width:1;stroke-linecap:butt;stroke-linejoin:miter;stroke:rgb(0%,0%,0%);stroke-opacity:1;stroke-miterlimit:10;\" d=\"M 258.378906 184.835938 C 258.378906 190.359375 253.898438 194.835938 248.378906 194.835938 C 242.855469 194.835938 238.378906 190.359375 238.378906 184.835938 C 238.378906 179.3125 242.855469 174.835938 248.378906 174.835938 C 253.898438 174.835938 258.378906 179.3125 258.378906 184.835938 \"/>\n",
              "<path style=\"fill-rule:nonzero;fill:rgb(100%,0%,0%);fill-opacity:1;stroke-width:1;stroke-linecap:butt;stroke-linejoin:miter;stroke:rgb(0%,0%,0%);stroke-opacity:1;stroke-miterlimit:10;\" d=\"M 334.160156 538.84375 C 334.160156 544.367188 329.683594 548.84375 324.160156 548.84375 C 318.640625 548.84375 314.160156 544.367188 314.160156 538.84375 C 314.160156 533.324219 318.640625 528.84375 324.160156 528.84375 C 329.683594 528.84375 334.160156 533.324219 334.160156 538.84375 \"/>\n",
              "<path style=\"fill-rule:nonzero;fill:rgb(100%,0%,0%);fill-opacity:1;stroke-width:1;stroke-linecap:butt;stroke-linejoin:miter;stroke:rgb(0%,0%,0%);stroke-opacity:1;stroke-miterlimit:10;\" d=\"M 266.777344 374.746094 C 266.777344 380.269531 262.296875 384.746094 256.777344 384.746094 C 251.253906 384.746094 246.777344 380.269531 246.777344 374.746094 C 246.777344 369.222656 251.253906 364.746094 256.777344 364.746094 C 262.296875 364.746094 266.777344 369.222656 266.777344 374.746094 \"/>\n",
              "<path style=\"fill-rule:nonzero;fill:rgb(100%,0%,0%);fill-opacity:1;stroke-width:1;stroke-linecap:butt;stroke-linejoin:miter;stroke:rgb(0%,0%,0%);stroke-opacity:1;stroke-miterlimit:10;\" d=\"M 498.816406 490.03125 C 498.816406 495.550781 494.335938 500.03125 488.816406 500.03125 C 483.292969 500.03125 478.816406 495.550781 478.816406 490.03125 C 478.816406 484.507812 483.292969 480.03125 488.816406 480.03125 C 494.335938 480.03125 498.816406 484.507812 498.816406 490.03125 \"/>\n",
              "<path style=\"fill-rule:nonzero;fill:rgb(100%,0%,0%);fill-opacity:1;stroke-width:1;stroke-linecap:butt;stroke-linejoin:miter;stroke:rgb(0%,0%,0%);stroke-opacity:1;stroke-miterlimit:10;\" d=\"M 210.097656 220.789062 C 210.097656 226.308594 205.621094 230.789062 200.097656 230.789062 C 194.574219 230.789062 190.097656 226.308594 190.097656 220.789062 C 190.097656 215.265625 194.574219 210.789062 200.097656 210.789062 C 205.621094 210.789062 210.097656 215.265625 210.097656 220.789062 \"/>\n",
              "<path style=\"fill-rule:nonzero;fill:rgb(100%,0%,0%);fill-opacity:1;stroke-width:1;stroke-linecap:butt;stroke-linejoin:miter;stroke:rgb(0%,0%,0%);stroke-opacity:1;stroke-miterlimit:10;\" d=\"M 520.5 568.863281 C 520.5 574.386719 516.023438 578.863281 510.5 578.863281 C 504.980469 578.863281 500.5 574.386719 500.5 568.863281 C 500.5 563.339844 504.980469 558.863281 510.5 558.863281 C 516.023438 558.863281 520.5 563.339844 520.5 568.863281 \"/>\n",
              "<path style=\"fill-rule:nonzero;fill:rgb(100%,0%,0%);fill-opacity:1;stroke-width:1;stroke-linecap:butt;stroke-linejoin:miter;stroke:rgb(0%,0%,0%);stroke-opacity:1;stroke-miterlimit:10;\" d=\"M 496.929688 432.1875 C 496.929688 437.710938 492.449219 442.1875 486.929688 442.1875 C 481.40625 442.1875 476.929688 437.710938 476.929688 432.1875 C 476.929688 426.664062 481.40625 422.1875 486.929688 422.1875 C 492.449219 422.1875 496.929688 426.664062 496.929688 432.1875 \"/>\n",
              "<path style=\"fill-rule:nonzero;fill:rgb(100%,0%,0%);fill-opacity:1;stroke-width:1;stroke-linecap:butt;stroke-linejoin:miter;stroke:rgb(0%,0%,0%);stroke-opacity:1;stroke-miterlimit:10;\" d=\"M 525.03125 290.28125 C 525.03125 295.804688 520.554688 300.28125 515.03125 300.28125 C 509.507812 300.28125 505.03125 295.804688 505.03125 290.28125 C 505.03125 284.757812 509.507812 280.28125 515.03125 280.28125 C 520.554688 280.28125 525.03125 284.757812 525.03125 290.28125 \"/>\n",
              "<path style=\"fill-rule:nonzero;fill:rgb(100%,0%,0%);fill-opacity:1;stroke-width:1;stroke-linecap:butt;stroke-linejoin:miter;stroke:rgb(0%,0%,0%);stroke-opacity:1;stroke-miterlimit:10;\" d=\"M 543.984375 344.371094 C 543.984375 349.894531 539.507812 354.371094 533.984375 354.371094 C 528.464844 354.371094 523.984375 349.894531 523.984375 344.371094 C 523.984375 338.851562 528.464844 334.371094 533.984375 334.371094 C 539.507812 334.371094 543.984375 338.851562 543.984375 344.371094 \"/>\n",
              "<path style=\"fill-rule:nonzero;fill:rgb(100%,0%,0%);fill-opacity:1;stroke-width:1;stroke-linecap:butt;stroke-linejoin:miter;stroke:rgb(0%,0%,0%);stroke-opacity:1;stroke-miterlimit:10;\" d=\"M 449.261719 580 C 449.261719 585.523438 444.785156 590 439.261719 590 C 433.742188 590 429.261719 585.523438 429.261719 580 C 429.261719 574.476562 433.742188 570 439.261719 570 C 444.785156 570 449.261719 574.476562 449.261719 580 \"/>\n",
              "<path style=\"fill-rule:nonzero;fill:rgb(100%,0%,0%);fill-opacity:1;stroke-width:1;stroke-linecap:butt;stroke-linejoin:miter;stroke:rgb(0%,0%,0%);stroke-opacity:1;stroke-miterlimit:10;\" d=\"M 472.328125 362.410156 C 472.328125 367.933594 467.851562 372.410156 462.328125 372.410156 C 456.804688 372.410156 452.328125 367.933594 452.328125 362.410156 C 452.328125 356.886719 456.804688 352.410156 462.328125 352.410156 C 467.851562 352.410156 472.328125 356.886719 472.328125 362.410156 \"/>\n",
              "<path style=\"fill-rule:nonzero;fill:rgb(100%,0%,0%);fill-opacity:1;stroke-width:1;stroke-linecap:butt;stroke-linejoin:miter;stroke:rgb(0%,0%,0%);stroke-opacity:1;stroke-miterlimit:10;\" d=\"M 425.625 383.621094 C 425.625 389.144531 421.148438 393.621094 415.625 393.621094 C 410.101562 393.621094 405.625 389.144531 405.625 383.621094 C 405.625 378.097656 410.101562 373.621094 415.625 373.621094 C 421.148438 373.621094 425.625 378.097656 425.625 383.621094 \"/>\n",
              "<path style=\"fill-rule:nonzero;fill:rgb(100%,0%,0%);fill-opacity:1;stroke-width:1;stroke-linecap:butt;stroke-linejoin:miter;stroke:rgb(0%,0%,0%);stroke-opacity:1;stroke-miterlimit:10;\" d=\"M 466.816406 516.308594 C 466.816406 521.832031 462.339844 526.308594 456.816406 526.308594 C 451.292969 526.308594 446.816406 521.832031 446.816406 516.308594 C 446.816406 510.785156 451.292969 506.308594 456.816406 506.308594 C 462.339844 506.308594 466.816406 510.785156 466.816406 516.308594 \"/>\n",
              "<path style=\"fill-rule:nonzero;fill:rgb(100%,0%,0%);fill-opacity:1;stroke-width:1;stroke-linecap:butt;stroke-linejoin:miter;stroke:rgb(0%,0%,0%);stroke-opacity:1;stroke-miterlimit:10;\" d=\"M 324.925781 425.277344 C 324.925781 430.796875 320.445312 435.277344 314.925781 435.277344 C 309.402344 435.277344 304.925781 430.796875 304.925781 425.277344 C 304.925781 419.753906 309.402344 415.277344 314.925781 415.277344 C 320.445312 415.277344 324.925781 419.753906 324.925781 425.277344 \"/>\n",
              "<path style=\"fill-rule:nonzero;fill:rgb(100%,0%,0%);fill-opacity:1;stroke-width:1;stroke-linecap:butt;stroke-linejoin:miter;stroke:rgb(0%,0%,0%);stroke-opacity:1;stroke-miterlimit:10;\" d=\"M 422.839844 338.152344 C 422.839844 343.675781 418.363281 348.152344 412.839844 348.152344 C 407.316406 348.152344 402.839844 343.675781 402.839844 338.152344 C 402.839844 332.628906 407.316406 328.152344 412.839844 328.152344 C 418.363281 328.152344 422.839844 332.628906 422.839844 338.152344 \"/>\n",
              "<path style=\"fill-rule:nonzero;fill:rgb(100%,0%,0%);fill-opacity:1;stroke-width:1;stroke-linecap:butt;stroke-linejoin:miter;stroke:rgb(0%,0%,0%);stroke-opacity:1;stroke-miterlimit:10;\" d=\"M 414.085938 472.019531 C 414.085938 477.542969 409.609375 482.019531 404.085938 482.019531 C 398.5625 482.019531 394.085938 477.542969 394.085938 472.019531 C 394.085938 466.496094 398.5625 462.019531 404.085938 462.019531 C 409.609375 462.019531 414.085938 466.496094 414.085938 472.019531 \"/>\n",
              "<path style=\"fill-rule:nonzero;fill:rgb(100%,0%,0%);fill-opacity:1;stroke-width:1;stroke-linecap:butt;stroke-linejoin:miter;stroke:rgb(0%,0%,0%);stroke-opacity:1;stroke-miterlimit:10;\" d=\"M 391.304688 451.03125 C 391.304688 456.554688 386.828125 461.03125 381.304688 461.03125 C 375.78125 461.03125 371.304688 456.554688 371.304688 451.03125 C 371.304688 445.507812 375.78125 441.03125 381.304688 441.03125 C 386.828125 441.03125 391.304688 445.507812 391.304688 451.03125 \"/>\n",
              "</g>\n",
              "</svg>\n"
            ],
            "text/plain": [
              "<igraph.drawing.Plot at 0x7faa11219c90>"
            ]
          },
          "execution_count": 10,
          "metadata": {
            "image/svg+xml": {
              "isolated": true
            }
          },
          "output_type": "execute_result"
        }
      ],
      "source": [
        "#Plotten des Graphen\n",
        "graph_karate = Graph(n=34, edges=karate_edges, directed=True)\n",
        "plot(graph_karate)"
      ]
    },
    {
      "cell_type": "markdown",
      "metadata": {
        "id": "JGBk9U-cwWWD"
      },
      "source": [
        "### Aufgabe 6.8"
      ]
    },
    {
      "cell_type": "markdown",
      "metadata": {
        "id": "XynRm23YwWWE"
      },
      "source": [
        "Der Befehl *graph.page_rank(vertices)* aus dem Package *'igraph'* bestimmt den PageRank der Knoten, die in *vertices* angegeben werden (per default alle).\n",
        "- - -\n",
        "*Aufgabe:* Wenden Sie nun im nächsten Code-Chunk den PageRank-Algorithmus auf den Graphen *karate* an.\n",
        "- - -"
      ]
    },
    {
      "cell_type": "code",
      "execution_count": null,
      "metadata": {
        "colab": {
          "base_uri": "https://localhost:8080/"
        },
        "id": "Ty4GQLk2wWWE",
        "outputId": "c795a9dc-d8cc-469b-c81b-b24cca95bcad"
      },
      "outputs": [
        {
          "name": "stdout",
          "output_type": "stream",
          "text": [
            "[0.004392386530014642, 0.09705419441834287, 0.052962809198035005, 0.05739550046948946, 0.03588793044851046]\n",
            "0.09705419441834287\n"
          ]
        }
      ],
      "source": [
        "# {\"6_8\"}\n",
        "#Berechnen Sie den PageRank für alle Knoten von karate\n",
        "#und speichern Sie die resultierende Liste in der Variable C_R_karate\n",
        "C_R_karate = graph_karate.pagerank()\n",
        "#Geben Sie die ersten sechs Elemente von C_R_karate aus\n",
        "print(C_R_karate[0:6])\n",
        "#Geben Sie das Maximum von C_R_karate aus\n",
        "print(max(C_R_karate))"
      ]
    },
    {
      "cell_type": "markdown",
      "metadata": {},
      "source": [
        "#### Tipps"
      ]
    },
    {
      "cell_type": "markdown",
      "metadata": {},
      "source": [
        "##### Tipp 1"
      ]
    },
    {
      "cell_type": "markdown",
      "metadata": {},
      "source": [
        "Wenden Sie den Befehl der Form *graph.pagerank()* an"
      ]
    },
    {
      "cell_type": "markdown",
      "metadata": {},
      "source": [
        "##### Tipp 2"
      ]
    },
    {
      "cell_type": "markdown",
      "metadata": {},
      "source": [
        "Verwenden Sie [0:6] am Ende des Variablennamens um die ersten 6 Zeilen auszuwählen"
      ]
    },
    {
      "cell_type": "markdown",
      "metadata": {},
      "source": [
        "##### Lösung"
      ]
    },
    {
      "cell_type": "markdown",
      "metadata": {},
      "source": [
        "Berechnen Sie den PageRank für alle Knoten von karate und speichern Sie die resultierende Liste in der Variable C_R_karate\n",
        "<br><br>*C_R_karate = graph_karate.pagerank()*\n",
        "<br><br>Geben Sie die ersten sechs Elemente von C_R_karate aus\n",
        "<br><br>*print(C_R_karate[0:6])*\n",
        "<br><br>Geben Sie das Maximum von C_R_karate aus\n",
        "<br><br>*print(max(C_R_karate))*"
      ]
    }
  ],
  "metadata": {
    "colab": {
      "collapsed_sections": [],
      "name": "PS_Nr_3_Python.ipynb",
      "provenance": []
    },
    "interpreter": {
      "hash": "bed862baa169bd35b57b2a485b7961cf7d1bd32d9b549d4e10480d14566cc8ca"
    },
    "kernelspec": {
      "display_name": "Python 3.7.8 64-bit ('venv': venv)",
      "language": "python",
      "name": "python3"
    },
    "language_info": {
      "codemirror_mode": {
        "name": "ipython",
        "version": 3
      },
      "file_extension": ".py",
      "mimetype": "text/x-python",
      "name": "python",
      "nbconvert_exporter": "python",
      "pygments_lexer": "ipython3",
      "version": "3.7.8"
    },
    "orig_nbformat": 4
  },
  "nbformat": 4,
  "nbformat_minor": 0
}
