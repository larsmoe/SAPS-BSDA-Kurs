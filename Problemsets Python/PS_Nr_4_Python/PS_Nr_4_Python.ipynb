{
 "cells": [
  {
   "cell_type": "markdown",
   "metadata": {},
   "source": [
    "# Packages Laden"
   ]
  },
  {
   "cell_type": "code",
   "execution_count": 2,
   "metadata": {},
   "outputs": [],
   "source": [
    "from igraph import *\n",
    "import pandas as pd\n",
    "import numpy as np\n",
    "import matplotlib.pyplot as plt"
   ]
  },
  {
   "cell_type": "markdown",
   "metadata": {},
   "source": [
    "Willkommen zum vierten Python-Problem Set in diesem Modul!  \n",
    "Sie finden hier zwei Aufgaben (*Exercise 7* und *Exercise 8*) zu Inhalten aus Kapitel 3 *Social Network Analysis* - konkret zu den Teilen 3.3 *Communities in Netzwerken* und 3.4 *Information Diffusion in sozialen Netzwerken*."
   ]
  },
  {
   "cell_type": "markdown",
   "metadata": {},
   "source": [
    "# Exercise 7 -- Communities in Netzwerken"
   ]
  },
  {
   "cell_type": "markdown",
   "metadata": {},
   "source": [
    "Rufen Sie sich das Netzwerk *karate* zurück in Erinnerung, indem Sie den folgenden Code ausführen."
   ]
  },
  {
   "cell_type": "markdown",
   "metadata": {},
   "source": [
    "### Aufgabe 7.1"
   ]
  },
  {
   "cell_type": "code",
   "execution_count": 3,
   "metadata": {},
   "outputs": [],
   "source": [
    "# {\"7_1\"}\n",
    "# Import des Karate Netzwerks\n",
    "karate = pd.read_csv(\"../PS_Nr_2_Python/data/Karate/KARATE.csv\", sep=\";\", header=None, names=['A','B'])"
   ]
  },
  {
   "cell_type": "code",
   "execution_count": 4,
   "metadata": {},
   "outputs": [],
   "source": [
    "def create_edge_list(node_list1, node_list2):\n",
    "    edge_list = []\n",
    "    for node_1, node_2 in zip(node_list1, node_list2):\n",
    "        edge = (node_1, node_2)\n",
    "        edge_list.append(edge)\n",
    "    return edge_list"
   ]
  },
  {
   "cell_type": "code",
   "execution_count": 5,
   "metadata": {},
   "outputs": [],
   "source": [
    "karate_edges = create_edge_list(karate['A'].to_list(), karate['B'].to_list())"
   ]
  },
  {
   "cell_type": "code",
   "execution_count": null,
   "metadata": {},
   "outputs": [],
   "source": [
    "# Erzeugung des Karate Graphs\n",
    "graph_karate = Graph(edges=karate_edges, directed=True)\n",
    "\n",
    "# Plotten des Graphen karate\n",
    "plot(graph_karate)"
   ]
  },
  {
   "cell_type": "markdown",
   "metadata": {},
   "source": [
    "Wie Sie sehen können, sind die Knoten des Graphen - die Teilnehmer des Karateclubs - in zwei verschiedenen Farben dargestellt. Sie stellen die beiden Untergruppen dar, in die der Club nach seiner Aufspaltung zerfallen ist (igraphdata, 2015). Die Rede ist also von sogenannten **Communities**.  \n",
    "Im Skript haben Sie bereits einige Methoden zur Community Detection kennengelernt. In dieser Aufgabe wollen wir das *'igraph'*-Package nutzen, um Communities in Graphen ausfindig zu machen. Darüber hinaus werden wir die verschiedenen Algorithmen miteinander vergleichen.\n",
    "\n",
    "Luke (2015) merkt an, dass das Package *'igraph'* hinsichtlich Community Detection den Großteil der relevanten Algorithmen anbietet und zeigt eine Übersicht über die verschiedenen Algorithmen und ihre Umsetzung in R.\n",
    "\n",
    "Im Skript werden verschiedene Arten von Algorithmen angesprochen, von denen wir uns den folgenden näher widmen möchten:  \n",
    "* Divisive Algorithmen \n",
    "* Agglomerative Algorithmen\n",
    "* Maximierung von Zielkriterien\n",
    "\n",
    "Zu den genannten Kategorien werden wir je ein Beispiel untersuchen."
   ]
  },
  {
   "cell_type": "markdown",
   "metadata": {},
   "source": [
    "## a) Divisive Algorithmen - Edge-Betweenness-Algorithmus"
   ]
  },
  {
   "cell_type": "markdown",
   "metadata": {},
   "source": [
    "Ein Beispiel eines divisiven Algorithmus ist der **Edge-Betweenness-Algorithmus**. Er ist in R in der Funktion *cluster_edge_betweenness(graph, weights)* implementiert. Die Idee und die darauf basierende Umsetzung wird in igraphdata (2015) folgendermaßen beschrieben:\n",
    "\n",
    "Die Edge-Betweenness gibt an, auf wie vielen kürzesten Pfaden eine Kante sitzt. Gegeben ein Graph besteht aus mehreren Communities, so verlaufen durch diejenigen Kanten, die die Communities verbinden, sehr viele kürzeste Pfade. Umgekehrt ist die Wahrscheinlichkeit sehr hoch, dass eine Kante zwei Communities trennt, wenn sie eine hohe Edge-Betweenness besitzt. Im Sinne eines divisiven Algorithmus werden daher die Kanten mit der höchsten Edge-Betweenness nach und nach entfernt, um ein hierarchisches Cluster zu bilden.\n",
    "- - -\n",
    "*Aufgabe*: Wenden Sie den Befehl *cluster_edge_betweenness(graph, weights)* auf den Graphen *karate* an. Das Argument *weights* verwendet dabei automatisch das Kantenattribut *weight* des Graphen *karate*, falls nicht *weights=NULL* gesetzt wird. Um konsistent mit den bisherigen Betrachtungen zu sein, werden wir hier die Gewichte ebenfalls nicht berücksichtigen."
   ]
  },
  {
   "cell_type": "markdown",
   "metadata": {},
   "source": [
    "### Aufgabe 7.2"
   ]
  },
  {
   "cell_type": "code",
   "execution_count": 7,
   "metadata": {},
   "outputs": [],
   "source": [
    "# {\"7_2\"}\n",
    "#Wenden Sie den oben beschriebenen Befehl an und speichern Sie das\n",
    "#Ergebnis in der Variable karate_cl_edgebtw\n",
    "karate_cl_edgebtw = graph_karate.community_edge_betweenness()"
   ]
  },
  {
   "cell_type": "markdown",
   "metadata": {},
   "source": [
    "Grundsätzlich liefern fast alle Clusterbefehle in *'igraph'* ein Objekt der Klasse *communities* zurück. Hierauf können unter anderem die folgenden Befehle angewandt werden (Kolaczyk und Csárdi, 2014; Kapitel 4.4.1):  \n",
    "* *length(communities)* gibt die Anzahl der Communities im Graphen an \n",
    "* *sizes(communities)* gibt die Anzahl der Knoten in jeder Community an \n",
    "* *membership(communities)* gibt für jeden Knoten die Community an, zu der er gehört \n",
    "* *plot(communities, graph)* stellt die Communities grafisch dar, indem er den Graphen mit farbig markierten Communities plottet \n",
    "* *dendPlot(communities)* stellt das hierarchische Cluster in einem Dendrogramm dar (Näheres dazu später)\n",
    "\n",
    "Der letzte Befehl (*dendPlot*) ist leider nicht auf den Output jedes Clusterbefehls anwendbar - Voraussetzung hierfür ist, dass ein hierarchisches Cluster zurückgegeben wurde.\n",
    "\n",
    "- - -\n",
    "*Aufgabe*: Wenden Sie nun alle Befehle auf das Communities-Objekt *karate_cl_edgebtw* an.\n",
    "- - -"
   ]
  },
  {
   "cell_type": "markdown",
   "metadata": {},
   "source": [
    "### Aufgabe 7.3"
   ]
  },
  {
   "cell_type": "code",
   "execution_count": 8,
   "metadata": {},
   "outputs": [
    {
     "ename": "TypeError",
     "evalue": "object of type 'VertexDendrogram' has no len()",
     "output_type": "error",
     "traceback": [
      "\u001b[1;31m---------------------------------------------------------------------------\u001b[0m",
      "\u001b[1;31mTypeError\u001b[0m                                 Traceback (most recent call last)",
      "\u001b[1;32m~\\AppData\\Local\\Temp/ipykernel_4720/3475311224.py\u001b[0m in \u001b[0;36m<module>\u001b[1;34m\u001b[0m\n\u001b[0;32m      1\u001b[0m \u001b[1;31m# {\"7_3\"}\u001b[0m\u001b[1;33m\u001b[0m\u001b[1;33m\u001b[0m\u001b[1;33m\u001b[0m\u001b[0m\n\u001b[0;32m      2\u001b[0m \u001b[1;31m#Aus wie vielen Communities besteht karate?\u001b[0m\u001b[1;33m\u001b[0m\u001b[1;33m\u001b[0m\u001b[1;33m\u001b[0m\u001b[0m\n\u001b[1;32m----> 3\u001b[1;33m \u001b[0mprint\u001b[0m\u001b[1;33m(\u001b[0m\u001b[0mlen\u001b[0m\u001b[1;33m(\u001b[0m\u001b[0mkarate_cl_edgebtw\u001b[0m\u001b[1;33m)\u001b[0m\u001b[1;33m)\u001b[0m\u001b[1;33m\u001b[0m\u001b[1;33m\u001b[0m\u001b[0m\n\u001b[0m\u001b[0;32m      4\u001b[0m \u001b[1;31m#Wie groß sind die einzelnen Communities?\u001b[0m\u001b[1;33m\u001b[0m\u001b[1;33m\u001b[0m\u001b[1;33m\u001b[0m\u001b[0m\n\u001b[0;32m      5\u001b[0m \u001b[0mprint\u001b[0m\u001b[1;33m(\u001b[0m\u001b[0mkarate_cl_edgebtw\u001b[0m\u001b[1;33m.\u001b[0m\u001b[0msizes\u001b[0m\u001b[1;33m(\u001b[0m\u001b[1;33m)\u001b[0m\u001b[1;33m)\u001b[0m\u001b[1;33m\u001b[0m\u001b[1;33m\u001b[0m\u001b[0m\n",
      "\u001b[1;31mTypeError\u001b[0m: object of type 'VertexDendrogram' has no len()"
     ]
    }
   ],
   "source": [
    "# {\"7_3\"}\n",
    "#Aus wie vielen Communities besteht karate?\n",
    "print(len(karate_cl_edgebtw))\n",
    "#Wie groß sind die einzelnen Communities?\n",
    "print(karate_cl_edgebtw.sizes())\n",
    "#Lassen Sie sich für die ersten sechs Knoten anzeigen, \n",
    "#zu welcher Community sie gehören\n",
    "#Tipp: Befehl head (per default Ausgabe von sechs Zeilen)\n",
    "karate_cl_edgebtw.communities[0:5]\n",
    "#Plotten Sie den Graphen mit hervorgehobenen Communities\n",
    "#Achten Sie hierbei darauf, dass die Funktion plot(x,y)\n",
    "#als Eingabeparameter für x das Communities-Objekt und\n",
    "#und für y das Graph-Objekt erhält\n",
    "plot(x=karate_cl_edgebtw, y=karate)\n",
    "#Plotten Sie das Dendrogramm des Clusters.\n",
    "#Verwenden Sie auch hier für die Funktion dendPlot(x)\n",
    "#das Communities-Objekt für x.\n",
    "dendPlot(x=karate_cl_edgebtw)"
   ]
  },
  {
   "cell_type": "markdown",
   "metadata": {},
   "source": [
    "Wie Sie sehen, stellt das Dendrogramm alle möglichen Ebenen des Clustering dar: Von der Unterteilung des Graphen in seine einzelnen Knoten als separate Communities (ganz unten) bis hin zur Betrachtung des Graphen als eine einzige Community (oberste Linie).\n",
    "\n",
    "Die Communities, die der Edge-Betweenness-Algorithmus ermittelt hat, weichen leider ab von denen, welche im Graphen *karate* als Knotenattribut *Faction* angegeben und farblich im ersten Plot dieser Aufgabe dargestellt sind. Testen wir im Folgenden, was andere Algorithmen ergeben."
   ]
  },
  {
   "cell_type": "markdown",
   "metadata": {},
   "source": [
    "## b) Agglomerative Algorithmen - Label-Propagation-Algorithmus"
   ]
  },
  {
   "cell_type": "markdown",
   "metadata": {},
   "source": [
    "Im Skript haben Sie bereits ein Beispiel für einen agglomerativen Algorithmus kennengelernt: den **Label-Propagation-Algorihmus**.  \n",
    "In *'igraph'* wird dieser im Befehl *cluster_label_prop(graph, weights, initial, fixed)* umgesetzt. Dabei können Gewichte verwendet werden und es kann auch ein Cluster definiert werden, welches zu Beginn des Algorithmus genutzt wird (*initial*). Das Argument *fixed* legt für diesen Fall die Knoten fest, deren Zuordnung im Laufe des Algorithmus nicht verändert werden darf. Diese letzten beiden Argumente werden wir im Folgenden jedoch nicht verwenden.\n",
    "\n",
    "- - -\n",
    "*Aufgabe*: Nutzen Sie im folgenden Code-Chunk den Label-Propagation-Algorithmus, um die Communities des Graphen *karate* zu ermitteln (ohne Berücksichtigung der Gewichte, d.h. *weights=NA*).\n",
    "- - -"
   ]
  }
 ],
 "metadata": {
  "interpreter": {
   "hash": "bed862baa169bd35b57b2a485b7961cf7d1bd32d9b549d4e10480d14566cc8ca"
  },
  "kernelspec": {
   "display_name": "Python 3.7.8 64-bit ('venv': venv)",
   "language": "python",
   "name": "python3"
  },
  "language_info": {
   "codemirror_mode": {
    "name": "ipython",
    "version": 3
   },
   "file_extension": ".py",
   "mimetype": "text/x-python",
   "name": "python",
   "nbconvert_exporter": "python",
   "pygments_lexer": "ipython3",
   "version": "3.7.8"
  },
  "orig_nbformat": 4
 },
 "nbformat": 4,
 "nbformat_minor": 2
}
