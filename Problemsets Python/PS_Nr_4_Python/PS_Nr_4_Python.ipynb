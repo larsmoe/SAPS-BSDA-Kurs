{
 "cells": [
  {
   "cell_type": "markdown",
   "metadata": {},
   "source": [
    "Willkommen zum vierten Python-Problem Set in diesem Modul!  \n",
    "Sie finden hier zwei Aufgaben (*Exercise 7* und *Exercise 8*) zu Inhalten aus Kapitel 3 *Social Network Analysis* - konkret zu den Teilen 3.3 *Communities in Netzwerken* und 3.4 *Information Diffusion in sozialen Netzwerken*."
   ]
  },
  {
   "cell_type": "markdown",
   "metadata": {},
   "source": [
    "# Exercise 7 -- Communities in Netzwerken"
   ]
  },
  {
   "cell_type": "markdown",
   "metadata": {},
   "source": [
    "Rufen Sie sich das Netzwerk *karate* zurück in Erinnerung, indem Sie den folgenden Code ausführen."
   ]
  },
  {
   "cell_type": "code",
   "execution_count": null,
   "metadata": {},
   "outputs": [],
   "source": [
    "# {\"7\"}\n",
    "#Laden des Packages 'igraphdata'\n",
    "library(igraphdata)\n",
    "#Laden des igraph-Objektes karate\n",
    "data(karate)\n",
    "#Plotten des Graphen karate\n",
    "plot(x=karate)"
   ]
  }
 ],
 "metadata": {
  "interpreter": {
   "hash": "bed862baa169bd35b57b2a485b7961cf7d1bd32d9b549d4e10480d14566cc8ca"
  },
  "kernelspec": {
   "display_name": "Python 3.7.8 64-bit ('venv': venv)",
   "language": "python",
   "name": "python3"
  },
  "language_info": {
   "name": "python",
   "version": "3.7.8"
  },
  "orig_nbformat": 4
 },
 "nbformat": 4,
 "nbformat_minor": 2
}
