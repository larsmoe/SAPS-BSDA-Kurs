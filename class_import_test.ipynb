{
 "cells": [
  {
   "cell_type": "code",
   "execution_count": 3,
   "metadata": {},
   "outputs": [],
   "source": [
    "from teacher import Teacher\n",
    "import numpy as np\n",
    "import pandas as pd"
   ]
  },
  {
   "cell_type": "code",
   "execution_count": 4,
   "metadata": {},
   "outputs": [],
   "source": [
    "# import solutions\n",
    "solutions = pd.read_pickle('solutions.pkl')\n",
    "\n",
    "# create instance of teacher class\n",
    "Teacher = Teacher(solutions=solutions)"
   ]
  },
  {
   "cell_type": "code",
   "execution_count": 5,
   "metadata": {},
   "outputs": [
    {
     "name": "stdout",
     "output_type": "stream",
     "text": [
      "Numpy as a built in function for this\n"
     ]
    }
   ],
   "source": [
    "# get a hint by calling the hint method of the teacher class\n",
    "Teacher.hint(task=1, hint_number=1)"
   ]
  },
  {
   "cell_type": "code",
   "execution_count": 6,
   "metadata": {},
   "outputs": [],
   "source": [
    "#TASK 1: Create an array from 1 to 5 in steps of 1 and name it 'array_1to5'\n",
    "array_1to5 = np.arange(start=1, stop=6, step=1)"
   ]
  },
  {
   "cell_type": "code",
   "execution_count": 7,
   "metadata": {},
   "outputs": [
    {
     "name": "stdout",
     "output_type": "stream",
     "text": [
      "Your answer is correct :)\n"
     ]
    }
   ],
   "source": [
    "# check your results by calling the check function\n",
    "Teacher.check(task=1, answer=array_1to5)"
   ]
  }
 ],
 "metadata": {
  "interpreter": {
   "hash": "10a8eb115b09bdbd6c7631d731335dfcaee8f0adfd9a993fb551a7cf535d459a"
  },
  "kernelspec": {
   "name": "python3",
   "language": "python",
   "display_name": "Python 3"
  },
  "language_info": {
   "codemirror_mode": {
    "name": "ipython",
    "version": 3
   },
   "file_extension": ".py",
   "mimetype": "text/x-python",
   "name": "python",
   "nbconvert_exporter": "python",
   "pygments_lexer": "ipython3",
   "version": "3.7.8"
  },
  "orig_nbformat": 4
 },
 "nbformat": 4,
 "nbformat_minor": 2
}