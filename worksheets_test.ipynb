{
 "cells": [
  {
   "cell_type": "code",
   "execution_count": 6,
   "metadata": {},
   "outputs": [],
   "source": [
    "# import libraries\n",
    "import numpy as np\n",
    "import pandas as pd"
   ]
  },
  {
   "cell_type": "code",
   "execution_count": 7,
   "metadata": {},
   "outputs": [],
   "source": [
    "# create solutions\n",
    "# the worksheet the students receive would obviously not contain this cell\n",
    "solutions = pd.DataFrame({'Solution': [np.arange(start=1, stop=6, step=1)], \n",
    "'hint_1': 'Numpy as a built in function for this',\n",
    "'hint_2': 'Use numpy.arange()'})\n",
    "solutions.to_pickle('solutions.pkl')"
   ]
  },
  {
   "cell_type": "code",
   "execution_count": 9,
   "metadata": {},
   "outputs": [],
   "source": [
    "# import solutions\n",
    "solutions = pd.read_pickle('solutions.pkl')"
   ]
  },
  {
   "cell_type": "code",
   "execution_count": 10,
   "metadata": {},
   "outputs": [],
   "source": [
    "# QUESTION: Create an array from 1 to 5 in steps of 1 and name it 'array_1to5'\n",
    "array_1to5 = np.arange(start=1, stop=6, step=1)\n",
    "\n",
    "# if you can't solve it and need a hint, uncomment one of the following statements\n",
    "#print(solutions.hint_1.iloc[0])\n",
    "#print(solutions.hint_2.iloc[0])"
   ]
  },
  {
   "cell_type": "code",
   "execution_count": 11,
   "metadata": {},
   "outputs": [
    {
     "name": "stdout",
     "output_type": "stream",
     "text": [
      "Your answer is correct :)\n"
     ]
    }
   ],
   "source": [
    "# check your answer\n",
    "if (array_1to5==solutions.Solution.iloc[0]).all():\n",
    "    print('Your answer is correct :)')\n",
    "else:\n",
    "    print('Your answer is incorrect :(')"
   ]
  }
 ],
 "metadata": {
  "interpreter": {
   "hash": "10a8eb115b09bdbd6c7631d731335dfcaee8f0adfd9a993fb551a7cf535d459a"
  },
  "kernelspec": {
   "display_name": "Python 3",
   "language": "python",
   "name": "python3"
  },
  "language_info": {
   "codemirror_mode": {
    "name": "ipython",
    "version": 3
   },
   "file_extension": ".py",
   "mimetype": "text/x-python",
   "name": "python",
   "nbconvert_exporter": "python",
   "pygments_lexer": "ipython3",
   "version": "3.9.5"
  }
 },
 "nbformat": 4,
 "nbformat_minor": 2
}